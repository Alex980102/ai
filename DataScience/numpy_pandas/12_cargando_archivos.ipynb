{
 "cells": [
  {
   "cell_type": "code",
   "source": "import pandas as pd",
   "metadata": {
    "cell_id": "088b0aa398b547ed85fa963dc057fa69",
    "tags": [],
    "deepnote_to_be_reexecuted": false,
    "source_hash": "9b82ee11",
    "execution_start": 1654100914207,
    "execution_millis": 2,
    "deepnote_cell_type": "code",
    "deepnote_cell_height": 81
   },
   "outputs": [],
   "execution_count": null
  },
  {
   "cell_type": "code",
   "source": "df_books = pd.read_csv('https://static.platzi.com/media/public/uploads/bestsellers-with-categories_e591527f-ae45-4fa5-b0d1-d50142128fa6.csv', sep=',', header=0, names=['Name', 'Author', 'User-Rating', 'Reviews', 'Price', 'Year', 'Genre'])\ndf_books.columns",
   "metadata": {
    "cell_id": "bbe600c69cb24d35829f5970f935255e",
    "tags": [],
    "deepnote_to_be_reexecuted": false,
    "source_hash": "ad1a5aab",
    "execution_start": 1654100915735,
    "execution_millis": 76,
    "owner_user_id": "6b4a8dcb-83e3-48d8-857e-449aa20f64fc",
    "deepnote_cell_type": "code",
    "deepnote_cell_height": 136.1875,
    "deepnote_output_heights": [
     21.1875
    ]
   },
   "outputs": [
    {
     "output_type": "execute_result",
     "execution_count": 3,
     "data": {
      "text/plain": "Index(['Name', 'Author', 'User-Rating', 'Reviews', 'Price', 'Year', 'Genre'], dtype='object')"
     },
     "metadata": {}
    }
   ],
   "execution_count": null
  },
  {
   "cell_type": "code",
   "source": "pd.read_json('https://static.platzi.com/media/public/uploads/hpcharactersdataraw_3d934e85-dfa4-42ec-8520-fadfbecae574.json')",
   "metadata": {
    "cell_id": "911c25a2503f466594a0ff944cc91f02",
    "tags": [],
    "deepnote_to_be_reexecuted": false,
    "source_hash": "bdb4e09d",
    "execution_start": 1654098654223,
    "execution_millis": 157,
    "deepnote_cell_type": "code",
    "deepnote_cell_height": 600
   },
   "outputs": [
    {
     "output_type": "execute_result",
     "execution_count": 4,
     "data": {
      "application/vnd.deepnote.dataframe.v3+json": {
       "column_count": 8,
       "row_count": 1940,
       "columns": [
        {
         "name": "Name",
         "dtype": "object",
         "stats": {
          "unique_count": 1350,
          "nan_count": 0,
          "categories": [
           {
            "name": "Cornelius Agrippa",
            "count": 3
           },
           {
            "name": "Aunt Marge Dursley",
            "count": 3
           },
           {
            "name": "1348 others",
            "count": 1934
           }
          ]
         }
        },
        {
         "name": "Link",
         "dtype": "object",
         "stats": {
          "unique_count": 1350,
          "nan_count": 0,
          "categories": [
           {
            "name": "https://www.hp-lexicon.org/character/cornelius-agrippa/",
            "count": 3
           },
           {
            "name": "https://www.hp-lexicon.org/character/dursley-family/marjorie-dursley/",
            "count": 3
           },
           {
            "name": "1348 others",
            "count": 1934
           }
          ]
         }
        },
        {
         "name": "Descr",
         "dtype": "object",
         "stats": {
          "unique_count": 1179,
          "nan_count": 0,
          "categories": [
           {
            "name": "",
            "count": 173
           },
           {
            "name": "Heinrich Cornelius Agrippa von Nettesheim was scholar and author who wrote on many topics, including the occult. He appears on a Chocolate Frog trading card, which reads “celebrated wizard imprisoned by Muggles for his writing, because they thought his books were evil” (FW, PS6, CF). In September 1991, Ron… ",
            "count": 3
           },
           {
            "name": "1177 others",
            "count": 1764
           }
          ]
         }
        },
        {
         "name": "Gender",
         "dtype": "object",
         "stats": {
          "unique_count": 3,
          "nan_count": 0,
          "categories": [
           {
            "name": "Male",
            "count": 1205
           },
           {
            "name": "Female",
            "count": 606
           },
           {
            "name": "NaN",
            "count": 129
           }
          ]
         }
        },
        {
         "name": "Species/Race",
         "dtype": "object",
         "stats": {
          "unique_count": 78,
          "nan_count": 0,
          "categories": [
           {
            "name": "Wizard",
            "count": 889
           },
           {
            "name": "Witch",
            "count": 393
           },
           {
            "name": "76 others",
            "count": 658
           }
          ]
         }
        },
        {
         "name": "Blood",
         "dtype": "object",
         "stats": {
          "unique_count": 5,
          "nan_count": 0,
          "categories": [
           {
            "name": "Unknown",
            "count": 1529
           },
           {
            "name": "Pure blood",
            "count": 209
           },
           {
            "name": "3 others",
            "count": 202
           }
          ]
         }
        },
        {
         "name": "School",
         "dtype": "object",
         "stats": {
          "unique_count": 26,
          "nan_count": 0,
          "categories": [
           {
            "name": "Unknown",
            "count": 1515
           },
           {
            "name": "Hogwarts - Slytherin",
            "count": 75
           },
           {
            "name": "24 others",
            "count": 350
           }
          ]
         }
        },
        {
         "name": "Profession",
         "dtype": "object",
         "stats": {
          "unique_count": 363,
          "nan_count": 0,
          "categories": [
           {
            "name": "Unknown",
            "count": 982
           },
           {
            "name": "Quidditch player (Seeker)",
            "count": 43
           },
           {
            "name": "361 others",
            "count": 915
           }
          ]
         }
        },
        {
         "name": "_deepnote_index_column",
         "dtype": "int64"
        }
       ],
       "rows": [
        {
         "Name": "Mrs. Abbott",
         "Link": "https://www.hp-lexicon.org/character/abbott-family/mrs-abbott/",
         "Descr": "Mrs. Abbott was the mother of Hannah Abbott, a Hufflepuff in Harry’s year. Mrs. Abbott was found dead in the fall of 1996, having been murdered by Death Eaters (HBP11). ",
         "Gender": "Female",
         "Species/Race": "Witch",
         "Blood": "Muggle-born",
         "School": "Unknown",
         "Profession": "Unknown",
         "_deepnote_index_column": 0
        },
        {
         "Name": "Hannah Abbott",
         "Link": "https://www.hp-lexicon.org/character/abbott-family/hannah-abbott/",
         "Descr": "Hannah Abbott is a Hufflepuff student in Harry’s year at Hogwarts. A pink-faced blonde girl who wears her hair in pigtails (PS7), Hannah is a close friend of Ernie Macmillan (CS11, CS15), who shares her hobby of collecting chocolate frog cards (GF19). Both Hannah and… ",
         "Gender": "Female",
         "Species/Race": "Witch",
         "Blood": "Half-blood",
         "School": "Hogwarts - Hufflepuff",
         "Profession": "Landlady of the Leaky Cauldron",
         "_deepnote_index_column": 1
        },
        {
         "Name": "Abel Treetops",
         "Link": "https://www.hp-lexicon.org/character/abel-treetops/",
         "Descr": "Abel Treetops was a wizard from Cincinnati who said in 1832 that he had a patented approach for taming Wampus Cats so that they might be used as guards for wizarding homes. In actuality, Treetops was placing Engorgement Charms on Kneazles, which are tame and naturally hostile to suspicious and… ",
         "Gender": "Male",
         "Species/Race": "Wizard",
         "Blood": "Unknown",
         "School": "Unknown",
         "Profession": "Unknown",
         "_deepnote_index_column": 2
        },
        {
         "Name": "Euan Abercrombie",
         "Link": "https://www.hp-lexicon.org/character/abercrombie-euan/",
         "Descr": "Euan Abercrombie was a small boy with prominent ears; it’s implied that at the beginning of his first year that he believed the Daily Prophet‘s smear campaign against Harry (OP11). ",
         "Gender": "Male",
         "Species/Race": "Wizard",
         "Blood": "Unknown",
         "School": "Hogwarts - Gryffindor",
         "Profession": "Unknown",
         "_deepnote_index_column": 3
        },
        {
         "Name": "Aberforth Dumbledore",
         "Link": "https://www.hp-lexicon.org/character/dumbledore-family/aberforth-dumbledore/",
         "Descr": "Aberforth Dumbledore was a tall, thin, grumpy-looking old man with a great deal of long grey hair and a beard (OP16). Like his famous brother Albus, he wore glasses (HBP12) and had blue eyes (DH). Aberforth was the barkeep at the Hog’s Head in Hogsmeade (EBF) and was… ",
         "Gender": "Male",
         "Species/Race": "Wizard",
         "Blood": "Half-blood",
         "School": "Hogwarts - Student",
         "Profession": "Barman",
         "_deepnote_index_column": 4
        },
        {
         "Name": "Abernathy",
         "Link": "https://www.hp-lexicon.org/character/abernathy/",
         "Descr": "Abernathy was Tina Goldstein’s pompous boss in the wand permit office at MACUSA headquarters (WFT). ",
         "Gender": "Male",
         "Species/Race": "Wizard",
         "Blood": "Unknown",
         "School": "Unknown",
         "Profession": "MACUSA employee, then servant of Grindelwald",
         "_deepnote_index_column": 5
        },
        {
         "Name": "Abraham Peasegood",
         "Link": "https://www.hp-lexicon.org/character/abraham-peasegood/",
         "Descr": "Abraham Peasegood was an American wizard who invented the game of Quodpot (QA8). Peasegood immigrated to North America in the 1700s, intending to form a Quidditch team when he got there. The story goes that the Quaffle he had packed in his luggage came into contact with… ",
         "Gender": "Male",
         "Species/Race": "Wizard",
         "Blood": "Unknown",
         "School": "Unknown",
         "Profession": "Unknown",
         "_deepnote_index_column": 6
        },
        {
         "Name": "Abraham Potter",
         "Link": "https://www.hp-lexicon.org/character/potter-family/abraham-potter/",
         "Descr": "Abraham Potter was one of MACUSA’s original twelve aurors (Pm). ",
         "Gender": "Male",
         "Species/Race": "Wizard",
         "Blood": "Unknown",
         "School": "Unknown",
         "Profession": "Auror",
         "_deepnote_index_column": 7
        },
        {
         "Name": "Abraxas Malfoy",
         "Link": "https://www.hp-lexicon.org/character/malfoy-family/abraxas-malfoy/",
         "Descr": "Abraxas Malfoy was a wizard who was believed to be involved in a plot which led to the first Muggle-born Minister for Magic, Nobby Leach, leaving office owing to a mysterious illness (Pm). Abraxas died of Dragon Pox (HBP9). ",
         "Gender": "Male",
         "Species/Race": "Wizard",
         "Blood": "Pure blood",
         "School": "Unknown",
         "Profession": "Unknown",
         "_deepnote_index_column": 8
        },
        {
         "Name": "Achilles Tolliver",
         "Link": "https://www.hp-lexicon.org/character/achilles-tolliver/",
         "Descr": "Achilles Tolliver was an Auror whom Tina Goldstein dated after she read the (erroneous) magazine headline announcing that Newt was going to marry Leta Lestrange (CG). ",
         "Gender": "Male",
         "Species/Race": "Wizard",
         "Blood": "Unknown",
         "School": "Unknown",
         "Profession": "Auror",
         "_deepnote_index_column": 9
        }
       ]
      },
      "text/plain": "                      Name                                               Link  \\\n0              Mrs. Abbott  https://www.hp-lexicon.org/character/abbott-fa...   \n1            Hannah Abbott  https://www.hp-lexicon.org/character/abbott-fa...   \n2            Abel Treetops  https://www.hp-lexicon.org/character/abel-tree...   \n3         Euan Abercrombie  https://www.hp-lexicon.org/character/abercromb...   \n4     Aberforth Dumbledore  https://www.hp-lexicon.org/character/dumbledor...   \n...                    ...                                                ...   \n1935        Georgi Zdravko  https://www.hp-lexicon.org/character/georgi-zd...   \n1936                Zograf       https://www.hp-lexicon.org/character/zograf/   \n1937                 Zonko        https://www.hp-lexicon.org/character/zonko/   \n1938     Valentina Vázquez  https://www.hp-lexicon.org/character/valentina...   \n1939         Zygmunt Budge  https://www.hp-lexicon.org/character/zygmunt-b...   \n\n                                                  Descr  Gender Species/Race  \\\n0     Mrs. Abbott was the mother of Hannah Abbott, a...  Female        Witch   \n1     Hannah Abbott is a Hufflepuff student in Harry...  Female        Witch   \n2     Abel Treetops was a wizard from Cincinnati who...    Male       Wizard   \n3     Euan Abercrombie was a small boy with prominen...    Male       Wizard   \n4     Aberforth Dumbledore was a tall, thin, grumpy-...    Male       Wizard   \n...                                                 ...     ...          ...   \n1935  Georgi Zdravko played Keeper for the Bulgarian...    Male       Wizard   \n1936  Zograf played Keeper for the Bulgarian Nationa...     NaN       Wizard   \n1937  Founder(?) of Zonko’s Joke Shop. Possibly a re...     NaN      Unknown   \n1938  Valentina Vázquez was President of the Argenti...  Female        Witch   \n1939  Zygmunt Budge is considered to be one of the m...    Male       Wizard   \n\n            Blood                 School  \\\n0     Muggle-born                Unknown   \n1      Half-blood  Hogwarts - Hufflepuff   \n2         Unknown                Unknown   \n3         Unknown  Hogwarts - Gryffindor   \n4      Half-blood     Hogwarts - Student   \n...           ...                    ...   \n1935      Unknown                Unknown   \n1936      Unknown                Unknown   \n1937      Unknown                Unknown   \n1938      Unknown                Unknown   \n1939      Unknown     Hogwarts - Student   \n\n                                         Profession  \n0                                           Unknown  \n1                    Landlady of the Leaky Cauldron  \n2                                           Unknown  \n3                                           Unknown  \n4                                            Barman  \n...                                             ...  \n1935                      Quidditch player (Seeker)  \n1936                      Quidditch player (Keeper)  \n1937                                        Unknown  \n1938  President of the Argentinian Council of Magic  \n1939    Potions Master, Potioneer, Inventor, Author  \n\n[1940 rows x 8 columns]",
      "text/html": "<div>\n<style scoped>\n    .dataframe tbody tr th:only-of-type {\n        vertical-align: middle;\n    }\n\n    .dataframe tbody tr th {\n        vertical-align: top;\n    }\n\n    .dataframe thead th {\n        text-align: right;\n    }\n</style>\n<table border=\"1\" class=\"dataframe\">\n  <thead>\n    <tr style=\"text-align: right;\">\n      <th></th>\n      <th>Name</th>\n      <th>Link</th>\n      <th>Descr</th>\n      <th>Gender</th>\n      <th>Species/Race</th>\n      <th>Blood</th>\n      <th>School</th>\n      <th>Profession</th>\n    </tr>\n  </thead>\n  <tbody>\n    <tr>\n      <th>0</th>\n      <td>Mrs. Abbott</td>\n      <td>https://www.hp-lexicon.org/character/abbott-fa...</td>\n      <td>Mrs. Abbott was the mother of Hannah Abbott, a...</td>\n      <td>Female</td>\n      <td>Witch</td>\n      <td>Muggle-born</td>\n      <td>Unknown</td>\n      <td>Unknown</td>\n    </tr>\n    <tr>\n      <th>1</th>\n      <td>Hannah Abbott</td>\n      <td>https://www.hp-lexicon.org/character/abbott-fa...</td>\n      <td>Hannah Abbott is a Hufflepuff student in Harry...</td>\n      <td>Female</td>\n      <td>Witch</td>\n      <td>Half-blood</td>\n      <td>Hogwarts - Hufflepuff</td>\n      <td>Landlady of the Leaky Cauldron</td>\n    </tr>\n    <tr>\n      <th>2</th>\n      <td>Abel Treetops</td>\n      <td>https://www.hp-lexicon.org/character/abel-tree...</td>\n      <td>Abel Treetops was a wizard from Cincinnati who...</td>\n      <td>Male</td>\n      <td>Wizard</td>\n      <td>Unknown</td>\n      <td>Unknown</td>\n      <td>Unknown</td>\n    </tr>\n    <tr>\n      <th>3</th>\n      <td>Euan Abercrombie</td>\n      <td>https://www.hp-lexicon.org/character/abercromb...</td>\n      <td>Euan Abercrombie was a small boy with prominen...</td>\n      <td>Male</td>\n      <td>Wizard</td>\n      <td>Unknown</td>\n      <td>Hogwarts - Gryffindor</td>\n      <td>Unknown</td>\n    </tr>\n    <tr>\n      <th>4</th>\n      <td>Aberforth Dumbledore</td>\n      <td>https://www.hp-lexicon.org/character/dumbledor...</td>\n      <td>Aberforth Dumbledore was a tall, thin, grumpy-...</td>\n      <td>Male</td>\n      <td>Wizard</td>\n      <td>Half-blood</td>\n      <td>Hogwarts - Student</td>\n      <td>Barman</td>\n    </tr>\n    <tr>\n      <th>...</th>\n      <td>...</td>\n      <td>...</td>\n      <td>...</td>\n      <td>...</td>\n      <td>...</td>\n      <td>...</td>\n      <td>...</td>\n      <td>...</td>\n    </tr>\n    <tr>\n      <th>1935</th>\n      <td>Georgi Zdravko</td>\n      <td>https://www.hp-lexicon.org/character/georgi-zd...</td>\n      <td>Georgi Zdravko played Keeper for the Bulgarian...</td>\n      <td>Male</td>\n      <td>Wizard</td>\n      <td>Unknown</td>\n      <td>Unknown</td>\n      <td>Quidditch player (Seeker)</td>\n    </tr>\n    <tr>\n      <th>1936</th>\n      <td>Zograf</td>\n      <td>https://www.hp-lexicon.org/character/zograf/</td>\n      <td>Zograf played Keeper for the Bulgarian Nationa...</td>\n      <td>NaN</td>\n      <td>Wizard</td>\n      <td>Unknown</td>\n      <td>Unknown</td>\n      <td>Quidditch player (Keeper)</td>\n    </tr>\n    <tr>\n      <th>1937</th>\n      <td>Zonko</td>\n      <td>https://www.hp-lexicon.org/character/zonko/</td>\n      <td>Founder(?) of Zonko’s Joke Shop. Possibly a re...</td>\n      <td>NaN</td>\n      <td>Unknown</td>\n      <td>Unknown</td>\n      <td>Unknown</td>\n      <td>Unknown</td>\n    </tr>\n    <tr>\n      <th>1938</th>\n      <td>Valentina Vázquez</td>\n      <td>https://www.hp-lexicon.org/character/valentina...</td>\n      <td>Valentina Vázquez was President of the Argenti...</td>\n      <td>Female</td>\n      <td>Witch</td>\n      <td>Unknown</td>\n      <td>Unknown</td>\n      <td>President of the Argentinian Council of Magic</td>\n    </tr>\n    <tr>\n      <th>1939</th>\n      <td>Zygmunt Budge</td>\n      <td>https://www.hp-lexicon.org/character/zygmunt-b...</td>\n      <td>Zygmunt Budge is considered to be one of the m...</td>\n      <td>Male</td>\n      <td>Wizard</td>\n      <td>Unknown</td>\n      <td>Hogwarts - Student</td>\n      <td>Potions Master, Potioneer, Inventor, Author</td>\n    </tr>\n  </tbody>\n</table>\n<p>1940 rows × 8 columns</p>\n</div>"
     },
     "metadata": {}
    }
   ],
   "execution_count": null
  },
  {
   "cell_type": "code",
   "source": "pd.read_json('https://static.platzi.com/media/public/uploads/hpcharactersdataraw_3d934e85-dfa4-42ec-8520-fadfbecae574.json', typ='Series')",
   "metadata": {
    "cell_id": "a21dd3a22a724b64b46b3a306c5ec2d9",
    "tags": [],
    "deepnote_to_be_reexecuted": false,
    "source_hash": "59a0a127",
    "execution_start": 1654101079596,
    "execution_millis": 742,
    "deepnote_cell_type": "code",
    "deepnote_cell_height": 329.25,
    "deepnote_output_heights": [
     232.25
    ]
   },
   "outputs": [
    {
     "output_type": "execute_result",
     "execution_count": 5,
     "data": {
      "text/plain": "0       {'Name': 'Mrs. Abbott', 'Link': 'https://www.h...\n1       {'Name': 'Hannah Abbott', 'Link': 'https://www...\n2       {'Name': 'Abel Treetops', 'Link': 'https://www...\n3       {'Name': 'Euan Abercrombie', 'Link': 'https://...\n4       {'Name': 'Aberforth Dumbledore', 'Link': 'http...\n                              ...                        \n1935    {'Name': 'Georgi Zdravko', 'Link': 'https://ww...\n1936    {'Name': 'Zograf', 'Link': 'https://www.hp-lex...\n1937    {'Name': 'Zonko', 'Link': 'https://www.hp-lexi...\n1938    {'Name': 'Valentina Vázquez', 'Link': 'https:/...\n1939    {'Name': 'Zygmunt Budge', 'Link': 'https://www...\nLength: 1940, dtype: object"
     },
     "metadata": {}
    }
   ],
   "execution_count": null
  },
  {
   "cell_type": "code",
   "source": "df_books[0:4]",
   "metadata": {
    "cell_id": "a27889aaf6db400aa92d5cfd04254c06",
    "tags": [],
    "deepnote_to_be_reexecuted": false,
    "source_hash": "eb202b73",
    "execution_start": 1654101196157,
    "execution_millis": 30,
    "deepnote_cell_type": "code",
    "deepnote_cell_height": 354
   },
   "outputs": [
    {
     "output_type": "execute_result",
     "execution_count": 6,
     "data": {
      "application/vnd.deepnote.dataframe.v3+json": {
       "column_count": 7,
       "row_count": 4,
       "columns": [
        {
         "name": "Name",
         "dtype": "object",
         "stats": {
          "unique_count": 4,
          "nan_count": 0,
          "categories": [
           {
            "name": "10-Day Green Smoothie Cleanse",
            "count": 1
           },
           {
            "name": "11/22/63: A Novel",
            "count": 1
           },
           {
            "name": "2 others",
            "count": 2
           }
          ]
         }
        },
        {
         "name": "Author",
         "dtype": "object",
         "stats": {
          "unique_count": 4,
          "nan_count": 0,
          "categories": [
           {
            "name": "JJ Smith",
            "count": 1
           },
           {
            "name": "Stephen King",
            "count": 1
           },
           {
            "name": "2 others",
            "count": 2
           }
          ]
         }
        },
        {
         "name": "User-Rating",
         "dtype": "float64",
         "stats": {
          "unique_count": 2,
          "nan_count": 0,
          "min": "4.6",
          "max": "4.7",
          "histogram": [
           {
            "bin_start": 4.6,
            "bin_end": 4.609999999999999,
            "count": 1
           },
           {
            "bin_start": 4.609999999999999,
            "bin_end": 4.62,
            "count": 0
           },
           {
            "bin_start": 4.62,
            "bin_end": 4.63,
            "count": 0
           },
           {
            "bin_start": 4.63,
            "bin_end": 4.64,
            "count": 0
           },
           {
            "bin_start": 4.64,
            "bin_end": 4.65,
            "count": 0
           },
           {
            "bin_start": 4.65,
            "bin_end": 4.66,
            "count": 0
           },
           {
            "bin_start": 4.66,
            "bin_end": 4.67,
            "count": 0
           },
           {
            "bin_start": 4.67,
            "bin_end": 4.68,
            "count": 0
           },
           {
            "bin_start": 4.68,
            "bin_end": 4.69,
            "count": 0
           },
           {
            "bin_start": 4.69,
            "bin_end": 4.7,
            "count": 3
           }
          ]
         }
        },
        {
         "name": "Reviews",
         "dtype": "int64",
         "stats": {
          "unique_count": 4,
          "nan_count": 0,
          "min": "2052",
          "max": "21424",
          "histogram": [
           {
            "bin_start": 2052,
            "bin_end": 3989.2,
            "count": 1
           },
           {
            "bin_start": 3989.2,
            "bin_end": 5926.4,
            "count": 0
           },
           {
            "bin_start": 5926.4,
            "bin_end": 7863.6,
            "count": 0
           },
           {
            "bin_start": 7863.6,
            "bin_end": 9800.8,
            "count": 0
           },
           {
            "bin_start": 9800.8,
            "bin_end": 11738,
            "count": 0
           },
           {
            "bin_start": 11738,
            "bin_end": 13675.2,
            "count": 0
           },
           {
            "bin_start": 13675.2,
            "bin_end": 15612.4,
            "count": 0
           },
           {
            "bin_start": 15612.4,
            "bin_end": 17549.6,
            "count": 1
           },
           {
            "bin_start": 17549.6,
            "bin_end": 19486.8,
            "count": 1
           },
           {
            "bin_start": 19486.8,
            "bin_end": 21424,
            "count": 1
           }
          ]
         }
        },
        {
         "name": "Price",
         "dtype": "int64",
         "stats": {
          "unique_count": 4,
          "nan_count": 0,
          "min": "6",
          "max": "22",
          "histogram": [
           {
            "bin_start": 6,
            "bin_end": 7.6,
            "count": 1
           },
           {
            "bin_start": 7.6,
            "bin_end": 9.2,
            "count": 1
           },
           {
            "bin_start": 9.2,
            "bin_end": 10.8,
            "count": 0
           },
           {
            "bin_start": 10.8,
            "bin_end": 12.4,
            "count": 0
           },
           {
            "bin_start": 12.4,
            "bin_end": 14,
            "count": 0
           },
           {
            "bin_start": 14,
            "bin_end": 15.600000000000001,
            "count": 1
           },
           {
            "bin_start": 15.600000000000001,
            "bin_end": 17.200000000000003,
            "count": 0
           },
           {
            "bin_start": 17.200000000000003,
            "bin_end": 18.8,
            "count": 0
           },
           {
            "bin_start": 18.8,
            "bin_end": 20.4,
            "count": 0
           },
           {
            "bin_start": 20.4,
            "bin_end": 22,
            "count": 1
           }
          ]
         }
        },
        {
         "name": "Year",
         "dtype": "int64",
         "stats": {
          "unique_count": 4,
          "nan_count": 0,
          "min": "2011",
          "max": "2018",
          "histogram": [
           {
            "bin_start": 2011,
            "bin_end": 2011.7,
            "count": 1
           },
           {
            "bin_start": 2011.7,
            "bin_end": 2012.4,
            "count": 0
           },
           {
            "bin_start": 2012.4,
            "bin_end": 2013.1,
            "count": 0
           },
           {
            "bin_start": 2013.1,
            "bin_end": 2013.8,
            "count": 0
           },
           {
            "bin_start": 2013.8,
            "bin_end": 2014.5,
            "count": 0
           },
           {
            "bin_start": 2014.5,
            "bin_end": 2015.2,
            "count": 0
           },
           {
            "bin_start": 2015.2,
            "bin_end": 2015.9,
            "count": 0
           },
           {
            "bin_start": 2015.9,
            "bin_end": 2016.6,
            "count": 1
           },
           {
            "bin_start": 2016.6,
            "bin_end": 2017.3,
            "count": 1
           },
           {
            "bin_start": 2017.3,
            "bin_end": 2018,
            "count": 1
           }
          ]
         }
        },
        {
         "name": "Genre",
         "dtype": "object",
         "stats": {
          "unique_count": 2,
          "nan_count": 0,
          "categories": [
           {
            "name": "Non Fiction",
            "count": 2
           },
           {
            "name": "Fiction",
            "count": 2
           }
          ]
         }
        },
        {
         "name": "_deepnote_index_column",
         "dtype": "int64"
        }
       ],
       "rows": [
        {
         "Name": "10-Day Green Smoothie Cleanse",
         "Author": "JJ Smith",
         "User-Rating": 4.7,
         "Reviews": 17350,
         "Price": 8,
         "Year": 2016,
         "Genre": "Non Fiction",
         "_deepnote_index_column": 0
        },
        {
         "Name": "11/22/63: A Novel",
         "Author": "Stephen King",
         "User-Rating": 4.6,
         "Reviews": 2052,
         "Price": 22,
         "Year": 2011,
         "Genre": "Fiction",
         "_deepnote_index_column": 1
        },
        {
         "Name": "12 Rules for Life: An Antidote to Chaos",
         "Author": "Jordan B. Peterson",
         "User-Rating": 4.7,
         "Reviews": 18979,
         "Price": 15,
         "Year": 2018,
         "Genre": "Non Fiction",
         "_deepnote_index_column": 2
        },
        {
         "Name": "1984 (Signet Classics)",
         "Author": "George Orwell",
         "User-Rating": 4.7,
         "Reviews": 21424,
         "Price": 6,
         "Year": 2017,
         "Genre": "Fiction",
         "_deepnote_index_column": 3
        }
       ]
      },
      "text/plain": "                                      Name              Author  User-Rating  \\\n0            10-Day Green Smoothie Cleanse            JJ Smith          4.7   \n1                        11/22/63: A Novel        Stephen King          4.6   \n2  12 Rules for Life: An Antidote to Chaos  Jordan B. Peterson          4.7   \n3                   1984 (Signet Classics)       George Orwell          4.7   \n\n   Reviews  Price  Year        Genre  \n0    17350      8  2016  Non Fiction  \n1     2052     22  2011      Fiction  \n2    18979     15  2018  Non Fiction  \n3    21424      6  2017      Fiction  ",
      "text/html": "<div>\n<style scoped>\n    .dataframe tbody tr th:only-of-type {\n        vertical-align: middle;\n    }\n\n    .dataframe tbody tr th {\n        vertical-align: top;\n    }\n\n    .dataframe thead th {\n        text-align: right;\n    }\n</style>\n<table border=\"1\" class=\"dataframe\">\n  <thead>\n    <tr style=\"text-align: right;\">\n      <th></th>\n      <th>Name</th>\n      <th>Author</th>\n      <th>User-Rating</th>\n      <th>Reviews</th>\n      <th>Price</th>\n      <th>Year</th>\n      <th>Genre</th>\n    </tr>\n  </thead>\n  <tbody>\n    <tr>\n      <th>0</th>\n      <td>10-Day Green Smoothie Cleanse</td>\n      <td>JJ Smith</td>\n      <td>4.7</td>\n      <td>17350</td>\n      <td>8</td>\n      <td>2016</td>\n      <td>Non Fiction</td>\n    </tr>\n    <tr>\n      <th>1</th>\n      <td>11/22/63: A Novel</td>\n      <td>Stephen King</td>\n      <td>4.6</td>\n      <td>2052</td>\n      <td>22</td>\n      <td>2011</td>\n      <td>Fiction</td>\n    </tr>\n    <tr>\n      <th>2</th>\n      <td>12 Rules for Life: An Antidote to Chaos</td>\n      <td>Jordan B. Peterson</td>\n      <td>4.7</td>\n      <td>18979</td>\n      <td>15</td>\n      <td>2018</td>\n      <td>Non Fiction</td>\n    </tr>\n    <tr>\n      <th>3</th>\n      <td>1984 (Signet Classics)</td>\n      <td>George Orwell</td>\n      <td>4.7</td>\n      <td>21424</td>\n      <td>6</td>\n      <td>2017</td>\n      <td>Fiction</td>\n    </tr>\n  </tbody>\n</table>\n</div>"
     },
     "metadata": {}
    }
   ],
   "execution_count": null
  },
  {
   "cell_type": "code",
   "source": "df_books[['Name', 'Author', 'Year']]",
   "metadata": {
    "cell_id": "397cc001111943b6b496ff5a505d416d",
    "tags": [],
    "deepnote_to_be_reexecuted": false,
    "source_hash": "2ada351f",
    "execution_start": 1654101278036,
    "execution_millis": 29,
    "deepnote_cell_type": "code",
    "deepnote_cell_height": 600,
    "deepnote_output_heights": [
     232.25
    ]
   },
   "outputs": [
    {
     "output_type": "execute_result",
     "execution_count": 11,
     "data": {
      "application/vnd.deepnote.dataframe.v3+json": {
       "column_count": 3,
       "row_count": 550,
       "columns": [
        {
         "name": "Name",
         "dtype": "object",
         "stats": {
          "unique_count": 351,
          "nan_count": 0,
          "categories": [
           {
            "name": "Publication Manual of the American Psychological Association, 6th Edition",
            "count": 10
           },
           {
            "name": "StrengthsFinder 2.0",
            "count": 9
           },
           {
            "name": "349 others",
            "count": 531
           }
          ]
         }
        },
        {
         "name": "Author",
         "dtype": "object",
         "stats": {
          "unique_count": 248,
          "nan_count": 0,
          "categories": [
           {
            "name": "Jeff Kinney",
            "count": 12
           },
           {
            "name": "Suzanne Collins",
            "count": 11
           },
           {
            "name": "246 others",
            "count": 527
           }
          ]
         }
        },
        {
         "name": "Year",
         "dtype": "int64",
         "stats": {
          "unique_count": 11,
          "nan_count": 0,
          "min": "2009",
          "max": "2019",
          "histogram": [
           {
            "bin_start": 2009,
            "bin_end": 2010,
            "count": 50
           },
           {
            "bin_start": 2010,
            "bin_end": 2011,
            "count": 50
           },
           {
            "bin_start": 2011,
            "bin_end": 2012,
            "count": 50
           },
           {
            "bin_start": 2012,
            "bin_end": 2013,
            "count": 50
           },
           {
            "bin_start": 2013,
            "bin_end": 2014,
            "count": 50
           },
           {
            "bin_start": 2014,
            "bin_end": 2015,
            "count": 50
           },
           {
            "bin_start": 2015,
            "bin_end": 2016,
            "count": 50
           },
           {
            "bin_start": 2016,
            "bin_end": 2017,
            "count": 50
           },
           {
            "bin_start": 2017,
            "bin_end": 2018,
            "count": 50
           },
           {
            "bin_start": 2018,
            "bin_end": 2019,
            "count": 100
           }
          ]
         }
        },
        {
         "name": "_deepnote_index_column",
         "dtype": "int64"
        }
       ],
       "rows": [
        {
         "Name": "10-Day Green Smoothie Cleanse",
         "Author": "JJ Smith",
         "Year": 2016,
         "_deepnote_index_column": 0
        },
        {
         "Name": "11/22/63: A Novel",
         "Author": "Stephen King",
         "Year": 2011,
         "_deepnote_index_column": 1
        },
        {
         "Name": "12 Rules for Life: An Antidote to Chaos",
         "Author": "Jordan B. Peterson",
         "Year": 2018,
         "_deepnote_index_column": 2
        },
        {
         "Name": "1984 (Signet Classics)",
         "Author": "George Orwell",
         "Year": 2017,
         "_deepnote_index_column": 3
        },
        {
         "Name": "5,000 Awesome Facts (About Everything!) (National Geographic Kids)",
         "Author": "National Geographic Kids",
         "Year": 2019,
         "_deepnote_index_column": 4
        },
        {
         "Name": "A Dance with Dragons (A Song of Ice and Fire)",
         "Author": "George R. R. Martin",
         "Year": 2011,
         "_deepnote_index_column": 5
        },
        {
         "Name": "A Game of Thrones / A Clash of Kings / A Storm of Swords / A Feast of Crows / A Dance with Dragons",
         "Author": "George R. R. Martin",
         "Year": 2014,
         "_deepnote_index_column": 6
        },
        {
         "Name": "A Gentleman in Moscow: A Novel",
         "Author": "Amor Towles",
         "Year": 2017,
         "_deepnote_index_column": 7
        },
        {
         "Name": "A Higher Loyalty: Truth, Lies, and Leadership",
         "Author": "James Comey",
         "Year": 2018,
         "_deepnote_index_column": 8
        },
        {
         "Name": "A Man Called Ove: A Novel",
         "Author": "Fredrik Backman",
         "Year": 2016,
         "_deepnote_index_column": 9
        }
       ]
      },
      "text/plain": "                                                  Name  \\\n0                        10-Day Green Smoothie Cleanse   \n1                                    11/22/63: A Novel   \n2              12 Rules for Life: An Antidote to Chaos   \n3                               1984 (Signet Classics)   \n4    5,000 Awesome Facts (About Everything!) (Natio...   \n..                                                 ...   \n545       Wrecking Ball (Diary of a Wimpy Kid Book 14)   \n546  You Are a Badass: How to Stop Doubting Your Gr...   \n547  You Are a Badass: How to Stop Doubting Your Gr...   \n548  You Are a Badass: How to Stop Doubting Your Gr...   \n549  You Are a Badass: How to Stop Doubting Your Gr...   \n\n                       Author  Year  \n0                    JJ Smith  2016  \n1                Stephen King  2011  \n2          Jordan B. Peterson  2018  \n3               George Orwell  2017  \n4    National Geographic Kids  2019  \n..                        ...   ...  \n545               Jeff Kinney  2019  \n546               Jen Sincero  2016  \n547               Jen Sincero  2017  \n548               Jen Sincero  2018  \n549               Jen Sincero  2019  \n\n[550 rows x 3 columns]",
      "text/html": "<div>\n<style scoped>\n    .dataframe tbody tr th:only-of-type {\n        vertical-align: middle;\n    }\n\n    .dataframe tbody tr th {\n        vertical-align: top;\n    }\n\n    .dataframe thead th {\n        text-align: right;\n    }\n</style>\n<table border=\"1\" class=\"dataframe\">\n  <thead>\n    <tr style=\"text-align: right;\">\n      <th></th>\n      <th>Name</th>\n      <th>Author</th>\n      <th>Year</th>\n    </tr>\n  </thead>\n  <tbody>\n    <tr>\n      <th>0</th>\n      <td>10-Day Green Smoothie Cleanse</td>\n      <td>JJ Smith</td>\n      <td>2016</td>\n    </tr>\n    <tr>\n      <th>1</th>\n      <td>11/22/63: A Novel</td>\n      <td>Stephen King</td>\n      <td>2011</td>\n    </tr>\n    <tr>\n      <th>2</th>\n      <td>12 Rules for Life: An Antidote to Chaos</td>\n      <td>Jordan B. Peterson</td>\n      <td>2018</td>\n    </tr>\n    <tr>\n      <th>3</th>\n      <td>1984 (Signet Classics)</td>\n      <td>George Orwell</td>\n      <td>2017</td>\n    </tr>\n    <tr>\n      <th>4</th>\n      <td>5,000 Awesome Facts (About Everything!) (Natio...</td>\n      <td>National Geographic Kids</td>\n      <td>2019</td>\n    </tr>\n    <tr>\n      <th>...</th>\n      <td>...</td>\n      <td>...</td>\n      <td>...</td>\n    </tr>\n    <tr>\n      <th>545</th>\n      <td>Wrecking Ball (Diary of a Wimpy Kid Book 14)</td>\n      <td>Jeff Kinney</td>\n      <td>2019</td>\n    </tr>\n    <tr>\n      <th>546</th>\n      <td>You Are a Badass: How to Stop Doubting Your Gr...</td>\n      <td>Jen Sincero</td>\n      <td>2016</td>\n    </tr>\n    <tr>\n      <th>547</th>\n      <td>You Are a Badass: How to Stop Doubting Your Gr...</td>\n      <td>Jen Sincero</td>\n      <td>2017</td>\n    </tr>\n    <tr>\n      <th>548</th>\n      <td>You Are a Badass: How to Stop Doubting Your Gr...</td>\n      <td>Jen Sincero</td>\n      <td>2018</td>\n    </tr>\n    <tr>\n      <th>549</th>\n      <td>You Are a Badass: How to Stop Doubting Your Gr...</td>\n      <td>Jen Sincero</td>\n      <td>2019</td>\n    </tr>\n  </tbody>\n</table>\n<p>550 rows × 3 columns</p>\n</div>"
     },
     "metadata": {}
    }
   ],
   "execution_count": null
  },
  {
   "cell_type": "markdown",
   "source": "## Loc",
   "metadata": {
    "cell_id": "e445686a58b64932a24ebc72a7726e39",
    "tags": [],
    "deepnote_cell_type": "markdown",
    "deepnote_cell_height": 70
   }
  },
  {
   "cell_type": "code",
   "source": "df_books.loc[:]",
   "metadata": {
    "cell_id": "c80c021a56a24ed28b09d0405c94bf82",
    "tags": [],
    "deepnote_to_be_reexecuted": false,
    "source_hash": "29ed1236",
    "execution_start": 1654101315773,
    "execution_millis": 30,
    "deepnote_cell_type": "code",
    "deepnote_cell_height": 600
   },
   "outputs": [
    {
     "output_type": "execute_result",
     "execution_count": 12,
     "data": {
      "application/vnd.deepnote.dataframe.v3+json": {
       "column_count": 7,
       "row_count": 550,
       "columns": [
        {
         "name": "Name",
         "dtype": "object",
         "stats": {
          "unique_count": 351,
          "nan_count": 0,
          "categories": [
           {
            "name": "Publication Manual of the American Psychological Association, 6th Edition",
            "count": 10
           },
           {
            "name": "StrengthsFinder 2.0",
            "count": 9
           },
           {
            "name": "349 others",
            "count": 531
           }
          ]
         }
        },
        {
         "name": "Author",
         "dtype": "object",
         "stats": {
          "unique_count": 248,
          "nan_count": 0,
          "categories": [
           {
            "name": "Jeff Kinney",
            "count": 12
           },
           {
            "name": "Suzanne Collins",
            "count": 11
           },
           {
            "name": "246 others",
            "count": 527
           }
          ]
         }
        },
        {
         "name": "User-Rating",
         "dtype": "float64",
         "stats": {
          "unique_count": 14,
          "nan_count": 0,
          "min": "3.3",
          "max": "4.9",
          "histogram": [
           {
            "bin_start": 3.3,
            "bin_end": 3.46,
            "count": 1
           },
           {
            "bin_start": 3.46,
            "bin_end": 3.62,
            "count": 1
           },
           {
            "bin_start": 3.62,
            "bin_end": 3.7800000000000002,
            "count": 0
           },
           {
            "bin_start": 3.7800000000000002,
            "bin_end": 3.94,
            "count": 5
           },
           {
            "bin_start": 3.94,
            "bin_end": 4.1,
            "count": 14
           },
           {
            "bin_start": 4.1,
            "bin_end": 4.26,
            "count": 14
           },
           {
            "bin_start": 4.26,
            "bin_end": 4.42,
            "count": 63
           },
           {
            "bin_start": 4.42,
            "bin_end": 4.58,
            "count": 60
           },
           {
            "bin_start": 4.58,
            "bin_end": 4.74,
            "count": 213
           },
           {
            "bin_start": 4.74,
            "bin_end": 4.9,
            "count": 179
           }
          ]
         }
        },
        {
         "name": "Reviews",
         "dtype": "int64",
         "stats": {
          "unique_count": 346,
          "nan_count": 0,
          "min": "37",
          "max": "87841",
          "histogram": [
           {
            "bin_start": 37,
            "bin_end": 8817.4,
            "count": 287
           },
           {
            "bin_start": 8817.4,
            "bin_end": 17597.8,
            "count": 131
           },
           {
            "bin_start": 17597.8,
            "bin_end": 26378.199999999997,
            "count": 87
           },
           {
            "bin_start": 26378.199999999997,
            "bin_end": 35158.6,
            "count": 25
           },
           {
            "bin_start": 35158.6,
            "bin_end": 43939,
            "count": 4
           },
           {
            "bin_start": 43939,
            "bin_end": 52719.399999999994,
            "count": 8
           },
           {
            "bin_start": 52719.399999999994,
            "bin_end": 61499.799999999996,
            "count": 5
           },
           {
            "bin_start": 61499.799999999996,
            "bin_end": 70280.2,
            "count": 0
           },
           {
            "bin_start": 70280.2,
            "bin_end": 79060.59999999999,
            "count": 0
           },
           {
            "bin_start": 79060.59999999999,
            "bin_end": 87841,
            "count": 3
           }
          ]
         }
        },
        {
         "name": "Price",
         "dtype": "int64",
         "stats": {
          "unique_count": 40,
          "nan_count": 0,
          "min": "0",
          "max": "105",
          "histogram": [
           {
            "bin_start": 0,
            "bin_end": 10.5,
            "count": 266
           },
           {
            "bin_start": 10.5,
            "bin_end": 21,
            "count": 216
           },
           {
            "bin_start": 21,
            "bin_end": 31.5,
            "count": 42
           },
           {
            "bin_start": 31.5,
            "bin_end": 42,
            "count": 9
           },
           {
            "bin_start": 42,
            "bin_end": 52.5,
            "count": 12
           },
           {
            "bin_start": 52.5,
            "bin_end": 63,
            "count": 2
           },
           {
            "bin_start": 63,
            "bin_end": 73.5,
            "count": 0
           },
           {
            "bin_start": 73.5,
            "bin_end": 84,
            "count": 1
           },
           {
            "bin_start": 84,
            "bin_end": 94.5,
            "count": 0
           },
           {
            "bin_start": 94.5,
            "bin_end": 105,
            "count": 2
           }
          ]
         }
        },
        {
         "name": "Year",
         "dtype": "int64",
         "stats": {
          "unique_count": 11,
          "nan_count": 0,
          "min": "2009",
          "max": "2019",
          "histogram": [
           {
            "bin_start": 2009,
            "bin_end": 2010,
            "count": 50
           },
           {
            "bin_start": 2010,
            "bin_end": 2011,
            "count": 50
           },
           {
            "bin_start": 2011,
            "bin_end": 2012,
            "count": 50
           },
           {
            "bin_start": 2012,
            "bin_end": 2013,
            "count": 50
           },
           {
            "bin_start": 2013,
            "bin_end": 2014,
            "count": 50
           },
           {
            "bin_start": 2014,
            "bin_end": 2015,
            "count": 50
           },
           {
            "bin_start": 2015,
            "bin_end": 2016,
            "count": 50
           },
           {
            "bin_start": 2016,
            "bin_end": 2017,
            "count": 50
           },
           {
            "bin_start": 2017,
            "bin_end": 2018,
            "count": 50
           },
           {
            "bin_start": 2018,
            "bin_end": 2019,
            "count": 100
           }
          ]
         }
        },
        {
         "name": "Genre",
         "dtype": "object",
         "stats": {
          "unique_count": 2,
          "nan_count": 0,
          "categories": [
           {
            "name": "Non Fiction",
            "count": 310
           },
           {
            "name": "Fiction",
            "count": 240
           }
          ]
         }
        },
        {
         "name": "_deepnote_index_column",
         "dtype": "int64"
        }
       ],
       "rows": [
        {
         "Name": "10-Day Green Smoothie Cleanse",
         "Author": "JJ Smith",
         "User-Rating": 4.7,
         "Reviews": 17350,
         "Price": 8,
         "Year": 2016,
         "Genre": "Non Fiction",
         "_deepnote_index_column": 0
        },
        {
         "Name": "11/22/63: A Novel",
         "Author": "Stephen King",
         "User-Rating": 4.6,
         "Reviews": 2052,
         "Price": 22,
         "Year": 2011,
         "Genre": "Fiction",
         "_deepnote_index_column": 1
        },
        {
         "Name": "12 Rules for Life: An Antidote to Chaos",
         "Author": "Jordan B. Peterson",
         "User-Rating": 4.7,
         "Reviews": 18979,
         "Price": 15,
         "Year": 2018,
         "Genre": "Non Fiction",
         "_deepnote_index_column": 2
        },
        {
         "Name": "1984 (Signet Classics)",
         "Author": "George Orwell",
         "User-Rating": 4.7,
         "Reviews": 21424,
         "Price": 6,
         "Year": 2017,
         "Genre": "Fiction",
         "_deepnote_index_column": 3
        },
        {
         "Name": "5,000 Awesome Facts (About Everything!) (National Geographic Kids)",
         "Author": "National Geographic Kids",
         "User-Rating": 4.8,
         "Reviews": 7665,
         "Price": 12,
         "Year": 2019,
         "Genre": "Non Fiction",
         "_deepnote_index_column": 4
        },
        {
         "Name": "A Dance with Dragons (A Song of Ice and Fire)",
         "Author": "George R. R. Martin",
         "User-Rating": 4.4,
         "Reviews": 12643,
         "Price": 11,
         "Year": 2011,
         "Genre": "Fiction",
         "_deepnote_index_column": 5
        },
        {
         "Name": "A Game of Thrones / A Clash of Kings / A Storm of Swords / A Feast of Crows / A Dance with Dragons",
         "Author": "George R. R. Martin",
         "User-Rating": 4.7,
         "Reviews": 19735,
         "Price": 30,
         "Year": 2014,
         "Genre": "Fiction",
         "_deepnote_index_column": 6
        },
        {
         "Name": "A Gentleman in Moscow: A Novel",
         "Author": "Amor Towles",
         "User-Rating": 4.7,
         "Reviews": 19699,
         "Price": 15,
         "Year": 2017,
         "Genre": "Fiction",
         "_deepnote_index_column": 7
        },
        {
         "Name": "A Higher Loyalty: Truth, Lies, and Leadership",
         "Author": "James Comey",
         "User-Rating": 4.7,
         "Reviews": 5983,
         "Price": 3,
         "Year": 2018,
         "Genre": "Non Fiction",
         "_deepnote_index_column": 8
        },
        {
         "Name": "A Man Called Ove: A Novel",
         "Author": "Fredrik Backman",
         "User-Rating": 4.6,
         "Reviews": 23848,
         "Price": 8,
         "Year": 2016,
         "Genre": "Fiction",
         "_deepnote_index_column": 9
        }
       ]
      },
      "text/plain": "                                                  Name  \\\n0                        10-Day Green Smoothie Cleanse   \n1                                    11/22/63: A Novel   \n2              12 Rules for Life: An Antidote to Chaos   \n3                               1984 (Signet Classics)   \n4    5,000 Awesome Facts (About Everything!) (Natio...   \n..                                                 ...   \n545       Wrecking Ball (Diary of a Wimpy Kid Book 14)   \n546  You Are a Badass: How to Stop Doubting Your Gr...   \n547  You Are a Badass: How to Stop Doubting Your Gr...   \n548  You Are a Badass: How to Stop Doubting Your Gr...   \n549  You Are a Badass: How to Stop Doubting Your Gr...   \n\n                       Author  User-Rating  Reviews  Price  Year        Genre  \n0                    JJ Smith          4.7    17350      8  2016  Non Fiction  \n1                Stephen King          4.6     2052     22  2011      Fiction  \n2          Jordan B. Peterson          4.7    18979     15  2018  Non Fiction  \n3               George Orwell          4.7    21424      6  2017      Fiction  \n4    National Geographic Kids          4.8     7665     12  2019  Non Fiction  \n..                        ...          ...      ...    ...   ...          ...  \n545               Jeff Kinney          4.9     9413      8  2019      Fiction  \n546               Jen Sincero          4.7    14331      8  2016  Non Fiction  \n547               Jen Sincero          4.7    14331      8  2017  Non Fiction  \n548               Jen Sincero          4.7    14331      8  2018  Non Fiction  \n549               Jen Sincero          4.7    14331      8  2019  Non Fiction  \n\n[550 rows x 7 columns]",
      "text/html": "<div>\n<style scoped>\n    .dataframe tbody tr th:only-of-type {\n        vertical-align: middle;\n    }\n\n    .dataframe tbody tr th {\n        vertical-align: top;\n    }\n\n    .dataframe thead th {\n        text-align: right;\n    }\n</style>\n<table border=\"1\" class=\"dataframe\">\n  <thead>\n    <tr style=\"text-align: right;\">\n      <th></th>\n      <th>Name</th>\n      <th>Author</th>\n      <th>User-Rating</th>\n      <th>Reviews</th>\n      <th>Price</th>\n      <th>Year</th>\n      <th>Genre</th>\n    </tr>\n  </thead>\n  <tbody>\n    <tr>\n      <th>0</th>\n      <td>10-Day Green Smoothie Cleanse</td>\n      <td>JJ Smith</td>\n      <td>4.7</td>\n      <td>17350</td>\n      <td>8</td>\n      <td>2016</td>\n      <td>Non Fiction</td>\n    </tr>\n    <tr>\n      <th>1</th>\n      <td>11/22/63: A Novel</td>\n      <td>Stephen King</td>\n      <td>4.6</td>\n      <td>2052</td>\n      <td>22</td>\n      <td>2011</td>\n      <td>Fiction</td>\n    </tr>\n    <tr>\n      <th>2</th>\n      <td>12 Rules for Life: An Antidote to Chaos</td>\n      <td>Jordan B. Peterson</td>\n      <td>4.7</td>\n      <td>18979</td>\n      <td>15</td>\n      <td>2018</td>\n      <td>Non Fiction</td>\n    </tr>\n    <tr>\n      <th>3</th>\n      <td>1984 (Signet Classics)</td>\n      <td>George Orwell</td>\n      <td>4.7</td>\n      <td>21424</td>\n      <td>6</td>\n      <td>2017</td>\n      <td>Fiction</td>\n    </tr>\n    <tr>\n      <th>4</th>\n      <td>5,000 Awesome Facts (About Everything!) (Natio...</td>\n      <td>National Geographic Kids</td>\n      <td>4.8</td>\n      <td>7665</td>\n      <td>12</td>\n      <td>2019</td>\n      <td>Non Fiction</td>\n    </tr>\n    <tr>\n      <th>...</th>\n      <td>...</td>\n      <td>...</td>\n      <td>...</td>\n      <td>...</td>\n      <td>...</td>\n      <td>...</td>\n      <td>...</td>\n    </tr>\n    <tr>\n      <th>545</th>\n      <td>Wrecking Ball (Diary of a Wimpy Kid Book 14)</td>\n      <td>Jeff Kinney</td>\n      <td>4.9</td>\n      <td>9413</td>\n      <td>8</td>\n      <td>2019</td>\n      <td>Fiction</td>\n    </tr>\n    <tr>\n      <th>546</th>\n      <td>You Are a Badass: How to Stop Doubting Your Gr...</td>\n      <td>Jen Sincero</td>\n      <td>4.7</td>\n      <td>14331</td>\n      <td>8</td>\n      <td>2016</td>\n      <td>Non Fiction</td>\n    </tr>\n    <tr>\n      <th>547</th>\n      <td>You Are a Badass: How to Stop Doubting Your Gr...</td>\n      <td>Jen Sincero</td>\n      <td>4.7</td>\n      <td>14331</td>\n      <td>8</td>\n      <td>2017</td>\n      <td>Non Fiction</td>\n    </tr>\n    <tr>\n      <th>548</th>\n      <td>You Are a Badass: How to Stop Doubting Your Gr...</td>\n      <td>Jen Sincero</td>\n      <td>4.7</td>\n      <td>14331</td>\n      <td>8</td>\n      <td>2018</td>\n      <td>Non Fiction</td>\n    </tr>\n    <tr>\n      <th>549</th>\n      <td>You Are a Badass: How to Stop Doubting Your Gr...</td>\n      <td>Jen Sincero</td>\n      <td>4.7</td>\n      <td>14331</td>\n      <td>8</td>\n      <td>2019</td>\n      <td>Non Fiction</td>\n    </tr>\n  </tbody>\n</table>\n<p>550 rows × 7 columns</p>\n</div>"
     },
     "metadata": {}
    }
   ],
   "execution_count": null
  },
  {
   "cell_type": "code",
   "source": "df_books.loc[0:4]",
   "metadata": {
    "cell_id": "89dc9080064a49429406eb3e135e9018",
    "tags": [],
    "deepnote_to_be_reexecuted": false,
    "source_hash": "7e66039d",
    "execution_start": 1654101334942,
    "execution_millis": 34,
    "deepnote_cell_type": "code",
    "deepnote_cell_height": 395
   },
   "outputs": [
    {
     "output_type": "execute_result",
     "execution_count": 13,
     "data": {
      "application/vnd.deepnote.dataframe.v3+json": {
       "column_count": 7,
       "row_count": 5,
       "columns": [
        {
         "name": "Name",
         "dtype": "object",
         "stats": {
          "unique_count": 5,
          "nan_count": 0,
          "categories": [
           {
            "name": "10-Day Green Smoothie Cleanse",
            "count": 1
           },
           {
            "name": "11/22/63: A Novel",
            "count": 1
           },
           {
            "name": "3 others",
            "count": 3
           }
          ]
         }
        },
        {
         "name": "Author",
         "dtype": "object",
         "stats": {
          "unique_count": 5,
          "nan_count": 0,
          "categories": [
           {
            "name": "JJ Smith",
            "count": 1
           },
           {
            "name": "Stephen King",
            "count": 1
           },
           {
            "name": "3 others",
            "count": 3
           }
          ]
         }
        },
        {
         "name": "User-Rating",
         "dtype": "float64",
         "stats": {
          "unique_count": 3,
          "nan_count": 0,
          "min": "4.6",
          "max": "4.8",
          "histogram": [
           {
            "bin_start": 4.6,
            "bin_end": 4.619999999999999,
            "count": 1
           },
           {
            "bin_start": 4.619999999999999,
            "bin_end": 4.64,
            "count": 0
           },
           {
            "bin_start": 4.64,
            "bin_end": 4.66,
            "count": 0
           },
           {
            "bin_start": 4.66,
            "bin_end": 4.68,
            "count": 0
           },
           {
            "bin_start": 4.68,
            "bin_end": 4.699999999999999,
            "count": 0
           },
           {
            "bin_start": 4.699999999999999,
            "bin_end": 4.72,
            "count": 3
           },
           {
            "bin_start": 4.72,
            "bin_end": 4.74,
            "count": 0
           },
           {
            "bin_start": 4.74,
            "bin_end": 4.76,
            "count": 0
           },
           {
            "bin_start": 4.76,
            "bin_end": 4.779999999999999,
            "count": 0
           },
           {
            "bin_start": 4.779999999999999,
            "bin_end": 4.8,
            "count": 1
           }
          ]
         }
        },
        {
         "name": "Reviews",
         "dtype": "int64",
         "stats": {
          "unique_count": 5,
          "nan_count": 0,
          "min": "2052",
          "max": "21424",
          "histogram": [
           {
            "bin_start": 2052,
            "bin_end": 3989.2,
            "count": 1
           },
           {
            "bin_start": 3989.2,
            "bin_end": 5926.4,
            "count": 0
           },
           {
            "bin_start": 5926.4,
            "bin_end": 7863.6,
            "count": 1
           },
           {
            "bin_start": 7863.6,
            "bin_end": 9800.8,
            "count": 0
           },
           {
            "bin_start": 9800.8,
            "bin_end": 11738,
            "count": 0
           },
           {
            "bin_start": 11738,
            "bin_end": 13675.2,
            "count": 0
           },
           {
            "bin_start": 13675.2,
            "bin_end": 15612.4,
            "count": 0
           },
           {
            "bin_start": 15612.4,
            "bin_end": 17549.6,
            "count": 1
           },
           {
            "bin_start": 17549.6,
            "bin_end": 19486.8,
            "count": 1
           },
           {
            "bin_start": 19486.8,
            "bin_end": 21424,
            "count": 1
           }
          ]
         }
        },
        {
         "name": "Price",
         "dtype": "int64",
         "stats": {
          "unique_count": 5,
          "nan_count": 0,
          "min": "6",
          "max": "22",
          "histogram": [
           {
            "bin_start": 6,
            "bin_end": 7.6,
            "count": 1
           },
           {
            "bin_start": 7.6,
            "bin_end": 9.2,
            "count": 1
           },
           {
            "bin_start": 9.2,
            "bin_end": 10.8,
            "count": 0
           },
           {
            "bin_start": 10.8,
            "bin_end": 12.4,
            "count": 1
           },
           {
            "bin_start": 12.4,
            "bin_end": 14,
            "count": 0
           },
           {
            "bin_start": 14,
            "bin_end": 15.600000000000001,
            "count": 1
           },
           {
            "bin_start": 15.600000000000001,
            "bin_end": 17.200000000000003,
            "count": 0
           },
           {
            "bin_start": 17.200000000000003,
            "bin_end": 18.8,
            "count": 0
           },
           {
            "bin_start": 18.8,
            "bin_end": 20.4,
            "count": 0
           },
           {
            "bin_start": 20.4,
            "bin_end": 22,
            "count": 1
           }
          ]
         }
        },
        {
         "name": "Year",
         "dtype": "int64",
         "stats": {
          "unique_count": 5,
          "nan_count": 0,
          "min": "2011",
          "max": "2019",
          "histogram": [
           {
            "bin_start": 2011,
            "bin_end": 2011.8,
            "count": 1
           },
           {
            "bin_start": 2011.8,
            "bin_end": 2012.6,
            "count": 0
           },
           {
            "bin_start": 2012.6,
            "bin_end": 2013.4,
            "count": 0
           },
           {
            "bin_start": 2013.4,
            "bin_end": 2014.2,
            "count": 0
           },
           {
            "bin_start": 2014.2,
            "bin_end": 2015,
            "count": 0
           },
           {
            "bin_start": 2015,
            "bin_end": 2015.8,
            "count": 0
           },
           {
            "bin_start": 2015.8,
            "bin_end": 2016.6,
            "count": 1
           },
           {
            "bin_start": 2016.6,
            "bin_end": 2017.4,
            "count": 1
           },
           {
            "bin_start": 2017.4,
            "bin_end": 2018.2,
            "count": 1
           },
           {
            "bin_start": 2018.2,
            "bin_end": 2019,
            "count": 1
           }
          ]
         }
        },
        {
         "name": "Genre",
         "dtype": "object",
         "stats": {
          "unique_count": 2,
          "nan_count": 0,
          "categories": [
           {
            "name": "Non Fiction",
            "count": 3
           },
           {
            "name": "Fiction",
            "count": 2
           }
          ]
         }
        },
        {
         "name": "_deepnote_index_column",
         "dtype": "int64"
        }
       ],
       "rows": [
        {
         "Name": "10-Day Green Smoothie Cleanse",
         "Author": "JJ Smith",
         "User-Rating": 4.7,
         "Reviews": 17350,
         "Price": 8,
         "Year": 2016,
         "Genre": "Non Fiction",
         "_deepnote_index_column": 0
        },
        {
         "Name": "11/22/63: A Novel",
         "Author": "Stephen King",
         "User-Rating": 4.6,
         "Reviews": 2052,
         "Price": 22,
         "Year": 2011,
         "Genre": "Fiction",
         "_deepnote_index_column": 1
        },
        {
         "Name": "12 Rules for Life: An Antidote to Chaos",
         "Author": "Jordan B. Peterson",
         "User-Rating": 4.7,
         "Reviews": 18979,
         "Price": 15,
         "Year": 2018,
         "Genre": "Non Fiction",
         "_deepnote_index_column": 2
        },
        {
         "Name": "1984 (Signet Classics)",
         "Author": "George Orwell",
         "User-Rating": 4.7,
         "Reviews": 21424,
         "Price": 6,
         "Year": 2017,
         "Genre": "Fiction",
         "_deepnote_index_column": 3
        },
        {
         "Name": "5,000 Awesome Facts (About Everything!) (National Geographic Kids)",
         "Author": "National Geographic Kids",
         "User-Rating": 4.8,
         "Reviews": 7665,
         "Price": 12,
         "Year": 2019,
         "Genre": "Non Fiction",
         "_deepnote_index_column": 4
        }
       ]
      },
      "text/plain": "                                                Name  \\\n0                      10-Day Green Smoothie Cleanse   \n1                                  11/22/63: A Novel   \n2            12 Rules for Life: An Antidote to Chaos   \n3                             1984 (Signet Classics)   \n4  5,000 Awesome Facts (About Everything!) (Natio...   \n\n                     Author  User-Rating  Reviews  Price  Year        Genre  \n0                  JJ Smith          4.7    17350      8  2016  Non Fiction  \n1              Stephen King          4.6     2052     22  2011      Fiction  \n2        Jordan B. Peterson          4.7    18979     15  2018  Non Fiction  \n3             George Orwell          4.7    21424      6  2017      Fiction  \n4  National Geographic Kids          4.8     7665     12  2019  Non Fiction  ",
      "text/html": "<div>\n<style scoped>\n    .dataframe tbody tr th:only-of-type {\n        vertical-align: middle;\n    }\n\n    .dataframe tbody tr th {\n        vertical-align: top;\n    }\n\n    .dataframe thead th {\n        text-align: right;\n    }\n</style>\n<table border=\"1\" class=\"dataframe\">\n  <thead>\n    <tr style=\"text-align: right;\">\n      <th></th>\n      <th>Name</th>\n      <th>Author</th>\n      <th>User-Rating</th>\n      <th>Reviews</th>\n      <th>Price</th>\n      <th>Year</th>\n      <th>Genre</th>\n    </tr>\n  </thead>\n  <tbody>\n    <tr>\n      <th>0</th>\n      <td>10-Day Green Smoothie Cleanse</td>\n      <td>JJ Smith</td>\n      <td>4.7</td>\n      <td>17350</td>\n      <td>8</td>\n      <td>2016</td>\n      <td>Non Fiction</td>\n    </tr>\n    <tr>\n      <th>1</th>\n      <td>11/22/63: A Novel</td>\n      <td>Stephen King</td>\n      <td>4.6</td>\n      <td>2052</td>\n      <td>22</td>\n      <td>2011</td>\n      <td>Fiction</td>\n    </tr>\n    <tr>\n      <th>2</th>\n      <td>12 Rules for Life: An Antidote to Chaos</td>\n      <td>Jordan B. Peterson</td>\n      <td>4.7</td>\n      <td>18979</td>\n      <td>15</td>\n      <td>2018</td>\n      <td>Non Fiction</td>\n    </tr>\n    <tr>\n      <th>3</th>\n      <td>1984 (Signet Classics)</td>\n      <td>George Orwell</td>\n      <td>4.7</td>\n      <td>21424</td>\n      <td>6</td>\n      <td>2017</td>\n      <td>Fiction</td>\n    </tr>\n    <tr>\n      <th>4</th>\n      <td>5,000 Awesome Facts (About Everything!) (Natio...</td>\n      <td>National Geographic Kids</td>\n      <td>4.8</td>\n      <td>7665</td>\n      <td>12</td>\n      <td>2019</td>\n      <td>Non Fiction</td>\n    </tr>\n  </tbody>\n</table>\n</div>"
     },
     "metadata": {}
    }
   ],
   "execution_count": null
  },
  {
   "cell_type": "code",
   "source": "df_books.loc[0:4, ['Name', 'Author']]",
   "metadata": {
    "cell_id": "8605edfd047e461b9308aca3b2a30717",
    "tags": [],
    "deepnote_to_be_reexecuted": false,
    "source_hash": "92c041fd",
    "execution_start": 1654101411705,
    "execution_millis": 249,
    "deepnote_cell_type": "code",
    "deepnote_cell_height": 395
   },
   "outputs": [
    {
     "output_type": "execute_result",
     "execution_count": 14,
     "data": {
      "application/vnd.deepnote.dataframe.v3+json": {
       "column_count": 2,
       "row_count": 5,
       "columns": [
        {
         "name": "Name",
         "dtype": "object",
         "stats": {
          "unique_count": 5,
          "nan_count": 0,
          "categories": [
           {
            "name": "10-Day Green Smoothie Cleanse",
            "count": 1
           },
           {
            "name": "11/22/63: A Novel",
            "count": 1
           },
           {
            "name": "3 others",
            "count": 3
           }
          ]
         }
        },
        {
         "name": "Author",
         "dtype": "object",
         "stats": {
          "unique_count": 5,
          "nan_count": 0,
          "categories": [
           {
            "name": "JJ Smith",
            "count": 1
           },
           {
            "name": "Stephen King",
            "count": 1
           },
           {
            "name": "3 others",
            "count": 3
           }
          ]
         }
        },
        {
         "name": "_deepnote_index_column",
         "dtype": "int64"
        }
       ],
       "rows": [
        {
         "Name": "10-Day Green Smoothie Cleanse",
         "Author": "JJ Smith",
         "_deepnote_index_column": 0
        },
        {
         "Name": "11/22/63: A Novel",
         "Author": "Stephen King",
         "_deepnote_index_column": 1
        },
        {
         "Name": "12 Rules for Life: An Antidote to Chaos",
         "Author": "Jordan B. Peterson",
         "_deepnote_index_column": 2
        },
        {
         "Name": "1984 (Signet Classics)",
         "Author": "George Orwell",
         "_deepnote_index_column": 3
        },
        {
         "Name": "5,000 Awesome Facts (About Everything!) (National Geographic Kids)",
         "Author": "National Geographic Kids",
         "_deepnote_index_column": 4
        }
       ]
      },
      "text/plain": "                                                Name                    Author\n0                      10-Day Green Smoothie Cleanse                  JJ Smith\n1                                  11/22/63: A Novel              Stephen King\n2            12 Rules for Life: An Antidote to Chaos        Jordan B. Peterson\n3                             1984 (Signet Classics)             George Orwell\n4  5,000 Awesome Facts (About Everything!) (Natio...  National Geographic Kids",
      "text/html": "<div>\n<style scoped>\n    .dataframe tbody tr th:only-of-type {\n        vertical-align: middle;\n    }\n\n    .dataframe tbody tr th {\n        vertical-align: top;\n    }\n\n    .dataframe thead th {\n        text-align: right;\n    }\n</style>\n<table border=\"1\" class=\"dataframe\">\n  <thead>\n    <tr style=\"text-align: right;\">\n      <th></th>\n      <th>Name</th>\n      <th>Author</th>\n    </tr>\n  </thead>\n  <tbody>\n    <tr>\n      <th>0</th>\n      <td>10-Day Green Smoothie Cleanse</td>\n      <td>JJ Smith</td>\n    </tr>\n    <tr>\n      <th>1</th>\n      <td>11/22/63: A Novel</td>\n      <td>Stephen King</td>\n    </tr>\n    <tr>\n      <th>2</th>\n      <td>12 Rules for Life: An Antidote to Chaos</td>\n      <td>Jordan B. Peterson</td>\n    </tr>\n    <tr>\n      <th>3</th>\n      <td>1984 (Signet Classics)</td>\n      <td>George Orwell</td>\n    </tr>\n    <tr>\n      <th>4</th>\n      <td>5,000 Awesome Facts (About Everything!) (Natio...</td>\n      <td>National Geographic Kids</td>\n    </tr>\n  </tbody>\n</table>\n</div>"
     },
     "metadata": {}
    }
   ],
   "execution_count": null
  },
  {
   "cell_type": "code",
   "source": "df_books.loc[:, ['Reviews']]*-1",
   "metadata": {
    "cell_id": "21b9ba0f74a841bf9a7c694f4d743e03",
    "tags": [],
    "deepnote_to_be_reexecuted": false,
    "source_hash": "f5da233c",
    "execution_start": 1654101495741,
    "execution_millis": 11,
    "deepnote_cell_type": "code",
    "deepnote_cell_height": 600
   },
   "outputs": [
    {
     "output_type": "execute_result",
     "execution_count": 17,
     "data": {
      "application/vnd.deepnote.dataframe.v3+json": {
       "column_count": 1,
       "row_count": 550,
       "columns": [
        {
         "name": "Reviews",
         "dtype": "int64",
         "stats": {
          "unique_count": 346,
          "nan_count": 0,
          "min": "-87841",
          "max": "-37",
          "histogram": [
           {
            "bin_start": -87841,
            "bin_end": -79060.6,
            "count": 3
           },
           {
            "bin_start": -79060.6,
            "bin_end": -70280.2,
            "count": 0
           },
           {
            "bin_start": -70280.2,
            "bin_end": -61499.8,
            "count": 0
           },
           {
            "bin_start": -61499.8,
            "bin_end": -52719.4,
            "count": 5
           },
           {
            "bin_start": -52719.4,
            "bin_end": -43939,
            "count": 8
           },
           {
            "bin_start": -43939,
            "bin_end": -35158.600000000006,
            "count": 4
           },
           {
            "bin_start": -35158.600000000006,
            "bin_end": -26378.200000000004,
            "count": 25
           },
           {
            "bin_start": -26378.200000000004,
            "bin_end": -17597.800000000003,
            "count": 87
           },
           {
            "bin_start": -17597.800000000003,
            "bin_end": -8817.400000000009,
            "count": 131
           },
           {
            "bin_start": -8817.400000000009,
            "bin_end": -37,
            "count": 287
           }
          ]
         }
        },
        {
         "name": "_deepnote_index_column",
         "dtype": "int64"
        }
       ],
       "rows": [
        {
         "Reviews": -17350,
         "_deepnote_index_column": 0
        },
        {
         "Reviews": -2052,
         "_deepnote_index_column": 1
        },
        {
         "Reviews": -18979,
         "_deepnote_index_column": 2
        },
        {
         "Reviews": -21424,
         "_deepnote_index_column": 3
        },
        {
         "Reviews": -7665,
         "_deepnote_index_column": 4
        },
        {
         "Reviews": -12643,
         "_deepnote_index_column": 5
        },
        {
         "Reviews": -19735,
         "_deepnote_index_column": 6
        },
        {
         "Reviews": -19699,
         "_deepnote_index_column": 7
        },
        {
         "Reviews": -5983,
         "_deepnote_index_column": 8
        },
        {
         "Reviews": -23848,
         "_deepnote_index_column": 9
        }
       ]
      },
      "text/plain": "     Reviews\n0     -17350\n1      -2052\n2     -18979\n3     -21424\n4      -7665\n..       ...\n545    -9413\n546   -14331\n547   -14331\n548   -14331\n549   -14331\n\n[550 rows x 1 columns]",
      "text/html": "<div>\n<style scoped>\n    .dataframe tbody tr th:only-of-type {\n        vertical-align: middle;\n    }\n\n    .dataframe tbody tr th {\n        vertical-align: top;\n    }\n\n    .dataframe thead th {\n        text-align: right;\n    }\n</style>\n<table border=\"1\" class=\"dataframe\">\n  <thead>\n    <tr style=\"text-align: right;\">\n      <th></th>\n      <th>Reviews</th>\n    </tr>\n  </thead>\n  <tbody>\n    <tr>\n      <th>0</th>\n      <td>-17350</td>\n    </tr>\n    <tr>\n      <th>1</th>\n      <td>-2052</td>\n    </tr>\n    <tr>\n      <th>2</th>\n      <td>-18979</td>\n    </tr>\n    <tr>\n      <th>3</th>\n      <td>-21424</td>\n    </tr>\n    <tr>\n      <th>4</th>\n      <td>-7665</td>\n    </tr>\n    <tr>\n      <th>...</th>\n      <td>...</td>\n    </tr>\n    <tr>\n      <th>545</th>\n      <td>-9413</td>\n    </tr>\n    <tr>\n      <th>546</th>\n      <td>-14331</td>\n    </tr>\n    <tr>\n      <th>547</th>\n      <td>-14331</td>\n    </tr>\n    <tr>\n      <th>548</th>\n      <td>-14331</td>\n    </tr>\n    <tr>\n      <th>549</th>\n      <td>-14331</td>\n    </tr>\n  </tbody>\n</table>\n<p>550 rows × 1 columns</p>\n</div>"
     },
     "metadata": {}
    }
   ],
   "execution_count": null
  },
  {
   "cell_type": "code",
   "source": "df_books.loc[:, ['Author']] == 'JJ Smith'",
   "metadata": {
    "cell_id": "d6f18a271c1c45b5b7e1325d1abbeede",
    "tags": [],
    "deepnote_to_be_reexecuted": false,
    "source_hash": "a78accb3",
    "execution_start": 1654101548453,
    "execution_millis": 6,
    "deepnote_cell_type": "code",
    "deepnote_cell_height": 600
   },
   "outputs": [
    {
     "output_type": "execute_result",
     "execution_count": 20,
     "data": {
      "application/vnd.deepnote.dataframe.v3+json": {
       "column_count": 1,
       "row_count": 550,
       "columns": [
        {
         "name": "Author",
         "dtype": "bool",
         "stats": {
          "unique_count": 2,
          "nan_count": 0,
          "categories": [
           {
            "name": "False",
            "count": 549
           },
           {
            "name": "True",
            "count": 1
           }
          ]
         }
        },
        {
         "name": "_deepnote_index_column",
         "dtype": "int64"
        }
       ],
       "rows": [
        {
         "Author": true,
         "_deepnote_index_column": 0
        },
        {
         "Author": false,
         "_deepnote_index_column": 1
        },
        {
         "Author": false,
         "_deepnote_index_column": 2
        },
        {
         "Author": false,
         "_deepnote_index_column": 3
        },
        {
         "Author": false,
         "_deepnote_index_column": 4
        },
        {
         "Author": false,
         "_deepnote_index_column": 5
        },
        {
         "Author": false,
         "_deepnote_index_column": 6
        },
        {
         "Author": false,
         "_deepnote_index_column": 7
        },
        {
         "Author": false,
         "_deepnote_index_column": 8
        },
        {
         "Author": false,
         "_deepnote_index_column": 9
        }
       ]
      },
      "text/plain": "     Author\n0      True\n1     False\n2     False\n3     False\n4     False\n..      ...\n545   False\n546   False\n547   False\n548   False\n549   False\n\n[550 rows x 1 columns]",
      "text/html": "<div>\n<style scoped>\n    .dataframe tbody tr th:only-of-type {\n        vertical-align: middle;\n    }\n\n    .dataframe tbody tr th {\n        vertical-align: top;\n    }\n\n    .dataframe thead th {\n        text-align: right;\n    }\n</style>\n<table border=\"1\" class=\"dataframe\">\n  <thead>\n    <tr style=\"text-align: right;\">\n      <th></th>\n      <th>Author</th>\n    </tr>\n  </thead>\n  <tbody>\n    <tr>\n      <th>0</th>\n      <td>True</td>\n    </tr>\n    <tr>\n      <th>1</th>\n      <td>False</td>\n    </tr>\n    <tr>\n      <th>2</th>\n      <td>False</td>\n    </tr>\n    <tr>\n      <th>3</th>\n      <td>False</td>\n    </tr>\n    <tr>\n      <th>4</th>\n      <td>False</td>\n    </tr>\n    <tr>\n      <th>...</th>\n      <td>...</td>\n    </tr>\n    <tr>\n      <th>545</th>\n      <td>False</td>\n    </tr>\n    <tr>\n      <th>546</th>\n      <td>False</td>\n    </tr>\n    <tr>\n      <th>547</th>\n      <td>False</td>\n    </tr>\n    <tr>\n      <th>548</th>\n      <td>False</td>\n    </tr>\n    <tr>\n      <th>549</th>\n      <td>False</td>\n    </tr>\n  </tbody>\n</table>\n<p>550 rows × 1 columns</p>\n</div>"
     },
     "metadata": {}
    }
   ],
   "execution_count": null
  },
  {
   "cell_type": "markdown",
   "source": "## Iloc",
   "metadata": {
    "cell_id": "9e7831277f8f4afb8157c8edbb140ffc",
    "tags": [],
    "deepnote_cell_type": "markdown",
    "deepnote_cell_height": 70
   }
  },
  {
   "cell_type": "code",
   "source": "df_books.iloc[:, 0:3]",
   "metadata": {
    "cell_id": "26e7ad912b4e48a99dee2301d7ddee74",
    "tags": [],
    "deepnote_to_be_reexecuted": false,
    "source_hash": "b89a6851",
    "execution_start": 1654101604886,
    "execution_millis": 770,
    "deepnote_cell_type": "code",
    "deepnote_cell_height": 600
   },
   "outputs": [
    {
     "output_type": "execute_result",
     "execution_count": 21,
     "data": {
      "application/vnd.deepnote.dataframe.v3+json": {
       "column_count": 3,
       "row_count": 550,
       "columns": [
        {
         "name": "Name",
         "dtype": "object",
         "stats": {
          "unique_count": 351,
          "nan_count": 0,
          "categories": [
           {
            "name": "Publication Manual of the American Psychological Association, 6th Edition",
            "count": 10
           },
           {
            "name": "StrengthsFinder 2.0",
            "count": 9
           },
           {
            "name": "349 others",
            "count": 531
           }
          ]
         }
        },
        {
         "name": "Author",
         "dtype": "object",
         "stats": {
          "unique_count": 248,
          "nan_count": 0,
          "categories": [
           {
            "name": "Jeff Kinney",
            "count": 12
           },
           {
            "name": "Suzanne Collins",
            "count": 11
           },
           {
            "name": "246 others",
            "count": 527
           }
          ]
         }
        },
        {
         "name": "User-Rating",
         "dtype": "float64",
         "stats": {
          "unique_count": 14,
          "nan_count": 0,
          "min": "3.3",
          "max": "4.9",
          "histogram": [
           {
            "bin_start": 3.3,
            "bin_end": 3.46,
            "count": 1
           },
           {
            "bin_start": 3.46,
            "bin_end": 3.62,
            "count": 1
           },
           {
            "bin_start": 3.62,
            "bin_end": 3.7800000000000002,
            "count": 0
           },
           {
            "bin_start": 3.7800000000000002,
            "bin_end": 3.94,
            "count": 5
           },
           {
            "bin_start": 3.94,
            "bin_end": 4.1,
            "count": 14
           },
           {
            "bin_start": 4.1,
            "bin_end": 4.26,
            "count": 14
           },
           {
            "bin_start": 4.26,
            "bin_end": 4.42,
            "count": 63
           },
           {
            "bin_start": 4.42,
            "bin_end": 4.58,
            "count": 60
           },
           {
            "bin_start": 4.58,
            "bin_end": 4.74,
            "count": 213
           },
           {
            "bin_start": 4.74,
            "bin_end": 4.9,
            "count": 179
           }
          ]
         }
        },
        {
         "name": "_deepnote_index_column",
         "dtype": "int64"
        }
       ],
       "rows": [
        {
         "Name": "10-Day Green Smoothie Cleanse",
         "Author": "JJ Smith",
         "User-Rating": 4.7,
         "_deepnote_index_column": 0
        },
        {
         "Name": "11/22/63: A Novel",
         "Author": "Stephen King",
         "User-Rating": 4.6,
         "_deepnote_index_column": 1
        },
        {
         "Name": "12 Rules for Life: An Antidote to Chaos",
         "Author": "Jordan B. Peterson",
         "User-Rating": 4.7,
         "_deepnote_index_column": 2
        },
        {
         "Name": "1984 (Signet Classics)",
         "Author": "George Orwell",
         "User-Rating": 4.7,
         "_deepnote_index_column": 3
        },
        {
         "Name": "5,000 Awesome Facts (About Everything!) (National Geographic Kids)",
         "Author": "National Geographic Kids",
         "User-Rating": 4.8,
         "_deepnote_index_column": 4
        },
        {
         "Name": "A Dance with Dragons (A Song of Ice and Fire)",
         "Author": "George R. R. Martin",
         "User-Rating": 4.4,
         "_deepnote_index_column": 5
        },
        {
         "Name": "A Game of Thrones / A Clash of Kings / A Storm of Swords / A Feast of Crows / A Dance with Dragons",
         "Author": "George R. R. Martin",
         "User-Rating": 4.7,
         "_deepnote_index_column": 6
        },
        {
         "Name": "A Gentleman in Moscow: A Novel",
         "Author": "Amor Towles",
         "User-Rating": 4.7,
         "_deepnote_index_column": 7
        },
        {
         "Name": "A Higher Loyalty: Truth, Lies, and Leadership",
         "Author": "James Comey",
         "User-Rating": 4.7,
         "_deepnote_index_column": 8
        },
        {
         "Name": "A Man Called Ove: A Novel",
         "Author": "Fredrik Backman",
         "User-Rating": 4.6,
         "_deepnote_index_column": 9
        }
       ]
      },
      "text/plain": "                                                  Name  \\\n0                        10-Day Green Smoothie Cleanse   \n1                                    11/22/63: A Novel   \n2              12 Rules for Life: An Antidote to Chaos   \n3                               1984 (Signet Classics)   \n4    5,000 Awesome Facts (About Everything!) (Natio...   \n..                                                 ...   \n545       Wrecking Ball (Diary of a Wimpy Kid Book 14)   \n546  You Are a Badass: How to Stop Doubting Your Gr...   \n547  You Are a Badass: How to Stop Doubting Your Gr...   \n548  You Are a Badass: How to Stop Doubting Your Gr...   \n549  You Are a Badass: How to Stop Doubting Your Gr...   \n\n                       Author  User-Rating  \n0                    JJ Smith          4.7  \n1                Stephen King          4.6  \n2          Jordan B. Peterson          4.7  \n3               George Orwell          4.7  \n4    National Geographic Kids          4.8  \n..                        ...          ...  \n545               Jeff Kinney          4.9  \n546               Jen Sincero          4.7  \n547               Jen Sincero          4.7  \n548               Jen Sincero          4.7  \n549               Jen Sincero          4.7  \n\n[550 rows x 3 columns]",
      "text/html": "<div>\n<style scoped>\n    .dataframe tbody tr th:only-of-type {\n        vertical-align: middle;\n    }\n\n    .dataframe tbody tr th {\n        vertical-align: top;\n    }\n\n    .dataframe thead th {\n        text-align: right;\n    }\n</style>\n<table border=\"1\" class=\"dataframe\">\n  <thead>\n    <tr style=\"text-align: right;\">\n      <th></th>\n      <th>Name</th>\n      <th>Author</th>\n      <th>User-Rating</th>\n    </tr>\n  </thead>\n  <tbody>\n    <tr>\n      <th>0</th>\n      <td>10-Day Green Smoothie Cleanse</td>\n      <td>JJ Smith</td>\n      <td>4.7</td>\n    </tr>\n    <tr>\n      <th>1</th>\n      <td>11/22/63: A Novel</td>\n      <td>Stephen King</td>\n      <td>4.6</td>\n    </tr>\n    <tr>\n      <th>2</th>\n      <td>12 Rules for Life: An Antidote to Chaos</td>\n      <td>Jordan B. Peterson</td>\n      <td>4.7</td>\n    </tr>\n    <tr>\n      <th>3</th>\n      <td>1984 (Signet Classics)</td>\n      <td>George Orwell</td>\n      <td>4.7</td>\n    </tr>\n    <tr>\n      <th>4</th>\n      <td>5,000 Awesome Facts (About Everything!) (Natio...</td>\n      <td>National Geographic Kids</td>\n      <td>4.8</td>\n    </tr>\n    <tr>\n      <th>...</th>\n      <td>...</td>\n      <td>...</td>\n      <td>...</td>\n    </tr>\n    <tr>\n      <th>545</th>\n      <td>Wrecking Ball (Diary of a Wimpy Kid Book 14)</td>\n      <td>Jeff Kinney</td>\n      <td>4.9</td>\n    </tr>\n    <tr>\n      <th>546</th>\n      <td>You Are a Badass: How to Stop Doubting Your Gr...</td>\n      <td>Jen Sincero</td>\n      <td>4.7</td>\n    </tr>\n    <tr>\n      <th>547</th>\n      <td>You Are a Badass: How to Stop Doubting Your Gr...</td>\n      <td>Jen Sincero</td>\n      <td>4.7</td>\n    </tr>\n    <tr>\n      <th>548</th>\n      <td>You Are a Badass: How to Stop Doubting Your Gr...</td>\n      <td>Jen Sincero</td>\n      <td>4.7</td>\n    </tr>\n    <tr>\n      <th>549</th>\n      <td>You Are a Badass: How to Stop Doubting Your Gr...</td>\n      <td>Jen Sincero</td>\n      <td>4.7</td>\n    </tr>\n  </tbody>\n</table>\n<p>550 rows × 3 columns</p>\n</div>"
     },
     "metadata": {}
    }
   ],
   "execution_count": null
  },
  {
   "cell_type": "code",
   "source": "df_books.iloc[1,3] * -1",
   "metadata": {
    "cell_id": "16c4b06ff94345098ffa9f0ab7758668",
    "tags": [],
    "deepnote_to_be_reexecuted": false,
    "source_hash": "b97b3c43",
    "execution_start": 1654101699986,
    "execution_millis": 7,
    "deepnote_cell_type": "code",
    "deepnote_cell_height": 118.1875,
    "deepnote_output_heights": [
     21.1875
    ]
   },
   "outputs": [
    {
     "output_type": "execute_result",
     "execution_count": 24,
     "data": {
      "text/plain": "-2052"
     },
     "metadata": {}
    }
   ],
   "execution_count": null
  },
  {
   "cell_type": "code",
   "source": "df_books.iloc[:2, 2:]",
   "metadata": {
    "cell_id": "ccbc64976459490caa0b63ecc84f96a4",
    "tags": [],
    "deepnote_to_be_reexecuted": false,
    "source_hash": "1c7d2d4f",
    "execution_start": 1654101831217,
    "execution_millis": 2,
    "deepnote_cell_type": "code",
    "deepnote_cell_height": 272
   },
   "outputs": [
    {
     "output_type": "execute_result",
     "execution_count": 26,
     "data": {
      "application/vnd.deepnote.dataframe.v3+json": {
       "column_count": 5,
       "row_count": 2,
       "columns": [
        {
         "name": "User-Rating",
         "dtype": "float64",
         "stats": {
          "unique_count": 2,
          "nan_count": 0,
          "min": "4.6",
          "max": "4.7",
          "histogram": [
           {
            "bin_start": 4.6,
            "bin_end": 4.609999999999999,
            "count": 1
           },
           {
            "bin_start": 4.609999999999999,
            "bin_end": 4.62,
            "count": 0
           },
           {
            "bin_start": 4.62,
            "bin_end": 4.63,
            "count": 0
           },
           {
            "bin_start": 4.63,
            "bin_end": 4.64,
            "count": 0
           },
           {
            "bin_start": 4.64,
            "bin_end": 4.65,
            "count": 0
           },
           {
            "bin_start": 4.65,
            "bin_end": 4.66,
            "count": 0
           },
           {
            "bin_start": 4.66,
            "bin_end": 4.67,
            "count": 0
           },
           {
            "bin_start": 4.67,
            "bin_end": 4.68,
            "count": 0
           },
           {
            "bin_start": 4.68,
            "bin_end": 4.69,
            "count": 0
           },
           {
            "bin_start": 4.69,
            "bin_end": 4.7,
            "count": 1
           }
          ]
         }
        },
        {
         "name": "Reviews",
         "dtype": "int64",
         "stats": {
          "unique_count": 2,
          "nan_count": 0,
          "min": "2052",
          "max": "17350",
          "histogram": [
           {
            "bin_start": 2052,
            "bin_end": 3581.8,
            "count": 1
           },
           {
            "bin_start": 3581.8,
            "bin_end": 5111.6,
            "count": 0
           },
           {
            "bin_start": 5111.6,
            "bin_end": 6641.4,
            "count": 0
           },
           {
            "bin_start": 6641.4,
            "bin_end": 8171.2,
            "count": 0
           },
           {
            "bin_start": 8171.2,
            "bin_end": 9701,
            "count": 0
           },
           {
            "bin_start": 9701,
            "bin_end": 11230.8,
            "count": 0
           },
           {
            "bin_start": 11230.8,
            "bin_end": 12760.6,
            "count": 0
           },
           {
            "bin_start": 12760.6,
            "bin_end": 14290.4,
            "count": 0
           },
           {
            "bin_start": 14290.4,
            "bin_end": 15820.199999999999,
            "count": 0
           },
           {
            "bin_start": 15820.199999999999,
            "bin_end": 17350,
            "count": 1
           }
          ]
         }
        },
        {
         "name": "Price",
         "dtype": "int64",
         "stats": {
          "unique_count": 2,
          "nan_count": 0,
          "min": "8",
          "max": "22",
          "histogram": [
           {
            "bin_start": 8,
            "bin_end": 9.4,
            "count": 1
           },
           {
            "bin_start": 9.4,
            "bin_end": 10.8,
            "count": 0
           },
           {
            "bin_start": 10.8,
            "bin_end": 12.2,
            "count": 0
           },
           {
            "bin_start": 12.2,
            "bin_end": 13.6,
            "count": 0
           },
           {
            "bin_start": 13.6,
            "bin_end": 15,
            "count": 0
           },
           {
            "bin_start": 15,
            "bin_end": 16.4,
            "count": 0
           },
           {
            "bin_start": 16.4,
            "bin_end": 17.799999999999997,
            "count": 0
           },
           {
            "bin_start": 17.799999999999997,
            "bin_end": 19.2,
            "count": 0
           },
           {
            "bin_start": 19.2,
            "bin_end": 20.6,
            "count": 0
           },
           {
            "bin_start": 20.6,
            "bin_end": 22,
            "count": 1
           }
          ]
         }
        },
        {
         "name": "Year",
         "dtype": "int64",
         "stats": {
          "unique_count": 2,
          "nan_count": 0,
          "min": "2011",
          "max": "2016",
          "histogram": [
           {
            "bin_start": 2011,
            "bin_end": 2011.5,
            "count": 1
           },
           {
            "bin_start": 2011.5,
            "bin_end": 2012,
            "count": 0
           },
           {
            "bin_start": 2012,
            "bin_end": 2012.5,
            "count": 0
           },
           {
            "bin_start": 2012.5,
            "bin_end": 2013,
            "count": 0
           },
           {
            "bin_start": 2013,
            "bin_end": 2013.5,
            "count": 0
           },
           {
            "bin_start": 2013.5,
            "bin_end": 2014,
            "count": 0
           },
           {
            "bin_start": 2014,
            "bin_end": 2014.5,
            "count": 0
           },
           {
            "bin_start": 2014.5,
            "bin_end": 2015,
            "count": 0
           },
           {
            "bin_start": 2015,
            "bin_end": 2015.5,
            "count": 0
           },
           {
            "bin_start": 2015.5,
            "bin_end": 2016,
            "count": 1
           }
          ]
         }
        },
        {
         "name": "Genre",
         "dtype": "object",
         "stats": {
          "unique_count": 2,
          "nan_count": 0,
          "categories": [
           {
            "name": "Non Fiction",
            "count": 1
           },
           {
            "name": "Fiction",
            "count": 1
           }
          ]
         }
        },
        {
         "name": "_deepnote_index_column",
         "dtype": "int64"
        }
       ],
       "rows": [
        {
         "User-Rating": 4.7,
         "Reviews": 17350,
         "Price": 8,
         "Year": 2016,
         "Genre": "Non Fiction",
         "_deepnote_index_column": 0
        },
        {
         "User-Rating": 4.6,
         "Reviews": 2052,
         "Price": 22,
         "Year": 2011,
         "Genre": "Fiction",
         "_deepnote_index_column": 1
        }
       ]
      },
      "text/plain": "   User-Rating  Reviews  Price  Year        Genre\n0          4.7    17350      8  2016  Non Fiction\n1          4.6     2052     22  2011      Fiction",
      "text/html": "<div>\n<style scoped>\n    .dataframe tbody tr th:only-of-type {\n        vertical-align: middle;\n    }\n\n    .dataframe tbody tr th {\n        vertical-align: top;\n    }\n\n    .dataframe thead th {\n        text-align: right;\n    }\n</style>\n<table border=\"1\" class=\"dataframe\">\n  <thead>\n    <tr style=\"text-align: right;\">\n      <th></th>\n      <th>User-Rating</th>\n      <th>Reviews</th>\n      <th>Price</th>\n      <th>Year</th>\n      <th>Genre</th>\n    </tr>\n  </thead>\n  <tbody>\n    <tr>\n      <th>0</th>\n      <td>4.7</td>\n      <td>17350</td>\n      <td>8</td>\n      <td>2016</td>\n      <td>Non Fiction</td>\n    </tr>\n    <tr>\n      <th>1</th>\n      <td>4.6</td>\n      <td>2052</td>\n      <td>22</td>\n      <td>2011</td>\n      <td>Fiction</td>\n    </tr>\n  </tbody>\n</table>\n</div>"
     },
     "metadata": {}
    }
   ],
   "execution_count": null
  },
  {
   "cell_type": "code",
   "source": "df_books.loc[:,['Author']]",
   "metadata": {
    "cell_id": "f026450a5a224e009daf319d48d5d2b5",
    "tags": [],
    "deepnote_to_be_reexecuted": false,
    "source_hash": "3e807659",
    "execution_start": 1654101893189,
    "execution_millis": 15,
    "deepnote_cell_type": "code",
    "deepnote_cell_height": 600,
    "deepnote_output_heights": [
     232.25
    ]
   },
   "outputs": [
    {
     "output_type": "execute_result",
     "execution_count": 30,
     "data": {
      "application/vnd.deepnote.dataframe.v3+json": {
       "column_count": 1,
       "row_count": 550,
       "columns": [
        {
         "name": "Author",
         "dtype": "object",
         "stats": {
          "unique_count": 248,
          "nan_count": 0,
          "categories": [
           {
            "name": "Jeff Kinney",
            "count": 12
           },
           {
            "name": "Suzanne Collins",
            "count": 11
           },
           {
            "name": "246 others",
            "count": 527
           }
          ]
         }
        },
        {
         "name": "_deepnote_index_column",
         "dtype": "int64"
        }
       ],
       "rows": [
        {
         "Author": "JJ Smith",
         "_deepnote_index_column": 0
        },
        {
         "Author": "Stephen King",
         "_deepnote_index_column": 1
        },
        {
         "Author": "Jordan B. Peterson",
         "_deepnote_index_column": 2
        },
        {
         "Author": "George Orwell",
         "_deepnote_index_column": 3
        },
        {
         "Author": "National Geographic Kids",
         "_deepnote_index_column": 4
        },
        {
         "Author": "George R. R. Martin",
         "_deepnote_index_column": 5
        },
        {
         "Author": "George R. R. Martin",
         "_deepnote_index_column": 6
        },
        {
         "Author": "Amor Towles",
         "_deepnote_index_column": 7
        },
        {
         "Author": "James Comey",
         "_deepnote_index_column": 8
        },
        {
         "Author": "Fredrik Backman",
         "_deepnote_index_column": 9
        }
       ]
      },
      "text/plain": "                       Author\n0                    JJ Smith\n1                Stephen King\n2          Jordan B. Peterson\n3               George Orwell\n4    National Geographic Kids\n..                        ...\n545               Jeff Kinney\n546               Jen Sincero\n547               Jen Sincero\n548               Jen Sincero\n549               Jen Sincero\n\n[550 rows x 1 columns]",
      "text/html": "<div>\n<style scoped>\n    .dataframe tbody tr th:only-of-type {\n        vertical-align: middle;\n    }\n\n    .dataframe tbody tr th {\n        vertical-align: top;\n    }\n\n    .dataframe thead th {\n        text-align: right;\n    }\n</style>\n<table border=\"1\" class=\"dataframe\">\n  <thead>\n    <tr style=\"text-align: right;\">\n      <th></th>\n      <th>Author</th>\n    </tr>\n  </thead>\n  <tbody>\n    <tr>\n      <th>0</th>\n      <td>JJ Smith</td>\n    </tr>\n    <tr>\n      <th>1</th>\n      <td>Stephen King</td>\n    </tr>\n    <tr>\n      <th>2</th>\n      <td>Jordan B. Peterson</td>\n    </tr>\n    <tr>\n      <th>3</th>\n      <td>George Orwell</td>\n    </tr>\n    <tr>\n      <th>4</th>\n      <td>National Geographic Kids</td>\n    </tr>\n    <tr>\n      <th>...</th>\n      <td>...</td>\n    </tr>\n    <tr>\n      <th>545</th>\n      <td>Jeff Kinney</td>\n    </tr>\n    <tr>\n      <th>546</th>\n      <td>Jen Sincero</td>\n    </tr>\n    <tr>\n      <th>547</th>\n      <td>Jen Sincero</td>\n    </tr>\n    <tr>\n      <th>548</th>\n      <td>Jen Sincero</td>\n    </tr>\n    <tr>\n      <th>549</th>\n      <td>Jen Sincero</td>\n    </tr>\n  </tbody>\n</table>\n<p>550 rows × 1 columns</p>\n</div>"
     },
     "metadata": {}
    }
   ],
   "execution_count": null
  },
  {
   "cell_type": "markdown",
   "source": "<a style='text-decoration:none;line-height:16px;display:flex;color:#5B5B62;padding:10px;justify-content:end;' href='https://deepnote.com?utm_source=created-in-deepnote-cell&projectId=837cf1af-c506-4091-b16c-c4a4c0575614' target=\"_blank\">\n<img alt='Created in deepnote.com' style='display:inline;max-height:16px;margin:0px;margin-right:7.5px;' src='data:image/svg+xml;base64,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' > </img>\nCreated in <span style='font-weight:600;margin-left:4px;'>Deepnote</span></a>",
   "metadata": {
    "tags": [],
    "created_in_deepnote_cell": true,
    "deepnote_cell_type": "markdown"
   }
  }
 ],
 "nbformat": 4,
 "nbformat_minor": 2,
 "metadata": {
  "orig_nbformat": 2,
  "deepnote": {},
  "deepnote_notebook_id": "0b7291f1-5ed8-4b73-8001-40e7c01fd038",
  "deepnote_execution_queue": []
 }
}