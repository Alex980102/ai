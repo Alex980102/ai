{
 "cells": [
  {
   "cell_type": "code",
   "metadata": {
    "tags": [],
    "cell_id": "6cc24bf9-2d05-4b8b-9ac4-568e2e231cae",
    "deepnote_to_be_reexecuted": false,
    "source_hash": "9b82ee11",
    "execution_start": 1654531316341,
    "execution_millis": 4,
    "deepnote_cell_type": "code",
    "deepnote_cell_height": 81
   },
   "source": "import pandas as pd",
   "execution_count": null,
   "outputs": []
  },
  {
   "cell_type": "code",
   "metadata": {
    "cell_id": "37f1e3dad7624ee4ba6136c3c59e63f1",
    "tags": [],
    "deepnote_to_be_reexecuted": false,
    "source_hash": "adf3d5de",
    "execution_start": 1654531566054,
    "execution_millis": 101,
    "deepnote_cell_type": "code",
    "deepnote_cell_height": 666
   },
   "source": "df_books = pd.read_csv('https://static.platzi.com/media/public/uploads/bestsellers-with-categories_e591527f-ae45-4fa5-b0d1-d50142128fa6.csv', sep=',', header=0, names=['Name', 'Author', 'User-Rating', 'Reviews', 'Price', 'Year', 'Genre'])\ndf_books",
   "execution_count": null,
   "outputs": [
    {
     "output_type": "execute_result",
     "execution_count": 2,
     "data": {
      "application/vnd.deepnote.dataframe.v3+json": {
       "column_count": 7,
       "row_count": 550,
       "columns": [
        {
         "name": "Name",
         "dtype": "object",
         "stats": {
          "unique_count": 351,
          "nan_count": 0,
          "categories": [
           {
            "name": "Publication Manual of the American Psychological Association, 6th Edition",
            "count": 10
           },
           {
            "name": "StrengthsFinder 2.0",
            "count": 9
           },
           {
            "name": "349 others",
            "count": 531
           }
          ]
         }
        },
        {
         "name": "Author",
         "dtype": "object",
         "stats": {
          "unique_count": 248,
          "nan_count": 0,
          "categories": [
           {
            "name": "Jeff Kinney",
            "count": 12
           },
           {
            "name": "Suzanne Collins",
            "count": 11
           },
           {
            "name": "246 others",
            "count": 527
           }
          ]
         }
        },
        {
         "name": "User-Rating",
         "dtype": "float64",
         "stats": {
          "unique_count": 14,
          "nan_count": 0,
          "min": "3.3",
          "max": "4.9",
          "histogram": [
           {
            "bin_start": 3.3,
            "bin_end": 3.46,
            "count": 1
           },
           {
            "bin_start": 3.46,
            "bin_end": 3.62,
            "count": 1
           },
           {
            "bin_start": 3.62,
            "bin_end": 3.7800000000000002,
            "count": 0
           },
           {
            "bin_start": 3.7800000000000002,
            "bin_end": 3.94,
            "count": 5
           },
           {
            "bin_start": 3.94,
            "bin_end": 4.1,
            "count": 14
           },
           {
            "bin_start": 4.1,
            "bin_end": 4.26,
            "count": 14
           },
           {
            "bin_start": 4.26,
            "bin_end": 4.42,
            "count": 63
           },
           {
            "bin_start": 4.42,
            "bin_end": 4.58,
            "count": 60
           },
           {
            "bin_start": 4.58,
            "bin_end": 4.74,
            "count": 213
           },
           {
            "bin_start": 4.74,
            "bin_end": 4.9,
            "count": 179
           }
          ]
         }
        },
        {
         "name": "Reviews",
         "dtype": "int64",
         "stats": {
          "unique_count": 346,
          "nan_count": 0,
          "min": "37",
          "max": "87841",
          "histogram": [
           {
            "bin_start": 37,
            "bin_end": 8817.4,
            "count": 287
           },
           {
            "bin_start": 8817.4,
            "bin_end": 17597.8,
            "count": 131
           },
           {
            "bin_start": 17597.8,
            "bin_end": 26378.199999999997,
            "count": 87
           },
           {
            "bin_start": 26378.199999999997,
            "bin_end": 35158.6,
            "count": 25
           },
           {
            "bin_start": 35158.6,
            "bin_end": 43939,
            "count": 4
           },
           {
            "bin_start": 43939,
            "bin_end": 52719.399999999994,
            "count": 8
           },
           {
            "bin_start": 52719.399999999994,
            "bin_end": 61499.799999999996,
            "count": 5
           },
           {
            "bin_start": 61499.799999999996,
            "bin_end": 70280.2,
            "count": 0
           },
           {
            "bin_start": 70280.2,
            "bin_end": 79060.59999999999,
            "count": 0
           },
           {
            "bin_start": 79060.59999999999,
            "bin_end": 87841,
            "count": 3
           }
          ]
         }
        },
        {
         "name": "Price",
         "dtype": "int64",
         "stats": {
          "unique_count": 40,
          "nan_count": 0,
          "min": "0",
          "max": "105",
          "histogram": [
           {
            "bin_start": 0,
            "bin_end": 10.5,
            "count": 266
           },
           {
            "bin_start": 10.5,
            "bin_end": 21,
            "count": 216
           },
           {
            "bin_start": 21,
            "bin_end": 31.5,
            "count": 42
           },
           {
            "bin_start": 31.5,
            "bin_end": 42,
            "count": 9
           },
           {
            "bin_start": 42,
            "bin_end": 52.5,
            "count": 12
           },
           {
            "bin_start": 52.5,
            "bin_end": 63,
            "count": 2
           },
           {
            "bin_start": 63,
            "bin_end": 73.5,
            "count": 0
           },
           {
            "bin_start": 73.5,
            "bin_end": 84,
            "count": 1
           },
           {
            "bin_start": 84,
            "bin_end": 94.5,
            "count": 0
           },
           {
            "bin_start": 94.5,
            "bin_end": 105,
            "count": 2
           }
          ]
         }
        },
        {
         "name": "Year",
         "dtype": "int64",
         "stats": {
          "unique_count": 11,
          "nan_count": 0,
          "min": "2009",
          "max": "2019",
          "histogram": [
           {
            "bin_start": 2009,
            "bin_end": 2010,
            "count": 50
           },
           {
            "bin_start": 2010,
            "bin_end": 2011,
            "count": 50
           },
           {
            "bin_start": 2011,
            "bin_end": 2012,
            "count": 50
           },
           {
            "bin_start": 2012,
            "bin_end": 2013,
            "count": 50
           },
           {
            "bin_start": 2013,
            "bin_end": 2014,
            "count": 50
           },
           {
            "bin_start": 2014,
            "bin_end": 2015,
            "count": 50
           },
           {
            "bin_start": 2015,
            "bin_end": 2016,
            "count": 50
           },
           {
            "bin_start": 2016,
            "bin_end": 2017,
            "count": 50
           },
           {
            "bin_start": 2017,
            "bin_end": 2018,
            "count": 50
           },
           {
            "bin_start": 2018,
            "bin_end": 2019,
            "count": 100
           }
          ]
         }
        },
        {
         "name": "Genre",
         "dtype": "object",
         "stats": {
          "unique_count": 2,
          "nan_count": 0,
          "categories": [
           {
            "name": "Non Fiction",
            "count": 310
           },
           {
            "name": "Fiction",
            "count": 240
           }
          ]
         }
        },
        {
         "name": "_deepnote_index_column",
         "dtype": "int64"
        }
       ],
       "rows": [
        {
         "Name": "10-Day Green Smoothie Cleanse",
         "Author": "JJ Smith",
         "User-Rating": 4.7,
         "Reviews": 17350,
         "Price": 8,
         "Year": 2016,
         "Genre": "Non Fiction",
         "_deepnote_index_column": 0
        },
        {
         "Name": "11/22/63: A Novel",
         "Author": "Stephen King",
         "User-Rating": 4.6,
         "Reviews": 2052,
         "Price": 22,
         "Year": 2011,
         "Genre": "Fiction",
         "_deepnote_index_column": 1
        },
        {
         "Name": "12 Rules for Life: An Antidote to Chaos",
         "Author": "Jordan B. Peterson",
         "User-Rating": 4.7,
         "Reviews": 18979,
         "Price": 15,
         "Year": 2018,
         "Genre": "Non Fiction",
         "_deepnote_index_column": 2
        },
        {
         "Name": "1984 (Signet Classics)",
         "Author": "George Orwell",
         "User-Rating": 4.7,
         "Reviews": 21424,
         "Price": 6,
         "Year": 2017,
         "Genre": "Fiction",
         "_deepnote_index_column": 3
        },
        {
         "Name": "5,000 Awesome Facts (About Everything!) (National Geographic Kids)",
         "Author": "National Geographic Kids",
         "User-Rating": 4.8,
         "Reviews": 7665,
         "Price": 12,
         "Year": 2019,
         "Genre": "Non Fiction",
         "_deepnote_index_column": 4
        },
        {
         "Name": "A Dance with Dragons (A Song of Ice and Fire)",
         "Author": "George R. R. Martin",
         "User-Rating": 4.4,
         "Reviews": 12643,
         "Price": 11,
         "Year": 2011,
         "Genre": "Fiction",
         "_deepnote_index_column": 5
        },
        {
         "Name": "A Game of Thrones / A Clash of Kings / A Storm of Swords / A Feast of Crows / A Dance with Dragons",
         "Author": "George R. R. Martin",
         "User-Rating": 4.7,
         "Reviews": 19735,
         "Price": 30,
         "Year": 2014,
         "Genre": "Fiction",
         "_deepnote_index_column": 6
        },
        {
         "Name": "A Gentleman in Moscow: A Novel",
         "Author": "Amor Towles",
         "User-Rating": 4.7,
         "Reviews": 19699,
         "Price": 15,
         "Year": 2017,
         "Genre": "Fiction",
         "_deepnote_index_column": 7
        },
        {
         "Name": "A Higher Loyalty: Truth, Lies, and Leadership",
         "Author": "James Comey",
         "User-Rating": 4.7,
         "Reviews": 5983,
         "Price": 3,
         "Year": 2018,
         "Genre": "Non Fiction",
         "_deepnote_index_column": 8
        },
        {
         "Name": "A Man Called Ove: A Novel",
         "Author": "Fredrik Backman",
         "User-Rating": 4.6,
         "Reviews": 23848,
         "Price": 8,
         "Year": 2016,
         "Genre": "Fiction",
         "_deepnote_index_column": 9
        }
       ]
      },
      "text/plain": "                                                  Name  \\\n0                        10-Day Green Smoothie Cleanse   \n1                                    11/22/63: A Novel   \n2              12 Rules for Life: An Antidote to Chaos   \n3                               1984 (Signet Classics)   \n4    5,000 Awesome Facts (About Everything!) (Natio...   \n..                                                 ...   \n545       Wrecking Ball (Diary of a Wimpy Kid Book 14)   \n546  You Are a Badass: How to Stop Doubting Your Gr...   \n547  You Are a Badass: How to Stop Doubting Your Gr...   \n548  You Are a Badass: How to Stop Doubting Your Gr...   \n549  You Are a Badass: How to Stop Doubting Your Gr...   \n\n                       Author  User-Rating  Reviews  Price  Year        Genre  \n0                    JJ Smith          4.7    17350      8  2016  Non Fiction  \n1                Stephen King          4.6     2052     22  2011      Fiction  \n2          Jordan B. Peterson          4.7    18979     15  2018  Non Fiction  \n3               George Orwell          4.7    21424      6  2017      Fiction  \n4    National Geographic Kids          4.8     7665     12  2019  Non Fiction  \n..                        ...          ...      ...    ...   ...          ...  \n545               Jeff Kinney          4.9     9413      8  2019      Fiction  \n546               Jen Sincero          4.7    14331      8  2016  Non Fiction  \n547               Jen Sincero          4.7    14331      8  2017  Non Fiction  \n548               Jen Sincero          4.7    14331      8  2018  Non Fiction  \n549               Jen Sincero          4.7    14331      8  2019  Non Fiction  \n\n[550 rows x 7 columns]",
      "text/html": "<div>\n<style scoped>\n    .dataframe tbody tr th:only-of-type {\n        vertical-align: middle;\n    }\n\n    .dataframe tbody tr th {\n        vertical-align: top;\n    }\n\n    .dataframe thead th {\n        text-align: right;\n    }\n</style>\n<table border=\"1\" class=\"dataframe\">\n  <thead>\n    <tr style=\"text-align: right;\">\n      <th></th>\n      <th>Name</th>\n      <th>Author</th>\n      <th>User-Rating</th>\n      <th>Reviews</th>\n      <th>Price</th>\n      <th>Year</th>\n      <th>Genre</th>\n    </tr>\n  </thead>\n  <tbody>\n    <tr>\n      <th>0</th>\n      <td>10-Day Green Smoothie Cleanse</td>\n      <td>JJ Smith</td>\n      <td>4.7</td>\n      <td>17350</td>\n      <td>8</td>\n      <td>2016</td>\n      <td>Non Fiction</td>\n    </tr>\n    <tr>\n      <th>1</th>\n      <td>11/22/63: A Novel</td>\n      <td>Stephen King</td>\n      <td>4.6</td>\n      <td>2052</td>\n      <td>22</td>\n      <td>2011</td>\n      <td>Fiction</td>\n    </tr>\n    <tr>\n      <th>2</th>\n      <td>12 Rules for Life: An Antidote to Chaos</td>\n      <td>Jordan B. Peterson</td>\n      <td>4.7</td>\n      <td>18979</td>\n      <td>15</td>\n      <td>2018</td>\n      <td>Non Fiction</td>\n    </tr>\n    <tr>\n      <th>3</th>\n      <td>1984 (Signet Classics)</td>\n      <td>George Orwell</td>\n      <td>4.7</td>\n      <td>21424</td>\n      <td>6</td>\n      <td>2017</td>\n      <td>Fiction</td>\n    </tr>\n    <tr>\n      <th>4</th>\n      <td>5,000 Awesome Facts (About Everything!) (Natio...</td>\n      <td>National Geographic Kids</td>\n      <td>4.8</td>\n      <td>7665</td>\n      <td>12</td>\n      <td>2019</td>\n      <td>Non Fiction</td>\n    </tr>\n    <tr>\n      <th>...</th>\n      <td>...</td>\n      <td>...</td>\n      <td>...</td>\n      <td>...</td>\n      <td>...</td>\n      <td>...</td>\n      <td>...</td>\n    </tr>\n    <tr>\n      <th>545</th>\n      <td>Wrecking Ball (Diary of a Wimpy Kid Book 14)</td>\n      <td>Jeff Kinney</td>\n      <td>4.9</td>\n      <td>9413</td>\n      <td>8</td>\n      <td>2019</td>\n      <td>Fiction</td>\n    </tr>\n    <tr>\n      <th>546</th>\n      <td>You Are a Badass: How to Stop Doubting Your Gr...</td>\n      <td>Jen Sincero</td>\n      <td>4.7</td>\n      <td>14331</td>\n      <td>8</td>\n      <td>2016</td>\n      <td>Non Fiction</td>\n    </tr>\n    <tr>\n      <th>547</th>\n      <td>You Are a Badass: How to Stop Doubting Your Gr...</td>\n      <td>Jen Sincero</td>\n      <td>4.7</td>\n      <td>14331</td>\n      <td>8</td>\n      <td>2017</td>\n      <td>Non Fiction</td>\n    </tr>\n    <tr>\n      <th>548</th>\n      <td>You Are a Badass: How to Stop Doubting Your Gr...</td>\n      <td>Jen Sincero</td>\n      <td>4.7</td>\n      <td>14331</td>\n      <td>8</td>\n      <td>2018</td>\n      <td>Non Fiction</td>\n    </tr>\n    <tr>\n      <th>549</th>\n      <td>You Are a Badass: How to Stop Doubting Your Gr...</td>\n      <td>Jen Sincero</td>\n      <td>4.7</td>\n      <td>14331</td>\n      <td>8</td>\n      <td>2019</td>\n      <td>Non Fiction</td>\n    </tr>\n  </tbody>\n</table>\n<p>550 rows × 7 columns</p>\n</div>"
     },
     "metadata": {}
    }
   ]
  },
  {
   "cell_type": "code",
   "metadata": {
    "cell_id": "e59e8b9bbe2840139174e64c5b32d101",
    "tags": [],
    "deepnote_to_be_reexecuted": false,
    "source_hash": "9db38d06",
    "execution_start": 1654531596268,
    "execution_millis": 6,
    "deepnote_cell_type": "code",
    "deepnote_cell_height": 99
   },
   "source": "def two_times(value):\n    return value * 2",
   "execution_count": null,
   "outputs": []
  },
  {
   "cell_type": "code",
   "metadata": {
    "cell_id": "86cb353336c94093a364cfbe49d1cc4a",
    "tags": [],
    "deepnote_to_be_reexecuted": false,
    "source_hash": "707c2bba",
    "execution_start": 1654531754633,
    "execution_millis": 1,
    "deepnote_cell_type": "code",
    "deepnote_cell_height": 81
   },
   "source": "df_books['Rating_2'] = df_books['User-Rating'].apply(two_times)",
   "execution_count": null,
   "outputs": []
  },
  {
   "cell_type": "code",
   "metadata": {
    "cell_id": "93d1f7174d344486a71540cd0597da58",
    "tags": [],
    "deepnote_to_be_reexecuted": false,
    "source_hash": "42b86fa",
    "execution_start": 1654531758959,
    "execution_millis": 64,
    "deepnote_cell_type": "code",
    "deepnote_cell_height": 648
   },
   "source": "df_books",
   "execution_count": null,
   "outputs": [
    {
     "output_type": "execute_result",
     "execution_count": 7,
     "data": {
      "application/vnd.deepnote.dataframe.v3+json": {
       "column_count": 8,
       "row_count": 550,
       "columns": [
        {
         "name": "Name",
         "dtype": "object",
         "stats": {
          "unique_count": 351,
          "nan_count": 0,
          "categories": [
           {
            "name": "Publication Manual of the American Psychological Association, 6th Edition",
            "count": 10
           },
           {
            "name": "StrengthsFinder 2.0",
            "count": 9
           },
           {
            "name": "349 others",
            "count": 531
           }
          ]
         }
        },
        {
         "name": "Author",
         "dtype": "object",
         "stats": {
          "unique_count": 248,
          "nan_count": 0,
          "categories": [
           {
            "name": "Jeff Kinney",
            "count": 12
           },
           {
            "name": "Suzanne Collins",
            "count": 11
           },
           {
            "name": "246 others",
            "count": 527
           }
          ]
         }
        },
        {
         "name": "User-Rating",
         "dtype": "float64",
         "stats": {
          "unique_count": 14,
          "nan_count": 0,
          "min": "3.3",
          "max": "4.9",
          "histogram": [
           {
            "bin_start": 3.3,
            "bin_end": 3.46,
            "count": 1
           },
           {
            "bin_start": 3.46,
            "bin_end": 3.62,
            "count": 1
           },
           {
            "bin_start": 3.62,
            "bin_end": 3.7800000000000002,
            "count": 0
           },
           {
            "bin_start": 3.7800000000000002,
            "bin_end": 3.94,
            "count": 5
           },
           {
            "bin_start": 3.94,
            "bin_end": 4.1,
            "count": 14
           },
           {
            "bin_start": 4.1,
            "bin_end": 4.26,
            "count": 14
           },
           {
            "bin_start": 4.26,
            "bin_end": 4.42,
            "count": 63
           },
           {
            "bin_start": 4.42,
            "bin_end": 4.58,
            "count": 60
           },
           {
            "bin_start": 4.58,
            "bin_end": 4.74,
            "count": 213
           },
           {
            "bin_start": 4.74,
            "bin_end": 4.9,
            "count": 179
           }
          ]
         }
        },
        {
         "name": "Reviews",
         "dtype": "int64",
         "stats": {
          "unique_count": 346,
          "nan_count": 0,
          "min": "37",
          "max": "87841",
          "histogram": [
           {
            "bin_start": 37,
            "bin_end": 8817.4,
            "count": 287
           },
           {
            "bin_start": 8817.4,
            "bin_end": 17597.8,
            "count": 131
           },
           {
            "bin_start": 17597.8,
            "bin_end": 26378.199999999997,
            "count": 87
           },
           {
            "bin_start": 26378.199999999997,
            "bin_end": 35158.6,
            "count": 25
           },
           {
            "bin_start": 35158.6,
            "bin_end": 43939,
            "count": 4
           },
           {
            "bin_start": 43939,
            "bin_end": 52719.399999999994,
            "count": 8
           },
           {
            "bin_start": 52719.399999999994,
            "bin_end": 61499.799999999996,
            "count": 5
           },
           {
            "bin_start": 61499.799999999996,
            "bin_end": 70280.2,
            "count": 0
           },
           {
            "bin_start": 70280.2,
            "bin_end": 79060.59999999999,
            "count": 0
           },
           {
            "bin_start": 79060.59999999999,
            "bin_end": 87841,
            "count": 3
           }
          ]
         }
        },
        {
         "name": "Price",
         "dtype": "int64",
         "stats": {
          "unique_count": 40,
          "nan_count": 0,
          "min": "0",
          "max": "105",
          "histogram": [
           {
            "bin_start": 0,
            "bin_end": 10.5,
            "count": 266
           },
           {
            "bin_start": 10.5,
            "bin_end": 21,
            "count": 216
           },
           {
            "bin_start": 21,
            "bin_end": 31.5,
            "count": 42
           },
           {
            "bin_start": 31.5,
            "bin_end": 42,
            "count": 9
           },
           {
            "bin_start": 42,
            "bin_end": 52.5,
            "count": 12
           },
           {
            "bin_start": 52.5,
            "bin_end": 63,
            "count": 2
           },
           {
            "bin_start": 63,
            "bin_end": 73.5,
            "count": 0
           },
           {
            "bin_start": 73.5,
            "bin_end": 84,
            "count": 1
           },
           {
            "bin_start": 84,
            "bin_end": 94.5,
            "count": 0
           },
           {
            "bin_start": 94.5,
            "bin_end": 105,
            "count": 2
           }
          ]
         }
        },
        {
         "name": "Year",
         "dtype": "int64",
         "stats": {
          "unique_count": 11,
          "nan_count": 0,
          "min": "2009",
          "max": "2019",
          "histogram": [
           {
            "bin_start": 2009,
            "bin_end": 2010,
            "count": 50
           },
           {
            "bin_start": 2010,
            "bin_end": 2011,
            "count": 50
           },
           {
            "bin_start": 2011,
            "bin_end": 2012,
            "count": 50
           },
           {
            "bin_start": 2012,
            "bin_end": 2013,
            "count": 50
           },
           {
            "bin_start": 2013,
            "bin_end": 2014,
            "count": 50
           },
           {
            "bin_start": 2014,
            "bin_end": 2015,
            "count": 50
           },
           {
            "bin_start": 2015,
            "bin_end": 2016,
            "count": 50
           },
           {
            "bin_start": 2016,
            "bin_end": 2017,
            "count": 50
           },
           {
            "bin_start": 2017,
            "bin_end": 2018,
            "count": 50
           },
           {
            "bin_start": 2018,
            "bin_end": 2019,
            "count": 100
           }
          ]
         }
        },
        {
         "name": "Genre",
         "dtype": "object",
         "stats": {
          "unique_count": 2,
          "nan_count": 0,
          "categories": [
           {
            "name": "Non Fiction",
            "count": 310
           },
           {
            "name": "Fiction",
            "count": 240
           }
          ]
         }
        },
        {
         "name": "Rating_2",
         "dtype": "float64",
         "stats": {
          "unique_count": 14,
          "nan_count": 0,
          "min": "6.6",
          "max": "9.8",
          "histogram": [
           {
            "bin_start": 6.6,
            "bin_end": 6.92,
            "count": 1
           },
           {
            "bin_start": 6.92,
            "bin_end": 7.24,
            "count": 1
           },
           {
            "bin_start": 7.24,
            "bin_end": 7.5600000000000005,
            "count": 0
           },
           {
            "bin_start": 7.5600000000000005,
            "bin_end": 7.88,
            "count": 5
           },
           {
            "bin_start": 7.88,
            "bin_end": 8.2,
            "count": 14
           },
           {
            "bin_start": 8.2,
            "bin_end": 8.52,
            "count": 14
           },
           {
            "bin_start": 8.52,
            "bin_end": 8.84,
            "count": 63
           },
           {
            "bin_start": 8.84,
            "bin_end": 9.16,
            "count": 60
           },
           {
            "bin_start": 9.16,
            "bin_end": 9.48,
            "count": 213
           },
           {
            "bin_start": 9.48,
            "bin_end": 9.8,
            "count": 179
           }
          ]
         }
        },
        {
         "name": "_deepnote_index_column",
         "dtype": "int64"
        }
       ],
       "rows": [
        {
         "Name": "10-Day Green Smoothie Cleanse",
         "Author": "JJ Smith",
         "User-Rating": 4.7,
         "Reviews": 17350,
         "Price": 8,
         "Year": 2016,
         "Genre": "Non Fiction",
         "Rating_2": 9.4,
         "_deepnote_index_column": 0
        },
        {
         "Name": "11/22/63: A Novel",
         "Author": "Stephen King",
         "User-Rating": 4.6,
         "Reviews": 2052,
         "Price": 22,
         "Year": 2011,
         "Genre": "Fiction",
         "Rating_2": 9.2,
         "_deepnote_index_column": 1
        },
        {
         "Name": "12 Rules for Life: An Antidote to Chaos",
         "Author": "Jordan B. Peterson",
         "User-Rating": 4.7,
         "Reviews": 18979,
         "Price": 15,
         "Year": 2018,
         "Genre": "Non Fiction",
         "Rating_2": 9.4,
         "_deepnote_index_column": 2
        },
        {
         "Name": "1984 (Signet Classics)",
         "Author": "George Orwell",
         "User-Rating": 4.7,
         "Reviews": 21424,
         "Price": 6,
         "Year": 2017,
         "Genre": "Fiction",
         "Rating_2": 9.4,
         "_deepnote_index_column": 3
        },
        {
         "Name": "5,000 Awesome Facts (About Everything!) (National Geographic Kids)",
         "Author": "National Geographic Kids",
         "User-Rating": 4.8,
         "Reviews": 7665,
         "Price": 12,
         "Year": 2019,
         "Genre": "Non Fiction",
         "Rating_2": 9.6,
         "_deepnote_index_column": 4
        },
        {
         "Name": "A Dance with Dragons (A Song of Ice and Fire)",
         "Author": "George R. R. Martin",
         "User-Rating": 4.4,
         "Reviews": 12643,
         "Price": 11,
         "Year": 2011,
         "Genre": "Fiction",
         "Rating_2": 8.8,
         "_deepnote_index_column": 5
        },
        {
         "Name": "A Game of Thrones / A Clash of Kings / A Storm of Swords / A Feast of Crows / A Dance with Dragons",
         "Author": "George R. R. Martin",
         "User-Rating": 4.7,
         "Reviews": 19735,
         "Price": 30,
         "Year": 2014,
         "Genre": "Fiction",
         "Rating_2": 9.4,
         "_deepnote_index_column": 6
        },
        {
         "Name": "A Gentleman in Moscow: A Novel",
         "Author": "Amor Towles",
         "User-Rating": 4.7,
         "Reviews": 19699,
         "Price": 15,
         "Year": 2017,
         "Genre": "Fiction",
         "Rating_2": 9.4,
         "_deepnote_index_column": 7
        },
        {
         "Name": "A Higher Loyalty: Truth, Lies, and Leadership",
         "Author": "James Comey",
         "User-Rating": 4.7,
         "Reviews": 5983,
         "Price": 3,
         "Year": 2018,
         "Genre": "Non Fiction",
         "Rating_2": 9.4,
         "_deepnote_index_column": 8
        },
        {
         "Name": "A Man Called Ove: A Novel",
         "Author": "Fredrik Backman",
         "User-Rating": 4.6,
         "Reviews": 23848,
         "Price": 8,
         "Year": 2016,
         "Genre": "Fiction",
         "Rating_2": 9.2,
         "_deepnote_index_column": 9
        }
       ]
      },
      "text/plain": "                                                  Name  \\\n0                        10-Day Green Smoothie Cleanse   \n1                                    11/22/63: A Novel   \n2              12 Rules for Life: An Antidote to Chaos   \n3                               1984 (Signet Classics)   \n4    5,000 Awesome Facts (About Everything!) (Natio...   \n..                                                 ...   \n545       Wrecking Ball (Diary of a Wimpy Kid Book 14)   \n546  You Are a Badass: How to Stop Doubting Your Gr...   \n547  You Are a Badass: How to Stop Doubting Your Gr...   \n548  You Are a Badass: How to Stop Doubting Your Gr...   \n549  You Are a Badass: How to Stop Doubting Your Gr...   \n\n                       Author  User-Rating  Reviews  Price  Year        Genre  \\\n0                    JJ Smith          4.7    17350      8  2016  Non Fiction   \n1                Stephen King          4.6     2052     22  2011      Fiction   \n2          Jordan B. Peterson          4.7    18979     15  2018  Non Fiction   \n3               George Orwell          4.7    21424      6  2017      Fiction   \n4    National Geographic Kids          4.8     7665     12  2019  Non Fiction   \n..                        ...          ...      ...    ...   ...          ...   \n545               Jeff Kinney          4.9     9413      8  2019      Fiction   \n546               Jen Sincero          4.7    14331      8  2016  Non Fiction   \n547               Jen Sincero          4.7    14331      8  2017  Non Fiction   \n548               Jen Sincero          4.7    14331      8  2018  Non Fiction   \n549               Jen Sincero          4.7    14331      8  2019  Non Fiction   \n\n     Rating_2  \n0         9.4  \n1         9.2  \n2         9.4  \n3         9.4  \n4         9.6  \n..        ...  \n545       9.8  \n546       9.4  \n547       9.4  \n548       9.4  \n549       9.4  \n\n[550 rows x 8 columns]",
      "text/html": "<div>\n<style scoped>\n    .dataframe tbody tr th:only-of-type {\n        vertical-align: middle;\n    }\n\n    .dataframe tbody tr th {\n        vertical-align: top;\n    }\n\n    .dataframe thead th {\n        text-align: right;\n    }\n</style>\n<table border=\"1\" class=\"dataframe\">\n  <thead>\n    <tr style=\"text-align: right;\">\n      <th></th>\n      <th>Name</th>\n      <th>Author</th>\n      <th>User-Rating</th>\n      <th>Reviews</th>\n      <th>Price</th>\n      <th>Year</th>\n      <th>Genre</th>\n      <th>Rating_2</th>\n    </tr>\n  </thead>\n  <tbody>\n    <tr>\n      <th>0</th>\n      <td>10-Day Green Smoothie Cleanse</td>\n      <td>JJ Smith</td>\n      <td>4.7</td>\n      <td>17350</td>\n      <td>8</td>\n      <td>2016</td>\n      <td>Non Fiction</td>\n      <td>9.4</td>\n    </tr>\n    <tr>\n      <th>1</th>\n      <td>11/22/63: A Novel</td>\n      <td>Stephen King</td>\n      <td>4.6</td>\n      <td>2052</td>\n      <td>22</td>\n      <td>2011</td>\n      <td>Fiction</td>\n      <td>9.2</td>\n    </tr>\n    <tr>\n      <th>2</th>\n      <td>12 Rules for Life: An Antidote to Chaos</td>\n      <td>Jordan B. Peterson</td>\n      <td>4.7</td>\n      <td>18979</td>\n      <td>15</td>\n      <td>2018</td>\n      <td>Non Fiction</td>\n      <td>9.4</td>\n    </tr>\n    <tr>\n      <th>3</th>\n      <td>1984 (Signet Classics)</td>\n      <td>George Orwell</td>\n      <td>4.7</td>\n      <td>21424</td>\n      <td>6</td>\n      <td>2017</td>\n      <td>Fiction</td>\n      <td>9.4</td>\n    </tr>\n    <tr>\n      <th>4</th>\n      <td>5,000 Awesome Facts (About Everything!) (Natio...</td>\n      <td>National Geographic Kids</td>\n      <td>4.8</td>\n      <td>7665</td>\n      <td>12</td>\n      <td>2019</td>\n      <td>Non Fiction</td>\n      <td>9.6</td>\n    </tr>\n    <tr>\n      <th>...</th>\n      <td>...</td>\n      <td>...</td>\n      <td>...</td>\n      <td>...</td>\n      <td>...</td>\n      <td>...</td>\n      <td>...</td>\n      <td>...</td>\n    </tr>\n    <tr>\n      <th>545</th>\n      <td>Wrecking Ball (Diary of a Wimpy Kid Book 14)</td>\n      <td>Jeff Kinney</td>\n      <td>4.9</td>\n      <td>9413</td>\n      <td>8</td>\n      <td>2019</td>\n      <td>Fiction</td>\n      <td>9.8</td>\n    </tr>\n    <tr>\n      <th>546</th>\n      <td>You Are a Badass: How to Stop Doubting Your Gr...</td>\n      <td>Jen Sincero</td>\n      <td>4.7</td>\n      <td>14331</td>\n      <td>8</td>\n      <td>2016</td>\n      <td>Non Fiction</td>\n      <td>9.4</td>\n    </tr>\n    <tr>\n      <th>547</th>\n      <td>You Are a Badass: How to Stop Doubting Your Gr...</td>\n      <td>Jen Sincero</td>\n      <td>4.7</td>\n      <td>14331</td>\n      <td>8</td>\n      <td>2017</td>\n      <td>Non Fiction</td>\n      <td>9.4</td>\n    </tr>\n    <tr>\n      <th>548</th>\n      <td>You Are a Badass: How to Stop Doubting Your Gr...</td>\n      <td>Jen Sincero</td>\n      <td>4.7</td>\n      <td>14331</td>\n      <td>8</td>\n      <td>2018</td>\n      <td>Non Fiction</td>\n      <td>9.4</td>\n    </tr>\n    <tr>\n      <th>549</th>\n      <td>You Are a Badass: How to Stop Doubting Your Gr...</td>\n      <td>Jen Sincero</td>\n      <td>4.7</td>\n      <td>14331</td>\n      <td>8</td>\n      <td>2019</td>\n      <td>Non Fiction</td>\n      <td>9.4</td>\n    </tr>\n  </tbody>\n</table>\n<p>550 rows × 8 columns</p>\n</div>"
     },
     "metadata": {}
    }
   ]
  },
  {
   "cell_type": "code",
   "metadata": {
    "cell_id": "46319a013d774e87880546d30ad17102",
    "tags": [],
    "deepnote_to_be_reexecuted": false,
    "source_hash": "cc6458c1",
    "execution_start": 1654531848086,
    "execution_millis": 53,
    "deepnote_cell_type": "code",
    "deepnote_cell_height": 666
   },
   "source": "df_books['Rating_2'] = df_books['User-Rating'].apply(lambda x : x *3)\ndf_books",
   "execution_count": null,
   "outputs": [
    {
     "output_type": "execute_result",
     "execution_count": 9,
     "data": {
      "application/vnd.deepnote.dataframe.v3+json": {
       "column_count": 8,
       "row_count": 550,
       "columns": [
        {
         "name": "Name",
         "dtype": "object",
         "stats": {
          "unique_count": 351,
          "nan_count": 0,
          "categories": [
           {
            "name": "Publication Manual of the American Psychological Association, 6th Edition",
            "count": 10
           },
           {
            "name": "StrengthsFinder 2.0",
            "count": 9
           },
           {
            "name": "349 others",
            "count": 531
           }
          ]
         }
        },
        {
         "name": "Author",
         "dtype": "object",
         "stats": {
          "unique_count": 248,
          "nan_count": 0,
          "categories": [
           {
            "name": "Jeff Kinney",
            "count": 12
           },
           {
            "name": "Suzanne Collins",
            "count": 11
           },
           {
            "name": "246 others",
            "count": 527
           }
          ]
         }
        },
        {
         "name": "User-Rating",
         "dtype": "float64",
         "stats": {
          "unique_count": 14,
          "nan_count": 0,
          "min": "3.3",
          "max": "4.9",
          "histogram": [
           {
            "bin_start": 3.3,
            "bin_end": 3.46,
            "count": 1
           },
           {
            "bin_start": 3.46,
            "bin_end": 3.62,
            "count": 1
           },
           {
            "bin_start": 3.62,
            "bin_end": 3.7800000000000002,
            "count": 0
           },
           {
            "bin_start": 3.7800000000000002,
            "bin_end": 3.94,
            "count": 5
           },
           {
            "bin_start": 3.94,
            "bin_end": 4.1,
            "count": 14
           },
           {
            "bin_start": 4.1,
            "bin_end": 4.26,
            "count": 14
           },
           {
            "bin_start": 4.26,
            "bin_end": 4.42,
            "count": 63
           },
           {
            "bin_start": 4.42,
            "bin_end": 4.58,
            "count": 60
           },
           {
            "bin_start": 4.58,
            "bin_end": 4.74,
            "count": 213
           },
           {
            "bin_start": 4.74,
            "bin_end": 4.9,
            "count": 179
           }
          ]
         }
        },
        {
         "name": "Reviews",
         "dtype": "int64",
         "stats": {
          "unique_count": 346,
          "nan_count": 0,
          "min": "37",
          "max": "87841",
          "histogram": [
           {
            "bin_start": 37,
            "bin_end": 8817.4,
            "count": 287
           },
           {
            "bin_start": 8817.4,
            "bin_end": 17597.8,
            "count": 131
           },
           {
            "bin_start": 17597.8,
            "bin_end": 26378.199999999997,
            "count": 87
           },
           {
            "bin_start": 26378.199999999997,
            "bin_end": 35158.6,
            "count": 25
           },
           {
            "bin_start": 35158.6,
            "bin_end": 43939,
            "count": 4
           },
           {
            "bin_start": 43939,
            "bin_end": 52719.399999999994,
            "count": 8
           },
           {
            "bin_start": 52719.399999999994,
            "bin_end": 61499.799999999996,
            "count": 5
           },
           {
            "bin_start": 61499.799999999996,
            "bin_end": 70280.2,
            "count": 0
           },
           {
            "bin_start": 70280.2,
            "bin_end": 79060.59999999999,
            "count": 0
           },
           {
            "bin_start": 79060.59999999999,
            "bin_end": 87841,
            "count": 3
           }
          ]
         }
        },
        {
         "name": "Price",
         "dtype": "int64",
         "stats": {
          "unique_count": 40,
          "nan_count": 0,
          "min": "0",
          "max": "105",
          "histogram": [
           {
            "bin_start": 0,
            "bin_end": 10.5,
            "count": 266
           },
           {
            "bin_start": 10.5,
            "bin_end": 21,
            "count": 216
           },
           {
            "bin_start": 21,
            "bin_end": 31.5,
            "count": 42
           },
           {
            "bin_start": 31.5,
            "bin_end": 42,
            "count": 9
           },
           {
            "bin_start": 42,
            "bin_end": 52.5,
            "count": 12
           },
           {
            "bin_start": 52.5,
            "bin_end": 63,
            "count": 2
           },
           {
            "bin_start": 63,
            "bin_end": 73.5,
            "count": 0
           },
           {
            "bin_start": 73.5,
            "bin_end": 84,
            "count": 1
           },
           {
            "bin_start": 84,
            "bin_end": 94.5,
            "count": 0
           },
           {
            "bin_start": 94.5,
            "bin_end": 105,
            "count": 2
           }
          ]
         }
        },
        {
         "name": "Year",
         "dtype": "int64",
         "stats": {
          "unique_count": 11,
          "nan_count": 0,
          "min": "2009",
          "max": "2019",
          "histogram": [
           {
            "bin_start": 2009,
            "bin_end": 2010,
            "count": 50
           },
           {
            "bin_start": 2010,
            "bin_end": 2011,
            "count": 50
           },
           {
            "bin_start": 2011,
            "bin_end": 2012,
            "count": 50
           },
           {
            "bin_start": 2012,
            "bin_end": 2013,
            "count": 50
           },
           {
            "bin_start": 2013,
            "bin_end": 2014,
            "count": 50
           },
           {
            "bin_start": 2014,
            "bin_end": 2015,
            "count": 50
           },
           {
            "bin_start": 2015,
            "bin_end": 2016,
            "count": 50
           },
           {
            "bin_start": 2016,
            "bin_end": 2017,
            "count": 50
           },
           {
            "bin_start": 2017,
            "bin_end": 2018,
            "count": 50
           },
           {
            "bin_start": 2018,
            "bin_end": 2019,
            "count": 100
           }
          ]
         }
        },
        {
         "name": "Genre",
         "dtype": "object",
         "stats": {
          "unique_count": 2,
          "nan_count": 0,
          "categories": [
           {
            "name": "Non Fiction",
            "count": 310
           },
           {
            "name": "Fiction",
            "count": 240
           }
          ]
         }
        },
        {
         "name": "Rating_2",
         "dtype": "float64",
         "stats": {
          "unique_count": 14,
          "nan_count": 0,
          "min": "9.899999999999999",
          "max": "14.700000000000001",
          "histogram": [
           {
            "bin_start": 9.899999999999999,
            "bin_end": 10.379999999999999,
            "count": 1
           },
           {
            "bin_start": 10.379999999999999,
            "bin_end": 10.86,
            "count": 1
           },
           {
            "bin_start": 10.86,
            "bin_end": 11.34,
            "count": 0
           },
           {
            "bin_start": 11.34,
            "bin_end": 11.82,
            "count": 5
           },
           {
            "bin_start": 11.82,
            "bin_end": 12.3,
            "count": 20
           },
           {
            "bin_start": 12.3,
            "bin_end": 12.780000000000001,
            "count": 8
           },
           {
            "bin_start": 12.780000000000001,
            "bin_end": 13.26,
            "count": 63
           },
           {
            "bin_start": 13.26,
            "bin_end": 13.74,
            "count": 60
           },
           {
            "bin_start": 13.74,
            "bin_end": 14.22,
            "count": 213
           },
           {
            "bin_start": 14.22,
            "bin_end": 14.700000000000001,
            "count": 179
           }
          ]
         }
        },
        {
         "name": "_deepnote_index_column",
         "dtype": "int64"
        }
       ],
       "rows": [
        {
         "Name": "10-Day Green Smoothie Cleanse",
         "Author": "JJ Smith",
         "User-Rating": 4.7,
         "Reviews": 17350,
         "Price": 8,
         "Year": 2016,
         "Genre": "Non Fiction",
         "Rating_2": 14.100000000000001,
         "_deepnote_index_column": 0
        },
        {
         "Name": "11/22/63: A Novel",
         "Author": "Stephen King",
         "User-Rating": 4.6,
         "Reviews": 2052,
         "Price": 22,
         "Year": 2011,
         "Genre": "Fiction",
         "Rating_2": 13.799999999999999,
         "_deepnote_index_column": 1
        },
        {
         "Name": "12 Rules for Life: An Antidote to Chaos",
         "Author": "Jordan B. Peterson",
         "User-Rating": 4.7,
         "Reviews": 18979,
         "Price": 15,
         "Year": 2018,
         "Genre": "Non Fiction",
         "Rating_2": 14.100000000000001,
         "_deepnote_index_column": 2
        },
        {
         "Name": "1984 (Signet Classics)",
         "Author": "George Orwell",
         "User-Rating": 4.7,
         "Reviews": 21424,
         "Price": 6,
         "Year": 2017,
         "Genre": "Fiction",
         "Rating_2": 14.100000000000001,
         "_deepnote_index_column": 3
        },
        {
         "Name": "5,000 Awesome Facts (About Everything!) (National Geographic Kids)",
         "Author": "National Geographic Kids",
         "User-Rating": 4.8,
         "Reviews": 7665,
         "Price": 12,
         "Year": 2019,
         "Genre": "Non Fiction",
         "Rating_2": 14.399999999999999,
         "_deepnote_index_column": 4
        },
        {
         "Name": "A Dance with Dragons (A Song of Ice and Fire)",
         "Author": "George R. R. Martin",
         "User-Rating": 4.4,
         "Reviews": 12643,
         "Price": 11,
         "Year": 2011,
         "Genre": "Fiction",
         "Rating_2": 13.200000000000001,
         "_deepnote_index_column": 5
        },
        {
         "Name": "A Game of Thrones / A Clash of Kings / A Storm of Swords / A Feast of Crows / A Dance with Dragons",
         "Author": "George R. R. Martin",
         "User-Rating": 4.7,
         "Reviews": 19735,
         "Price": 30,
         "Year": 2014,
         "Genre": "Fiction",
         "Rating_2": 14.100000000000001,
         "_deepnote_index_column": 6
        },
        {
         "Name": "A Gentleman in Moscow: A Novel",
         "Author": "Amor Towles",
         "User-Rating": 4.7,
         "Reviews": 19699,
         "Price": 15,
         "Year": 2017,
         "Genre": "Fiction",
         "Rating_2": 14.100000000000001,
         "_deepnote_index_column": 7
        },
        {
         "Name": "A Higher Loyalty: Truth, Lies, and Leadership",
         "Author": "James Comey",
         "User-Rating": 4.7,
         "Reviews": 5983,
         "Price": 3,
         "Year": 2018,
         "Genre": "Non Fiction",
         "Rating_2": 14.100000000000001,
         "_deepnote_index_column": 8
        },
        {
         "Name": "A Man Called Ove: A Novel",
         "Author": "Fredrik Backman",
         "User-Rating": 4.6,
         "Reviews": 23848,
         "Price": 8,
         "Year": 2016,
         "Genre": "Fiction",
         "Rating_2": 13.799999999999999,
         "_deepnote_index_column": 9
        }
       ]
      },
      "text/plain": "                                                  Name  \\\n0                        10-Day Green Smoothie Cleanse   \n1                                    11/22/63: A Novel   \n2              12 Rules for Life: An Antidote to Chaos   \n3                               1984 (Signet Classics)   \n4    5,000 Awesome Facts (About Everything!) (Natio...   \n..                                                 ...   \n545       Wrecking Ball (Diary of a Wimpy Kid Book 14)   \n546  You Are a Badass: How to Stop Doubting Your Gr...   \n547  You Are a Badass: How to Stop Doubting Your Gr...   \n548  You Are a Badass: How to Stop Doubting Your Gr...   \n549  You Are a Badass: How to Stop Doubting Your Gr...   \n\n                       Author  User-Rating  Reviews  Price  Year        Genre  \\\n0                    JJ Smith          4.7    17350      8  2016  Non Fiction   \n1                Stephen King          4.6     2052     22  2011      Fiction   \n2          Jordan B. Peterson          4.7    18979     15  2018  Non Fiction   \n3               George Orwell          4.7    21424      6  2017      Fiction   \n4    National Geographic Kids          4.8     7665     12  2019  Non Fiction   \n..                        ...          ...      ...    ...   ...          ...   \n545               Jeff Kinney          4.9     9413      8  2019      Fiction   \n546               Jen Sincero          4.7    14331      8  2016  Non Fiction   \n547               Jen Sincero          4.7    14331      8  2017  Non Fiction   \n548               Jen Sincero          4.7    14331      8  2018  Non Fiction   \n549               Jen Sincero          4.7    14331      8  2019  Non Fiction   \n\n     Rating_2  \n0        14.1  \n1        13.8  \n2        14.1  \n3        14.1  \n4        14.4  \n..        ...  \n545      14.7  \n546      14.1  \n547      14.1  \n548      14.1  \n549      14.1  \n\n[550 rows x 8 columns]",
      "text/html": "<div>\n<style scoped>\n    .dataframe tbody tr th:only-of-type {\n        vertical-align: middle;\n    }\n\n    .dataframe tbody tr th {\n        vertical-align: top;\n    }\n\n    .dataframe thead th {\n        text-align: right;\n    }\n</style>\n<table border=\"1\" class=\"dataframe\">\n  <thead>\n    <tr style=\"text-align: right;\">\n      <th></th>\n      <th>Name</th>\n      <th>Author</th>\n      <th>User-Rating</th>\n      <th>Reviews</th>\n      <th>Price</th>\n      <th>Year</th>\n      <th>Genre</th>\n      <th>Rating_2</th>\n    </tr>\n  </thead>\n  <tbody>\n    <tr>\n      <th>0</th>\n      <td>10-Day Green Smoothie Cleanse</td>\n      <td>JJ Smith</td>\n      <td>4.7</td>\n      <td>17350</td>\n      <td>8</td>\n      <td>2016</td>\n      <td>Non Fiction</td>\n      <td>14.1</td>\n    </tr>\n    <tr>\n      <th>1</th>\n      <td>11/22/63: A Novel</td>\n      <td>Stephen King</td>\n      <td>4.6</td>\n      <td>2052</td>\n      <td>22</td>\n      <td>2011</td>\n      <td>Fiction</td>\n      <td>13.8</td>\n    </tr>\n    <tr>\n      <th>2</th>\n      <td>12 Rules for Life: An Antidote to Chaos</td>\n      <td>Jordan B. Peterson</td>\n      <td>4.7</td>\n      <td>18979</td>\n      <td>15</td>\n      <td>2018</td>\n      <td>Non Fiction</td>\n      <td>14.1</td>\n    </tr>\n    <tr>\n      <th>3</th>\n      <td>1984 (Signet Classics)</td>\n      <td>George Orwell</td>\n      <td>4.7</td>\n      <td>21424</td>\n      <td>6</td>\n      <td>2017</td>\n      <td>Fiction</td>\n      <td>14.1</td>\n    </tr>\n    <tr>\n      <th>4</th>\n      <td>5,000 Awesome Facts (About Everything!) (Natio...</td>\n      <td>National Geographic Kids</td>\n      <td>4.8</td>\n      <td>7665</td>\n      <td>12</td>\n      <td>2019</td>\n      <td>Non Fiction</td>\n      <td>14.4</td>\n    </tr>\n    <tr>\n      <th>...</th>\n      <td>...</td>\n      <td>...</td>\n      <td>...</td>\n      <td>...</td>\n      <td>...</td>\n      <td>...</td>\n      <td>...</td>\n      <td>...</td>\n    </tr>\n    <tr>\n      <th>545</th>\n      <td>Wrecking Ball (Diary of a Wimpy Kid Book 14)</td>\n      <td>Jeff Kinney</td>\n      <td>4.9</td>\n      <td>9413</td>\n      <td>8</td>\n      <td>2019</td>\n      <td>Fiction</td>\n      <td>14.7</td>\n    </tr>\n    <tr>\n      <th>546</th>\n      <td>You Are a Badass: How to Stop Doubting Your Gr...</td>\n      <td>Jen Sincero</td>\n      <td>4.7</td>\n      <td>14331</td>\n      <td>8</td>\n      <td>2016</td>\n      <td>Non Fiction</td>\n      <td>14.1</td>\n    </tr>\n    <tr>\n      <th>547</th>\n      <td>You Are a Badass: How to Stop Doubting Your Gr...</td>\n      <td>Jen Sincero</td>\n      <td>4.7</td>\n      <td>14331</td>\n      <td>8</td>\n      <td>2017</td>\n      <td>Non Fiction</td>\n      <td>14.1</td>\n    </tr>\n    <tr>\n      <th>548</th>\n      <td>You Are a Badass: How to Stop Doubting Your Gr...</td>\n      <td>Jen Sincero</td>\n      <td>4.7</td>\n      <td>14331</td>\n      <td>8</td>\n      <td>2018</td>\n      <td>Non Fiction</td>\n      <td>14.1</td>\n    </tr>\n    <tr>\n      <th>549</th>\n      <td>You Are a Badass: How to Stop Doubting Your Gr...</td>\n      <td>Jen Sincero</td>\n      <td>4.7</td>\n      <td>14331</td>\n      <td>8</td>\n      <td>2019</td>\n      <td>Non Fiction</td>\n      <td>14.1</td>\n    </tr>\n  </tbody>\n</table>\n<p>550 rows × 8 columns</p>\n</div>"
     },
     "metadata": {}
    }
   ]
  },
  {
   "cell_type": "code",
   "metadata": {
    "cell_id": "7cf82ddadf6546ffacc2837cee32cf7d",
    "tags": [],
    "deepnote_to_be_reexecuted": false,
    "source_hash": "dce7db16",
    "execution_start": 1654532342153,
    "execution_millis": 1,
    "deepnote_cell_type": "code",
    "deepnote_cell_height": 81
   },
   "source": "df_books['Rating_2'] = df_books.apply(lambda x : x['User-Rating']*2 if x['Genre'] == 'Fiction' else x['User-Rating'], axis=1)",
   "execution_count": null,
   "outputs": []
  },
  {
   "cell_type": "code",
   "metadata": {
    "cell_id": "d20d311c7889493c8181ff869d69e648",
    "tags": [],
    "deepnote_to_be_reexecuted": false,
    "source_hash": "42b86fa",
    "execution_start": 1654532345577,
    "execution_millis": 45,
    "deepnote_cell_type": "code",
    "deepnote_cell_height": 648
   },
   "source": "df_books",
   "execution_count": null,
   "outputs": [
    {
     "output_type": "execute_result",
     "execution_count": 24,
     "data": {
      "application/vnd.deepnote.dataframe.v3+json": {
       "column_count": 8,
       "row_count": 550,
       "columns": [
        {
         "name": "Name",
         "dtype": "object",
         "stats": {
          "unique_count": 351,
          "nan_count": 0,
          "categories": [
           {
            "name": "Publication Manual of the American Psychological Association, 6th Edition",
            "count": 10
           },
           {
            "name": "StrengthsFinder 2.0",
            "count": 9
           },
           {
            "name": "349 others",
            "count": 531
           }
          ]
         }
        },
        {
         "name": "Author",
         "dtype": "object",
         "stats": {
          "unique_count": 248,
          "nan_count": 0,
          "categories": [
           {
            "name": "Jeff Kinney",
            "count": 12
           },
           {
            "name": "Suzanne Collins",
            "count": 11
           },
           {
            "name": "246 others",
            "count": 527
           }
          ]
         }
        },
        {
         "name": "User-Rating",
         "dtype": "float64",
         "stats": {
          "unique_count": 14,
          "nan_count": 0,
          "min": "3.3",
          "max": "4.9",
          "histogram": [
           {
            "bin_start": 3.3,
            "bin_end": 3.46,
            "count": 1
           },
           {
            "bin_start": 3.46,
            "bin_end": 3.62,
            "count": 1
           },
           {
            "bin_start": 3.62,
            "bin_end": 3.7800000000000002,
            "count": 0
           },
           {
            "bin_start": 3.7800000000000002,
            "bin_end": 3.94,
            "count": 5
           },
           {
            "bin_start": 3.94,
            "bin_end": 4.1,
            "count": 14
           },
           {
            "bin_start": 4.1,
            "bin_end": 4.26,
            "count": 14
           },
           {
            "bin_start": 4.26,
            "bin_end": 4.42,
            "count": 63
           },
           {
            "bin_start": 4.42,
            "bin_end": 4.58,
            "count": 60
           },
           {
            "bin_start": 4.58,
            "bin_end": 4.74,
            "count": 213
           },
           {
            "bin_start": 4.74,
            "bin_end": 4.9,
            "count": 179
           }
          ]
         }
        },
        {
         "name": "Reviews",
         "dtype": "int64",
         "stats": {
          "unique_count": 346,
          "nan_count": 0,
          "min": "37",
          "max": "87841",
          "histogram": [
           {
            "bin_start": 37,
            "bin_end": 8817.4,
            "count": 287
           },
           {
            "bin_start": 8817.4,
            "bin_end": 17597.8,
            "count": 131
           },
           {
            "bin_start": 17597.8,
            "bin_end": 26378.199999999997,
            "count": 87
           },
           {
            "bin_start": 26378.199999999997,
            "bin_end": 35158.6,
            "count": 25
           },
           {
            "bin_start": 35158.6,
            "bin_end": 43939,
            "count": 4
           },
           {
            "bin_start": 43939,
            "bin_end": 52719.399999999994,
            "count": 8
           },
           {
            "bin_start": 52719.399999999994,
            "bin_end": 61499.799999999996,
            "count": 5
           },
           {
            "bin_start": 61499.799999999996,
            "bin_end": 70280.2,
            "count": 0
           },
           {
            "bin_start": 70280.2,
            "bin_end": 79060.59999999999,
            "count": 0
           },
           {
            "bin_start": 79060.59999999999,
            "bin_end": 87841,
            "count": 3
           }
          ]
         }
        },
        {
         "name": "Price",
         "dtype": "int64",
         "stats": {
          "unique_count": 40,
          "nan_count": 0,
          "min": "0",
          "max": "105",
          "histogram": [
           {
            "bin_start": 0,
            "bin_end": 10.5,
            "count": 266
           },
           {
            "bin_start": 10.5,
            "bin_end": 21,
            "count": 216
           },
           {
            "bin_start": 21,
            "bin_end": 31.5,
            "count": 42
           },
           {
            "bin_start": 31.5,
            "bin_end": 42,
            "count": 9
           },
           {
            "bin_start": 42,
            "bin_end": 52.5,
            "count": 12
           },
           {
            "bin_start": 52.5,
            "bin_end": 63,
            "count": 2
           },
           {
            "bin_start": 63,
            "bin_end": 73.5,
            "count": 0
           },
           {
            "bin_start": 73.5,
            "bin_end": 84,
            "count": 1
           },
           {
            "bin_start": 84,
            "bin_end": 94.5,
            "count": 0
           },
           {
            "bin_start": 94.5,
            "bin_end": 105,
            "count": 2
           }
          ]
         }
        },
        {
         "name": "Year",
         "dtype": "int64",
         "stats": {
          "unique_count": 11,
          "nan_count": 0,
          "min": "2009",
          "max": "2019",
          "histogram": [
           {
            "bin_start": 2009,
            "bin_end": 2010,
            "count": 50
           },
           {
            "bin_start": 2010,
            "bin_end": 2011,
            "count": 50
           },
           {
            "bin_start": 2011,
            "bin_end": 2012,
            "count": 50
           },
           {
            "bin_start": 2012,
            "bin_end": 2013,
            "count": 50
           },
           {
            "bin_start": 2013,
            "bin_end": 2014,
            "count": 50
           },
           {
            "bin_start": 2014,
            "bin_end": 2015,
            "count": 50
           },
           {
            "bin_start": 2015,
            "bin_end": 2016,
            "count": 50
           },
           {
            "bin_start": 2016,
            "bin_end": 2017,
            "count": 50
           },
           {
            "bin_start": 2017,
            "bin_end": 2018,
            "count": 50
           },
           {
            "bin_start": 2018,
            "bin_end": 2019,
            "count": 100
           }
          ]
         }
        },
        {
         "name": "Genre",
         "dtype": "object",
         "stats": {
          "unique_count": 2,
          "nan_count": 0,
          "categories": [
           {
            "name": "Non Fiction",
            "count": 310
           },
           {
            "name": "Fiction",
            "count": 240
           }
          ]
         }
        },
        {
         "name": "Rating_2",
         "dtype": "float64",
         "stats": {
          "unique_count": 24,
          "nan_count": 0,
          "min": "4.0",
          "max": "9.8",
          "histogram": [
           {
            "bin_start": 4,
            "bin_end": 4.58,
            "count": 100
           },
           {
            "bin_start": 4.58,
            "bin_end": 5.16,
            "count": 210
           },
           {
            "bin_start": 5.16,
            "bin_end": 5.74,
            "count": 0
           },
           {
            "bin_start": 5.74,
            "bin_end": 6.32,
            "count": 0
           },
           {
            "bin_start": 6.32,
            "bin_end": 6.9,
            "count": 1
           },
           {
            "bin_start": 6.9,
            "bin_end": 7.48,
            "count": 1
           },
           {
            "bin_start": 7.48,
            "bin_end": 8.06,
            "count": 10
           },
           {
            "bin_start": 8.06,
            "bin_end": 8.64,
            "count": 18
           },
           {
            "bin_start": 8.64,
            "bin_end": 9.22,
            "count": 59
           },
           {
            "bin_start": 9.22,
            "bin_end": 9.8,
            "count": 151
           }
          ]
         }
        },
        {
         "name": "_deepnote_index_column",
         "dtype": "int64"
        }
       ],
       "rows": [
        {
         "Name": "10-Day Green Smoothie Cleanse",
         "Author": "JJ Smith",
         "User-Rating": 4.7,
         "Reviews": 17350,
         "Price": 8,
         "Year": 2016,
         "Genre": "Non Fiction",
         "Rating_2": 4.7,
         "_deepnote_index_column": 0
        },
        {
         "Name": "11/22/63: A Novel",
         "Author": "Stephen King",
         "User-Rating": 4.6,
         "Reviews": 2052,
         "Price": 22,
         "Year": 2011,
         "Genre": "Fiction",
         "Rating_2": 9.2,
         "_deepnote_index_column": 1
        },
        {
         "Name": "12 Rules for Life: An Antidote to Chaos",
         "Author": "Jordan B. Peterson",
         "User-Rating": 4.7,
         "Reviews": 18979,
         "Price": 15,
         "Year": 2018,
         "Genre": "Non Fiction",
         "Rating_2": 4.7,
         "_deepnote_index_column": 2
        },
        {
         "Name": "1984 (Signet Classics)",
         "Author": "George Orwell",
         "User-Rating": 4.7,
         "Reviews": 21424,
         "Price": 6,
         "Year": 2017,
         "Genre": "Fiction",
         "Rating_2": 9.4,
         "_deepnote_index_column": 3
        },
        {
         "Name": "5,000 Awesome Facts (About Everything!) (National Geographic Kids)",
         "Author": "National Geographic Kids",
         "User-Rating": 4.8,
         "Reviews": 7665,
         "Price": 12,
         "Year": 2019,
         "Genre": "Non Fiction",
         "Rating_2": 4.8,
         "_deepnote_index_column": 4
        },
        {
         "Name": "A Dance with Dragons (A Song of Ice and Fire)",
         "Author": "George R. R. Martin",
         "User-Rating": 4.4,
         "Reviews": 12643,
         "Price": 11,
         "Year": 2011,
         "Genre": "Fiction",
         "Rating_2": 8.8,
         "_deepnote_index_column": 5
        },
        {
         "Name": "A Game of Thrones / A Clash of Kings / A Storm of Swords / A Feast of Crows / A Dance with Dragons",
         "Author": "George R. R. Martin",
         "User-Rating": 4.7,
         "Reviews": 19735,
         "Price": 30,
         "Year": 2014,
         "Genre": "Fiction",
         "Rating_2": 9.4,
         "_deepnote_index_column": 6
        },
        {
         "Name": "A Gentleman in Moscow: A Novel",
         "Author": "Amor Towles",
         "User-Rating": 4.7,
         "Reviews": 19699,
         "Price": 15,
         "Year": 2017,
         "Genre": "Fiction",
         "Rating_2": 9.4,
         "_deepnote_index_column": 7
        },
        {
         "Name": "A Higher Loyalty: Truth, Lies, and Leadership",
         "Author": "James Comey",
         "User-Rating": 4.7,
         "Reviews": 5983,
         "Price": 3,
         "Year": 2018,
         "Genre": "Non Fiction",
         "Rating_2": 4.7,
         "_deepnote_index_column": 8
        },
        {
         "Name": "A Man Called Ove: A Novel",
         "Author": "Fredrik Backman",
         "User-Rating": 4.6,
         "Reviews": 23848,
         "Price": 8,
         "Year": 2016,
         "Genre": "Fiction",
         "Rating_2": 9.2,
         "_deepnote_index_column": 9
        }
       ]
      },
      "text/plain": "                                                  Name  \\\n0                        10-Day Green Smoothie Cleanse   \n1                                    11/22/63: A Novel   \n2              12 Rules for Life: An Antidote to Chaos   \n3                               1984 (Signet Classics)   \n4    5,000 Awesome Facts (About Everything!) (Natio...   \n..                                                 ...   \n545       Wrecking Ball (Diary of a Wimpy Kid Book 14)   \n546  You Are a Badass: How to Stop Doubting Your Gr...   \n547  You Are a Badass: How to Stop Doubting Your Gr...   \n548  You Are a Badass: How to Stop Doubting Your Gr...   \n549  You Are a Badass: How to Stop Doubting Your Gr...   \n\n                       Author  User-Rating  Reviews  Price  Year        Genre  \\\n0                    JJ Smith          4.7    17350      8  2016  Non Fiction   \n1                Stephen King          4.6     2052     22  2011      Fiction   \n2          Jordan B. Peterson          4.7    18979     15  2018  Non Fiction   \n3               George Orwell          4.7    21424      6  2017      Fiction   \n4    National Geographic Kids          4.8     7665     12  2019  Non Fiction   \n..                        ...          ...      ...    ...   ...          ...   \n545               Jeff Kinney          4.9     9413      8  2019      Fiction   \n546               Jen Sincero          4.7    14331      8  2016  Non Fiction   \n547               Jen Sincero          4.7    14331      8  2017  Non Fiction   \n548               Jen Sincero          4.7    14331      8  2018  Non Fiction   \n549               Jen Sincero          4.7    14331      8  2019  Non Fiction   \n\n     Rating_2  \n0         4.7  \n1         9.2  \n2         4.7  \n3         9.4  \n4         4.8  \n..        ...  \n545       9.8  \n546       4.7  \n547       4.7  \n548       4.7  \n549       4.7  \n\n[550 rows x 8 columns]",
      "text/html": "<div>\n<style scoped>\n    .dataframe tbody tr th:only-of-type {\n        vertical-align: middle;\n    }\n\n    .dataframe tbody tr th {\n        vertical-align: top;\n    }\n\n    .dataframe thead th {\n        text-align: right;\n    }\n</style>\n<table border=\"1\" class=\"dataframe\">\n  <thead>\n    <tr style=\"text-align: right;\">\n      <th></th>\n      <th>Name</th>\n      <th>Author</th>\n      <th>User-Rating</th>\n      <th>Reviews</th>\n      <th>Price</th>\n      <th>Year</th>\n      <th>Genre</th>\n      <th>Rating_2</th>\n    </tr>\n  </thead>\n  <tbody>\n    <tr>\n      <th>0</th>\n      <td>10-Day Green Smoothie Cleanse</td>\n      <td>JJ Smith</td>\n      <td>4.7</td>\n      <td>17350</td>\n      <td>8</td>\n      <td>2016</td>\n      <td>Non Fiction</td>\n      <td>4.7</td>\n    </tr>\n    <tr>\n      <th>1</th>\n      <td>11/22/63: A Novel</td>\n      <td>Stephen King</td>\n      <td>4.6</td>\n      <td>2052</td>\n      <td>22</td>\n      <td>2011</td>\n      <td>Fiction</td>\n      <td>9.2</td>\n    </tr>\n    <tr>\n      <th>2</th>\n      <td>12 Rules for Life: An Antidote to Chaos</td>\n      <td>Jordan B. Peterson</td>\n      <td>4.7</td>\n      <td>18979</td>\n      <td>15</td>\n      <td>2018</td>\n      <td>Non Fiction</td>\n      <td>4.7</td>\n    </tr>\n    <tr>\n      <th>3</th>\n      <td>1984 (Signet Classics)</td>\n      <td>George Orwell</td>\n      <td>4.7</td>\n      <td>21424</td>\n      <td>6</td>\n      <td>2017</td>\n      <td>Fiction</td>\n      <td>9.4</td>\n    </tr>\n    <tr>\n      <th>4</th>\n      <td>5,000 Awesome Facts (About Everything!) (Natio...</td>\n      <td>National Geographic Kids</td>\n      <td>4.8</td>\n      <td>7665</td>\n      <td>12</td>\n      <td>2019</td>\n      <td>Non Fiction</td>\n      <td>4.8</td>\n    </tr>\n    <tr>\n      <th>...</th>\n      <td>...</td>\n      <td>...</td>\n      <td>...</td>\n      <td>...</td>\n      <td>...</td>\n      <td>...</td>\n      <td>...</td>\n      <td>...</td>\n    </tr>\n    <tr>\n      <th>545</th>\n      <td>Wrecking Ball (Diary of a Wimpy Kid Book 14)</td>\n      <td>Jeff Kinney</td>\n      <td>4.9</td>\n      <td>9413</td>\n      <td>8</td>\n      <td>2019</td>\n      <td>Fiction</td>\n      <td>9.8</td>\n    </tr>\n    <tr>\n      <th>546</th>\n      <td>You Are a Badass: How to Stop Doubting Your Gr...</td>\n      <td>Jen Sincero</td>\n      <td>4.7</td>\n      <td>14331</td>\n      <td>8</td>\n      <td>2016</td>\n      <td>Non Fiction</td>\n      <td>4.7</td>\n    </tr>\n    <tr>\n      <th>547</th>\n      <td>You Are a Badass: How to Stop Doubting Your Gr...</td>\n      <td>Jen Sincero</td>\n      <td>4.7</td>\n      <td>14331</td>\n      <td>8</td>\n      <td>2017</td>\n      <td>Non Fiction</td>\n      <td>4.7</td>\n    </tr>\n    <tr>\n      <th>548</th>\n      <td>You Are a Badass: How to Stop Doubting Your Gr...</td>\n      <td>Jen Sincero</td>\n      <td>4.7</td>\n      <td>14331</td>\n      <td>8</td>\n      <td>2018</td>\n      <td>Non Fiction</td>\n      <td>4.7</td>\n    </tr>\n    <tr>\n      <th>549</th>\n      <td>You Are a Badass: How to Stop Doubting Your Gr...</td>\n      <td>Jen Sincero</td>\n      <td>4.7</td>\n      <td>14331</td>\n      <td>8</td>\n      <td>2019</td>\n      <td>Non Fiction</td>\n      <td>4.7</td>\n    </tr>\n  </tbody>\n</table>\n<p>550 rows × 8 columns</p>\n</div>"
     },
     "metadata": {}
    }
   ]
  },
  {
   "cell_type": "code",
   "metadata": {
    "cell_id": "741f7e76d3e44567b6eebcc6a5ba8da8",
    "tags": [],
    "deepnote_to_be_reexecuted": false,
    "source_hash": "c2602aa8",
    "execution_start": 1654532897704,
    "execution_millis": 6,
    "deepnote_cell_type": "code",
    "deepnote_cell_height": 81
   },
   "source": "import numpy as np",
   "execution_count": null,
   "outputs": []
  },
  {
   "cell_type": "code",
   "metadata": {
    "cell_id": "28a50abfcdd74a67b705ac52f72fe04a",
    "tags": [],
    "deepnote_to_be_reexecuted": false,
    "source_hash": "5715825f",
    "execution_start": 1654532899689,
    "execution_millis": 6,
    "deepnote_cell_type": "code",
    "deepnote_cell_height": 482.75,
    "deepnote_output_heights": [
     385.75
    ]
   },
   "source": "np.linspace(0,10,100)",
   "execution_count": null,
   "outputs": [
    {
     "output_type": "execute_result",
     "execution_count": 31,
     "data": {
      "text/plain": "array([ 0.        ,  0.1010101 ,  0.2020202 ,  0.3030303 ,  0.4040404 ,\n        0.50505051,  0.60606061,  0.70707071,  0.80808081,  0.90909091,\n        1.01010101,  1.11111111,  1.21212121,  1.31313131,  1.41414141,\n        1.51515152,  1.61616162,  1.71717172,  1.81818182,  1.91919192,\n        2.02020202,  2.12121212,  2.22222222,  2.32323232,  2.42424242,\n        2.52525253,  2.62626263,  2.72727273,  2.82828283,  2.92929293,\n        3.03030303,  3.13131313,  3.23232323,  3.33333333,  3.43434343,\n        3.53535354,  3.63636364,  3.73737374,  3.83838384,  3.93939394,\n        4.04040404,  4.14141414,  4.24242424,  4.34343434,  4.44444444,\n        4.54545455,  4.64646465,  4.74747475,  4.84848485,  4.94949495,\n        5.05050505,  5.15151515,  5.25252525,  5.35353535,  5.45454545,\n        5.55555556,  5.65656566,  5.75757576,  5.85858586,  5.95959596,\n        6.06060606,  6.16161616,  6.26262626,  6.36363636,  6.46464646,\n        6.56565657,  6.66666667,  6.76767677,  6.86868687,  6.96969697,\n        7.07070707,  7.17171717,  7.27272727,  7.37373737,  7.47474747,\n        7.57575758,  7.67676768,  7.77777778,  7.87878788,  7.97979798,\n        8.08080808,  8.18181818,  8.28282828,  8.38383838,  8.48484848,\n        8.58585859,  8.68686869,  8.78787879,  8.88888889,  8.98989899,\n        9.09090909,  9.19191919,  9.29292929,  9.39393939,  9.49494949,\n        9.5959596 ,  9.6969697 ,  9.7979798 ,  9.8989899 , 10.        ])"
     },
     "metadata": {}
    }
   ]
  },
  {
   "cell_type": "code",
   "metadata": {
    "cell_id": "c226d522ec794d6fb9d4bf42deba6de4",
    "tags": [],
    "deepnote_to_be_reexecuted": false,
    "source_hash": "acc6a480",
    "execution_start": 1654533005513,
    "execution_millis": 6,
    "deepnote_cell_type": "code",
    "deepnote_cell_height": 136.1875,
    "deepnote_output_heights": [
     21.1875
    ]
   },
   "source": "arr = np.array([13, 6, 3, 5, 10])\nnp.argmax(arr)",
   "execution_count": null,
   "outputs": [
    {
     "output_type": "execute_result",
     "execution_count": 34,
     "data": {
      "text/plain": "0"
     },
     "metadata": {}
    }
   ]
  },
  {
   "cell_type": "code",
   "metadata": {
    "cell_id": "aeeb6c09fadb47d8843f3bd9a19f8af4",
    "tags": [],
    "deepnote_to_be_reexecuted": false,
    "source_hash": "d8fcffab",
    "execution_start": 1654533050275,
    "execution_millis": 11,
    "owner_user_id": "6b4a8dcb-83e3-48d8-857e-449aa20f64fc",
    "deepnote_cell_type": "code",
    "deepnote_cell_height": 118.1875,
    "deepnote_output_heights": [
     21.1875
    ]
   },
   "source": "arr[arr>7]",
   "execution_count": null,
   "outputs": [
    {
     "output_type": "execute_result",
     "execution_count": 35,
     "data": {
      "text/plain": "array([13, 10])"
     },
     "metadata": {}
    }
   ]
  },
  {
   "cell_type": "code",
   "metadata": {
    "cell_id": "9df81d277fca42108343e1faf156c5b0",
    "tags": [],
    "deepnote_to_be_reexecuted": false,
    "source_hash": "257155fb",
    "execution_start": 1654533241389,
    "execution_millis": 9,
    "deepnote_cell_type": "code",
    "deepnote_cell_height": 118.1875,
    "deepnote_output_heights": [
     21.1875
    ]
   },
   "source": "np.sort(arr)",
   "execution_count": null,
   "outputs": [
    {
     "output_type": "execute_result",
     "execution_count": 37,
     "data": {
      "text/plain": "array([ 3,  5,  6, 10, 13])"
     },
     "metadata": {}
    }
   ]
  },
  {
   "cell_type": "code",
   "metadata": {
    "cell_id": "eef10a25611d4cfd907039c757def691",
    "tags": [],
    "deepnote_cell_type": "code",
    "deepnote_cell_height": 66
   },
   "source": "",
   "execution_count": null,
   "outputs": []
  },
  {
   "cell_type": "markdown",
   "source": "> # Túneles de venta\n1. Consolidación de la marca\n    - Reconocimiento\n        - Dar a conocer tu marca\n    - Alcanze\n2. Establecer conexiones\n    - Reproducciones de video\n    - Tráfico\n    - Interacción\n    - Mensajes\n    - Generación de clientes potenciales\n    - Instalaciones de las app\n3. Impulsar las ventas\n    - Conversiones\n    - Ventas del catálogo\n    - Tráfico en el negocio\n4. Fidelizar\n    - Remarketing\n    \n> # Como trabajar el Túnel de venta de tu marca\n1. Definición de `cliente ideal o audiencia`\n    - Variable sociodemográficas\n    - Variables psicográficas\n    - Buyer Persona\n2. `Propuesta` de valor:\n    - Qué problema resuelve tu marca, servicio, o producto\n    - Qué ofreces, en qué se diferencia de la competencia\n    - ¿Que beneficios brindas a tu público objetivo?\n3. ¿Cuáles son tus objetivos?\n    - `S`pecific o Específico\n    - `M`easuravle o medible \n    - `A`chiebable o alcanzable\n    - `R`ealistic o realistas\n    - `T`ime- bound o atados a un período de tiempo\n\nDefinir \n- Audiencia \n- Propuesta de valor\n- Objetivos SMART  \n\n",
   "metadata": {
    "cell_id": "61975c7f1d6044ecbb95fcab4e9415fd",
    "tags": [],
    "deepnote_cell_type": "markdown",
    "deepnote_cell_height": 3562.03125
   }
  },
  {
   "cell_type": "markdown",
   "source": "",
   "metadata": {
    "cell_id": "e13fa2b2711b4a1a82cb2aaf44b3783d",
    "tags": [],
    "deepnote_cell_type": "markdown",
    "deepnote_cell_height": 46
   }
  },
  {
   "cell_type": "markdown",
   "source": "<a style='text-decoration:none;line-height:16px;display:flex;color:#5B5B62;padding:10px;justify-content:end;' href='https://deepnote.com?utm_source=created-in-deepnote-cell&projectId=837cf1af-c506-4091-b16c-c4a4c0575614' target=\"_blank\">\n<img alt='Created in deepnote.com' style='display:inline;max-height:16px;margin:0px;margin-right:7.5px;' src='data:image/svg+xml;base64,PD94bWwgdmVyc2lvbj0iMS4wIiBlbmNvZGluZz0iVVRGLTgiPz4KPHN2ZyB3aWR0aD0iODBweCIgaGVpZ2h0PSI4MHB4IiB2aWV3Qm94PSIwIDAgODAgODAiIHZlcnNpb249IjEuMSIgeG1sbnM9Imh0dHA6Ly93d3cudzMub3JnLzIwMDAvc3ZnIiB4bWxuczp4bGluaz0iaHR0cDovL3d3dy53My5vcmcvMTk5OS94bGluayI+CiAgICA8IS0tIEdlbmVyYXRvcjogU2tldGNoIDU0LjEgKDc2NDkwKSAtIGh0dHBzOi8vc2tldGNoYXBwLmNvbSAtLT4KICAgIDx0aXRsZT5Hcm91cCAzPC90aXRsZT4KICAgIDxkZXNjPkNyZWF0ZWQgd2l0aCBTa2V0Y2guPC9kZXNjPgogICAgPGcgaWQ9IkxhbmRpbmciIHN0cm9rZT0ibm9uZSIgc3Ryb2tlLXdpZHRoPSIxIiBmaWxsPSJub25lIiBmaWxsLXJ1bGU9ImV2ZW5vZGQiPgogICAgICAgIDxnIGlkPSJBcnRib2FyZCIgdHJhbnNmb3JtPSJ0cmFuc2xhdGUoLTEyMzUuMDAwMDAwLCAtNzkuMDAwMDAwKSI+CiAgICAgICAgICAgIDxnIGlkPSJHcm91cC0zIiB0cmFuc2Zvcm09InRyYW5zbGF0ZSgxMjM1LjAwMDAwMCwgNzkuMDAwMDAwKSI+CiAgICAgICAgICAgICAgICA8cG9seWdvbiBpZD0iUGF0aC0yMCIgZmlsbD0iIzAyNjVCNCIgcG9pbnRzPSIyLjM3NjIzNzYyIDgwIDM4LjA0NzY2NjcgODAgNTcuODIxNzgyMiA3My44MDU3NTkyIDU3LjgyMTc4MjIgMzIuNzU5MjczOSAzOS4xNDAyMjc4IDMxLjY4MzE2ODMiPjwvcG9seWdvbj4KICAgICAgICAgICAgICAgIDxwYXRoIGQ9Ik0zNS4wMDc3MTgsODAgQzQyLjkwNjIwMDcsNzYuNDU0OTM1OCA0Ny41NjQ5MTY3LDcxLjU0MjI2NzEgNDguOTgzODY2LDY1LjI2MTk5MzkgQzUxLjExMjI4OTksNTUuODQxNTg0MiA0MS42NzcxNzk1LDQ5LjIxMjIyODQgMjUuNjIzOTg0Niw0OS4yMTIyMjg0IEMyNS40ODQ5Mjg5LDQ5LjEyNjg0NDggMjkuODI2MTI5Niw0My4yODM4MjQ4IDM4LjY0NzU4NjksMzEuNjgzMTY4MyBMNzIuODcxMjg3MSwzMi41NTQ0MjUgTDY1LjI4MDk3Myw2Ny42NzYzNDIxIEw1MS4xMTIyODk5LDc3LjM3NjE0NCBMMzUuMDA3NzE4LDgwIFoiIGlkPSJQYXRoLTIyIiBmaWxsPSIjMDAyODY4Ij48L3BhdGg+CiAgICAgICAgICAgICAgICA8cGF0aCBkPSJNMCwzNy43MzA0NDA1IEwyNy4xMTQ1MzcsMC4yNTcxMTE0MzYgQzYyLjM3MTUxMjMsLTEuOTkwNzE3MDEgODAsMTAuNTAwMzkyNyA4MCwzNy43MzA0NDA1IEM4MCw2NC45NjA0ODgyIDY0Ljc3NjUwMzgsNzkuMDUwMzQxNCAzNC4zMjk1MTEzLDgwIEM0Ny4wNTUzNDg5LDc3LjU2NzA4MDggNTMuNDE4MjY3Nyw3MC4zMTM2MTAzIDUzLjQxODI2NzcsNTguMjM5NTg4NSBDNTMuNDE4MjY3Nyw0MC4xMjg1NTU3IDM2LjMwMzk1NDQsMzcuNzMwNDQwNSAyNS4yMjc0MTcsMzcuNzMwNDQwNSBDMTcuODQzMDU4NiwzNy43MzA0NDA1IDkuNDMzOTE5NjYsMzcuNzMwNDQwNSAwLDM3LjczMDQ0MDUgWiIgaWQ9IlBhdGgtMTkiIGZpbGw9IiMzNzkzRUYiPjwvcGF0aD4KICAgICAgICAgICAgPC9nPgogICAgICAgIDwvZz4KICAgIDwvZz4KPC9zdmc+' > </img>\nCreated in <span style='font-weight:600;margin-left:4px;'>Deepnote</span></a>",
   "metadata": {
    "tags": [],
    "created_in_deepnote_cell": true,
    "deepnote_cell_type": "markdown"
   }
  }
 ],
 "nbformat": 4,
 "nbformat_minor": 2,
 "metadata": {
  "orig_nbformat": 2,
  "deepnote": {},
  "deepnote_notebook_id": "944d8c1c-9c85-483b-9fb6-077e26a19e70",
  "deepnote_execution_queue": []
 }
}