{
 "cells": [
  {
   "cell_type": "code",
   "metadata": {
    "tags": [],
    "cell_id": "70b0c416-d227-4763-91db-c6ccacb10250",
    "deepnote_to_be_reexecuted": false,
    "source_hash": "9b82ee11",
    "execution_start": 1654522796469,
    "execution_millis": 1,
    "deepnote_cell_type": "code",
    "deepnote_cell_height": 81
   },
   "source": "import pandas as pd",
   "outputs": [],
   "execution_count": null
  },
  {
   "cell_type": "code",
   "metadata": {
    "cell_id": "a7e378039ac24cfeb4eaf4072b2a8e2c",
    "tags": [],
    "deepnote_to_be_reexecuted": false,
    "source_hash": "b623e53d",
    "execution_start": 1654522796471,
    "deepnote_cell_type": "code",
    "deepnote_cell_height": 81
   },
   "source": "",
   "outputs": [],
   "execution_count": null
  },
  {
   "cell_type": "markdown",
   "source": "# Groupby\n`Groupby` es una funcioón de agregación que nos permite agrupar d\n\n[Link](https://pandas.pydata.org/docs/reference/api/pandas.DataFrame.groupby.html) de la documentación de [`groupby`](https://pandas.pydata.org/docs/reference/api/pandas.DataFrame.groupby.html)",
   "metadata": {
    "cell_id": "b17ea0a86fff424ea0291d0cd73a1720",
    "tags": [],
    "deepnote_cell_type": "markdown",
    "deepnote_cell_height": 156.78125
   }
  },
  {
   "cell_type": "code",
   "metadata": {
    "cell_id": "c5800c3649d84568b2a7f5d6bc9dd870",
    "tags": [],
    "deepnote_to_be_reexecuted": false,
    "source_hash": "adf3d5de",
    "execution_start": 1654522796472,
    "execution_millis": 910,
    "deepnote_cell_type": "code",
    "deepnote_cell_height": 618
   },
   "source": "df_books = pd.read_csv('https://static.platzi.com/media/public/uploads/bestsellers-with-categories_e591527f-ae45-4fa5-b0d1-d50142128fa6.csv', sep=',', header=0, names=['Name', 'Author', 'User-Rating', 'Reviews', 'Price', 'Year', 'Genre'])\ndf_books",
   "outputs": [
    {
     "output_type": "execute_result",
     "execution_count": 2,
     "data": {
      "application/vnd.deepnote.dataframe.v3+json": {
       "column_count": 7,
       "row_count": 550,
       "columns": [
        {
         "name": "Name",
         "dtype": "object",
         "stats": {
          "unique_count": 351,
          "nan_count": 0,
          "categories": [
           {
            "name": "Publication Manual of the American Psychological Association, 6th Edition",
            "count": 10
           },
           {
            "name": "StrengthsFinder 2.0",
            "count": 9
           },
           {
            "name": "349 others",
            "count": 531
           }
          ]
         }
        },
        {
         "name": "Author",
         "dtype": "object",
         "stats": {
          "unique_count": 248,
          "nan_count": 0,
          "categories": [
           {
            "name": "Jeff Kinney",
            "count": 12
           },
           {
            "name": "Suzanne Collins",
            "count": 11
           },
           {
            "name": "246 others",
            "count": 527
           }
          ]
         }
        },
        {
         "name": "User-Rating",
         "dtype": "float64",
         "stats": {
          "unique_count": 14,
          "nan_count": 0,
          "min": "3.3",
          "max": "4.9",
          "histogram": [
           {
            "bin_start": 3.3,
            "bin_end": 3.46,
            "count": 1
           },
           {
            "bin_start": 3.46,
            "bin_end": 3.62,
            "count": 1
           },
           {
            "bin_start": 3.62,
            "bin_end": 3.7800000000000002,
            "count": 0
           },
           {
            "bin_start": 3.7800000000000002,
            "bin_end": 3.94,
            "count": 5
           },
           {
            "bin_start": 3.94,
            "bin_end": 4.1,
            "count": 14
           },
           {
            "bin_start": 4.1,
            "bin_end": 4.26,
            "count": 14
           },
           {
            "bin_start": 4.26,
            "bin_end": 4.42,
            "count": 63
           },
           {
            "bin_start": 4.42,
            "bin_end": 4.58,
            "count": 60
           },
           {
            "bin_start": 4.58,
            "bin_end": 4.74,
            "count": 213
           },
           {
            "bin_start": 4.74,
            "bin_end": 4.9,
            "count": 179
           }
          ]
         }
        },
        {
         "name": "Reviews",
         "dtype": "int64",
         "stats": {
          "unique_count": 346,
          "nan_count": 0,
          "min": "37",
          "max": "87841",
          "histogram": [
           {
            "bin_start": 37,
            "bin_end": 8817.4,
            "count": 287
           },
           {
            "bin_start": 8817.4,
            "bin_end": 17597.8,
            "count": 131
           },
           {
            "bin_start": 17597.8,
            "bin_end": 26378.199999999997,
            "count": 87
           },
           {
            "bin_start": 26378.199999999997,
            "bin_end": 35158.6,
            "count": 25
           },
           {
            "bin_start": 35158.6,
            "bin_end": 43939,
            "count": 4
           },
           {
            "bin_start": 43939,
            "bin_end": 52719.399999999994,
            "count": 8
           },
           {
            "bin_start": 52719.399999999994,
            "bin_end": 61499.799999999996,
            "count": 5
           },
           {
            "bin_start": 61499.799999999996,
            "bin_end": 70280.2,
            "count": 0
           },
           {
            "bin_start": 70280.2,
            "bin_end": 79060.59999999999,
            "count": 0
           },
           {
            "bin_start": 79060.59999999999,
            "bin_end": 87841,
            "count": 3
           }
          ]
         }
        },
        {
         "name": "Price",
         "dtype": "int64",
         "stats": {
          "unique_count": 40,
          "nan_count": 0,
          "min": "0",
          "max": "105",
          "histogram": [
           {
            "bin_start": 0,
            "bin_end": 10.5,
            "count": 266
           },
           {
            "bin_start": 10.5,
            "bin_end": 21,
            "count": 216
           },
           {
            "bin_start": 21,
            "bin_end": 31.5,
            "count": 42
           },
           {
            "bin_start": 31.5,
            "bin_end": 42,
            "count": 9
           },
           {
            "bin_start": 42,
            "bin_end": 52.5,
            "count": 12
           },
           {
            "bin_start": 52.5,
            "bin_end": 63,
            "count": 2
           },
           {
            "bin_start": 63,
            "bin_end": 73.5,
            "count": 0
           },
           {
            "bin_start": 73.5,
            "bin_end": 84,
            "count": 1
           },
           {
            "bin_start": 84,
            "bin_end": 94.5,
            "count": 0
           },
           {
            "bin_start": 94.5,
            "bin_end": 105,
            "count": 2
           }
          ]
         }
        },
        {
         "name": "Year",
         "dtype": "int64",
         "stats": {
          "unique_count": 11,
          "nan_count": 0,
          "min": "2009",
          "max": "2019",
          "histogram": [
           {
            "bin_start": 2009,
            "bin_end": 2010,
            "count": 50
           },
           {
            "bin_start": 2010,
            "bin_end": 2011,
            "count": 50
           },
           {
            "bin_start": 2011,
            "bin_end": 2012,
            "count": 50
           },
           {
            "bin_start": 2012,
            "bin_end": 2013,
            "count": 50
           },
           {
            "bin_start": 2013,
            "bin_end": 2014,
            "count": 50
           },
           {
            "bin_start": 2014,
            "bin_end": 2015,
            "count": 50
           },
           {
            "bin_start": 2015,
            "bin_end": 2016,
            "count": 50
           },
           {
            "bin_start": 2016,
            "bin_end": 2017,
            "count": 50
           },
           {
            "bin_start": 2017,
            "bin_end": 2018,
            "count": 50
           },
           {
            "bin_start": 2018,
            "bin_end": 2019,
            "count": 100
           }
          ]
         }
        },
        {
         "name": "Genre",
         "dtype": "object",
         "stats": {
          "unique_count": 2,
          "nan_count": 0,
          "categories": [
           {
            "name": "Non Fiction",
            "count": 310
           },
           {
            "name": "Fiction",
            "count": 240
           }
          ]
         }
        },
        {
         "name": "_deepnote_index_column",
         "dtype": "int64"
        }
       ],
       "rows": [
        {
         "Name": "10-Day Green Smoothie Cleanse",
         "Author": "JJ Smith",
         "User-Rating": 4.7,
         "Reviews": 17350,
         "Price": 8,
         "Year": 2016,
         "Genre": "Non Fiction",
         "_deepnote_index_column": 0
        },
        {
         "Name": "11/22/63: A Novel",
         "Author": "Stephen King",
         "User-Rating": 4.6,
         "Reviews": 2052,
         "Price": 22,
         "Year": 2011,
         "Genre": "Fiction",
         "_deepnote_index_column": 1
        },
        {
         "Name": "12 Rules for Life: An Antidote to Chaos",
         "Author": "Jordan B. Peterson",
         "User-Rating": 4.7,
         "Reviews": 18979,
         "Price": 15,
         "Year": 2018,
         "Genre": "Non Fiction",
         "_deepnote_index_column": 2
        },
        {
         "Name": "1984 (Signet Classics)",
         "Author": "George Orwell",
         "User-Rating": 4.7,
         "Reviews": 21424,
         "Price": 6,
         "Year": 2017,
         "Genre": "Fiction",
         "_deepnote_index_column": 3
        },
        {
         "Name": "5,000 Awesome Facts (About Everything!) (National Geographic Kids)",
         "Author": "National Geographic Kids",
         "User-Rating": 4.8,
         "Reviews": 7665,
         "Price": 12,
         "Year": 2019,
         "Genre": "Non Fiction",
         "_deepnote_index_column": 4
        },
        {
         "Name": "A Dance with Dragons (A Song of Ice and Fire)",
         "Author": "George R. R. Martin",
         "User-Rating": 4.4,
         "Reviews": 12643,
         "Price": 11,
         "Year": 2011,
         "Genre": "Fiction",
         "_deepnote_index_column": 5
        },
        {
         "Name": "A Game of Thrones / A Clash of Kings / A Storm of Swords / A Feast of Crows / A Dance with Dragons",
         "Author": "George R. R. Martin",
         "User-Rating": 4.7,
         "Reviews": 19735,
         "Price": 30,
         "Year": 2014,
         "Genre": "Fiction",
         "_deepnote_index_column": 6
        },
        {
         "Name": "A Gentleman in Moscow: A Novel",
         "Author": "Amor Towles",
         "User-Rating": 4.7,
         "Reviews": 19699,
         "Price": 15,
         "Year": 2017,
         "Genre": "Fiction",
         "_deepnote_index_column": 7
        },
        {
         "Name": "A Higher Loyalty: Truth, Lies, and Leadership",
         "Author": "James Comey",
         "User-Rating": 4.7,
         "Reviews": 5983,
         "Price": 3,
         "Year": 2018,
         "Genre": "Non Fiction",
         "_deepnote_index_column": 8
        },
        {
         "Name": "A Man Called Ove: A Novel",
         "Author": "Fredrik Backman",
         "User-Rating": 4.6,
         "Reviews": 23848,
         "Price": 8,
         "Year": 2016,
         "Genre": "Fiction",
         "_deepnote_index_column": 9
        }
       ]
      },
      "text/plain": "                                                  Name  \\\n0                        10-Day Green Smoothie Cleanse   \n1                                    11/22/63: A Novel   \n2              12 Rules for Life: An Antidote to Chaos   \n3                               1984 (Signet Classics)   \n4    5,000 Awesome Facts (About Everything!) (Natio...   \n..                                                 ...   \n545       Wrecking Ball (Diary of a Wimpy Kid Book 14)   \n546  You Are a Badass: How to Stop Doubting Your Gr...   \n547  You Are a Badass: How to Stop Doubting Your Gr...   \n548  You Are a Badass: How to Stop Doubting Your Gr...   \n549  You Are a Badass: How to Stop Doubting Your Gr...   \n\n                       Author  User-Rating  Reviews  Price  Year        Genre  \n0                    JJ Smith          4.7    17350      8  2016  Non Fiction  \n1                Stephen King          4.6     2052     22  2011      Fiction  \n2          Jordan B. Peterson          4.7    18979     15  2018  Non Fiction  \n3               George Orwell          4.7    21424      6  2017      Fiction  \n4    National Geographic Kids          4.8     7665     12  2019  Non Fiction  \n..                        ...          ...      ...    ...   ...          ...  \n545               Jeff Kinney          4.9     9413      8  2019      Fiction  \n546               Jen Sincero          4.7    14331      8  2016  Non Fiction  \n547               Jen Sincero          4.7    14331      8  2017  Non Fiction  \n548               Jen Sincero          4.7    14331      8  2018  Non Fiction  \n549               Jen Sincero          4.7    14331      8  2019  Non Fiction  \n\n[550 rows x 7 columns]",
      "text/html": "<div>\n<style scoped>\n    .dataframe tbody tr th:only-of-type {\n        vertical-align: middle;\n    }\n\n    .dataframe tbody tr th {\n        vertical-align: top;\n    }\n\n    .dataframe thead th {\n        text-align: right;\n    }\n</style>\n<table border=\"1\" class=\"dataframe\">\n  <thead>\n    <tr style=\"text-align: right;\">\n      <th></th>\n      <th>Name</th>\n      <th>Author</th>\n      <th>User-Rating</th>\n      <th>Reviews</th>\n      <th>Price</th>\n      <th>Year</th>\n      <th>Genre</th>\n    </tr>\n  </thead>\n  <tbody>\n    <tr>\n      <th>0</th>\n      <td>10-Day Green Smoothie Cleanse</td>\n      <td>JJ Smith</td>\n      <td>4.7</td>\n      <td>17350</td>\n      <td>8</td>\n      <td>2016</td>\n      <td>Non Fiction</td>\n    </tr>\n    <tr>\n      <th>1</th>\n      <td>11/22/63: A Novel</td>\n      <td>Stephen King</td>\n      <td>4.6</td>\n      <td>2052</td>\n      <td>22</td>\n      <td>2011</td>\n      <td>Fiction</td>\n    </tr>\n    <tr>\n      <th>2</th>\n      <td>12 Rules for Life: An Antidote to Chaos</td>\n      <td>Jordan B. Peterson</td>\n      <td>4.7</td>\n      <td>18979</td>\n      <td>15</td>\n      <td>2018</td>\n      <td>Non Fiction</td>\n    </tr>\n    <tr>\n      <th>3</th>\n      <td>1984 (Signet Classics)</td>\n      <td>George Orwell</td>\n      <td>4.7</td>\n      <td>21424</td>\n      <td>6</td>\n      <td>2017</td>\n      <td>Fiction</td>\n    </tr>\n    <tr>\n      <th>4</th>\n      <td>5,000 Awesome Facts (About Everything!) (Natio...</td>\n      <td>National Geographic Kids</td>\n      <td>4.8</td>\n      <td>7665</td>\n      <td>12</td>\n      <td>2019</td>\n      <td>Non Fiction</td>\n    </tr>\n    <tr>\n      <th>...</th>\n      <td>...</td>\n      <td>...</td>\n      <td>...</td>\n      <td>...</td>\n      <td>...</td>\n      <td>...</td>\n      <td>...</td>\n    </tr>\n    <tr>\n      <th>545</th>\n      <td>Wrecking Ball (Diary of a Wimpy Kid Book 14)</td>\n      <td>Jeff Kinney</td>\n      <td>4.9</td>\n      <td>9413</td>\n      <td>8</td>\n      <td>2019</td>\n      <td>Fiction</td>\n    </tr>\n    <tr>\n      <th>546</th>\n      <td>You Are a Badass: How to Stop Doubting Your Gr...</td>\n      <td>Jen Sincero</td>\n      <td>4.7</td>\n      <td>14331</td>\n      <td>8</td>\n      <td>2016</td>\n      <td>Non Fiction</td>\n    </tr>\n    <tr>\n      <th>547</th>\n      <td>You Are a Badass: How to Stop Doubting Your Gr...</td>\n      <td>Jen Sincero</td>\n      <td>4.7</td>\n      <td>14331</td>\n      <td>8</td>\n      <td>2017</td>\n      <td>Non Fiction</td>\n    </tr>\n    <tr>\n      <th>548</th>\n      <td>You Are a Badass: How to Stop Doubting Your Gr...</td>\n      <td>Jen Sincero</td>\n      <td>4.7</td>\n      <td>14331</td>\n      <td>8</td>\n      <td>2018</td>\n      <td>Non Fiction</td>\n    </tr>\n    <tr>\n      <th>549</th>\n      <td>You Are a Badass: How to Stop Doubting Your Gr...</td>\n      <td>Jen Sincero</td>\n      <td>4.7</td>\n      <td>14331</td>\n      <td>8</td>\n      <td>2019</td>\n      <td>Non Fiction</td>\n    </tr>\n  </tbody>\n</table>\n<p>550 rows × 7 columns</p>\n</div>"
     },
     "metadata": {}
    }
   ],
   "execution_count": null
  },
  {
   "cell_type": "code",
   "metadata": {
    "cell_id": "f946fcfb37d140e68453fee08d94bf6a",
    "tags": [],
    "deepnote_to_be_reexecuted": false,
    "source_hash": "906770f1",
    "execution_start": 1654522796972,
    "execution_millis": 636,
    "deepnote_cell_type": "code",
    "deepnote_cell_height": 600
   },
   "source": "df_books.groupby('Author').count()",
   "outputs": [
    {
     "output_type": "execute_result",
     "execution_count": 3,
     "data": {
      "application/vnd.deepnote.dataframe.v3+json": {
       "column_count": 6,
       "row_count": 248,
       "columns": [
        {
         "name": "Name",
         "dtype": "int64",
         "stats": {
          "unique_count": 12,
          "nan_count": 0,
          "min": "1",
          "max": "12",
          "histogram": [
           {
            "bin_start": 1,
            "bin_end": 2.1,
            "count": 190
           },
           {
            "bin_start": 2.1,
            "bin_end": 3.2,
            "count": 18
           },
           {
            "bin_start": 3.2,
            "bin_end": 4.300000000000001,
            "count": 12
           },
           {
            "bin_start": 4.300000000000001,
            "bin_end": 5.4,
            "count": 8
           },
           {
            "bin_start": 5.4,
            "bin_end": 6.5,
            "count": 7
           },
           {
            "bin_start": 6.5,
            "bin_end": 7.6000000000000005,
            "count": 5
           },
           {
            "bin_start": 7.6000000000000005,
            "bin_end": 8.700000000000001,
            "count": 1
           },
           {
            "bin_start": 8.700000000000001,
            "bin_end": 9.8,
            "count": 2
           },
           {
            "bin_start": 9.8,
            "bin_end": 10.9,
            "count": 1
           },
           {
            "bin_start": 10.9,
            "bin_end": 12,
            "count": 4
           }
          ]
         }
        },
        {
         "name": "User-Rating",
         "dtype": "int64",
         "stats": {
          "unique_count": 12,
          "nan_count": 0,
          "min": "1",
          "max": "12",
          "histogram": [
           {
            "bin_start": 1,
            "bin_end": 2.1,
            "count": 190
           },
           {
            "bin_start": 2.1,
            "bin_end": 3.2,
            "count": 18
           },
           {
            "bin_start": 3.2,
            "bin_end": 4.300000000000001,
            "count": 12
           },
           {
            "bin_start": 4.300000000000001,
            "bin_end": 5.4,
            "count": 8
           },
           {
            "bin_start": 5.4,
            "bin_end": 6.5,
            "count": 7
           },
           {
            "bin_start": 6.5,
            "bin_end": 7.6000000000000005,
            "count": 5
           },
           {
            "bin_start": 7.6000000000000005,
            "bin_end": 8.700000000000001,
            "count": 1
           },
           {
            "bin_start": 8.700000000000001,
            "bin_end": 9.8,
            "count": 2
           },
           {
            "bin_start": 9.8,
            "bin_end": 10.9,
            "count": 1
           },
           {
            "bin_start": 10.9,
            "bin_end": 12,
            "count": 4
           }
          ]
         }
        },
        {
         "name": "Reviews",
         "dtype": "int64",
         "stats": {
          "unique_count": 12,
          "nan_count": 0,
          "min": "1",
          "max": "12",
          "histogram": [
           {
            "bin_start": 1,
            "bin_end": 2.1,
            "count": 190
           },
           {
            "bin_start": 2.1,
            "bin_end": 3.2,
            "count": 18
           },
           {
            "bin_start": 3.2,
            "bin_end": 4.300000000000001,
            "count": 12
           },
           {
            "bin_start": 4.300000000000001,
            "bin_end": 5.4,
            "count": 8
           },
           {
            "bin_start": 5.4,
            "bin_end": 6.5,
            "count": 7
           },
           {
            "bin_start": 6.5,
            "bin_end": 7.6000000000000005,
            "count": 5
           },
           {
            "bin_start": 7.6000000000000005,
            "bin_end": 8.700000000000001,
            "count": 1
           },
           {
            "bin_start": 8.700000000000001,
            "bin_end": 9.8,
            "count": 2
           },
           {
            "bin_start": 9.8,
            "bin_end": 10.9,
            "count": 1
           },
           {
            "bin_start": 10.9,
            "bin_end": 12,
            "count": 4
           }
          ]
         }
        },
        {
         "name": "Price",
         "dtype": "int64",
         "stats": {
          "unique_count": 12,
          "nan_count": 0,
          "min": "1",
          "max": "12",
          "histogram": [
           {
            "bin_start": 1,
            "bin_end": 2.1,
            "count": 190
           },
           {
            "bin_start": 2.1,
            "bin_end": 3.2,
            "count": 18
           },
           {
            "bin_start": 3.2,
            "bin_end": 4.300000000000001,
            "count": 12
           },
           {
            "bin_start": 4.300000000000001,
            "bin_end": 5.4,
            "count": 8
           },
           {
            "bin_start": 5.4,
            "bin_end": 6.5,
            "count": 7
           },
           {
            "bin_start": 6.5,
            "bin_end": 7.6000000000000005,
            "count": 5
           },
           {
            "bin_start": 7.6000000000000005,
            "bin_end": 8.700000000000001,
            "count": 1
           },
           {
            "bin_start": 8.700000000000001,
            "bin_end": 9.8,
            "count": 2
           },
           {
            "bin_start": 9.8,
            "bin_end": 10.9,
            "count": 1
           },
           {
            "bin_start": 10.9,
            "bin_end": 12,
            "count": 4
           }
          ]
         }
        },
        {
         "name": "Year",
         "dtype": "int64",
         "stats": {
          "unique_count": 12,
          "nan_count": 0,
          "min": "1",
          "max": "12",
          "histogram": [
           {
            "bin_start": 1,
            "bin_end": 2.1,
            "count": 190
           },
           {
            "bin_start": 2.1,
            "bin_end": 3.2,
            "count": 18
           },
           {
            "bin_start": 3.2,
            "bin_end": 4.300000000000001,
            "count": 12
           },
           {
            "bin_start": 4.300000000000001,
            "bin_end": 5.4,
            "count": 8
           },
           {
            "bin_start": 5.4,
            "bin_end": 6.5,
            "count": 7
           },
           {
            "bin_start": 6.5,
            "bin_end": 7.6000000000000005,
            "count": 5
           },
           {
            "bin_start": 7.6000000000000005,
            "bin_end": 8.700000000000001,
            "count": 1
           },
           {
            "bin_start": 8.700000000000001,
            "bin_end": 9.8,
            "count": 2
           },
           {
            "bin_start": 9.8,
            "bin_end": 10.9,
            "count": 1
           },
           {
            "bin_start": 10.9,
            "bin_end": 12,
            "count": 4
           }
          ]
         }
        },
        {
         "name": "Genre",
         "dtype": "int64",
         "stats": {
          "unique_count": 12,
          "nan_count": 0,
          "min": "1",
          "max": "12",
          "histogram": [
           {
            "bin_start": 1,
            "bin_end": 2.1,
            "count": 190
           },
           {
            "bin_start": 2.1,
            "bin_end": 3.2,
            "count": 18
           },
           {
            "bin_start": 3.2,
            "bin_end": 4.300000000000001,
            "count": 12
           },
           {
            "bin_start": 4.300000000000001,
            "bin_end": 5.4,
            "count": 8
           },
           {
            "bin_start": 5.4,
            "bin_end": 6.5,
            "count": 7
           },
           {
            "bin_start": 6.5,
            "bin_end": 7.6000000000000005,
            "count": 5
           },
           {
            "bin_start": 7.6000000000000005,
            "bin_end": 8.700000000000001,
            "count": 1
           },
           {
            "bin_start": 8.700000000000001,
            "bin_end": 9.8,
            "count": 2
           },
           {
            "bin_start": 9.8,
            "bin_end": 10.9,
            "count": 1
           },
           {
            "bin_start": 10.9,
            "bin_end": 12,
            "count": 4
           }
          ]
         }
        },
        {
         "name": "_deepnote_index_column",
         "dtype": "object"
        }
       ],
       "rows": [
        {
         "Name": 2,
         "User-Rating": 2,
         "Reviews": 2,
         "Price": 2,
         "Year": 2,
         "Genre": 2,
         "_deepnote_index_column": "Abraham Verghese"
        },
        {
         "Name": 1,
         "User-Rating": 1,
         "Reviews": 1,
         "Price": 1,
         "Year": 1,
         "Genre": 1,
         "_deepnote_index_column": "Adam Gasiewski"
        },
        {
         "Name": 1,
         "User-Rating": 1,
         "Reviews": 1,
         "Price": 1,
         "Year": 1,
         "Genre": 1,
         "_deepnote_index_column": "Adam Mansbach"
        },
        {
         "Name": 1,
         "User-Rating": 1,
         "Reviews": 1,
         "Price": 1,
         "Year": 1,
         "Genre": 1,
         "_deepnote_index_column": "Adir Levy"
        },
        {
         "Name": 1,
         "User-Rating": 1,
         "Reviews": 1,
         "Price": 1,
         "Year": 1,
         "Genre": 1,
         "_deepnote_index_column": "Admiral William H. McRaven"
        },
        {
         "Name": 1,
         "User-Rating": 1,
         "Reviews": 1,
         "Price": 1,
         "Year": 1,
         "Genre": 1,
         "_deepnote_index_column": "Adult Coloring Book Designs"
        },
        {
         "Name": 1,
         "User-Rating": 1,
         "Reviews": 1,
         "Price": 1,
         "Year": 1,
         "Genre": 1,
         "_deepnote_index_column": "Alan Moore"
        },
        {
         "Name": 1,
         "User-Rating": 1,
         "Reviews": 1,
         "Price": 1,
         "Year": 1,
         "Genre": 1,
         "_deepnote_index_column": "Alex Michaelides"
        },
        {
         "Name": 1,
         "User-Rating": 1,
         "Reviews": 1,
         "Price": 1,
         "Year": 1,
         "Genre": 1,
         "_deepnote_index_column": "Alice Schertle"
        },
        {
         "Name": 1,
         "User-Rating": 1,
         "Reviews": 1,
         "Price": 1,
         "Year": 1,
         "Genre": 1,
         "_deepnote_index_column": "Allie Brosh"
        }
       ]
      },
      "text/plain": "                            Name  User-Rating  Reviews  Price  Year  Genre\nAuthor                                                                    \nAbraham Verghese               2            2        2      2     2      2\nAdam Gasiewski                 1            1        1      1     1      1\nAdam Mansbach                  1            1        1      1     1      1\nAdir Levy                      1            1        1      1     1      1\nAdmiral William H. McRaven     1            1        1      1     1      1\n...                          ...          ...      ...    ...   ...    ...\nWalter Isaacson                3            3        3      3     3      3\nWilliam Davis                  2            2        2      2     2      2\nWilliam P. Young               2            2        2      2     2      2\nWizards RPG Team               3            3        3      3     3      3\nZhi Gang Sha                   2            2        2      2     2      2\n\n[248 rows x 6 columns]",
      "text/html": "<div>\n<style scoped>\n    .dataframe tbody tr th:only-of-type {\n        vertical-align: middle;\n    }\n\n    .dataframe tbody tr th {\n        vertical-align: top;\n    }\n\n    .dataframe thead th {\n        text-align: right;\n    }\n</style>\n<table border=\"1\" class=\"dataframe\">\n  <thead>\n    <tr style=\"text-align: right;\">\n      <th></th>\n      <th>Name</th>\n      <th>User-Rating</th>\n      <th>Reviews</th>\n      <th>Price</th>\n      <th>Year</th>\n      <th>Genre</th>\n    </tr>\n    <tr>\n      <th>Author</th>\n      <th></th>\n      <th></th>\n      <th></th>\n      <th></th>\n      <th></th>\n      <th></th>\n    </tr>\n  </thead>\n  <tbody>\n    <tr>\n      <th>Abraham Verghese</th>\n      <td>2</td>\n      <td>2</td>\n      <td>2</td>\n      <td>2</td>\n      <td>2</td>\n      <td>2</td>\n    </tr>\n    <tr>\n      <th>Adam Gasiewski</th>\n      <td>1</td>\n      <td>1</td>\n      <td>1</td>\n      <td>1</td>\n      <td>1</td>\n      <td>1</td>\n    </tr>\n    <tr>\n      <th>Adam Mansbach</th>\n      <td>1</td>\n      <td>1</td>\n      <td>1</td>\n      <td>1</td>\n      <td>1</td>\n      <td>1</td>\n    </tr>\n    <tr>\n      <th>Adir Levy</th>\n      <td>1</td>\n      <td>1</td>\n      <td>1</td>\n      <td>1</td>\n      <td>1</td>\n      <td>1</td>\n    </tr>\n    <tr>\n      <th>Admiral William H. McRaven</th>\n      <td>1</td>\n      <td>1</td>\n      <td>1</td>\n      <td>1</td>\n      <td>1</td>\n      <td>1</td>\n    </tr>\n    <tr>\n      <th>...</th>\n      <td>...</td>\n      <td>...</td>\n      <td>...</td>\n      <td>...</td>\n      <td>...</td>\n      <td>...</td>\n    </tr>\n    <tr>\n      <th>Walter Isaacson</th>\n      <td>3</td>\n      <td>3</td>\n      <td>3</td>\n      <td>3</td>\n      <td>3</td>\n      <td>3</td>\n    </tr>\n    <tr>\n      <th>William Davis</th>\n      <td>2</td>\n      <td>2</td>\n      <td>2</td>\n      <td>2</td>\n      <td>2</td>\n      <td>2</td>\n    </tr>\n    <tr>\n      <th>William P. Young</th>\n      <td>2</td>\n      <td>2</td>\n      <td>2</td>\n      <td>2</td>\n      <td>2</td>\n      <td>2</td>\n    </tr>\n    <tr>\n      <th>Wizards RPG Team</th>\n      <td>3</td>\n      <td>3</td>\n      <td>3</td>\n      <td>3</td>\n      <td>3</td>\n      <td>3</td>\n    </tr>\n    <tr>\n      <th>Zhi Gang Sha</th>\n      <td>2</td>\n      <td>2</td>\n      <td>2</td>\n      <td>2</td>\n      <td>2</td>\n      <td>2</td>\n    </tr>\n  </tbody>\n</table>\n<p>248 rows × 6 columns</p>\n</div>"
     },
     "metadata": {}
    }
   ],
   "execution_count": null
  },
  {
   "cell_type": "code",
   "metadata": {
    "cell_id": "691ddff171274200842353b338e3474f",
    "tags": [],
    "deepnote_to_be_reexecuted": false,
    "source_hash": "227641d9",
    "execution_start": 1654522797026,
    "execution_millis": 584,
    "deepnote_cell_type": "code",
    "deepnote_cell_height": 600
   },
   "source": "df_books.groupby('Author').mean()",
   "outputs": [
    {
     "output_type": "execute_result",
     "execution_count": 4,
     "data": {
      "application/vnd.deepnote.dataframe.v3+json": {
       "column_count": 4,
       "row_count": 248,
       "columns": [
        {
         "name": "User-Rating",
         "dtype": "float64",
         "stats": {
          "unique_count": 35,
          "nan_count": 0,
          "min": "3.9",
          "max": "4.9",
          "histogram": [
           {
            "bin_start": 3.9,
            "bin_end": 4,
            "count": 1
           },
           {
            "bin_start": 4,
            "bin_end": 4.1,
            "count": 3
           },
           {
            "bin_start": 4.1,
            "bin_end": 4.2,
            "count": 5
           },
           {
            "bin_start": 4.2,
            "bin_end": 4.3,
            "count": 7
           },
           {
            "bin_start": 4.3,
            "bin_end": 4.4,
            "count": 13
           },
           {
            "bin_start": 4.4,
            "bin_end": 4.5,
            "count": 24
           },
           {
            "bin_start": 4.5,
            "bin_end": 4.6000000000000005,
            "count": 75
           },
           {
            "bin_start": 4.6000000000000005,
            "bin_end": 4.7,
            "count": 9
           },
           {
            "bin_start": 4.7,
            "bin_end": 4.800000000000001,
            "count": 93
           },
           {
            "bin_start": 4.800000000000001,
            "bin_end": 4.9,
            "count": 18
           }
          ]
         }
        },
        {
         "name": "Reviews",
         "dtype": "float64",
         "stats": {
          "unique_count": 247,
          "nan_count": 0,
          "min": "128.5",
          "max": "87841.0",
          "histogram": [
           {
            "bin_start": 128.5,
            "bin_end": 8899.75,
            "count": 149
           },
           {
            "bin_start": 8899.75,
            "bin_end": 17671,
            "count": 59
           },
           {
            "bin_start": 17671,
            "bin_end": 26442.25,
            "count": 23
           },
           {
            "bin_start": 26442.25,
            "bin_end": 35213.5,
            "count": 8
           },
           {
            "bin_start": 35213.5,
            "bin_end": 43984.75,
            "count": 4
           },
           {
            "bin_start": 43984.75,
            "bin_end": 52756,
            "count": 1
           },
           {
            "bin_start": 52756,
            "bin_end": 61527.25,
            "count": 2
           },
           {
            "bin_start": 61527.25,
            "bin_end": 70298.5,
            "count": 0
           },
           {
            "bin_start": 70298.5,
            "bin_end": 79069.75,
            "count": 0
           },
           {
            "bin_start": 79069.75,
            "bin_end": 87841,
            "count": 2
           }
          ]
         }
        },
        {
         "name": "Price",
         "dtype": "float64",
         "stats": {
          "unique_count": 70,
          "nan_count": 0,
          "min": "0.0",
          "max": "105.0",
          "histogram": [
           {
            "bin_start": 0,
            "bin_end": 10.5,
            "count": 107
           },
           {
            "bin_start": 10.5,
            "bin_end": 21,
            "count": 119
           },
           {
            "bin_start": 21,
            "bin_end": 31.5,
            "count": 13
           },
           {
            "bin_start": 31.5,
            "bin_end": 42,
            "count": 4
           },
           {
            "bin_start": 42,
            "bin_end": 52.5,
            "count": 2
           },
           {
            "bin_start": 52.5,
            "bin_end": 63,
            "count": 2
           },
           {
            "bin_start": 63,
            "bin_end": 73.5,
            "count": 0
           },
           {
            "bin_start": 73.5,
            "bin_end": 84,
            "count": 0
           },
           {
            "bin_start": 84,
            "bin_end": 94.5,
            "count": 0
           },
           {
            "bin_start": 94.5,
            "bin_end": 105,
            "count": 1
           }
          ]
         }
        },
        {
         "name": "Year",
         "dtype": "float64",
         "stats": {
          "unique_count": 40,
          "nan_count": 0,
          "min": "2009.0",
          "max": "2019.0",
          "histogram": [
           {
            "bin_start": 2009,
            "bin_end": 2010,
            "count": 22
           },
           {
            "bin_start": 2010,
            "bin_end": 2011,
            "count": 26
           },
           {
            "bin_start": 2011,
            "bin_end": 2012,
            "count": 23
           },
           {
            "bin_start": 2012,
            "bin_end": 2013,
            "count": 18
           },
           {
            "bin_start": 2013,
            "bin_end": 2014,
            "count": 28
           },
           {
            "bin_start": 2014,
            "bin_end": 2015,
            "count": 20
           },
           {
            "bin_start": 2015,
            "bin_end": 2016,
            "count": 21
           },
           {
            "bin_start": 2016,
            "bin_end": 2017,
            "count": 21
           },
           {
            "bin_start": 2017,
            "bin_end": 2018,
            "count": 21
           },
           {
            "bin_start": 2018,
            "bin_end": 2019,
            "count": 48
           }
          ]
         }
        },
        {
         "name": "_deepnote_index_column",
         "dtype": "object"
        }
       ],
       "rows": [
        {
         "User-Rating": 4.6,
         "Reviews": 4866,
         "Price": 11,
         "Year": 2010.5,
         "_deepnote_index_column": "Abraham Verghese"
        },
        {
         "User-Rating": 4.4,
         "Reviews": 3113,
         "Price": 6,
         "Year": 2017,
         "_deepnote_index_column": "Adam Gasiewski"
        },
        {
         "User-Rating": 4.8,
         "Reviews": 9568,
         "Price": 9,
         "Year": 2011,
         "_deepnote_index_column": "Adam Mansbach"
        },
        {
         "User-Rating": 4.8,
         "Reviews": 8170,
         "Price": 13,
         "Year": 2019,
         "_deepnote_index_column": "Adir Levy"
        },
        {
         "User-Rating": 4.7,
         "Reviews": 10199,
         "Price": 11,
         "Year": 2017,
         "_deepnote_index_column": "Admiral William H. McRaven"
        },
        {
         "User-Rating": 4.5,
         "Reviews": 2313,
         "Price": 4,
         "Year": 2016,
         "_deepnote_index_column": "Adult Coloring Book Designs"
        },
        {
         "User-Rating": 4.8,
         "Reviews": 3829,
         "Price": 42,
         "Year": 2009,
         "_deepnote_index_column": "Alan Moore"
        },
        {
         "User-Rating": 4.5,
         "Reviews": 27536,
         "Price": 14,
         "Year": 2019,
         "_deepnote_index_column": "Alex Michaelides"
        },
        {
         "User-Rating": 4.9,
         "Reviews": 1884,
         "Price": 0,
         "Year": 2014,
         "_deepnote_index_column": "Alice Schertle"
        },
        {
         "User-Rating": 4.7,
         "Reviews": 4896,
         "Price": 17,
         "Year": 2013,
         "_deepnote_index_column": "Allie Brosh"
        }
       ]
      },
      "text/plain": "                            User-Rating       Reviews      Price         Year\nAuthor                                                                       \nAbraham Verghese               4.600000   4866.000000  11.000000  2010.500000\nAdam Gasiewski                 4.400000   3113.000000   6.000000  2017.000000\nAdam Mansbach                  4.800000   9568.000000   9.000000  2011.000000\nAdir Levy                      4.800000   8170.000000  13.000000  2019.000000\nAdmiral William H. McRaven     4.700000  10199.000000  11.000000  2017.000000\n...                                 ...           ...        ...          ...\nWalter Isaacson                4.566667   6222.666667  20.333333  2013.333333\nWilliam Davis                  4.400000   7497.000000   6.000000  2012.500000\nWilliam P. Young               4.600000  19720.000000   8.000000  2013.000000\nWizards RPG Team               4.800000  16990.000000  27.000000  2018.000000\nZhi Gang Sha                   4.600000    128.500000  11.500000  2011.000000\n\n[248 rows x 4 columns]",
      "text/html": "<div>\n<style scoped>\n    .dataframe tbody tr th:only-of-type {\n        vertical-align: middle;\n    }\n\n    .dataframe tbody tr th {\n        vertical-align: top;\n    }\n\n    .dataframe thead th {\n        text-align: right;\n    }\n</style>\n<table border=\"1\" class=\"dataframe\">\n  <thead>\n    <tr style=\"text-align: right;\">\n      <th></th>\n      <th>User-Rating</th>\n      <th>Reviews</th>\n      <th>Price</th>\n      <th>Year</th>\n    </tr>\n    <tr>\n      <th>Author</th>\n      <th></th>\n      <th></th>\n      <th></th>\n      <th></th>\n    </tr>\n  </thead>\n  <tbody>\n    <tr>\n      <th>Abraham Verghese</th>\n      <td>4.600000</td>\n      <td>4866.000000</td>\n      <td>11.000000</td>\n      <td>2010.500000</td>\n    </tr>\n    <tr>\n      <th>Adam Gasiewski</th>\n      <td>4.400000</td>\n      <td>3113.000000</td>\n      <td>6.000000</td>\n      <td>2017.000000</td>\n    </tr>\n    <tr>\n      <th>Adam Mansbach</th>\n      <td>4.800000</td>\n      <td>9568.000000</td>\n      <td>9.000000</td>\n      <td>2011.000000</td>\n    </tr>\n    <tr>\n      <th>Adir Levy</th>\n      <td>4.800000</td>\n      <td>8170.000000</td>\n      <td>13.000000</td>\n      <td>2019.000000</td>\n    </tr>\n    <tr>\n      <th>Admiral William H. McRaven</th>\n      <td>4.700000</td>\n      <td>10199.000000</td>\n      <td>11.000000</td>\n      <td>2017.000000</td>\n    </tr>\n    <tr>\n      <th>...</th>\n      <td>...</td>\n      <td>...</td>\n      <td>...</td>\n      <td>...</td>\n    </tr>\n    <tr>\n      <th>Walter Isaacson</th>\n      <td>4.566667</td>\n      <td>6222.666667</td>\n      <td>20.333333</td>\n      <td>2013.333333</td>\n    </tr>\n    <tr>\n      <th>William Davis</th>\n      <td>4.400000</td>\n      <td>7497.000000</td>\n      <td>6.000000</td>\n      <td>2012.500000</td>\n    </tr>\n    <tr>\n      <th>William P. Young</th>\n      <td>4.600000</td>\n      <td>19720.000000</td>\n      <td>8.000000</td>\n      <td>2013.000000</td>\n    </tr>\n    <tr>\n      <th>Wizards RPG Team</th>\n      <td>4.800000</td>\n      <td>16990.000000</td>\n      <td>27.000000</td>\n      <td>2018.000000</td>\n    </tr>\n    <tr>\n      <th>Zhi Gang Sha</th>\n      <td>4.600000</td>\n      <td>128.500000</td>\n      <td>11.500000</td>\n      <td>2011.000000</td>\n    </tr>\n  </tbody>\n</table>\n<p>248 rows × 4 columns</p>\n</div>"
     },
     "metadata": {}
    }
   ],
   "execution_count": null
  },
  {
   "cell_type": "code",
   "metadata": {
    "cell_id": "e8c06e44ded245fbb99d33896a6e5961",
    "tags": [],
    "deepnote_to_be_reexecuted": false,
    "source_hash": "8c733462",
    "execution_start": 1654522797048,
    "execution_millis": 563,
    "deepnote_cell_type": "code",
    "deepnote_cell_height": 600
   },
   "source": "df_books.groupby('Author').median()",
   "outputs": [
    {
     "output_type": "execute_result",
     "execution_count": 5,
     "data": {
      "application/vnd.deepnote.dataframe.v3+json": {
       "column_count": 4,
       "row_count": 248,
       "columns": [
        {
         "name": "User-Rating",
         "dtype": "float64",
         "stats": {
          "unique_count": 19,
          "nan_count": 0,
          "min": "3.9",
          "max": "4.9",
          "histogram": [
           {
            "bin_start": 3.9,
            "bin_end": 4,
            "count": 1
           },
           {
            "bin_start": 4,
            "bin_end": 4.1,
            "count": 3
           },
           {
            "bin_start": 4.1,
            "bin_end": 4.2,
            "count": 4
           },
           {
            "bin_start": 4.2,
            "bin_end": 4.3,
            "count": 7
           },
           {
            "bin_start": 4.3,
            "bin_end": 4.4,
            "count": 12
           },
           {
            "bin_start": 4.4,
            "bin_end": 4.5,
            "count": 24
           },
           {
            "bin_start": 4.5,
            "bin_end": 4.6000000000000005,
            "count": 78
           },
           {
            "bin_start": 4.6000000000000005,
            "bin_end": 4.7,
            "count": 1
           },
           {
            "bin_start": 4.7,
            "bin_end": 4.800000000000001,
            "count": 100
           },
           {
            "bin_start": 4.800000000000001,
            "bin_end": 4.9,
            "count": 18
           }
          ]
         }
        },
        {
         "name": "Reviews",
         "dtype": "float64",
         "stats": {
          "unique_count": 246,
          "nan_count": 0,
          "min": "128.5",
          "max": "87841.0",
          "histogram": [
           {
            "bin_start": 128.5,
            "bin_end": 8899.75,
            "count": 149
           },
           {
            "bin_start": 8899.75,
            "bin_end": 17671,
            "count": 57
           },
           {
            "bin_start": 17671,
            "bin_end": 26442.25,
            "count": 25
           },
           {
            "bin_start": 26442.25,
            "bin_end": 35213.5,
            "count": 8
           },
           {
            "bin_start": 35213.5,
            "bin_end": 43984.75,
            "count": 3
           },
           {
            "bin_start": 43984.75,
            "bin_end": 52756,
            "count": 2
           },
           {
            "bin_start": 52756,
            "bin_end": 61527.25,
            "count": 2
           },
           {
            "bin_start": 61527.25,
            "bin_end": 70298.5,
            "count": 0
           },
           {
            "bin_start": 70298.5,
            "bin_end": 79069.75,
            "count": 0
           },
           {
            "bin_start": 79069.75,
            "bin_end": 87841,
            "count": 2
           }
          ]
         }
        },
        {
         "name": "Price",
         "dtype": "float64",
         "stats": {
          "unique_count": 46,
          "nan_count": 0,
          "min": "0.0",
          "max": "105.0",
          "histogram": [
           {
            "bin_start": 0,
            "bin_end": 10.5,
            "count": 109
           },
           {
            "bin_start": 10.5,
            "bin_end": 21,
            "count": 116
           },
           {
            "bin_start": 21,
            "bin_end": 31.5,
            "count": 14
           },
           {
            "bin_start": 31.5,
            "bin_end": 42,
            "count": 4
           },
           {
            "bin_start": 42,
            "bin_end": 52.5,
            "count": 2
           },
           {
            "bin_start": 52.5,
            "bin_end": 63,
            "count": 2
           },
           {
            "bin_start": 63,
            "bin_end": 73.5,
            "count": 0
           },
           {
            "bin_start": 73.5,
            "bin_end": 84,
            "count": 0
           },
           {
            "bin_start": 84,
            "bin_end": 94.5,
            "count": 0
           },
           {
            "bin_start": 94.5,
            "bin_end": 105,
            "count": 1
           }
          ]
         }
        },
        {
         "name": "Year",
         "dtype": "float64",
         "stats": {
          "unique_count": 21,
          "nan_count": 0,
          "min": "2009.0",
          "max": "2019.0",
          "histogram": [
           {
            "bin_start": 2009,
            "bin_end": 2010,
            "count": 22
           },
           {
            "bin_start": 2010,
            "bin_end": 2011,
            "count": 26
           },
           {
            "bin_start": 2011,
            "bin_end": 2012,
            "count": 22
           },
           {
            "bin_start": 2012,
            "bin_end": 2013,
            "count": 21
           },
           {
            "bin_start": 2013,
            "bin_end": 2014,
            "count": 25
           },
           {
            "bin_start": 2014,
            "bin_end": 2015,
            "count": 21
           },
           {
            "bin_start": 2015,
            "bin_end": 2016,
            "count": 20
           },
           {
            "bin_start": 2016,
            "bin_end": 2017,
            "count": 22
           },
           {
            "bin_start": 2017,
            "bin_end": 2018,
            "count": 21
           },
           {
            "bin_start": 2018,
            "bin_end": 2019,
            "count": 48
           }
          ]
         }
        },
        {
         "name": "_deepnote_index_column",
         "dtype": "object"
        }
       ],
       "rows": [
        {
         "User-Rating": 4.6,
         "Reviews": 4866,
         "Price": 11,
         "Year": 2010.5,
         "_deepnote_index_column": "Abraham Verghese"
        },
        {
         "User-Rating": 4.4,
         "Reviews": 3113,
         "Price": 6,
         "Year": 2017,
         "_deepnote_index_column": "Adam Gasiewski"
        },
        {
         "User-Rating": 4.8,
         "Reviews": 9568,
         "Price": 9,
         "Year": 2011,
         "_deepnote_index_column": "Adam Mansbach"
        },
        {
         "User-Rating": 4.8,
         "Reviews": 8170,
         "Price": 13,
         "Year": 2019,
         "_deepnote_index_column": "Adir Levy"
        },
        {
         "User-Rating": 4.7,
         "Reviews": 10199,
         "Price": 11,
         "Year": 2017,
         "_deepnote_index_column": "Admiral William H. McRaven"
        },
        {
         "User-Rating": 4.5,
         "Reviews": 2313,
         "Price": 4,
         "Year": 2016,
         "_deepnote_index_column": "Adult Coloring Book Designs"
        },
        {
         "User-Rating": 4.8,
         "Reviews": 3829,
         "Price": 42,
         "Year": 2009,
         "_deepnote_index_column": "Alan Moore"
        },
        {
         "User-Rating": 4.5,
         "Reviews": 27536,
         "Price": 14,
         "Year": 2019,
         "_deepnote_index_column": "Alex Michaelides"
        },
        {
         "User-Rating": 4.9,
         "Reviews": 1884,
         "Price": 0,
         "Year": 2014,
         "_deepnote_index_column": "Alice Schertle"
        },
        {
         "User-Rating": 4.7,
         "Reviews": 4896,
         "Price": 17,
         "Year": 2013,
         "_deepnote_index_column": "Allie Brosh"
        }
       ]
      },
      "text/plain": "                            User-Rating  Reviews  Price    Year\nAuthor                                                         \nAbraham Verghese                    4.6   4866.0   11.0  2010.5\nAdam Gasiewski                      4.4   3113.0    6.0  2017.0\nAdam Mansbach                       4.8   9568.0    9.0  2011.0\nAdir Levy                           4.8   8170.0   13.0  2019.0\nAdmiral William H. McRaven          4.7  10199.0   11.0  2017.0\n...                                 ...      ...    ...     ...\nWalter Isaacson                     4.6   7827.0   20.0  2012.0\nWilliam Davis                       4.4   7497.0    6.0  2012.5\nWilliam P. Young                    4.6  19720.0    8.0  2013.0\nWizards RPG Team                    4.8  16990.0   27.0  2018.0\nZhi Gang Sha                        4.6    128.5   11.5  2011.0\n\n[248 rows x 4 columns]",
      "text/html": "<div>\n<style scoped>\n    .dataframe tbody tr th:only-of-type {\n        vertical-align: middle;\n    }\n\n    .dataframe tbody tr th {\n        vertical-align: top;\n    }\n\n    .dataframe thead th {\n        text-align: right;\n    }\n</style>\n<table border=\"1\" class=\"dataframe\">\n  <thead>\n    <tr style=\"text-align: right;\">\n      <th></th>\n      <th>User-Rating</th>\n      <th>Reviews</th>\n      <th>Price</th>\n      <th>Year</th>\n    </tr>\n    <tr>\n      <th>Author</th>\n      <th></th>\n      <th></th>\n      <th></th>\n      <th></th>\n    </tr>\n  </thead>\n  <tbody>\n    <tr>\n      <th>Abraham Verghese</th>\n      <td>4.6</td>\n      <td>4866.0</td>\n      <td>11.0</td>\n      <td>2010.5</td>\n    </tr>\n    <tr>\n      <th>Adam Gasiewski</th>\n      <td>4.4</td>\n      <td>3113.0</td>\n      <td>6.0</td>\n      <td>2017.0</td>\n    </tr>\n    <tr>\n      <th>Adam Mansbach</th>\n      <td>4.8</td>\n      <td>9568.0</td>\n      <td>9.0</td>\n      <td>2011.0</td>\n    </tr>\n    <tr>\n      <th>Adir Levy</th>\n      <td>4.8</td>\n      <td>8170.0</td>\n      <td>13.0</td>\n      <td>2019.0</td>\n    </tr>\n    <tr>\n      <th>Admiral William H. McRaven</th>\n      <td>4.7</td>\n      <td>10199.0</td>\n      <td>11.0</td>\n      <td>2017.0</td>\n    </tr>\n    <tr>\n      <th>...</th>\n      <td>...</td>\n      <td>...</td>\n      <td>...</td>\n      <td>...</td>\n    </tr>\n    <tr>\n      <th>Walter Isaacson</th>\n      <td>4.6</td>\n      <td>7827.0</td>\n      <td>20.0</td>\n      <td>2012.0</td>\n    </tr>\n    <tr>\n      <th>William Davis</th>\n      <td>4.4</td>\n      <td>7497.0</td>\n      <td>6.0</td>\n      <td>2012.5</td>\n    </tr>\n    <tr>\n      <th>William P. Young</th>\n      <td>4.6</td>\n      <td>19720.0</td>\n      <td>8.0</td>\n      <td>2013.0</td>\n    </tr>\n    <tr>\n      <th>Wizards RPG Team</th>\n      <td>4.8</td>\n      <td>16990.0</td>\n      <td>27.0</td>\n      <td>2018.0</td>\n    </tr>\n    <tr>\n      <th>Zhi Gang Sha</th>\n      <td>4.6</td>\n      <td>128.5</td>\n      <td>11.5</td>\n      <td>2011.0</td>\n    </tr>\n  </tbody>\n</table>\n<p>248 rows × 4 columns</p>\n</div>"
     },
     "metadata": {}
    }
   ],
   "execution_count": null
  },
  {
   "cell_type": "code",
   "metadata": {
    "cell_id": "ad2a9a92a0ac4afb89f91419214fc519",
    "tags": [],
    "deepnote_to_be_reexecuted": false,
    "source_hash": "accd6772",
    "execution_start": 1654522797202,
    "execution_millis": 410,
    "deepnote_cell_type": "code",
    "deepnote_cell_height": 600
   },
   "source": "df_books.groupby('Author').min()",
   "outputs": [
    {
     "output_type": "execute_result",
     "execution_count": 6,
     "data": {
      "application/vnd.deepnote.dataframe.v3+json": {
       "column_count": 6,
       "row_count": 248,
       "columns": [
        {
         "name": "Name",
         "dtype": "object",
         "stats": {
          "unique_count": 248,
          "nan_count": 0,
          "categories": [
           {
            "name": "Cutting for Stone",
            "count": 1
           },
           {
            "name": "Milk and Vine: Inspirational Quotes From Classic Vines",
            "count": 1
           },
           {
            "name": "246 others",
            "count": 246
           }
          ]
         }
        },
        {
         "name": "User-Rating",
         "dtype": "float64",
         "stats": {
          "unique_count": 14,
          "nan_count": 0,
          "min": "3.3",
          "max": "4.9",
          "histogram": [
           {
            "bin_start": 3.3,
            "bin_end": 3.46,
            "count": 1
           },
           {
            "bin_start": 3.46,
            "bin_end": 3.62,
            "count": 1
           },
           {
            "bin_start": 3.62,
            "bin_end": 3.7800000000000002,
            "count": 0
           },
           {
            "bin_start": 3.7800000000000002,
            "bin_end": 3.94,
            "count": 3
           },
           {
            "bin_start": 3.94,
            "bin_end": 4.1,
            "count": 3
           },
           {
            "bin_start": 4.1,
            "bin_end": 4.26,
            "count": 12
           },
           {
            "bin_start": 4.26,
            "bin_end": 4.42,
            "count": 39
           },
           {
            "bin_start": 4.42,
            "bin_end": 4.58,
            "count": 30
           },
           {
            "bin_start": 4.58,
            "bin_end": 4.74,
            "count": 92
           },
           {
            "bin_start": 4.74,
            "bin_end": 4.9,
            "count": 67
           }
          ]
         }
        },
        {
         "name": "Reviews",
         "dtype": "int64",
         "stats": {
          "unique_count": 246,
          "nan_count": 0,
          "min": "37",
          "max": "87841",
          "histogram": [
           {
            "bin_start": 37,
            "bin_end": 8817.4,
            "count": 158
           },
           {
            "bin_start": 8817.4,
            "bin_end": 17597.8,
            "count": 57
           },
           {
            "bin_start": 17597.8,
            "bin_end": 26378.199999999997,
            "count": 18
           },
           {
            "bin_start": 26378.199999999997,
            "bin_end": 35158.6,
            "count": 7
           },
           {
            "bin_start": 35158.6,
            "bin_end": 43939,
            "count": 3
           },
           {
            "bin_start": 43939,
            "bin_end": 52719.399999999994,
            "count": 1
           },
           {
            "bin_start": 52719.399999999994,
            "bin_end": 61499.799999999996,
            "count": 2
           },
           {
            "bin_start": 61499.799999999996,
            "bin_end": 70280.2,
            "count": 0
           },
           {
            "bin_start": 70280.2,
            "bin_end": 79060.59999999999,
            "count": 0
           },
           {
            "bin_start": 79060.59999999999,
            "bin_end": 87841,
            "count": 2
           }
          ]
         }
        },
        {
         "name": "Price",
         "dtype": "int64",
         "stats": {
          "unique_count": 34,
          "nan_count": 0,
          "min": "0",
          "max": "105",
          "histogram": [
           {
            "bin_start": 0,
            "bin_end": 10.5,
            "count": 121
           },
           {
            "bin_start": 10.5,
            "bin_end": 21,
            "count": 107
           },
           {
            "bin_start": 21,
            "bin_end": 31.5,
            "count": 12
           },
           {
            "bin_start": 31.5,
            "bin_end": 42,
            "count": 3
           },
           {
            "bin_start": 42,
            "bin_end": 52.5,
            "count": 2
           },
           {
            "bin_start": 52.5,
            "bin_end": 63,
            "count": 2
           },
           {
            "bin_start": 63,
            "bin_end": 73.5,
            "count": 0
           },
           {
            "bin_start": 73.5,
            "bin_end": 84,
            "count": 0
           },
           {
            "bin_start": 84,
            "bin_end": 94.5,
            "count": 0
           },
           {
            "bin_start": 94.5,
            "bin_end": 105,
            "count": 1
           }
          ]
         }
        },
        {
         "name": "Year",
         "dtype": "int64",
         "stats": {
          "unique_count": 11,
          "nan_count": 0,
          "min": "2009",
          "max": "2019",
          "histogram": [
           {
            "bin_start": 2009,
            "bin_end": 2010,
            "count": 39
           },
           {
            "bin_start": 2010,
            "bin_end": 2011,
            "count": 28
           },
           {
            "bin_start": 2011,
            "bin_end": 2012,
            "count": 23
           },
           {
            "bin_start": 2012,
            "bin_end": 2013,
            "count": 19
           },
           {
            "bin_start": 2013,
            "bin_end": 2014,
            "count": 21
           },
           {
            "bin_start": 2014,
            "bin_end": 2015,
            "count": 18
           },
           {
            "bin_start": 2015,
            "bin_end": 2016,
            "count": 18
           },
           {
            "bin_start": 2016,
            "bin_end": 2017,
            "count": 20
           },
           {
            "bin_start": 2017,
            "bin_end": 2018,
            "count": 20
           },
           {
            "bin_start": 2018,
            "bin_end": 2019,
            "count": 42
           }
          ]
         }
        },
        {
         "name": "Genre",
         "dtype": "object",
         "stats": {
          "unique_count": 2,
          "nan_count": 0,
          "categories": [
           {
            "name": "Non Fiction",
            "count": 157
           },
           {
            "name": "Fiction",
            "count": 91
           }
          ]
         }
        },
        {
         "name": "_deepnote_index_column",
         "dtype": "object"
        }
       ],
       "rows": [
        {
         "Name": "Cutting for Stone",
         "User-Rating": 4.6,
         "Reviews": 4866,
         "Price": 11,
         "Year": 2010,
         "Genre": "Fiction",
         "_deepnote_index_column": "Abraham Verghese"
        },
        {
         "Name": "Milk and Vine: Inspirational Quotes From Classic Vines",
         "User-Rating": 4.4,
         "Reviews": 3113,
         "Price": 6,
         "Year": 2017,
         "Genre": "Non Fiction",
         "_deepnote_index_column": "Adam Gasiewski"
        },
        {
         "Name": "Go the F**k to Sleep",
         "User-Rating": 4.8,
         "Reviews": 9568,
         "Price": 9,
         "Year": 2011,
         "Genre": "Fiction",
         "_deepnote_index_column": "Adam Mansbach"
        },
        {
         "Name": "What Should Danny Do? (The Power to Choose Series)",
         "User-Rating": 4.8,
         "Reviews": 8170,
         "Price": 13,
         "Year": 2019,
         "Genre": "Fiction",
         "_deepnote_index_column": "Adir Levy"
        },
        {
         "Name": "Make Your Bed: Little Things That Can Change Your Life...And Maybe the World",
         "User-Rating": 4.7,
         "Reviews": 10199,
         "Price": 11,
         "Year": 2017,
         "Genre": "Non Fiction",
         "_deepnote_index_column": "Admiral William H. McRaven"
        },
        {
         "Name": "Adult Coloring Book Designs: Stress Relief Coloring Book: Garden Designs, Mandalas, Animals, and Paisley Patterns",
         "User-Rating": 4.5,
         "Reviews": 2313,
         "Price": 4,
         "Year": 2016,
         "Genre": "Non Fiction",
         "_deepnote_index_column": "Adult Coloring Book Designs"
        },
        {
         "Name": "Watchmen",
         "User-Rating": 4.8,
         "Reviews": 3829,
         "Price": 42,
         "Year": 2009,
         "Genre": "Fiction",
         "_deepnote_index_column": "Alan Moore"
        },
        {
         "Name": "The Silent Patient",
         "User-Rating": 4.5,
         "Reviews": 27536,
         "Price": 14,
         "Year": 2019,
         "Genre": "Fiction",
         "_deepnote_index_column": "Alex Michaelides"
        },
        {
         "Name": "Little Blue Truck",
         "User-Rating": 4.9,
         "Reviews": 1884,
         "Price": 0,
         "Year": 2014,
         "Genre": "Fiction",
         "_deepnote_index_column": "Alice Schertle"
        },
        {
         "Name": "Hyperbole and a Half: Unfortunate Situations, Flawed Coping Mechanisms, Mayhem, and Other Things That Happened",
         "User-Rating": 4.7,
         "Reviews": 4896,
         "Price": 17,
         "Year": 2013,
         "Genre": "Non Fiction",
         "_deepnote_index_column": "Allie Brosh"
        }
       ]
      },
      "text/plain": "                                                                         Name  \\\nAuthor                                                                          \nAbraham Verghese                                            Cutting for Stone   \nAdam Gasiewski              Milk and Vine: Inspirational Quotes From Class...   \nAdam Mansbach                                            Go the F**k to Sleep   \nAdir Levy                   What Should Danny Do? (The Power to Choose Ser...   \nAdmiral William H. McRaven  Make Your Bed: Little Things That Can Change Y...   \n...                                                                       ...   \nWalter Isaacson                                             Leonardo da Vinci   \nWilliam Davis               Wheat Belly: Lose the Wheat, Lose the Weight, ...   \nWilliam P. Young                  The Shack: Where Tragedy Confronts Eternity   \nWizards RPG Team                       Player's Handbook (Dungeons & Dragons)   \nZhi Gang Sha                Divine Soul Mind Body Healing and Transmission...   \n\n                            User-Rating  Reviews  Price  Year        Genre  \nAuthor                                                                      \nAbraham Verghese                    4.6     4866     11  2010      Fiction  \nAdam Gasiewski                      4.4     3113      6  2017  Non Fiction  \nAdam Mansbach                       4.8     9568      9  2011      Fiction  \nAdir Levy                           4.8     8170     13  2019      Fiction  \nAdmiral William H. McRaven          4.7    10199     11  2017  Non Fiction  \n...                                 ...      ...    ...   ...          ...  \nWalter Isaacson                     4.5     3014     20  2011  Non Fiction  \nWilliam Davis                       4.4     7497      6  2012  Non Fiction  \nWilliam P. Young                    4.6    19720      8  2009      Fiction  \nWizards RPG Team                    4.8    16990     27  2017      Fiction  \nZhi Gang Sha                        4.6       37      6  2009  Non Fiction  \n\n[248 rows x 6 columns]",
      "text/html": "<div>\n<style scoped>\n    .dataframe tbody tr th:only-of-type {\n        vertical-align: middle;\n    }\n\n    .dataframe tbody tr th {\n        vertical-align: top;\n    }\n\n    .dataframe thead th {\n        text-align: right;\n    }\n</style>\n<table border=\"1\" class=\"dataframe\">\n  <thead>\n    <tr style=\"text-align: right;\">\n      <th></th>\n      <th>Name</th>\n      <th>User-Rating</th>\n      <th>Reviews</th>\n      <th>Price</th>\n      <th>Year</th>\n      <th>Genre</th>\n    </tr>\n    <tr>\n      <th>Author</th>\n      <th></th>\n      <th></th>\n      <th></th>\n      <th></th>\n      <th></th>\n      <th></th>\n    </tr>\n  </thead>\n  <tbody>\n    <tr>\n      <th>Abraham Verghese</th>\n      <td>Cutting for Stone</td>\n      <td>4.6</td>\n      <td>4866</td>\n      <td>11</td>\n      <td>2010</td>\n      <td>Fiction</td>\n    </tr>\n    <tr>\n      <th>Adam Gasiewski</th>\n      <td>Milk and Vine: Inspirational Quotes From Class...</td>\n      <td>4.4</td>\n      <td>3113</td>\n      <td>6</td>\n      <td>2017</td>\n      <td>Non Fiction</td>\n    </tr>\n    <tr>\n      <th>Adam Mansbach</th>\n      <td>Go the F**k to Sleep</td>\n      <td>4.8</td>\n      <td>9568</td>\n      <td>9</td>\n      <td>2011</td>\n      <td>Fiction</td>\n    </tr>\n    <tr>\n      <th>Adir Levy</th>\n      <td>What Should Danny Do? (The Power to Choose Ser...</td>\n      <td>4.8</td>\n      <td>8170</td>\n      <td>13</td>\n      <td>2019</td>\n      <td>Fiction</td>\n    </tr>\n    <tr>\n      <th>Admiral William H. McRaven</th>\n      <td>Make Your Bed: Little Things That Can Change Y...</td>\n      <td>4.7</td>\n      <td>10199</td>\n      <td>11</td>\n      <td>2017</td>\n      <td>Non Fiction</td>\n    </tr>\n    <tr>\n      <th>...</th>\n      <td>...</td>\n      <td>...</td>\n      <td>...</td>\n      <td>...</td>\n      <td>...</td>\n      <td>...</td>\n    </tr>\n    <tr>\n      <th>Walter Isaacson</th>\n      <td>Leonardo da Vinci</td>\n      <td>4.5</td>\n      <td>3014</td>\n      <td>20</td>\n      <td>2011</td>\n      <td>Non Fiction</td>\n    </tr>\n    <tr>\n      <th>William Davis</th>\n      <td>Wheat Belly: Lose the Wheat, Lose the Weight, ...</td>\n      <td>4.4</td>\n      <td>7497</td>\n      <td>6</td>\n      <td>2012</td>\n      <td>Non Fiction</td>\n    </tr>\n    <tr>\n      <th>William P. Young</th>\n      <td>The Shack: Where Tragedy Confronts Eternity</td>\n      <td>4.6</td>\n      <td>19720</td>\n      <td>8</td>\n      <td>2009</td>\n      <td>Fiction</td>\n    </tr>\n    <tr>\n      <th>Wizards RPG Team</th>\n      <td>Player's Handbook (Dungeons &amp; Dragons)</td>\n      <td>4.8</td>\n      <td>16990</td>\n      <td>27</td>\n      <td>2017</td>\n      <td>Fiction</td>\n    </tr>\n    <tr>\n      <th>Zhi Gang Sha</th>\n      <td>Divine Soul Mind Body Healing and Transmission...</td>\n      <td>4.6</td>\n      <td>37</td>\n      <td>6</td>\n      <td>2009</td>\n      <td>Non Fiction</td>\n    </tr>\n  </tbody>\n</table>\n<p>248 rows × 6 columns</p>\n</div>"
     },
     "metadata": {}
    }
   ],
   "execution_count": null
  },
  {
   "cell_type": "code",
   "metadata": {
    "cell_id": "07a89a8d7e344f8bbca69cc1e014108e",
    "tags": [],
    "deepnote_to_be_reexecuted": false,
    "source_hash": "1462635a",
    "execution_start": 1654522828804,
    "execution_millis": 127,
    "deepnote_cell_type": "code",
    "deepnote_cell_height": 600
   },
   "source": "df_books.groupby('Author').max()",
   "outputs": [
    {
     "output_type": "execute_result",
     "execution_count": 8,
     "data": {
      "application/vnd.deepnote.dataframe.v3+json": {
       "column_count": 6,
       "row_count": 248,
       "columns": [
        {
         "name": "Name",
         "dtype": "object",
         "stats": {
          "unique_count": 248,
          "nan_count": 0,
          "categories": [
           {
            "name": "Cutting for Stone",
            "count": 1
           },
           {
            "name": "Milk and Vine: Inspirational Quotes From Classic Vines",
            "count": 1
           },
           {
            "name": "246 others",
            "count": 246
           }
          ]
         }
        },
        {
         "name": "User-Rating",
         "dtype": "float64",
         "stats": {
          "unique_count": 11,
          "nan_count": 0,
          "min": "3.9",
          "max": "4.9",
          "histogram": [
           {
            "bin_start": 3.9,
            "bin_end": 4,
            "count": 1
           },
           {
            "bin_start": 4,
            "bin_end": 4.1,
            "count": 3
           },
           {
            "bin_start": 4.1,
            "bin_end": 4.2,
            "count": 4
           },
           {
            "bin_start": 4.2,
            "bin_end": 4.3,
            "count": 6
           },
           {
            "bin_start": 4.3,
            "bin_end": 4.4,
            "count": 13
           },
           {
            "bin_start": 4.4,
            "bin_end": 4.5,
            "count": 17
           },
           {
            "bin_start": 4.5,
            "bin_end": 4.6000000000000005,
            "count": 80
           },
           {
            "bin_start": 4.6000000000000005,
            "bin_end": 4.7,
            "count": 0
           },
           {
            "bin_start": 4.7,
            "bin_end": 4.800000000000001,
            "count": 104
           },
           {
            "bin_start": 4.800000000000001,
            "bin_end": 4.9,
            "count": 20
           }
          ]
         }
        },
        {
         "name": "Reviews",
         "dtype": "int64",
         "stats": {
          "unique_count": 247,
          "nan_count": 0,
          "min": "220",
          "max": "87841",
          "histogram": [
           {
            "bin_start": 220,
            "bin_end": 8982.1,
            "count": 141
           },
           {
            "bin_start": 8982.1,
            "bin_end": 17744.2,
            "count": 62
           },
           {
            "bin_start": 17744.2,
            "bin_end": 26506.300000000003,
            "count": 26
           },
           {
            "bin_start": 26506.300000000003,
            "bin_end": 35268.4,
            "count": 9
           },
           {
            "bin_start": 35268.4,
            "bin_end": 44030.5,
            "count": 3
           },
           {
            "bin_start": 44030.5,
            "bin_end": 52792.600000000006,
            "count": 3
           },
           {
            "bin_start": 52792.600000000006,
            "bin_end": 61554.700000000004,
            "count": 2
           },
           {
            "bin_start": 61554.700000000004,
            "bin_end": 70316.8,
            "count": 0
           },
           {
            "bin_start": 70316.8,
            "bin_end": 79078.90000000001,
            "count": 0
           },
           {
            "bin_start": 79078.90000000001,
            "bin_end": 87841,
            "count": 2
           }
          ]
         }
        },
        {
         "name": "Price",
         "dtype": "int64",
         "stats": {
          "unique_count": 38,
          "nan_count": 0,
          "min": "0",
          "max": "105",
          "histogram": [
           {
            "bin_start": 0,
            "bin_end": 10.5,
            "count": 98
           },
           {
            "bin_start": 10.5,
            "bin_end": 21,
            "count": 114
           },
           {
            "bin_start": 21,
            "bin_end": 31.5,
            "count": 25
           },
           {
            "bin_start": 31.5,
            "bin_end": 42,
            "count": 4
           },
           {
            "bin_start": 42,
            "bin_end": 52.5,
            "count": 3
           },
           {
            "bin_start": 52.5,
            "bin_end": 63,
            "count": 2
           },
           {
            "bin_start": 63,
            "bin_end": 73.5,
            "count": 0
           },
           {
            "bin_start": 73.5,
            "bin_end": 84,
            "count": 1
           },
           {
            "bin_start": 84,
            "bin_end": 94.5,
            "count": 0
           },
           {
            "bin_start": 94.5,
            "bin_end": 105,
            "count": 1
           }
          ]
         }
        },
        {
         "name": "Year",
         "dtype": "int64",
         "stats": {
          "unique_count": 11,
          "nan_count": 0,
          "min": "2009",
          "max": "2019",
          "histogram": [
           {
            "bin_start": 2009,
            "bin_end": 2010,
            "count": 17
           },
           {
            "bin_start": 2010,
            "bin_end": 2011,
            "count": 21
           },
           {
            "bin_start": 2011,
            "bin_end": 2012,
            "count": 20
           },
           {
            "bin_start": 2012,
            "bin_end": 2013,
            "count": 16
           },
           {
            "bin_start": 2013,
            "bin_end": 2014,
            "count": 17
           },
           {
            "bin_start": 2014,
            "bin_end": 2015,
            "count": 21
           },
           {
            "bin_start": 2015,
            "bin_end": 2016,
            "count": 19
           },
           {
            "bin_start": 2016,
            "bin_end": 2017,
            "count": 19
           },
           {
            "bin_start": 2017,
            "bin_end": 2018,
            "count": 26
           },
           {
            "bin_start": 2018,
            "bin_end": 2019,
            "count": 72
           }
          ]
         }
        },
        {
         "name": "Genre",
         "dtype": "object",
         "stats": {
          "unique_count": 2,
          "nan_count": 0,
          "categories": [
           {
            "name": "Non Fiction",
            "count": 159
           },
           {
            "name": "Fiction",
            "count": 89
           }
          ]
         }
        },
        {
         "name": "_deepnote_index_column",
         "dtype": "object"
        }
       ],
       "rows": [
        {
         "Name": "Cutting for Stone",
         "User-Rating": 4.6,
         "Reviews": 4866,
         "Price": 11,
         "Year": 2011,
         "Genre": "Fiction",
         "_deepnote_index_column": "Abraham Verghese"
        },
        {
         "Name": "Milk and Vine: Inspirational Quotes From Classic Vines",
         "User-Rating": 4.4,
         "Reviews": 3113,
         "Price": 6,
         "Year": 2017,
         "Genre": "Non Fiction",
         "_deepnote_index_column": "Adam Gasiewski"
        },
        {
         "Name": "Go the F**k to Sleep",
         "User-Rating": 4.8,
         "Reviews": 9568,
         "Price": 9,
         "Year": 2011,
         "Genre": "Fiction",
         "_deepnote_index_column": "Adam Mansbach"
        },
        {
         "Name": "What Should Danny Do? (The Power to Choose Series)",
         "User-Rating": 4.8,
         "Reviews": 8170,
         "Price": 13,
         "Year": 2019,
         "Genre": "Fiction",
         "_deepnote_index_column": "Adir Levy"
        },
        {
         "Name": "Make Your Bed: Little Things That Can Change Your Life...And Maybe the World",
         "User-Rating": 4.7,
         "Reviews": 10199,
         "Price": 11,
         "Year": 2017,
         "Genre": "Non Fiction",
         "_deepnote_index_column": "Admiral William H. McRaven"
        },
        {
         "Name": "Adult Coloring Book Designs: Stress Relief Coloring Book: Garden Designs, Mandalas, Animals, and Paisley Patterns",
         "User-Rating": 4.5,
         "Reviews": 2313,
         "Price": 4,
         "Year": 2016,
         "Genre": "Non Fiction",
         "_deepnote_index_column": "Adult Coloring Book Designs"
        },
        {
         "Name": "Watchmen",
         "User-Rating": 4.8,
         "Reviews": 3829,
         "Price": 42,
         "Year": 2009,
         "Genre": "Fiction",
         "_deepnote_index_column": "Alan Moore"
        },
        {
         "Name": "The Silent Patient",
         "User-Rating": 4.5,
         "Reviews": 27536,
         "Price": 14,
         "Year": 2019,
         "Genre": "Fiction",
         "_deepnote_index_column": "Alex Michaelides"
        },
        {
         "Name": "Little Blue Truck",
         "User-Rating": 4.9,
         "Reviews": 1884,
         "Price": 0,
         "Year": 2014,
         "Genre": "Fiction",
         "_deepnote_index_column": "Alice Schertle"
        },
        {
         "Name": "Hyperbole and a Half: Unfortunate Situations, Flawed Coping Mechanisms, Mayhem, and Other Things That Happened",
         "User-Rating": 4.7,
         "Reviews": 4896,
         "Price": 17,
         "Year": 2013,
         "Genre": "Non Fiction",
         "_deepnote_index_column": "Allie Brosh"
        }
       ]
      },
      "text/plain": "                                                                         Name  \\\nAuthor                                                                          \nAbraham Verghese                                            Cutting for Stone   \nAdam Gasiewski              Milk and Vine: Inspirational Quotes From Class...   \nAdam Mansbach                                            Go the F**k to Sleep   \nAdir Levy                   What Should Danny Do? (The Power to Choose Ser...   \nAdmiral William H. McRaven  Make Your Bed: Little Things That Can Change Y...   \n...                                                                       ...   \nWalter Isaacson                                                    Steve Jobs   \nWilliam Davis               Wheat Belly: Lose the Wheat, Lose the Weight, ...   \nWilliam P. Young                  The Shack: Where Tragedy Confronts Eternity   \nWizards RPG Team                       Player's Handbook (Dungeons & Dragons)   \nZhi Gang Sha                Soul Healing Miracles: Ancient and New Sacred ...   \n\n                            User-Rating  Reviews  Price  Year        Genre  \nAuthor                                                                      \nAbraham Verghese                    4.6     4866     11  2011      Fiction  \nAdam Gasiewski                      4.4     3113      6  2017  Non Fiction  \nAdam Mansbach                       4.8     9568      9  2011      Fiction  \nAdir Levy                           4.8     8170     13  2019      Fiction  \nAdmiral William H. McRaven          4.7    10199     11  2017  Non Fiction  \n...                                 ...      ...    ...   ...          ...  \nWalter Isaacson                     4.6     7827     21  2017  Non Fiction  \nWilliam Davis                       4.4     7497      6  2013  Non Fiction  \nWilliam P. Young                    4.6    19720      8  2017      Fiction  \nWizards RPG Team                    4.8    16990     27  2019      Fiction  \nZhi Gang Sha                        4.6      220     17  2013  Non Fiction  \n\n[248 rows x 6 columns]",
      "text/html": "<div>\n<style scoped>\n    .dataframe tbody tr th:only-of-type {\n        vertical-align: middle;\n    }\n\n    .dataframe tbody tr th {\n        vertical-align: top;\n    }\n\n    .dataframe thead th {\n        text-align: right;\n    }\n</style>\n<table border=\"1\" class=\"dataframe\">\n  <thead>\n    <tr style=\"text-align: right;\">\n      <th></th>\n      <th>Name</th>\n      <th>User-Rating</th>\n      <th>Reviews</th>\n      <th>Price</th>\n      <th>Year</th>\n      <th>Genre</th>\n    </tr>\n    <tr>\n      <th>Author</th>\n      <th></th>\n      <th></th>\n      <th></th>\n      <th></th>\n      <th></th>\n      <th></th>\n    </tr>\n  </thead>\n  <tbody>\n    <tr>\n      <th>Abraham Verghese</th>\n      <td>Cutting for Stone</td>\n      <td>4.6</td>\n      <td>4866</td>\n      <td>11</td>\n      <td>2011</td>\n      <td>Fiction</td>\n    </tr>\n    <tr>\n      <th>Adam Gasiewski</th>\n      <td>Milk and Vine: Inspirational Quotes From Class...</td>\n      <td>4.4</td>\n      <td>3113</td>\n      <td>6</td>\n      <td>2017</td>\n      <td>Non Fiction</td>\n    </tr>\n    <tr>\n      <th>Adam Mansbach</th>\n      <td>Go the F**k to Sleep</td>\n      <td>4.8</td>\n      <td>9568</td>\n      <td>9</td>\n      <td>2011</td>\n      <td>Fiction</td>\n    </tr>\n    <tr>\n      <th>Adir Levy</th>\n      <td>What Should Danny Do? (The Power to Choose Ser...</td>\n      <td>4.8</td>\n      <td>8170</td>\n      <td>13</td>\n      <td>2019</td>\n      <td>Fiction</td>\n    </tr>\n    <tr>\n      <th>Admiral William H. McRaven</th>\n      <td>Make Your Bed: Little Things That Can Change Y...</td>\n      <td>4.7</td>\n      <td>10199</td>\n      <td>11</td>\n      <td>2017</td>\n      <td>Non Fiction</td>\n    </tr>\n    <tr>\n      <th>...</th>\n      <td>...</td>\n      <td>...</td>\n      <td>...</td>\n      <td>...</td>\n      <td>...</td>\n      <td>...</td>\n    </tr>\n    <tr>\n      <th>Walter Isaacson</th>\n      <td>Steve Jobs</td>\n      <td>4.6</td>\n      <td>7827</td>\n      <td>21</td>\n      <td>2017</td>\n      <td>Non Fiction</td>\n    </tr>\n    <tr>\n      <th>William Davis</th>\n      <td>Wheat Belly: Lose the Wheat, Lose the Weight, ...</td>\n      <td>4.4</td>\n      <td>7497</td>\n      <td>6</td>\n      <td>2013</td>\n      <td>Non Fiction</td>\n    </tr>\n    <tr>\n      <th>William P. Young</th>\n      <td>The Shack: Where Tragedy Confronts Eternity</td>\n      <td>4.6</td>\n      <td>19720</td>\n      <td>8</td>\n      <td>2017</td>\n      <td>Fiction</td>\n    </tr>\n    <tr>\n      <th>Wizards RPG Team</th>\n      <td>Player's Handbook (Dungeons &amp; Dragons)</td>\n      <td>4.8</td>\n      <td>16990</td>\n      <td>27</td>\n      <td>2019</td>\n      <td>Fiction</td>\n    </tr>\n    <tr>\n      <th>Zhi Gang Sha</th>\n      <td>Soul Healing Miracles: Ancient and New Sacred ...</td>\n      <td>4.6</td>\n      <td>220</td>\n      <td>17</td>\n      <td>2013</td>\n      <td>Non Fiction</td>\n    </tr>\n  </tbody>\n</table>\n<p>248 rows × 6 columns</p>\n</div>"
     },
     "metadata": {}
    }
   ],
   "execution_count": null
  },
  {
   "cell_type": "code",
   "source": "df_books.groupby('Author').sum().loc['William Davis']",
   "metadata": {
    "cell_id": "29320a20eb234658a6337f1eaf3857ae",
    "tags": [],
    "deepnote_to_be_reexecuted": false,
    "source_hash": "955189a4",
    "execution_start": 1654522866536,
    "execution_millis": 7,
    "deepnote_cell_type": "code",
    "deepnote_cell_height": 194.9375,
    "deepnote_output_heights": [
     97.9375
    ]
   },
   "outputs": [
    {
     "output_type": "execute_result",
     "execution_count": 9,
     "data": {
      "text/plain": "User-Rating        8.8\nReviews        14994.0\nPrice             12.0\nYear            4025.0\nName: William Davis, dtype: float64"
     },
     "metadata": {}
    }
   ],
   "execution_count": null
  },
  {
   "cell_type": "code",
   "source": "df_books.groupby('Author').sum().reset_index()",
   "metadata": {
    "cell_id": "5ffa919df8bc487a9b2359aecfeba179",
    "tags": [],
    "deepnote_to_be_reexecuted": false,
    "source_hash": "f6cc08f9",
    "execution_start": 1654522949516,
    "execution_millis": 63,
    "deepnote_cell_type": "code",
    "deepnote_cell_height": 600
   },
   "outputs": [
    {
     "output_type": "execute_result",
     "execution_count": 10,
     "data": {
      "application/vnd.deepnote.dataframe.v3+json": {
       "column_count": 5,
       "row_count": 248,
       "columns": [
        {
         "name": "Author",
         "dtype": "object",
         "stats": {
          "unique_count": 248,
          "nan_count": 0,
          "categories": [
           {
            "name": "Abraham Verghese",
            "count": 1
           },
           {
            "name": "Adam Gasiewski",
            "count": 1
           },
           {
            "name": "246 others",
            "count": 246
           }
          ]
         }
        },
        {
         "name": "User-Rating",
         "dtype": "float64",
         "stats": {
          "unique_count": 65,
          "nan_count": 0,
          "min": "4.0",
          "max": "57.599999999999994",
          "histogram": [
           {
            "bin_start": 4,
            "bin_end": 9.36,
            "count": 163
           },
           {
            "bin_start": 9.36,
            "bin_end": 14.719999999999999,
            "count": 45
           },
           {
            "bin_start": 14.719999999999999,
            "bin_end": 20.08,
            "count": 12
           },
           {
            "bin_start": 20.08,
            "bin_end": 25.439999999999998,
            "count": 9
           },
           {
            "bin_start": 25.439999999999998,
            "bin_end": 30.799999999999997,
            "count": 6
           },
           {
            "bin_start": 30.799999999999997,
            "bin_end": 36.16,
            "count": 6
           },
           {
            "bin_start": 36.16,
            "bin_end": 41.519999999999996,
            "count": 1
           },
           {
            "bin_start": 41.519999999999996,
            "bin_end": 46.879999999999995,
            "count": 2
           },
           {
            "bin_start": 46.879999999999995,
            "bin_end": 52.239999999999995,
            "count": 2
           },
           {
            "bin_start": 52.239999999999995,
            "bin_end": 57.599999999999994,
            "count": 2
           }
          ]
         }
        },
        {
         "name": "Reviews",
         "dtype": "int64",
         "stats": {
          "unique_count": 247,
          "nan_count": 0,
          "min": "257",
          "max": "278329",
          "histogram": [
           {
            "bin_start": 257,
            "bin_end": 28064.2,
            "count": 183
           },
           {
            "bin_start": 28064.2,
            "bin_end": 55871.4,
            "count": 31
           },
           {
            "bin_start": 55871.4,
            "bin_end": 83678.6,
            "count": 14
           },
           {
            "bin_start": 83678.6,
            "bin_end": 111485.8,
            "count": 6
           },
           {
            "bin_start": 111485.8,
            "bin_end": 139293,
            "count": 4
           },
           {
            "bin_start": 139293,
            "bin_end": 167100.2,
            "count": 5
           },
           {
            "bin_start": 167100.2,
            "bin_end": 194907.4,
            "count": 3
           },
           {
            "bin_start": 194907.4,
            "bin_end": 222714.6,
            "count": 1
           },
           {
            "bin_start": 222714.6,
            "bin_end": 250521.80000000002,
            "count": 0
           },
           {
            "bin_start": 250521.80000000002,
            "bin_end": 278329,
            "count": 1
           }
          ]
         }
        },
        {
         "name": "Price",
         "dtype": "int64",
         "stats": {
          "unique_count": 72,
          "nan_count": 0,
          "min": "0",
          "max": "460",
          "histogram": [
           {
            "bin_start": 0,
            "bin_end": 46,
            "count": 213
           },
           {
            "bin_start": 46,
            "bin_end": 92,
            "count": 22
           },
           {
            "bin_start": 92,
            "bin_end": 138,
            "count": 5
           },
           {
            "bin_start": 138,
            "bin_end": 184,
            "count": 4
           },
           {
            "bin_start": 184,
            "bin_end": 230,
            "count": 2
           },
           {
            "bin_start": 230,
            "bin_end": 276,
            "count": 1
           },
           {
            "bin_start": 276,
            "bin_end": 322,
            "count": 0
           },
           {
            "bin_start": 322,
            "bin_end": 368,
            "count": 0
           },
           {
            "bin_start": 368,
            "bin_end": 414,
            "count": 0
           },
           {
            "bin_start": 414,
            "bin_end": 460,
            "count": 1
           }
          ]
         }
        },
        {
         "name": "Year",
         "dtype": "int64",
         "stats": {
          "unique_count": 73,
          "nan_count": 0,
          "min": "2009",
          "max": "24163",
          "histogram": [
           {
            "bin_start": 2009,
            "bin_end": 4224.4,
            "count": 190
           },
           {
            "bin_start": 4224.4,
            "bin_end": 6439.8,
            "count": 18
           },
           {
            "bin_start": 6439.8,
            "bin_end": 8655.2,
            "count": 12
           },
           {
            "bin_start": 8655.2,
            "bin_end": 10870.6,
            "count": 8
           },
           {
            "bin_start": 10870.6,
            "bin_end": 13086,
            "count": 7
           },
           {
            "bin_start": 13086,
            "bin_end": 15301.400000000001,
            "count": 5
           },
           {
            "bin_start": 15301.400000000001,
            "bin_end": 17516.800000000003,
            "count": 1
           },
           {
            "bin_start": 17516.800000000003,
            "bin_end": 19732.2,
            "count": 2
           },
           {
            "bin_start": 19732.2,
            "bin_end": 21947.600000000002,
            "count": 1
           },
           {
            "bin_start": 21947.600000000002,
            "bin_end": 24163,
            "count": 4
           }
          ]
         }
        },
        {
         "name": "_deepnote_index_column",
         "dtype": "int64"
        }
       ],
       "rows": [
        {
         "Author": "Abraham Verghese",
         "User-Rating": 9.2,
         "Reviews": 9732,
         "Price": 22,
         "Year": 4021,
         "_deepnote_index_column": 0
        },
        {
         "Author": "Adam Gasiewski",
         "User-Rating": 4.4,
         "Reviews": 3113,
         "Price": 6,
         "Year": 2017,
         "_deepnote_index_column": 1
        },
        {
         "Author": "Adam Mansbach",
         "User-Rating": 4.8,
         "Reviews": 9568,
         "Price": 9,
         "Year": 2011,
         "_deepnote_index_column": 2
        },
        {
         "Author": "Adir Levy",
         "User-Rating": 4.8,
         "Reviews": 8170,
         "Price": 13,
         "Year": 2019,
         "_deepnote_index_column": 3
        },
        {
         "Author": "Admiral William H. McRaven",
         "User-Rating": 4.7,
         "Reviews": 10199,
         "Price": 11,
         "Year": 2017,
         "_deepnote_index_column": 4
        },
        {
         "Author": "Adult Coloring Book Designs",
         "User-Rating": 4.5,
         "Reviews": 2313,
         "Price": 4,
         "Year": 2016,
         "_deepnote_index_column": 5
        },
        {
         "Author": "Alan Moore",
         "User-Rating": 4.8,
         "Reviews": 3829,
         "Price": 42,
         "Year": 2009,
         "_deepnote_index_column": 6
        },
        {
         "Author": "Alex Michaelides",
         "User-Rating": 4.5,
         "Reviews": 27536,
         "Price": 14,
         "Year": 2019,
         "_deepnote_index_column": 7
        },
        {
         "Author": "Alice Schertle",
         "User-Rating": 4.9,
         "Reviews": 1884,
         "Price": 0,
         "Year": 2014,
         "_deepnote_index_column": 8
        },
        {
         "Author": "Allie Brosh",
         "User-Rating": 4.7,
         "Reviews": 4896,
         "Price": 17,
         "Year": 2013,
         "_deepnote_index_column": 9
        }
       ]
      },
      "text/plain": "                         Author  User-Rating  Reviews  Price  Year\n0              Abraham Verghese          9.2     9732     22  4021\n1                Adam Gasiewski          4.4     3113      6  2017\n2                 Adam Mansbach          4.8     9568      9  2011\n3                     Adir Levy          4.8     8170     13  2019\n4    Admiral William H. McRaven          4.7    10199     11  2017\n..                          ...          ...      ...    ...   ...\n243             Walter Isaacson         13.7    18668     61  6040\n244               William Davis          8.8    14994     12  4025\n245            William P. Young          9.2    39440     16  4026\n246            Wizards RPG Team         14.4    50970     81  6054\n247                Zhi Gang Sha          9.2      257     23  4022\n\n[248 rows x 5 columns]",
      "text/html": "<div>\n<style scoped>\n    .dataframe tbody tr th:only-of-type {\n        vertical-align: middle;\n    }\n\n    .dataframe tbody tr th {\n        vertical-align: top;\n    }\n\n    .dataframe thead th {\n        text-align: right;\n    }\n</style>\n<table border=\"1\" class=\"dataframe\">\n  <thead>\n    <tr style=\"text-align: right;\">\n      <th></th>\n      <th>Author</th>\n      <th>User-Rating</th>\n      <th>Reviews</th>\n      <th>Price</th>\n      <th>Year</th>\n    </tr>\n  </thead>\n  <tbody>\n    <tr>\n      <th>0</th>\n      <td>Abraham Verghese</td>\n      <td>9.2</td>\n      <td>9732</td>\n      <td>22</td>\n      <td>4021</td>\n    </tr>\n    <tr>\n      <th>1</th>\n      <td>Adam Gasiewski</td>\n      <td>4.4</td>\n      <td>3113</td>\n      <td>6</td>\n      <td>2017</td>\n    </tr>\n    <tr>\n      <th>2</th>\n      <td>Adam Mansbach</td>\n      <td>4.8</td>\n      <td>9568</td>\n      <td>9</td>\n      <td>2011</td>\n    </tr>\n    <tr>\n      <th>3</th>\n      <td>Adir Levy</td>\n      <td>4.8</td>\n      <td>8170</td>\n      <td>13</td>\n      <td>2019</td>\n    </tr>\n    <tr>\n      <th>4</th>\n      <td>Admiral William H. McRaven</td>\n      <td>4.7</td>\n      <td>10199</td>\n      <td>11</td>\n      <td>2017</td>\n    </tr>\n    <tr>\n      <th>...</th>\n      <td>...</td>\n      <td>...</td>\n      <td>...</td>\n      <td>...</td>\n      <td>...</td>\n    </tr>\n    <tr>\n      <th>243</th>\n      <td>Walter Isaacson</td>\n      <td>13.7</td>\n      <td>18668</td>\n      <td>61</td>\n      <td>6040</td>\n    </tr>\n    <tr>\n      <th>244</th>\n      <td>William Davis</td>\n      <td>8.8</td>\n      <td>14994</td>\n      <td>12</td>\n      <td>4025</td>\n    </tr>\n    <tr>\n      <th>245</th>\n      <td>William P. Young</td>\n      <td>9.2</td>\n      <td>39440</td>\n      <td>16</td>\n      <td>4026</td>\n    </tr>\n    <tr>\n      <th>246</th>\n      <td>Wizards RPG Team</td>\n      <td>14.4</td>\n      <td>50970</td>\n      <td>81</td>\n      <td>6054</td>\n    </tr>\n    <tr>\n      <th>247</th>\n      <td>Zhi Gang Sha</td>\n      <td>9.2</td>\n      <td>257</td>\n      <td>23</td>\n      <td>4022</td>\n    </tr>\n  </tbody>\n</table>\n<p>248 rows × 5 columns</p>\n</div>"
     },
     "metadata": {}
    }
   ],
   "execution_count": null
  },
  {
   "cell_type": "code",
   "source": "df_books.groupby('Author').agg(['min', 'max'])",
   "metadata": {
    "cell_id": "63763766726741b4a58c1e87c5e15296",
    "tags": [],
    "deepnote_to_be_reexecuted": false,
    "source_hash": "1ece540a",
    "execution_start": 1654523036419,
    "execution_millis": 123,
    "deepnote_cell_type": "code",
    "deepnote_cell_height": 600
   },
   "outputs": [
    {
     "output_type": "execute_result",
     "execution_count": 11,
     "data": {
      "application/vnd.deepnote.dataframe.v3+json": {
       "column_count": 12,
       "row_count": 248,
       "columns": [
        {
         "name": "Name min",
         "dtype": "object",
         "stats": {
          "unique_count": 248,
          "nan_count": 0,
          "categories": [
           {
            "name": "Cutting for Stone",
            "count": 1
           },
           {
            "name": "Milk and Vine: Inspirational Quotes From Classic Vines",
            "count": 1
           },
           {
            "name": "246 others",
            "count": 246
           }
          ]
         }
        },
        {
         "name": "Name max",
         "dtype": "object",
         "stats": {
          "unique_count": 248,
          "nan_count": 0,
          "categories": [
           {
            "name": "Cutting for Stone",
            "count": 1
           },
           {
            "name": "Milk and Vine: Inspirational Quotes From Classic Vines",
            "count": 1
           },
           {
            "name": "246 others",
            "count": 246
           }
          ]
         }
        },
        {
         "name": "User-Rating min",
         "dtype": "float64",
         "stats": {
          "unique_count": 14,
          "nan_count": 0,
          "min": "3.3",
          "max": "4.9",
          "histogram": [
           {
            "bin_start": 3.3,
            "bin_end": 3.46,
            "count": 1
           },
           {
            "bin_start": 3.46,
            "bin_end": 3.62,
            "count": 1
           },
           {
            "bin_start": 3.62,
            "bin_end": 3.7800000000000002,
            "count": 0
           },
           {
            "bin_start": 3.7800000000000002,
            "bin_end": 3.94,
            "count": 3
           },
           {
            "bin_start": 3.94,
            "bin_end": 4.1,
            "count": 3
           },
           {
            "bin_start": 4.1,
            "bin_end": 4.26,
            "count": 12
           },
           {
            "bin_start": 4.26,
            "bin_end": 4.42,
            "count": 39
           },
           {
            "bin_start": 4.42,
            "bin_end": 4.58,
            "count": 30
           },
           {
            "bin_start": 4.58,
            "bin_end": 4.74,
            "count": 92
           },
           {
            "bin_start": 4.74,
            "bin_end": 4.9,
            "count": 67
           }
          ]
         }
        },
        {
         "name": "User-Rating max",
         "dtype": "float64",
         "stats": {
          "unique_count": 11,
          "nan_count": 0,
          "min": "3.9",
          "max": "4.9",
          "histogram": [
           {
            "bin_start": 3.9,
            "bin_end": 4,
            "count": 1
           },
           {
            "bin_start": 4,
            "bin_end": 4.1,
            "count": 3
           },
           {
            "bin_start": 4.1,
            "bin_end": 4.2,
            "count": 4
           },
           {
            "bin_start": 4.2,
            "bin_end": 4.3,
            "count": 6
           },
           {
            "bin_start": 4.3,
            "bin_end": 4.4,
            "count": 13
           },
           {
            "bin_start": 4.4,
            "bin_end": 4.5,
            "count": 17
           },
           {
            "bin_start": 4.5,
            "bin_end": 4.6000000000000005,
            "count": 80
           },
           {
            "bin_start": 4.6000000000000005,
            "bin_end": 4.7,
            "count": 0
           },
           {
            "bin_start": 4.7,
            "bin_end": 4.800000000000001,
            "count": 104
           },
           {
            "bin_start": 4.800000000000001,
            "bin_end": 4.9,
            "count": 20
           }
          ]
         }
        },
        {
         "name": "Reviews min",
         "dtype": "int64",
         "stats": {
          "unique_count": 246,
          "nan_count": 0,
          "min": "37",
          "max": "87841",
          "histogram": [
           {
            "bin_start": 37,
            "bin_end": 8817.4,
            "count": 158
           },
           {
            "bin_start": 8817.4,
            "bin_end": 17597.8,
            "count": 57
           },
           {
            "bin_start": 17597.8,
            "bin_end": 26378.199999999997,
            "count": 18
           },
           {
            "bin_start": 26378.199999999997,
            "bin_end": 35158.6,
            "count": 7
           },
           {
            "bin_start": 35158.6,
            "bin_end": 43939,
            "count": 3
           },
           {
            "bin_start": 43939,
            "bin_end": 52719.399999999994,
            "count": 1
           },
           {
            "bin_start": 52719.399999999994,
            "bin_end": 61499.799999999996,
            "count": 2
           },
           {
            "bin_start": 61499.799999999996,
            "bin_end": 70280.2,
            "count": 0
           },
           {
            "bin_start": 70280.2,
            "bin_end": 79060.59999999999,
            "count": 0
           },
           {
            "bin_start": 79060.59999999999,
            "bin_end": 87841,
            "count": 2
           }
          ]
         }
        },
        {
         "name": "Reviews max",
         "dtype": "int64",
         "stats": {
          "unique_count": 247,
          "nan_count": 0,
          "min": "220",
          "max": "87841",
          "histogram": [
           {
            "bin_start": 220,
            "bin_end": 8982.1,
            "count": 141
           },
           {
            "bin_start": 8982.1,
            "bin_end": 17744.2,
            "count": 62
           },
           {
            "bin_start": 17744.2,
            "bin_end": 26506.300000000003,
            "count": 26
           },
           {
            "bin_start": 26506.300000000003,
            "bin_end": 35268.4,
            "count": 9
           },
           {
            "bin_start": 35268.4,
            "bin_end": 44030.5,
            "count": 3
           },
           {
            "bin_start": 44030.5,
            "bin_end": 52792.600000000006,
            "count": 3
           },
           {
            "bin_start": 52792.600000000006,
            "bin_end": 61554.700000000004,
            "count": 2
           },
           {
            "bin_start": 61554.700000000004,
            "bin_end": 70316.8,
            "count": 0
           },
           {
            "bin_start": 70316.8,
            "bin_end": 79078.90000000001,
            "count": 0
           },
           {
            "bin_start": 79078.90000000001,
            "bin_end": 87841,
            "count": 2
           }
          ]
         }
        },
        {
         "name": "Price min",
         "dtype": "int64",
         "stats": {
          "unique_count": 34,
          "nan_count": 0,
          "min": "0",
          "max": "105",
          "histogram": [
           {
            "bin_start": 0,
            "bin_end": 10.5,
            "count": 121
           },
           {
            "bin_start": 10.5,
            "bin_end": 21,
            "count": 107
           },
           {
            "bin_start": 21,
            "bin_end": 31.5,
            "count": 12
           },
           {
            "bin_start": 31.5,
            "bin_end": 42,
            "count": 3
           },
           {
            "bin_start": 42,
            "bin_end": 52.5,
            "count": 2
           },
           {
            "bin_start": 52.5,
            "bin_end": 63,
            "count": 2
           },
           {
            "bin_start": 63,
            "bin_end": 73.5,
            "count": 0
           },
           {
            "bin_start": 73.5,
            "bin_end": 84,
            "count": 0
           },
           {
            "bin_start": 84,
            "bin_end": 94.5,
            "count": 0
           },
           {
            "bin_start": 94.5,
            "bin_end": 105,
            "count": 1
           }
          ]
         }
        },
        {
         "name": "Price max",
         "dtype": "int64",
         "stats": {
          "unique_count": 38,
          "nan_count": 0,
          "min": "0",
          "max": "105",
          "histogram": [
           {
            "bin_start": 0,
            "bin_end": 10.5,
            "count": 98
           },
           {
            "bin_start": 10.5,
            "bin_end": 21,
            "count": 114
           },
           {
            "bin_start": 21,
            "bin_end": 31.5,
            "count": 25
           },
           {
            "bin_start": 31.5,
            "bin_end": 42,
            "count": 4
           },
           {
            "bin_start": 42,
            "bin_end": 52.5,
            "count": 3
           },
           {
            "bin_start": 52.5,
            "bin_end": 63,
            "count": 2
           },
           {
            "bin_start": 63,
            "bin_end": 73.5,
            "count": 0
           },
           {
            "bin_start": 73.5,
            "bin_end": 84,
            "count": 1
           },
           {
            "bin_start": 84,
            "bin_end": 94.5,
            "count": 0
           },
           {
            "bin_start": 94.5,
            "bin_end": 105,
            "count": 1
           }
          ]
         }
        },
        {
         "name": "Year min",
         "dtype": "int64",
         "stats": {
          "unique_count": 11,
          "nan_count": 0,
          "min": "2009",
          "max": "2019",
          "histogram": [
           {
            "bin_start": 2009,
            "bin_end": 2010,
            "count": 39
           },
           {
            "bin_start": 2010,
            "bin_end": 2011,
            "count": 28
           },
           {
            "bin_start": 2011,
            "bin_end": 2012,
            "count": 23
           },
           {
            "bin_start": 2012,
            "bin_end": 2013,
            "count": 19
           },
           {
            "bin_start": 2013,
            "bin_end": 2014,
            "count": 21
           },
           {
            "bin_start": 2014,
            "bin_end": 2015,
            "count": 18
           },
           {
            "bin_start": 2015,
            "bin_end": 2016,
            "count": 18
           },
           {
            "bin_start": 2016,
            "bin_end": 2017,
            "count": 20
           },
           {
            "bin_start": 2017,
            "bin_end": 2018,
            "count": 20
           },
           {
            "bin_start": 2018,
            "bin_end": 2019,
            "count": 42
           }
          ]
         }
        },
        {
         "name": "Year max",
         "dtype": "int64",
         "stats": {
          "unique_count": 11,
          "nan_count": 0,
          "min": "2009",
          "max": "2019",
          "histogram": [
           {
            "bin_start": 2009,
            "bin_end": 2010,
            "count": 17
           },
           {
            "bin_start": 2010,
            "bin_end": 2011,
            "count": 21
           },
           {
            "bin_start": 2011,
            "bin_end": 2012,
            "count": 20
           },
           {
            "bin_start": 2012,
            "bin_end": 2013,
            "count": 16
           },
           {
            "bin_start": 2013,
            "bin_end": 2014,
            "count": 17
           },
           {
            "bin_start": 2014,
            "bin_end": 2015,
            "count": 21
           },
           {
            "bin_start": 2015,
            "bin_end": 2016,
            "count": 19
           },
           {
            "bin_start": 2016,
            "bin_end": 2017,
            "count": 19
           },
           {
            "bin_start": 2017,
            "bin_end": 2018,
            "count": 26
           },
           {
            "bin_start": 2018,
            "bin_end": 2019,
            "count": 72
           }
          ]
         }
        },
        {
         "name": "Genre min",
         "dtype": "object",
         "stats": {
          "unique_count": 2,
          "nan_count": 0,
          "categories": [
           {
            "name": "Non Fiction",
            "count": 157
           },
           {
            "name": "Fiction",
            "count": 91
           }
          ]
         }
        },
        {
         "name": "Genre max",
         "dtype": "object",
         "stats": {
          "unique_count": 2,
          "nan_count": 0,
          "categories": [
           {
            "name": "Non Fiction",
            "count": 159
           },
           {
            "name": "Fiction",
            "count": 89
           }
          ]
         }
        },
        {
         "name": "_deepnote_index_column",
         "dtype": "object"
        }
       ],
       "rows": [
        {
         "Name min": "Cutting for Stone",
         "Name max": "Cutting for Stone",
         "User-Rating min": 4.6,
         "User-Rating max": 4.6,
         "Reviews min": 4866,
         "Reviews max": 4866,
         "Price min": 11,
         "Price max": 11,
         "Year min": 2010,
         "Year max": 2011,
         "Genre min": "Fiction",
         "Genre max": "Fiction",
         "_deepnote_index_column": "Abraham Verghese"
        },
        {
         "Name min": "Milk and Vine: Inspirational Quotes From Classic Vines",
         "Name max": "Milk and Vine: Inspirational Quotes From Classic Vines",
         "User-Rating min": 4.4,
         "User-Rating max": 4.4,
         "Reviews min": 3113,
         "Reviews max": 3113,
         "Price min": 6,
         "Price max": 6,
         "Year min": 2017,
         "Year max": 2017,
         "Genre min": "Non Fiction",
         "Genre max": "Non Fiction",
         "_deepnote_index_column": "Adam Gasiewski"
        },
        {
         "Name min": "Go the F**k to Sleep",
         "Name max": "Go the F**k to Sleep",
         "User-Rating min": 4.8,
         "User-Rating max": 4.8,
         "Reviews min": 9568,
         "Reviews max": 9568,
         "Price min": 9,
         "Price max": 9,
         "Year min": 2011,
         "Year max": 2011,
         "Genre min": "Fiction",
         "Genre max": "Fiction",
         "_deepnote_index_column": "Adam Mansbach"
        },
        {
         "Name min": "What Should Danny Do? (The Power to Choose Series)",
         "Name max": "What Should Danny Do? (The Power to Choose Series)",
         "User-Rating min": 4.8,
         "User-Rating max": 4.8,
         "Reviews min": 8170,
         "Reviews max": 8170,
         "Price min": 13,
         "Price max": 13,
         "Year min": 2019,
         "Year max": 2019,
         "Genre min": "Fiction",
         "Genre max": "Fiction",
         "_deepnote_index_column": "Adir Levy"
        },
        {
         "Name min": "Make Your Bed: Little Things That Can Change Your Life...And Maybe the World",
         "Name max": "Make Your Bed: Little Things That Can Change Your Life...And Maybe the World",
         "User-Rating min": 4.7,
         "User-Rating max": 4.7,
         "Reviews min": 10199,
         "Reviews max": 10199,
         "Price min": 11,
         "Price max": 11,
         "Year min": 2017,
         "Year max": 2017,
         "Genre min": "Non Fiction",
         "Genre max": "Non Fiction",
         "_deepnote_index_column": "Admiral William H. McRaven"
        },
        {
         "Name min": "Adult Coloring Book Designs: Stress Relief Coloring Book: Garden Designs, Mandalas, Animals, and Paisley Patterns",
         "Name max": "Adult Coloring Book Designs: Stress Relief Coloring Book: Garden Designs, Mandalas, Animals, and Paisley Patterns",
         "User-Rating min": 4.5,
         "User-Rating max": 4.5,
         "Reviews min": 2313,
         "Reviews max": 2313,
         "Price min": 4,
         "Price max": 4,
         "Year min": 2016,
         "Year max": 2016,
         "Genre min": "Non Fiction",
         "Genre max": "Non Fiction",
         "_deepnote_index_column": "Adult Coloring Book Designs"
        },
        {
         "Name min": "Watchmen",
         "Name max": "Watchmen",
         "User-Rating min": 4.8,
         "User-Rating max": 4.8,
         "Reviews min": 3829,
         "Reviews max": 3829,
         "Price min": 42,
         "Price max": 42,
         "Year min": 2009,
         "Year max": 2009,
         "Genre min": "Fiction",
         "Genre max": "Fiction",
         "_deepnote_index_column": "Alan Moore"
        },
        {
         "Name min": "The Silent Patient",
         "Name max": "The Silent Patient",
         "User-Rating min": 4.5,
         "User-Rating max": 4.5,
         "Reviews min": 27536,
         "Reviews max": 27536,
         "Price min": 14,
         "Price max": 14,
         "Year min": 2019,
         "Year max": 2019,
         "Genre min": "Fiction",
         "Genre max": "Fiction",
         "_deepnote_index_column": "Alex Michaelides"
        },
        {
         "Name min": "Little Blue Truck",
         "Name max": "Little Blue Truck",
         "User-Rating min": 4.9,
         "User-Rating max": 4.9,
         "Reviews min": 1884,
         "Reviews max": 1884,
         "Price min": 0,
         "Price max": 0,
         "Year min": 2014,
         "Year max": 2014,
         "Genre min": "Fiction",
         "Genre max": "Fiction",
         "_deepnote_index_column": "Alice Schertle"
        },
        {
         "Name min": "Hyperbole and a Half: Unfortunate Situations, Flawed Coping Mechanisms, Mayhem, and Other Things That Happened",
         "Name max": "Hyperbole and a Half: Unfortunate Situations, Flawed Coping Mechanisms, Mayhem, and Other Things That Happened",
         "User-Rating min": 4.7,
         "User-Rating max": 4.7,
         "Reviews min": 4896,
         "Reviews max": 4896,
         "Price min": 17,
         "Price max": 17,
         "Year min": 2013,
         "Year max": 2013,
         "Genre min": "Non Fiction",
         "Genre max": "Non Fiction",
         "_deepnote_index_column": "Allie Brosh"
        }
       ]
      },
      "text/plain": "                                                                         Name  \\\n                                                                          min   \nAuthor                                                                          \nAbraham Verghese                                            Cutting for Stone   \nAdam Gasiewski              Milk and Vine: Inspirational Quotes From Class...   \nAdam Mansbach                                            Go the F**k to Sleep   \nAdir Levy                   What Should Danny Do? (The Power to Choose Ser...   \nAdmiral William H. McRaven  Make Your Bed: Little Things That Can Change Y...   \n...                                                                       ...   \nWalter Isaacson                                             Leonardo da Vinci   \nWilliam Davis               Wheat Belly: Lose the Wheat, Lose the Weight, ...   \nWilliam P. Young                  The Shack: Where Tragedy Confronts Eternity   \nWizards RPG Team                       Player's Handbook (Dungeons & Dragons)   \nZhi Gang Sha                Divine Soul Mind Body Healing and Transmission...   \n\n                                                                               \\\n                                                                          max   \nAuthor                                                                          \nAbraham Verghese                                            Cutting for Stone   \nAdam Gasiewski              Milk and Vine: Inspirational Quotes From Class...   \nAdam Mansbach                                            Go the F**k to Sleep   \nAdir Levy                   What Should Danny Do? (The Power to Choose Ser...   \nAdmiral William H. McRaven  Make Your Bed: Little Things That Can Change Y...   \n...                                                                       ...   \nWalter Isaacson                                                    Steve Jobs   \nWilliam Davis               Wheat Belly: Lose the Wheat, Lose the Weight, ...   \nWilliam P. Young                  The Shack: Where Tragedy Confronts Eternity   \nWizards RPG Team                       Player's Handbook (Dungeons & Dragons)   \nZhi Gang Sha                Soul Healing Miracles: Ancient and New Sacred ...   \n\n                           User-Rating      Reviews        Price      Year  \\\n                                   min  max     min    max   min max   min   \nAuthor                                                                       \nAbraham Verghese                   4.6  4.6    4866   4866    11  11  2010   \nAdam Gasiewski                     4.4  4.4    3113   3113     6   6  2017   \nAdam Mansbach                      4.8  4.8    9568   9568     9   9  2011   \nAdir Levy                          4.8  4.8    8170   8170    13  13  2019   \nAdmiral William H. McRaven         4.7  4.7   10199  10199    11  11  2017   \n...                                ...  ...     ...    ...   ...  ..   ...   \nWalter Isaacson                    4.5  4.6    3014   7827    20  21  2011   \nWilliam Davis                      4.4  4.4    7497   7497     6   6  2012   \nWilliam P. Young                   4.6  4.6   19720  19720     8   8  2009   \nWizards RPG Team                   4.8  4.8   16990  16990    27  27  2017   \nZhi Gang Sha                       4.6  4.6      37    220     6  17  2009   \n\n                                        Genre               \n                             max          min          max  \nAuthor                                                      \nAbraham Verghese            2011      Fiction      Fiction  \nAdam Gasiewski              2017  Non Fiction  Non Fiction  \nAdam Mansbach               2011      Fiction      Fiction  \nAdir Levy                   2019      Fiction      Fiction  \nAdmiral William H. McRaven  2017  Non Fiction  Non Fiction  \n...                          ...          ...          ...  \nWalter Isaacson             2017  Non Fiction  Non Fiction  \nWilliam Davis               2013  Non Fiction  Non Fiction  \nWilliam P. Young            2017      Fiction      Fiction  \nWizards RPG Team            2019      Fiction      Fiction  \nZhi Gang Sha                2013  Non Fiction  Non Fiction  \n\n[248 rows x 12 columns]",
      "text/html": "<div>\n<style scoped>\n    .dataframe tbody tr th:only-of-type {\n        vertical-align: middle;\n    }\n\n    .dataframe tbody tr th {\n        vertical-align: top;\n    }\n\n    .dataframe thead tr th {\n        text-align: left;\n    }\n\n    .dataframe thead tr:last-of-type th {\n        text-align: right;\n    }\n</style>\n<table border=\"1\" class=\"dataframe\">\n  <thead>\n    <tr>\n      <th></th>\n      <th colspan=\"2\" halign=\"left\">Name</th>\n      <th colspan=\"2\" halign=\"left\">User-Rating</th>\n      <th colspan=\"2\" halign=\"left\">Reviews</th>\n      <th colspan=\"2\" halign=\"left\">Price</th>\n      <th colspan=\"2\" halign=\"left\">Year</th>\n      <th colspan=\"2\" halign=\"left\">Genre</th>\n    </tr>\n    <tr>\n      <th></th>\n      <th>min</th>\n      <th>max</th>\n      <th>min</th>\n      <th>max</th>\n      <th>min</th>\n      <th>max</th>\n      <th>min</th>\n      <th>max</th>\n      <th>min</th>\n      <th>max</th>\n      <th>min</th>\n      <th>max</th>\n    </tr>\n    <tr>\n      <th>Author</th>\n      <th></th>\n      <th></th>\n      <th></th>\n      <th></th>\n      <th></th>\n      <th></th>\n      <th></th>\n      <th></th>\n      <th></th>\n      <th></th>\n      <th></th>\n      <th></th>\n    </tr>\n  </thead>\n  <tbody>\n    <tr>\n      <th>Abraham Verghese</th>\n      <td>Cutting for Stone</td>\n      <td>Cutting for Stone</td>\n      <td>4.6</td>\n      <td>4.6</td>\n      <td>4866</td>\n      <td>4866</td>\n      <td>11</td>\n      <td>11</td>\n      <td>2010</td>\n      <td>2011</td>\n      <td>Fiction</td>\n      <td>Fiction</td>\n    </tr>\n    <tr>\n      <th>Adam Gasiewski</th>\n      <td>Milk and Vine: Inspirational Quotes From Class...</td>\n      <td>Milk and Vine: Inspirational Quotes From Class...</td>\n      <td>4.4</td>\n      <td>4.4</td>\n      <td>3113</td>\n      <td>3113</td>\n      <td>6</td>\n      <td>6</td>\n      <td>2017</td>\n      <td>2017</td>\n      <td>Non Fiction</td>\n      <td>Non Fiction</td>\n    </tr>\n    <tr>\n      <th>Adam Mansbach</th>\n      <td>Go the F**k to Sleep</td>\n      <td>Go the F**k to Sleep</td>\n      <td>4.8</td>\n      <td>4.8</td>\n      <td>9568</td>\n      <td>9568</td>\n      <td>9</td>\n      <td>9</td>\n      <td>2011</td>\n      <td>2011</td>\n      <td>Fiction</td>\n      <td>Fiction</td>\n    </tr>\n    <tr>\n      <th>Adir Levy</th>\n      <td>What Should Danny Do? (The Power to Choose Ser...</td>\n      <td>What Should Danny Do? (The Power to Choose Ser...</td>\n      <td>4.8</td>\n      <td>4.8</td>\n      <td>8170</td>\n      <td>8170</td>\n      <td>13</td>\n      <td>13</td>\n      <td>2019</td>\n      <td>2019</td>\n      <td>Fiction</td>\n      <td>Fiction</td>\n    </tr>\n    <tr>\n      <th>Admiral William H. McRaven</th>\n      <td>Make Your Bed: Little Things That Can Change Y...</td>\n      <td>Make Your Bed: Little Things That Can Change Y...</td>\n      <td>4.7</td>\n      <td>4.7</td>\n      <td>10199</td>\n      <td>10199</td>\n      <td>11</td>\n      <td>11</td>\n      <td>2017</td>\n      <td>2017</td>\n      <td>Non Fiction</td>\n      <td>Non Fiction</td>\n    </tr>\n    <tr>\n      <th>...</th>\n      <td>...</td>\n      <td>...</td>\n      <td>...</td>\n      <td>...</td>\n      <td>...</td>\n      <td>...</td>\n      <td>...</td>\n      <td>...</td>\n      <td>...</td>\n      <td>...</td>\n      <td>...</td>\n      <td>...</td>\n    </tr>\n    <tr>\n      <th>Walter Isaacson</th>\n      <td>Leonardo da Vinci</td>\n      <td>Steve Jobs</td>\n      <td>4.5</td>\n      <td>4.6</td>\n      <td>3014</td>\n      <td>7827</td>\n      <td>20</td>\n      <td>21</td>\n      <td>2011</td>\n      <td>2017</td>\n      <td>Non Fiction</td>\n      <td>Non Fiction</td>\n    </tr>\n    <tr>\n      <th>William Davis</th>\n      <td>Wheat Belly: Lose the Wheat, Lose the Weight, ...</td>\n      <td>Wheat Belly: Lose the Wheat, Lose the Weight, ...</td>\n      <td>4.4</td>\n      <td>4.4</td>\n      <td>7497</td>\n      <td>7497</td>\n      <td>6</td>\n      <td>6</td>\n      <td>2012</td>\n      <td>2013</td>\n      <td>Non Fiction</td>\n      <td>Non Fiction</td>\n    </tr>\n    <tr>\n      <th>William P. Young</th>\n      <td>The Shack: Where Tragedy Confronts Eternity</td>\n      <td>The Shack: Where Tragedy Confronts Eternity</td>\n      <td>4.6</td>\n      <td>4.6</td>\n      <td>19720</td>\n      <td>19720</td>\n      <td>8</td>\n      <td>8</td>\n      <td>2009</td>\n      <td>2017</td>\n      <td>Fiction</td>\n      <td>Fiction</td>\n    </tr>\n    <tr>\n      <th>Wizards RPG Team</th>\n      <td>Player's Handbook (Dungeons &amp; Dragons)</td>\n      <td>Player's Handbook (Dungeons &amp; Dragons)</td>\n      <td>4.8</td>\n      <td>4.8</td>\n      <td>16990</td>\n      <td>16990</td>\n      <td>27</td>\n      <td>27</td>\n      <td>2017</td>\n      <td>2019</td>\n      <td>Fiction</td>\n      <td>Fiction</td>\n    </tr>\n    <tr>\n      <th>Zhi Gang Sha</th>\n      <td>Divine Soul Mind Body Healing and Transmission...</td>\n      <td>Soul Healing Miracles: Ancient and New Sacred ...</td>\n      <td>4.6</td>\n      <td>4.6</td>\n      <td>37</td>\n      <td>220</td>\n      <td>6</td>\n      <td>17</td>\n      <td>2009</td>\n      <td>2013</td>\n      <td>Non Fiction</td>\n      <td>Non Fiction</td>\n    </tr>\n  </tbody>\n</table>\n<p>248 rows × 12 columns</p>\n</div>"
     },
     "metadata": {}
    }
   ],
   "execution_count": null
  },
  {
   "cell_type": "code",
   "source": "df_books.head(2)",
   "metadata": {
    "cell_id": "4b3943dce0124435809769fbf58d2648",
    "tags": [],
    "deepnote_to_be_reexecuted": false,
    "source_hash": "61bb7c78",
    "execution_start": 1654523348956,
    "execution_millis": 13,
    "deepnote_cell_type": "code",
    "deepnote_cell_height": 272
   },
   "outputs": [
    {
     "output_type": "execute_result",
     "execution_count": 12,
     "data": {
      "application/vnd.deepnote.dataframe.v3+json": {
       "column_count": 7,
       "row_count": 2,
       "columns": [
        {
         "name": "Name",
         "dtype": "object",
         "stats": {
          "unique_count": 2,
          "nan_count": 0,
          "categories": [
           {
            "name": "10-Day Green Smoothie Cleanse",
            "count": 1
           },
           {
            "name": "11/22/63: A Novel",
            "count": 1
           }
          ]
         }
        },
        {
         "name": "Author",
         "dtype": "object",
         "stats": {
          "unique_count": 2,
          "nan_count": 0,
          "categories": [
           {
            "name": "JJ Smith",
            "count": 1
           },
           {
            "name": "Stephen King",
            "count": 1
           }
          ]
         }
        },
        {
         "name": "User-Rating",
         "dtype": "float64",
         "stats": {
          "unique_count": 2,
          "nan_count": 0,
          "min": "4.6",
          "max": "4.7",
          "histogram": [
           {
            "bin_start": 4.6,
            "bin_end": 4.609999999999999,
            "count": 1
           },
           {
            "bin_start": 4.609999999999999,
            "bin_end": 4.62,
            "count": 0
           },
           {
            "bin_start": 4.62,
            "bin_end": 4.63,
            "count": 0
           },
           {
            "bin_start": 4.63,
            "bin_end": 4.64,
            "count": 0
           },
           {
            "bin_start": 4.64,
            "bin_end": 4.65,
            "count": 0
           },
           {
            "bin_start": 4.65,
            "bin_end": 4.66,
            "count": 0
           },
           {
            "bin_start": 4.66,
            "bin_end": 4.67,
            "count": 0
           },
           {
            "bin_start": 4.67,
            "bin_end": 4.68,
            "count": 0
           },
           {
            "bin_start": 4.68,
            "bin_end": 4.69,
            "count": 0
           },
           {
            "bin_start": 4.69,
            "bin_end": 4.7,
            "count": 1
           }
          ]
         }
        },
        {
         "name": "Reviews",
         "dtype": "int64",
         "stats": {
          "unique_count": 2,
          "nan_count": 0,
          "min": "2052",
          "max": "17350",
          "histogram": [
           {
            "bin_start": 2052,
            "bin_end": 3581.8,
            "count": 1
           },
           {
            "bin_start": 3581.8,
            "bin_end": 5111.6,
            "count": 0
           },
           {
            "bin_start": 5111.6,
            "bin_end": 6641.4,
            "count": 0
           },
           {
            "bin_start": 6641.4,
            "bin_end": 8171.2,
            "count": 0
           },
           {
            "bin_start": 8171.2,
            "bin_end": 9701,
            "count": 0
           },
           {
            "bin_start": 9701,
            "bin_end": 11230.8,
            "count": 0
           },
           {
            "bin_start": 11230.8,
            "bin_end": 12760.6,
            "count": 0
           },
           {
            "bin_start": 12760.6,
            "bin_end": 14290.4,
            "count": 0
           },
           {
            "bin_start": 14290.4,
            "bin_end": 15820.199999999999,
            "count": 0
           },
           {
            "bin_start": 15820.199999999999,
            "bin_end": 17350,
            "count": 1
           }
          ]
         }
        },
        {
         "name": "Price",
         "dtype": "int64",
         "stats": {
          "unique_count": 2,
          "nan_count": 0,
          "min": "8",
          "max": "22",
          "histogram": [
           {
            "bin_start": 8,
            "bin_end": 9.4,
            "count": 1
           },
           {
            "bin_start": 9.4,
            "bin_end": 10.8,
            "count": 0
           },
           {
            "bin_start": 10.8,
            "bin_end": 12.2,
            "count": 0
           },
           {
            "bin_start": 12.2,
            "bin_end": 13.6,
            "count": 0
           },
           {
            "bin_start": 13.6,
            "bin_end": 15,
            "count": 0
           },
           {
            "bin_start": 15,
            "bin_end": 16.4,
            "count": 0
           },
           {
            "bin_start": 16.4,
            "bin_end": 17.799999999999997,
            "count": 0
           },
           {
            "bin_start": 17.799999999999997,
            "bin_end": 19.2,
            "count": 0
           },
           {
            "bin_start": 19.2,
            "bin_end": 20.6,
            "count": 0
           },
           {
            "bin_start": 20.6,
            "bin_end": 22,
            "count": 1
           }
          ]
         }
        },
        {
         "name": "Year",
         "dtype": "int64",
         "stats": {
          "unique_count": 2,
          "nan_count": 0,
          "min": "2011",
          "max": "2016",
          "histogram": [
           {
            "bin_start": 2011,
            "bin_end": 2011.5,
            "count": 1
           },
           {
            "bin_start": 2011.5,
            "bin_end": 2012,
            "count": 0
           },
           {
            "bin_start": 2012,
            "bin_end": 2012.5,
            "count": 0
           },
           {
            "bin_start": 2012.5,
            "bin_end": 2013,
            "count": 0
           },
           {
            "bin_start": 2013,
            "bin_end": 2013.5,
            "count": 0
           },
           {
            "bin_start": 2013.5,
            "bin_end": 2014,
            "count": 0
           },
           {
            "bin_start": 2014,
            "bin_end": 2014.5,
            "count": 0
           },
           {
            "bin_start": 2014.5,
            "bin_end": 2015,
            "count": 0
           },
           {
            "bin_start": 2015,
            "bin_end": 2015.5,
            "count": 0
           },
           {
            "bin_start": 2015.5,
            "bin_end": 2016,
            "count": 1
           }
          ]
         }
        },
        {
         "name": "Genre",
         "dtype": "object",
         "stats": {
          "unique_count": 2,
          "nan_count": 0,
          "categories": [
           {
            "name": "Non Fiction",
            "count": 1
           },
           {
            "name": "Fiction",
            "count": 1
           }
          ]
         }
        },
        {
         "name": "_deepnote_index_column",
         "dtype": "int64"
        }
       ],
       "rows": [
        {
         "Name": "10-Day Green Smoothie Cleanse",
         "Author": "JJ Smith",
         "User-Rating": 4.7,
         "Reviews": 17350,
         "Price": 8,
         "Year": 2016,
         "Genre": "Non Fiction",
         "_deepnote_index_column": 0
        },
        {
         "Name": "11/22/63: A Novel",
         "Author": "Stephen King",
         "User-Rating": 4.6,
         "Reviews": 2052,
         "Price": 22,
         "Year": 2011,
         "Genre": "Fiction",
         "_deepnote_index_column": 1
        }
       ]
      },
      "text/plain": "                            Name        Author  User-Rating  Reviews  Price  \\\n0  10-Day Green Smoothie Cleanse      JJ Smith          4.7    17350      8   \n1              11/22/63: A Novel  Stephen King          4.6     2052     22   \n\n   Year        Genre  \n0  2016  Non Fiction  \n1  2011      Fiction  ",
      "text/html": "<div>\n<style scoped>\n    .dataframe tbody tr th:only-of-type {\n        vertical-align: middle;\n    }\n\n    .dataframe tbody tr th {\n        vertical-align: top;\n    }\n\n    .dataframe thead th {\n        text-align: right;\n    }\n</style>\n<table border=\"1\" class=\"dataframe\">\n  <thead>\n    <tr style=\"text-align: right;\">\n      <th></th>\n      <th>Name</th>\n      <th>Author</th>\n      <th>User-Rating</th>\n      <th>Reviews</th>\n      <th>Price</th>\n      <th>Year</th>\n      <th>Genre</th>\n    </tr>\n  </thead>\n  <tbody>\n    <tr>\n      <th>0</th>\n      <td>10-Day Green Smoothie Cleanse</td>\n      <td>JJ Smith</td>\n      <td>4.7</td>\n      <td>17350</td>\n      <td>8</td>\n      <td>2016</td>\n      <td>Non Fiction</td>\n    </tr>\n    <tr>\n      <th>1</th>\n      <td>11/22/63: A Novel</td>\n      <td>Stephen King</td>\n      <td>4.6</td>\n      <td>2052</td>\n      <td>22</td>\n      <td>2011</td>\n      <td>Fiction</td>\n    </tr>\n  </tbody>\n</table>\n</div>"
     },
     "metadata": {}
    }
   ],
   "execution_count": null
  },
  {
   "cell_type": "code",
   "source": "df_books.groupby('Author').agg({'Reviews': ['min', 'max'], 'User-Rating':'sum'})",
   "metadata": {
    "cell_id": "54d06cb6a82e45ed95812bee739e84a1",
    "tags": [],
    "deepnote_to_be_reexecuted": false,
    "source_hash": "44c4eb3d",
    "execution_start": 1654523439617,
    "execution_millis": 47,
    "deepnote_cell_type": "code",
    "deepnote_cell_height": 600
   },
   "outputs": [
    {
     "output_type": "execute_result",
     "execution_count": 16,
     "data": {
      "application/vnd.deepnote.dataframe.v3+json": {
       "column_count": 3,
       "row_count": 248,
       "columns": [
        {
         "name": "Reviews min",
         "dtype": "int64",
         "stats": {
          "unique_count": 246,
          "nan_count": 0,
          "min": "37",
          "max": "87841",
          "histogram": [
           {
            "bin_start": 37,
            "bin_end": 8817.4,
            "count": 158
           },
           {
            "bin_start": 8817.4,
            "bin_end": 17597.8,
            "count": 57
           },
           {
            "bin_start": 17597.8,
            "bin_end": 26378.199999999997,
            "count": 18
           },
           {
            "bin_start": 26378.199999999997,
            "bin_end": 35158.6,
            "count": 7
           },
           {
            "bin_start": 35158.6,
            "bin_end": 43939,
            "count": 3
           },
           {
            "bin_start": 43939,
            "bin_end": 52719.399999999994,
            "count": 1
           },
           {
            "bin_start": 52719.399999999994,
            "bin_end": 61499.799999999996,
            "count": 2
           },
           {
            "bin_start": 61499.799999999996,
            "bin_end": 70280.2,
            "count": 0
           },
           {
            "bin_start": 70280.2,
            "bin_end": 79060.59999999999,
            "count": 0
           },
           {
            "bin_start": 79060.59999999999,
            "bin_end": 87841,
            "count": 2
           }
          ]
         }
        },
        {
         "name": "Reviews max",
         "dtype": "int64",
         "stats": {
          "unique_count": 247,
          "nan_count": 0,
          "min": "220",
          "max": "87841",
          "histogram": [
           {
            "bin_start": 220,
            "bin_end": 8982.1,
            "count": 141
           },
           {
            "bin_start": 8982.1,
            "bin_end": 17744.2,
            "count": 62
           },
           {
            "bin_start": 17744.2,
            "bin_end": 26506.300000000003,
            "count": 26
           },
           {
            "bin_start": 26506.300000000003,
            "bin_end": 35268.4,
            "count": 9
           },
           {
            "bin_start": 35268.4,
            "bin_end": 44030.5,
            "count": 3
           },
           {
            "bin_start": 44030.5,
            "bin_end": 52792.600000000006,
            "count": 3
           },
           {
            "bin_start": 52792.600000000006,
            "bin_end": 61554.700000000004,
            "count": 2
           },
           {
            "bin_start": 61554.700000000004,
            "bin_end": 70316.8,
            "count": 0
           },
           {
            "bin_start": 70316.8,
            "bin_end": 79078.90000000001,
            "count": 0
           },
           {
            "bin_start": 79078.90000000001,
            "bin_end": 87841,
            "count": 2
           }
          ]
         }
        },
        {
         "name": "User-Rating sum",
         "dtype": "float64",
         "stats": {
          "unique_count": 65,
          "nan_count": 0,
          "min": "4.0",
          "max": "57.599999999999994",
          "histogram": [
           {
            "bin_start": 4,
            "bin_end": 9.36,
            "count": 163
           },
           {
            "bin_start": 9.36,
            "bin_end": 14.719999999999999,
            "count": 45
           },
           {
            "bin_start": 14.719999999999999,
            "bin_end": 20.08,
            "count": 12
           },
           {
            "bin_start": 20.08,
            "bin_end": 25.439999999999998,
            "count": 9
           },
           {
            "bin_start": 25.439999999999998,
            "bin_end": 30.799999999999997,
            "count": 6
           },
           {
            "bin_start": 30.799999999999997,
            "bin_end": 36.16,
            "count": 6
           },
           {
            "bin_start": 36.16,
            "bin_end": 41.519999999999996,
            "count": 1
           },
           {
            "bin_start": 41.519999999999996,
            "bin_end": 46.879999999999995,
            "count": 2
           },
           {
            "bin_start": 46.879999999999995,
            "bin_end": 52.239999999999995,
            "count": 2
           },
           {
            "bin_start": 52.239999999999995,
            "bin_end": 57.599999999999994,
            "count": 2
           }
          ]
         }
        },
        {
         "name": "_deepnote_index_column",
         "dtype": "object"
        }
       ],
       "rows": [
        {
         "Reviews min": 4866,
         "Reviews max": 4866,
         "User-Rating sum": 9.2,
         "_deepnote_index_column": "Abraham Verghese"
        },
        {
         "Reviews min": 3113,
         "Reviews max": 3113,
         "User-Rating sum": 4.4,
         "_deepnote_index_column": "Adam Gasiewski"
        },
        {
         "Reviews min": 9568,
         "Reviews max": 9568,
         "User-Rating sum": 4.8,
         "_deepnote_index_column": "Adam Mansbach"
        },
        {
         "Reviews min": 8170,
         "Reviews max": 8170,
         "User-Rating sum": 4.8,
         "_deepnote_index_column": "Adir Levy"
        },
        {
         "Reviews min": 10199,
         "Reviews max": 10199,
         "User-Rating sum": 4.7,
         "_deepnote_index_column": "Admiral William H. McRaven"
        },
        {
         "Reviews min": 2313,
         "Reviews max": 2313,
         "User-Rating sum": 4.5,
         "_deepnote_index_column": "Adult Coloring Book Designs"
        },
        {
         "Reviews min": 3829,
         "Reviews max": 3829,
         "User-Rating sum": 4.8,
         "_deepnote_index_column": "Alan Moore"
        },
        {
         "Reviews min": 27536,
         "Reviews max": 27536,
         "User-Rating sum": 4.5,
         "_deepnote_index_column": "Alex Michaelides"
        },
        {
         "Reviews min": 1884,
         "Reviews max": 1884,
         "User-Rating sum": 4.9,
         "_deepnote_index_column": "Alice Schertle"
        },
        {
         "Reviews min": 4896,
         "Reviews max": 4896,
         "User-Rating sum": 4.7,
         "_deepnote_index_column": "Allie Brosh"
        }
       ]
      },
      "text/plain": "                           Reviews        User-Rating\n                               min    max         sum\nAuthor                                               \nAbraham Verghese              4866   4866         9.2\nAdam Gasiewski                3113   3113         4.4\nAdam Mansbach                 9568   9568         4.8\nAdir Levy                     8170   8170         4.8\nAdmiral William H. McRaven   10199  10199         4.7\n...                            ...    ...         ...\nWalter Isaacson               3014   7827        13.7\nWilliam Davis                 7497   7497         8.8\nWilliam P. Young             19720  19720         9.2\nWizards RPG Team             16990  16990        14.4\nZhi Gang Sha                    37    220         9.2\n\n[248 rows x 3 columns]",
      "text/html": "<div>\n<style scoped>\n    .dataframe tbody tr th:only-of-type {\n        vertical-align: middle;\n    }\n\n    .dataframe tbody tr th {\n        vertical-align: top;\n    }\n\n    .dataframe thead tr th {\n        text-align: left;\n    }\n\n    .dataframe thead tr:last-of-type th {\n        text-align: right;\n    }\n</style>\n<table border=\"1\" class=\"dataframe\">\n  <thead>\n    <tr>\n      <th></th>\n      <th colspan=\"2\" halign=\"left\">Reviews</th>\n      <th>User-Rating</th>\n    </tr>\n    <tr>\n      <th></th>\n      <th>min</th>\n      <th>max</th>\n      <th>sum</th>\n    </tr>\n    <tr>\n      <th>Author</th>\n      <th></th>\n      <th></th>\n      <th></th>\n    </tr>\n  </thead>\n  <tbody>\n    <tr>\n      <th>Abraham Verghese</th>\n      <td>4866</td>\n      <td>4866</td>\n      <td>9.2</td>\n    </tr>\n    <tr>\n      <th>Adam Gasiewski</th>\n      <td>3113</td>\n      <td>3113</td>\n      <td>4.4</td>\n    </tr>\n    <tr>\n      <th>Adam Mansbach</th>\n      <td>9568</td>\n      <td>9568</td>\n      <td>4.8</td>\n    </tr>\n    <tr>\n      <th>Adir Levy</th>\n      <td>8170</td>\n      <td>8170</td>\n      <td>4.8</td>\n    </tr>\n    <tr>\n      <th>Admiral William H. McRaven</th>\n      <td>10199</td>\n      <td>10199</td>\n      <td>4.7</td>\n    </tr>\n    <tr>\n      <th>...</th>\n      <td>...</td>\n      <td>...</td>\n      <td>...</td>\n    </tr>\n    <tr>\n      <th>Walter Isaacson</th>\n      <td>3014</td>\n      <td>7827</td>\n      <td>13.7</td>\n    </tr>\n    <tr>\n      <th>William Davis</th>\n      <td>7497</td>\n      <td>7497</td>\n      <td>8.8</td>\n    </tr>\n    <tr>\n      <th>William P. Young</th>\n      <td>19720</td>\n      <td>19720</td>\n      <td>9.2</td>\n    </tr>\n    <tr>\n      <th>Wizards RPG Team</th>\n      <td>16990</td>\n      <td>16990</td>\n      <td>14.4</td>\n    </tr>\n    <tr>\n      <th>Zhi Gang Sha</th>\n      <td>37</td>\n      <td>220</td>\n      <td>9.2</td>\n    </tr>\n  </tbody>\n</table>\n<p>248 rows × 3 columns</p>\n</div>"
     },
     "metadata": {}
    }
   ],
   "execution_count": null
  },
  {
   "cell_type": "code",
   "source": "df_books",
   "metadata": {
    "cell_id": "8910d5e3440c456b9fec53833046d094",
    "tags": [],
    "deepnote_to_be_reexecuted": false,
    "source_hash": "42b86fa",
    "execution_start": 1654523562684,
    "execution_millis": 120,
    "deepnote_cell_type": "code",
    "deepnote_cell_height": 600,
    "deepnote_output_heights": [
     251.4375
    ]
   },
   "outputs": [
    {
     "output_type": "execute_result",
     "execution_count": 22,
     "data": {
      "application/vnd.deepnote.dataframe.v3+json": {
       "column_count": 7,
       "row_count": 550,
       "columns": [
        {
         "name": "Name",
         "dtype": "object",
         "stats": {
          "unique_count": 351,
          "nan_count": 0,
          "categories": [
           {
            "name": "Publication Manual of the American Psychological Association, 6th Edition",
            "count": 10
           },
           {
            "name": "StrengthsFinder 2.0",
            "count": 9
           },
           {
            "name": "349 others",
            "count": 531
           }
          ]
         }
        },
        {
         "name": "Author",
         "dtype": "object",
         "stats": {
          "unique_count": 248,
          "nan_count": 0,
          "categories": [
           {
            "name": "Jeff Kinney",
            "count": 12
           },
           {
            "name": "Suzanne Collins",
            "count": 11
           },
           {
            "name": "246 others",
            "count": 527
           }
          ]
         }
        },
        {
         "name": "User-Rating",
         "dtype": "float64",
         "stats": {
          "unique_count": 14,
          "nan_count": 0,
          "min": "3.3",
          "max": "4.9",
          "histogram": [
           {
            "bin_start": 3.3,
            "bin_end": 3.46,
            "count": 1
           },
           {
            "bin_start": 3.46,
            "bin_end": 3.62,
            "count": 1
           },
           {
            "bin_start": 3.62,
            "bin_end": 3.7800000000000002,
            "count": 0
           },
           {
            "bin_start": 3.7800000000000002,
            "bin_end": 3.94,
            "count": 5
           },
           {
            "bin_start": 3.94,
            "bin_end": 4.1,
            "count": 14
           },
           {
            "bin_start": 4.1,
            "bin_end": 4.26,
            "count": 14
           },
           {
            "bin_start": 4.26,
            "bin_end": 4.42,
            "count": 63
           },
           {
            "bin_start": 4.42,
            "bin_end": 4.58,
            "count": 60
           },
           {
            "bin_start": 4.58,
            "bin_end": 4.74,
            "count": 213
           },
           {
            "bin_start": 4.74,
            "bin_end": 4.9,
            "count": 179
           }
          ]
         }
        },
        {
         "name": "Reviews",
         "dtype": "int64",
         "stats": {
          "unique_count": 346,
          "nan_count": 0,
          "min": "37",
          "max": "87841",
          "histogram": [
           {
            "bin_start": 37,
            "bin_end": 8817.4,
            "count": 287
           },
           {
            "bin_start": 8817.4,
            "bin_end": 17597.8,
            "count": 131
           },
           {
            "bin_start": 17597.8,
            "bin_end": 26378.199999999997,
            "count": 87
           },
           {
            "bin_start": 26378.199999999997,
            "bin_end": 35158.6,
            "count": 25
           },
           {
            "bin_start": 35158.6,
            "bin_end": 43939,
            "count": 4
           },
           {
            "bin_start": 43939,
            "bin_end": 52719.399999999994,
            "count": 8
           },
           {
            "bin_start": 52719.399999999994,
            "bin_end": 61499.799999999996,
            "count": 5
           },
           {
            "bin_start": 61499.799999999996,
            "bin_end": 70280.2,
            "count": 0
           },
           {
            "bin_start": 70280.2,
            "bin_end": 79060.59999999999,
            "count": 0
           },
           {
            "bin_start": 79060.59999999999,
            "bin_end": 87841,
            "count": 3
           }
          ]
         }
        },
        {
         "name": "Price",
         "dtype": "int64",
         "stats": {
          "unique_count": 40,
          "nan_count": 0,
          "min": "0",
          "max": "105",
          "histogram": [
           {
            "bin_start": 0,
            "bin_end": 10.5,
            "count": 266
           },
           {
            "bin_start": 10.5,
            "bin_end": 21,
            "count": 216
           },
           {
            "bin_start": 21,
            "bin_end": 31.5,
            "count": 42
           },
           {
            "bin_start": 31.5,
            "bin_end": 42,
            "count": 9
           },
           {
            "bin_start": 42,
            "bin_end": 52.5,
            "count": 12
           },
           {
            "bin_start": 52.5,
            "bin_end": 63,
            "count": 2
           },
           {
            "bin_start": 63,
            "bin_end": 73.5,
            "count": 0
           },
           {
            "bin_start": 73.5,
            "bin_end": 84,
            "count": 1
           },
           {
            "bin_start": 84,
            "bin_end": 94.5,
            "count": 0
           },
           {
            "bin_start": 94.5,
            "bin_end": 105,
            "count": 2
           }
          ]
         }
        },
        {
         "name": "Year",
         "dtype": "int64",
         "stats": {
          "unique_count": 11,
          "nan_count": 0,
          "min": "2009",
          "max": "2019",
          "histogram": [
           {
            "bin_start": 2009,
            "bin_end": 2010,
            "count": 50
           },
           {
            "bin_start": 2010,
            "bin_end": 2011,
            "count": 50
           },
           {
            "bin_start": 2011,
            "bin_end": 2012,
            "count": 50
           },
           {
            "bin_start": 2012,
            "bin_end": 2013,
            "count": 50
           },
           {
            "bin_start": 2013,
            "bin_end": 2014,
            "count": 50
           },
           {
            "bin_start": 2014,
            "bin_end": 2015,
            "count": 50
           },
           {
            "bin_start": 2015,
            "bin_end": 2016,
            "count": 50
           },
           {
            "bin_start": 2016,
            "bin_end": 2017,
            "count": 50
           },
           {
            "bin_start": 2017,
            "bin_end": 2018,
            "count": 50
           },
           {
            "bin_start": 2018,
            "bin_end": 2019,
            "count": 100
           }
          ]
         }
        },
        {
         "name": "Genre",
         "dtype": "object",
         "stats": {
          "unique_count": 2,
          "nan_count": 0,
          "categories": [
           {
            "name": "Non Fiction",
            "count": 310
           },
           {
            "name": "Fiction",
            "count": 240
           }
          ]
         }
        },
        {
         "name": "_deepnote_index_column",
         "dtype": "int64"
        }
       ],
       "rows": [
        {
         "Name": "10-Day Green Smoothie Cleanse",
         "Author": "JJ Smith",
         "User-Rating": 4.7,
         "Reviews": 17350,
         "Price": 8,
         "Year": 2016,
         "Genre": "Non Fiction",
         "_deepnote_index_column": 0
        },
        {
         "Name": "11/22/63: A Novel",
         "Author": "Stephen King",
         "User-Rating": 4.6,
         "Reviews": 2052,
         "Price": 22,
         "Year": 2011,
         "Genre": "Fiction",
         "_deepnote_index_column": 1
        },
        {
         "Name": "12 Rules for Life: An Antidote to Chaos",
         "Author": "Jordan B. Peterson",
         "User-Rating": 4.7,
         "Reviews": 18979,
         "Price": 15,
         "Year": 2018,
         "Genre": "Non Fiction",
         "_deepnote_index_column": 2
        },
        {
         "Name": "1984 (Signet Classics)",
         "Author": "George Orwell",
         "User-Rating": 4.7,
         "Reviews": 21424,
         "Price": 6,
         "Year": 2017,
         "Genre": "Fiction",
         "_deepnote_index_column": 3
        },
        {
         "Name": "5,000 Awesome Facts (About Everything!) (National Geographic Kids)",
         "Author": "National Geographic Kids",
         "User-Rating": 4.8,
         "Reviews": 7665,
         "Price": 12,
         "Year": 2019,
         "Genre": "Non Fiction",
         "_deepnote_index_column": 4
        },
        {
         "Name": "A Dance with Dragons (A Song of Ice and Fire)",
         "Author": "George R. R. Martin",
         "User-Rating": 4.4,
         "Reviews": 12643,
         "Price": 11,
         "Year": 2011,
         "Genre": "Fiction",
         "_deepnote_index_column": 5
        },
        {
         "Name": "A Game of Thrones / A Clash of Kings / A Storm of Swords / A Feast of Crows / A Dance with Dragons",
         "Author": "George R. R. Martin",
         "User-Rating": 4.7,
         "Reviews": 19735,
         "Price": 30,
         "Year": 2014,
         "Genre": "Fiction",
         "_deepnote_index_column": 6
        },
        {
         "Name": "A Gentleman in Moscow: A Novel",
         "Author": "Amor Towles",
         "User-Rating": 4.7,
         "Reviews": 19699,
         "Price": 15,
         "Year": 2017,
         "Genre": "Fiction",
         "_deepnote_index_column": 7
        },
        {
         "Name": "A Higher Loyalty: Truth, Lies, and Leadership",
         "Author": "James Comey",
         "User-Rating": 4.7,
         "Reviews": 5983,
         "Price": 3,
         "Year": 2018,
         "Genre": "Non Fiction",
         "_deepnote_index_column": 8
        },
        {
         "Name": "A Man Called Ove: A Novel",
         "Author": "Fredrik Backman",
         "User-Rating": 4.6,
         "Reviews": 23848,
         "Price": 8,
         "Year": 2016,
         "Genre": "Fiction",
         "_deepnote_index_column": 9
        }
       ]
      },
      "text/plain": "                                                  Name  \\\n0                        10-Day Green Smoothie Cleanse   \n1                                    11/22/63: A Novel   \n2              12 Rules for Life: An Antidote to Chaos   \n3                               1984 (Signet Classics)   \n4    5,000 Awesome Facts (About Everything!) (Natio...   \n..                                                 ...   \n545       Wrecking Ball (Diary of a Wimpy Kid Book 14)   \n546  You Are a Badass: How to Stop Doubting Your Gr...   \n547  You Are a Badass: How to Stop Doubting Your Gr...   \n548  You Are a Badass: How to Stop Doubting Your Gr...   \n549  You Are a Badass: How to Stop Doubting Your Gr...   \n\n                       Author  User-Rating  Reviews  Price  Year        Genre  \n0                    JJ Smith          4.7    17350      8  2016  Non Fiction  \n1                Stephen King          4.6     2052     22  2011      Fiction  \n2          Jordan B. Peterson          4.7    18979     15  2018  Non Fiction  \n3               George Orwell          4.7    21424      6  2017      Fiction  \n4    National Geographic Kids          4.8     7665     12  2019  Non Fiction  \n..                        ...          ...      ...    ...   ...          ...  \n545               Jeff Kinney          4.9     9413      8  2019      Fiction  \n546               Jen Sincero          4.7    14331      8  2016  Non Fiction  \n547               Jen Sincero          4.7    14331      8  2017  Non Fiction  \n548               Jen Sincero          4.7    14331      8  2018  Non Fiction  \n549               Jen Sincero          4.7    14331      8  2019  Non Fiction  \n\n[550 rows x 7 columns]",
      "text/html": "<div>\n<style scoped>\n    .dataframe tbody tr th:only-of-type {\n        vertical-align: middle;\n    }\n\n    .dataframe tbody tr th {\n        vertical-align: top;\n    }\n\n    .dataframe thead th {\n        text-align: right;\n    }\n</style>\n<table border=\"1\" class=\"dataframe\">\n  <thead>\n    <tr style=\"text-align: right;\">\n      <th></th>\n      <th>Name</th>\n      <th>Author</th>\n      <th>User-Rating</th>\n      <th>Reviews</th>\n      <th>Price</th>\n      <th>Year</th>\n      <th>Genre</th>\n    </tr>\n  </thead>\n  <tbody>\n    <tr>\n      <th>0</th>\n      <td>10-Day Green Smoothie Cleanse</td>\n      <td>JJ Smith</td>\n      <td>4.7</td>\n      <td>17350</td>\n      <td>8</td>\n      <td>2016</td>\n      <td>Non Fiction</td>\n    </tr>\n    <tr>\n      <th>1</th>\n      <td>11/22/63: A Novel</td>\n      <td>Stephen King</td>\n      <td>4.6</td>\n      <td>2052</td>\n      <td>22</td>\n      <td>2011</td>\n      <td>Fiction</td>\n    </tr>\n    <tr>\n      <th>2</th>\n      <td>12 Rules for Life: An Antidote to Chaos</td>\n      <td>Jordan B. Peterson</td>\n      <td>4.7</td>\n      <td>18979</td>\n      <td>15</td>\n      <td>2018</td>\n      <td>Non Fiction</td>\n    </tr>\n    <tr>\n      <th>3</th>\n      <td>1984 (Signet Classics)</td>\n      <td>George Orwell</td>\n      <td>4.7</td>\n      <td>21424</td>\n      <td>6</td>\n      <td>2017</td>\n      <td>Fiction</td>\n    </tr>\n    <tr>\n      <th>4</th>\n      <td>5,000 Awesome Facts (About Everything!) (Natio...</td>\n      <td>National Geographic Kids</td>\n      <td>4.8</td>\n      <td>7665</td>\n      <td>12</td>\n      <td>2019</td>\n      <td>Non Fiction</td>\n    </tr>\n    <tr>\n      <th>...</th>\n      <td>...</td>\n      <td>...</td>\n      <td>...</td>\n      <td>...</td>\n      <td>...</td>\n      <td>...</td>\n      <td>...</td>\n    </tr>\n    <tr>\n      <th>545</th>\n      <td>Wrecking Ball (Diary of a Wimpy Kid Book 14)</td>\n      <td>Jeff Kinney</td>\n      <td>4.9</td>\n      <td>9413</td>\n      <td>8</td>\n      <td>2019</td>\n      <td>Fiction</td>\n    </tr>\n    <tr>\n      <th>546</th>\n      <td>You Are a Badass: How to Stop Doubting Your Gr...</td>\n      <td>Jen Sincero</td>\n      <td>4.7</td>\n      <td>14331</td>\n      <td>8</td>\n      <td>2016</td>\n      <td>Non Fiction</td>\n    </tr>\n    <tr>\n      <th>547</th>\n      <td>You Are a Badass: How to Stop Doubting Your Gr...</td>\n      <td>Jen Sincero</td>\n      <td>4.7</td>\n      <td>14331</td>\n      <td>8</td>\n      <td>2017</td>\n      <td>Non Fiction</td>\n    </tr>\n    <tr>\n      <th>548</th>\n      <td>You Are a Badass: How to Stop Doubting Your Gr...</td>\n      <td>Jen Sincero</td>\n      <td>4.7</td>\n      <td>14331</td>\n      <td>8</td>\n      <td>2018</td>\n      <td>Non Fiction</td>\n    </tr>\n    <tr>\n      <th>549</th>\n      <td>You Are a Badass: How to Stop Doubting Your Gr...</td>\n      <td>Jen Sincero</td>\n      <td>4.7</td>\n      <td>14331</td>\n      <td>8</td>\n      <td>2019</td>\n      <td>Non Fiction</td>\n    </tr>\n  </tbody>\n</table>\n<p>550 rows × 7 columns</p>\n</div>"
     },
     "metadata": {}
    }
   ],
   "execution_count": null
  },
  {
   "cell_type": "code",
   "source": "df_books.groupby(['Author', 'Year']).count()",
   "metadata": {
    "cell_id": "0071d36e70294d5da0b8082f5c65b8b4",
    "tags": [],
    "deepnote_to_be_reexecuted": false,
    "source_hash": "2eb71238",
    "execution_start": 1654523637555,
    "execution_millis": 39,
    "owner_user_id": "6b4a8dcb-83e3-48d8-857e-449aa20f64fc",
    "deepnote_cell_type": "code",
    "deepnote_cell_height": 600
   },
   "outputs": [
    {
     "output_type": "execute_result",
     "execution_count": 23,
     "data": {
      "application/vnd.deepnote.dataframe.v3+json": {
       "column_count": 5,
       "row_count": 493,
       "columns": [
        {
         "name": "Name",
         "dtype": "int64",
         "stats": {
          "unique_count": 5,
          "nan_count": 0,
          "min": "1",
          "max": "6",
          "histogram": [
           {
            "bin_start": 1,
            "bin_end": 1.5,
            "count": 455
           },
           {
            "bin_start": 1.5,
            "bin_end": 2,
            "count": 0
           },
           {
            "bin_start": 2,
            "bin_end": 2.5,
            "count": 27
           },
           {
            "bin_start": 2.5,
            "bin_end": 3,
            "count": 0
           },
           {
            "bin_start": 3,
            "bin_end": 3.5,
            "count": 5
           },
           {
            "bin_start": 3.5,
            "bin_end": 4,
            "count": 0
           },
           {
            "bin_start": 4,
            "bin_end": 4.5,
            "count": 5
           },
           {
            "bin_start": 4.5,
            "bin_end": 5,
            "count": 0
           },
           {
            "bin_start": 5,
            "bin_end": 5.5,
            "count": 0
           },
           {
            "bin_start": 5.5,
            "bin_end": 6,
            "count": 1
           }
          ]
         }
        },
        {
         "name": "User-Rating",
         "dtype": "int64",
         "stats": {
          "unique_count": 5,
          "nan_count": 0,
          "min": "1",
          "max": "6",
          "histogram": [
           {
            "bin_start": 1,
            "bin_end": 1.5,
            "count": 455
           },
           {
            "bin_start": 1.5,
            "bin_end": 2,
            "count": 0
           },
           {
            "bin_start": 2,
            "bin_end": 2.5,
            "count": 27
           },
           {
            "bin_start": 2.5,
            "bin_end": 3,
            "count": 0
           },
           {
            "bin_start": 3,
            "bin_end": 3.5,
            "count": 5
           },
           {
            "bin_start": 3.5,
            "bin_end": 4,
            "count": 0
           },
           {
            "bin_start": 4,
            "bin_end": 4.5,
            "count": 5
           },
           {
            "bin_start": 4.5,
            "bin_end": 5,
            "count": 0
           },
           {
            "bin_start": 5,
            "bin_end": 5.5,
            "count": 0
           },
           {
            "bin_start": 5.5,
            "bin_end": 6,
            "count": 1
           }
          ]
         }
        },
        {
         "name": "Reviews",
         "dtype": "int64",
         "stats": {
          "unique_count": 5,
          "nan_count": 0,
          "min": "1",
          "max": "6",
          "histogram": [
           {
            "bin_start": 1,
            "bin_end": 1.5,
            "count": 455
           },
           {
            "bin_start": 1.5,
            "bin_end": 2,
            "count": 0
           },
           {
            "bin_start": 2,
            "bin_end": 2.5,
            "count": 27
           },
           {
            "bin_start": 2.5,
            "bin_end": 3,
            "count": 0
           },
           {
            "bin_start": 3,
            "bin_end": 3.5,
            "count": 5
           },
           {
            "bin_start": 3.5,
            "bin_end": 4,
            "count": 0
           },
           {
            "bin_start": 4,
            "bin_end": 4.5,
            "count": 5
           },
           {
            "bin_start": 4.5,
            "bin_end": 5,
            "count": 0
           },
           {
            "bin_start": 5,
            "bin_end": 5.5,
            "count": 0
           },
           {
            "bin_start": 5.5,
            "bin_end": 6,
            "count": 1
           }
          ]
         }
        },
        {
         "name": "Price",
         "dtype": "int64",
         "stats": {
          "unique_count": 5,
          "nan_count": 0,
          "min": "1",
          "max": "6",
          "histogram": [
           {
            "bin_start": 1,
            "bin_end": 1.5,
            "count": 455
           },
           {
            "bin_start": 1.5,
            "bin_end": 2,
            "count": 0
           },
           {
            "bin_start": 2,
            "bin_end": 2.5,
            "count": 27
           },
           {
            "bin_start": 2.5,
            "bin_end": 3,
            "count": 0
           },
           {
            "bin_start": 3,
            "bin_end": 3.5,
            "count": 5
           },
           {
            "bin_start": 3.5,
            "bin_end": 4,
            "count": 0
           },
           {
            "bin_start": 4,
            "bin_end": 4.5,
            "count": 5
           },
           {
            "bin_start": 4.5,
            "bin_end": 5,
            "count": 0
           },
           {
            "bin_start": 5,
            "bin_end": 5.5,
            "count": 0
           },
           {
            "bin_start": 5.5,
            "bin_end": 6,
            "count": 1
           }
          ]
         }
        },
        {
         "name": "Genre",
         "dtype": "int64",
         "stats": {
          "unique_count": 5,
          "nan_count": 0,
          "min": "1",
          "max": "6",
          "histogram": [
           {
            "bin_start": 1,
            "bin_end": 1.5,
            "count": 455
           },
           {
            "bin_start": 1.5,
            "bin_end": 2,
            "count": 0
           },
           {
            "bin_start": 2,
            "bin_end": 2.5,
            "count": 27
           },
           {
            "bin_start": 2.5,
            "bin_end": 3,
            "count": 0
           },
           {
            "bin_start": 3,
            "bin_end": 3.5,
            "count": 5
           },
           {
            "bin_start": 3.5,
            "bin_end": 4,
            "count": 0
           },
           {
            "bin_start": 4,
            "bin_end": 4.5,
            "count": 5
           },
           {
            "bin_start": 4.5,
            "bin_end": 5,
            "count": 0
           },
           {
            "bin_start": 5,
            "bin_end": 5.5,
            "count": 0
           },
           {
            "bin_start": 5.5,
            "bin_end": 6,
            "count": 1
           }
          ]
         }
        },
        {
         "name": "_deepnote_index_column",
         "dtype": "object"
        }
       ],
       "rows": [
        {
         "Name": 1,
         "User-Rating": 1,
         "Reviews": 1,
         "Price": 1,
         "Genre": 1,
         "_deepnote_index_column": "('Abraham Verghese', 2010)"
        },
        {
         "Name": 1,
         "User-Rating": 1,
         "Reviews": 1,
         "Price": 1,
         "Genre": 1,
         "_deepnote_index_column": "('Abraham Verghese', 2011)"
        },
        {
         "Name": 1,
         "User-Rating": 1,
         "Reviews": 1,
         "Price": 1,
         "Genre": 1,
         "_deepnote_index_column": "('Adam Gasiewski', 2017)"
        },
        {
         "Name": 1,
         "User-Rating": 1,
         "Reviews": 1,
         "Price": 1,
         "Genre": 1,
         "_deepnote_index_column": "('Adam Mansbach', 2011)"
        },
        {
         "Name": 1,
         "User-Rating": 1,
         "Reviews": 1,
         "Price": 1,
         "Genre": 1,
         "_deepnote_index_column": "('Adir Levy', 2019)"
        },
        {
         "Name": 1,
         "User-Rating": 1,
         "Reviews": 1,
         "Price": 1,
         "Genre": 1,
         "_deepnote_index_column": "('Admiral William H. McRaven', 2017)"
        },
        {
         "Name": 1,
         "User-Rating": 1,
         "Reviews": 1,
         "Price": 1,
         "Genre": 1,
         "_deepnote_index_column": "('Adult Coloring Book Designs', 2016)"
        },
        {
         "Name": 1,
         "User-Rating": 1,
         "Reviews": 1,
         "Price": 1,
         "Genre": 1,
         "_deepnote_index_column": "('Alan Moore', 2009)"
        },
        {
         "Name": 1,
         "User-Rating": 1,
         "Reviews": 1,
         "Price": 1,
         "Genre": 1,
         "_deepnote_index_column": "('Alex Michaelides', 2019)"
        },
        {
         "Name": 1,
         "User-Rating": 1,
         "Reviews": 1,
         "Price": 1,
         "Genre": 1,
         "_deepnote_index_column": "('Alice Schertle', 2014)"
        }
       ]
      },
      "text/plain": "                       Name  User-Rating  Reviews  Price  Genre\nAuthor           Year                                          \nAbraham Verghese 2010     1            1        1      1      1\n                 2011     1            1        1      1      1\nAdam Gasiewski   2017     1            1        1      1      1\nAdam Mansbach    2011     1            1        1      1      1\nAdir Levy        2019     1            1        1      1      1\n...                     ...          ...      ...    ...    ...\nWizards RPG Team 2017     1            1        1      1      1\n                 2018     1            1        1      1      1\n                 2019     1            1        1      1      1\nZhi Gang Sha     2009     1            1        1      1      1\n                 2013     1            1        1      1      1\n\n[493 rows x 5 columns]",
      "text/html": "<div>\n<style scoped>\n    .dataframe tbody tr th:only-of-type {\n        vertical-align: middle;\n    }\n\n    .dataframe tbody tr th {\n        vertical-align: top;\n    }\n\n    .dataframe thead th {\n        text-align: right;\n    }\n</style>\n<table border=\"1\" class=\"dataframe\">\n  <thead>\n    <tr style=\"text-align: right;\">\n      <th></th>\n      <th></th>\n      <th>Name</th>\n      <th>User-Rating</th>\n      <th>Reviews</th>\n      <th>Price</th>\n      <th>Genre</th>\n    </tr>\n    <tr>\n      <th>Author</th>\n      <th>Year</th>\n      <th></th>\n      <th></th>\n      <th></th>\n      <th></th>\n      <th></th>\n    </tr>\n  </thead>\n  <tbody>\n    <tr>\n      <th rowspan=\"2\" valign=\"top\">Abraham Verghese</th>\n      <th>2010</th>\n      <td>1</td>\n      <td>1</td>\n      <td>1</td>\n      <td>1</td>\n      <td>1</td>\n    </tr>\n    <tr>\n      <th>2011</th>\n      <td>1</td>\n      <td>1</td>\n      <td>1</td>\n      <td>1</td>\n      <td>1</td>\n    </tr>\n    <tr>\n      <th>Adam Gasiewski</th>\n      <th>2017</th>\n      <td>1</td>\n      <td>1</td>\n      <td>1</td>\n      <td>1</td>\n      <td>1</td>\n    </tr>\n    <tr>\n      <th>Adam Mansbach</th>\n      <th>2011</th>\n      <td>1</td>\n      <td>1</td>\n      <td>1</td>\n      <td>1</td>\n      <td>1</td>\n    </tr>\n    <tr>\n      <th>Adir Levy</th>\n      <th>2019</th>\n      <td>1</td>\n      <td>1</td>\n      <td>1</td>\n      <td>1</td>\n      <td>1</td>\n    </tr>\n    <tr>\n      <th>...</th>\n      <th>...</th>\n      <td>...</td>\n      <td>...</td>\n      <td>...</td>\n      <td>...</td>\n      <td>...</td>\n    </tr>\n    <tr>\n      <th rowspan=\"3\" valign=\"top\">Wizards RPG Team</th>\n      <th>2017</th>\n      <td>1</td>\n      <td>1</td>\n      <td>1</td>\n      <td>1</td>\n      <td>1</td>\n    </tr>\n    <tr>\n      <th>2018</th>\n      <td>1</td>\n      <td>1</td>\n      <td>1</td>\n      <td>1</td>\n      <td>1</td>\n    </tr>\n    <tr>\n      <th>2019</th>\n      <td>1</td>\n      <td>1</td>\n      <td>1</td>\n      <td>1</td>\n      <td>1</td>\n    </tr>\n    <tr>\n      <th rowspan=\"2\" valign=\"top\">Zhi Gang Sha</th>\n      <th>2009</th>\n      <td>1</td>\n      <td>1</td>\n      <td>1</td>\n      <td>1</td>\n      <td>1</td>\n    </tr>\n    <tr>\n      <th>2013</th>\n      <td>1</td>\n      <td>1</td>\n      <td>1</td>\n      <td>1</td>\n      <td>1</td>\n    </tr>\n  </tbody>\n</table>\n<p>493 rows × 5 columns</p>\n</div>"
     },
     "metadata": {}
    }
   ],
   "execution_count": null
  },
  {
   "cell_type": "markdown",
   "source": "<a style='text-decoration:none;line-height:16px;display:flex;color:#5B5B62;padding:10px;justify-content:end;' href='https://deepnote.com?utm_source=created-in-deepnote-cell&projectId=837cf1af-c506-4091-b16c-c4a4c0575614' target=\"_blank\">\n<img alt='Created in deepnote.com' style='display:inline;max-height:16px;margin:0px;margin-right:7.5px;' src='data:image/svg+xml;base64,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' > </img>\nCreated in <span style='font-weight:600;margin-left:4px;'>Deepnote</span></a>",
   "metadata": {
    "tags": [],
    "created_in_deepnote_cell": true,
    "deepnote_cell_type": "markdown"
   }
  }
 ],
 "nbformat": 4,
 "nbformat_minor": 2,
 "metadata": {
  "orig_nbformat": 2,
  "deepnote": {},
  "deepnote_notebook_id": "b4af13ba-9751-4c11-9548-bac1a3a92a77",
  "deepnote_execution_queue": []
 }
}