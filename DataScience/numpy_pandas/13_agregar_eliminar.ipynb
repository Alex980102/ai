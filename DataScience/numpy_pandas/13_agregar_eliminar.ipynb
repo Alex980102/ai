{
 "cells": [
  {
   "cell_type": "code",
   "metadata": {
    "tags": [],
    "cell_id": "3123f4ec-f9c5-4974-9370-74602c7b3895",
    "deepnote_to_be_reexecuted": false,
    "source_hash": "c76c7c51",
    "execution_start": 1654354290049,
    "execution_millis": 0,
    "deepnote_cell_type": "code",
    "deepnote_cell_height": 99
   },
   "source": "import pandas as pd\nimport numpy as np",
   "execution_count": null,
   "outputs": []
  },
  {
   "cell_type": "code",
   "metadata": {
    "cell_id": "9fbaefef0e4c434b8c200c3341902456",
    "tags": [],
    "deepnote_to_be_reexecuted": false,
    "source_hash": "9c3b5a62",
    "execution_start": 1654354290050,
    "execution_millis": 96,
    "owner_user_id": "6b4a8dcb-83e3-48d8-857e-449aa20f64fc",
    "deepnote_cell_type": "code",
    "deepnote_cell_height": 81
   },
   "source": "df_books = pd.read_csv('https://static.platzi.com/media/public/uploads/bestsellers-with-categories_e591527f-ae45-4fa5-b0d1-d50142128fa6.csv', sep=',', header=0, names=['Name', 'Author', 'User-Rating', 'Reviews', 'Price', 'Year', 'Genre'])",
   "execution_count": null,
   "outputs": []
  },
  {
   "cell_type": "code",
   "metadata": {
    "cell_id": "1c22555f7d4e4af1a05f18a6bd9dfd39",
    "tags": [],
    "deepnote_to_be_reexecuted": false,
    "source_hash": "42b86fa",
    "execution_start": 1654354290172,
    "execution_millis": 591,
    "deepnote_cell_type": "code",
    "deepnote_cell_height": 600
   },
   "source": "df_books",
   "execution_count": null,
   "outputs": [
    {
     "output_type": "execute_result",
     "execution_count": 3,
     "data": {
      "application/vnd.deepnote.dataframe.v3+json": {
       "column_count": 7,
       "row_count": 550,
       "columns": [
        {
         "name": "Name",
         "dtype": "object",
         "stats": {
          "unique_count": 351,
          "nan_count": 0,
          "categories": [
           {
            "name": "Publication Manual of the American Psychological Association, 6th Edition",
            "count": 10
           },
           {
            "name": "StrengthsFinder 2.0",
            "count": 9
           },
           {
            "name": "349 others",
            "count": 531
           }
          ]
         }
        },
        {
         "name": "Author",
         "dtype": "object",
         "stats": {
          "unique_count": 248,
          "nan_count": 0,
          "categories": [
           {
            "name": "Jeff Kinney",
            "count": 12
           },
           {
            "name": "Suzanne Collins",
            "count": 11
           },
           {
            "name": "246 others",
            "count": 527
           }
          ]
         }
        },
        {
         "name": "User-Rating",
         "dtype": "float64",
         "stats": {
          "unique_count": 14,
          "nan_count": 0,
          "min": "3.3",
          "max": "4.9",
          "histogram": [
           {
            "bin_start": 3.3,
            "bin_end": 3.46,
            "count": 1
           },
           {
            "bin_start": 3.46,
            "bin_end": 3.62,
            "count": 1
           },
           {
            "bin_start": 3.62,
            "bin_end": 3.7800000000000002,
            "count": 0
           },
           {
            "bin_start": 3.7800000000000002,
            "bin_end": 3.94,
            "count": 5
           },
           {
            "bin_start": 3.94,
            "bin_end": 4.1,
            "count": 14
           },
           {
            "bin_start": 4.1,
            "bin_end": 4.26,
            "count": 14
           },
           {
            "bin_start": 4.26,
            "bin_end": 4.42,
            "count": 63
           },
           {
            "bin_start": 4.42,
            "bin_end": 4.58,
            "count": 60
           },
           {
            "bin_start": 4.58,
            "bin_end": 4.74,
            "count": 213
           },
           {
            "bin_start": 4.74,
            "bin_end": 4.9,
            "count": 179
           }
          ]
         }
        },
        {
         "name": "Reviews",
         "dtype": "int64",
         "stats": {
          "unique_count": 346,
          "nan_count": 0,
          "min": "37",
          "max": "87841",
          "histogram": [
           {
            "bin_start": 37,
            "bin_end": 8817.4,
            "count": 287
           },
           {
            "bin_start": 8817.4,
            "bin_end": 17597.8,
            "count": 131
           },
           {
            "bin_start": 17597.8,
            "bin_end": 26378.199999999997,
            "count": 87
           },
           {
            "bin_start": 26378.199999999997,
            "bin_end": 35158.6,
            "count": 25
           },
           {
            "bin_start": 35158.6,
            "bin_end": 43939,
            "count": 4
           },
           {
            "bin_start": 43939,
            "bin_end": 52719.399999999994,
            "count": 8
           },
           {
            "bin_start": 52719.399999999994,
            "bin_end": 61499.799999999996,
            "count": 5
           },
           {
            "bin_start": 61499.799999999996,
            "bin_end": 70280.2,
            "count": 0
           },
           {
            "bin_start": 70280.2,
            "bin_end": 79060.59999999999,
            "count": 0
           },
           {
            "bin_start": 79060.59999999999,
            "bin_end": 87841,
            "count": 3
           }
          ]
         }
        },
        {
         "name": "Price",
         "dtype": "int64",
         "stats": {
          "unique_count": 40,
          "nan_count": 0,
          "min": "0",
          "max": "105",
          "histogram": [
           {
            "bin_start": 0,
            "bin_end": 10.5,
            "count": 266
           },
           {
            "bin_start": 10.5,
            "bin_end": 21,
            "count": 216
           },
           {
            "bin_start": 21,
            "bin_end": 31.5,
            "count": 42
           },
           {
            "bin_start": 31.5,
            "bin_end": 42,
            "count": 9
           },
           {
            "bin_start": 42,
            "bin_end": 52.5,
            "count": 12
           },
           {
            "bin_start": 52.5,
            "bin_end": 63,
            "count": 2
           },
           {
            "bin_start": 63,
            "bin_end": 73.5,
            "count": 0
           },
           {
            "bin_start": 73.5,
            "bin_end": 84,
            "count": 1
           },
           {
            "bin_start": 84,
            "bin_end": 94.5,
            "count": 0
           },
           {
            "bin_start": 94.5,
            "bin_end": 105,
            "count": 2
           }
          ]
         }
        },
        {
         "name": "Year",
         "dtype": "int64",
         "stats": {
          "unique_count": 11,
          "nan_count": 0,
          "min": "2009",
          "max": "2019",
          "histogram": [
           {
            "bin_start": 2009,
            "bin_end": 2010,
            "count": 50
           },
           {
            "bin_start": 2010,
            "bin_end": 2011,
            "count": 50
           },
           {
            "bin_start": 2011,
            "bin_end": 2012,
            "count": 50
           },
           {
            "bin_start": 2012,
            "bin_end": 2013,
            "count": 50
           },
           {
            "bin_start": 2013,
            "bin_end": 2014,
            "count": 50
           },
           {
            "bin_start": 2014,
            "bin_end": 2015,
            "count": 50
           },
           {
            "bin_start": 2015,
            "bin_end": 2016,
            "count": 50
           },
           {
            "bin_start": 2016,
            "bin_end": 2017,
            "count": 50
           },
           {
            "bin_start": 2017,
            "bin_end": 2018,
            "count": 50
           },
           {
            "bin_start": 2018,
            "bin_end": 2019,
            "count": 100
           }
          ]
         }
        },
        {
         "name": "Genre",
         "dtype": "object",
         "stats": {
          "unique_count": 2,
          "nan_count": 0,
          "categories": [
           {
            "name": "Non Fiction",
            "count": 310
           },
           {
            "name": "Fiction",
            "count": 240
           }
          ]
         }
        },
        {
         "name": "_deepnote_index_column",
         "dtype": "int64"
        }
       ],
       "rows": [
        {
         "Name": "10-Day Green Smoothie Cleanse",
         "Author": "JJ Smith",
         "User-Rating": 4.7,
         "Reviews": 17350,
         "Price": 8,
         "Year": 2016,
         "Genre": "Non Fiction",
         "_deepnote_index_column": 0
        },
        {
         "Name": "11/22/63: A Novel",
         "Author": "Stephen King",
         "User-Rating": 4.6,
         "Reviews": 2052,
         "Price": 22,
         "Year": 2011,
         "Genre": "Fiction",
         "_deepnote_index_column": 1
        },
        {
         "Name": "12 Rules for Life: An Antidote to Chaos",
         "Author": "Jordan B. Peterson",
         "User-Rating": 4.7,
         "Reviews": 18979,
         "Price": 15,
         "Year": 2018,
         "Genre": "Non Fiction",
         "_deepnote_index_column": 2
        },
        {
         "Name": "1984 (Signet Classics)",
         "Author": "George Orwell",
         "User-Rating": 4.7,
         "Reviews": 21424,
         "Price": 6,
         "Year": 2017,
         "Genre": "Fiction",
         "_deepnote_index_column": 3
        },
        {
         "Name": "5,000 Awesome Facts (About Everything!) (National Geographic Kids)",
         "Author": "National Geographic Kids",
         "User-Rating": 4.8,
         "Reviews": 7665,
         "Price": 12,
         "Year": 2019,
         "Genre": "Non Fiction",
         "_deepnote_index_column": 4
        },
        {
         "Name": "A Dance with Dragons (A Song of Ice and Fire)",
         "Author": "George R. R. Martin",
         "User-Rating": 4.4,
         "Reviews": 12643,
         "Price": 11,
         "Year": 2011,
         "Genre": "Fiction",
         "_deepnote_index_column": 5
        },
        {
         "Name": "A Game of Thrones / A Clash of Kings / A Storm of Swords / A Feast of Crows / A Dance with Dragons",
         "Author": "George R. R. Martin",
         "User-Rating": 4.7,
         "Reviews": 19735,
         "Price": 30,
         "Year": 2014,
         "Genre": "Fiction",
         "_deepnote_index_column": 6
        },
        {
         "Name": "A Gentleman in Moscow: A Novel",
         "Author": "Amor Towles",
         "User-Rating": 4.7,
         "Reviews": 19699,
         "Price": 15,
         "Year": 2017,
         "Genre": "Fiction",
         "_deepnote_index_column": 7
        },
        {
         "Name": "A Higher Loyalty: Truth, Lies, and Leadership",
         "Author": "James Comey",
         "User-Rating": 4.7,
         "Reviews": 5983,
         "Price": 3,
         "Year": 2018,
         "Genre": "Non Fiction",
         "_deepnote_index_column": 8
        },
        {
         "Name": "A Man Called Ove: A Novel",
         "Author": "Fredrik Backman",
         "User-Rating": 4.6,
         "Reviews": 23848,
         "Price": 8,
         "Year": 2016,
         "Genre": "Fiction",
         "_deepnote_index_column": 9
        }
       ]
      },
      "text/plain": "                                                  Name  \\\n0                        10-Day Green Smoothie Cleanse   \n1                                    11/22/63: A Novel   \n2              12 Rules for Life: An Antidote to Chaos   \n3                               1984 (Signet Classics)   \n4    5,000 Awesome Facts (About Everything!) (Natio...   \n..                                                 ...   \n545       Wrecking Ball (Diary of a Wimpy Kid Book 14)   \n546  You Are a Badass: How to Stop Doubting Your Gr...   \n547  You Are a Badass: How to Stop Doubting Your Gr...   \n548  You Are a Badass: How to Stop Doubting Your Gr...   \n549  You Are a Badass: How to Stop Doubting Your Gr...   \n\n                       Author  User-Rating  Reviews  Price  Year        Genre  \n0                    JJ Smith          4.7    17350      8  2016  Non Fiction  \n1                Stephen King          4.6     2052     22  2011      Fiction  \n2          Jordan B. Peterson          4.7    18979     15  2018  Non Fiction  \n3               George Orwell          4.7    21424      6  2017      Fiction  \n4    National Geographic Kids          4.8     7665     12  2019  Non Fiction  \n..                        ...          ...      ...    ...   ...          ...  \n545               Jeff Kinney          4.9     9413      8  2019      Fiction  \n546               Jen Sincero          4.7    14331      8  2016  Non Fiction  \n547               Jen Sincero          4.7    14331      8  2017  Non Fiction  \n548               Jen Sincero          4.7    14331      8  2018  Non Fiction  \n549               Jen Sincero          4.7    14331      8  2019  Non Fiction  \n\n[550 rows x 7 columns]",
      "text/html": "<div>\n<style scoped>\n    .dataframe tbody tr th:only-of-type {\n        vertical-align: middle;\n    }\n\n    .dataframe tbody tr th {\n        vertical-align: top;\n    }\n\n    .dataframe thead th {\n        text-align: right;\n    }\n</style>\n<table border=\"1\" class=\"dataframe\">\n  <thead>\n    <tr style=\"text-align: right;\">\n      <th></th>\n      <th>Name</th>\n      <th>Author</th>\n      <th>User-Rating</th>\n      <th>Reviews</th>\n      <th>Price</th>\n      <th>Year</th>\n      <th>Genre</th>\n    </tr>\n  </thead>\n  <tbody>\n    <tr>\n      <th>0</th>\n      <td>10-Day Green Smoothie Cleanse</td>\n      <td>JJ Smith</td>\n      <td>4.7</td>\n      <td>17350</td>\n      <td>8</td>\n      <td>2016</td>\n      <td>Non Fiction</td>\n    </tr>\n    <tr>\n      <th>1</th>\n      <td>11/22/63: A Novel</td>\n      <td>Stephen King</td>\n      <td>4.6</td>\n      <td>2052</td>\n      <td>22</td>\n      <td>2011</td>\n      <td>Fiction</td>\n    </tr>\n    <tr>\n      <th>2</th>\n      <td>12 Rules for Life: An Antidote to Chaos</td>\n      <td>Jordan B. Peterson</td>\n      <td>4.7</td>\n      <td>18979</td>\n      <td>15</td>\n      <td>2018</td>\n      <td>Non Fiction</td>\n    </tr>\n    <tr>\n      <th>3</th>\n      <td>1984 (Signet Classics)</td>\n      <td>George Orwell</td>\n      <td>4.7</td>\n      <td>21424</td>\n      <td>6</td>\n      <td>2017</td>\n      <td>Fiction</td>\n    </tr>\n    <tr>\n      <th>4</th>\n      <td>5,000 Awesome Facts (About Everything!) (Natio...</td>\n      <td>National Geographic Kids</td>\n      <td>4.8</td>\n      <td>7665</td>\n      <td>12</td>\n      <td>2019</td>\n      <td>Non Fiction</td>\n    </tr>\n    <tr>\n      <th>...</th>\n      <td>...</td>\n      <td>...</td>\n      <td>...</td>\n      <td>...</td>\n      <td>...</td>\n      <td>...</td>\n      <td>...</td>\n    </tr>\n    <tr>\n      <th>545</th>\n      <td>Wrecking Ball (Diary of a Wimpy Kid Book 14)</td>\n      <td>Jeff Kinney</td>\n      <td>4.9</td>\n      <td>9413</td>\n      <td>8</td>\n      <td>2019</td>\n      <td>Fiction</td>\n    </tr>\n    <tr>\n      <th>546</th>\n      <td>You Are a Badass: How to Stop Doubting Your Gr...</td>\n      <td>Jen Sincero</td>\n      <td>4.7</td>\n      <td>14331</td>\n      <td>8</td>\n      <td>2016</td>\n      <td>Non Fiction</td>\n    </tr>\n    <tr>\n      <th>547</th>\n      <td>You Are a Badass: How to Stop Doubting Your Gr...</td>\n      <td>Jen Sincero</td>\n      <td>4.7</td>\n      <td>14331</td>\n      <td>8</td>\n      <td>2017</td>\n      <td>Non Fiction</td>\n    </tr>\n    <tr>\n      <th>548</th>\n      <td>You Are a Badass: How to Stop Doubting Your Gr...</td>\n      <td>Jen Sincero</td>\n      <td>4.7</td>\n      <td>14331</td>\n      <td>8</td>\n      <td>2018</td>\n      <td>Non Fiction</td>\n    </tr>\n    <tr>\n      <th>549</th>\n      <td>You Are a Badass: How to Stop Doubting Your Gr...</td>\n      <td>Jen Sincero</td>\n      <td>4.7</td>\n      <td>14331</td>\n      <td>8</td>\n      <td>2019</td>\n      <td>Non Fiction</td>\n    </tr>\n  </tbody>\n</table>\n<p>550 rows × 7 columns</p>\n</div>"
     },
     "metadata": {}
    }
   ]
  },
  {
   "cell_type": "code",
   "metadata": {
    "cell_id": "b2888c6c150742f68b2883062e18cbe2",
    "tags": [],
    "deepnote_to_be_reexecuted": false,
    "source_hash": "3af66e7a",
    "execution_start": 1654354290304,
    "execution_millis": 465,
    "deepnote_cell_type": "code",
    "deepnote_cell_height": 395
   },
   "source": "df_books.head()",
   "execution_count": null,
   "outputs": [
    {
     "output_type": "execute_result",
     "execution_count": 4,
     "data": {
      "application/vnd.deepnote.dataframe.v3+json": {
       "column_count": 7,
       "row_count": 5,
       "columns": [
        {
         "name": "Name",
         "dtype": "object",
         "stats": {
          "unique_count": 5,
          "nan_count": 0,
          "categories": [
           {
            "name": "10-Day Green Smoothie Cleanse",
            "count": 1
           },
           {
            "name": "11/22/63: A Novel",
            "count": 1
           },
           {
            "name": "3 others",
            "count": 3
           }
          ]
         }
        },
        {
         "name": "Author",
         "dtype": "object",
         "stats": {
          "unique_count": 5,
          "nan_count": 0,
          "categories": [
           {
            "name": "JJ Smith",
            "count": 1
           },
           {
            "name": "Stephen King",
            "count": 1
           },
           {
            "name": "3 others",
            "count": 3
           }
          ]
         }
        },
        {
         "name": "User-Rating",
         "dtype": "float64",
         "stats": {
          "unique_count": 3,
          "nan_count": 0,
          "min": "4.6",
          "max": "4.8",
          "histogram": [
           {
            "bin_start": 4.6,
            "bin_end": 4.619999999999999,
            "count": 1
           },
           {
            "bin_start": 4.619999999999999,
            "bin_end": 4.64,
            "count": 0
           },
           {
            "bin_start": 4.64,
            "bin_end": 4.66,
            "count": 0
           },
           {
            "bin_start": 4.66,
            "bin_end": 4.68,
            "count": 0
           },
           {
            "bin_start": 4.68,
            "bin_end": 4.699999999999999,
            "count": 0
           },
           {
            "bin_start": 4.699999999999999,
            "bin_end": 4.72,
            "count": 3
           },
           {
            "bin_start": 4.72,
            "bin_end": 4.74,
            "count": 0
           },
           {
            "bin_start": 4.74,
            "bin_end": 4.76,
            "count": 0
           },
           {
            "bin_start": 4.76,
            "bin_end": 4.779999999999999,
            "count": 0
           },
           {
            "bin_start": 4.779999999999999,
            "bin_end": 4.8,
            "count": 1
           }
          ]
         }
        },
        {
         "name": "Reviews",
         "dtype": "int64",
         "stats": {
          "unique_count": 5,
          "nan_count": 0,
          "min": "2052",
          "max": "21424",
          "histogram": [
           {
            "bin_start": 2052,
            "bin_end": 3989.2,
            "count": 1
           },
           {
            "bin_start": 3989.2,
            "bin_end": 5926.4,
            "count": 0
           },
           {
            "bin_start": 5926.4,
            "bin_end": 7863.6,
            "count": 1
           },
           {
            "bin_start": 7863.6,
            "bin_end": 9800.8,
            "count": 0
           },
           {
            "bin_start": 9800.8,
            "bin_end": 11738,
            "count": 0
           },
           {
            "bin_start": 11738,
            "bin_end": 13675.2,
            "count": 0
           },
           {
            "bin_start": 13675.2,
            "bin_end": 15612.4,
            "count": 0
           },
           {
            "bin_start": 15612.4,
            "bin_end": 17549.6,
            "count": 1
           },
           {
            "bin_start": 17549.6,
            "bin_end": 19486.8,
            "count": 1
           },
           {
            "bin_start": 19486.8,
            "bin_end": 21424,
            "count": 1
           }
          ]
         }
        },
        {
         "name": "Price",
         "dtype": "int64",
         "stats": {
          "unique_count": 5,
          "nan_count": 0,
          "min": "6",
          "max": "22",
          "histogram": [
           {
            "bin_start": 6,
            "bin_end": 7.6,
            "count": 1
           },
           {
            "bin_start": 7.6,
            "bin_end": 9.2,
            "count": 1
           },
           {
            "bin_start": 9.2,
            "bin_end": 10.8,
            "count": 0
           },
           {
            "bin_start": 10.8,
            "bin_end": 12.4,
            "count": 1
           },
           {
            "bin_start": 12.4,
            "bin_end": 14,
            "count": 0
           },
           {
            "bin_start": 14,
            "bin_end": 15.600000000000001,
            "count": 1
           },
           {
            "bin_start": 15.600000000000001,
            "bin_end": 17.200000000000003,
            "count": 0
           },
           {
            "bin_start": 17.200000000000003,
            "bin_end": 18.8,
            "count": 0
           },
           {
            "bin_start": 18.8,
            "bin_end": 20.4,
            "count": 0
           },
           {
            "bin_start": 20.4,
            "bin_end": 22,
            "count": 1
           }
          ]
         }
        },
        {
         "name": "Year",
         "dtype": "int64",
         "stats": {
          "unique_count": 5,
          "nan_count": 0,
          "min": "2011",
          "max": "2019",
          "histogram": [
           {
            "bin_start": 2011,
            "bin_end": 2011.8,
            "count": 1
           },
           {
            "bin_start": 2011.8,
            "bin_end": 2012.6,
            "count": 0
           },
           {
            "bin_start": 2012.6,
            "bin_end": 2013.4,
            "count": 0
           },
           {
            "bin_start": 2013.4,
            "bin_end": 2014.2,
            "count": 0
           },
           {
            "bin_start": 2014.2,
            "bin_end": 2015,
            "count": 0
           },
           {
            "bin_start": 2015,
            "bin_end": 2015.8,
            "count": 0
           },
           {
            "bin_start": 2015.8,
            "bin_end": 2016.6,
            "count": 1
           },
           {
            "bin_start": 2016.6,
            "bin_end": 2017.4,
            "count": 1
           },
           {
            "bin_start": 2017.4,
            "bin_end": 2018.2,
            "count": 1
           },
           {
            "bin_start": 2018.2,
            "bin_end": 2019,
            "count": 1
           }
          ]
         }
        },
        {
         "name": "Genre",
         "dtype": "object",
         "stats": {
          "unique_count": 2,
          "nan_count": 0,
          "categories": [
           {
            "name": "Non Fiction",
            "count": 3
           },
           {
            "name": "Fiction",
            "count": 2
           }
          ]
         }
        },
        {
         "name": "_deepnote_index_column",
         "dtype": "int64"
        }
       ],
       "rows": [
        {
         "Name": "10-Day Green Smoothie Cleanse",
         "Author": "JJ Smith",
         "User-Rating": 4.7,
         "Reviews": 17350,
         "Price": 8,
         "Year": 2016,
         "Genre": "Non Fiction",
         "_deepnote_index_column": 0
        },
        {
         "Name": "11/22/63: A Novel",
         "Author": "Stephen King",
         "User-Rating": 4.6,
         "Reviews": 2052,
         "Price": 22,
         "Year": 2011,
         "Genre": "Fiction",
         "_deepnote_index_column": 1
        },
        {
         "Name": "12 Rules for Life: An Antidote to Chaos",
         "Author": "Jordan B. Peterson",
         "User-Rating": 4.7,
         "Reviews": 18979,
         "Price": 15,
         "Year": 2018,
         "Genre": "Non Fiction",
         "_deepnote_index_column": 2
        },
        {
         "Name": "1984 (Signet Classics)",
         "Author": "George Orwell",
         "User-Rating": 4.7,
         "Reviews": 21424,
         "Price": 6,
         "Year": 2017,
         "Genre": "Fiction",
         "_deepnote_index_column": 3
        },
        {
         "Name": "5,000 Awesome Facts (About Everything!) (National Geographic Kids)",
         "Author": "National Geographic Kids",
         "User-Rating": 4.8,
         "Reviews": 7665,
         "Price": 12,
         "Year": 2019,
         "Genre": "Non Fiction",
         "_deepnote_index_column": 4
        }
       ]
      },
      "text/plain": "                                                Name  \\\n0                      10-Day Green Smoothie Cleanse   \n1                                  11/22/63: A Novel   \n2            12 Rules for Life: An Antidote to Chaos   \n3                             1984 (Signet Classics)   \n4  5,000 Awesome Facts (About Everything!) (Natio...   \n\n                     Author  User-Rating  Reviews  Price  Year        Genre  \n0                  JJ Smith          4.7    17350      8  2016  Non Fiction  \n1              Stephen King          4.6     2052     22  2011      Fiction  \n2        Jordan B. Peterson          4.7    18979     15  2018  Non Fiction  \n3             George Orwell          4.7    21424      6  2017      Fiction  \n4  National Geographic Kids          4.8     7665     12  2019  Non Fiction  ",
      "text/html": "<div>\n<style scoped>\n    .dataframe tbody tr th:only-of-type {\n        vertical-align: middle;\n    }\n\n    .dataframe tbody tr th {\n        vertical-align: top;\n    }\n\n    .dataframe thead th {\n        text-align: right;\n    }\n</style>\n<table border=\"1\" class=\"dataframe\">\n  <thead>\n    <tr style=\"text-align: right;\">\n      <th></th>\n      <th>Name</th>\n      <th>Author</th>\n      <th>User-Rating</th>\n      <th>Reviews</th>\n      <th>Price</th>\n      <th>Year</th>\n      <th>Genre</th>\n    </tr>\n  </thead>\n  <tbody>\n    <tr>\n      <th>0</th>\n      <td>10-Day Green Smoothie Cleanse</td>\n      <td>JJ Smith</td>\n      <td>4.7</td>\n      <td>17350</td>\n      <td>8</td>\n      <td>2016</td>\n      <td>Non Fiction</td>\n    </tr>\n    <tr>\n      <th>1</th>\n      <td>11/22/63: A Novel</td>\n      <td>Stephen King</td>\n      <td>4.6</td>\n      <td>2052</td>\n      <td>22</td>\n      <td>2011</td>\n      <td>Fiction</td>\n    </tr>\n    <tr>\n      <th>2</th>\n      <td>12 Rules for Life: An Antidote to Chaos</td>\n      <td>Jordan B. Peterson</td>\n      <td>4.7</td>\n      <td>18979</td>\n      <td>15</td>\n      <td>2018</td>\n      <td>Non Fiction</td>\n    </tr>\n    <tr>\n      <th>3</th>\n      <td>1984 (Signet Classics)</td>\n      <td>George Orwell</td>\n      <td>4.7</td>\n      <td>21424</td>\n      <td>6</td>\n      <td>2017</td>\n      <td>Fiction</td>\n    </tr>\n    <tr>\n      <th>4</th>\n      <td>5,000 Awesome Facts (About Everything!) (Natio...</td>\n      <td>National Geographic Kids</td>\n      <td>4.8</td>\n      <td>7665</td>\n      <td>12</td>\n      <td>2019</td>\n      <td>Non Fiction</td>\n    </tr>\n  </tbody>\n</table>\n</div>"
     },
     "metadata": {}
    }
   ]
  },
  {
   "cell_type": "markdown",
   "source": "## Drop Columns - Borrar Columnas",
   "metadata": {
    "cell_id": "00ba644b9b094efc8347d7b0e1e936fc",
    "tags": [],
    "deepnote_cell_type": "markdown",
    "deepnote_cell_height": 70
   }
  },
  {
   "cell_type": "code",
   "metadata": {
    "cell_id": "9e73817ce22840b29e70d982db66096c",
    "tags": [],
    "deepnote_to_be_reexecuted": false,
    "source_hash": "8dd8f909",
    "execution_start": 1654354290340,
    "execution_millis": 436,
    "deepnote_cell_type": "code",
    "deepnote_cell_height": 272
   },
   "source": "df_books.drop('Genre', axis=1).head(2)",
   "execution_count": null,
   "outputs": [
    {
     "output_type": "execute_result",
     "execution_count": 5,
     "data": {
      "application/vnd.deepnote.dataframe.v3+json": {
       "column_count": 6,
       "row_count": 2,
       "columns": [
        {
         "name": "Name",
         "dtype": "object",
         "stats": {
          "unique_count": 2,
          "nan_count": 0,
          "categories": [
           {
            "name": "10-Day Green Smoothie Cleanse",
            "count": 1
           },
           {
            "name": "11/22/63: A Novel",
            "count": 1
           }
          ]
         }
        },
        {
         "name": "Author",
         "dtype": "object",
         "stats": {
          "unique_count": 2,
          "nan_count": 0,
          "categories": [
           {
            "name": "JJ Smith",
            "count": 1
           },
           {
            "name": "Stephen King",
            "count": 1
           }
          ]
         }
        },
        {
         "name": "User-Rating",
         "dtype": "float64",
         "stats": {
          "unique_count": 2,
          "nan_count": 0,
          "min": "4.6",
          "max": "4.7",
          "histogram": [
           {
            "bin_start": 4.6,
            "bin_end": 4.609999999999999,
            "count": 1
           },
           {
            "bin_start": 4.609999999999999,
            "bin_end": 4.62,
            "count": 0
           },
           {
            "bin_start": 4.62,
            "bin_end": 4.63,
            "count": 0
           },
           {
            "bin_start": 4.63,
            "bin_end": 4.64,
            "count": 0
           },
           {
            "bin_start": 4.64,
            "bin_end": 4.65,
            "count": 0
           },
           {
            "bin_start": 4.65,
            "bin_end": 4.66,
            "count": 0
           },
           {
            "bin_start": 4.66,
            "bin_end": 4.67,
            "count": 0
           },
           {
            "bin_start": 4.67,
            "bin_end": 4.68,
            "count": 0
           },
           {
            "bin_start": 4.68,
            "bin_end": 4.69,
            "count": 0
           },
           {
            "bin_start": 4.69,
            "bin_end": 4.7,
            "count": 1
           }
          ]
         }
        },
        {
         "name": "Reviews",
         "dtype": "int64",
         "stats": {
          "unique_count": 2,
          "nan_count": 0,
          "min": "2052",
          "max": "17350",
          "histogram": [
           {
            "bin_start": 2052,
            "bin_end": 3581.8,
            "count": 1
           },
           {
            "bin_start": 3581.8,
            "bin_end": 5111.6,
            "count": 0
           },
           {
            "bin_start": 5111.6,
            "bin_end": 6641.4,
            "count": 0
           },
           {
            "bin_start": 6641.4,
            "bin_end": 8171.2,
            "count": 0
           },
           {
            "bin_start": 8171.2,
            "bin_end": 9701,
            "count": 0
           },
           {
            "bin_start": 9701,
            "bin_end": 11230.8,
            "count": 0
           },
           {
            "bin_start": 11230.8,
            "bin_end": 12760.6,
            "count": 0
           },
           {
            "bin_start": 12760.6,
            "bin_end": 14290.4,
            "count": 0
           },
           {
            "bin_start": 14290.4,
            "bin_end": 15820.199999999999,
            "count": 0
           },
           {
            "bin_start": 15820.199999999999,
            "bin_end": 17350,
            "count": 1
           }
          ]
         }
        },
        {
         "name": "Price",
         "dtype": "int64",
         "stats": {
          "unique_count": 2,
          "nan_count": 0,
          "min": "8",
          "max": "22",
          "histogram": [
           {
            "bin_start": 8,
            "bin_end": 9.4,
            "count": 1
           },
           {
            "bin_start": 9.4,
            "bin_end": 10.8,
            "count": 0
           },
           {
            "bin_start": 10.8,
            "bin_end": 12.2,
            "count": 0
           },
           {
            "bin_start": 12.2,
            "bin_end": 13.6,
            "count": 0
           },
           {
            "bin_start": 13.6,
            "bin_end": 15,
            "count": 0
           },
           {
            "bin_start": 15,
            "bin_end": 16.4,
            "count": 0
           },
           {
            "bin_start": 16.4,
            "bin_end": 17.799999999999997,
            "count": 0
           },
           {
            "bin_start": 17.799999999999997,
            "bin_end": 19.2,
            "count": 0
           },
           {
            "bin_start": 19.2,
            "bin_end": 20.6,
            "count": 0
           },
           {
            "bin_start": 20.6,
            "bin_end": 22,
            "count": 1
           }
          ]
         }
        },
        {
         "name": "Year",
         "dtype": "int64",
         "stats": {
          "unique_count": 2,
          "nan_count": 0,
          "min": "2011",
          "max": "2016",
          "histogram": [
           {
            "bin_start": 2011,
            "bin_end": 2011.5,
            "count": 1
           },
           {
            "bin_start": 2011.5,
            "bin_end": 2012,
            "count": 0
           },
           {
            "bin_start": 2012,
            "bin_end": 2012.5,
            "count": 0
           },
           {
            "bin_start": 2012.5,
            "bin_end": 2013,
            "count": 0
           },
           {
            "bin_start": 2013,
            "bin_end": 2013.5,
            "count": 0
           },
           {
            "bin_start": 2013.5,
            "bin_end": 2014,
            "count": 0
           },
           {
            "bin_start": 2014,
            "bin_end": 2014.5,
            "count": 0
           },
           {
            "bin_start": 2014.5,
            "bin_end": 2015,
            "count": 0
           },
           {
            "bin_start": 2015,
            "bin_end": 2015.5,
            "count": 0
           },
           {
            "bin_start": 2015.5,
            "bin_end": 2016,
            "count": 1
           }
          ]
         }
        },
        {
         "name": "_deepnote_index_column",
         "dtype": "int64"
        }
       ],
       "rows": [
        {
         "Name": "10-Day Green Smoothie Cleanse",
         "Author": "JJ Smith",
         "User-Rating": 4.7,
         "Reviews": 17350,
         "Price": 8,
         "Year": 2016,
         "_deepnote_index_column": 0
        },
        {
         "Name": "11/22/63: A Novel",
         "Author": "Stephen King",
         "User-Rating": 4.6,
         "Reviews": 2052,
         "Price": 22,
         "Year": 2011,
         "_deepnote_index_column": 1
        }
       ]
      },
      "text/plain": "                            Name        Author  User-Rating  Reviews  Price  \\\n0  10-Day Green Smoothie Cleanse      JJ Smith          4.7    17350      8   \n1              11/22/63: A Novel  Stephen King          4.6     2052     22   \n\n   Year  \n0  2016  \n1  2011  ",
      "text/html": "<div>\n<style scoped>\n    .dataframe tbody tr th:only-of-type {\n        vertical-align: middle;\n    }\n\n    .dataframe tbody tr th {\n        vertical-align: top;\n    }\n\n    .dataframe thead th {\n        text-align: right;\n    }\n</style>\n<table border=\"1\" class=\"dataframe\">\n  <thead>\n    <tr style=\"text-align: right;\">\n      <th></th>\n      <th>Name</th>\n      <th>Author</th>\n      <th>User-Rating</th>\n      <th>Reviews</th>\n      <th>Price</th>\n      <th>Year</th>\n    </tr>\n  </thead>\n  <tbody>\n    <tr>\n      <th>0</th>\n      <td>10-Day Green Smoothie Cleanse</td>\n      <td>JJ Smith</td>\n      <td>4.7</td>\n      <td>17350</td>\n      <td>8</td>\n      <td>2016</td>\n    </tr>\n    <tr>\n      <th>1</th>\n      <td>11/22/63: A Novel</td>\n      <td>Stephen King</td>\n      <td>4.6</td>\n      <td>2052</td>\n      <td>22</td>\n      <td>2011</td>\n    </tr>\n  </tbody>\n</table>\n</div>"
     },
     "metadata": {}
    }
   ]
  },
  {
   "cell_type": "code",
   "metadata": {
    "cell_id": "a2385708881440f4b69c823237b7c5c8",
    "tags": [],
    "deepnote_to_be_reexecuted": false,
    "source_hash": "61bb7c78",
    "execution_start": 1654354290400,
    "execution_millis": 385,
    "deepnote_cell_type": "code",
    "deepnote_cell_height": 272
   },
   "source": "df_books.head(2)",
   "execution_count": null,
   "outputs": [
    {
     "output_type": "execute_result",
     "execution_count": 6,
     "data": {
      "application/vnd.deepnote.dataframe.v3+json": {
       "column_count": 7,
       "row_count": 2,
       "columns": [
        {
         "name": "Name",
         "dtype": "object",
         "stats": {
          "unique_count": 2,
          "nan_count": 0,
          "categories": [
           {
            "name": "10-Day Green Smoothie Cleanse",
            "count": 1
           },
           {
            "name": "11/22/63: A Novel",
            "count": 1
           }
          ]
         }
        },
        {
         "name": "Author",
         "dtype": "object",
         "stats": {
          "unique_count": 2,
          "nan_count": 0,
          "categories": [
           {
            "name": "JJ Smith",
            "count": 1
           },
           {
            "name": "Stephen King",
            "count": 1
           }
          ]
         }
        },
        {
         "name": "User-Rating",
         "dtype": "float64",
         "stats": {
          "unique_count": 2,
          "nan_count": 0,
          "min": "4.6",
          "max": "4.7",
          "histogram": [
           {
            "bin_start": 4.6,
            "bin_end": 4.609999999999999,
            "count": 1
           },
           {
            "bin_start": 4.609999999999999,
            "bin_end": 4.62,
            "count": 0
           },
           {
            "bin_start": 4.62,
            "bin_end": 4.63,
            "count": 0
           },
           {
            "bin_start": 4.63,
            "bin_end": 4.64,
            "count": 0
           },
           {
            "bin_start": 4.64,
            "bin_end": 4.65,
            "count": 0
           },
           {
            "bin_start": 4.65,
            "bin_end": 4.66,
            "count": 0
           },
           {
            "bin_start": 4.66,
            "bin_end": 4.67,
            "count": 0
           },
           {
            "bin_start": 4.67,
            "bin_end": 4.68,
            "count": 0
           },
           {
            "bin_start": 4.68,
            "bin_end": 4.69,
            "count": 0
           },
           {
            "bin_start": 4.69,
            "bin_end": 4.7,
            "count": 1
           }
          ]
         }
        },
        {
         "name": "Reviews",
         "dtype": "int64",
         "stats": {
          "unique_count": 2,
          "nan_count": 0,
          "min": "2052",
          "max": "17350",
          "histogram": [
           {
            "bin_start": 2052,
            "bin_end": 3581.8,
            "count": 1
           },
           {
            "bin_start": 3581.8,
            "bin_end": 5111.6,
            "count": 0
           },
           {
            "bin_start": 5111.6,
            "bin_end": 6641.4,
            "count": 0
           },
           {
            "bin_start": 6641.4,
            "bin_end": 8171.2,
            "count": 0
           },
           {
            "bin_start": 8171.2,
            "bin_end": 9701,
            "count": 0
           },
           {
            "bin_start": 9701,
            "bin_end": 11230.8,
            "count": 0
           },
           {
            "bin_start": 11230.8,
            "bin_end": 12760.6,
            "count": 0
           },
           {
            "bin_start": 12760.6,
            "bin_end": 14290.4,
            "count": 0
           },
           {
            "bin_start": 14290.4,
            "bin_end": 15820.199999999999,
            "count": 0
           },
           {
            "bin_start": 15820.199999999999,
            "bin_end": 17350,
            "count": 1
           }
          ]
         }
        },
        {
         "name": "Price",
         "dtype": "int64",
         "stats": {
          "unique_count": 2,
          "nan_count": 0,
          "min": "8",
          "max": "22",
          "histogram": [
           {
            "bin_start": 8,
            "bin_end": 9.4,
            "count": 1
           },
           {
            "bin_start": 9.4,
            "bin_end": 10.8,
            "count": 0
           },
           {
            "bin_start": 10.8,
            "bin_end": 12.2,
            "count": 0
           },
           {
            "bin_start": 12.2,
            "bin_end": 13.6,
            "count": 0
           },
           {
            "bin_start": 13.6,
            "bin_end": 15,
            "count": 0
           },
           {
            "bin_start": 15,
            "bin_end": 16.4,
            "count": 0
           },
           {
            "bin_start": 16.4,
            "bin_end": 17.799999999999997,
            "count": 0
           },
           {
            "bin_start": 17.799999999999997,
            "bin_end": 19.2,
            "count": 0
           },
           {
            "bin_start": 19.2,
            "bin_end": 20.6,
            "count": 0
           },
           {
            "bin_start": 20.6,
            "bin_end": 22,
            "count": 1
           }
          ]
         }
        },
        {
         "name": "Year",
         "dtype": "int64",
         "stats": {
          "unique_count": 2,
          "nan_count": 0,
          "min": "2011",
          "max": "2016",
          "histogram": [
           {
            "bin_start": 2011,
            "bin_end": 2011.5,
            "count": 1
           },
           {
            "bin_start": 2011.5,
            "bin_end": 2012,
            "count": 0
           },
           {
            "bin_start": 2012,
            "bin_end": 2012.5,
            "count": 0
           },
           {
            "bin_start": 2012.5,
            "bin_end": 2013,
            "count": 0
           },
           {
            "bin_start": 2013,
            "bin_end": 2013.5,
            "count": 0
           },
           {
            "bin_start": 2013.5,
            "bin_end": 2014,
            "count": 0
           },
           {
            "bin_start": 2014,
            "bin_end": 2014.5,
            "count": 0
           },
           {
            "bin_start": 2014.5,
            "bin_end": 2015,
            "count": 0
           },
           {
            "bin_start": 2015,
            "bin_end": 2015.5,
            "count": 0
           },
           {
            "bin_start": 2015.5,
            "bin_end": 2016,
            "count": 1
           }
          ]
         }
        },
        {
         "name": "Genre",
         "dtype": "object",
         "stats": {
          "unique_count": 2,
          "nan_count": 0,
          "categories": [
           {
            "name": "Non Fiction",
            "count": 1
           },
           {
            "name": "Fiction",
            "count": 1
           }
          ]
         }
        },
        {
         "name": "_deepnote_index_column",
         "dtype": "int64"
        }
       ],
       "rows": [
        {
         "Name": "10-Day Green Smoothie Cleanse",
         "Author": "JJ Smith",
         "User-Rating": 4.7,
         "Reviews": 17350,
         "Price": 8,
         "Year": 2016,
         "Genre": "Non Fiction",
         "_deepnote_index_column": 0
        },
        {
         "Name": "11/22/63: A Novel",
         "Author": "Stephen King",
         "User-Rating": 4.6,
         "Reviews": 2052,
         "Price": 22,
         "Year": 2011,
         "Genre": "Fiction",
         "_deepnote_index_column": 1
        }
       ]
      },
      "text/plain": "                            Name        Author  User-Rating  Reviews  Price  \\\n0  10-Day Green Smoothie Cleanse      JJ Smith          4.7    17350      8   \n1              11/22/63: A Novel  Stephen King          4.6     2052     22   \n\n   Year        Genre  \n0  2016  Non Fiction  \n1  2011      Fiction  ",
      "text/html": "<div>\n<style scoped>\n    .dataframe tbody tr th:only-of-type {\n        vertical-align: middle;\n    }\n\n    .dataframe tbody tr th {\n        vertical-align: top;\n    }\n\n    .dataframe thead th {\n        text-align: right;\n    }\n</style>\n<table border=\"1\" class=\"dataframe\">\n  <thead>\n    <tr style=\"text-align: right;\">\n      <th></th>\n      <th>Name</th>\n      <th>Author</th>\n      <th>User-Rating</th>\n      <th>Reviews</th>\n      <th>Price</th>\n      <th>Year</th>\n      <th>Genre</th>\n    </tr>\n  </thead>\n  <tbody>\n    <tr>\n      <th>0</th>\n      <td>10-Day Green Smoothie Cleanse</td>\n      <td>JJ Smith</td>\n      <td>4.7</td>\n      <td>17350</td>\n      <td>8</td>\n      <td>2016</td>\n      <td>Non Fiction</td>\n    </tr>\n    <tr>\n      <th>1</th>\n      <td>11/22/63: A Novel</td>\n      <td>Stephen King</td>\n      <td>4.6</td>\n      <td>2052</td>\n      <td>22</td>\n      <td>2011</td>\n      <td>Fiction</td>\n    </tr>\n  </tbody>\n</table>\n</div>"
     },
     "metadata": {}
    }
   ]
  },
  {
   "cell_type": "markdown",
   "source": "Para que el método drop tenga efecto en el dataframe se tiene que colocar el argumento `inplace=True` ",
   "metadata": {
    "cell_id": "601f68ac6f2944f9b7b2025bf855cb66",
    "tags": [],
    "deepnote_cell_type": "markdown",
    "deepnote_cell_height": 52.390625
   }
  },
  {
   "cell_type": "code",
   "metadata": {
    "cell_id": "5da07c45561f425b8a4a8e1641a4356b",
    "tags": [],
    "deepnote_to_be_reexecuted": false,
    "source_hash": "83a4a52c",
    "execution_start": 1654354290512,
    "execution_millis": 294,
    "deepnote_cell_type": "code",
    "deepnote_cell_height": 618
   },
   "source": "df_books.drop('Genre', axis=1, inplace=True)\ndf_books",
   "execution_count": null,
   "outputs": [
    {
     "output_type": "execute_result",
     "execution_count": 7,
     "data": {
      "application/vnd.deepnote.dataframe.v3+json": {
       "column_count": 6,
       "row_count": 550,
       "columns": [
        {
         "name": "Name",
         "dtype": "object",
         "stats": {
          "unique_count": 351,
          "nan_count": 0,
          "categories": [
           {
            "name": "Publication Manual of the American Psychological Association, 6th Edition",
            "count": 10
           },
           {
            "name": "StrengthsFinder 2.0",
            "count": 9
           },
           {
            "name": "349 others",
            "count": 531
           }
          ]
         }
        },
        {
         "name": "Author",
         "dtype": "object",
         "stats": {
          "unique_count": 248,
          "nan_count": 0,
          "categories": [
           {
            "name": "Jeff Kinney",
            "count": 12
           },
           {
            "name": "Suzanne Collins",
            "count": 11
           },
           {
            "name": "246 others",
            "count": 527
           }
          ]
         }
        },
        {
         "name": "User-Rating",
         "dtype": "float64",
         "stats": {
          "unique_count": 14,
          "nan_count": 0,
          "min": "3.3",
          "max": "4.9",
          "histogram": [
           {
            "bin_start": 3.3,
            "bin_end": 3.46,
            "count": 1
           },
           {
            "bin_start": 3.46,
            "bin_end": 3.62,
            "count": 1
           },
           {
            "bin_start": 3.62,
            "bin_end": 3.7800000000000002,
            "count": 0
           },
           {
            "bin_start": 3.7800000000000002,
            "bin_end": 3.94,
            "count": 5
           },
           {
            "bin_start": 3.94,
            "bin_end": 4.1,
            "count": 14
           },
           {
            "bin_start": 4.1,
            "bin_end": 4.26,
            "count": 14
           },
           {
            "bin_start": 4.26,
            "bin_end": 4.42,
            "count": 63
           },
           {
            "bin_start": 4.42,
            "bin_end": 4.58,
            "count": 60
           },
           {
            "bin_start": 4.58,
            "bin_end": 4.74,
            "count": 213
           },
           {
            "bin_start": 4.74,
            "bin_end": 4.9,
            "count": 179
           }
          ]
         }
        },
        {
         "name": "Reviews",
         "dtype": "int64",
         "stats": {
          "unique_count": 346,
          "nan_count": 0,
          "min": "37",
          "max": "87841",
          "histogram": [
           {
            "bin_start": 37,
            "bin_end": 8817.4,
            "count": 287
           },
           {
            "bin_start": 8817.4,
            "bin_end": 17597.8,
            "count": 131
           },
           {
            "bin_start": 17597.8,
            "bin_end": 26378.199999999997,
            "count": 87
           },
           {
            "bin_start": 26378.199999999997,
            "bin_end": 35158.6,
            "count": 25
           },
           {
            "bin_start": 35158.6,
            "bin_end": 43939,
            "count": 4
           },
           {
            "bin_start": 43939,
            "bin_end": 52719.399999999994,
            "count": 8
           },
           {
            "bin_start": 52719.399999999994,
            "bin_end": 61499.799999999996,
            "count": 5
           },
           {
            "bin_start": 61499.799999999996,
            "bin_end": 70280.2,
            "count": 0
           },
           {
            "bin_start": 70280.2,
            "bin_end": 79060.59999999999,
            "count": 0
           },
           {
            "bin_start": 79060.59999999999,
            "bin_end": 87841,
            "count": 3
           }
          ]
         }
        },
        {
         "name": "Price",
         "dtype": "int64",
         "stats": {
          "unique_count": 40,
          "nan_count": 0,
          "min": "0",
          "max": "105",
          "histogram": [
           {
            "bin_start": 0,
            "bin_end": 10.5,
            "count": 266
           },
           {
            "bin_start": 10.5,
            "bin_end": 21,
            "count": 216
           },
           {
            "bin_start": 21,
            "bin_end": 31.5,
            "count": 42
           },
           {
            "bin_start": 31.5,
            "bin_end": 42,
            "count": 9
           },
           {
            "bin_start": 42,
            "bin_end": 52.5,
            "count": 12
           },
           {
            "bin_start": 52.5,
            "bin_end": 63,
            "count": 2
           },
           {
            "bin_start": 63,
            "bin_end": 73.5,
            "count": 0
           },
           {
            "bin_start": 73.5,
            "bin_end": 84,
            "count": 1
           },
           {
            "bin_start": 84,
            "bin_end": 94.5,
            "count": 0
           },
           {
            "bin_start": 94.5,
            "bin_end": 105,
            "count": 2
           }
          ]
         }
        },
        {
         "name": "Year",
         "dtype": "int64",
         "stats": {
          "unique_count": 11,
          "nan_count": 0,
          "min": "2009",
          "max": "2019",
          "histogram": [
           {
            "bin_start": 2009,
            "bin_end": 2010,
            "count": 50
           },
           {
            "bin_start": 2010,
            "bin_end": 2011,
            "count": 50
           },
           {
            "bin_start": 2011,
            "bin_end": 2012,
            "count": 50
           },
           {
            "bin_start": 2012,
            "bin_end": 2013,
            "count": 50
           },
           {
            "bin_start": 2013,
            "bin_end": 2014,
            "count": 50
           },
           {
            "bin_start": 2014,
            "bin_end": 2015,
            "count": 50
           },
           {
            "bin_start": 2015,
            "bin_end": 2016,
            "count": 50
           },
           {
            "bin_start": 2016,
            "bin_end": 2017,
            "count": 50
           },
           {
            "bin_start": 2017,
            "bin_end": 2018,
            "count": 50
           },
           {
            "bin_start": 2018,
            "bin_end": 2019,
            "count": 100
           }
          ]
         }
        },
        {
         "name": "_deepnote_index_column",
         "dtype": "int64"
        }
       ],
       "rows": [
        {
         "Name": "10-Day Green Smoothie Cleanse",
         "Author": "JJ Smith",
         "User-Rating": 4.7,
         "Reviews": 17350,
         "Price": 8,
         "Year": 2016,
         "_deepnote_index_column": 0
        },
        {
         "Name": "11/22/63: A Novel",
         "Author": "Stephen King",
         "User-Rating": 4.6,
         "Reviews": 2052,
         "Price": 22,
         "Year": 2011,
         "_deepnote_index_column": 1
        },
        {
         "Name": "12 Rules for Life: An Antidote to Chaos",
         "Author": "Jordan B. Peterson",
         "User-Rating": 4.7,
         "Reviews": 18979,
         "Price": 15,
         "Year": 2018,
         "_deepnote_index_column": 2
        },
        {
         "Name": "1984 (Signet Classics)",
         "Author": "George Orwell",
         "User-Rating": 4.7,
         "Reviews": 21424,
         "Price": 6,
         "Year": 2017,
         "_deepnote_index_column": 3
        },
        {
         "Name": "5,000 Awesome Facts (About Everything!) (National Geographic Kids)",
         "Author": "National Geographic Kids",
         "User-Rating": 4.8,
         "Reviews": 7665,
         "Price": 12,
         "Year": 2019,
         "_deepnote_index_column": 4
        },
        {
         "Name": "A Dance with Dragons (A Song of Ice and Fire)",
         "Author": "George R. R. Martin",
         "User-Rating": 4.4,
         "Reviews": 12643,
         "Price": 11,
         "Year": 2011,
         "_deepnote_index_column": 5
        },
        {
         "Name": "A Game of Thrones / A Clash of Kings / A Storm of Swords / A Feast of Crows / A Dance with Dragons",
         "Author": "George R. R. Martin",
         "User-Rating": 4.7,
         "Reviews": 19735,
         "Price": 30,
         "Year": 2014,
         "_deepnote_index_column": 6
        },
        {
         "Name": "A Gentleman in Moscow: A Novel",
         "Author": "Amor Towles",
         "User-Rating": 4.7,
         "Reviews": 19699,
         "Price": 15,
         "Year": 2017,
         "_deepnote_index_column": 7
        },
        {
         "Name": "A Higher Loyalty: Truth, Lies, and Leadership",
         "Author": "James Comey",
         "User-Rating": 4.7,
         "Reviews": 5983,
         "Price": 3,
         "Year": 2018,
         "_deepnote_index_column": 8
        },
        {
         "Name": "A Man Called Ove: A Novel",
         "Author": "Fredrik Backman",
         "User-Rating": 4.6,
         "Reviews": 23848,
         "Price": 8,
         "Year": 2016,
         "_deepnote_index_column": 9
        }
       ]
      },
      "text/plain": "                                                  Name  \\\n0                        10-Day Green Smoothie Cleanse   \n1                                    11/22/63: A Novel   \n2              12 Rules for Life: An Antidote to Chaos   \n3                               1984 (Signet Classics)   \n4    5,000 Awesome Facts (About Everything!) (Natio...   \n..                                                 ...   \n545       Wrecking Ball (Diary of a Wimpy Kid Book 14)   \n546  You Are a Badass: How to Stop Doubting Your Gr...   \n547  You Are a Badass: How to Stop Doubting Your Gr...   \n548  You Are a Badass: How to Stop Doubting Your Gr...   \n549  You Are a Badass: How to Stop Doubting Your Gr...   \n\n                       Author  User-Rating  Reviews  Price  Year  \n0                    JJ Smith          4.7    17350      8  2016  \n1                Stephen King          4.6     2052     22  2011  \n2          Jordan B. Peterson          4.7    18979     15  2018  \n3               George Orwell          4.7    21424      6  2017  \n4    National Geographic Kids          4.8     7665     12  2019  \n..                        ...          ...      ...    ...   ...  \n545               Jeff Kinney          4.9     9413      8  2019  \n546               Jen Sincero          4.7    14331      8  2016  \n547               Jen Sincero          4.7    14331      8  2017  \n548               Jen Sincero          4.7    14331      8  2018  \n549               Jen Sincero          4.7    14331      8  2019  \n\n[550 rows x 6 columns]",
      "text/html": "<div>\n<style scoped>\n    .dataframe tbody tr th:only-of-type {\n        vertical-align: middle;\n    }\n\n    .dataframe tbody tr th {\n        vertical-align: top;\n    }\n\n    .dataframe thead th {\n        text-align: right;\n    }\n</style>\n<table border=\"1\" class=\"dataframe\">\n  <thead>\n    <tr style=\"text-align: right;\">\n      <th></th>\n      <th>Name</th>\n      <th>Author</th>\n      <th>User-Rating</th>\n      <th>Reviews</th>\n      <th>Price</th>\n      <th>Year</th>\n    </tr>\n  </thead>\n  <tbody>\n    <tr>\n      <th>0</th>\n      <td>10-Day Green Smoothie Cleanse</td>\n      <td>JJ Smith</td>\n      <td>4.7</td>\n      <td>17350</td>\n      <td>8</td>\n      <td>2016</td>\n    </tr>\n    <tr>\n      <th>1</th>\n      <td>11/22/63: A Novel</td>\n      <td>Stephen King</td>\n      <td>4.6</td>\n      <td>2052</td>\n      <td>22</td>\n      <td>2011</td>\n    </tr>\n    <tr>\n      <th>2</th>\n      <td>12 Rules for Life: An Antidote to Chaos</td>\n      <td>Jordan B. Peterson</td>\n      <td>4.7</td>\n      <td>18979</td>\n      <td>15</td>\n      <td>2018</td>\n    </tr>\n    <tr>\n      <th>3</th>\n      <td>1984 (Signet Classics)</td>\n      <td>George Orwell</td>\n      <td>4.7</td>\n      <td>21424</td>\n      <td>6</td>\n      <td>2017</td>\n    </tr>\n    <tr>\n      <th>4</th>\n      <td>5,000 Awesome Facts (About Everything!) (Natio...</td>\n      <td>National Geographic Kids</td>\n      <td>4.8</td>\n      <td>7665</td>\n      <td>12</td>\n      <td>2019</td>\n    </tr>\n    <tr>\n      <th>...</th>\n      <td>...</td>\n      <td>...</td>\n      <td>...</td>\n      <td>...</td>\n      <td>...</td>\n      <td>...</td>\n    </tr>\n    <tr>\n      <th>545</th>\n      <td>Wrecking Ball (Diary of a Wimpy Kid Book 14)</td>\n      <td>Jeff Kinney</td>\n      <td>4.9</td>\n      <td>9413</td>\n      <td>8</td>\n      <td>2019</td>\n    </tr>\n    <tr>\n      <th>546</th>\n      <td>You Are a Badass: How to Stop Doubting Your Gr...</td>\n      <td>Jen Sincero</td>\n      <td>4.7</td>\n      <td>14331</td>\n      <td>8</td>\n      <td>2016</td>\n    </tr>\n    <tr>\n      <th>547</th>\n      <td>You Are a Badass: How to Stop Doubting Your Gr...</td>\n      <td>Jen Sincero</td>\n      <td>4.7</td>\n      <td>14331</td>\n      <td>8</td>\n      <td>2017</td>\n    </tr>\n    <tr>\n      <th>548</th>\n      <td>You Are a Badass: How to Stop Doubting Your Gr...</td>\n      <td>Jen Sincero</td>\n      <td>4.7</td>\n      <td>14331</td>\n      <td>8</td>\n      <td>2018</td>\n    </tr>\n    <tr>\n      <th>549</th>\n      <td>You Are a Badass: How to Stop Doubting Your Gr...</td>\n      <td>Jen Sincero</td>\n      <td>4.7</td>\n      <td>14331</td>\n      <td>8</td>\n      <td>2019</td>\n    </tr>\n  </tbody>\n</table>\n<p>550 rows × 6 columns</p>\n</div>"
     },
     "metadata": {}
    }
   ]
  },
  {
   "cell_type": "markdown",
   "source": "Otra forma de borrar celdas sin usar el argumento `inplace` es de la siguiente manera",
   "metadata": {
    "cell_id": "a715217a30634532b0865c8e96c29123",
    "tags": [],
    "deepnote_cell_type": "markdown",
    "deepnote_cell_height": 52.390625
   }
  },
  {
   "cell_type": "code",
   "metadata": {
    "cell_id": "0836a98afa6d48d8a785a7f529291a97",
    "tags": [],
    "deepnote_to_be_reexecuted": false,
    "source_hash": "7228d4d7",
    "execution_start": 1654354290650,
    "execution_millis": 158,
    "deepnote_cell_type": "code",
    "deepnote_cell_height": 290
   },
   "source": "df_books = df_books.drop('Year', axis=1)\ndf_books.head(2)",
   "execution_count": null,
   "outputs": [
    {
     "output_type": "execute_result",
     "execution_count": 8,
     "data": {
      "application/vnd.deepnote.dataframe.v3+json": {
       "column_count": 5,
       "row_count": 2,
       "columns": [
        {
         "name": "Name",
         "dtype": "object",
         "stats": {
          "unique_count": 2,
          "nan_count": 0,
          "categories": [
           {
            "name": "10-Day Green Smoothie Cleanse",
            "count": 1
           },
           {
            "name": "11/22/63: A Novel",
            "count": 1
           }
          ]
         }
        },
        {
         "name": "Author",
         "dtype": "object",
         "stats": {
          "unique_count": 2,
          "nan_count": 0,
          "categories": [
           {
            "name": "JJ Smith",
            "count": 1
           },
           {
            "name": "Stephen King",
            "count": 1
           }
          ]
         }
        },
        {
         "name": "User-Rating",
         "dtype": "float64",
         "stats": {
          "unique_count": 2,
          "nan_count": 0,
          "min": "4.6",
          "max": "4.7",
          "histogram": [
           {
            "bin_start": 4.6,
            "bin_end": 4.609999999999999,
            "count": 1
           },
           {
            "bin_start": 4.609999999999999,
            "bin_end": 4.62,
            "count": 0
           },
           {
            "bin_start": 4.62,
            "bin_end": 4.63,
            "count": 0
           },
           {
            "bin_start": 4.63,
            "bin_end": 4.64,
            "count": 0
           },
           {
            "bin_start": 4.64,
            "bin_end": 4.65,
            "count": 0
           },
           {
            "bin_start": 4.65,
            "bin_end": 4.66,
            "count": 0
           },
           {
            "bin_start": 4.66,
            "bin_end": 4.67,
            "count": 0
           },
           {
            "bin_start": 4.67,
            "bin_end": 4.68,
            "count": 0
           },
           {
            "bin_start": 4.68,
            "bin_end": 4.69,
            "count": 0
           },
           {
            "bin_start": 4.69,
            "bin_end": 4.7,
            "count": 1
           }
          ]
         }
        },
        {
         "name": "Reviews",
         "dtype": "int64",
         "stats": {
          "unique_count": 2,
          "nan_count": 0,
          "min": "2052",
          "max": "17350",
          "histogram": [
           {
            "bin_start": 2052,
            "bin_end": 3581.8,
            "count": 1
           },
           {
            "bin_start": 3581.8,
            "bin_end": 5111.6,
            "count": 0
           },
           {
            "bin_start": 5111.6,
            "bin_end": 6641.4,
            "count": 0
           },
           {
            "bin_start": 6641.4,
            "bin_end": 8171.2,
            "count": 0
           },
           {
            "bin_start": 8171.2,
            "bin_end": 9701,
            "count": 0
           },
           {
            "bin_start": 9701,
            "bin_end": 11230.8,
            "count": 0
           },
           {
            "bin_start": 11230.8,
            "bin_end": 12760.6,
            "count": 0
           },
           {
            "bin_start": 12760.6,
            "bin_end": 14290.4,
            "count": 0
           },
           {
            "bin_start": 14290.4,
            "bin_end": 15820.199999999999,
            "count": 0
           },
           {
            "bin_start": 15820.199999999999,
            "bin_end": 17350,
            "count": 1
           }
          ]
         }
        },
        {
         "name": "Price",
         "dtype": "int64",
         "stats": {
          "unique_count": 2,
          "nan_count": 0,
          "min": "8",
          "max": "22",
          "histogram": [
           {
            "bin_start": 8,
            "bin_end": 9.4,
            "count": 1
           },
           {
            "bin_start": 9.4,
            "bin_end": 10.8,
            "count": 0
           },
           {
            "bin_start": 10.8,
            "bin_end": 12.2,
            "count": 0
           },
           {
            "bin_start": 12.2,
            "bin_end": 13.6,
            "count": 0
           },
           {
            "bin_start": 13.6,
            "bin_end": 15,
            "count": 0
           },
           {
            "bin_start": 15,
            "bin_end": 16.4,
            "count": 0
           },
           {
            "bin_start": 16.4,
            "bin_end": 17.799999999999997,
            "count": 0
           },
           {
            "bin_start": 17.799999999999997,
            "bin_end": 19.2,
            "count": 0
           },
           {
            "bin_start": 19.2,
            "bin_end": 20.6,
            "count": 0
           },
           {
            "bin_start": 20.6,
            "bin_end": 22,
            "count": 1
           }
          ]
         }
        },
        {
         "name": "_deepnote_index_column",
         "dtype": "int64"
        }
       ],
       "rows": [
        {
         "Name": "10-Day Green Smoothie Cleanse",
         "Author": "JJ Smith",
         "User-Rating": 4.7,
         "Reviews": 17350,
         "Price": 8,
         "_deepnote_index_column": 0
        },
        {
         "Name": "11/22/63: A Novel",
         "Author": "Stephen King",
         "User-Rating": 4.6,
         "Reviews": 2052,
         "Price": 22,
         "_deepnote_index_column": 1
        }
       ]
      },
      "text/plain": "                            Name        Author  User-Rating  Reviews  Price\n0  10-Day Green Smoothie Cleanse      JJ Smith          4.7    17350      8\n1              11/22/63: A Novel  Stephen King          4.6     2052     22",
      "text/html": "<div>\n<style scoped>\n    .dataframe tbody tr th:only-of-type {\n        vertical-align: middle;\n    }\n\n    .dataframe tbody tr th {\n        vertical-align: top;\n    }\n\n    .dataframe thead th {\n        text-align: right;\n    }\n</style>\n<table border=\"1\" class=\"dataframe\">\n  <thead>\n    <tr style=\"text-align: right;\">\n      <th></th>\n      <th>Name</th>\n      <th>Author</th>\n      <th>User-Rating</th>\n      <th>Reviews</th>\n      <th>Price</th>\n    </tr>\n  </thead>\n  <tbody>\n    <tr>\n      <th>0</th>\n      <td>10-Day Green Smoothie Cleanse</td>\n      <td>JJ Smith</td>\n      <td>4.7</td>\n      <td>17350</td>\n      <td>8</td>\n    </tr>\n    <tr>\n      <th>1</th>\n      <td>11/22/63: A Novel</td>\n      <td>Stephen King</td>\n      <td>4.6</td>\n      <td>2052</td>\n      <td>22</td>\n    </tr>\n  </tbody>\n</table>\n</div>"
     },
     "metadata": {}
    }
   ]
  },
  {
   "cell_type": "code",
   "metadata": {
    "cell_id": "77256377aea64c57a2596ae9b7b89b76",
    "tags": [],
    "deepnote_to_be_reexecuted": false,
    "source_hash": "3dc12a99",
    "execution_start": 1654354290651,
    "execution_millis": 158,
    "deepnote_cell_type": "code",
    "deepnote_cell_height": 618
   },
   "source": "del df_books['Price']\ndf_books",
   "execution_count": null,
   "outputs": [
    {
     "output_type": "execute_result",
     "execution_count": 9,
     "data": {
      "application/vnd.deepnote.dataframe.v3+json": {
       "column_count": 4,
       "row_count": 550,
       "columns": [
        {
         "name": "Name",
         "dtype": "object",
         "stats": {
          "unique_count": 351,
          "nan_count": 0,
          "categories": [
           {
            "name": "Publication Manual of the American Psychological Association, 6th Edition",
            "count": 10
           },
           {
            "name": "StrengthsFinder 2.0",
            "count": 9
           },
           {
            "name": "349 others",
            "count": 531
           }
          ]
         }
        },
        {
         "name": "Author",
         "dtype": "object",
         "stats": {
          "unique_count": 248,
          "nan_count": 0,
          "categories": [
           {
            "name": "Jeff Kinney",
            "count": 12
           },
           {
            "name": "Suzanne Collins",
            "count": 11
           },
           {
            "name": "246 others",
            "count": 527
           }
          ]
         }
        },
        {
         "name": "User-Rating",
         "dtype": "float64",
         "stats": {
          "unique_count": 14,
          "nan_count": 0,
          "min": "3.3",
          "max": "4.9",
          "histogram": [
           {
            "bin_start": 3.3,
            "bin_end": 3.46,
            "count": 1
           },
           {
            "bin_start": 3.46,
            "bin_end": 3.62,
            "count": 1
           },
           {
            "bin_start": 3.62,
            "bin_end": 3.7800000000000002,
            "count": 0
           },
           {
            "bin_start": 3.7800000000000002,
            "bin_end": 3.94,
            "count": 5
           },
           {
            "bin_start": 3.94,
            "bin_end": 4.1,
            "count": 14
           },
           {
            "bin_start": 4.1,
            "bin_end": 4.26,
            "count": 14
           },
           {
            "bin_start": 4.26,
            "bin_end": 4.42,
            "count": 63
           },
           {
            "bin_start": 4.42,
            "bin_end": 4.58,
            "count": 60
           },
           {
            "bin_start": 4.58,
            "bin_end": 4.74,
            "count": 213
           },
           {
            "bin_start": 4.74,
            "bin_end": 4.9,
            "count": 179
           }
          ]
         }
        },
        {
         "name": "Reviews",
         "dtype": "int64",
         "stats": {
          "unique_count": 346,
          "nan_count": 0,
          "min": "37",
          "max": "87841",
          "histogram": [
           {
            "bin_start": 37,
            "bin_end": 8817.4,
            "count": 287
           },
           {
            "bin_start": 8817.4,
            "bin_end": 17597.8,
            "count": 131
           },
           {
            "bin_start": 17597.8,
            "bin_end": 26378.199999999997,
            "count": 87
           },
           {
            "bin_start": 26378.199999999997,
            "bin_end": 35158.6,
            "count": 25
           },
           {
            "bin_start": 35158.6,
            "bin_end": 43939,
            "count": 4
           },
           {
            "bin_start": 43939,
            "bin_end": 52719.399999999994,
            "count": 8
           },
           {
            "bin_start": 52719.399999999994,
            "bin_end": 61499.799999999996,
            "count": 5
           },
           {
            "bin_start": 61499.799999999996,
            "bin_end": 70280.2,
            "count": 0
           },
           {
            "bin_start": 70280.2,
            "bin_end": 79060.59999999999,
            "count": 0
           },
           {
            "bin_start": 79060.59999999999,
            "bin_end": 87841,
            "count": 3
           }
          ]
         }
        },
        {
         "name": "_deepnote_index_column",
         "dtype": "int64"
        }
       ],
       "rows": [
        {
         "Name": "10-Day Green Smoothie Cleanse",
         "Author": "JJ Smith",
         "User-Rating": 4.7,
         "Reviews": 17350,
         "_deepnote_index_column": 0
        },
        {
         "Name": "11/22/63: A Novel",
         "Author": "Stephen King",
         "User-Rating": 4.6,
         "Reviews": 2052,
         "_deepnote_index_column": 1
        },
        {
         "Name": "12 Rules for Life: An Antidote to Chaos",
         "Author": "Jordan B. Peterson",
         "User-Rating": 4.7,
         "Reviews": 18979,
         "_deepnote_index_column": 2
        },
        {
         "Name": "1984 (Signet Classics)",
         "Author": "George Orwell",
         "User-Rating": 4.7,
         "Reviews": 21424,
         "_deepnote_index_column": 3
        },
        {
         "Name": "5,000 Awesome Facts (About Everything!) (National Geographic Kids)",
         "Author": "National Geographic Kids",
         "User-Rating": 4.8,
         "Reviews": 7665,
         "_deepnote_index_column": 4
        },
        {
         "Name": "A Dance with Dragons (A Song of Ice and Fire)",
         "Author": "George R. R. Martin",
         "User-Rating": 4.4,
         "Reviews": 12643,
         "_deepnote_index_column": 5
        },
        {
         "Name": "A Game of Thrones / A Clash of Kings / A Storm of Swords / A Feast of Crows / A Dance with Dragons",
         "Author": "George R. R. Martin",
         "User-Rating": 4.7,
         "Reviews": 19735,
         "_deepnote_index_column": 6
        },
        {
         "Name": "A Gentleman in Moscow: A Novel",
         "Author": "Amor Towles",
         "User-Rating": 4.7,
         "Reviews": 19699,
         "_deepnote_index_column": 7
        },
        {
         "Name": "A Higher Loyalty: Truth, Lies, and Leadership",
         "Author": "James Comey",
         "User-Rating": 4.7,
         "Reviews": 5983,
         "_deepnote_index_column": 8
        },
        {
         "Name": "A Man Called Ove: A Novel",
         "Author": "Fredrik Backman",
         "User-Rating": 4.6,
         "Reviews": 23848,
         "_deepnote_index_column": 9
        }
       ]
      },
      "text/plain": "                                                  Name  \\\n0                        10-Day Green Smoothie Cleanse   \n1                                    11/22/63: A Novel   \n2              12 Rules for Life: An Antidote to Chaos   \n3                               1984 (Signet Classics)   \n4    5,000 Awesome Facts (About Everything!) (Natio...   \n..                                                 ...   \n545       Wrecking Ball (Diary of a Wimpy Kid Book 14)   \n546  You Are a Badass: How to Stop Doubting Your Gr...   \n547  You Are a Badass: How to Stop Doubting Your Gr...   \n548  You Are a Badass: How to Stop Doubting Your Gr...   \n549  You Are a Badass: How to Stop Doubting Your Gr...   \n\n                       Author  User-Rating  Reviews  \n0                    JJ Smith          4.7    17350  \n1                Stephen King          4.6     2052  \n2          Jordan B. Peterson          4.7    18979  \n3               George Orwell          4.7    21424  \n4    National Geographic Kids          4.8     7665  \n..                        ...          ...      ...  \n545               Jeff Kinney          4.9     9413  \n546               Jen Sincero          4.7    14331  \n547               Jen Sincero          4.7    14331  \n548               Jen Sincero          4.7    14331  \n549               Jen Sincero          4.7    14331  \n\n[550 rows x 4 columns]",
      "text/html": "<div>\n<style scoped>\n    .dataframe tbody tr th:only-of-type {\n        vertical-align: middle;\n    }\n\n    .dataframe tbody tr th {\n        vertical-align: top;\n    }\n\n    .dataframe thead th {\n        text-align: right;\n    }\n</style>\n<table border=\"1\" class=\"dataframe\">\n  <thead>\n    <tr style=\"text-align: right;\">\n      <th></th>\n      <th>Name</th>\n      <th>Author</th>\n      <th>User-Rating</th>\n      <th>Reviews</th>\n    </tr>\n  </thead>\n  <tbody>\n    <tr>\n      <th>0</th>\n      <td>10-Day Green Smoothie Cleanse</td>\n      <td>JJ Smith</td>\n      <td>4.7</td>\n      <td>17350</td>\n    </tr>\n    <tr>\n      <th>1</th>\n      <td>11/22/63: A Novel</td>\n      <td>Stephen King</td>\n      <td>4.6</td>\n      <td>2052</td>\n    </tr>\n    <tr>\n      <th>2</th>\n      <td>12 Rules for Life: An Antidote to Chaos</td>\n      <td>Jordan B. Peterson</td>\n      <td>4.7</td>\n      <td>18979</td>\n    </tr>\n    <tr>\n      <th>3</th>\n      <td>1984 (Signet Classics)</td>\n      <td>George Orwell</td>\n      <td>4.7</td>\n      <td>21424</td>\n    </tr>\n    <tr>\n      <th>4</th>\n      <td>5,000 Awesome Facts (About Everything!) (Natio...</td>\n      <td>National Geographic Kids</td>\n      <td>4.8</td>\n      <td>7665</td>\n    </tr>\n    <tr>\n      <th>...</th>\n      <td>...</td>\n      <td>...</td>\n      <td>...</td>\n      <td>...</td>\n    </tr>\n    <tr>\n      <th>545</th>\n      <td>Wrecking Ball (Diary of a Wimpy Kid Book 14)</td>\n      <td>Jeff Kinney</td>\n      <td>4.9</td>\n      <td>9413</td>\n    </tr>\n    <tr>\n      <th>546</th>\n      <td>You Are a Badass: How to Stop Doubting Your Gr...</td>\n      <td>Jen Sincero</td>\n      <td>4.7</td>\n      <td>14331</td>\n    </tr>\n    <tr>\n      <th>547</th>\n      <td>You Are a Badass: How to Stop Doubting Your Gr...</td>\n      <td>Jen Sincero</td>\n      <td>4.7</td>\n      <td>14331</td>\n    </tr>\n    <tr>\n      <th>548</th>\n      <td>You Are a Badass: How to Stop Doubting Your Gr...</td>\n      <td>Jen Sincero</td>\n      <td>4.7</td>\n      <td>14331</td>\n    </tr>\n    <tr>\n      <th>549</th>\n      <td>You Are a Badass: How to Stop Doubting Your Gr...</td>\n      <td>Jen Sincero</td>\n      <td>4.7</td>\n      <td>14331</td>\n    </tr>\n  </tbody>\n</table>\n<p>550 rows × 4 columns</p>\n</div>"
     },
     "metadata": {}
    }
   ]
  },
  {
   "cell_type": "markdown",
   "source": "Drop Rows - Borrar Filas",
   "metadata": {
    "cell_id": "49ea1dab198b4eabb90e52b1779d06f8",
    "tags": [],
    "deepnote_cell_type": "markdown",
    "deepnote_cell_height": 52.390625
   }
  },
  {
   "cell_type": "code",
   "metadata": {
    "cell_id": "4c5073f9da0447b0bcf6364870ad7aea",
    "tags": [],
    "deepnote_to_be_reexecuted": false,
    "source_hash": "3af66e7a",
    "execution_start": 1654354290694,
    "execution_millis": 116,
    "deepnote_cell_type": "code",
    "deepnote_cell_height": 395
   },
   "source": "df_books.head()",
   "execution_count": null,
   "outputs": [
    {
     "output_type": "execute_result",
     "execution_count": 10,
     "data": {
      "application/vnd.deepnote.dataframe.v3+json": {
       "column_count": 4,
       "row_count": 5,
       "columns": [
        {
         "name": "Name",
         "dtype": "object",
         "stats": {
          "unique_count": 5,
          "nan_count": 0,
          "categories": [
           {
            "name": "10-Day Green Smoothie Cleanse",
            "count": 1
           },
           {
            "name": "11/22/63: A Novel",
            "count": 1
           },
           {
            "name": "3 others",
            "count": 3
           }
          ]
         }
        },
        {
         "name": "Author",
         "dtype": "object",
         "stats": {
          "unique_count": 5,
          "nan_count": 0,
          "categories": [
           {
            "name": "JJ Smith",
            "count": 1
           },
           {
            "name": "Stephen King",
            "count": 1
           },
           {
            "name": "3 others",
            "count": 3
           }
          ]
         }
        },
        {
         "name": "User-Rating",
         "dtype": "float64",
         "stats": {
          "unique_count": 3,
          "nan_count": 0,
          "min": "4.6",
          "max": "4.8",
          "histogram": [
           {
            "bin_start": 4.6,
            "bin_end": 4.619999999999999,
            "count": 1
           },
           {
            "bin_start": 4.619999999999999,
            "bin_end": 4.64,
            "count": 0
           },
           {
            "bin_start": 4.64,
            "bin_end": 4.66,
            "count": 0
           },
           {
            "bin_start": 4.66,
            "bin_end": 4.68,
            "count": 0
           },
           {
            "bin_start": 4.68,
            "bin_end": 4.699999999999999,
            "count": 0
           },
           {
            "bin_start": 4.699999999999999,
            "bin_end": 4.72,
            "count": 3
           },
           {
            "bin_start": 4.72,
            "bin_end": 4.74,
            "count": 0
           },
           {
            "bin_start": 4.74,
            "bin_end": 4.76,
            "count": 0
           },
           {
            "bin_start": 4.76,
            "bin_end": 4.779999999999999,
            "count": 0
           },
           {
            "bin_start": 4.779999999999999,
            "bin_end": 4.8,
            "count": 1
           }
          ]
         }
        },
        {
         "name": "Reviews",
         "dtype": "int64",
         "stats": {
          "unique_count": 5,
          "nan_count": 0,
          "min": "2052",
          "max": "21424",
          "histogram": [
           {
            "bin_start": 2052,
            "bin_end": 3989.2,
            "count": 1
           },
           {
            "bin_start": 3989.2,
            "bin_end": 5926.4,
            "count": 0
           },
           {
            "bin_start": 5926.4,
            "bin_end": 7863.6,
            "count": 1
           },
           {
            "bin_start": 7863.6,
            "bin_end": 9800.8,
            "count": 0
           },
           {
            "bin_start": 9800.8,
            "bin_end": 11738,
            "count": 0
           },
           {
            "bin_start": 11738,
            "bin_end": 13675.2,
            "count": 0
           },
           {
            "bin_start": 13675.2,
            "bin_end": 15612.4,
            "count": 0
           },
           {
            "bin_start": 15612.4,
            "bin_end": 17549.6,
            "count": 1
           },
           {
            "bin_start": 17549.6,
            "bin_end": 19486.8,
            "count": 1
           },
           {
            "bin_start": 19486.8,
            "bin_end": 21424,
            "count": 1
           }
          ]
         }
        },
        {
         "name": "_deepnote_index_column",
         "dtype": "int64"
        }
       ],
       "rows": [
        {
         "Name": "10-Day Green Smoothie Cleanse",
         "Author": "JJ Smith",
         "User-Rating": 4.7,
         "Reviews": 17350,
         "_deepnote_index_column": 0
        },
        {
         "Name": "11/22/63: A Novel",
         "Author": "Stephen King",
         "User-Rating": 4.6,
         "Reviews": 2052,
         "_deepnote_index_column": 1
        },
        {
         "Name": "12 Rules for Life: An Antidote to Chaos",
         "Author": "Jordan B. Peterson",
         "User-Rating": 4.7,
         "Reviews": 18979,
         "_deepnote_index_column": 2
        },
        {
         "Name": "1984 (Signet Classics)",
         "Author": "George Orwell",
         "User-Rating": 4.7,
         "Reviews": 21424,
         "_deepnote_index_column": 3
        },
        {
         "Name": "5,000 Awesome Facts (About Everything!) (National Geographic Kids)",
         "Author": "National Geographic Kids",
         "User-Rating": 4.8,
         "Reviews": 7665,
         "_deepnote_index_column": 4
        }
       ]
      },
      "text/plain": "                                                Name  \\\n0                      10-Day Green Smoothie Cleanse   \n1                                  11/22/63: A Novel   \n2            12 Rules for Life: An Antidote to Chaos   \n3                             1984 (Signet Classics)   \n4  5,000 Awesome Facts (About Everything!) (Natio...   \n\n                     Author  User-Rating  Reviews  \n0                  JJ Smith          4.7    17350  \n1              Stephen King          4.6     2052  \n2        Jordan B. Peterson          4.7    18979  \n3             George Orwell          4.7    21424  \n4  National Geographic Kids          4.8     7665  ",
      "text/html": "<div>\n<style scoped>\n    .dataframe tbody tr th:only-of-type {\n        vertical-align: middle;\n    }\n\n    .dataframe tbody tr th {\n        vertical-align: top;\n    }\n\n    .dataframe thead th {\n        text-align: right;\n    }\n</style>\n<table border=\"1\" class=\"dataframe\">\n  <thead>\n    <tr style=\"text-align: right;\">\n      <th></th>\n      <th>Name</th>\n      <th>Author</th>\n      <th>User-Rating</th>\n      <th>Reviews</th>\n    </tr>\n  </thead>\n  <tbody>\n    <tr>\n      <th>0</th>\n      <td>10-Day Green Smoothie Cleanse</td>\n      <td>JJ Smith</td>\n      <td>4.7</td>\n      <td>17350</td>\n    </tr>\n    <tr>\n      <th>1</th>\n      <td>11/22/63: A Novel</td>\n      <td>Stephen King</td>\n      <td>4.6</td>\n      <td>2052</td>\n    </tr>\n    <tr>\n      <th>2</th>\n      <td>12 Rules for Life: An Antidote to Chaos</td>\n      <td>Jordan B. Peterson</td>\n      <td>4.7</td>\n      <td>18979</td>\n    </tr>\n    <tr>\n      <th>3</th>\n      <td>1984 (Signet Classics)</td>\n      <td>George Orwell</td>\n      <td>4.7</td>\n      <td>21424</td>\n    </tr>\n    <tr>\n      <th>4</th>\n      <td>5,000 Awesome Facts (About Everything!) (Natio...</td>\n      <td>National Geographic Kids</td>\n      <td>4.8</td>\n      <td>7665</td>\n    </tr>\n  </tbody>\n</table>\n</div>"
     },
     "metadata": {}
    }
   ]
  },
  {
   "cell_type": "code",
   "metadata": {
    "cell_id": "bde4837e935f407a9b74771909ec01b7",
    "tags": [],
    "deepnote_to_be_reexecuted": false,
    "source_hash": "54387454",
    "execution_start": 1654354290733,
    "execution_millis": 83,
    "deepnote_cell_type": "code",
    "deepnote_cell_height": 600
   },
   "source": "df_books.drop(0, axis=0)",
   "execution_count": null,
   "outputs": [
    {
     "output_type": "execute_result",
     "execution_count": 11,
     "data": {
      "application/vnd.deepnote.dataframe.v3+json": {
       "column_count": 4,
       "row_count": 549,
       "columns": [
        {
         "name": "Name",
         "dtype": "object",
         "stats": {
          "unique_count": 350,
          "nan_count": 0,
          "categories": [
           {
            "name": "Publication Manual of the American Psychological Association, 6th Edition",
            "count": 10
           },
           {
            "name": "StrengthsFinder 2.0",
            "count": 9
           },
           {
            "name": "348 others",
            "count": 530
           }
          ]
         }
        },
        {
         "name": "Author",
         "dtype": "object",
         "stats": {
          "unique_count": 247,
          "nan_count": 0,
          "categories": [
           {
            "name": "Jeff Kinney",
            "count": 12
           },
           {
            "name": "Suzanne Collins",
            "count": 11
           },
           {
            "name": "245 others",
            "count": 526
           }
          ]
         }
        },
        {
         "name": "User-Rating",
         "dtype": "float64",
         "stats": {
          "unique_count": 14,
          "nan_count": 0,
          "min": "3.3",
          "max": "4.9",
          "histogram": [
           {
            "bin_start": 3.3,
            "bin_end": 3.46,
            "count": 1
           },
           {
            "bin_start": 3.46,
            "bin_end": 3.62,
            "count": 1
           },
           {
            "bin_start": 3.62,
            "bin_end": 3.7800000000000002,
            "count": 0
           },
           {
            "bin_start": 3.7800000000000002,
            "bin_end": 3.94,
            "count": 5
           },
           {
            "bin_start": 3.94,
            "bin_end": 4.1,
            "count": 14
           },
           {
            "bin_start": 4.1,
            "bin_end": 4.26,
            "count": 14
           },
           {
            "bin_start": 4.26,
            "bin_end": 4.42,
            "count": 63
           },
           {
            "bin_start": 4.42,
            "bin_end": 4.58,
            "count": 60
           },
           {
            "bin_start": 4.58,
            "bin_end": 4.74,
            "count": 212
           },
           {
            "bin_start": 4.74,
            "bin_end": 4.9,
            "count": 179
           }
          ]
         }
        },
        {
         "name": "Reviews",
         "dtype": "int64",
         "stats": {
          "unique_count": 345,
          "nan_count": 0,
          "min": "37",
          "max": "87841",
          "histogram": [
           {
            "bin_start": 37,
            "bin_end": 8817.4,
            "count": 287
           },
           {
            "bin_start": 8817.4,
            "bin_end": 17597.8,
            "count": 130
           },
           {
            "bin_start": 17597.8,
            "bin_end": 26378.199999999997,
            "count": 87
           },
           {
            "bin_start": 26378.199999999997,
            "bin_end": 35158.6,
            "count": 25
           },
           {
            "bin_start": 35158.6,
            "bin_end": 43939,
            "count": 4
           },
           {
            "bin_start": 43939,
            "bin_end": 52719.399999999994,
            "count": 8
           },
           {
            "bin_start": 52719.399999999994,
            "bin_end": 61499.799999999996,
            "count": 5
           },
           {
            "bin_start": 61499.799999999996,
            "bin_end": 70280.2,
            "count": 0
           },
           {
            "bin_start": 70280.2,
            "bin_end": 79060.59999999999,
            "count": 0
           },
           {
            "bin_start": 79060.59999999999,
            "bin_end": 87841,
            "count": 3
           }
          ]
         }
        },
        {
         "name": "_deepnote_index_column",
         "dtype": "int64"
        }
       ],
       "rows": [
        {
         "Name": "11/22/63: A Novel",
         "Author": "Stephen King",
         "User-Rating": 4.6,
         "Reviews": 2052,
         "_deepnote_index_column": 1
        },
        {
         "Name": "12 Rules for Life: An Antidote to Chaos",
         "Author": "Jordan B. Peterson",
         "User-Rating": 4.7,
         "Reviews": 18979,
         "_deepnote_index_column": 2
        },
        {
         "Name": "1984 (Signet Classics)",
         "Author": "George Orwell",
         "User-Rating": 4.7,
         "Reviews": 21424,
         "_deepnote_index_column": 3
        },
        {
         "Name": "5,000 Awesome Facts (About Everything!) (National Geographic Kids)",
         "Author": "National Geographic Kids",
         "User-Rating": 4.8,
         "Reviews": 7665,
         "_deepnote_index_column": 4
        },
        {
         "Name": "A Dance with Dragons (A Song of Ice and Fire)",
         "Author": "George R. R. Martin",
         "User-Rating": 4.4,
         "Reviews": 12643,
         "_deepnote_index_column": 5
        },
        {
         "Name": "A Game of Thrones / A Clash of Kings / A Storm of Swords / A Feast of Crows / A Dance with Dragons",
         "Author": "George R. R. Martin",
         "User-Rating": 4.7,
         "Reviews": 19735,
         "_deepnote_index_column": 6
        },
        {
         "Name": "A Gentleman in Moscow: A Novel",
         "Author": "Amor Towles",
         "User-Rating": 4.7,
         "Reviews": 19699,
         "_deepnote_index_column": 7
        },
        {
         "Name": "A Higher Loyalty: Truth, Lies, and Leadership",
         "Author": "James Comey",
         "User-Rating": 4.7,
         "Reviews": 5983,
         "_deepnote_index_column": 8
        },
        {
         "Name": "A Man Called Ove: A Novel",
         "Author": "Fredrik Backman",
         "User-Rating": 4.6,
         "Reviews": 23848,
         "_deepnote_index_column": 9
        },
        {
         "Name": "A Man Called Ove: A Novel",
         "Author": "Fredrik Backman",
         "User-Rating": 4.6,
         "Reviews": 23848,
         "_deepnote_index_column": 10
        }
       ]
      },
      "text/plain": "                                                  Name  \\\n1                                    11/22/63: A Novel   \n2              12 Rules for Life: An Antidote to Chaos   \n3                               1984 (Signet Classics)   \n4    5,000 Awesome Facts (About Everything!) (Natio...   \n5        A Dance with Dragons (A Song of Ice and Fire)   \n..                                                 ...   \n545       Wrecking Ball (Diary of a Wimpy Kid Book 14)   \n546  You Are a Badass: How to Stop Doubting Your Gr...   \n547  You Are a Badass: How to Stop Doubting Your Gr...   \n548  You Are a Badass: How to Stop Doubting Your Gr...   \n549  You Are a Badass: How to Stop Doubting Your Gr...   \n\n                       Author  User-Rating  Reviews  \n1                Stephen King          4.6     2052  \n2          Jordan B. Peterson          4.7    18979  \n3               George Orwell          4.7    21424  \n4    National Geographic Kids          4.8     7665  \n5         George R. R. Martin          4.4    12643  \n..                        ...          ...      ...  \n545               Jeff Kinney          4.9     9413  \n546               Jen Sincero          4.7    14331  \n547               Jen Sincero          4.7    14331  \n548               Jen Sincero          4.7    14331  \n549               Jen Sincero          4.7    14331  \n\n[549 rows x 4 columns]",
      "text/html": "<div>\n<style scoped>\n    .dataframe tbody tr th:only-of-type {\n        vertical-align: middle;\n    }\n\n    .dataframe tbody tr th {\n        vertical-align: top;\n    }\n\n    .dataframe thead th {\n        text-align: right;\n    }\n</style>\n<table border=\"1\" class=\"dataframe\">\n  <thead>\n    <tr style=\"text-align: right;\">\n      <th></th>\n      <th>Name</th>\n      <th>Author</th>\n      <th>User-Rating</th>\n      <th>Reviews</th>\n    </tr>\n  </thead>\n  <tbody>\n    <tr>\n      <th>1</th>\n      <td>11/22/63: A Novel</td>\n      <td>Stephen King</td>\n      <td>4.6</td>\n      <td>2052</td>\n    </tr>\n    <tr>\n      <th>2</th>\n      <td>12 Rules for Life: An Antidote to Chaos</td>\n      <td>Jordan B. Peterson</td>\n      <td>4.7</td>\n      <td>18979</td>\n    </tr>\n    <tr>\n      <th>3</th>\n      <td>1984 (Signet Classics)</td>\n      <td>George Orwell</td>\n      <td>4.7</td>\n      <td>21424</td>\n    </tr>\n    <tr>\n      <th>4</th>\n      <td>5,000 Awesome Facts (About Everything!) (Natio...</td>\n      <td>National Geographic Kids</td>\n      <td>4.8</td>\n      <td>7665</td>\n    </tr>\n    <tr>\n      <th>5</th>\n      <td>A Dance with Dragons (A Song of Ice and Fire)</td>\n      <td>George R. R. Martin</td>\n      <td>4.4</td>\n      <td>12643</td>\n    </tr>\n    <tr>\n      <th>...</th>\n      <td>...</td>\n      <td>...</td>\n      <td>...</td>\n      <td>...</td>\n    </tr>\n    <tr>\n      <th>545</th>\n      <td>Wrecking Ball (Diary of a Wimpy Kid Book 14)</td>\n      <td>Jeff Kinney</td>\n      <td>4.9</td>\n      <td>9413</td>\n    </tr>\n    <tr>\n      <th>546</th>\n      <td>You Are a Badass: How to Stop Doubting Your Gr...</td>\n      <td>Jen Sincero</td>\n      <td>4.7</td>\n      <td>14331</td>\n    </tr>\n    <tr>\n      <th>547</th>\n      <td>You Are a Badass: How to Stop Doubting Your Gr...</td>\n      <td>Jen Sincero</td>\n      <td>4.7</td>\n      <td>14331</td>\n    </tr>\n    <tr>\n      <th>548</th>\n      <td>You Are a Badass: How to Stop Doubting Your Gr...</td>\n      <td>Jen Sincero</td>\n      <td>4.7</td>\n      <td>14331</td>\n    </tr>\n    <tr>\n      <th>549</th>\n      <td>You Are a Badass: How to Stop Doubting Your Gr...</td>\n      <td>Jen Sincero</td>\n      <td>4.7</td>\n      <td>14331</td>\n    </tr>\n  </tbody>\n</table>\n<p>549 rows × 4 columns</p>\n</div>"
     },
     "metadata": {}
    }
   ]
  },
  {
   "cell_type": "code",
   "metadata": {
    "cell_id": "11e8deeb74ff407ead2415e2a744638e",
    "tags": [],
    "deepnote_to_be_reexecuted": false,
    "source_hash": "8b6ae18d",
    "execution_start": 1654354290821,
    "execution_millis": 40,
    "deepnote_cell_type": "code",
    "deepnote_cell_height": 395
   },
   "source": "df_books.drop([0,1,2], axis=0).head()",
   "execution_count": null,
   "outputs": [
    {
     "output_type": "execute_result",
     "execution_count": 12,
     "data": {
      "application/vnd.deepnote.dataframe.v3+json": {
       "column_count": 4,
       "row_count": 5,
       "columns": [
        {
         "name": "Name",
         "dtype": "object",
         "stats": {
          "unique_count": 5,
          "nan_count": 0,
          "categories": [
           {
            "name": "1984 (Signet Classics)",
            "count": 1
           },
           {
            "name": "5,000 Awesome Facts (About Everything!) (National Geographic Kids)",
            "count": 1
           },
           {
            "name": "3 others",
            "count": 3
           }
          ]
         }
        },
        {
         "name": "Author",
         "dtype": "object",
         "stats": {
          "unique_count": 4,
          "nan_count": 0,
          "categories": [
           {
            "name": "George R. R. Martin",
            "count": 2
           },
           {
            "name": "George Orwell",
            "count": 1
           },
           {
            "name": "2 others",
            "count": 2
           }
          ]
         }
        },
        {
         "name": "User-Rating",
         "dtype": "float64",
         "stats": {
          "unique_count": 3,
          "nan_count": 0,
          "min": "4.4",
          "max": "4.8",
          "histogram": [
           {
            "bin_start": 4.4,
            "bin_end": 4.44,
            "count": 1
           },
           {
            "bin_start": 4.44,
            "bin_end": 4.48,
            "count": 0
           },
           {
            "bin_start": 4.48,
            "bin_end": 4.5200000000000005,
            "count": 0
           },
           {
            "bin_start": 4.5200000000000005,
            "bin_end": 4.5600000000000005,
            "count": 0
           },
           {
            "bin_start": 4.5600000000000005,
            "bin_end": 4.6,
            "count": 0
           },
           {
            "bin_start": 4.6,
            "bin_end": 4.64,
            "count": 0
           },
           {
            "bin_start": 4.64,
            "bin_end": 4.68,
            "count": 0
           },
           {
            "bin_start": 4.68,
            "bin_end": 4.72,
            "count": 3
           },
           {
            "bin_start": 4.72,
            "bin_end": 4.76,
            "count": 0
           },
           {
            "bin_start": 4.76,
            "bin_end": 4.8,
            "count": 1
           }
          ]
         }
        },
        {
         "name": "Reviews",
         "dtype": "int64",
         "stats": {
          "unique_count": 5,
          "nan_count": 0,
          "min": "7665",
          "max": "21424",
          "histogram": [
           {
            "bin_start": 7665,
            "bin_end": 9040.9,
            "count": 1
           },
           {
            "bin_start": 9040.9,
            "bin_end": 10416.8,
            "count": 0
           },
           {
            "bin_start": 10416.8,
            "bin_end": 11792.7,
            "count": 0
           },
           {
            "bin_start": 11792.7,
            "bin_end": 13168.6,
            "count": 1
           },
           {
            "bin_start": 13168.6,
            "bin_end": 14544.5,
            "count": 0
           },
           {
            "bin_start": 14544.5,
            "bin_end": 15920.400000000001,
            "count": 0
           },
           {
            "bin_start": 15920.400000000001,
            "bin_end": 17296.300000000003,
            "count": 0
           },
           {
            "bin_start": 17296.300000000003,
            "bin_end": 18672.2,
            "count": 0
           },
           {
            "bin_start": 18672.2,
            "bin_end": 20048.1,
            "count": 2
           },
           {
            "bin_start": 20048.1,
            "bin_end": 21424,
            "count": 1
           }
          ]
         }
        },
        {
         "name": "_deepnote_index_column",
         "dtype": "int64"
        }
       ],
       "rows": [
        {
         "Name": "1984 (Signet Classics)",
         "Author": "George Orwell",
         "User-Rating": 4.7,
         "Reviews": 21424,
         "_deepnote_index_column": 3
        },
        {
         "Name": "5,000 Awesome Facts (About Everything!) (National Geographic Kids)",
         "Author": "National Geographic Kids",
         "User-Rating": 4.8,
         "Reviews": 7665,
         "_deepnote_index_column": 4
        },
        {
         "Name": "A Dance with Dragons (A Song of Ice and Fire)",
         "Author": "George R. R. Martin",
         "User-Rating": 4.4,
         "Reviews": 12643,
         "_deepnote_index_column": 5
        },
        {
         "Name": "A Game of Thrones / A Clash of Kings / A Storm of Swords / A Feast of Crows / A Dance with Dragons",
         "Author": "George R. R. Martin",
         "User-Rating": 4.7,
         "Reviews": 19735,
         "_deepnote_index_column": 6
        },
        {
         "Name": "A Gentleman in Moscow: A Novel",
         "Author": "Amor Towles",
         "User-Rating": 4.7,
         "Reviews": 19699,
         "_deepnote_index_column": 7
        }
       ]
      },
      "text/plain": "                                                Name  \\\n3                             1984 (Signet Classics)   \n4  5,000 Awesome Facts (About Everything!) (Natio...   \n5      A Dance with Dragons (A Song of Ice and Fire)   \n6  A Game of Thrones / A Clash of Kings / A Storm...   \n7                     A Gentleman in Moscow: A Novel   \n\n                     Author  User-Rating  Reviews  \n3             George Orwell          4.7    21424  \n4  National Geographic Kids          4.8     7665  \n5       George R. R. Martin          4.4    12643  \n6       George R. R. Martin          4.7    19735  \n7               Amor Towles          4.7    19699  ",
      "text/html": "<div>\n<style scoped>\n    .dataframe tbody tr th:only-of-type {\n        vertical-align: middle;\n    }\n\n    .dataframe tbody tr th {\n        vertical-align: top;\n    }\n\n    .dataframe thead th {\n        text-align: right;\n    }\n</style>\n<table border=\"1\" class=\"dataframe\">\n  <thead>\n    <tr style=\"text-align: right;\">\n      <th></th>\n      <th>Name</th>\n      <th>Author</th>\n      <th>User-Rating</th>\n      <th>Reviews</th>\n    </tr>\n  </thead>\n  <tbody>\n    <tr>\n      <th>3</th>\n      <td>1984 (Signet Classics)</td>\n      <td>George Orwell</td>\n      <td>4.7</td>\n      <td>21424</td>\n    </tr>\n    <tr>\n      <th>4</th>\n      <td>5,000 Awesome Facts (About Everything!) (Natio...</td>\n      <td>National Geographic Kids</td>\n      <td>4.8</td>\n      <td>7665</td>\n    </tr>\n    <tr>\n      <th>5</th>\n      <td>A Dance with Dragons (A Song of Ice and Fire)</td>\n      <td>George R. R. Martin</td>\n      <td>4.4</td>\n      <td>12643</td>\n    </tr>\n    <tr>\n      <th>6</th>\n      <td>A Game of Thrones / A Clash of Kings / A Storm...</td>\n      <td>George R. R. Martin</td>\n      <td>4.7</td>\n      <td>19735</td>\n    </tr>\n    <tr>\n      <th>7</th>\n      <td>A Gentleman in Moscow: A Novel</td>\n      <td>Amor Towles</td>\n      <td>4.7</td>\n      <td>19699</td>\n    </tr>\n  </tbody>\n</table>\n</div>"
     },
     "metadata": {}
    }
   ]
  },
  {
   "cell_type": "code",
   "metadata": {
    "cell_id": "ae2170fabfec40c28938573e5376a800",
    "tags": [],
    "deepnote_to_be_reexecuted": false,
    "source_hash": "37938532",
    "execution_start": 1654354290916,
    "execution_millis": 47,
    "deepnote_cell_type": "code",
    "deepnote_cell_height": 395
   },
   "source": "df_books.drop(range(0,10), axis=0).head()",
   "execution_count": null,
   "outputs": [
    {
     "output_type": "execute_result",
     "execution_count": 13,
     "data": {
      "application/vnd.deepnote.dataframe.v3+json": {
       "column_count": 4,
       "row_count": 5,
       "columns": [
        {
         "name": "Name",
         "dtype": "object",
         "stats": {
          "unique_count": 5,
          "nan_count": 0,
          "categories": [
           {
            "name": "A Man Called Ove: A Novel",
            "count": 1
           },
           {
            "name": "A Patriot's History of the United States: From Columbus's Great Discovery to the War on Terror",
            "count": 1
           },
           {
            "name": "3 others",
            "count": 3
           }
          ]
         }
        },
        {
         "name": "Author",
         "dtype": "object",
         "stats": {
          "unique_count": 5,
          "nan_count": 0,
          "categories": [
           {
            "name": "Fredrik Backman",
            "count": 1
           },
           {
            "name": "Larry Schweikart",
            "count": 1
           },
           {
            "name": "3 others",
            "count": 3
           }
          ]
         }
        },
        {
         "name": "User-Rating",
         "dtype": "float64",
         "stats": {
          "unique_count": 2,
          "nan_count": 0,
          "min": "4.5",
          "max": "4.6",
          "histogram": [
           {
            "bin_start": 4.5,
            "bin_end": 4.51,
            "count": 1
           },
           {
            "bin_start": 4.51,
            "bin_end": 4.52,
            "count": 0
           },
           {
            "bin_start": 4.52,
            "bin_end": 4.53,
            "count": 0
           },
           {
            "bin_start": 4.53,
            "bin_end": 4.54,
            "count": 0
           },
           {
            "bin_start": 4.54,
            "bin_end": 4.55,
            "count": 0
           },
           {
            "bin_start": 4.55,
            "bin_end": 4.56,
            "count": 0
           },
           {
            "bin_start": 4.56,
            "bin_end": 4.569999999999999,
            "count": 0
           },
           {
            "bin_start": 4.569999999999999,
            "bin_end": 4.58,
            "count": 0
           },
           {
            "bin_start": 4.58,
            "bin_end": 4.59,
            "count": 0
           },
           {
            "bin_start": 4.59,
            "bin_end": 4.6,
            "count": 4
           }
          ]
         }
        },
        {
         "name": "Reviews",
         "dtype": "int64",
         "stats": {
          "unique_count": 5,
          "nan_count": 0,
          "min": "460",
          "max": "23848",
          "histogram": [
           {
            "bin_start": 460,
            "bin_end": 2798.8,
            "count": 1
           },
           {
            "bin_start": 2798.8,
            "bin_end": 5137.6,
            "count": 2
           },
           {
            "bin_start": 5137.6,
            "bin_end": 7476.400000000001,
            "count": 1
           },
           {
            "bin_start": 7476.400000000001,
            "bin_end": 9815.2,
            "count": 0
           },
           {
            "bin_start": 9815.2,
            "bin_end": 12154,
            "count": 0
           },
           {
            "bin_start": 12154,
            "bin_end": 14492.800000000001,
            "count": 0
           },
           {
            "bin_start": 14492.800000000001,
            "bin_end": 16831.600000000002,
            "count": 0
           },
           {
            "bin_start": 16831.600000000002,
            "bin_end": 19170.4,
            "count": 0
           },
           {
            "bin_start": 19170.4,
            "bin_end": 21509.2,
            "count": 0
           },
           {
            "bin_start": 21509.2,
            "bin_end": 23848,
            "count": 1
           }
          ]
         }
        },
        {
         "name": "_deepnote_index_column",
         "dtype": "int64"
        }
       ],
       "rows": [
        {
         "Name": "A Man Called Ove: A Novel",
         "Author": "Fredrik Backman",
         "User-Rating": 4.6,
         "Reviews": 23848,
         "_deepnote_index_column": 10
        },
        {
         "Name": "A Patriot's History of the United States: From Columbus's Great Discovery to the War on Terror",
         "Author": "Larry Schweikart",
         "User-Rating": 4.6,
         "Reviews": 460,
         "_deepnote_index_column": 11
        },
        {
         "Name": "A Stolen Life: A Memoir",
         "Author": "Jaycee Dugard",
         "User-Rating": 4.6,
         "Reviews": 4149,
         "_deepnote_index_column": 12
        },
        {
         "Name": "A Wrinkle in Time (Time Quintet)",
         "Author": "Madeleine L'Engle",
         "User-Rating": 4.5,
         "Reviews": 5153,
         "_deepnote_index_column": 13
        },
        {
         "Name": "Act Like a Lady, Think Like a Man: What Men Really Think About Love, Relationships, Intimacy, and Commitment",
         "Author": "Steve Harvey",
         "User-Rating": 4.6,
         "Reviews": 5013,
         "_deepnote_index_column": 14
        }
       ]
      },
      "text/plain": "                                                 Name             Author  \\\n10                          A Man Called Ove: A Novel    Fredrik Backman   \n11  A Patriot's History of the United States: From...   Larry Schweikart   \n12                            A Stolen Life: A Memoir      Jaycee Dugard   \n13                   A Wrinkle in Time (Time Quintet)  Madeleine L'Engle   \n14  Act Like a Lady, Think Like a Man: What Men Re...       Steve Harvey   \n\n    User-Rating  Reviews  \n10          4.6    23848  \n11          4.6      460  \n12          4.6     4149  \n13          4.5     5153  \n14          4.6     5013  ",
      "text/html": "<div>\n<style scoped>\n    .dataframe tbody tr th:only-of-type {\n        vertical-align: middle;\n    }\n\n    .dataframe tbody tr th {\n        vertical-align: top;\n    }\n\n    .dataframe thead th {\n        text-align: right;\n    }\n</style>\n<table border=\"1\" class=\"dataframe\">\n  <thead>\n    <tr style=\"text-align: right;\">\n      <th></th>\n      <th>Name</th>\n      <th>Author</th>\n      <th>User-Rating</th>\n      <th>Reviews</th>\n    </tr>\n  </thead>\n  <tbody>\n    <tr>\n      <th>10</th>\n      <td>A Man Called Ove: A Novel</td>\n      <td>Fredrik Backman</td>\n      <td>4.6</td>\n      <td>23848</td>\n    </tr>\n    <tr>\n      <th>11</th>\n      <td>A Patriot's History of the United States: From...</td>\n      <td>Larry Schweikart</td>\n      <td>4.6</td>\n      <td>460</td>\n    </tr>\n    <tr>\n      <th>12</th>\n      <td>A Stolen Life: A Memoir</td>\n      <td>Jaycee Dugard</td>\n      <td>4.6</td>\n      <td>4149</td>\n    </tr>\n    <tr>\n      <th>13</th>\n      <td>A Wrinkle in Time (Time Quintet)</td>\n      <td>Madeleine L'Engle</td>\n      <td>4.5</td>\n      <td>5153</td>\n    </tr>\n    <tr>\n      <th>14</th>\n      <td>Act Like a Lady, Think Like a Man: What Men Re...</td>\n      <td>Steve Harvey</td>\n      <td>4.6</td>\n      <td>5013</td>\n    </tr>\n  </tbody>\n</table>\n</div>"
     },
     "metadata": {}
    }
   ]
  },
  {
   "cell_type": "markdown",
   "source": "# Add Columns - Añadir nueva columna",
   "metadata": {
    "cell_id": "d2ae6f6298c449759dfd1efd8981c7d5",
    "tags": [],
    "deepnote_cell_type": "markdown",
    "deepnote_cell_height": 82
   }
  },
  {
   "cell_type": "code",
   "metadata": {
    "cell_id": "703e2e6353384be2bd22b7d9a0d38dd2",
    "tags": [],
    "deepnote_to_be_reexecuted": false,
    "source_hash": "3af66e7a",
    "execution_start": 1654354290962,
    "execution_millis": 17,
    "deepnote_cell_type": "code",
    "deepnote_cell_height": 395
   },
   "source": "df_books.head()",
   "execution_count": null,
   "outputs": [
    {
     "output_type": "execute_result",
     "execution_count": 14,
     "data": {
      "application/vnd.deepnote.dataframe.v3+json": {
       "column_count": 4,
       "row_count": 5,
       "columns": [
        {
         "name": "Name",
         "dtype": "object",
         "stats": {
          "unique_count": 5,
          "nan_count": 0,
          "categories": [
           {
            "name": "10-Day Green Smoothie Cleanse",
            "count": 1
           },
           {
            "name": "11/22/63: A Novel",
            "count": 1
           },
           {
            "name": "3 others",
            "count": 3
           }
          ]
         }
        },
        {
         "name": "Author",
         "dtype": "object",
         "stats": {
          "unique_count": 5,
          "nan_count": 0,
          "categories": [
           {
            "name": "JJ Smith",
            "count": 1
           },
           {
            "name": "Stephen King",
            "count": 1
           },
           {
            "name": "3 others",
            "count": 3
           }
          ]
         }
        },
        {
         "name": "User-Rating",
         "dtype": "float64",
         "stats": {
          "unique_count": 3,
          "nan_count": 0,
          "min": "4.6",
          "max": "4.8",
          "histogram": [
           {
            "bin_start": 4.6,
            "bin_end": 4.619999999999999,
            "count": 1
           },
           {
            "bin_start": 4.619999999999999,
            "bin_end": 4.64,
            "count": 0
           },
           {
            "bin_start": 4.64,
            "bin_end": 4.66,
            "count": 0
           },
           {
            "bin_start": 4.66,
            "bin_end": 4.68,
            "count": 0
           },
           {
            "bin_start": 4.68,
            "bin_end": 4.699999999999999,
            "count": 0
           },
           {
            "bin_start": 4.699999999999999,
            "bin_end": 4.72,
            "count": 3
           },
           {
            "bin_start": 4.72,
            "bin_end": 4.74,
            "count": 0
           },
           {
            "bin_start": 4.74,
            "bin_end": 4.76,
            "count": 0
           },
           {
            "bin_start": 4.76,
            "bin_end": 4.779999999999999,
            "count": 0
           },
           {
            "bin_start": 4.779999999999999,
            "bin_end": 4.8,
            "count": 1
           }
          ]
         }
        },
        {
         "name": "Reviews",
         "dtype": "int64",
         "stats": {
          "unique_count": 5,
          "nan_count": 0,
          "min": "2052",
          "max": "21424",
          "histogram": [
           {
            "bin_start": 2052,
            "bin_end": 3989.2,
            "count": 1
           },
           {
            "bin_start": 3989.2,
            "bin_end": 5926.4,
            "count": 0
           },
           {
            "bin_start": 5926.4,
            "bin_end": 7863.6,
            "count": 1
           },
           {
            "bin_start": 7863.6,
            "bin_end": 9800.8,
            "count": 0
           },
           {
            "bin_start": 9800.8,
            "bin_end": 11738,
            "count": 0
           },
           {
            "bin_start": 11738,
            "bin_end": 13675.2,
            "count": 0
           },
           {
            "bin_start": 13675.2,
            "bin_end": 15612.4,
            "count": 0
           },
           {
            "bin_start": 15612.4,
            "bin_end": 17549.6,
            "count": 1
           },
           {
            "bin_start": 17549.6,
            "bin_end": 19486.8,
            "count": 1
           },
           {
            "bin_start": 19486.8,
            "bin_end": 21424,
            "count": 1
           }
          ]
         }
        },
        {
         "name": "_deepnote_index_column",
         "dtype": "int64"
        }
       ],
       "rows": [
        {
         "Name": "10-Day Green Smoothie Cleanse",
         "Author": "JJ Smith",
         "User-Rating": 4.7,
         "Reviews": 17350,
         "_deepnote_index_column": 0
        },
        {
         "Name": "11/22/63: A Novel",
         "Author": "Stephen King",
         "User-Rating": 4.6,
         "Reviews": 2052,
         "_deepnote_index_column": 1
        },
        {
         "Name": "12 Rules for Life: An Antidote to Chaos",
         "Author": "Jordan B. Peterson",
         "User-Rating": 4.7,
         "Reviews": 18979,
         "_deepnote_index_column": 2
        },
        {
         "Name": "1984 (Signet Classics)",
         "Author": "George Orwell",
         "User-Rating": 4.7,
         "Reviews": 21424,
         "_deepnote_index_column": 3
        },
        {
         "Name": "5,000 Awesome Facts (About Everything!) (National Geographic Kids)",
         "Author": "National Geographic Kids",
         "User-Rating": 4.8,
         "Reviews": 7665,
         "_deepnote_index_column": 4
        }
       ]
      },
      "text/plain": "                                                Name  \\\n0                      10-Day Green Smoothie Cleanse   \n1                                  11/22/63: A Novel   \n2            12 Rules for Life: An Antidote to Chaos   \n3                             1984 (Signet Classics)   \n4  5,000 Awesome Facts (About Everything!) (Natio...   \n\n                     Author  User-Rating  Reviews  \n0                  JJ Smith          4.7    17350  \n1              Stephen King          4.6     2052  \n2        Jordan B. Peterson          4.7    18979  \n3             George Orwell          4.7    21424  \n4  National Geographic Kids          4.8     7665  ",
      "text/html": "<div>\n<style scoped>\n    .dataframe tbody tr th:only-of-type {\n        vertical-align: middle;\n    }\n\n    .dataframe tbody tr th {\n        vertical-align: top;\n    }\n\n    .dataframe thead th {\n        text-align: right;\n    }\n</style>\n<table border=\"1\" class=\"dataframe\">\n  <thead>\n    <tr style=\"text-align: right;\">\n      <th></th>\n      <th>Name</th>\n      <th>Author</th>\n      <th>User-Rating</th>\n      <th>Reviews</th>\n    </tr>\n  </thead>\n  <tbody>\n    <tr>\n      <th>0</th>\n      <td>10-Day Green Smoothie Cleanse</td>\n      <td>JJ Smith</td>\n      <td>4.7</td>\n      <td>17350</td>\n    </tr>\n    <tr>\n      <th>1</th>\n      <td>11/22/63: A Novel</td>\n      <td>Stephen King</td>\n      <td>4.6</td>\n      <td>2052</td>\n    </tr>\n    <tr>\n      <th>2</th>\n      <td>12 Rules for Life: An Antidote to Chaos</td>\n      <td>Jordan B. Peterson</td>\n      <td>4.7</td>\n      <td>18979</td>\n    </tr>\n    <tr>\n      <th>3</th>\n      <td>1984 (Signet Classics)</td>\n      <td>George Orwell</td>\n      <td>4.7</td>\n      <td>21424</td>\n    </tr>\n    <tr>\n      <th>4</th>\n      <td>5,000 Awesome Facts (About Everything!) (Natio...</td>\n      <td>National Geographic Kids</td>\n      <td>4.8</td>\n      <td>7665</td>\n    </tr>\n  </tbody>\n</table>\n</div>"
     },
     "metadata": {}
    }
   ]
  },
  {
   "cell_type": "code",
   "metadata": {
    "cell_id": "db92061ccbd74978a54cf417a7965024",
    "tags": [],
    "deepnote_to_be_reexecuted": false,
    "source_hash": "8b2a2148",
    "execution_start": 1654354291032,
    "execution_millis": 38,
    "deepnote_cell_type": "code",
    "deepnote_cell_height": 618
   },
   "source": "df_books['Nueva_columna'] = np.nan\ndf_books",
   "execution_count": null,
   "outputs": [
    {
     "output_type": "execute_result",
     "execution_count": 15,
     "data": {
      "application/vnd.deepnote.dataframe.v3+json": {
       "column_count": 5,
       "row_count": 550,
       "columns": [
        {
         "name": "Name",
         "dtype": "object",
         "stats": {
          "unique_count": 351,
          "nan_count": 0,
          "categories": [
           {
            "name": "Publication Manual of the American Psychological Association, 6th Edition",
            "count": 10
           },
           {
            "name": "StrengthsFinder 2.0",
            "count": 9
           },
           {
            "name": "349 others",
            "count": 531
           }
          ]
         }
        },
        {
         "name": "Author",
         "dtype": "object",
         "stats": {
          "unique_count": 248,
          "nan_count": 0,
          "categories": [
           {
            "name": "Jeff Kinney",
            "count": 12
           },
           {
            "name": "Suzanne Collins",
            "count": 11
           },
           {
            "name": "246 others",
            "count": 527
           }
          ]
         }
        },
        {
         "name": "User-Rating",
         "dtype": "float64",
         "stats": {
          "unique_count": 14,
          "nan_count": 0,
          "min": "3.3",
          "max": "4.9",
          "histogram": [
           {
            "bin_start": 3.3,
            "bin_end": 3.46,
            "count": 1
           },
           {
            "bin_start": 3.46,
            "bin_end": 3.62,
            "count": 1
           },
           {
            "bin_start": 3.62,
            "bin_end": 3.7800000000000002,
            "count": 0
           },
           {
            "bin_start": 3.7800000000000002,
            "bin_end": 3.94,
            "count": 5
           },
           {
            "bin_start": 3.94,
            "bin_end": 4.1,
            "count": 14
           },
           {
            "bin_start": 4.1,
            "bin_end": 4.26,
            "count": 14
           },
           {
            "bin_start": 4.26,
            "bin_end": 4.42,
            "count": 63
           },
           {
            "bin_start": 4.42,
            "bin_end": 4.58,
            "count": 60
           },
           {
            "bin_start": 4.58,
            "bin_end": 4.74,
            "count": 213
           },
           {
            "bin_start": 4.74,
            "bin_end": 4.9,
            "count": 179
           }
          ]
         }
        },
        {
         "name": "Reviews",
         "dtype": "int64",
         "stats": {
          "unique_count": 346,
          "nan_count": 0,
          "min": "37",
          "max": "87841",
          "histogram": [
           {
            "bin_start": 37,
            "bin_end": 8817.4,
            "count": 287
           },
           {
            "bin_start": 8817.4,
            "bin_end": 17597.8,
            "count": 131
           },
           {
            "bin_start": 17597.8,
            "bin_end": 26378.199999999997,
            "count": 87
           },
           {
            "bin_start": 26378.199999999997,
            "bin_end": 35158.6,
            "count": 25
           },
           {
            "bin_start": 35158.6,
            "bin_end": 43939,
            "count": 4
           },
           {
            "bin_start": 43939,
            "bin_end": 52719.399999999994,
            "count": 8
           },
           {
            "bin_start": 52719.399999999994,
            "bin_end": 61499.799999999996,
            "count": 5
           },
           {
            "bin_start": 61499.799999999996,
            "bin_end": 70280.2,
            "count": 0
           },
           {
            "bin_start": 70280.2,
            "bin_end": 79060.59999999999,
            "count": 0
           },
           {
            "bin_start": 79060.59999999999,
            "bin_end": 87841,
            "count": 3
           }
          ]
         }
        },
        {
         "name": "Nueva_columna",
         "dtype": "float64",
         "stats": {
          "unique_count": 0,
          "nan_count": 550,
          "min": null,
          "max": null,
          "histogram": [
           {
            "bin_start": 0,
            "bin_end": 0.1,
            "count": 0
           },
           {
            "bin_start": 0.1,
            "bin_end": 0.2,
            "count": 0
           },
           {
            "bin_start": 0.2,
            "bin_end": 0.30000000000000004,
            "count": 0
           },
           {
            "bin_start": 0.30000000000000004,
            "bin_end": 0.4,
            "count": 0
           },
           {
            "bin_start": 0.4,
            "bin_end": 0.5,
            "count": 0
           },
           {
            "bin_start": 0.5,
            "bin_end": 0.6000000000000001,
            "count": 0
           },
           {
            "bin_start": 0.6000000000000001,
            "bin_end": 0.7000000000000001,
            "count": 0
           },
           {
            "bin_start": 0.7000000000000001,
            "bin_end": 0.8,
            "count": 0
           },
           {
            "bin_start": 0.8,
            "bin_end": 0.9,
            "count": 0
           },
           {
            "bin_start": 0.9,
            "bin_end": 1,
            "count": 0
           }
          ]
         }
        },
        {
         "name": "_deepnote_index_column",
         "dtype": "int64"
        }
       ],
       "rows": [
        {
         "Name": "10-Day Green Smoothie Cleanse",
         "Author": "JJ Smith",
         "User-Rating": 4.7,
         "Reviews": 17350,
         "Nueva_columna": "nan",
         "_deepnote_index_column": 0
        },
        {
         "Name": "11/22/63: A Novel",
         "Author": "Stephen King",
         "User-Rating": 4.6,
         "Reviews": 2052,
         "Nueva_columna": "nan",
         "_deepnote_index_column": 1
        },
        {
         "Name": "12 Rules for Life: An Antidote to Chaos",
         "Author": "Jordan B. Peterson",
         "User-Rating": 4.7,
         "Reviews": 18979,
         "Nueva_columna": "nan",
         "_deepnote_index_column": 2
        },
        {
         "Name": "1984 (Signet Classics)",
         "Author": "George Orwell",
         "User-Rating": 4.7,
         "Reviews": 21424,
         "Nueva_columna": "nan",
         "_deepnote_index_column": 3
        },
        {
         "Name": "5,000 Awesome Facts (About Everything!) (National Geographic Kids)",
         "Author": "National Geographic Kids",
         "User-Rating": 4.8,
         "Reviews": 7665,
         "Nueva_columna": "nan",
         "_deepnote_index_column": 4
        },
        {
         "Name": "A Dance with Dragons (A Song of Ice and Fire)",
         "Author": "George R. R. Martin",
         "User-Rating": 4.4,
         "Reviews": 12643,
         "Nueva_columna": "nan",
         "_deepnote_index_column": 5
        },
        {
         "Name": "A Game of Thrones / A Clash of Kings / A Storm of Swords / A Feast of Crows / A Dance with Dragons",
         "Author": "George R. R. Martin",
         "User-Rating": 4.7,
         "Reviews": 19735,
         "Nueva_columna": "nan",
         "_deepnote_index_column": 6
        },
        {
         "Name": "A Gentleman in Moscow: A Novel",
         "Author": "Amor Towles",
         "User-Rating": 4.7,
         "Reviews": 19699,
         "Nueva_columna": "nan",
         "_deepnote_index_column": 7
        },
        {
         "Name": "A Higher Loyalty: Truth, Lies, and Leadership",
         "Author": "James Comey",
         "User-Rating": 4.7,
         "Reviews": 5983,
         "Nueva_columna": "nan",
         "_deepnote_index_column": 8
        },
        {
         "Name": "A Man Called Ove: A Novel",
         "Author": "Fredrik Backman",
         "User-Rating": 4.6,
         "Reviews": 23848,
         "Nueva_columna": "nan",
         "_deepnote_index_column": 9
        }
       ]
      },
      "text/plain": "                                                  Name  \\\n0                        10-Day Green Smoothie Cleanse   \n1                                    11/22/63: A Novel   \n2              12 Rules for Life: An Antidote to Chaos   \n3                               1984 (Signet Classics)   \n4    5,000 Awesome Facts (About Everything!) (Natio...   \n..                                                 ...   \n545       Wrecking Ball (Diary of a Wimpy Kid Book 14)   \n546  You Are a Badass: How to Stop Doubting Your Gr...   \n547  You Are a Badass: How to Stop Doubting Your Gr...   \n548  You Are a Badass: How to Stop Doubting Your Gr...   \n549  You Are a Badass: How to Stop Doubting Your Gr...   \n\n                       Author  User-Rating  Reviews  Nueva_columna  \n0                    JJ Smith          4.7    17350            NaN  \n1                Stephen King          4.6     2052            NaN  \n2          Jordan B. Peterson          4.7    18979            NaN  \n3               George Orwell          4.7    21424            NaN  \n4    National Geographic Kids          4.8     7665            NaN  \n..                        ...          ...      ...            ...  \n545               Jeff Kinney          4.9     9413            NaN  \n546               Jen Sincero          4.7    14331            NaN  \n547               Jen Sincero          4.7    14331            NaN  \n548               Jen Sincero          4.7    14331            NaN  \n549               Jen Sincero          4.7    14331            NaN  \n\n[550 rows x 5 columns]",
      "text/html": "<div>\n<style scoped>\n    .dataframe tbody tr th:only-of-type {\n        vertical-align: middle;\n    }\n\n    .dataframe tbody tr th {\n        vertical-align: top;\n    }\n\n    .dataframe thead th {\n        text-align: right;\n    }\n</style>\n<table border=\"1\" class=\"dataframe\">\n  <thead>\n    <tr style=\"text-align: right;\">\n      <th></th>\n      <th>Name</th>\n      <th>Author</th>\n      <th>User-Rating</th>\n      <th>Reviews</th>\n      <th>Nueva_columna</th>\n    </tr>\n  </thead>\n  <tbody>\n    <tr>\n      <th>0</th>\n      <td>10-Day Green Smoothie Cleanse</td>\n      <td>JJ Smith</td>\n      <td>4.7</td>\n      <td>17350</td>\n      <td>NaN</td>\n    </tr>\n    <tr>\n      <th>1</th>\n      <td>11/22/63: A Novel</td>\n      <td>Stephen King</td>\n      <td>4.6</td>\n      <td>2052</td>\n      <td>NaN</td>\n    </tr>\n    <tr>\n      <th>2</th>\n      <td>12 Rules for Life: An Antidote to Chaos</td>\n      <td>Jordan B. Peterson</td>\n      <td>4.7</td>\n      <td>18979</td>\n      <td>NaN</td>\n    </tr>\n    <tr>\n      <th>3</th>\n      <td>1984 (Signet Classics)</td>\n      <td>George Orwell</td>\n      <td>4.7</td>\n      <td>21424</td>\n      <td>NaN</td>\n    </tr>\n    <tr>\n      <th>4</th>\n      <td>5,000 Awesome Facts (About Everything!) (Natio...</td>\n      <td>National Geographic Kids</td>\n      <td>4.8</td>\n      <td>7665</td>\n      <td>NaN</td>\n    </tr>\n    <tr>\n      <th>...</th>\n      <td>...</td>\n      <td>...</td>\n      <td>...</td>\n      <td>...</td>\n      <td>...</td>\n    </tr>\n    <tr>\n      <th>545</th>\n      <td>Wrecking Ball (Diary of a Wimpy Kid Book 14)</td>\n      <td>Jeff Kinney</td>\n      <td>4.9</td>\n      <td>9413</td>\n      <td>NaN</td>\n    </tr>\n    <tr>\n      <th>546</th>\n      <td>You Are a Badass: How to Stop Doubting Your Gr...</td>\n      <td>Jen Sincero</td>\n      <td>4.7</td>\n      <td>14331</td>\n      <td>NaN</td>\n    </tr>\n    <tr>\n      <th>547</th>\n      <td>You Are a Badass: How to Stop Doubting Your Gr...</td>\n      <td>Jen Sincero</td>\n      <td>4.7</td>\n      <td>14331</td>\n      <td>NaN</td>\n    </tr>\n    <tr>\n      <th>548</th>\n      <td>You Are a Badass: How to Stop Doubting Your Gr...</td>\n      <td>Jen Sincero</td>\n      <td>4.7</td>\n      <td>14331</td>\n      <td>NaN</td>\n    </tr>\n    <tr>\n      <th>549</th>\n      <td>You Are a Badass: How to Stop Doubting Your Gr...</td>\n      <td>Jen Sincero</td>\n      <td>4.7</td>\n      <td>14331</td>\n      <td>NaN</td>\n    </tr>\n  </tbody>\n</table>\n<p>550 rows × 5 columns</p>\n</div>"
     },
     "metadata": {}
    }
   ]
  },
  {
   "cell_type": "code",
   "metadata": {
    "cell_id": "eeb34774f8fa40d19ce792c8557cd740",
    "tags": [],
    "deepnote_to_be_reexecuted": false,
    "source_hash": "429dca4b",
    "execution_start": 1654354291115,
    "execution_millis": 4,
    "deepnote_cell_type": "code",
    "deepnote_cell_height": 118.1875
   },
   "source": "df_books.shape[0]",
   "execution_count": null,
   "outputs": [
    {
     "output_type": "execute_result",
     "execution_count": 16,
     "data": {
      "text/plain": "550"
     },
     "metadata": {}
    }
   ]
  },
  {
   "cell_type": "code",
   "metadata": {
    "cell_id": "b4181aa819d741deb52436d62376f3bf",
    "tags": [],
    "deepnote_to_be_reexecuted": false,
    "source_hash": "88586e6",
    "execution_start": 1654354291116,
    "execution_millis": 3,
    "deepnote_cell_type": "code",
    "deepnote_cell_height": 726
   },
   "source": "data = np.arange(df_books.shape[0])\ndata",
   "execution_count": null,
   "outputs": [
    {
     "output_type": "execute_result",
     "execution_count": 17,
     "data": {
      "text/plain": "array([  0,   1,   2,   3,   4,   5,   6,   7,   8,   9,  10,  11,  12,\n        13,  14,  15,  16,  17,  18,  19,  20,  21,  22,  23,  24,  25,\n        26,  27,  28,  29,  30,  31,  32,  33,  34,  35,  36,  37,  38,\n        39,  40,  41,  42,  43,  44,  45,  46,  47,  48,  49,  50,  51,\n        52,  53,  54,  55,  56,  57,  58,  59,  60,  61,  62,  63,  64,\n        65,  66,  67,  68,  69,  70,  71,  72,  73,  74,  75,  76,  77,\n        78,  79,  80,  81,  82,  83,  84,  85,  86,  87,  88,  89,  90,\n        91,  92,  93,  94,  95,  96,  97,  98,  99, 100, 101, 102, 103,\n       104, 105, 106, 107, 108, 109, 110, 111, 112, 113, 114, 115, 116,\n       117, 118, 119, 120, 121, 122, 123, 124, 125, 126, 127, 128, 129,\n       130, 131, 132, 133, 134, 135, 136, 137, 138, 139, 140, 141, 142,\n       143, 144, 145, 146, 147, 148, 149, 150, 151, 152, 153, 154, 155,\n       156, 157, 158, 159, 160, 161, 162, 163, 164, 165, 166, 167, 168,\n       169, 170, 171, 172, 173, 174, 175, 176, 177, 178, 179, 180, 181,\n       182, 183, 184, 185, 186, 187, 188, 189, 190, 191, 192, 193, 194,\n       195, 196, 197, 198, 199, 200, 201, 202, 203, 204, 205, 206, 207,\n       208, 209, 210, 211, 212, 213, 214, 215, 216, 217, 218, 219, 220,\n       221, 222, 223, 224, 225, 226, 227, 228, 229, 230, 231, 232, 233,\n       234, 235, 236, 237, 238, 239, 240, 241, 242, 243, 244, 245, 246,\n       247, 248, 249, 250, 251, 252, 253, 254, 255, 256, 257, 258, 259,\n       260, 261, 262, 263, 264, 265, 266, 267, 268, 269, 270, 271, 272,\n       273, 274, 275, 276, 277, 278, 279, 280, 281, 282, 283, 284, 285,\n       286, 287, 288, 289, 290, 291, 292, 293, 294, 295, 296, 297, 298,\n       299, 300, 301, 302, 303, 304, 305, 306, 307, 308, 309, 310, 311,\n       312, 313, 314, 315, 316, 317, 318, 319, 320, 321, 322, 323, 324,\n       325, 326, 327, 328, 329, 330, 331, 332, 333, 334, 335, 336, 337,\n       338, 339, 340, 341, 342, 343, 344, 345, 346, 347, 348, 349, 350,\n       351, 352, 353, 354, 355, 356, 357, 358, 359, 360, 361, 362, 363,\n       364, 365, 366, 367, 368, 369, 370, 371, 372, 373, 374, 375, 376,\n       377, 378, 379, 380, 381, 382, 383, 384, 385, 386, 387, 388, 389,\n       390, 391, 392, 393, 394, 395, 396, 397, 398, 399, 400, 401, 402,\n       403, 404, 405, 406, 407, 408, 409, 410, 411, 412, 413, 414, 415,\n       416, 417, 418, 419, 420, 421, 422, 423, 424, 425, 426, 427, 428,\n       429, 430, 431, 432, 433, 434, 435, 436, 437, 438, 439, 440, 441,\n       442, 443, 444, 445, 446, 447, 448, 449, 450, 451, 452, 453, 454,\n       455, 456, 457, 458, 459, 460, 461, 462, 463, 464, 465, 466, 467,\n       468, 469, 470, 471, 472, 473, 474, 475, 476, 477, 478, 479, 480,\n       481, 482, 483, 484, 485, 486, 487, 488, 489, 490, 491, 492, 493,\n       494, 495, 496, 497, 498, 499, 500, 501, 502, 503, 504, 505, 506,\n       507, 508, 509, 510, 511, 512, 513, 514, 515, 516, 517, 518, 519,\n       520, 521, 522, 523, 524, 525, 526, 527, 528, 529, 530, 531, 532,\n       533, 534, 535, 536, 537, 538, 539, 540, 541, 542, 543, 544, 545,\n       546, 547, 548, 549])"
     },
     "metadata": {}
    }
   ]
  },
  {
   "cell_type": "code",
   "metadata": {
    "cell_id": "64592425d64449d4859a6d53b3031a6b",
    "tags": [],
    "deepnote_to_be_reexecuted": false,
    "source_hash": "6a96b54",
    "execution_start": 1654354291125,
    "execution_millis": 7,
    "deepnote_cell_type": "code",
    "deepnote_cell_height": 81
   },
   "source": "df_books['Rango'] = data",
   "execution_count": null,
   "outputs": []
  },
  {
   "cell_type": "code",
   "metadata": {
    "cell_id": "855331ef9e8744ffa37f74eb80b792ef",
    "tags": [],
    "deepnote_to_be_reexecuted": false,
    "source_hash": "42b86fa",
    "execution_start": 1654354291167,
    "execution_millis": 65,
    "deepnote_cell_type": "code",
    "deepnote_cell_height": 600
   },
   "source": "df_books",
   "execution_count": null,
   "outputs": [
    {
     "output_type": "execute_result",
     "execution_count": 19,
     "data": {
      "application/vnd.deepnote.dataframe.v3+json": {
       "column_count": 6,
       "row_count": 550,
       "columns": [
        {
         "name": "Name",
         "dtype": "object",
         "stats": {
          "unique_count": 351,
          "nan_count": 0,
          "categories": [
           {
            "name": "Publication Manual of the American Psychological Association, 6th Edition",
            "count": 10
           },
           {
            "name": "StrengthsFinder 2.0",
            "count": 9
           },
           {
            "name": "349 others",
            "count": 531
           }
          ]
         }
        },
        {
         "name": "Author",
         "dtype": "object",
         "stats": {
          "unique_count": 248,
          "nan_count": 0,
          "categories": [
           {
            "name": "Jeff Kinney",
            "count": 12
           },
           {
            "name": "Suzanne Collins",
            "count": 11
           },
           {
            "name": "246 others",
            "count": 527
           }
          ]
         }
        },
        {
         "name": "User-Rating",
         "dtype": "float64",
         "stats": {
          "unique_count": 14,
          "nan_count": 0,
          "min": "3.3",
          "max": "4.9",
          "histogram": [
           {
            "bin_start": 3.3,
            "bin_end": 3.46,
            "count": 1
           },
           {
            "bin_start": 3.46,
            "bin_end": 3.62,
            "count": 1
           },
           {
            "bin_start": 3.62,
            "bin_end": 3.7800000000000002,
            "count": 0
           },
           {
            "bin_start": 3.7800000000000002,
            "bin_end": 3.94,
            "count": 5
           },
           {
            "bin_start": 3.94,
            "bin_end": 4.1,
            "count": 14
           },
           {
            "bin_start": 4.1,
            "bin_end": 4.26,
            "count": 14
           },
           {
            "bin_start": 4.26,
            "bin_end": 4.42,
            "count": 63
           },
           {
            "bin_start": 4.42,
            "bin_end": 4.58,
            "count": 60
           },
           {
            "bin_start": 4.58,
            "bin_end": 4.74,
            "count": 213
           },
           {
            "bin_start": 4.74,
            "bin_end": 4.9,
            "count": 179
           }
          ]
         }
        },
        {
         "name": "Reviews",
         "dtype": "int64",
         "stats": {
          "unique_count": 346,
          "nan_count": 0,
          "min": "37",
          "max": "87841",
          "histogram": [
           {
            "bin_start": 37,
            "bin_end": 8817.4,
            "count": 287
           },
           {
            "bin_start": 8817.4,
            "bin_end": 17597.8,
            "count": 131
           },
           {
            "bin_start": 17597.8,
            "bin_end": 26378.199999999997,
            "count": 87
           },
           {
            "bin_start": 26378.199999999997,
            "bin_end": 35158.6,
            "count": 25
           },
           {
            "bin_start": 35158.6,
            "bin_end": 43939,
            "count": 4
           },
           {
            "bin_start": 43939,
            "bin_end": 52719.399999999994,
            "count": 8
           },
           {
            "bin_start": 52719.399999999994,
            "bin_end": 61499.799999999996,
            "count": 5
           },
           {
            "bin_start": 61499.799999999996,
            "bin_end": 70280.2,
            "count": 0
           },
           {
            "bin_start": 70280.2,
            "bin_end": 79060.59999999999,
            "count": 0
           },
           {
            "bin_start": 79060.59999999999,
            "bin_end": 87841,
            "count": 3
           }
          ]
         }
        },
        {
         "name": "Nueva_columna",
         "dtype": "float64",
         "stats": {
          "unique_count": 0,
          "nan_count": 550,
          "min": null,
          "max": null,
          "histogram": [
           {
            "bin_start": 0,
            "bin_end": 0.1,
            "count": 0
           },
           {
            "bin_start": 0.1,
            "bin_end": 0.2,
            "count": 0
           },
           {
            "bin_start": 0.2,
            "bin_end": 0.30000000000000004,
            "count": 0
           },
           {
            "bin_start": 0.30000000000000004,
            "bin_end": 0.4,
            "count": 0
           },
           {
            "bin_start": 0.4,
            "bin_end": 0.5,
            "count": 0
           },
           {
            "bin_start": 0.5,
            "bin_end": 0.6000000000000001,
            "count": 0
           },
           {
            "bin_start": 0.6000000000000001,
            "bin_end": 0.7000000000000001,
            "count": 0
           },
           {
            "bin_start": 0.7000000000000001,
            "bin_end": 0.8,
            "count": 0
           },
           {
            "bin_start": 0.8,
            "bin_end": 0.9,
            "count": 0
           },
           {
            "bin_start": 0.9,
            "bin_end": 1,
            "count": 0
           }
          ]
         }
        },
        {
         "name": "Rango",
         "dtype": "int64",
         "stats": {
          "unique_count": 550,
          "nan_count": 0,
          "min": "0",
          "max": "549",
          "histogram": [
           {
            "bin_start": 0,
            "bin_end": 54.9,
            "count": 55
           },
           {
            "bin_start": 54.9,
            "bin_end": 109.8,
            "count": 55
           },
           {
            "bin_start": 109.8,
            "bin_end": 164.7,
            "count": 55
           },
           {
            "bin_start": 164.7,
            "bin_end": 219.6,
            "count": 55
           },
           {
            "bin_start": 219.6,
            "bin_end": 274.5,
            "count": 55
           },
           {
            "bin_start": 274.5,
            "bin_end": 329.4,
            "count": 55
           },
           {
            "bin_start": 329.4,
            "bin_end": 384.3,
            "count": 55
           },
           {
            "bin_start": 384.3,
            "bin_end": 439.2,
            "count": 55
           },
           {
            "bin_start": 439.2,
            "bin_end": 494.09999999999997,
            "count": 55
           },
           {
            "bin_start": 494.09999999999997,
            "bin_end": 549,
            "count": 55
           }
          ]
         }
        },
        {
         "name": "_deepnote_index_column",
         "dtype": "int64"
        }
       ],
       "rows": [
        {
         "Name": "10-Day Green Smoothie Cleanse",
         "Author": "JJ Smith",
         "User-Rating": 4.7,
         "Reviews": 17350,
         "Nueva_columna": "nan",
         "Rango": 0,
         "_deepnote_index_column": 0
        },
        {
         "Name": "11/22/63: A Novel",
         "Author": "Stephen King",
         "User-Rating": 4.6,
         "Reviews": 2052,
         "Nueva_columna": "nan",
         "Rango": 1,
         "_deepnote_index_column": 1
        },
        {
         "Name": "12 Rules for Life: An Antidote to Chaos",
         "Author": "Jordan B. Peterson",
         "User-Rating": 4.7,
         "Reviews": 18979,
         "Nueva_columna": "nan",
         "Rango": 2,
         "_deepnote_index_column": 2
        },
        {
         "Name": "1984 (Signet Classics)",
         "Author": "George Orwell",
         "User-Rating": 4.7,
         "Reviews": 21424,
         "Nueva_columna": "nan",
         "Rango": 3,
         "_deepnote_index_column": 3
        },
        {
         "Name": "5,000 Awesome Facts (About Everything!) (National Geographic Kids)",
         "Author": "National Geographic Kids",
         "User-Rating": 4.8,
         "Reviews": 7665,
         "Nueva_columna": "nan",
         "Rango": 4,
         "_deepnote_index_column": 4
        },
        {
         "Name": "A Dance with Dragons (A Song of Ice and Fire)",
         "Author": "George R. R. Martin",
         "User-Rating": 4.4,
         "Reviews": 12643,
         "Nueva_columna": "nan",
         "Rango": 5,
         "_deepnote_index_column": 5
        },
        {
         "Name": "A Game of Thrones / A Clash of Kings / A Storm of Swords / A Feast of Crows / A Dance with Dragons",
         "Author": "George R. R. Martin",
         "User-Rating": 4.7,
         "Reviews": 19735,
         "Nueva_columna": "nan",
         "Rango": 6,
         "_deepnote_index_column": 6
        },
        {
         "Name": "A Gentleman in Moscow: A Novel",
         "Author": "Amor Towles",
         "User-Rating": 4.7,
         "Reviews": 19699,
         "Nueva_columna": "nan",
         "Rango": 7,
         "_deepnote_index_column": 7
        },
        {
         "Name": "A Higher Loyalty: Truth, Lies, and Leadership",
         "Author": "James Comey",
         "User-Rating": 4.7,
         "Reviews": 5983,
         "Nueva_columna": "nan",
         "Rango": 8,
         "_deepnote_index_column": 8
        },
        {
         "Name": "A Man Called Ove: A Novel",
         "Author": "Fredrik Backman",
         "User-Rating": 4.6,
         "Reviews": 23848,
         "Nueva_columna": "nan",
         "Rango": 9,
         "_deepnote_index_column": 9
        }
       ]
      },
      "text/plain": "                                                  Name  \\\n0                        10-Day Green Smoothie Cleanse   \n1                                    11/22/63: A Novel   \n2              12 Rules for Life: An Antidote to Chaos   \n3                               1984 (Signet Classics)   \n4    5,000 Awesome Facts (About Everything!) (Natio...   \n..                                                 ...   \n545       Wrecking Ball (Diary of a Wimpy Kid Book 14)   \n546  You Are a Badass: How to Stop Doubting Your Gr...   \n547  You Are a Badass: How to Stop Doubting Your Gr...   \n548  You Are a Badass: How to Stop Doubting Your Gr...   \n549  You Are a Badass: How to Stop Doubting Your Gr...   \n\n                       Author  User-Rating  Reviews  Nueva_columna  Rango  \n0                    JJ Smith          4.7    17350            NaN      0  \n1                Stephen King          4.6     2052            NaN      1  \n2          Jordan B. Peterson          4.7    18979            NaN      2  \n3               George Orwell          4.7    21424            NaN      3  \n4    National Geographic Kids          4.8     7665            NaN      4  \n..                        ...          ...      ...            ...    ...  \n545               Jeff Kinney          4.9     9413            NaN    545  \n546               Jen Sincero          4.7    14331            NaN    546  \n547               Jen Sincero          4.7    14331            NaN    547  \n548               Jen Sincero          4.7    14331            NaN    548  \n549               Jen Sincero          4.7    14331            NaN    549  \n\n[550 rows x 6 columns]",
      "text/html": "<div>\n<style scoped>\n    .dataframe tbody tr th:only-of-type {\n        vertical-align: middle;\n    }\n\n    .dataframe tbody tr th {\n        vertical-align: top;\n    }\n\n    .dataframe thead th {\n        text-align: right;\n    }\n</style>\n<table border=\"1\" class=\"dataframe\">\n  <thead>\n    <tr style=\"text-align: right;\">\n      <th></th>\n      <th>Name</th>\n      <th>Author</th>\n      <th>User-Rating</th>\n      <th>Reviews</th>\n      <th>Nueva_columna</th>\n      <th>Rango</th>\n    </tr>\n  </thead>\n  <tbody>\n    <tr>\n      <th>0</th>\n      <td>10-Day Green Smoothie Cleanse</td>\n      <td>JJ Smith</td>\n      <td>4.7</td>\n      <td>17350</td>\n      <td>NaN</td>\n      <td>0</td>\n    </tr>\n    <tr>\n      <th>1</th>\n      <td>11/22/63: A Novel</td>\n      <td>Stephen King</td>\n      <td>4.6</td>\n      <td>2052</td>\n      <td>NaN</td>\n      <td>1</td>\n    </tr>\n    <tr>\n      <th>2</th>\n      <td>12 Rules for Life: An Antidote to Chaos</td>\n      <td>Jordan B. Peterson</td>\n      <td>4.7</td>\n      <td>18979</td>\n      <td>NaN</td>\n      <td>2</td>\n    </tr>\n    <tr>\n      <th>3</th>\n      <td>1984 (Signet Classics)</td>\n      <td>George Orwell</td>\n      <td>4.7</td>\n      <td>21424</td>\n      <td>NaN</td>\n      <td>3</td>\n    </tr>\n    <tr>\n      <th>4</th>\n      <td>5,000 Awesome Facts (About Everything!) (Natio...</td>\n      <td>National Geographic Kids</td>\n      <td>4.8</td>\n      <td>7665</td>\n      <td>NaN</td>\n      <td>4</td>\n    </tr>\n    <tr>\n      <th>...</th>\n      <td>...</td>\n      <td>...</td>\n      <td>...</td>\n      <td>...</td>\n      <td>...</td>\n      <td>...</td>\n    </tr>\n    <tr>\n      <th>545</th>\n      <td>Wrecking Ball (Diary of a Wimpy Kid Book 14)</td>\n      <td>Jeff Kinney</td>\n      <td>4.9</td>\n      <td>9413</td>\n      <td>NaN</td>\n      <td>545</td>\n    </tr>\n    <tr>\n      <th>546</th>\n      <td>You Are a Badass: How to Stop Doubting Your Gr...</td>\n      <td>Jen Sincero</td>\n      <td>4.7</td>\n      <td>14331</td>\n      <td>NaN</td>\n      <td>546</td>\n    </tr>\n    <tr>\n      <th>547</th>\n      <td>You Are a Badass: How to Stop Doubting Your Gr...</td>\n      <td>Jen Sincero</td>\n      <td>4.7</td>\n      <td>14331</td>\n      <td>NaN</td>\n      <td>547</td>\n    </tr>\n    <tr>\n      <th>548</th>\n      <td>You Are a Badass: How to Stop Doubting Your Gr...</td>\n      <td>Jen Sincero</td>\n      <td>4.7</td>\n      <td>14331</td>\n      <td>NaN</td>\n      <td>548</td>\n    </tr>\n    <tr>\n      <th>549</th>\n      <td>You Are a Badass: How to Stop Doubting Your Gr...</td>\n      <td>Jen Sincero</td>\n      <td>4.7</td>\n      <td>14331</td>\n      <td>NaN</td>\n      <td>549</td>\n    </tr>\n  </tbody>\n</table>\n<p>550 rows × 6 columns</p>\n</div>"
     },
     "metadata": {}
    }
   ]
  },
  {
   "cell_type": "markdown",
   "source": "## Add Rows - Agregar Filas\nel método `append()` funciona para agregar filas a un DataFrame",
   "metadata": {
    "cell_id": "35061983c08148f2bedfe7bdc1d88007",
    "tags": [],
    "deepnote_cell_type": "markdown",
    "deepnote_cell_height": 108.390625
   }
  },
  {
   "cell_type": "code",
   "metadata": {
    "cell_id": "1ce8f675669048caae8ca82ad1cbd1f9",
    "tags": [],
    "deepnote_to_be_reexecuted": false,
    "source_hash": "993161da",
    "execution_start": 1654354291286,
    "execution_millis": 31,
    "deepnote_cell_type": "code",
    "deepnote_cell_height": 664.1875
   },
   "source": "print(f'DataFrame antes de append')\ndf_books.append(df_books)",
   "execution_count": null,
   "outputs": [
    {
     "name": "stdout",
     "text": "DataFrame antes de append\n",
     "output_type": "stream"
    },
    {
     "output_type": "execute_result",
     "execution_count": 20,
     "data": {
      "application/vnd.deepnote.dataframe.v3+json": {
       "column_count": 6,
       "row_count": 1100,
       "columns": [
        {
         "name": "Name",
         "dtype": "object",
         "stats": {
          "unique_count": 351,
          "nan_count": 0,
          "categories": [
           {
            "name": "Publication Manual of the American Psychological Association, 6th Edition",
            "count": 20
           },
           {
            "name": "StrengthsFinder 2.0",
            "count": 18
           },
           {
            "name": "349 others",
            "count": 1062
           }
          ]
         }
        },
        {
         "name": "Author",
         "dtype": "object",
         "stats": {
          "unique_count": 248,
          "nan_count": 0,
          "categories": [
           {
            "name": "Jeff Kinney",
            "count": 24
           },
           {
            "name": "Suzanne Collins",
            "count": 22
           },
           {
            "name": "246 others",
            "count": 1054
           }
          ]
         }
        },
        {
         "name": "User-Rating",
         "dtype": "float64",
         "stats": {
          "unique_count": 14,
          "nan_count": 0,
          "min": "3.3",
          "max": "4.9",
          "histogram": [
           {
            "bin_start": 3.3,
            "bin_end": 3.46,
            "count": 2
           },
           {
            "bin_start": 3.46,
            "bin_end": 3.62,
            "count": 2
           },
           {
            "bin_start": 3.62,
            "bin_end": 3.7800000000000002,
            "count": 0
           },
           {
            "bin_start": 3.7800000000000002,
            "bin_end": 3.94,
            "count": 10
           },
           {
            "bin_start": 3.94,
            "bin_end": 4.1,
            "count": 28
           },
           {
            "bin_start": 4.1,
            "bin_end": 4.26,
            "count": 28
           },
           {
            "bin_start": 4.26,
            "bin_end": 4.42,
            "count": 126
           },
           {
            "bin_start": 4.42,
            "bin_end": 4.58,
            "count": 120
           },
           {
            "bin_start": 4.58,
            "bin_end": 4.74,
            "count": 426
           },
           {
            "bin_start": 4.74,
            "bin_end": 4.9,
            "count": 358
           }
          ]
         }
        },
        {
         "name": "Reviews",
         "dtype": "int64",
         "stats": {
          "unique_count": 346,
          "nan_count": 0,
          "min": "37",
          "max": "87841",
          "histogram": [
           {
            "bin_start": 37,
            "bin_end": 8817.4,
            "count": 574
           },
           {
            "bin_start": 8817.4,
            "bin_end": 17597.8,
            "count": 262
           },
           {
            "bin_start": 17597.8,
            "bin_end": 26378.199999999997,
            "count": 174
           },
           {
            "bin_start": 26378.199999999997,
            "bin_end": 35158.6,
            "count": 50
           },
           {
            "bin_start": 35158.6,
            "bin_end": 43939,
            "count": 8
           },
           {
            "bin_start": 43939,
            "bin_end": 52719.399999999994,
            "count": 16
           },
           {
            "bin_start": 52719.399999999994,
            "bin_end": 61499.799999999996,
            "count": 10
           },
           {
            "bin_start": 61499.799999999996,
            "bin_end": 70280.2,
            "count": 0
           },
           {
            "bin_start": 70280.2,
            "bin_end": 79060.59999999999,
            "count": 0
           },
           {
            "bin_start": 79060.59999999999,
            "bin_end": 87841,
            "count": 6
           }
          ]
         }
        },
        {
         "name": "Nueva_columna",
         "dtype": "float64",
         "stats": {
          "unique_count": 0,
          "nan_count": 1100,
          "min": null,
          "max": null,
          "histogram": [
           {
            "bin_start": 0,
            "bin_end": 0.1,
            "count": 0
           },
           {
            "bin_start": 0.1,
            "bin_end": 0.2,
            "count": 0
           },
           {
            "bin_start": 0.2,
            "bin_end": 0.30000000000000004,
            "count": 0
           },
           {
            "bin_start": 0.30000000000000004,
            "bin_end": 0.4,
            "count": 0
           },
           {
            "bin_start": 0.4,
            "bin_end": 0.5,
            "count": 0
           },
           {
            "bin_start": 0.5,
            "bin_end": 0.6000000000000001,
            "count": 0
           },
           {
            "bin_start": 0.6000000000000001,
            "bin_end": 0.7000000000000001,
            "count": 0
           },
           {
            "bin_start": 0.7000000000000001,
            "bin_end": 0.8,
            "count": 0
           },
           {
            "bin_start": 0.8,
            "bin_end": 0.9,
            "count": 0
           },
           {
            "bin_start": 0.9,
            "bin_end": 1,
            "count": 0
           }
          ]
         }
        },
        {
         "name": "Rango",
         "dtype": "int64",
         "stats": {
          "unique_count": 550,
          "nan_count": 0,
          "min": "0",
          "max": "549",
          "histogram": [
           {
            "bin_start": 0,
            "bin_end": 54.9,
            "count": 110
           },
           {
            "bin_start": 54.9,
            "bin_end": 109.8,
            "count": 110
           },
           {
            "bin_start": 109.8,
            "bin_end": 164.7,
            "count": 110
           },
           {
            "bin_start": 164.7,
            "bin_end": 219.6,
            "count": 110
           },
           {
            "bin_start": 219.6,
            "bin_end": 274.5,
            "count": 110
           },
           {
            "bin_start": 274.5,
            "bin_end": 329.4,
            "count": 110
           },
           {
            "bin_start": 329.4,
            "bin_end": 384.3,
            "count": 110
           },
           {
            "bin_start": 384.3,
            "bin_end": 439.2,
            "count": 110
           },
           {
            "bin_start": 439.2,
            "bin_end": 494.09999999999997,
            "count": 110
           },
           {
            "bin_start": 494.09999999999997,
            "bin_end": 549,
            "count": 110
           }
          ]
         }
        },
        {
         "name": "_deepnote_index_column",
         "dtype": "int64"
        }
       ],
       "rows": [
        {
         "Name": "10-Day Green Smoothie Cleanse",
         "Author": "JJ Smith",
         "User-Rating": 4.7,
         "Reviews": 17350,
         "Nueva_columna": "nan",
         "Rango": 0,
         "_deepnote_index_column": 0
        },
        {
         "Name": "11/22/63: A Novel",
         "Author": "Stephen King",
         "User-Rating": 4.6,
         "Reviews": 2052,
         "Nueva_columna": "nan",
         "Rango": 1,
         "_deepnote_index_column": 1
        },
        {
         "Name": "12 Rules for Life: An Antidote to Chaos",
         "Author": "Jordan B. Peterson",
         "User-Rating": 4.7,
         "Reviews": 18979,
         "Nueva_columna": "nan",
         "Rango": 2,
         "_deepnote_index_column": 2
        },
        {
         "Name": "1984 (Signet Classics)",
         "Author": "George Orwell",
         "User-Rating": 4.7,
         "Reviews": 21424,
         "Nueva_columna": "nan",
         "Rango": 3,
         "_deepnote_index_column": 3
        },
        {
         "Name": "5,000 Awesome Facts (About Everything!) (National Geographic Kids)",
         "Author": "National Geographic Kids",
         "User-Rating": 4.8,
         "Reviews": 7665,
         "Nueva_columna": "nan",
         "Rango": 4,
         "_deepnote_index_column": 4
        },
        {
         "Name": "A Dance with Dragons (A Song of Ice and Fire)",
         "Author": "George R. R. Martin",
         "User-Rating": 4.4,
         "Reviews": 12643,
         "Nueva_columna": "nan",
         "Rango": 5,
         "_deepnote_index_column": 5
        },
        {
         "Name": "A Game of Thrones / A Clash of Kings / A Storm of Swords / A Feast of Crows / A Dance with Dragons",
         "Author": "George R. R. Martin",
         "User-Rating": 4.7,
         "Reviews": 19735,
         "Nueva_columna": "nan",
         "Rango": 6,
         "_deepnote_index_column": 6
        },
        {
         "Name": "A Gentleman in Moscow: A Novel",
         "Author": "Amor Towles",
         "User-Rating": 4.7,
         "Reviews": 19699,
         "Nueva_columna": "nan",
         "Rango": 7,
         "_deepnote_index_column": 7
        },
        {
         "Name": "A Higher Loyalty: Truth, Lies, and Leadership",
         "Author": "James Comey",
         "User-Rating": 4.7,
         "Reviews": 5983,
         "Nueva_columna": "nan",
         "Rango": 8,
         "_deepnote_index_column": 8
        },
        {
         "Name": "A Man Called Ove: A Novel",
         "Author": "Fredrik Backman",
         "User-Rating": 4.6,
         "Reviews": 23848,
         "Nueva_columna": "nan",
         "Rango": 9,
         "_deepnote_index_column": 9
        }
       ]
      },
      "text/plain": "                                                  Name  \\\n0                        10-Day Green Smoothie Cleanse   \n1                                    11/22/63: A Novel   \n2              12 Rules for Life: An Antidote to Chaos   \n3                               1984 (Signet Classics)   \n4    5,000 Awesome Facts (About Everything!) (Natio...   \n..                                                 ...   \n545       Wrecking Ball (Diary of a Wimpy Kid Book 14)   \n546  You Are a Badass: How to Stop Doubting Your Gr...   \n547  You Are a Badass: How to Stop Doubting Your Gr...   \n548  You Are a Badass: How to Stop Doubting Your Gr...   \n549  You Are a Badass: How to Stop Doubting Your Gr...   \n\n                       Author  User-Rating  Reviews  Nueva_columna  Rango  \n0                    JJ Smith          4.7    17350            NaN      0  \n1                Stephen King          4.6     2052            NaN      1  \n2          Jordan B. Peterson          4.7    18979            NaN      2  \n3               George Orwell          4.7    21424            NaN      3  \n4    National Geographic Kids          4.8     7665            NaN      4  \n..                        ...          ...      ...            ...    ...  \n545               Jeff Kinney          4.9     9413            NaN    545  \n546               Jen Sincero          4.7    14331            NaN    546  \n547               Jen Sincero          4.7    14331            NaN    547  \n548               Jen Sincero          4.7    14331            NaN    548  \n549               Jen Sincero          4.7    14331            NaN    549  \n\n[1100 rows x 6 columns]",
      "text/html": "<div>\n<style scoped>\n    .dataframe tbody tr th:only-of-type {\n        vertical-align: middle;\n    }\n\n    .dataframe tbody tr th {\n        vertical-align: top;\n    }\n\n    .dataframe thead th {\n        text-align: right;\n    }\n</style>\n<table border=\"1\" class=\"dataframe\">\n  <thead>\n    <tr style=\"text-align: right;\">\n      <th></th>\n      <th>Name</th>\n      <th>Author</th>\n      <th>User-Rating</th>\n      <th>Reviews</th>\n      <th>Nueva_columna</th>\n      <th>Rango</th>\n    </tr>\n  </thead>\n  <tbody>\n    <tr>\n      <th>0</th>\n      <td>10-Day Green Smoothie Cleanse</td>\n      <td>JJ Smith</td>\n      <td>4.7</td>\n      <td>17350</td>\n      <td>NaN</td>\n      <td>0</td>\n    </tr>\n    <tr>\n      <th>1</th>\n      <td>11/22/63: A Novel</td>\n      <td>Stephen King</td>\n      <td>4.6</td>\n      <td>2052</td>\n      <td>NaN</td>\n      <td>1</td>\n    </tr>\n    <tr>\n      <th>2</th>\n      <td>12 Rules for Life: An Antidote to Chaos</td>\n      <td>Jordan B. Peterson</td>\n      <td>4.7</td>\n      <td>18979</td>\n      <td>NaN</td>\n      <td>2</td>\n    </tr>\n    <tr>\n      <th>3</th>\n      <td>1984 (Signet Classics)</td>\n      <td>George Orwell</td>\n      <td>4.7</td>\n      <td>21424</td>\n      <td>NaN</td>\n      <td>3</td>\n    </tr>\n    <tr>\n      <th>4</th>\n      <td>5,000 Awesome Facts (About Everything!) (Natio...</td>\n      <td>National Geographic Kids</td>\n      <td>4.8</td>\n      <td>7665</td>\n      <td>NaN</td>\n      <td>4</td>\n    </tr>\n    <tr>\n      <th>...</th>\n      <td>...</td>\n      <td>...</td>\n      <td>...</td>\n      <td>...</td>\n      <td>...</td>\n      <td>...</td>\n    </tr>\n    <tr>\n      <th>545</th>\n      <td>Wrecking Ball (Diary of a Wimpy Kid Book 14)</td>\n      <td>Jeff Kinney</td>\n      <td>4.9</td>\n      <td>9413</td>\n      <td>NaN</td>\n      <td>545</td>\n    </tr>\n    <tr>\n      <th>546</th>\n      <td>You Are a Badass: How to Stop Doubting Your Gr...</td>\n      <td>Jen Sincero</td>\n      <td>4.7</td>\n      <td>14331</td>\n      <td>NaN</td>\n      <td>546</td>\n    </tr>\n    <tr>\n      <th>547</th>\n      <td>You Are a Badass: How to Stop Doubting Your Gr...</td>\n      <td>Jen Sincero</td>\n      <td>4.7</td>\n      <td>14331</td>\n      <td>NaN</td>\n      <td>547</td>\n    </tr>\n    <tr>\n      <th>548</th>\n      <td>You Are a Badass: How to Stop Doubting Your Gr...</td>\n      <td>Jen Sincero</td>\n      <td>4.7</td>\n      <td>14331</td>\n      <td>NaN</td>\n      <td>548</td>\n    </tr>\n    <tr>\n      <th>549</th>\n      <td>You Are a Badass: How to Stop Doubting Your Gr...</td>\n      <td>Jen Sincero</td>\n      <td>4.7</td>\n      <td>14331</td>\n      <td>NaN</td>\n      <td>549</td>\n    </tr>\n  </tbody>\n</table>\n<p>1100 rows × 6 columns</p>\n</div>"
     },
     "metadata": {}
    }
   ]
  },
  {
   "cell_type": "markdown",
   "source": "<a style='text-decoration:none;line-height:16px;display:flex;color:#5B5B62;padding:10px;justify-content:end;' href='https://deepnote.com?utm_source=created-in-deepnote-cell&projectId=837cf1af-c506-4091-b16c-c4a4c0575614' target=\"_blank\">\n<img alt='Created in deepnote.com' style='display:inline;max-height:16px;margin:0px;margin-right:7.5px;' src='data:image/svg+xml;base64,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' > </img>\nCreated in <span style='font-weight:600;margin-left:4px;'>Deepnote</span></a>",
   "metadata": {
    "tags": [],
    "created_in_deepnote_cell": true,
    "deepnote_cell_type": "markdown"
   }
  }
 ],
 "nbformat": 4,
 "nbformat_minor": 2,
 "metadata": {
  "orig_nbformat": 2,
  "deepnote": {},
  "deepnote_notebook_id": "d01f0f8b-240d-48ec-9ac4-19563a36d4c3",
  "deepnote_execution_queue": []
 }
}