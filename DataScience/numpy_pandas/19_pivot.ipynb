{
 "cells": [
  {
   "cell_type": "code",
   "metadata": {
    "cell_id": "cdae0d4f05df4107a6fed5ee55c107cd",
    "tags": [],
    "deepnote_to_be_reexecuted": false,
    "source_hash": "c76c7c51",
    "execution_start": 1654529897739,
    "execution_millis": 1,
    "deepnote_cell_type": "code",
    "deepnote_cell_height": 99
   },
   "source": "import pandas as pd\nimport numpy as np",
   "execution_count": null,
   "outputs": []
  },
  {
   "cell_type": "code",
   "metadata": {
    "tags": [],
    "cell_id": "be235c88-42f7-4c51-9e07-f24ab9f61cb8",
    "deepnote_to_be_reexecuted": false,
    "source_hash": "adf3d5de",
    "execution_start": 1654529897745,
    "execution_millis": 116,
    "owner_user_id": "6b4a8dcb-83e3-48d8-857e-449aa20f64fc",
    "deepnote_cell_type": "code",
    "deepnote_cell_height": 618
   },
   "source": "df_books = pd.read_csv('https://static.platzi.com/media/public/uploads/bestsellers-with-categories_e591527f-ae45-4fa5-b0d1-d50142128fa6.csv', sep=',', header=0, names=['Name', 'Author', 'User-Rating', 'Reviews', 'Price', 'Year', 'Genre'])\ndf_books",
   "execution_count": null,
   "outputs": [
    {
     "output_type": "execute_result",
     "execution_count": 3,
     "data": {
      "application/vnd.deepnote.dataframe.v3+json": {
       "column_count": 7,
       "row_count": 550,
       "columns": [
        {
         "name": "Name",
         "dtype": "object",
         "stats": {
          "unique_count": 351,
          "nan_count": 0,
          "categories": [
           {
            "name": "Publication Manual of the American Psychological Association, 6th Edition",
            "count": 10
           },
           {
            "name": "StrengthsFinder 2.0",
            "count": 9
           },
           {
            "name": "349 others",
            "count": 531
           }
          ]
         }
        },
        {
         "name": "Author",
         "dtype": "object",
         "stats": {
          "unique_count": 248,
          "nan_count": 0,
          "categories": [
           {
            "name": "Jeff Kinney",
            "count": 12
           },
           {
            "name": "Suzanne Collins",
            "count": 11
           },
           {
            "name": "246 others",
            "count": 527
           }
          ]
         }
        },
        {
         "name": "User-Rating",
         "dtype": "float64",
         "stats": {
          "unique_count": 14,
          "nan_count": 0,
          "min": "3.3",
          "max": "4.9",
          "histogram": [
           {
            "bin_start": 3.3,
            "bin_end": 3.46,
            "count": 1
           },
           {
            "bin_start": 3.46,
            "bin_end": 3.62,
            "count": 1
           },
           {
            "bin_start": 3.62,
            "bin_end": 3.7800000000000002,
            "count": 0
           },
           {
            "bin_start": 3.7800000000000002,
            "bin_end": 3.94,
            "count": 5
           },
           {
            "bin_start": 3.94,
            "bin_end": 4.1,
            "count": 14
           },
           {
            "bin_start": 4.1,
            "bin_end": 4.26,
            "count": 14
           },
           {
            "bin_start": 4.26,
            "bin_end": 4.42,
            "count": 63
           },
           {
            "bin_start": 4.42,
            "bin_end": 4.58,
            "count": 60
           },
           {
            "bin_start": 4.58,
            "bin_end": 4.74,
            "count": 213
           },
           {
            "bin_start": 4.74,
            "bin_end": 4.9,
            "count": 179
           }
          ]
         }
        },
        {
         "name": "Reviews",
         "dtype": "int64",
         "stats": {
          "unique_count": 346,
          "nan_count": 0,
          "min": "37",
          "max": "87841",
          "histogram": [
           {
            "bin_start": 37,
            "bin_end": 8817.4,
            "count": 287
           },
           {
            "bin_start": 8817.4,
            "bin_end": 17597.8,
            "count": 131
           },
           {
            "bin_start": 17597.8,
            "bin_end": 26378.199999999997,
            "count": 87
           },
           {
            "bin_start": 26378.199999999997,
            "bin_end": 35158.6,
            "count": 25
           },
           {
            "bin_start": 35158.6,
            "bin_end": 43939,
            "count": 4
           },
           {
            "bin_start": 43939,
            "bin_end": 52719.399999999994,
            "count": 8
           },
           {
            "bin_start": 52719.399999999994,
            "bin_end": 61499.799999999996,
            "count": 5
           },
           {
            "bin_start": 61499.799999999996,
            "bin_end": 70280.2,
            "count": 0
           },
           {
            "bin_start": 70280.2,
            "bin_end": 79060.59999999999,
            "count": 0
           },
           {
            "bin_start": 79060.59999999999,
            "bin_end": 87841,
            "count": 3
           }
          ]
         }
        },
        {
         "name": "Price",
         "dtype": "int64",
         "stats": {
          "unique_count": 40,
          "nan_count": 0,
          "min": "0",
          "max": "105",
          "histogram": [
           {
            "bin_start": 0,
            "bin_end": 10.5,
            "count": 266
           },
           {
            "bin_start": 10.5,
            "bin_end": 21,
            "count": 216
           },
           {
            "bin_start": 21,
            "bin_end": 31.5,
            "count": 42
           },
           {
            "bin_start": 31.5,
            "bin_end": 42,
            "count": 9
           },
           {
            "bin_start": 42,
            "bin_end": 52.5,
            "count": 12
           },
           {
            "bin_start": 52.5,
            "bin_end": 63,
            "count": 2
           },
           {
            "bin_start": 63,
            "bin_end": 73.5,
            "count": 0
           },
           {
            "bin_start": 73.5,
            "bin_end": 84,
            "count": 1
           },
           {
            "bin_start": 84,
            "bin_end": 94.5,
            "count": 0
           },
           {
            "bin_start": 94.5,
            "bin_end": 105,
            "count": 2
           }
          ]
         }
        },
        {
         "name": "Year",
         "dtype": "int64",
         "stats": {
          "unique_count": 11,
          "nan_count": 0,
          "min": "2009",
          "max": "2019",
          "histogram": [
           {
            "bin_start": 2009,
            "bin_end": 2010,
            "count": 50
           },
           {
            "bin_start": 2010,
            "bin_end": 2011,
            "count": 50
           },
           {
            "bin_start": 2011,
            "bin_end": 2012,
            "count": 50
           },
           {
            "bin_start": 2012,
            "bin_end": 2013,
            "count": 50
           },
           {
            "bin_start": 2013,
            "bin_end": 2014,
            "count": 50
           },
           {
            "bin_start": 2014,
            "bin_end": 2015,
            "count": 50
           },
           {
            "bin_start": 2015,
            "bin_end": 2016,
            "count": 50
           },
           {
            "bin_start": 2016,
            "bin_end": 2017,
            "count": 50
           },
           {
            "bin_start": 2017,
            "bin_end": 2018,
            "count": 50
           },
           {
            "bin_start": 2018,
            "bin_end": 2019,
            "count": 100
           }
          ]
         }
        },
        {
         "name": "Genre",
         "dtype": "object",
         "stats": {
          "unique_count": 2,
          "nan_count": 0,
          "categories": [
           {
            "name": "Non Fiction",
            "count": 310
           },
           {
            "name": "Fiction",
            "count": 240
           }
          ]
         }
        },
        {
         "name": "_deepnote_index_column",
         "dtype": "int64"
        }
       ],
       "rows": [
        {
         "Name": "10-Day Green Smoothie Cleanse",
         "Author": "JJ Smith",
         "User-Rating": 4.7,
         "Reviews": 17350,
         "Price": 8,
         "Year": 2016,
         "Genre": "Non Fiction",
         "_deepnote_index_column": 0
        },
        {
         "Name": "11/22/63: A Novel",
         "Author": "Stephen King",
         "User-Rating": 4.6,
         "Reviews": 2052,
         "Price": 22,
         "Year": 2011,
         "Genre": "Fiction",
         "_deepnote_index_column": 1
        },
        {
         "Name": "12 Rules for Life: An Antidote to Chaos",
         "Author": "Jordan B. Peterson",
         "User-Rating": 4.7,
         "Reviews": 18979,
         "Price": 15,
         "Year": 2018,
         "Genre": "Non Fiction",
         "_deepnote_index_column": 2
        },
        {
         "Name": "1984 (Signet Classics)",
         "Author": "George Orwell",
         "User-Rating": 4.7,
         "Reviews": 21424,
         "Price": 6,
         "Year": 2017,
         "Genre": "Fiction",
         "_deepnote_index_column": 3
        },
        {
         "Name": "5,000 Awesome Facts (About Everything!) (National Geographic Kids)",
         "Author": "National Geographic Kids",
         "User-Rating": 4.8,
         "Reviews": 7665,
         "Price": 12,
         "Year": 2019,
         "Genre": "Non Fiction",
         "_deepnote_index_column": 4
        },
        {
         "Name": "A Dance with Dragons (A Song of Ice and Fire)",
         "Author": "George R. R. Martin",
         "User-Rating": 4.4,
         "Reviews": 12643,
         "Price": 11,
         "Year": 2011,
         "Genre": "Fiction",
         "_deepnote_index_column": 5
        },
        {
         "Name": "A Game of Thrones / A Clash of Kings / A Storm of Swords / A Feast of Crows / A Dance with Dragons",
         "Author": "George R. R. Martin",
         "User-Rating": 4.7,
         "Reviews": 19735,
         "Price": 30,
         "Year": 2014,
         "Genre": "Fiction",
         "_deepnote_index_column": 6
        },
        {
         "Name": "A Gentleman in Moscow: A Novel",
         "Author": "Amor Towles",
         "User-Rating": 4.7,
         "Reviews": 19699,
         "Price": 15,
         "Year": 2017,
         "Genre": "Fiction",
         "_deepnote_index_column": 7
        },
        {
         "Name": "A Higher Loyalty: Truth, Lies, and Leadership",
         "Author": "James Comey",
         "User-Rating": 4.7,
         "Reviews": 5983,
         "Price": 3,
         "Year": 2018,
         "Genre": "Non Fiction",
         "_deepnote_index_column": 8
        },
        {
         "Name": "A Man Called Ove: A Novel",
         "Author": "Fredrik Backman",
         "User-Rating": 4.6,
         "Reviews": 23848,
         "Price": 8,
         "Year": 2016,
         "Genre": "Fiction",
         "_deepnote_index_column": 9
        }
       ]
      },
      "text/plain": "                                                  Name  \\\n0                        10-Day Green Smoothie Cleanse   \n1                                    11/22/63: A Novel   \n2              12 Rules for Life: An Antidote to Chaos   \n3                               1984 (Signet Classics)   \n4    5,000 Awesome Facts (About Everything!) (Natio...   \n..                                                 ...   \n545       Wrecking Ball (Diary of a Wimpy Kid Book 14)   \n546  You Are a Badass: How to Stop Doubting Your Gr...   \n547  You Are a Badass: How to Stop Doubting Your Gr...   \n548  You Are a Badass: How to Stop Doubting Your Gr...   \n549  You Are a Badass: How to Stop Doubting Your Gr...   \n\n                       Author  User-Rating  Reviews  Price  Year        Genre  \n0                    JJ Smith          4.7    17350      8  2016  Non Fiction  \n1                Stephen King          4.6     2052     22  2011      Fiction  \n2          Jordan B. Peterson          4.7    18979     15  2018  Non Fiction  \n3               George Orwell          4.7    21424      6  2017      Fiction  \n4    National Geographic Kids          4.8     7665     12  2019  Non Fiction  \n..                        ...          ...      ...    ...   ...          ...  \n545               Jeff Kinney          4.9     9413      8  2019      Fiction  \n546               Jen Sincero          4.7    14331      8  2016  Non Fiction  \n547               Jen Sincero          4.7    14331      8  2017  Non Fiction  \n548               Jen Sincero          4.7    14331      8  2018  Non Fiction  \n549               Jen Sincero          4.7    14331      8  2019  Non Fiction  \n\n[550 rows x 7 columns]",
      "text/html": "<div>\n<style scoped>\n    .dataframe tbody tr th:only-of-type {\n        vertical-align: middle;\n    }\n\n    .dataframe tbody tr th {\n        vertical-align: top;\n    }\n\n    .dataframe thead th {\n        text-align: right;\n    }\n</style>\n<table border=\"1\" class=\"dataframe\">\n  <thead>\n    <tr style=\"text-align: right;\">\n      <th></th>\n      <th>Name</th>\n      <th>Author</th>\n      <th>User-Rating</th>\n      <th>Reviews</th>\n      <th>Price</th>\n      <th>Year</th>\n      <th>Genre</th>\n    </tr>\n  </thead>\n  <tbody>\n    <tr>\n      <th>0</th>\n      <td>10-Day Green Smoothie Cleanse</td>\n      <td>JJ Smith</td>\n      <td>4.7</td>\n      <td>17350</td>\n      <td>8</td>\n      <td>2016</td>\n      <td>Non Fiction</td>\n    </tr>\n    <tr>\n      <th>1</th>\n      <td>11/22/63: A Novel</td>\n      <td>Stephen King</td>\n      <td>4.6</td>\n      <td>2052</td>\n      <td>22</td>\n      <td>2011</td>\n      <td>Fiction</td>\n    </tr>\n    <tr>\n      <th>2</th>\n      <td>12 Rules for Life: An Antidote to Chaos</td>\n      <td>Jordan B. Peterson</td>\n      <td>4.7</td>\n      <td>18979</td>\n      <td>15</td>\n      <td>2018</td>\n      <td>Non Fiction</td>\n    </tr>\n    <tr>\n      <th>3</th>\n      <td>1984 (Signet Classics)</td>\n      <td>George Orwell</td>\n      <td>4.7</td>\n      <td>21424</td>\n      <td>6</td>\n      <td>2017</td>\n      <td>Fiction</td>\n    </tr>\n    <tr>\n      <th>4</th>\n      <td>5,000 Awesome Facts (About Everything!) (Natio...</td>\n      <td>National Geographic Kids</td>\n      <td>4.8</td>\n      <td>7665</td>\n      <td>12</td>\n      <td>2019</td>\n      <td>Non Fiction</td>\n    </tr>\n    <tr>\n      <th>...</th>\n      <td>...</td>\n      <td>...</td>\n      <td>...</td>\n      <td>...</td>\n      <td>...</td>\n      <td>...</td>\n      <td>...</td>\n    </tr>\n    <tr>\n      <th>545</th>\n      <td>Wrecking Ball (Diary of a Wimpy Kid Book 14)</td>\n      <td>Jeff Kinney</td>\n      <td>4.9</td>\n      <td>9413</td>\n      <td>8</td>\n      <td>2019</td>\n      <td>Fiction</td>\n    </tr>\n    <tr>\n      <th>546</th>\n      <td>You Are a Badass: How to Stop Doubting Your Gr...</td>\n      <td>Jen Sincero</td>\n      <td>4.7</td>\n      <td>14331</td>\n      <td>8</td>\n      <td>2016</td>\n      <td>Non Fiction</td>\n    </tr>\n    <tr>\n      <th>547</th>\n      <td>You Are a Badass: How to Stop Doubting Your Gr...</td>\n      <td>Jen Sincero</td>\n      <td>4.7</td>\n      <td>14331</td>\n      <td>8</td>\n      <td>2017</td>\n      <td>Non Fiction</td>\n    </tr>\n    <tr>\n      <th>548</th>\n      <td>You Are a Badass: How to Stop Doubting Your Gr...</td>\n      <td>Jen Sincero</td>\n      <td>4.7</td>\n      <td>14331</td>\n      <td>8</td>\n      <td>2018</td>\n      <td>Non Fiction</td>\n    </tr>\n    <tr>\n      <th>549</th>\n      <td>You Are a Badass: How to Stop Doubting Your Gr...</td>\n      <td>Jen Sincero</td>\n      <td>4.7</td>\n      <td>14331</td>\n      <td>8</td>\n      <td>2019</td>\n      <td>Non Fiction</td>\n    </tr>\n  </tbody>\n</table>\n<p>550 rows × 7 columns</p>\n</div>"
     },
     "metadata": {}
    }
   ]
  },
  {
   "cell_type": "code",
   "metadata": {
    "cell_id": "b82051933d5b4e6fba0343d0722b6627",
    "tags": [],
    "deepnote_to_be_reexecuted": false,
    "source_hash": "9c4b3d52",
    "execution_start": 1654530023725,
    "execution_millis": 29,
    "deepnote_cell_type": "code",
    "deepnote_cell_height": 600
   },
   "source": "df_books.pivot_table(index='Author', columns='Genre', values='User-Rating')",
   "execution_count": null,
   "outputs": [
    {
     "output_type": "execute_result",
     "execution_count": 7,
     "data": {
      "application/vnd.deepnote.dataframe.v3+json": {
       "column_count": 2,
       "row_count": 248,
       "columns": [
        {
         "name": "Fiction",
         "dtype": "float64",
         "stats": {
          "unique_count": 26,
          "nan_count": 157,
          "min": "3.9",
          "max": "4.9",
          "histogram": [
           {
            "bin_start": 3.9,
            "bin_end": 4,
            "count": 1
           },
           {
            "bin_start": 4,
            "bin_end": 4.1,
            "count": 2
           },
           {
            "bin_start": 4.1,
            "bin_end": 4.2,
            "count": 3
           },
           {
            "bin_start": 4.2,
            "bin_end": 4.3,
            "count": 2
           },
           {
            "bin_start": 4.3,
            "bin_end": 4.4,
            "count": 5
           },
           {
            "bin_start": 4.4,
            "bin_end": 4.5,
            "count": 7
           },
           {
            "bin_start": 4.5,
            "bin_end": 4.6000000000000005,
            "count": 22
           },
           {
            "bin_start": 4.6000000000000005,
            "bin_end": 4.7,
            "count": 6
           },
           {
            "bin_start": 4.7,
            "bin_end": 4.800000000000001,
            "count": 31
           },
           {
            "bin_start": 4.800000000000001,
            "bin_end": 4.9,
            "count": 12
           }
          ]
         }
        },
        {
         "name": "Non Fiction",
         "dtype": "float64",
         "stats": {
          "unique_count": 22,
          "nan_count": 89,
          "min": "4.0",
          "max": "4.9",
          "histogram": [
           {
            "bin_start": 4,
            "bin_end": 4.09,
            "count": 1
           },
           {
            "bin_start": 4.09,
            "bin_end": 4.18,
            "count": 2
           },
           {
            "bin_start": 4.18,
            "bin_end": 4.2700000000000005,
            "count": 5
           },
           {
            "bin_start": 4.2700000000000005,
            "bin_end": 4.36,
            "count": 7
           },
           {
            "bin_start": 4.36,
            "bin_end": 4.45,
            "count": 17
           },
           {
            "bin_start": 4.45,
            "bin_end": 4.54,
            "count": 18
           },
           {
            "bin_start": 4.54,
            "bin_end": 4.63,
            "count": 37
           },
           {
            "bin_start": 4.63,
            "bin_end": 4.720000000000001,
            "count": 36
           },
           {
            "bin_start": 4.720000000000001,
            "bin_end": 4.8100000000000005,
            "count": 30
           },
           {
            "bin_start": 4.8100000000000005,
            "bin_end": 4.9,
            "count": 6
           }
          ]
         }
        },
        {
         "name": "_deepnote_index_column",
         "dtype": "object"
        }
       ],
       "rows": [
        {
         "Fiction": 4.6,
         "Non Fiction": "nan",
         "_deepnote_index_column": "Abraham Verghese"
        },
        {
         "Fiction": "nan",
         "Non Fiction": 4.4,
         "_deepnote_index_column": "Adam Gasiewski"
        },
        {
         "Fiction": 4.8,
         "Non Fiction": "nan",
         "_deepnote_index_column": "Adam Mansbach"
        },
        {
         "Fiction": 4.8,
         "Non Fiction": "nan",
         "_deepnote_index_column": "Adir Levy"
        },
        {
         "Fiction": "nan",
         "Non Fiction": 4.7,
         "_deepnote_index_column": "Admiral William H. McRaven"
        },
        {
         "Fiction": "nan",
         "Non Fiction": 4.5,
         "_deepnote_index_column": "Adult Coloring Book Designs"
        },
        {
         "Fiction": 4.8,
         "Non Fiction": "nan",
         "_deepnote_index_column": "Alan Moore"
        },
        {
         "Fiction": 4.5,
         "Non Fiction": "nan",
         "_deepnote_index_column": "Alex Michaelides"
        },
        {
         "Fiction": 4.9,
         "Non Fiction": "nan",
         "_deepnote_index_column": "Alice Schertle"
        },
        {
         "Fiction": "nan",
         "Non Fiction": 4.7,
         "_deepnote_index_column": "Allie Brosh"
        }
       ]
      },
      "text/plain": "Genre                       Fiction  Non Fiction\nAuthor                                          \nAbraham Verghese                4.6          NaN\nAdam Gasiewski                  NaN     4.400000\nAdam Mansbach                   4.8          NaN\nAdir Levy                       4.8          NaN\nAdmiral William H. McRaven      NaN     4.700000\n...                             ...          ...\nWalter Isaacson                 NaN     4.566667\nWilliam Davis                   NaN     4.400000\nWilliam P. Young                4.6          NaN\nWizards RPG Team                4.8          NaN\nZhi Gang Sha                    NaN     4.600000\n\n[248 rows x 2 columns]",
      "text/html": "<div>\n<style scoped>\n    .dataframe tbody tr th:only-of-type {\n        vertical-align: middle;\n    }\n\n    .dataframe tbody tr th {\n        vertical-align: top;\n    }\n\n    .dataframe thead th {\n        text-align: right;\n    }\n</style>\n<table border=\"1\" class=\"dataframe\">\n  <thead>\n    <tr style=\"text-align: right;\">\n      <th>Genre</th>\n      <th>Fiction</th>\n      <th>Non Fiction</th>\n    </tr>\n    <tr>\n      <th>Author</th>\n      <th></th>\n      <th></th>\n    </tr>\n  </thead>\n  <tbody>\n    <tr>\n      <th>Abraham Verghese</th>\n      <td>4.6</td>\n      <td>NaN</td>\n    </tr>\n    <tr>\n      <th>Adam Gasiewski</th>\n      <td>NaN</td>\n      <td>4.400000</td>\n    </tr>\n    <tr>\n      <th>Adam Mansbach</th>\n      <td>4.8</td>\n      <td>NaN</td>\n    </tr>\n    <tr>\n      <th>Adir Levy</th>\n      <td>4.8</td>\n      <td>NaN</td>\n    </tr>\n    <tr>\n      <th>Admiral William H. McRaven</th>\n      <td>NaN</td>\n      <td>4.700000</td>\n    </tr>\n    <tr>\n      <th>...</th>\n      <td>...</td>\n      <td>...</td>\n    </tr>\n    <tr>\n      <th>Walter Isaacson</th>\n      <td>NaN</td>\n      <td>4.566667</td>\n    </tr>\n    <tr>\n      <th>William Davis</th>\n      <td>NaN</td>\n      <td>4.400000</td>\n    </tr>\n    <tr>\n      <th>William P. Young</th>\n      <td>4.6</td>\n      <td>NaN</td>\n    </tr>\n    <tr>\n      <th>Wizards RPG Team</th>\n      <td>4.8</td>\n      <td>NaN</td>\n    </tr>\n    <tr>\n      <th>Zhi Gang Sha</th>\n      <td>NaN</td>\n      <td>4.600000</td>\n    </tr>\n  </tbody>\n</table>\n<p>248 rows × 2 columns</p>\n</div>"
     },
     "metadata": {}
    }
   ]
  },
  {
   "cell_type": "code",
   "metadata": {
    "cell_id": "2e48f8b81aa24d02af6c6319efe85d93",
    "tags": [],
    "deepnote_to_be_reexecuted": false,
    "source_hash": "6457b346",
    "execution_start": 1654530141350,
    "execution_millis": 53,
    "deepnote_cell_type": "code",
    "deepnote_cell_height": 272
   },
   "source": "df_books.pivot_table(index='Genre', columns='Year', values='User-Rating', aggfunc='mean')",
   "execution_count": null,
   "outputs": [
    {
     "output_type": "execute_result",
     "execution_count": 9,
     "data": {
      "application/vnd.deepnote.dataframe.v3+json": {
       "column_count": 11,
       "row_count": 2,
       "columns": [
        {
         "name": 2009,
         "dtype": "float64",
         "stats": {
          "unique_count": 2,
          "nan_count": 0,
          "min": "4.576923076923077",
          "max": "4.591666666666667",
          "histogram": [
           {
            "bin_start": 4.576923076923077,
            "bin_end": 4.578397435897435,
            "count": 1
           },
           {
            "bin_start": 4.578397435897435,
            "bin_end": 4.579871794871795,
            "count": 0
           },
           {
            "bin_start": 4.579871794871795,
            "bin_end": 4.5813461538461535,
            "count": 0
           },
           {
            "bin_start": 4.5813461538461535,
            "bin_end": 4.582820512820513,
            "count": 0
           },
           {
            "bin_start": 4.582820512820513,
            "bin_end": 4.584294871794872,
            "count": 0
           },
           {
            "bin_start": 4.584294871794872,
            "bin_end": 4.58576923076923,
            "count": 0
           },
           {
            "bin_start": 4.58576923076923,
            "bin_end": 4.58724358974359,
            "count": 0
           },
           {
            "bin_start": 4.58724358974359,
            "bin_end": 4.588717948717949,
            "count": 0
           },
           {
            "bin_start": 4.588717948717949,
            "bin_end": 4.590192307692308,
            "count": 0
           },
           {
            "bin_start": 4.590192307692308,
            "bin_end": 4.591666666666667,
            "count": 1
           }
          ]
         }
        },
        {
         "name": 2010,
         "dtype": "float64",
         "stats": {
          "unique_count": 2,
          "nan_count": 0,
          "min": "4.52",
          "max": "4.614999999999999",
          "histogram": [
           {
            "bin_start": 4.52,
            "bin_end": 4.5295,
            "count": 1
           },
           {
            "bin_start": 4.5295,
            "bin_end": 4.539,
            "count": 0
           },
           {
            "bin_start": 4.539,
            "bin_end": 4.5485,
            "count": 0
           },
           {
            "bin_start": 4.5485,
            "bin_end": 4.558,
            "count": 0
           },
           {
            "bin_start": 4.558,
            "bin_end": 4.567499999999999,
            "count": 0
           },
           {
            "bin_start": 4.567499999999999,
            "bin_end": 4.576999999999999,
            "count": 0
           },
           {
            "bin_start": 4.576999999999999,
            "bin_end": 4.586499999999999,
            "count": 0
           },
           {
            "bin_start": 4.586499999999999,
            "bin_end": 4.595999999999999,
            "count": 0
           },
           {
            "bin_start": 4.595999999999999,
            "bin_end": 4.605499999999999,
            "count": 0
           },
           {
            "bin_start": 4.605499999999999,
            "bin_end": 4.614999999999999,
            "count": 1
           }
          ]
         }
        },
        {
         "name": 2011,
         "dtype": "float64",
         "stats": {
          "unique_count": 2,
          "nan_count": 0,
          "min": "4.513793103448276",
          "max": "4.619047619047619",
          "histogram": [
           {
            "bin_start": 4.513793103448276,
            "bin_end": 4.524318555008211,
            "count": 1
           },
           {
            "bin_start": 4.524318555008211,
            "bin_end": 4.534844006568145,
            "count": 0
           },
           {
            "bin_start": 4.534844006568145,
            "bin_end": 4.545369458128079,
            "count": 0
           },
           {
            "bin_start": 4.545369458128079,
            "bin_end": 4.555894909688013,
            "count": 0
           },
           {
            "bin_start": 4.555894909688013,
            "bin_end": 4.566420361247948,
            "count": 0
           },
           {
            "bin_start": 4.566420361247948,
            "bin_end": 4.576945812807882,
            "count": 0
           },
           {
            "bin_start": 4.576945812807882,
            "bin_end": 4.5874712643678155,
            "count": 0
           },
           {
            "bin_start": 4.5874712643678155,
            "bin_end": 4.59799671592775,
            "count": 0
           },
           {
            "bin_start": 4.59799671592775,
            "bin_end": 4.608522167487685,
            "count": 0
           },
           {
            "bin_start": 4.608522167487685,
            "bin_end": 4.619047619047619,
            "count": 1
           }
          ]
         }
        },
        {
         "name": 2012,
         "dtype": "float64",
         "stats": {
          "unique_count": 2,
          "nan_count": 0,
          "min": "4.495238095238095",
          "max": "4.558620689655172",
          "histogram": [
           {
            "bin_start": 4.495238095238095,
            "bin_end": 4.501576354679803,
            "count": 1
           },
           {
            "bin_start": 4.501576354679803,
            "bin_end": 4.5079146141215105,
            "count": 0
           },
           {
            "bin_start": 4.5079146141215105,
            "bin_end": 4.514252873563218,
            "count": 0
           },
           {
            "bin_start": 4.514252873563218,
            "bin_end": 4.520591133004926,
            "count": 0
           },
           {
            "bin_start": 4.520591133004926,
            "bin_end": 4.526929392446634,
            "count": 0
           },
           {
            "bin_start": 4.526929392446634,
            "bin_end": 4.533267651888342,
            "count": 0
           },
           {
            "bin_start": 4.533267651888342,
            "bin_end": 4.5396059113300495,
            "count": 0
           },
           {
            "bin_start": 4.5396059113300495,
            "bin_end": 4.545944170771757,
            "count": 0
           },
           {
            "bin_start": 4.545944170771757,
            "bin_end": 4.552282430213465,
            "count": 0
           },
           {
            "bin_start": 4.552282430213465,
            "bin_end": 4.558620689655172,
            "count": 1
           }
          ]
         }
        },
        {
         "name": 2013,
         "dtype": "float64",
         "stats": {
          "unique_count": 2,
          "nan_count": 0,
          "min": "4.545833333333333",
          "max": "4.561538461538461",
          "histogram": [
           {
            "bin_start": 4.545833333333333,
            "bin_end": 4.547403846153847,
            "count": 1
           },
           {
            "bin_start": 4.547403846153847,
            "bin_end": 4.548974358974359,
            "count": 0
           },
           {
            "bin_start": 4.548974358974359,
            "bin_end": 4.550544871794871,
            "count": 0
           },
           {
            "bin_start": 4.550544871794871,
            "bin_end": 4.552115384615385,
            "count": 0
           },
           {
            "bin_start": 4.552115384615385,
            "bin_end": 4.553685897435898,
            "count": 0
           },
           {
            "bin_start": 4.553685897435898,
            "bin_end": 4.55525641025641,
            "count": 0
           },
           {
            "bin_start": 4.55525641025641,
            "bin_end": 4.5568269230769225,
            "count": 0
           },
           {
            "bin_start": 4.5568269230769225,
            "bin_end": 4.558397435897436,
            "count": 0
           },
           {
            "bin_start": 4.558397435897436,
            "bin_end": 4.559967948717949,
            "count": 0
           },
           {
            "bin_start": 4.559967948717949,
            "bin_end": 4.561538461538461,
            "count": 1
           }
          ]
         }
        },
        {
         "name": 2014,
         "dtype": "float64",
         "stats": {
          "unique_count": 2,
          "nan_count": 0,
          "min": "4.609523809523809",
          "max": "4.631034482758621",
          "histogram": [
           {
            "bin_start": 4.609523809523809,
            "bin_end": 4.611674876847291,
            "count": 1
           },
           {
            "bin_start": 4.611674876847291,
            "bin_end": 4.613825944170771,
            "count": 0
           },
           {
            "bin_start": 4.613825944170771,
            "bin_end": 4.615977011494253,
            "count": 0
           },
           {
            "bin_start": 4.615977011494253,
            "bin_end": 4.618128078817734,
            "count": 0
           },
           {
            "bin_start": 4.618128078817734,
            "bin_end": 4.620279146141215,
            "count": 0
           },
           {
            "bin_start": 4.620279146141215,
            "bin_end": 4.622430213464696,
            "count": 0
           },
           {
            "bin_start": 4.622430213464696,
            "bin_end": 4.624581280788178,
            "count": 0
           },
           {
            "bin_start": 4.624581280788178,
            "bin_end": 4.626732348111659,
            "count": 0
           },
           {
            "bin_start": 4.626732348111659,
            "bin_end": 4.62888341543514,
            "count": 0
           },
           {
            "bin_start": 4.62888341543514,
            "bin_end": 4.631034482758621,
            "count": 1
           }
          ]
         }
        },
        {
         "name": 2015,
         "dtype": "float64",
         "stats": {
          "unique_count": 2,
          "nan_count": 0,
          "min": "4.645454545454545",
          "max": "4.652941176470588",
          "histogram": [
           {
            "bin_start": 4.645454545454545,
            "bin_end": 4.646203208556149,
            "count": 1
           },
           {
            "bin_start": 4.646203208556149,
            "bin_end": 4.646951871657754,
            "count": 0
           },
           {
            "bin_start": 4.646951871657754,
            "bin_end": 4.647700534759357,
            "count": 0
           },
           {
            "bin_start": 4.647700534759357,
            "bin_end": 4.648449197860962,
            "count": 0
           },
           {
            "bin_start": 4.648449197860962,
            "bin_end": 4.649197860962566,
            "count": 0
           },
           {
            "bin_start": 4.649197860962566,
            "bin_end": 4.649946524064171,
            "count": 0
           },
           {
            "bin_start": 4.649946524064171,
            "bin_end": 4.650695187165775,
            "count": 0
           },
           {
            "bin_start": 4.650695187165775,
            "bin_end": 4.651443850267379,
            "count": 0
           },
           {
            "bin_start": 4.651443850267379,
            "bin_end": 4.652192513368983,
            "count": 0
           },
           {
            "bin_start": 4.652192513368983,
            "bin_end": 4.652941176470588,
            "count": 1
           }
          ]
         }
        },
        {
         "name": 2016,
         "dtype": "float64",
         "stats": {
          "unique_count": 2,
          "nan_count": 0,
          "min": "4.654838709677419",
          "max": "4.71578947368421",
          "histogram": [
           {
            "bin_start": 4.654838709677419,
            "bin_end": 4.660933786078098,
            "count": 1
           },
           {
            "bin_start": 4.660933786078098,
            "bin_end": 4.6670288624787775,
            "count": 0
           },
           {
            "bin_start": 4.6670288624787775,
            "bin_end": 4.673123938879456,
            "count": 0
           },
           {
            "bin_start": 4.673123938879456,
            "bin_end": 4.679219015280135,
            "count": 0
           },
           {
            "bin_start": 4.679219015280135,
            "bin_end": 4.685314091680814,
            "count": 0
           },
           {
            "bin_start": 4.685314091680814,
            "bin_end": 4.691409168081494,
            "count": 0
           },
           {
            "bin_start": 4.691409168081494,
            "bin_end": 4.697504244482173,
            "count": 0
           },
           {
            "bin_start": 4.697504244482173,
            "bin_end": 4.7035993208828515,
            "count": 0
           },
           {
            "bin_start": 4.7035993208828515,
            "bin_end": 4.709694397283531,
            "count": 0
           },
           {
            "bin_start": 4.709694397283531,
            "bin_end": 4.71578947368421,
            "count": 1
           }
          ]
         }
        },
        {
         "name": 2017,
         "dtype": "float64",
         "stats": {
          "unique_count": 2,
          "nan_count": 0,
          "min": "4.588461538461538",
          "max": "4.737499999999999",
          "histogram": [
           {
            "bin_start": 4.588461538461538,
            "bin_end": 4.603365384615384,
            "count": 1
           },
           {
            "bin_start": 4.603365384615384,
            "bin_end": 4.61826923076923,
            "count": 0
           },
           {
            "bin_start": 4.61826923076923,
            "bin_end": 4.633173076923076,
            "count": 0
           },
           {
            "bin_start": 4.633173076923076,
            "bin_end": 4.648076923076922,
            "count": 0
           },
           {
            "bin_start": 4.648076923076922,
            "bin_end": 4.662980769230769,
            "count": 0
           },
           {
            "bin_start": 4.662980769230769,
            "bin_end": 4.677884615384615,
            "count": 0
           },
           {
            "bin_start": 4.677884615384615,
            "bin_end": 4.692788461538461,
            "count": 0
           },
           {
            "bin_start": 4.692788461538461,
            "bin_end": 4.707692307692307,
            "count": 0
           },
           {
            "bin_start": 4.707692307692307,
            "bin_end": 4.722596153846153,
            "count": 0
           },
           {
            "bin_start": 4.722596153846153,
            "bin_end": 4.737499999999999,
            "count": 1
           }
          ]
         }
        },
        {
         "name": 2018,
         "dtype": "float64",
         "stats": {
          "unique_count": 2,
          "nan_count": 0,
          "min": "4.617241379310344",
          "max": "4.738095238095237",
          "histogram": [
           {
            "bin_start": 4.617241379310344,
            "bin_end": 4.629326765188833,
            "count": 1
           },
           {
            "bin_start": 4.629326765188833,
            "bin_end": 4.641412151067323,
            "count": 0
           },
           {
            "bin_start": 4.641412151067323,
            "bin_end": 4.653497536945812,
            "count": 0
           },
           {
            "bin_start": 4.653497536945812,
            "bin_end": 4.665582922824301,
            "count": 0
           },
           {
            "bin_start": 4.665582922824301,
            "bin_end": 4.67766830870279,
            "count": 0
           },
           {
            "bin_start": 4.67766830870279,
            "bin_end": 4.68975369458128,
            "count": 0
           },
           {
            "bin_start": 4.68975369458128,
            "bin_end": 4.701839080459769,
            "count": 0
           },
           {
            "bin_start": 4.701839080459769,
            "bin_end": 4.713924466338258,
            "count": 0
           },
           {
            "bin_start": 4.713924466338258,
            "bin_end": 4.726009852216748,
            "count": 0
           },
           {
            "bin_start": 4.726009852216748,
            "bin_end": 4.738095238095237,
            "count": 1
           }
          ]
         }
        },
        {
         "name": 2019,
         "dtype": "float64",
         "stats": {
          "unique_count": 2,
          "nan_count": 0,
          "min": "4.686666666666666",
          "max": "4.819999999999999",
          "histogram": [
           {
            "bin_start": 4.686666666666666,
            "bin_end": 4.699999999999999,
            "count": 1
           },
           {
            "bin_start": 4.699999999999999,
            "bin_end": 4.713333333333332,
            "count": 0
           },
           {
            "bin_start": 4.713333333333332,
            "bin_end": 4.726666666666666,
            "count": 0
           },
           {
            "bin_start": 4.726666666666666,
            "bin_end": 4.739999999999999,
            "count": 0
           },
           {
            "bin_start": 4.739999999999999,
            "bin_end": 4.753333333333332,
            "count": 0
           },
           {
            "bin_start": 4.753333333333332,
            "bin_end": 4.766666666666666,
            "count": 0
           },
           {
            "bin_start": 4.766666666666666,
            "bin_end": 4.779999999999999,
            "count": 0
           },
           {
            "bin_start": 4.779999999999999,
            "bin_end": 4.793333333333333,
            "count": 0
           },
           {
            "bin_start": 4.793333333333333,
            "bin_end": 4.806666666666666,
            "count": 0
           },
           {
            "bin_start": 4.806666666666666,
            "bin_end": 4.819999999999999,
            "count": 1
           }
          ]
         }
        },
        {
         "name": "_deepnote_index_column",
         "dtype": "object"
        }
       ],
       "rows": [
        {
         "2009": 4.591666666666667,
         "2010": 4.614999999999999,
         "2011": 4.619047619047619,
         "2012": 4.495238095238095,
         "2013": 4.545833333333333,
         "2014": 4.631034482758621,
         "2015": 4.652941176470588,
         "2016": 4.71578947368421,
         "2017": 4.737499999999999,
         "2018": 4.738095238095237,
         "2019": 4.819999999999999,
         "_deepnote_index_column": "Fiction"
        },
        {
         "2009": 4.576923076923077,
         "2010": 4.52,
         "2011": 4.513793103448276,
         "2012": 4.558620689655172,
         "2013": 4.561538461538461,
         "2014": 4.609523809523809,
         "2015": 4.645454545454545,
         "2016": 4.654838709677419,
         "2017": 4.588461538461538,
         "2018": 4.617241379310344,
         "2019": 4.686666666666666,
         "_deepnote_index_column": "Non Fiction"
        }
       ]
      },
      "text/plain": "Year             2009   2010      2011      2012      2013      2014  \\\nGenre                                                                  \nFiction      4.591667  4.615  4.619048  4.495238  4.545833  4.631034   \nNon Fiction  4.576923  4.520  4.513793  4.558621  4.561538  4.609524   \n\nYear             2015      2016      2017      2018      2019  \nGenre                                                          \nFiction      4.652941  4.715789  4.737500  4.738095  4.820000  \nNon Fiction  4.645455  4.654839  4.588462  4.617241  4.686667  ",
      "text/html": "<div>\n<style scoped>\n    .dataframe tbody tr th:only-of-type {\n        vertical-align: middle;\n    }\n\n    .dataframe tbody tr th {\n        vertical-align: top;\n    }\n\n    .dataframe thead th {\n        text-align: right;\n    }\n</style>\n<table border=\"1\" class=\"dataframe\">\n  <thead>\n    <tr style=\"text-align: right;\">\n      <th>Year</th>\n      <th>2009</th>\n      <th>2010</th>\n      <th>2011</th>\n      <th>2012</th>\n      <th>2013</th>\n      <th>2014</th>\n      <th>2015</th>\n      <th>2016</th>\n      <th>2017</th>\n      <th>2018</th>\n      <th>2019</th>\n    </tr>\n    <tr>\n      <th>Genre</th>\n      <th></th>\n      <th></th>\n      <th></th>\n      <th></th>\n      <th></th>\n      <th></th>\n      <th></th>\n      <th></th>\n      <th></th>\n      <th></th>\n      <th></th>\n    </tr>\n  </thead>\n  <tbody>\n    <tr>\n      <th>Fiction</th>\n      <td>4.591667</td>\n      <td>4.615</td>\n      <td>4.619048</td>\n      <td>4.495238</td>\n      <td>4.545833</td>\n      <td>4.631034</td>\n      <td>4.652941</td>\n      <td>4.715789</td>\n      <td>4.737500</td>\n      <td>4.738095</td>\n      <td>4.820000</td>\n    </tr>\n    <tr>\n      <th>Non Fiction</th>\n      <td>4.576923</td>\n      <td>4.520</td>\n      <td>4.513793</td>\n      <td>4.558621</td>\n      <td>4.561538</td>\n      <td>4.609524</td>\n      <td>4.645455</td>\n      <td>4.654839</td>\n      <td>4.588462</td>\n      <td>4.617241</td>\n      <td>4.686667</td>\n    </tr>\n  </tbody>\n</table>\n</div>"
     },
     "metadata": {}
    }
   ]
  },
  {
   "cell_type": "code",
   "metadata": {
    "cell_id": "cf648b14e78a4559be95e1225611de31",
    "tags": [],
    "deepnote_to_be_reexecuted": false,
    "source_hash": "725259cd",
    "execution_start": 1654530152051,
    "execution_millis": 47,
    "deepnote_cell_type": "code",
    "deepnote_cell_height": 272
   },
   "source": "df_books.pivot_table(index='Genre', columns='Year', values='User-Rating', aggfunc='sum')",
   "execution_count": null,
   "outputs": [
    {
     "output_type": "execute_result",
     "execution_count": 10,
     "data": {
      "application/vnd.deepnote.dataframe.v3+json": {
       "column_count": 11,
       "row_count": 2,
       "columns": [
        {
         "name": 2009,
         "dtype": "float64",
         "stats": {
          "unique_count": 2,
          "nan_count": 0,
          "min": "110.2",
          "max": "118.99999999999999",
          "histogram": [
           {
            "bin_start": 110.2,
            "bin_end": 111.08,
            "count": 1
           },
           {
            "bin_start": 111.08,
            "bin_end": 111.96,
            "count": 0
           },
           {
            "bin_start": 111.96,
            "bin_end": 112.84,
            "count": 0
           },
           {
            "bin_start": 112.84,
            "bin_end": 113.72,
            "count": 0
           },
           {
            "bin_start": 113.72,
            "bin_end": 114.6,
            "count": 0
           },
           {
            "bin_start": 114.6,
            "bin_end": 115.47999999999999,
            "count": 0
           },
           {
            "bin_start": 115.47999999999999,
            "bin_end": 116.35999999999999,
            "count": 0
           },
           {
            "bin_start": 116.35999999999999,
            "bin_end": 117.24,
            "count": 0
           },
           {
            "bin_start": 117.24,
            "bin_end": 118.11999999999999,
            "count": 0
           },
           {
            "bin_start": 118.11999999999999,
            "bin_end": 118.99999999999999,
            "count": 1
           }
          ]
         }
        },
        {
         "name": 2010,
         "dtype": "float64",
         "stats": {
          "unique_count": 2,
          "nan_count": 0,
          "min": "92.29999999999998",
          "max": "135.6",
          "histogram": [
           {
            "bin_start": 92.29999999999998,
            "bin_end": 96.62999999999998,
            "count": 1
           },
           {
            "bin_start": 96.62999999999998,
            "bin_end": 100.95999999999998,
            "count": 0
           },
           {
            "bin_start": 100.95999999999998,
            "bin_end": 105.28999999999999,
            "count": 0
           },
           {
            "bin_start": 105.28999999999999,
            "bin_end": 109.61999999999999,
            "count": 0
           },
           {
            "bin_start": 109.61999999999999,
            "bin_end": 113.94999999999999,
            "count": 0
           },
           {
            "bin_start": 113.94999999999999,
            "bin_end": 118.27999999999999,
            "count": 0
           },
           {
            "bin_start": 118.27999999999999,
            "bin_end": 122.60999999999999,
            "count": 0
           },
           {
            "bin_start": 122.60999999999999,
            "bin_end": 126.94,
            "count": 0
           },
           {
            "bin_start": 126.94,
            "bin_end": 131.26999999999998,
            "count": 0
           },
           {
            "bin_start": 131.26999999999998,
            "bin_end": 135.6,
            "count": 1
           }
          ]
         }
        },
        {
         "name": 2011,
         "dtype": "float64",
         "stats": {
          "unique_count": 2,
          "nan_count": 0,
          "min": "97.0",
          "max": "130.9",
          "histogram": [
           {
            "bin_start": 97,
            "bin_end": 100.39,
            "count": 1
           },
           {
            "bin_start": 100.39,
            "bin_end": 103.78,
            "count": 0
           },
           {
            "bin_start": 103.78,
            "bin_end": 107.17,
            "count": 0
           },
           {
            "bin_start": 107.17,
            "bin_end": 110.56,
            "count": 0
           },
           {
            "bin_start": 110.56,
            "bin_end": 113.95,
            "count": 0
           },
           {
            "bin_start": 113.95,
            "bin_end": 117.34,
            "count": 0
           },
           {
            "bin_start": 117.34,
            "bin_end": 120.73,
            "count": 0
           },
           {
            "bin_start": 120.73,
            "bin_end": 124.12,
            "count": 0
           },
           {
            "bin_start": 124.12,
            "bin_end": 127.51,
            "count": 0
           },
           {
            "bin_start": 127.51,
            "bin_end": 130.9,
            "count": 1
           }
          ]
         }
        },
        {
         "name": 2012,
         "dtype": "float64",
         "stats": {
          "unique_count": 2,
          "nan_count": 0,
          "min": "94.39999999999999",
          "max": "132.2",
          "histogram": [
           {
            "bin_start": 94.39999999999999,
            "bin_end": 98.17999999999999,
            "count": 1
           },
           {
            "bin_start": 98.17999999999999,
            "bin_end": 101.96,
            "count": 0
           },
           {
            "bin_start": 101.96,
            "bin_end": 105.74,
            "count": 0
           },
           {
            "bin_start": 105.74,
            "bin_end": 109.52,
            "count": 0
           },
           {
            "bin_start": 109.52,
            "bin_end": 113.29999999999998,
            "count": 0
           },
           {
            "bin_start": 113.29999999999998,
            "bin_end": 117.07999999999998,
            "count": 0
           },
           {
            "bin_start": 117.07999999999998,
            "bin_end": 120.85999999999999,
            "count": 0
           },
           {
            "bin_start": 120.85999999999999,
            "bin_end": 124.63999999999999,
            "count": 0
           },
           {
            "bin_start": 124.63999999999999,
            "bin_end": 128.42,
            "count": 0
           },
           {
            "bin_start": 128.42,
            "bin_end": 132.2,
            "count": 1
           }
          ]
         }
        },
        {
         "name": 2013,
         "dtype": "float64",
         "stats": {
          "unique_count": 2,
          "nan_count": 0,
          "min": "109.10000000000001",
          "max": "118.6",
          "histogram": [
           {
            "bin_start": 109.10000000000001,
            "bin_end": 110.05000000000001,
            "count": 1
           },
           {
            "bin_start": 110.05000000000001,
            "bin_end": 111,
            "count": 0
           },
           {
            "bin_start": 111,
            "bin_end": 111.95,
            "count": 0
           },
           {
            "bin_start": 111.95,
            "bin_end": 112.9,
            "count": 0
           },
           {
            "bin_start": 112.9,
            "bin_end": 113.85,
            "count": 0
           },
           {
            "bin_start": 113.85,
            "bin_end": 114.8,
            "count": 0
           },
           {
            "bin_start": 114.8,
            "bin_end": 115.75,
            "count": 0
           },
           {
            "bin_start": 115.75,
            "bin_end": 116.7,
            "count": 0
           },
           {
            "bin_start": 116.7,
            "bin_end": 117.64999999999999,
            "count": 0
           },
           {
            "bin_start": 117.64999999999999,
            "bin_end": 118.6,
            "count": 1
           }
          ]
         }
        },
        {
         "name": 2014,
         "dtype": "float64",
         "stats": {
          "unique_count": 2,
          "nan_count": 0,
          "min": "96.8",
          "max": "134.3",
          "histogram": [
           {
            "bin_start": 96.8,
            "bin_end": 100.55,
            "count": 1
           },
           {
            "bin_start": 100.55,
            "bin_end": 104.3,
            "count": 0
           },
           {
            "bin_start": 104.3,
            "bin_end": 108.05,
            "count": 0
           },
           {
            "bin_start": 108.05,
            "bin_end": 111.8,
            "count": 0
           },
           {
            "bin_start": 111.8,
            "bin_end": 115.55000000000001,
            "count": 0
           },
           {
            "bin_start": 115.55000000000001,
            "bin_end": 119.30000000000001,
            "count": 0
           },
           {
            "bin_start": 119.30000000000001,
            "bin_end": 123.05000000000001,
            "count": 0
           },
           {
            "bin_start": 123.05000000000001,
            "bin_end": 126.80000000000001,
            "count": 0
           },
           {
            "bin_start": 126.80000000000001,
            "bin_end": 130.55,
            "count": 0
           },
           {
            "bin_start": 130.55,
            "bin_end": 134.3,
            "count": 1
           }
          ]
         }
        },
        {
         "name": 2015,
         "dtype": "float64",
         "stats": {
          "unique_count": 2,
          "nan_count": 0,
          "min": "79.1",
          "max": "153.29999999999998",
          "histogram": [
           {
            "bin_start": 79.1,
            "bin_end": 86.52,
            "count": 1
           },
           {
            "bin_start": 86.52,
            "bin_end": 93.94,
            "count": 0
           },
           {
            "bin_start": 93.94,
            "bin_end": 101.35999999999999,
            "count": 0
           },
           {
            "bin_start": 101.35999999999999,
            "bin_end": 108.77999999999999,
            "count": 0
           },
           {
            "bin_start": 108.77999999999999,
            "bin_end": 116.19999999999999,
            "count": 0
           },
           {
            "bin_start": 116.19999999999999,
            "bin_end": 123.61999999999999,
            "count": 0
           },
           {
            "bin_start": 123.61999999999999,
            "bin_end": 131.04,
            "count": 0
           },
           {
            "bin_start": 131.04,
            "bin_end": 138.45999999999998,
            "count": 0
           },
           {
            "bin_start": 138.45999999999998,
            "bin_end": 145.88,
            "count": 0
           },
           {
            "bin_start": 145.88,
            "bin_end": 153.29999999999998,
            "count": 1
           }
          ]
         }
        },
        {
         "name": 2016,
         "dtype": "float64",
         "stats": {
          "unique_count": 2,
          "nan_count": 0,
          "min": "89.6",
          "max": "144.29999999999998",
          "histogram": [
           {
            "bin_start": 89.6,
            "bin_end": 95.07,
            "count": 1
           },
           {
            "bin_start": 95.07,
            "bin_end": 100.53999999999999,
            "count": 0
           },
           {
            "bin_start": 100.53999999999999,
            "bin_end": 106.00999999999999,
            "count": 0
           },
           {
            "bin_start": 106.00999999999999,
            "bin_end": 111.47999999999999,
            "count": 0
           },
           {
            "bin_start": 111.47999999999999,
            "bin_end": 116.94999999999999,
            "count": 0
           },
           {
            "bin_start": 116.94999999999999,
            "bin_end": 122.41999999999999,
            "count": 0
           },
           {
            "bin_start": 122.41999999999999,
            "bin_end": 127.88999999999999,
            "count": 0
           },
           {
            "bin_start": 127.88999999999999,
            "bin_end": 133.35999999999999,
            "count": 0
           },
           {
            "bin_start": 133.35999999999999,
            "bin_end": 138.82999999999998,
            "count": 0
           },
           {
            "bin_start": 138.82999999999998,
            "bin_end": 144.29999999999998,
            "count": 1
           }
          ]
         }
        },
        {
         "name": 2017,
         "dtype": "float64",
         "stats": {
          "unique_count": 2,
          "nan_count": 0,
          "min": "113.69999999999997",
          "max": "119.29999999999998",
          "histogram": [
           {
            "bin_start": 113.69999999999997,
            "bin_end": 114.25999999999998,
            "count": 1
           },
           {
            "bin_start": 114.25999999999998,
            "bin_end": 114.81999999999998,
            "count": 0
           },
           {
            "bin_start": 114.81999999999998,
            "bin_end": 115.37999999999998,
            "count": 0
           },
           {
            "bin_start": 115.37999999999998,
            "bin_end": 115.93999999999998,
            "count": 0
           },
           {
            "bin_start": 115.93999999999998,
            "bin_end": 116.49999999999997,
            "count": 0
           },
           {
            "bin_start": 116.49999999999997,
            "bin_end": 117.05999999999997,
            "count": 0
           },
           {
            "bin_start": 117.05999999999997,
            "bin_end": 117.61999999999998,
            "count": 0
           },
           {
            "bin_start": 117.61999999999998,
            "bin_end": 118.17999999999998,
            "count": 0
           },
           {
            "bin_start": 118.17999999999998,
            "bin_end": 118.73999999999998,
            "count": 0
           },
           {
            "bin_start": 118.73999999999998,
            "bin_end": 119.29999999999998,
            "count": 1
           }
          ]
         }
        },
        {
         "name": 2018,
         "dtype": "float64",
         "stats": {
          "unique_count": 2,
          "nan_count": 0,
          "min": "99.49999999999999",
          "max": "133.89999999999998",
          "histogram": [
           {
            "bin_start": 99.49999999999999,
            "bin_end": 102.93999999999998,
            "count": 1
           },
           {
            "bin_start": 102.93999999999998,
            "bin_end": 106.37999999999998,
            "count": 0
           },
           {
            "bin_start": 106.37999999999998,
            "bin_end": 109.81999999999998,
            "count": 0
           },
           {
            "bin_start": 109.81999999999998,
            "bin_end": 113.25999999999998,
            "count": 0
           },
           {
            "bin_start": 113.25999999999998,
            "bin_end": 116.69999999999999,
            "count": 0
           },
           {
            "bin_start": 116.69999999999999,
            "bin_end": 120.13999999999999,
            "count": 0
           },
           {
            "bin_start": 120.13999999999999,
            "bin_end": 123.57999999999998,
            "count": 0
           },
           {
            "bin_start": 123.57999999999998,
            "bin_end": 127.01999999999998,
            "count": 0
           },
           {
            "bin_start": 127.01999999999998,
            "bin_end": 130.45999999999998,
            "count": 0
           },
           {
            "bin_start": 130.45999999999998,
            "bin_end": 133.89999999999998,
            "count": 1
           }
          ]
         }
        },
        {
         "name": 2019,
         "dtype": "float64",
         "stats": {
          "unique_count": 2,
          "nan_count": 0,
          "min": "96.39999999999999",
          "max": "140.59999999999997",
          "histogram": [
           {
            "bin_start": 96.39999999999999,
            "bin_end": 100.82,
            "count": 1
           },
           {
            "bin_start": 100.82,
            "bin_end": 105.23999999999998,
            "count": 0
           },
           {
            "bin_start": 105.23999999999998,
            "bin_end": 109.65999999999998,
            "count": 0
           },
           {
            "bin_start": 109.65999999999998,
            "bin_end": 114.07999999999998,
            "count": 0
           },
           {
            "bin_start": 114.07999999999998,
            "bin_end": 118.49999999999997,
            "count": 0
           },
           {
            "bin_start": 118.49999999999997,
            "bin_end": 122.91999999999997,
            "count": 0
           },
           {
            "bin_start": 122.91999999999997,
            "bin_end": 127.33999999999997,
            "count": 0
           },
           {
            "bin_start": 127.33999999999997,
            "bin_end": 131.75999999999996,
            "count": 0
           },
           {
            "bin_start": 131.75999999999996,
            "bin_end": 136.17999999999995,
            "count": 0
           },
           {
            "bin_start": 136.17999999999995,
            "bin_end": 140.59999999999997,
            "count": 1
           }
          ]
         }
        },
        {
         "name": "_deepnote_index_column",
         "dtype": "object"
        }
       ],
       "rows": [
        {
         "2009": 110.2,
         "2010": 92.29999999999998,
         "2011": 97,
         "2012": 94.39999999999999,
         "2013": 109.10000000000001,
         "2014": 134.3,
         "2015": 79.1,
         "2016": 89.6,
         "2017": 113.69999999999997,
         "2018": 99.49999999999999,
         "2019": 96.39999999999999,
         "_deepnote_index_column": "Fiction"
        },
        {
         "2009": 118.99999999999999,
         "2010": 135.6,
         "2011": 130.9,
         "2012": 132.2,
         "2013": 118.6,
         "2014": 96.8,
         "2015": 153.29999999999998,
         "2016": 144.29999999999998,
         "2017": 119.29999999999998,
         "2018": 133.89999999999998,
         "2019": 140.59999999999997,
         "_deepnote_index_column": "Non Fiction"
        }
       ]
      },
      "text/plain": "Year          2009   2010   2011   2012   2013   2014   2015   2016   2017  \\\nGenre                                                                        \nFiction      110.2   92.3   97.0   94.4  109.1  134.3   79.1   89.6  113.7   \nNon Fiction  119.0  135.6  130.9  132.2  118.6   96.8  153.3  144.3  119.3   \n\nYear          2018   2019  \nGenre                      \nFiction       99.5   96.4  \nNon Fiction  133.9  140.6  ",
      "text/html": "<div>\n<style scoped>\n    .dataframe tbody tr th:only-of-type {\n        vertical-align: middle;\n    }\n\n    .dataframe tbody tr th {\n        vertical-align: top;\n    }\n\n    .dataframe thead th {\n        text-align: right;\n    }\n</style>\n<table border=\"1\" class=\"dataframe\">\n  <thead>\n    <tr style=\"text-align: right;\">\n      <th>Year</th>\n      <th>2009</th>\n      <th>2010</th>\n      <th>2011</th>\n      <th>2012</th>\n      <th>2013</th>\n      <th>2014</th>\n      <th>2015</th>\n      <th>2016</th>\n      <th>2017</th>\n      <th>2018</th>\n      <th>2019</th>\n    </tr>\n    <tr>\n      <th>Genre</th>\n      <th></th>\n      <th></th>\n      <th></th>\n      <th></th>\n      <th></th>\n      <th></th>\n      <th></th>\n      <th></th>\n      <th></th>\n      <th></th>\n      <th></th>\n    </tr>\n  </thead>\n  <tbody>\n    <tr>\n      <th>Fiction</th>\n      <td>110.2</td>\n      <td>92.3</td>\n      <td>97.0</td>\n      <td>94.4</td>\n      <td>109.1</td>\n      <td>134.3</td>\n      <td>79.1</td>\n      <td>89.6</td>\n      <td>113.7</td>\n      <td>99.5</td>\n      <td>96.4</td>\n    </tr>\n    <tr>\n      <th>Non Fiction</th>\n      <td>119.0</td>\n      <td>135.6</td>\n      <td>130.9</td>\n      <td>132.2</td>\n      <td>118.6</td>\n      <td>96.8</td>\n      <td>153.3</td>\n      <td>144.3</td>\n      <td>119.3</td>\n      <td>133.9</td>\n      <td>140.6</td>\n    </tr>\n  </tbody>\n</table>\n</div>"
     },
     "metadata": {}
    }
   ]
  },
  {
   "cell_type": "markdown",
   "source": "# Melt",
   "metadata": {
    "cell_id": "caea2a8fb8c54111b47a4dd977434011",
    "tags": [],
    "deepnote_cell_type": "markdown",
    "deepnote_cell_height": 82
   }
  },
  {
   "cell_type": "code",
   "metadata": {
    "cell_id": "049ba31860bf4537aebf2c656143f80e",
    "tags": [],
    "deepnote_to_be_reexecuted": false,
    "source_hash": "cd4df119",
    "execution_start": 1654530204278,
    "execution_millis": 7,
    "deepnote_cell_type": "code",
    "deepnote_cell_height": 395
   },
   "source": "df_books[['Name', 'Genre']].head()",
   "execution_count": null,
   "outputs": [
    {
     "output_type": "execute_result",
     "execution_count": 11,
     "data": {
      "application/vnd.deepnote.dataframe.v3+json": {
       "column_count": 2,
       "row_count": 5,
       "columns": [
        {
         "name": "Name",
         "dtype": "object",
         "stats": {
          "unique_count": 5,
          "nan_count": 0,
          "categories": [
           {
            "name": "10-Day Green Smoothie Cleanse",
            "count": 1
           },
           {
            "name": "11/22/63: A Novel",
            "count": 1
           },
           {
            "name": "3 others",
            "count": 3
           }
          ]
         }
        },
        {
         "name": "Genre",
         "dtype": "object",
         "stats": {
          "unique_count": 2,
          "nan_count": 0,
          "categories": [
           {
            "name": "Non Fiction",
            "count": 3
           },
           {
            "name": "Fiction",
            "count": 2
           }
          ]
         }
        },
        {
         "name": "_deepnote_index_column",
         "dtype": "int64"
        }
       ],
       "rows": [
        {
         "Name": "10-Day Green Smoothie Cleanse",
         "Genre": "Non Fiction",
         "_deepnote_index_column": 0
        },
        {
         "Name": "11/22/63: A Novel",
         "Genre": "Fiction",
         "_deepnote_index_column": 1
        },
        {
         "Name": "12 Rules for Life: An Antidote to Chaos",
         "Genre": "Non Fiction",
         "_deepnote_index_column": 2
        },
        {
         "Name": "1984 (Signet Classics)",
         "Genre": "Fiction",
         "_deepnote_index_column": 3
        },
        {
         "Name": "5,000 Awesome Facts (About Everything!) (National Geographic Kids)",
         "Genre": "Non Fiction",
         "_deepnote_index_column": 4
        }
       ]
      },
      "text/plain": "                                                Name        Genre\n0                      10-Day Green Smoothie Cleanse  Non Fiction\n1                                  11/22/63: A Novel      Fiction\n2            12 Rules for Life: An Antidote to Chaos  Non Fiction\n3                             1984 (Signet Classics)      Fiction\n4  5,000 Awesome Facts (About Everything!) (Natio...  Non Fiction",
      "text/html": "<div>\n<style scoped>\n    .dataframe tbody tr th:only-of-type {\n        vertical-align: middle;\n    }\n\n    .dataframe tbody tr th {\n        vertical-align: top;\n    }\n\n    .dataframe thead th {\n        text-align: right;\n    }\n</style>\n<table border=\"1\" class=\"dataframe\">\n  <thead>\n    <tr style=\"text-align: right;\">\n      <th></th>\n      <th>Name</th>\n      <th>Genre</th>\n    </tr>\n  </thead>\n  <tbody>\n    <tr>\n      <th>0</th>\n      <td>10-Day Green Smoothie Cleanse</td>\n      <td>Non Fiction</td>\n    </tr>\n    <tr>\n      <th>1</th>\n      <td>11/22/63: A Novel</td>\n      <td>Fiction</td>\n    </tr>\n    <tr>\n      <th>2</th>\n      <td>12 Rules for Life: An Antidote to Chaos</td>\n      <td>Non Fiction</td>\n    </tr>\n    <tr>\n      <th>3</th>\n      <td>1984 (Signet Classics)</td>\n      <td>Fiction</td>\n    </tr>\n    <tr>\n      <th>4</th>\n      <td>5,000 Awesome Facts (About Everything!) (Natio...</td>\n      <td>Non Fiction</td>\n    </tr>\n  </tbody>\n</table>\n</div>"
     },
     "metadata": {}
    }
   ]
  },
  {
   "cell_type": "code",
   "metadata": {
    "cell_id": "c18750ea0d614f5d85ce659b551b9a1f",
    "tags": [],
    "deepnote_to_be_reexecuted": false,
    "source_hash": "a0e5c77d",
    "execution_start": 1654530248752,
    "execution_millis": 5,
    "deepnote_cell_type": "code",
    "deepnote_cell_height": 600
   },
   "source": "df_books[['Name', 'Genre']].head().melt()",
   "execution_count": null,
   "outputs": [
    {
     "output_type": "execute_result",
     "execution_count": 12,
     "data": {
      "application/vnd.deepnote.dataframe.v3+json": {
       "column_count": 2,
       "row_count": 10,
       "columns": [
        {
         "name": "variable",
         "dtype": "object",
         "stats": {
          "unique_count": 2,
          "nan_count": 0,
          "categories": [
           {
            "name": "Name",
            "count": 5
           },
           {
            "name": "Genre",
            "count": 5
           }
          ]
         }
        },
        {
         "name": "value",
         "dtype": "object",
         "stats": {
          "unique_count": 7,
          "nan_count": 0,
          "categories": [
           {
            "name": "Non Fiction",
            "count": 3
           },
           {
            "name": "Fiction",
            "count": 2
           },
           {
            "name": "5 others",
            "count": 5
           }
          ]
         }
        },
        {
         "name": "_deepnote_index_column",
         "dtype": "int64"
        }
       ],
       "rows": [
        {
         "variable": "Name",
         "value": "10-Day Green Smoothie Cleanse",
         "_deepnote_index_column": 0
        },
        {
         "variable": "Name",
         "value": "11/22/63: A Novel",
         "_deepnote_index_column": 1
        },
        {
         "variable": "Name",
         "value": "12 Rules for Life: An Antidote to Chaos",
         "_deepnote_index_column": 2
        },
        {
         "variable": "Name",
         "value": "1984 (Signet Classics)",
         "_deepnote_index_column": 3
        },
        {
         "variable": "Name",
         "value": "5,000 Awesome Facts (About Everything!) (National Geographic Kids)",
         "_deepnote_index_column": 4
        },
        {
         "variable": "Genre",
         "value": "Non Fiction",
         "_deepnote_index_column": 5
        },
        {
         "variable": "Genre",
         "value": "Fiction",
         "_deepnote_index_column": 6
        },
        {
         "variable": "Genre",
         "value": "Non Fiction",
         "_deepnote_index_column": 7
        },
        {
         "variable": "Genre",
         "value": "Fiction",
         "_deepnote_index_column": 8
        },
        {
         "variable": "Genre",
         "value": "Non Fiction",
         "_deepnote_index_column": 9
        }
       ]
      },
      "text/plain": "  variable                                              value\n0     Name                      10-Day Green Smoothie Cleanse\n1     Name                                  11/22/63: A Novel\n2     Name            12 Rules for Life: An Antidote to Chaos\n3     Name                             1984 (Signet Classics)\n4     Name  5,000 Awesome Facts (About Everything!) (Natio...\n5    Genre                                        Non Fiction\n6    Genre                                            Fiction\n7    Genre                                        Non Fiction\n8    Genre                                            Fiction\n9    Genre                                        Non Fiction",
      "text/html": "<div>\n<style scoped>\n    .dataframe tbody tr th:only-of-type {\n        vertical-align: middle;\n    }\n\n    .dataframe tbody tr th {\n        vertical-align: top;\n    }\n\n    .dataframe thead th {\n        text-align: right;\n    }\n</style>\n<table border=\"1\" class=\"dataframe\">\n  <thead>\n    <tr style=\"text-align: right;\">\n      <th></th>\n      <th>variable</th>\n      <th>value</th>\n    </tr>\n  </thead>\n  <tbody>\n    <tr>\n      <th>0</th>\n      <td>Name</td>\n      <td>10-Day Green Smoothie Cleanse</td>\n    </tr>\n    <tr>\n      <th>1</th>\n      <td>Name</td>\n      <td>11/22/63: A Novel</td>\n    </tr>\n    <tr>\n      <th>2</th>\n      <td>Name</td>\n      <td>12 Rules for Life: An Antidote to Chaos</td>\n    </tr>\n    <tr>\n      <th>3</th>\n      <td>Name</td>\n      <td>1984 (Signet Classics)</td>\n    </tr>\n    <tr>\n      <th>4</th>\n      <td>Name</td>\n      <td>5,000 Awesome Facts (About Everything!) (Natio...</td>\n    </tr>\n    <tr>\n      <th>5</th>\n      <td>Genre</td>\n      <td>Non Fiction</td>\n    </tr>\n    <tr>\n      <th>6</th>\n      <td>Genre</td>\n      <td>Fiction</td>\n    </tr>\n    <tr>\n      <th>7</th>\n      <td>Genre</td>\n      <td>Non Fiction</td>\n    </tr>\n    <tr>\n      <th>8</th>\n      <td>Genre</td>\n      <td>Fiction</td>\n    </tr>\n    <tr>\n      <th>9</th>\n      <td>Genre</td>\n      <td>Non Fiction</td>\n    </tr>\n  </tbody>\n</table>\n</div>"
     },
     "metadata": {}
    }
   ]
  },
  {
   "cell_type": "code",
   "metadata": {
    "cell_id": "7edb400603284bf6ac0e93ce6ad66fbb",
    "tags": [],
    "deepnote_to_be_reexecuted": false,
    "source_hash": "b6183c21",
    "execution_start": 1654530338847,
    "execution_millis": 23,
    "deepnote_cell_type": "code",
    "deepnote_cell_height": 600
   },
   "source": "df_books.melt(id_vars='Year', value_vars='Genre')",
   "execution_count": null,
   "outputs": [
    {
     "output_type": "execute_result",
     "execution_count": 13,
     "data": {
      "application/vnd.deepnote.dataframe.v3+json": {
       "column_count": 3,
       "row_count": 550,
       "columns": [
        {
         "name": "Year",
         "dtype": "int64",
         "stats": {
          "unique_count": 11,
          "nan_count": 0,
          "min": "2009",
          "max": "2019",
          "histogram": [
           {
            "bin_start": 2009,
            "bin_end": 2010,
            "count": 50
           },
           {
            "bin_start": 2010,
            "bin_end": 2011,
            "count": 50
           },
           {
            "bin_start": 2011,
            "bin_end": 2012,
            "count": 50
           },
           {
            "bin_start": 2012,
            "bin_end": 2013,
            "count": 50
           },
           {
            "bin_start": 2013,
            "bin_end": 2014,
            "count": 50
           },
           {
            "bin_start": 2014,
            "bin_end": 2015,
            "count": 50
           },
           {
            "bin_start": 2015,
            "bin_end": 2016,
            "count": 50
           },
           {
            "bin_start": 2016,
            "bin_end": 2017,
            "count": 50
           },
           {
            "bin_start": 2017,
            "bin_end": 2018,
            "count": 50
           },
           {
            "bin_start": 2018,
            "bin_end": 2019,
            "count": 100
           }
          ]
         }
        },
        {
         "name": "variable",
         "dtype": "object",
         "stats": {
          "unique_count": 1,
          "nan_count": 0,
          "categories": [
           {
            "name": "Genre",
            "count": 550
           }
          ]
         }
        },
        {
         "name": "value",
         "dtype": "object",
         "stats": {
          "unique_count": 2,
          "nan_count": 0,
          "categories": [
           {
            "name": "Non Fiction",
            "count": 310
           },
           {
            "name": "Fiction",
            "count": 240
           }
          ]
         }
        },
        {
         "name": "_deepnote_index_column",
         "dtype": "int64"
        }
       ],
       "rows": [
        {
         "Year": 2016,
         "variable": "Genre",
         "value": "Non Fiction",
         "_deepnote_index_column": 0
        },
        {
         "Year": 2011,
         "variable": "Genre",
         "value": "Fiction",
         "_deepnote_index_column": 1
        },
        {
         "Year": 2018,
         "variable": "Genre",
         "value": "Non Fiction",
         "_deepnote_index_column": 2
        },
        {
         "Year": 2017,
         "variable": "Genre",
         "value": "Fiction",
         "_deepnote_index_column": 3
        },
        {
         "Year": 2019,
         "variable": "Genre",
         "value": "Non Fiction",
         "_deepnote_index_column": 4
        },
        {
         "Year": 2011,
         "variable": "Genre",
         "value": "Fiction",
         "_deepnote_index_column": 5
        },
        {
         "Year": 2014,
         "variable": "Genre",
         "value": "Fiction",
         "_deepnote_index_column": 6
        },
        {
         "Year": 2017,
         "variable": "Genre",
         "value": "Fiction",
         "_deepnote_index_column": 7
        },
        {
         "Year": 2018,
         "variable": "Genre",
         "value": "Non Fiction",
         "_deepnote_index_column": 8
        },
        {
         "Year": 2016,
         "variable": "Genre",
         "value": "Fiction",
         "_deepnote_index_column": 9
        }
       ]
      },
      "text/plain": "     Year variable        value\n0    2016    Genre  Non Fiction\n1    2011    Genre      Fiction\n2    2018    Genre  Non Fiction\n3    2017    Genre      Fiction\n4    2019    Genre  Non Fiction\n..    ...      ...          ...\n545  2019    Genre      Fiction\n546  2016    Genre  Non Fiction\n547  2017    Genre  Non Fiction\n548  2018    Genre  Non Fiction\n549  2019    Genre  Non Fiction\n\n[550 rows x 3 columns]",
      "text/html": "<div>\n<style scoped>\n    .dataframe tbody tr th:only-of-type {\n        vertical-align: middle;\n    }\n\n    .dataframe tbody tr th {\n        vertical-align: top;\n    }\n\n    .dataframe thead th {\n        text-align: right;\n    }\n</style>\n<table border=\"1\" class=\"dataframe\">\n  <thead>\n    <tr style=\"text-align: right;\">\n      <th></th>\n      <th>Year</th>\n      <th>variable</th>\n      <th>value</th>\n    </tr>\n  </thead>\n  <tbody>\n    <tr>\n      <th>0</th>\n      <td>2016</td>\n      <td>Genre</td>\n      <td>Non Fiction</td>\n    </tr>\n    <tr>\n      <th>1</th>\n      <td>2011</td>\n      <td>Genre</td>\n      <td>Fiction</td>\n    </tr>\n    <tr>\n      <th>2</th>\n      <td>2018</td>\n      <td>Genre</td>\n      <td>Non Fiction</td>\n    </tr>\n    <tr>\n      <th>3</th>\n      <td>2017</td>\n      <td>Genre</td>\n      <td>Fiction</td>\n    </tr>\n    <tr>\n      <th>4</th>\n      <td>2019</td>\n      <td>Genre</td>\n      <td>Non Fiction</td>\n    </tr>\n    <tr>\n      <th>...</th>\n      <td>...</td>\n      <td>...</td>\n      <td>...</td>\n    </tr>\n    <tr>\n      <th>545</th>\n      <td>2019</td>\n      <td>Genre</td>\n      <td>Fiction</td>\n    </tr>\n    <tr>\n      <th>546</th>\n      <td>2016</td>\n      <td>Genre</td>\n      <td>Non Fiction</td>\n    </tr>\n    <tr>\n      <th>547</th>\n      <td>2017</td>\n      <td>Genre</td>\n      <td>Non Fiction</td>\n    </tr>\n    <tr>\n      <th>548</th>\n      <td>2018</td>\n      <td>Genre</td>\n      <td>Non Fiction</td>\n    </tr>\n    <tr>\n      <th>549</th>\n      <td>2019</td>\n      <td>Genre</td>\n      <td>Non Fiction</td>\n    </tr>\n  </tbody>\n</table>\n<p>550 rows × 3 columns</p>\n</div>"
     },
     "metadata": {}
    }
   ]
  },
  {
   "cell_type": "code",
   "metadata": {
    "cell_id": "77dd091eccb34cc8b7b32d4bcece13e9",
    "tags": [],
    "deepnote_cell_type": "code",
    "deepnote_cell_height": 66
   },
   "source": "",
   "execution_count": null,
   "outputs": []
  },
  {
   "cell_type": "markdown",
   "source": "<a style='text-decoration:none;line-height:16px;display:flex;color:#5B5B62;padding:10px;justify-content:end;' href='https://deepnote.com?utm_source=created-in-deepnote-cell&projectId=837cf1af-c506-4091-b16c-c4a4c0575614' target=\"_blank\">\n<img alt='Created in deepnote.com' style='display:inline;max-height:16px;margin:0px;margin-right:7.5px;' src='data:image/svg+xml;base64,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' > </img>\nCreated in <span style='font-weight:600;margin-left:4px;'>Deepnote</span></a>",
   "metadata": {
    "tags": [],
    "created_in_deepnote_cell": true,
    "deepnote_cell_type": "markdown"
   }
  }
 ],
 "nbformat": 4,
 "nbformat_minor": 2,
 "metadata": {
  "orig_nbformat": 2,
  "deepnote": {},
  "deepnote_notebook_id": "8ca0355b-8e5a-4dcc-bea5-13d4f924c843",
  "deepnote_execution_queue": []
 }
}