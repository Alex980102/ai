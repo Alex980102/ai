{
 "cells": [
  {
   "cell_type": "code",
   "metadata": {
    "cell_id": "d08b1816214f4f089c077585e858bebc",
    "tags": [],
    "deepnote_to_be_reexecuted": false,
    "source_hash": "9b82ee11",
    "execution_start": 1654097602265,
    "execution_millis": 3,
    "deepnote_cell_type": "code",
    "deepnote_cell_height": 81
   },
   "source": "import pandas as pd",
   "outputs": [],
   "execution_count": null
  },
  {
   "cell_type": "code",
   "metadata": {
    "cell_id": "f33b0cc1ac9c4129b41019aa2ac4b077",
    "tags": [],
    "deepnote_to_be_reexecuted": false,
    "source_hash": "105f8cc9",
    "execution_start": 1654097665967,
    "execution_millis": 2,
    "deepnote_cell_type": "code",
    "deepnote_cell_height": 117
   },
   "source": "psg_players = pd.Series(['Naves', 'Mbappe', 'Neymar', 'Messi'],\n        index=[1,7,10,30]\n)",
   "outputs": [],
   "execution_count": null
  },
  {
   "cell_type": "code",
   "metadata": {
    "cell_id": "f4ae3421350147a39132cbe600f86986",
    "tags": [],
    "deepnote_to_be_reexecuted": false,
    "source_hash": "3ca1ec46",
    "execution_start": 1654097669842,
    "execution_millis": 10,
    "deepnote_cell_type": "code",
    "deepnote_cell_height": 195,
    "deepnote_output_heights": [
     98
    ]
   },
   "source": "psg_players",
   "outputs": [
    {
     "output_type": "execute_result",
     "execution_count": 3,
     "data": {
      "text/plain": "1      Naves\n7     Mbappe\n10    Neymar\n30     Messi\ndtype: object"
     },
     "metadata": {}
    }
   ],
   "execution_count": null
  },
  {
   "cell_type": "code",
   "metadata": {
    "cell_id": "a1ff861bd588431b8260f5935a5cb19e",
    "tags": [],
    "deepnote_to_be_reexecuted": false,
    "source_hash": "dbb2963e",
    "execution_start": 1654097711452,
    "execution_millis": 3,
    "deepnote_cell_type": "code",
    "deepnote_cell_height": 195,
    "deepnote_output_heights": [
     98
    ]
   },
   "source": "pd.Series(['Naves', 'Mbappe', 'Neymar', 'Messi'])",
   "outputs": [
    {
     "output_type": "execute_result",
     "execution_count": 4,
     "data": {
      "text/plain": "0     Naves\n1    Mbappe\n2    Neymar\n3     Messi\ndtype: object"
     },
     "metadata": {}
    }
   ],
   "execution_count": null
  },
  {
   "cell_type": "code",
   "metadata": {
    "cell_id": "f313230ee6a64f5799fce6fb55342df4",
    "tags": [],
    "deepnote_to_be_reexecuted": false,
    "source_hash": "e5cbd672",
    "execution_start": 1654097866527,
    "execution_millis": 4,
    "deepnote_cell_type": "code",
    "deepnote_cell_height": 213,
    "deepnote_output_heights": [
     98
    ]
   },
   "source": "dict = {1: 'Navas', 7:'Mbappe', 10: 'Neymar', 30: 'Messi'}\npd.Series(dict)",
   "outputs": [
    {
     "output_type": "execute_result",
     "execution_count": 5,
     "data": {
      "text/plain": "1      Navas\n7     Mbappe\n10    Neymar\n30     Messi\ndtype: object"
     },
     "metadata": {}
    }
   ],
   "execution_count": null
  },
  {
   "cell_type": "code",
   "metadata": {
    "cell_id": "1554dbe9e16a4e48a06f066f8acee845",
    "tags": [],
    "deepnote_to_be_reexecuted": false,
    "source_hash": "9b62a323",
    "execution_start": 1654097970579,
    "execution_millis": 4,
    "deepnote_cell_type": "code",
    "deepnote_cell_height": 176,
    "deepnote_output_heights": [
     79
    ]
   },
   "source": "psg_players[0:3]",
   "outputs": [
    {
     "output_type": "execute_result",
     "execution_count": 9,
     "data": {
      "text/plain": "1      Naves\n7     Mbappe\n10    Neymar\ndtype: object"
     },
     "metadata": {}
    }
   ],
   "execution_count": null
  },
  {
   "cell_type": "code",
   "metadata": {
    "cell_id": "5afc84fe7044491bbd3ab5996016430f",
    "tags": [],
    "deepnote_to_be_reexecuted": false,
    "source_hash": "450d1233",
    "execution_start": 1654098147950,
    "execution_millis": 1,
    "deepnote_cell_type": "code",
    "deepnote_cell_height": 153
   },
   "source": "dict = {\n    'Jugador': ['Navas', 'Mbape', 'Neymar', 'Messi'],\n    'Altura': [183.0, 170.0, 170.0, 165.0],\n    'Goles': [2,200,200,200]\n}",
   "outputs": [],
   "execution_count": null
  },
  {
   "cell_type": "code",
   "metadata": {
    "cell_id": "8a580a045ee242ea9127ff27127cc559",
    "tags": [],
    "deepnote_to_be_reexecuted": false,
    "source_hash": "39995d80",
    "execution_start": 1654098181351,
    "execution_millis": 508,
    "deepnote_cell_type": "code",
    "deepnote_cell_height": 354
   },
   "source": "pd.DataFrame(dict, index=[1,7,10,30])",
   "outputs": [
    {
     "output_type": "execute_result",
     "execution_count": 12,
     "data": {
      "application/vnd.deepnote.dataframe.v3+json": {
       "column_count": 3,
       "row_count": 4,
       "columns": [
        {
         "name": "Jugador",
         "dtype": "object",
         "stats": {
          "unique_count": 4,
          "nan_count": 0,
          "categories": [
           {
            "name": "Navas",
            "count": 1
           },
           {
            "name": "Mbape",
            "count": 1
           },
           {
            "name": "2 others",
            "count": 2
           }
          ]
         }
        },
        {
         "name": "Altura",
         "dtype": "float64",
         "stats": {
          "unique_count": 3,
          "nan_count": 0,
          "min": "165.0",
          "max": "183.0",
          "histogram": [
           {
            "bin_start": 165,
            "bin_end": 166.8,
            "count": 1
           },
           {
            "bin_start": 166.8,
            "bin_end": 168.6,
            "count": 0
           },
           {
            "bin_start": 168.6,
            "bin_end": 170.4,
            "count": 2
           },
           {
            "bin_start": 170.4,
            "bin_end": 172.2,
            "count": 0
           },
           {
            "bin_start": 172.2,
            "bin_end": 174,
            "count": 0
           },
           {
            "bin_start": 174,
            "bin_end": 175.8,
            "count": 0
           },
           {
            "bin_start": 175.8,
            "bin_end": 177.6,
            "count": 0
           },
           {
            "bin_start": 177.6,
            "bin_end": 179.4,
            "count": 0
           },
           {
            "bin_start": 179.4,
            "bin_end": 181.2,
            "count": 0
           },
           {
            "bin_start": 181.2,
            "bin_end": 183,
            "count": 1
           }
          ]
         }
        },
        {
         "name": "Goles",
         "dtype": "int64",
         "stats": {
          "unique_count": 2,
          "nan_count": 0,
          "min": "2",
          "max": "200",
          "histogram": [
           {
            "bin_start": 2,
            "bin_end": 21.8,
            "count": 1
           },
           {
            "bin_start": 21.8,
            "bin_end": 41.6,
            "count": 0
           },
           {
            "bin_start": 41.6,
            "bin_end": 61.400000000000006,
            "count": 0
           },
           {
            "bin_start": 61.400000000000006,
            "bin_end": 81.2,
            "count": 0
           },
           {
            "bin_start": 81.2,
            "bin_end": 101,
            "count": 0
           },
           {
            "bin_start": 101,
            "bin_end": 120.80000000000001,
            "count": 0
           },
           {
            "bin_start": 120.80000000000001,
            "bin_end": 140.6,
            "count": 0
           },
           {
            "bin_start": 140.6,
            "bin_end": 160.4,
            "count": 0
           },
           {
            "bin_start": 160.4,
            "bin_end": 180.20000000000002,
            "count": 0
           },
           {
            "bin_start": 180.20000000000002,
            "bin_end": 200,
            "count": 3
           }
          ]
         }
        },
        {
         "name": "_deepnote_index_column",
         "dtype": "int64"
        }
       ],
       "rows": [
        {
         "Jugador": "Navas",
         "Altura": 183,
         "Goles": 2,
         "_deepnote_index_column": 1
        },
        {
         "Jugador": "Mbape",
         "Altura": 170,
         "Goles": 200,
         "_deepnote_index_column": 7
        },
        {
         "Jugador": "Neymar",
         "Altura": 170,
         "Goles": 200,
         "_deepnote_index_column": 10
        },
        {
         "Jugador": "Messi",
         "Altura": 165,
         "Goles": 200,
         "_deepnote_index_column": 30
        }
       ]
      },
      "text/plain": "   Jugador  Altura  Goles\n1    Navas   183.0      2\n7    Mbape   170.0    200\n10  Neymar   170.0    200\n30   Messi   165.0    200",
      "text/html": "<div>\n<style scoped>\n    .dataframe tbody tr th:only-of-type {\n        vertical-align: middle;\n    }\n\n    .dataframe tbody tr th {\n        vertical-align: top;\n    }\n\n    .dataframe thead th {\n        text-align: right;\n    }\n</style>\n<table border=\"1\" class=\"dataframe\">\n  <thead>\n    <tr style=\"text-align: right;\">\n      <th></th>\n      <th>Jugador</th>\n      <th>Altura</th>\n      <th>Goles</th>\n    </tr>\n  </thead>\n  <tbody>\n    <tr>\n      <th>1</th>\n      <td>Navas</td>\n      <td>183.0</td>\n      <td>2</td>\n    </tr>\n    <tr>\n      <th>7</th>\n      <td>Mbape</td>\n      <td>170.0</td>\n      <td>200</td>\n    </tr>\n    <tr>\n      <th>10</th>\n      <td>Neymar</td>\n      <td>170.0</td>\n      <td>200</td>\n    </tr>\n    <tr>\n      <th>30</th>\n      <td>Messi</td>\n      <td>165.0</td>\n      <td>200</td>\n    </tr>\n  </tbody>\n</table>\n</div>"
     },
     "metadata": {}
    }
   ],
   "execution_count": null
  },
  {
   "cell_type": "code",
   "metadata": {
    "cell_id": "19831d5d05f34efd97958a5b16f1e7f0",
    "tags": [],
    "deepnote_to_be_reexecuted": false,
    "source_hash": "fd200f8c",
    "execution_start": 1654098358875,
    "execution_millis": 3,
    "deepnote_cell_type": "code",
    "deepnote_cell_height": 81
   },
   "source": "df_Players = pd.DataFrame(dict, index=[1,7,10,30])",
   "outputs": [],
   "execution_count": null
  },
  {
   "cell_type": "code",
   "metadata": {
    "cell_id": "00eb7853ce784edbb512ecd87063d8bb",
    "tags": [],
    "deepnote_to_be_reexecuted": false,
    "source_hash": "d1eb8230",
    "execution_start": 1654098359114,
    "execution_millis": 6,
    "deepnote_cell_type": "code",
    "deepnote_cell_height": 118,
    "deepnote_output_heights": [
     21
    ]
   },
   "source": "df_Players.columns",
   "outputs": [
    {
     "output_type": "execute_result",
     "execution_count": 17,
     "data": {
      "text/plain": "Index(['Jugador', 'Altura', 'Goles'], dtype='object')"
     },
     "metadata": {}
    }
   ],
   "execution_count": null
  },
  {
   "cell_type": "code",
   "metadata": {
    "cell_id": "c2293cd484724b2e806fba54192afcaa",
    "tags": [],
    "deepnote_to_be_reexecuted": false,
    "source_hash": "8118f74b",
    "execution_start": 1654098359439,
    "execution_millis": 7,
    "owner_user_id": "6b4a8dcb-83e3-48d8-857e-449aa20f64fc",
    "deepnote_cell_type": "code",
    "deepnote_cell_height": 118,
    "deepnote_output_heights": [
     21
    ]
   },
   "source": "df_Players.index",
   "outputs": [
    {
     "output_type": "execute_result",
     "execution_count": 18,
     "data": {
      "text/plain": "Int64Index([1, 7, 10, 30], dtype='int64')"
     },
     "metadata": {}
    }
   ],
   "execution_count": null
  },
  {
   "cell_type": "markdown",
   "source": "<a style='text-decoration:none;line-height:16px;display:flex;color:#5B5B62;padding:10px;justify-content:end;' href='https://deepnote.com?utm_source=created-in-deepnote-cell&projectId=837cf1af-c506-4091-b16c-c4a4c0575614' target=\"_blank\">\n<img alt='Created in deepnote.com' style='display:inline;max-height:16px;margin:0px;margin-right:7.5px;' src='data:image/svg+xml;base64,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' > </img>\nCreated in <span style='font-weight:600;margin-left:4px;'>Deepnote</span></a>",
   "metadata": {
    "tags": [],
    "created_in_deepnote_cell": true,
    "deepnote_cell_type": "markdown"
   }
  }
 ],
 "nbformat": 4,
 "nbformat_minor": 2,
 "metadata": {
  "orig_nbformat": 2,
  "deepnote": {},
  "deepnote_notebook_id": "b52dc89f-3751-4fb1-9d10-538ffbf5e593",
  "deepnote_execution_queue": []
 }
}