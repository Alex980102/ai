{
 "cells": [
  {
   "cell_type": "markdown",
   "source": "# Dimensiones de datos en numpy",
   "metadata": {
    "cell_id": "7e85c6a573db470791637f0c473eb9fc",
    "tags": [],
    "deepnote_cell_type": "markdown",
    "deepnote_cell_height": 82
   }
  },
  {
   "cell_type": "markdown",
   "source": "<img src=\"/work/ai/assets/first.png\">",
   "metadata": {
    "cell_id": "f676a90d6e93417882a127c0f0e82891",
    "tags": [],
    "owner_user_id": "6b4a8dcb-83e3-48d8-857e-449aa20f64fc",
    "deepnote_cell_type": "markdown",
    "deepnote_cell_height": 580
   }
  },
  {
   "cell_type": "code",
   "metadata": {
    "cell_id": "18310aa9ad954e208bb5ff664cf1c3d1",
    "tags": [],
    "deepnote_to_be_reexecuted": false,
    "source_hash": "c2602aa8",
    "execution_start": 1653918770686,
    "execution_millis": 3,
    "deepnote_cell_type": "code",
    "deepnote_cell_height": 81
   },
   "source": "import numpy as np",
   "execution_count": null,
   "outputs": []
  },
  {
   "cell_type": "code",
   "metadata": {
    "cell_id": "a875ddca93334e9aacc607e0aff12cae",
    "tags": [],
    "deepnote_to_be_reexecuted": false,
    "source_hash": "8157a049",
    "execution_start": 1653918772012,
    "execution_millis": 0,
    "deepnote_cell_type": "code",
    "deepnote_cell_height": 154.1875,
    "deepnote_output_heights": [
     21.1875
    ]
   },
   "source": "scalar = np.array(42)\nscalar\nscalar.ndim",
   "execution_count": null,
   "outputs": [
    {
     "output_type": "execute_result",
     "execution_count": 3,
     "data": {
      "text/plain": "0"
     },
     "metadata": {}
    }
   ]
  },
  {
   "cell_type": "code",
   "metadata": {
    "cell_id": "4d43a055041c49ec866cf65255a92c0e",
    "tags": [],
    "deepnote_to_be_reexecuted": false,
    "source_hash": "49e070f0",
    "execution_start": 1653918773391,
    "execution_millis": 6,
    "deepnote_cell_type": "code",
    "deepnote_cell_height": 200.375,
    "deepnote_output_heights": [
     null,
     21.1875
    ]
   },
   "source": "vector = np.arange(1,4)\nprint(vector)\nvector.ndim",
   "execution_count": null,
   "outputs": [
    {
     "name": "stdout",
     "text": "[1 2 3]\n",
     "output_type": "stream"
    },
    {
     "output_type": "execute_result",
     "execution_count": 4,
     "data": {
      "text/plain": "1"
     },
     "metadata": {}
    }
   ]
  },
  {
   "cell_type": "code",
   "metadata": {
    "cell_id": "316dbfd331e14a64a7ac032c342af2af",
    "tags": [],
    "deepnote_to_be_reexecuted": false,
    "source_hash": "b76064ea",
    "execution_start": 1653918776858,
    "execution_millis": 3,
    "deepnote_cell_type": "code",
    "deepnote_cell_height": 220.5625,
    "deepnote_output_heights": [
     null,
     21.1875
    ]
   },
   "source": "matriz = np.array([[1,2,3],[4,5,6]])\nprint(matriz)\nmatriz.ndim",
   "execution_count": null,
   "outputs": [
    {
     "name": "stdout",
     "text": "[[1 2 3]\n [4 5 6]]\n",
     "output_type": "stream"
    },
    {
     "output_type": "execute_result",
     "execution_count": 5,
     "data": {
      "text/plain": "2"
     },
     "metadata": {}
    }
   ]
  },
  {
   "cell_type": "code",
   "metadata": {
    "cell_id": "432770a62f164a63932f348d7be6e3cf",
    "tags": [],
    "deepnote_to_be_reexecuted": false,
    "source_hash": "c6122153",
    "execution_start": 1653918777786,
    "execution_millis": 4,
    "deepnote_cell_type": "code",
    "deepnote_cell_height": 240.75,
    "deepnote_output_heights": [
     null,
     21.1875
    ]
   },
   "source": "matriz = np.array([[1,2,3,4], [5,6,7,8], [9,10,11,12]])\nprint(matriz)\nmatriz.ndim",
   "execution_count": null,
   "outputs": [
    {
     "name": "stdout",
     "text": "[[ 1  2  3  4]\n [ 5  6  7  8]\n [ 9 10 11 12]]\n",
     "output_type": "stream"
    },
    {
     "output_type": "execute_result",
     "execution_count": 6,
     "data": {
      "text/plain": "2"
     },
     "metadata": {}
    }
   ]
  },
  {
   "cell_type": "code",
   "metadata": {
    "cell_id": "4497dda53921498ebcce22ff12cde354",
    "tags": [],
    "deepnote_to_be_reexecuted": false,
    "source_hash": "d8d02d9b",
    "execution_start": 1653918778755,
    "execution_millis": 22,
    "deepnote_cell_type": "code",
    "deepnote_cell_height": 361.875,
    "deepnote_output_heights": [
     null,
     21.1875
    ]
   },
   "source": "tensor = np.array([[[1,2,3], [4,5,6], [7,8,9], [0, 2,45]], [[1,2,3], [4,5,6], [7,8,9], [0, 2,45]]])\nprint(tensor)\ntensor.ndim",
   "execution_count": null,
   "outputs": [
    {
     "name": "stdout",
     "text": "[[[ 1  2  3]\n  [ 4  5  6]\n  [ 7  8  9]\n  [ 0  2 45]]\n\n [[ 1  2  3]\n  [ 4  5  6]\n  [ 7  8  9]\n  [ 0  2 45]]]\n",
     "output_type": "stream"
    },
    {
     "output_type": "execute_result",
     "execution_count": 7,
     "data": {
      "text/plain": "3"
     },
     "metadata": {}
    }
   ]
  },
  {
   "cell_type": "markdown",
   "source": "## Agregar o eliminar dimensiones",
   "metadata": {
    "cell_id": "ff881cfcd75544888c83070ab9451aa0",
    "tags": [],
    "deepnote_cell_type": "markdown",
    "deepnote_cell_height": 70
   }
  },
  {
   "cell_type": "code",
   "metadata": {
    "cell_id": "9a48f4efb12545acbb0e39fa737c7f23",
    "tags": [],
    "deepnote_to_be_reexecuted": false,
    "source_hash": "5aac5a5c",
    "execution_start": 1653918779595,
    "execution_millis": 3,
    "deepnote_cell_type": "code",
    "deepnote_cell_height": 200.375,
    "deepnote_output_heights": [
     null,
     21.1875
    ]
   },
   "source": "vector = np.array([1,2,3], ndmin=10)\nprint(vector)\nvector.ndim",
   "execution_count": null,
   "outputs": [
    {
     "name": "stdout",
     "text": "[[[[[[[[[[1 2 3]]]]]]]]]]\n",
     "output_type": "stream"
    },
    {
     "output_type": "execute_result",
     "execution_count": 8,
     "data": {
      "text/plain": "10"
     },
     "metadata": {}
    }
   ]
  },
  {
   "cell_type": "code",
   "metadata": {
    "cell_id": "3acfcdbc13d843429f16b8507bd0debf",
    "tags": [],
    "deepnote_to_be_reexecuted": false,
    "source_hash": "aae17ff2",
    "execution_start": 1653919366983,
    "execution_millis": 5,
    "deepnote_cell_type": "code",
    "deepnote_cell_height": 206.5625
   },
   "source": "expand = np.expand_dims(np.array([1,2,3]), axis=0)\nprint(expand)\nprint(expand.ndim)\nprint(expand.shape)",
   "execution_count": null,
   "outputs": [
    {
     "name": "stdout",
     "text": "[[1 2 3]]\n2\n(1, 3)\n",
     "output_type": "stream"
    }
   ]
  },
  {
   "cell_type": "markdown",
   "source": "## Método Squeeze\nLa función squeeze se usa para remover  ",
   "metadata": {
    "cell_id": "e2b53a07d8c94f4790b4131e4a9c76ab",
    "tags": [],
    "deepnote_cell_type": "markdown",
    "deepnote_cell_height": 108.390625
   }
  },
  {
   "cell_type": "code",
   "metadata": {
    "cell_id": "cc766b801f984baf9c06ce65ac046606",
    "tags": [],
    "deepnote_to_be_reexecuted": false,
    "source_hash": "5507e360",
    "execution_start": 1653918780113,
    "execution_millis": 4,
    "deepnote_cell_type": "code",
    "deepnote_cell_height": 188.5625
   },
   "source": "print(vector, vector.ndim)\nvector_2 = np.squeeze(vector)\nprint(f\"vector: {vector_2} \\ndimensiones: {vector_2.ndim}\")",
   "execution_count": null,
   "outputs": [
    {
     "name": "stdout",
     "text": "[[[[[[[[[[1 2 3]]]]]]]]]] 10\nvector: [1 2 3] \ndimensiones: 1\n",
     "output_type": "stream"
    }
   ]
  },
  {
   "cell_type": "code",
   "metadata": {
    "cell_id": "e38c8aac9b2240b4b5b6146fdf99664c",
    "tags": [],
    "deepnote_to_be_reexecuted": false,
    "source_hash": "f2d8cb5d",
    "execution_start": 1653919456116,
    "execution_millis": 3,
    "deepnote_cell_type": "code",
    "deepnote_cell_height": 168.375
   },
   "source": "print(vector, vector.ndim)\nvector_2 = np.squeeze(vector)\nprint(vector_2, vector_2.ndim)",
   "execution_count": null,
   "outputs": [
    {
     "name": "stdout",
     "text": "[[[[[[[[[[1 2 3]]]]]]]]]] 10\n[1 2 3] 1\n",
     "output_type": "stream"
    }
   ]
  },
  {
   "cell_type": "markdown",
   "source": "# Reto\n1. Definir un tensor con al menos 5 dimensiones\n2. Sumarle una dimensión en cualquiera de los ejes\n3. Borrar las dimensiones que no se usan",
   "metadata": {
    "cell_id": "ef2cbb0cf6e14dc6b213c16edabca19f",
    "tags": [],
    "deepnote_cell_type": "markdown",
    "deepnote_cell_height": 185.171875
   }
  },
  {
   "cell_type": "code",
   "metadata": {
    "cell_id": "4b48cefd6da64d189e8d84bcc6711116",
    "tags": [],
    "deepnote_to_be_reexecuted": false,
    "source_hash": "716d0284",
    "execution_start": 1653919844686,
    "execution_millis": 3,
    "deepnote_cell_type": "code",
    "deepnote_cell_height": 323.3125
   },
   "source": "nuevo_tensor = np.array([np.arange(1,4), np.arange(4, 7), np.arange(7, 10)], ndmin=5)\nprint(nuevo_tensor)\nprint('------------')\nprint(nuevo_tensor.ndim)\nprint('------------')\nprint(nuevo_tensor.shape)",
   "execution_count": null,
   "outputs": [
    {
     "name": "stdout",
     "text": "[[[[[1 2 3]\n    [4 5 6]\n    [7 8 9]]]]]\n------------\n5\n------------\n(1, 1, 1, 3, 3)\n",
     "output_type": "stream"
    }
   ]
  },
  {
   "cell_type": "code",
   "metadata": {
    "cell_id": "65654523f4d849d0858300362c16c9f4",
    "tags": [],
    "deepnote_to_be_reexecuted": false,
    "source_hash": "c3d150ae",
    "execution_start": 1653919902488,
    "execution_millis": 8,
    "deepnote_cell_type": "code",
    "deepnote_cell_height": 208.75
   },
   "source": "nuevo_tensor = np.squeeze(nuevo_tensor)\nprint(nuevo_tensor)\nprint(nuevo_tensor.ndim)",
   "execution_count": null,
   "outputs": [
    {
     "name": "stdout",
     "text": "[[1 2 3]\n [4 5 6]\n [7 8 9]]\n2\n",
     "output_type": "stream"
    }
   ]
  },
  {
   "cell_type": "code",
   "metadata": {
    "cell_id": "392b5fc8392d43c0ba6e6cd738c59fcd",
    "tags": [],
    "deepnote_cell_type": "code",
    "deepnote_cell_height": 66
   },
   "source": "",
   "execution_count": null,
   "outputs": []
  },
  {
   "cell_type": "markdown",
   "source": "<a style='text-decoration:none;line-height:16px;display:flex;color:#5B5B62;padding:10px;justify-content:end;' href='https://deepnote.com?utm_source=created-in-deepnote-cell&projectId=837cf1af-c506-4091-b16c-c4a4c0575614' target=\"_blank\">\n<img alt='Created in deepnote.com' style='display:inline;max-height:16px;margin:0px;margin-right:7.5px;' src='data:image/svg+xml;base64,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' > </img>\nCreated in <span style='font-weight:600;margin-left:4px;'>Deepnote</span></a>",
   "metadata": {
    "tags": [],
    "created_in_deepnote_cell": true,
    "deepnote_cell_type": "markdown"
   }
  }
 ],
 "nbformat": 4,
 "nbformat_minor": 2,
 "metadata": {
  "orig_nbformat": 2,
  "deepnote": {},
  "deepnote_notebook_id": "82840de1-3bce-466e-b5a1-698d2bd36a3d",
  "deepnote_execution_queue": []
 }
}