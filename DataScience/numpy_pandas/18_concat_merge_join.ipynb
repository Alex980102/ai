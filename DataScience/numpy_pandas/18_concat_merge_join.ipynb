{
 "cells": [
  {
   "cell_type": "code",
   "metadata": {
    "cell_id": "dc190f09bc4f4019a094edddd7d0e586",
    "tags": [],
    "deepnote_to_be_reexecuted": false,
    "source_hash": "c76c7c51",
    "execution_start": 1654527565899,
    "execution_millis": 42,
    "deepnote_cell_type": "code",
    "deepnote_cell_height": 99
   },
   "source": "import pandas as pd\nimport numpy as np",
   "outputs": [],
   "execution_count": null
  },
  {
   "cell_type": "code",
   "metadata": {
    "cell_id": "9aedd3884faf4d6ea0ec290ab5814ff7",
    "tags": [],
    "deepnote_to_be_reexecuted": false,
    "source_hash": "e3805350",
    "execution_start": 1654527565941,
    "execution_millis": 1,
    "deepnote_cell_type": "code",
    "deepnote_cell_height": 243
   },
   "source": "df1 = pd.DataFrame({'A':['A0', 'A1', 'A2','A3'],\n\t'B':['B0', 'B1', 'B2','B3'],\n\t'C':['C0', 'C1', 'C2','C3'],\n\t'D':['D0', 'D1', 'D2','D3']})\n\n\ndf2 = pd.DataFrame({'A':['A4', 'A5', 'A6','A7'],\n\t'B':['B4', 'B5', 'B6','B7'],\n\t'C':['C4', 'C5', 'C6','C7'],\n\t'D':['D4', 'D5', 'D6','D7']})",
   "outputs": [],
   "execution_count": null
  },
  {
   "cell_type": "markdown",
   "source": "# Concat",
   "metadata": {
    "cell_id": "e546d19d93fa4e56aba9f5c592a070cb",
    "tags": [],
    "deepnote_cell_type": "markdown",
    "deepnote_cell_height": 82
   }
  },
  {
   "cell_type": "code",
   "metadata": {
    "cell_id": "894f346572f249af9c626e345734785d",
    "tags": [],
    "deepnote_to_be_reexecuted": false,
    "source_hash": "9c818047",
    "execution_start": 1654527565942,
    "execution_millis": 6,
    "deepnote_cell_type": "code",
    "deepnote_cell_height": 518
   },
   "source": "pd.concat([df1, df2])",
   "outputs": [
    {
     "output_type": "execute_result",
     "execution_count": 3,
     "data": {
      "application/vnd.deepnote.dataframe.v3+json": {
       "column_count": 4,
       "row_count": 8,
       "columns": [
        {
         "name": "A",
         "dtype": "object",
         "stats": {
          "unique_count": 8,
          "nan_count": 0,
          "categories": [
           {
            "name": "A0",
            "count": 1
           },
           {
            "name": "A1",
            "count": 1
           },
           {
            "name": "6 others",
            "count": 6
           }
          ]
         }
        },
        {
         "name": "B",
         "dtype": "object",
         "stats": {
          "unique_count": 8,
          "nan_count": 0,
          "categories": [
           {
            "name": "B0",
            "count": 1
           },
           {
            "name": "B1",
            "count": 1
           },
           {
            "name": "6 others",
            "count": 6
           }
          ]
         }
        },
        {
         "name": "C",
         "dtype": "object",
         "stats": {
          "unique_count": 8,
          "nan_count": 0,
          "categories": [
           {
            "name": "C0",
            "count": 1
           },
           {
            "name": "C1",
            "count": 1
           },
           {
            "name": "6 others",
            "count": 6
           }
          ]
         }
        },
        {
         "name": "D",
         "dtype": "object",
         "stats": {
          "unique_count": 8,
          "nan_count": 0,
          "categories": [
           {
            "name": "D0",
            "count": 1
           },
           {
            "name": "D1",
            "count": 1
           },
           {
            "name": "6 others",
            "count": 6
           }
          ]
         }
        },
        {
         "name": "_deepnote_index_column",
         "dtype": "int64"
        }
       ],
       "rows": [
        {
         "A": "A0",
         "B": "B0",
         "C": "C0",
         "D": "D0",
         "_deepnote_index_column": 0
        },
        {
         "A": "A1",
         "B": "B1",
         "C": "C1",
         "D": "D1",
         "_deepnote_index_column": 1
        },
        {
         "A": "A2",
         "B": "B2",
         "C": "C2",
         "D": "D2",
         "_deepnote_index_column": 2
        },
        {
         "A": "A3",
         "B": "B3",
         "C": "C3",
         "D": "D3",
         "_deepnote_index_column": 3
        },
        {
         "A": "A4",
         "B": "B4",
         "C": "C4",
         "D": "D4",
         "_deepnote_index_column": 0
        },
        {
         "A": "A5",
         "B": "B5",
         "C": "C5",
         "D": "D5",
         "_deepnote_index_column": 1
        },
        {
         "A": "A6",
         "B": "B6",
         "C": "C6",
         "D": "D6",
         "_deepnote_index_column": 2
        },
        {
         "A": "A7",
         "B": "B7",
         "C": "C7",
         "D": "D7",
         "_deepnote_index_column": 3
        }
       ]
      },
      "text/plain": "    A   B   C   D\n0  A0  B0  C0  D0\n1  A1  B1  C1  D1\n2  A2  B2  C2  D2\n3  A3  B3  C3  D3\n0  A4  B4  C4  D4\n1  A5  B5  C5  D5\n2  A6  B6  C6  D6\n3  A7  B7  C7  D7",
      "text/html": "<div>\n<style scoped>\n    .dataframe tbody tr th:only-of-type {\n        vertical-align: middle;\n    }\n\n    .dataframe tbody tr th {\n        vertical-align: top;\n    }\n\n    .dataframe thead th {\n        text-align: right;\n    }\n</style>\n<table border=\"1\" class=\"dataframe\">\n  <thead>\n    <tr style=\"text-align: right;\">\n      <th></th>\n      <th>A</th>\n      <th>B</th>\n      <th>C</th>\n      <th>D</th>\n    </tr>\n  </thead>\n  <tbody>\n    <tr>\n      <th>0</th>\n      <td>A0</td>\n      <td>B0</td>\n      <td>C0</td>\n      <td>D0</td>\n    </tr>\n    <tr>\n      <th>1</th>\n      <td>A1</td>\n      <td>B1</td>\n      <td>C1</td>\n      <td>D1</td>\n    </tr>\n    <tr>\n      <th>2</th>\n      <td>A2</td>\n      <td>B2</td>\n      <td>C2</td>\n      <td>D2</td>\n    </tr>\n    <tr>\n      <th>3</th>\n      <td>A3</td>\n      <td>B3</td>\n      <td>C3</td>\n      <td>D3</td>\n    </tr>\n    <tr>\n      <th>0</th>\n      <td>A4</td>\n      <td>B4</td>\n      <td>C4</td>\n      <td>D4</td>\n    </tr>\n    <tr>\n      <th>1</th>\n      <td>A5</td>\n      <td>B5</td>\n      <td>C5</td>\n      <td>D5</td>\n    </tr>\n    <tr>\n      <th>2</th>\n      <td>A6</td>\n      <td>B6</td>\n      <td>C6</td>\n      <td>D6</td>\n    </tr>\n    <tr>\n      <th>3</th>\n      <td>A7</td>\n      <td>B7</td>\n      <td>C7</td>\n      <td>D7</td>\n    </tr>\n  </tbody>\n</table>\n</div>"
     },
     "metadata": {}
    }
   ],
   "execution_count": null
  },
  {
   "cell_type": "code",
   "metadata": {
    "cell_id": "0e683641098d4641af039880535084d4",
    "tags": [],
    "deepnote_to_be_reexecuted": false,
    "source_hash": "1f45de5e",
    "execution_start": 1654527565952,
    "execution_millis": 64,
    "deepnote_cell_type": "code",
    "deepnote_cell_height": 518
   },
   "source": "pd.concat([df1, df2], ignore_index=True)",
   "outputs": [
    {
     "output_type": "execute_result",
     "execution_count": 4,
     "data": {
      "application/vnd.deepnote.dataframe.v3+json": {
       "column_count": 4,
       "row_count": 8,
       "columns": [
        {
         "name": "A",
         "dtype": "object",
         "stats": {
          "unique_count": 8,
          "nan_count": 0,
          "categories": [
           {
            "name": "A0",
            "count": 1
           },
           {
            "name": "A1",
            "count": 1
           },
           {
            "name": "6 others",
            "count": 6
           }
          ]
         }
        },
        {
         "name": "B",
         "dtype": "object",
         "stats": {
          "unique_count": 8,
          "nan_count": 0,
          "categories": [
           {
            "name": "B0",
            "count": 1
           },
           {
            "name": "B1",
            "count": 1
           },
           {
            "name": "6 others",
            "count": 6
           }
          ]
         }
        },
        {
         "name": "C",
         "dtype": "object",
         "stats": {
          "unique_count": 8,
          "nan_count": 0,
          "categories": [
           {
            "name": "C0",
            "count": 1
           },
           {
            "name": "C1",
            "count": 1
           },
           {
            "name": "6 others",
            "count": 6
           }
          ]
         }
        },
        {
         "name": "D",
         "dtype": "object",
         "stats": {
          "unique_count": 8,
          "nan_count": 0,
          "categories": [
           {
            "name": "D0",
            "count": 1
           },
           {
            "name": "D1",
            "count": 1
           },
           {
            "name": "6 others",
            "count": 6
           }
          ]
         }
        },
        {
         "name": "_deepnote_index_column",
         "dtype": "int64"
        }
       ],
       "rows": [
        {
         "A": "A0",
         "B": "B0",
         "C": "C0",
         "D": "D0",
         "_deepnote_index_column": 0
        },
        {
         "A": "A1",
         "B": "B1",
         "C": "C1",
         "D": "D1",
         "_deepnote_index_column": 1
        },
        {
         "A": "A2",
         "B": "B2",
         "C": "C2",
         "D": "D2",
         "_deepnote_index_column": 2
        },
        {
         "A": "A3",
         "B": "B3",
         "C": "C3",
         "D": "D3",
         "_deepnote_index_column": 3
        },
        {
         "A": "A4",
         "B": "B4",
         "C": "C4",
         "D": "D4",
         "_deepnote_index_column": 4
        },
        {
         "A": "A5",
         "B": "B5",
         "C": "C5",
         "D": "D5",
         "_deepnote_index_column": 5
        },
        {
         "A": "A6",
         "B": "B6",
         "C": "C6",
         "D": "D6",
         "_deepnote_index_column": 6
        },
        {
         "A": "A7",
         "B": "B7",
         "C": "C7",
         "D": "D7",
         "_deepnote_index_column": 7
        }
       ]
      },
      "text/plain": "    A   B   C   D\n0  A0  B0  C0  D0\n1  A1  B1  C1  D1\n2  A2  B2  C2  D2\n3  A3  B3  C3  D3\n4  A4  B4  C4  D4\n5  A5  B5  C5  D5\n6  A6  B6  C6  D6\n7  A7  B7  C7  D7",
      "text/html": "<div>\n<style scoped>\n    .dataframe tbody tr th:only-of-type {\n        vertical-align: middle;\n    }\n\n    .dataframe tbody tr th {\n        vertical-align: top;\n    }\n\n    .dataframe thead th {\n        text-align: right;\n    }\n</style>\n<table border=\"1\" class=\"dataframe\">\n  <thead>\n    <tr style=\"text-align: right;\">\n      <th></th>\n      <th>A</th>\n      <th>B</th>\n      <th>C</th>\n      <th>D</th>\n    </tr>\n  </thead>\n  <tbody>\n    <tr>\n      <th>0</th>\n      <td>A0</td>\n      <td>B0</td>\n      <td>C0</td>\n      <td>D0</td>\n    </tr>\n    <tr>\n      <th>1</th>\n      <td>A1</td>\n      <td>B1</td>\n      <td>C1</td>\n      <td>D1</td>\n    </tr>\n    <tr>\n      <th>2</th>\n      <td>A2</td>\n      <td>B2</td>\n      <td>C2</td>\n      <td>D2</td>\n    </tr>\n    <tr>\n      <th>3</th>\n      <td>A3</td>\n      <td>B3</td>\n      <td>C3</td>\n      <td>D3</td>\n    </tr>\n    <tr>\n      <th>4</th>\n      <td>A4</td>\n      <td>B4</td>\n      <td>C4</td>\n      <td>D4</td>\n    </tr>\n    <tr>\n      <th>5</th>\n      <td>A5</td>\n      <td>B5</td>\n      <td>C5</td>\n      <td>D5</td>\n    </tr>\n    <tr>\n      <th>6</th>\n      <td>A6</td>\n      <td>B6</td>\n      <td>C6</td>\n      <td>D6</td>\n    </tr>\n    <tr>\n      <th>7</th>\n      <td>A7</td>\n      <td>B7</td>\n      <td>C7</td>\n      <td>D7</td>\n    </tr>\n  </tbody>\n</table>\n</div>"
     },
     "metadata": {}
    }
   ],
   "execution_count": null
  },
  {
   "cell_type": "code",
   "metadata": {
    "cell_id": "59fa2e6298c9425b99acf08c399de1f1",
    "tags": [],
    "deepnote_to_be_reexecuted": false,
    "source_hash": "b0573096",
    "execution_start": 1654527565992,
    "execution_millis": 574,
    "deepnote_cell_type": "code",
    "deepnote_cell_height": 354
   },
   "source": "pd.concat([df1, df2], axis=1)",
   "outputs": [
    {
     "output_type": "execute_result",
     "execution_count": 5,
     "data": {
      "application/vnd.deepnote.dataframe.v3+json": {
       "column_count": 8,
       "row_count": 4,
       "columns": [
        {
         "name": "A",
         "dtype": "object",
         "stats": {
          "unique_count": 4,
          "nan_count": 0,
          "categories": [
           {
            "name": "A0",
            "count": 1
           },
           {
            "name": "A1",
            "count": 1
           },
           {
            "name": "2 others",
            "count": 2
           }
          ]
         }
        },
        {
         "name": "B",
         "dtype": "object",
         "stats": {
          "unique_count": 4,
          "nan_count": 0,
          "categories": [
           {
            "name": "B0",
            "count": 1
           },
           {
            "name": "B1",
            "count": 1
           },
           {
            "name": "2 others",
            "count": 2
           }
          ]
         }
        },
        {
         "name": "C",
         "dtype": "object",
         "stats": {
          "unique_count": 4,
          "nan_count": 0,
          "categories": [
           {
            "name": "C0",
            "count": 1
           },
           {
            "name": "C1",
            "count": 1
           },
           {
            "name": "2 others",
            "count": 2
           }
          ]
         }
        },
        {
         "name": "D",
         "dtype": "object",
         "stats": {
          "unique_count": 4,
          "nan_count": 0,
          "categories": [
           {
            "name": "D0",
            "count": 1
           },
           {
            "name": "D1",
            "count": 1
           },
           {
            "name": "2 others",
            "count": 2
           }
          ]
         }
        },
        {
         "name": "A.1",
         "dtype": "object",
         "stats": {
          "unique_count": 4,
          "nan_count": 0,
          "categories": [
           {
            "name": "A4",
            "count": 1
           },
           {
            "name": "A5",
            "count": 1
           },
           {
            "name": "2 others",
            "count": 2
           }
          ]
         }
        },
        {
         "name": "B.1",
         "dtype": "object",
         "stats": {
          "unique_count": 4,
          "nan_count": 0,
          "categories": [
           {
            "name": "B4",
            "count": 1
           },
           {
            "name": "B5",
            "count": 1
           },
           {
            "name": "2 others",
            "count": 2
           }
          ]
         }
        },
        {
         "name": "C.1",
         "dtype": "object",
         "stats": {
          "unique_count": 4,
          "nan_count": 0,
          "categories": [
           {
            "name": "C4",
            "count": 1
           },
           {
            "name": "C5",
            "count": 1
           },
           {
            "name": "2 others",
            "count": 2
           }
          ]
         }
        },
        {
         "name": "D.1",
         "dtype": "object",
         "stats": {
          "unique_count": 4,
          "nan_count": 0,
          "categories": [
           {
            "name": "D4",
            "count": 1
           },
           {
            "name": "D5",
            "count": 1
           },
           {
            "name": "2 others",
            "count": 2
           }
          ]
         }
        },
        {
         "name": "_deepnote_index_column",
         "dtype": "int64"
        }
       ],
       "rows": [
        {
         "A": "A0",
         "B": "B0",
         "C": "C0",
         "D": "D0",
         "A.1": "A4",
         "B.1": "B4",
         "C.1": "C4",
         "D.1": "D4",
         "_deepnote_index_column": 0
        },
        {
         "A": "A1",
         "B": "B1",
         "C": "C1",
         "D": "D1",
         "A.1": "A5",
         "B.1": "B5",
         "C.1": "C5",
         "D.1": "D5",
         "_deepnote_index_column": 1
        },
        {
         "A": "A2",
         "B": "B2",
         "C": "C2",
         "D": "D2",
         "A.1": "A6",
         "B.1": "B6",
         "C.1": "C6",
         "D.1": "D6",
         "_deepnote_index_column": 2
        },
        {
         "A": "A3",
         "B": "B3",
         "C": "C3",
         "D": "D3",
         "A.1": "A7",
         "B.1": "B7",
         "C.1": "C7",
         "D.1": "D7",
         "_deepnote_index_column": 3
        }
       ]
      },
      "text/plain": "    A   B   C   D   A   B   C   D\n0  A0  B0  C0  D0  A4  B4  C4  D4\n1  A1  B1  C1  D1  A5  B5  C5  D5\n2  A2  B2  C2  D2  A6  B6  C6  D6\n3  A3  B3  C3  D3  A7  B7  C7  D7",
      "text/html": "<div>\n<style scoped>\n    .dataframe tbody tr th:only-of-type {\n        vertical-align: middle;\n    }\n\n    .dataframe tbody tr th {\n        vertical-align: top;\n    }\n\n    .dataframe thead th {\n        text-align: right;\n    }\n</style>\n<table border=\"1\" class=\"dataframe\">\n  <thead>\n    <tr style=\"text-align: right;\">\n      <th></th>\n      <th>A</th>\n      <th>B</th>\n      <th>C</th>\n      <th>D</th>\n      <th>A</th>\n      <th>B</th>\n      <th>C</th>\n      <th>D</th>\n    </tr>\n  </thead>\n  <tbody>\n    <tr>\n      <th>0</th>\n      <td>A0</td>\n      <td>B0</td>\n      <td>C0</td>\n      <td>D0</td>\n      <td>A4</td>\n      <td>B4</td>\n      <td>C4</td>\n      <td>D4</td>\n    </tr>\n    <tr>\n      <th>1</th>\n      <td>A1</td>\n      <td>B1</td>\n      <td>C1</td>\n      <td>D1</td>\n      <td>A5</td>\n      <td>B5</td>\n      <td>C5</td>\n      <td>D5</td>\n    </tr>\n    <tr>\n      <th>2</th>\n      <td>A2</td>\n      <td>B2</td>\n      <td>C2</td>\n      <td>D2</td>\n      <td>A6</td>\n      <td>B6</td>\n      <td>C6</td>\n      <td>D6</td>\n    </tr>\n    <tr>\n      <th>3</th>\n      <td>A3</td>\n      <td>B3</td>\n      <td>C3</td>\n      <td>D3</td>\n      <td>A7</td>\n      <td>B7</td>\n      <td>C7</td>\n      <td>D7</td>\n    </tr>\n  </tbody>\n</table>\n</div>"
     },
     "metadata": {}
    }
   ],
   "execution_count": null
  },
  {
   "cell_type": "markdown",
   "source": "# Merge",
   "metadata": {
    "cell_id": "dec8faff2e4f408997453d472831440a",
    "tags": [],
    "deepnote_cell_type": "markdown",
    "deepnote_cell_height": 82
   }
  },
  {
   "cell_type": "code",
   "metadata": {
    "cell_id": "b0b8bf4b27a6431eb14dae776d13c412",
    "tags": [],
    "deepnote_to_be_reexecuted": false,
    "source_hash": "97a174e4",
    "execution_start": 1654527566014,
    "execution_millis": 1,
    "deepnote_cell_type": "code",
    "deepnote_cell_height": 261
   },
   "source": "izq = pd.DataFrame({\n    'key': ['k0', 'k1', 'k2', 'k3'],\n    'A': ['A0', 'A1', 'A2', 'A3'],\n    'B': ['B0', 'B1', 'B2', 'B3'],\n})\n\nder = pd.DataFrame({\n    'key': ['k0', 'k1', 'k2', 'k3'],\n    'C': ['C0', 'C1', 'C2', 'C3'],\n    'D': ['D0', 'D1', 'D2', 'D3'],\n})",
   "outputs": [],
   "execution_count": null
  },
  {
   "cell_type": "code",
   "metadata": {
    "cell_id": "aee08a3a8a8a46cba4e13035ab412852",
    "tags": [],
    "deepnote_to_be_reexecuted": false,
    "source_hash": "2d16f4c",
    "execution_start": 1654527566022,
    "execution_millis": 559,
    "deepnote_cell_type": "code",
    "deepnote_cell_height": 354
   },
   "source": "izq",
   "outputs": [
    {
     "output_type": "execute_result",
     "execution_count": 7,
     "data": {
      "application/vnd.deepnote.dataframe.v3+json": {
       "column_count": 3,
       "row_count": 4,
       "columns": [
        {
         "name": "key",
         "dtype": "object",
         "stats": {
          "unique_count": 4,
          "nan_count": 0,
          "categories": [
           {
            "name": "k0",
            "count": 1
           },
           {
            "name": "k1",
            "count": 1
           },
           {
            "name": "2 others",
            "count": 2
           }
          ]
         }
        },
        {
         "name": "A",
         "dtype": "object",
         "stats": {
          "unique_count": 4,
          "nan_count": 0,
          "categories": [
           {
            "name": "A0",
            "count": 1
           },
           {
            "name": "A1",
            "count": 1
           },
           {
            "name": "2 others",
            "count": 2
           }
          ]
         }
        },
        {
         "name": "B",
         "dtype": "object",
         "stats": {
          "unique_count": 4,
          "nan_count": 0,
          "categories": [
           {
            "name": "B0",
            "count": 1
           },
           {
            "name": "B1",
            "count": 1
           },
           {
            "name": "2 others",
            "count": 2
           }
          ]
         }
        },
        {
         "name": "_deepnote_index_column",
         "dtype": "int64"
        }
       ],
       "rows": [
        {
         "key": "k0",
         "A": "A0",
         "B": "B0",
         "_deepnote_index_column": 0
        },
        {
         "key": "k1",
         "A": "A1",
         "B": "B1",
         "_deepnote_index_column": 1
        },
        {
         "key": "k2",
         "A": "A2",
         "B": "B2",
         "_deepnote_index_column": 2
        },
        {
         "key": "k3",
         "A": "A3",
         "B": "B3",
         "_deepnote_index_column": 3
        }
       ]
      },
      "text/plain": "  key   A   B\n0  k0  A0  B0\n1  k1  A1  B1\n2  k2  A2  B2\n3  k3  A3  B3",
      "text/html": "<div>\n<style scoped>\n    .dataframe tbody tr th:only-of-type {\n        vertical-align: middle;\n    }\n\n    .dataframe tbody tr th {\n        vertical-align: top;\n    }\n\n    .dataframe thead th {\n        text-align: right;\n    }\n</style>\n<table border=\"1\" class=\"dataframe\">\n  <thead>\n    <tr style=\"text-align: right;\">\n      <th></th>\n      <th>key</th>\n      <th>A</th>\n      <th>B</th>\n    </tr>\n  </thead>\n  <tbody>\n    <tr>\n      <th>0</th>\n      <td>k0</td>\n      <td>A0</td>\n      <td>B0</td>\n    </tr>\n    <tr>\n      <th>1</th>\n      <td>k1</td>\n      <td>A1</td>\n      <td>B1</td>\n    </tr>\n    <tr>\n      <th>2</th>\n      <td>k2</td>\n      <td>A2</td>\n      <td>B2</td>\n    </tr>\n    <tr>\n      <th>3</th>\n      <td>k3</td>\n      <td>A3</td>\n      <td>B3</td>\n    </tr>\n  </tbody>\n</table>\n</div>"
     },
     "metadata": {}
    }
   ],
   "execution_count": null
  },
  {
   "cell_type": "code",
   "metadata": {
    "cell_id": "7dce1d04514b4227b566011187359653",
    "tags": [],
    "deepnote_to_be_reexecuted": false,
    "source_hash": "13b5a8c6",
    "execution_start": 1654527566033,
    "execution_millis": 565,
    "deepnote_cell_type": "code",
    "deepnote_cell_height": 354
   },
   "source": "der",
   "outputs": [
    {
     "output_type": "execute_result",
     "execution_count": 8,
     "data": {
      "application/vnd.deepnote.dataframe.v3+json": {
       "column_count": 3,
       "row_count": 4,
       "columns": [
        {
         "name": "key",
         "dtype": "object",
         "stats": {
          "unique_count": 4,
          "nan_count": 0,
          "categories": [
           {
            "name": "k0",
            "count": 1
           },
           {
            "name": "k1",
            "count": 1
           },
           {
            "name": "2 others",
            "count": 2
           }
          ]
         }
        },
        {
         "name": "C",
         "dtype": "object",
         "stats": {
          "unique_count": 4,
          "nan_count": 0,
          "categories": [
           {
            "name": "C0",
            "count": 1
           },
           {
            "name": "C1",
            "count": 1
           },
           {
            "name": "2 others",
            "count": 2
           }
          ]
         }
        },
        {
         "name": "D",
         "dtype": "object",
         "stats": {
          "unique_count": 4,
          "nan_count": 0,
          "categories": [
           {
            "name": "D0",
            "count": 1
           },
           {
            "name": "D1",
            "count": 1
           },
           {
            "name": "2 others",
            "count": 2
           }
          ]
         }
        },
        {
         "name": "_deepnote_index_column",
         "dtype": "int64"
        }
       ],
       "rows": [
        {
         "key": "k0",
         "C": "C0",
         "D": "D0",
         "_deepnote_index_column": 0
        },
        {
         "key": "k1",
         "C": "C1",
         "D": "D1",
         "_deepnote_index_column": 1
        },
        {
         "key": "k2",
         "C": "C2",
         "D": "D2",
         "_deepnote_index_column": 2
        },
        {
         "key": "k3",
         "C": "C3",
         "D": "D3",
         "_deepnote_index_column": 3
        }
       ]
      },
      "text/plain": "  key   C   D\n0  k0  C0  D0\n1  k1  C1  D1\n2  k2  C2  D2\n3  k3  C3  D3",
      "text/html": "<div>\n<style scoped>\n    .dataframe tbody tr th:only-of-type {\n        vertical-align: middle;\n    }\n\n    .dataframe tbody tr th {\n        vertical-align: top;\n    }\n\n    .dataframe thead th {\n        text-align: right;\n    }\n</style>\n<table border=\"1\" class=\"dataframe\">\n  <thead>\n    <tr style=\"text-align: right;\">\n      <th></th>\n      <th>key</th>\n      <th>C</th>\n      <th>D</th>\n    </tr>\n  </thead>\n  <tbody>\n    <tr>\n      <th>0</th>\n      <td>k0</td>\n      <td>C0</td>\n      <td>D0</td>\n    </tr>\n    <tr>\n      <th>1</th>\n      <td>k1</td>\n      <td>C1</td>\n      <td>D1</td>\n    </tr>\n    <tr>\n      <th>2</th>\n      <td>k2</td>\n      <td>C2</td>\n      <td>D2</td>\n    </tr>\n    <tr>\n      <th>3</th>\n      <td>k3</td>\n      <td>C3</td>\n      <td>D3</td>\n    </tr>\n  </tbody>\n</table>\n</div>"
     },
     "metadata": {}
    }
   ],
   "execution_count": null
  },
  {
   "cell_type": "code",
   "metadata": {
    "cell_id": "c391104e94c042b5bf61ee1a21402a5e",
    "tags": [],
    "deepnote_to_be_reexecuted": false,
    "source_hash": "e1ebb1ac",
    "execution_start": 1654527566112,
    "execution_millis": 494,
    "deepnote_cell_type": "code",
    "deepnote_cell_height": 354
   },
   "source": "izq.merge(der, on='key')",
   "outputs": [
    {
     "output_type": "execute_result",
     "execution_count": 9,
     "data": {
      "application/vnd.deepnote.dataframe.v3+json": {
       "column_count": 5,
       "row_count": 4,
       "columns": [
        {
         "name": "key",
         "dtype": "object",
         "stats": {
          "unique_count": 4,
          "nan_count": 0,
          "categories": [
           {
            "name": "k0",
            "count": 1
           },
           {
            "name": "k1",
            "count": 1
           },
           {
            "name": "2 others",
            "count": 2
           }
          ]
         }
        },
        {
         "name": "A",
         "dtype": "object",
         "stats": {
          "unique_count": 4,
          "nan_count": 0,
          "categories": [
           {
            "name": "A0",
            "count": 1
           },
           {
            "name": "A1",
            "count": 1
           },
           {
            "name": "2 others",
            "count": 2
           }
          ]
         }
        },
        {
         "name": "B",
         "dtype": "object",
         "stats": {
          "unique_count": 4,
          "nan_count": 0,
          "categories": [
           {
            "name": "B0",
            "count": 1
           },
           {
            "name": "B1",
            "count": 1
           },
           {
            "name": "2 others",
            "count": 2
           }
          ]
         }
        },
        {
         "name": "C",
         "dtype": "object",
         "stats": {
          "unique_count": 4,
          "nan_count": 0,
          "categories": [
           {
            "name": "C0",
            "count": 1
           },
           {
            "name": "C1",
            "count": 1
           },
           {
            "name": "2 others",
            "count": 2
           }
          ]
         }
        },
        {
         "name": "D",
         "dtype": "object",
         "stats": {
          "unique_count": 4,
          "nan_count": 0,
          "categories": [
           {
            "name": "D0",
            "count": 1
           },
           {
            "name": "D1",
            "count": 1
           },
           {
            "name": "2 others",
            "count": 2
           }
          ]
         }
        },
        {
         "name": "_deepnote_index_column",
         "dtype": "int64"
        }
       ],
       "rows": [
        {
         "key": "k0",
         "A": "A0",
         "B": "B0",
         "C": "C0",
         "D": "D0",
         "_deepnote_index_column": 0
        },
        {
         "key": "k1",
         "A": "A1",
         "B": "B1",
         "C": "C1",
         "D": "D1",
         "_deepnote_index_column": 1
        },
        {
         "key": "k2",
         "A": "A2",
         "B": "B2",
         "C": "C2",
         "D": "D2",
         "_deepnote_index_column": 2
        },
        {
         "key": "k3",
         "A": "A3",
         "B": "B3",
         "C": "C3",
         "D": "D3",
         "_deepnote_index_column": 3
        }
       ]
      },
      "text/plain": "  key   A   B   C   D\n0  k0  A0  B0  C0  D0\n1  k1  A1  B1  C1  D1\n2  k2  A2  B2  C2  D2\n3  k3  A3  B3  C3  D3",
      "text/html": "<div>\n<style scoped>\n    .dataframe tbody tr th:only-of-type {\n        vertical-align: middle;\n    }\n\n    .dataframe tbody tr th {\n        vertical-align: top;\n    }\n\n    .dataframe thead th {\n        text-align: right;\n    }\n</style>\n<table border=\"1\" class=\"dataframe\">\n  <thead>\n    <tr style=\"text-align: right;\">\n      <th></th>\n      <th>key</th>\n      <th>A</th>\n      <th>B</th>\n      <th>C</th>\n      <th>D</th>\n    </tr>\n  </thead>\n  <tbody>\n    <tr>\n      <th>0</th>\n      <td>k0</td>\n      <td>A0</td>\n      <td>B0</td>\n      <td>C0</td>\n      <td>D0</td>\n    </tr>\n    <tr>\n      <th>1</th>\n      <td>k1</td>\n      <td>A1</td>\n      <td>B1</td>\n      <td>C1</td>\n      <td>D1</td>\n    </tr>\n    <tr>\n      <th>2</th>\n      <td>k2</td>\n      <td>A2</td>\n      <td>B2</td>\n      <td>C2</td>\n      <td>D2</td>\n    </tr>\n    <tr>\n      <th>3</th>\n      <td>k3</td>\n      <td>A3</td>\n      <td>B3</td>\n      <td>C3</td>\n      <td>D3</td>\n    </tr>\n  </tbody>\n</table>\n</div>"
     },
     "metadata": {}
    }
   ],
   "execution_count": null
  },
  {
   "cell_type": "code",
   "metadata": {
    "cell_id": "b862d36a55b6462aa99981d7e3b3262b",
    "tags": [],
    "deepnote_to_be_reexecuted": false,
    "source_hash": "1a926142",
    "execution_start": 1654527635578,
    "execution_millis": 1,
    "deepnote_cell_type": "code",
    "deepnote_cell_height": 189
   },
   "source": "izq = pd.DataFrame({'key' : ['k0', 'k1', 'k2','k3'],\n 'A' : ['A0', 'A1', 'A2','A3'],\n'B': ['B0', 'B1', 'B2','B3']})\n\nder = pd.DataFrame({'key_2' : ['k0', 'k1', 'k2','k3'],\n 'C' : ['C0', 'C1', 'C2','C3'],\n'D': ['D0', 'D1', 'D2','D3']})",
   "outputs": [],
   "execution_count": null
  },
  {
   "cell_type": "code",
   "metadata": {
    "cell_id": "8651ae97c45b49bb9936285c6e458795",
    "tags": [],
    "deepnote_to_be_reexecuted": false,
    "source_hash": "796119a0",
    "execution_start": 1654527716401,
    "execution_millis": 9,
    "deepnote_cell_type": "code",
    "deepnote_cell_height": 354
   },
   "source": "izq.merge(der, left_on='key', right_on='key_2')",
   "outputs": [
    {
     "output_type": "execute_result",
     "execution_count": 11,
     "data": {
      "application/vnd.deepnote.dataframe.v3+json": {
       "column_count": 6,
       "row_count": 4,
       "columns": [
        {
         "name": "key",
         "dtype": "object",
         "stats": {
          "unique_count": 4,
          "nan_count": 0,
          "categories": [
           {
            "name": "k0",
            "count": 1
           },
           {
            "name": "k1",
            "count": 1
           },
           {
            "name": "2 others",
            "count": 2
           }
          ]
         }
        },
        {
         "name": "A",
         "dtype": "object",
         "stats": {
          "unique_count": 4,
          "nan_count": 0,
          "categories": [
           {
            "name": "A0",
            "count": 1
           },
           {
            "name": "A1",
            "count": 1
           },
           {
            "name": "2 others",
            "count": 2
           }
          ]
         }
        },
        {
         "name": "B",
         "dtype": "object",
         "stats": {
          "unique_count": 4,
          "nan_count": 0,
          "categories": [
           {
            "name": "B0",
            "count": 1
           },
           {
            "name": "B1",
            "count": 1
           },
           {
            "name": "2 others",
            "count": 2
           }
          ]
         }
        },
        {
         "name": "key_2",
         "dtype": "object",
         "stats": {
          "unique_count": 4,
          "nan_count": 0,
          "categories": [
           {
            "name": "k0",
            "count": 1
           },
           {
            "name": "k1",
            "count": 1
           },
           {
            "name": "2 others",
            "count": 2
           }
          ]
         }
        },
        {
         "name": "C",
         "dtype": "object",
         "stats": {
          "unique_count": 4,
          "nan_count": 0,
          "categories": [
           {
            "name": "C0",
            "count": 1
           },
           {
            "name": "C1",
            "count": 1
           },
           {
            "name": "2 others",
            "count": 2
           }
          ]
         }
        },
        {
         "name": "D",
         "dtype": "object",
         "stats": {
          "unique_count": 4,
          "nan_count": 0,
          "categories": [
           {
            "name": "D0",
            "count": 1
           },
           {
            "name": "D1",
            "count": 1
           },
           {
            "name": "2 others",
            "count": 2
           }
          ]
         }
        },
        {
         "name": "_deepnote_index_column",
         "dtype": "int64"
        }
       ],
       "rows": [
        {
         "key": "k0",
         "A": "A0",
         "B": "B0",
         "key_2": "k0",
         "C": "C0",
         "D": "D0",
         "_deepnote_index_column": 0
        },
        {
         "key": "k1",
         "A": "A1",
         "B": "B1",
         "key_2": "k1",
         "C": "C1",
         "D": "D1",
         "_deepnote_index_column": 1
        },
        {
         "key": "k2",
         "A": "A2",
         "B": "B2",
         "key_2": "k2",
         "C": "C2",
         "D": "D2",
         "_deepnote_index_column": 2
        },
        {
         "key": "k3",
         "A": "A3",
         "B": "B3",
         "key_2": "k3",
         "C": "C3",
         "D": "D3",
         "_deepnote_index_column": 3
        }
       ]
      },
      "text/plain": "  key   A   B key_2   C   D\n0  k0  A0  B0    k0  C0  D0\n1  k1  A1  B1    k1  C1  D1\n2  k2  A2  B2    k2  C2  D2\n3  k3  A3  B3    k3  C3  D3",
      "text/html": "<div>\n<style scoped>\n    .dataframe tbody tr th:only-of-type {\n        vertical-align: middle;\n    }\n\n    .dataframe tbody tr th {\n        vertical-align: top;\n    }\n\n    .dataframe thead th {\n        text-align: right;\n    }\n</style>\n<table border=\"1\" class=\"dataframe\">\n  <thead>\n    <tr style=\"text-align: right;\">\n      <th></th>\n      <th>key</th>\n      <th>A</th>\n      <th>B</th>\n      <th>key_2</th>\n      <th>C</th>\n      <th>D</th>\n    </tr>\n  </thead>\n  <tbody>\n    <tr>\n      <th>0</th>\n      <td>k0</td>\n      <td>A0</td>\n      <td>B0</td>\n      <td>k0</td>\n      <td>C0</td>\n      <td>D0</td>\n    </tr>\n    <tr>\n      <th>1</th>\n      <td>k1</td>\n      <td>A1</td>\n      <td>B1</td>\n      <td>k1</td>\n      <td>C1</td>\n      <td>D1</td>\n    </tr>\n    <tr>\n      <th>2</th>\n      <td>k2</td>\n      <td>A2</td>\n      <td>B2</td>\n      <td>k2</td>\n      <td>C2</td>\n      <td>D2</td>\n    </tr>\n    <tr>\n      <th>3</th>\n      <td>k3</td>\n      <td>A3</td>\n      <td>B3</td>\n      <td>k3</td>\n      <td>C3</td>\n      <td>D3</td>\n    </tr>\n  </tbody>\n</table>\n</div>"
     },
     "metadata": {}
    }
   ],
   "execution_count": null
  },
  {
   "cell_type": "code",
   "metadata": {
    "cell_id": "6f1014e445aa4ce6bfd21d4bdbb3712c",
    "tags": [],
    "deepnote_to_be_reexecuted": false,
    "source_hash": "c337e74b",
    "execution_start": 1654527770409,
    "execution_millis": 0,
    "deepnote_cell_type": "code",
    "deepnote_cell_height": 189
   },
   "source": "izq = pd.DataFrame({'key' : ['k0', 'k1', 'k2','k3'],\n 'A' : ['A0', 'A1', 'A2','A3'],\n'B': ['B0', 'B1', 'B2','B3']})\n\nder = pd.DataFrame({'key_2' : ['k0', 'k1', 'k2',np.nan],\n 'C' : ['C0', 'C1', 'C2','C3'],\n'D': ['D0', 'D1', 'D2','D3']})",
   "outputs": [],
   "execution_count": null
  },
  {
   "cell_type": "code",
   "metadata": {
    "cell_id": "6d05dcfb5e524fcaae61538619a2153a",
    "tags": [],
    "deepnote_to_be_reexecuted": false,
    "source_hash": "13b5a8c6",
    "execution_start": 1654527807022,
    "execution_millis": 3,
    "deepnote_cell_type": "code",
    "deepnote_cell_height": 354
   },
   "source": "der",
   "outputs": [
    {
     "output_type": "execute_result",
     "execution_count": 13,
     "data": {
      "application/vnd.deepnote.dataframe.v3+json": {
       "column_count": 3,
       "row_count": 4,
       "columns": [
        {
         "name": "key_2",
         "dtype": "object",
         "stats": {
          "unique_count": 3,
          "nan_count": 1,
          "categories": [
           {
            "name": "k0",
            "count": 1
           },
           {
            "name": "2 others",
            "count": 2
           },
           {
            "name": "Missing",
            "count": 1
           }
          ]
         }
        },
        {
         "name": "C",
         "dtype": "object",
         "stats": {
          "unique_count": 4,
          "nan_count": 0,
          "categories": [
           {
            "name": "C0",
            "count": 1
           },
           {
            "name": "C1",
            "count": 1
           },
           {
            "name": "2 others",
            "count": 2
           }
          ]
         }
        },
        {
         "name": "D",
         "dtype": "object",
         "stats": {
          "unique_count": 4,
          "nan_count": 0,
          "categories": [
           {
            "name": "D0",
            "count": 1
           },
           {
            "name": "D1",
            "count": 1
           },
           {
            "name": "2 others",
            "count": 2
           }
          ]
         }
        },
        {
         "name": "_deepnote_index_column",
         "dtype": "int64"
        }
       ],
       "rows": [
        {
         "key_2": "k0",
         "C": "C0",
         "D": "D0",
         "_deepnote_index_column": 0
        },
        {
         "key_2": "k1",
         "C": "C1",
         "D": "D1",
         "_deepnote_index_column": 1
        },
        {
         "key_2": "k2",
         "C": "C2",
         "D": "D2",
         "_deepnote_index_column": 2
        },
        {
         "key_2": "nan",
         "C": "C3",
         "D": "D3",
         "_deepnote_index_column": 3
        }
       ]
      },
      "text/plain": "  key_2   C   D\n0    k0  C0  D0\n1    k1  C1  D1\n2    k2  C2  D2\n3   NaN  C3  D3",
      "text/html": "<div>\n<style scoped>\n    .dataframe tbody tr th:only-of-type {\n        vertical-align: middle;\n    }\n\n    .dataframe tbody tr th {\n        vertical-align: top;\n    }\n\n    .dataframe thead th {\n        text-align: right;\n    }\n</style>\n<table border=\"1\" class=\"dataframe\">\n  <thead>\n    <tr style=\"text-align: right;\">\n      <th></th>\n      <th>key_2</th>\n      <th>C</th>\n      <th>D</th>\n    </tr>\n  </thead>\n  <tbody>\n    <tr>\n      <th>0</th>\n      <td>k0</td>\n      <td>C0</td>\n      <td>D0</td>\n    </tr>\n    <tr>\n      <th>1</th>\n      <td>k1</td>\n      <td>C1</td>\n      <td>D1</td>\n    </tr>\n    <tr>\n      <th>2</th>\n      <td>k2</td>\n      <td>C2</td>\n      <td>D2</td>\n    </tr>\n    <tr>\n      <th>3</th>\n      <td>NaN</td>\n      <td>C3</td>\n      <td>D3</td>\n    </tr>\n  </tbody>\n</table>\n</div>"
     },
     "metadata": {}
    }
   ],
   "execution_count": null
  },
  {
   "cell_type": "code",
   "metadata": {
    "cell_id": "9823ec618b074cf8b0d1c3d3c8e892f7",
    "tags": [],
    "deepnote_to_be_reexecuted": false,
    "source_hash": "796119a0",
    "execution_start": 1654527850033,
    "execution_millis": 37,
    "deepnote_cell_type": "code",
    "deepnote_cell_height": 313
   },
   "source": "izq.merge(der, left_on='key', right_on='key_2')",
   "outputs": [
    {
     "output_type": "execute_result",
     "execution_count": 14,
     "data": {
      "application/vnd.deepnote.dataframe.v3+json": {
       "column_count": 6,
       "row_count": 3,
       "columns": [
        {
         "name": "key",
         "dtype": "object",
         "stats": {
          "unique_count": 3,
          "nan_count": 0,
          "categories": [
           {
            "name": "k0",
            "count": 1
           },
           {
            "name": "k1",
            "count": 1
           },
           {
            "name": "k2",
            "count": 1
           }
          ]
         }
        },
        {
         "name": "A",
         "dtype": "object",
         "stats": {
          "unique_count": 3,
          "nan_count": 0,
          "categories": [
           {
            "name": "A0",
            "count": 1
           },
           {
            "name": "A1",
            "count": 1
           },
           {
            "name": "A2",
            "count": 1
           }
          ]
         }
        },
        {
         "name": "B",
         "dtype": "object",
         "stats": {
          "unique_count": 3,
          "nan_count": 0,
          "categories": [
           {
            "name": "B0",
            "count": 1
           },
           {
            "name": "B1",
            "count": 1
           },
           {
            "name": "B2",
            "count": 1
           }
          ]
         }
        },
        {
         "name": "key_2",
         "dtype": "object",
         "stats": {
          "unique_count": 3,
          "nan_count": 0,
          "categories": [
           {
            "name": "k0",
            "count": 1
           },
           {
            "name": "k1",
            "count": 1
           },
           {
            "name": "k2",
            "count": 1
           }
          ]
         }
        },
        {
         "name": "C",
         "dtype": "object",
         "stats": {
          "unique_count": 3,
          "nan_count": 0,
          "categories": [
           {
            "name": "C0",
            "count": 1
           },
           {
            "name": "C1",
            "count": 1
           },
           {
            "name": "C2",
            "count": 1
           }
          ]
         }
        },
        {
         "name": "D",
         "dtype": "object",
         "stats": {
          "unique_count": 3,
          "nan_count": 0,
          "categories": [
           {
            "name": "D0",
            "count": 1
           },
           {
            "name": "D1",
            "count": 1
           },
           {
            "name": "D2",
            "count": 1
           }
          ]
         }
        },
        {
         "name": "_deepnote_index_column",
         "dtype": "int64"
        }
       ],
       "rows": [
        {
         "key": "k0",
         "A": "A0",
         "B": "B0",
         "key_2": "k0",
         "C": "C0",
         "D": "D0",
         "_deepnote_index_column": 0
        },
        {
         "key": "k1",
         "A": "A1",
         "B": "B1",
         "key_2": "k1",
         "C": "C1",
         "D": "D1",
         "_deepnote_index_column": 1
        },
        {
         "key": "k2",
         "A": "A2",
         "B": "B2",
         "key_2": "k2",
         "C": "C2",
         "D": "D2",
         "_deepnote_index_column": 2
        }
       ]
      },
      "text/plain": "  key   A   B key_2   C   D\n0  k0  A0  B0    k0  C0  D0\n1  k1  A1  B1    k1  C1  D1\n2  k2  A2  B2    k2  C2  D2",
      "text/html": "<div>\n<style scoped>\n    .dataframe tbody tr th:only-of-type {\n        vertical-align: middle;\n    }\n\n    .dataframe tbody tr th {\n        vertical-align: top;\n    }\n\n    .dataframe thead th {\n        text-align: right;\n    }\n</style>\n<table border=\"1\" class=\"dataframe\">\n  <thead>\n    <tr style=\"text-align: right;\">\n      <th></th>\n      <th>key</th>\n      <th>A</th>\n      <th>B</th>\n      <th>key_2</th>\n      <th>C</th>\n      <th>D</th>\n    </tr>\n  </thead>\n  <tbody>\n    <tr>\n      <th>0</th>\n      <td>k0</td>\n      <td>A0</td>\n      <td>B0</td>\n      <td>k0</td>\n      <td>C0</td>\n      <td>D0</td>\n    </tr>\n    <tr>\n      <th>1</th>\n      <td>k1</td>\n      <td>A1</td>\n      <td>B1</td>\n      <td>k1</td>\n      <td>C1</td>\n      <td>D1</td>\n    </tr>\n    <tr>\n      <th>2</th>\n      <td>k2</td>\n      <td>A2</td>\n      <td>B2</td>\n      <td>k2</td>\n      <td>C2</td>\n      <td>D2</td>\n    </tr>\n  </tbody>\n</table>\n</div>"
     },
     "metadata": {}
    }
   ],
   "execution_count": null
  },
  {
   "cell_type": "code",
   "metadata": {
    "cell_id": "d701966885cc4c6fa9bbdaeef5ceaff1",
    "tags": [],
    "deepnote_to_be_reexecuted": false,
    "source_hash": "61f27d4c",
    "execution_start": 1654529152649,
    "execution_millis": 23,
    "deepnote_cell_type": "code",
    "deepnote_cell_height": 354
   },
   "source": "izq.merge(der, left_on='key', right_on='key_2', how='left')",
   "outputs": [
    {
     "output_type": "execute_result",
     "execution_count": 16,
     "data": {
      "application/vnd.deepnote.dataframe.v3+json": {
       "column_count": 6,
       "row_count": 4,
       "columns": [
        {
         "name": "key",
         "dtype": "object",
         "stats": {
          "unique_count": 4,
          "nan_count": 0,
          "categories": [
           {
            "name": "k0",
            "count": 1
           },
           {
            "name": "k1",
            "count": 1
           },
           {
            "name": "2 others",
            "count": 2
           }
          ]
         }
        },
        {
         "name": "A",
         "dtype": "object",
         "stats": {
          "unique_count": 4,
          "nan_count": 0,
          "categories": [
           {
            "name": "A0",
            "count": 1
           },
           {
            "name": "A1",
            "count": 1
           },
           {
            "name": "2 others",
            "count": 2
           }
          ]
         }
        },
        {
         "name": "B",
         "dtype": "object",
         "stats": {
          "unique_count": 4,
          "nan_count": 0,
          "categories": [
           {
            "name": "B0",
            "count": 1
           },
           {
            "name": "B1",
            "count": 1
           },
           {
            "name": "2 others",
            "count": 2
           }
          ]
         }
        },
        {
         "name": "key_2",
         "dtype": "object",
         "stats": {
          "unique_count": 3,
          "nan_count": 1,
          "categories": [
           {
            "name": "k0",
            "count": 1
           },
           {
            "name": "2 others",
            "count": 2
           },
           {
            "name": "Missing",
            "count": 1
           }
          ]
         }
        },
        {
         "name": "C",
         "dtype": "object",
         "stats": {
          "unique_count": 3,
          "nan_count": 1,
          "categories": [
           {
            "name": "C0",
            "count": 1
           },
           {
            "name": "2 others",
            "count": 2
           },
           {
            "name": "Missing",
            "count": 1
           }
          ]
         }
        },
        {
         "name": "D",
         "dtype": "object",
         "stats": {
          "unique_count": 3,
          "nan_count": 1,
          "categories": [
           {
            "name": "D0",
            "count": 1
           },
           {
            "name": "2 others",
            "count": 2
           },
           {
            "name": "Missing",
            "count": 1
           }
          ]
         }
        },
        {
         "name": "_deepnote_index_column",
         "dtype": "int64"
        }
       ],
       "rows": [
        {
         "key": "k0",
         "A": "A0",
         "B": "B0",
         "key_2": "k0",
         "C": "C0",
         "D": "D0",
         "_deepnote_index_column": 0
        },
        {
         "key": "k1",
         "A": "A1",
         "B": "B1",
         "key_2": "k1",
         "C": "C1",
         "D": "D1",
         "_deepnote_index_column": 1
        },
        {
         "key": "k2",
         "A": "A2",
         "B": "B2",
         "key_2": "k2",
         "C": "C2",
         "D": "D2",
         "_deepnote_index_column": 2
        },
        {
         "key": "k3",
         "A": "A3",
         "B": "B3",
         "key_2": "nan",
         "C": "nan",
         "D": "nan",
         "_deepnote_index_column": 3
        }
       ]
      },
      "text/plain": "  key   A   B key_2    C    D\n0  k0  A0  B0    k0   C0   D0\n1  k1  A1  B1    k1   C1   D1\n2  k2  A2  B2    k2   C2   D2\n3  k3  A3  B3   NaN  NaN  NaN",
      "text/html": "<div>\n<style scoped>\n    .dataframe tbody tr th:only-of-type {\n        vertical-align: middle;\n    }\n\n    .dataframe tbody tr th {\n        vertical-align: top;\n    }\n\n    .dataframe thead th {\n        text-align: right;\n    }\n</style>\n<table border=\"1\" class=\"dataframe\">\n  <thead>\n    <tr style=\"text-align: right;\">\n      <th></th>\n      <th>key</th>\n      <th>A</th>\n      <th>B</th>\n      <th>key_2</th>\n      <th>C</th>\n      <th>D</th>\n    </tr>\n  </thead>\n  <tbody>\n    <tr>\n      <th>0</th>\n      <td>k0</td>\n      <td>A0</td>\n      <td>B0</td>\n      <td>k0</td>\n      <td>C0</td>\n      <td>D0</td>\n    </tr>\n    <tr>\n      <th>1</th>\n      <td>k1</td>\n      <td>A1</td>\n      <td>B1</td>\n      <td>k1</td>\n      <td>C1</td>\n      <td>D1</td>\n    </tr>\n    <tr>\n      <th>2</th>\n      <td>k2</td>\n      <td>A2</td>\n      <td>B2</td>\n      <td>k2</td>\n      <td>C2</td>\n      <td>D2</td>\n    </tr>\n    <tr>\n      <th>3</th>\n      <td>k3</td>\n      <td>A3</td>\n      <td>B3</td>\n      <td>NaN</td>\n      <td>NaN</td>\n      <td>NaN</td>\n    </tr>\n  </tbody>\n</table>\n</div>"
     },
     "metadata": {}
    }
   ],
   "execution_count": null
  },
  {
   "cell_type": "code",
   "metadata": {
    "cell_id": "f8556a961d694ceeb788ad697e2d609a",
    "tags": [],
    "deepnote_to_be_reexecuted": false,
    "source_hash": "1819b553",
    "execution_start": 1654529185491,
    "execution_millis": 3,
    "deepnote_cell_type": "code",
    "deepnote_cell_height": 354
   },
   "source": "izq.merge(der, left_on='key', right_on='key_2', how='right')",
   "outputs": [
    {
     "output_type": "execute_result",
     "execution_count": 17,
     "data": {
      "application/vnd.deepnote.dataframe.v3+json": {
       "column_count": 6,
       "row_count": 4,
       "columns": [
        {
         "name": "key",
         "dtype": "object",
         "stats": {
          "unique_count": 3,
          "nan_count": 1,
          "categories": [
           {
            "name": "k0",
            "count": 1
           },
           {
            "name": "2 others",
            "count": 2
           },
           {
            "name": "Missing",
            "count": 1
           }
          ]
         }
        },
        {
         "name": "A",
         "dtype": "object",
         "stats": {
          "unique_count": 3,
          "nan_count": 1,
          "categories": [
           {
            "name": "A0",
            "count": 1
           },
           {
            "name": "2 others",
            "count": 2
           },
           {
            "name": "Missing",
            "count": 1
           }
          ]
         }
        },
        {
         "name": "B",
         "dtype": "object",
         "stats": {
          "unique_count": 3,
          "nan_count": 1,
          "categories": [
           {
            "name": "B0",
            "count": 1
           },
           {
            "name": "2 others",
            "count": 2
           },
           {
            "name": "Missing",
            "count": 1
           }
          ]
         }
        },
        {
         "name": "key_2",
         "dtype": "object",
         "stats": {
          "unique_count": 3,
          "nan_count": 1,
          "categories": [
           {
            "name": "k0",
            "count": 1
           },
           {
            "name": "2 others",
            "count": 2
           },
           {
            "name": "Missing",
            "count": 1
           }
          ]
         }
        },
        {
         "name": "C",
         "dtype": "object",
         "stats": {
          "unique_count": 4,
          "nan_count": 0,
          "categories": [
           {
            "name": "C0",
            "count": 1
           },
           {
            "name": "C1",
            "count": 1
           },
           {
            "name": "2 others",
            "count": 2
           }
          ]
         }
        },
        {
         "name": "D",
         "dtype": "object",
         "stats": {
          "unique_count": 4,
          "nan_count": 0,
          "categories": [
           {
            "name": "D0",
            "count": 1
           },
           {
            "name": "D1",
            "count": 1
           },
           {
            "name": "2 others",
            "count": 2
           }
          ]
         }
        },
        {
         "name": "_deepnote_index_column",
         "dtype": "int64"
        }
       ],
       "rows": [
        {
         "key": "k0",
         "A": "A0",
         "B": "B0",
         "key_2": "k0",
         "C": "C0",
         "D": "D0",
         "_deepnote_index_column": 0
        },
        {
         "key": "k1",
         "A": "A1",
         "B": "B1",
         "key_2": "k1",
         "C": "C1",
         "D": "D1",
         "_deepnote_index_column": 1
        },
        {
         "key": "k2",
         "A": "A2",
         "B": "B2",
         "key_2": "k2",
         "C": "C2",
         "D": "D2",
         "_deepnote_index_column": 2
        },
        {
         "key": "nan",
         "A": "nan",
         "B": "nan",
         "key_2": "nan",
         "C": "C3",
         "D": "D3",
         "_deepnote_index_column": 3
        }
       ]
      },
      "text/plain": "   key    A    B key_2   C   D\n0   k0   A0   B0    k0  C0  D0\n1   k1   A1   B1    k1  C1  D1\n2   k2   A2   B2    k2  C2  D2\n3  NaN  NaN  NaN   NaN  C3  D3",
      "text/html": "<div>\n<style scoped>\n    .dataframe tbody tr th:only-of-type {\n        vertical-align: middle;\n    }\n\n    .dataframe tbody tr th {\n        vertical-align: top;\n    }\n\n    .dataframe thead th {\n        text-align: right;\n    }\n</style>\n<table border=\"1\" class=\"dataframe\">\n  <thead>\n    <tr style=\"text-align: right;\">\n      <th></th>\n      <th>key</th>\n      <th>A</th>\n      <th>B</th>\n      <th>key_2</th>\n      <th>C</th>\n      <th>D</th>\n    </tr>\n  </thead>\n  <tbody>\n    <tr>\n      <th>0</th>\n      <td>k0</td>\n      <td>A0</td>\n      <td>B0</td>\n      <td>k0</td>\n      <td>C0</td>\n      <td>D0</td>\n    </tr>\n    <tr>\n      <th>1</th>\n      <td>k1</td>\n      <td>A1</td>\n      <td>B1</td>\n      <td>k1</td>\n      <td>C1</td>\n      <td>D1</td>\n    </tr>\n    <tr>\n      <th>2</th>\n      <td>k2</td>\n      <td>A2</td>\n      <td>B2</td>\n      <td>k2</td>\n      <td>C2</td>\n      <td>D2</td>\n    </tr>\n    <tr>\n      <th>3</th>\n      <td>NaN</td>\n      <td>NaN</td>\n      <td>NaN</td>\n      <td>NaN</td>\n      <td>C3</td>\n      <td>D3</td>\n    </tr>\n  </tbody>\n</table>\n</div>"
     },
     "metadata": {}
    }
   ],
   "execution_count": null
  },
  {
   "cell_type": "markdown",
   "source": "# Join - Index Match",
   "metadata": {
    "cell_id": "75c43247a7064c3ebc4570c6e3bf0fef",
    "tags": [],
    "deepnote_cell_type": "markdown",
    "deepnote_cell_height": 82
   }
  },
  {
   "cell_type": "code",
   "source": "izq = pd.DataFrame({'A': ['A0','A1','A2'],\n  'B':['B0','B1','B2']},\n  index=['k0','k1','k2'])\n\nder =pd.DataFrame({'C': ['C0','C1','C2'],\n  'D':['D0','D1','D2']},\n  index=['k0','k2','k3']) ",
   "metadata": {
    "cell_id": "65c4ad93b8be4ccea904111e00d16175",
    "tags": [],
    "deepnote_to_be_reexecuted": false,
    "source_hash": "c45d7abc",
    "execution_start": 1654529526301,
    "execution_millis": 0,
    "deepnote_cell_type": "code",
    "deepnote_cell_height": 189
   },
   "outputs": [],
   "execution_count": null
  },
  {
   "cell_type": "code",
   "source": "izq.join(der)",
   "metadata": {
    "cell_id": "f202f1ee1a814562afc8e419cbc91eef",
    "tags": [],
    "deepnote_to_be_reexecuted": false,
    "source_hash": "9e68aa1c",
    "execution_start": 1654529590297,
    "execution_millis": 8,
    "deepnote_cell_type": "code",
    "deepnote_cell_height": 313
   },
   "outputs": [
    {
     "output_type": "execute_result",
     "execution_count": 19,
     "data": {
      "application/vnd.deepnote.dataframe.v3+json": {
       "column_count": 4,
       "row_count": 3,
       "columns": [
        {
         "name": "A",
         "dtype": "object",
         "stats": {
          "unique_count": 3,
          "nan_count": 0,
          "categories": [
           {
            "name": "A0",
            "count": 1
           },
           {
            "name": "A1",
            "count": 1
           },
           {
            "name": "A2",
            "count": 1
           }
          ]
         }
        },
        {
         "name": "B",
         "dtype": "object",
         "stats": {
          "unique_count": 3,
          "nan_count": 0,
          "categories": [
           {
            "name": "B0",
            "count": 1
           },
           {
            "name": "B1",
            "count": 1
           },
           {
            "name": "B2",
            "count": 1
           }
          ]
         }
        },
        {
         "name": "C",
         "dtype": "object",
         "stats": {
          "unique_count": 2,
          "nan_count": 1,
          "categories": [
           {
            "name": "C0",
            "count": 1
           },
           {
            "name": "C1",
            "count": 1
           },
           {
            "name": "Missing",
            "count": 1
           }
          ]
         }
        },
        {
         "name": "D",
         "dtype": "object",
         "stats": {
          "unique_count": 2,
          "nan_count": 1,
          "categories": [
           {
            "name": "D0",
            "count": 1
           },
           {
            "name": "D1",
            "count": 1
           },
           {
            "name": "Missing",
            "count": 1
           }
          ]
         }
        },
        {
         "name": "_deepnote_index_column",
         "dtype": "object"
        }
       ],
       "rows": [
        {
         "A": "A0",
         "B": "B0",
         "C": "C0",
         "D": "D0",
         "_deepnote_index_column": "k0"
        },
        {
         "A": "A1",
         "B": "B1",
         "C": "nan",
         "D": "nan",
         "_deepnote_index_column": "k1"
        },
        {
         "A": "A2",
         "B": "B2",
         "C": "C1",
         "D": "D1",
         "_deepnote_index_column": "k2"
        }
       ]
      },
      "text/plain": "     A   B    C    D\nk0  A0  B0   C0   D0\nk1  A1  B1  NaN  NaN\nk2  A2  B2   C1   D1",
      "text/html": "<div>\n<style scoped>\n    .dataframe tbody tr th:only-of-type {\n        vertical-align: middle;\n    }\n\n    .dataframe tbody tr th {\n        vertical-align: top;\n    }\n\n    .dataframe thead th {\n        text-align: right;\n    }\n</style>\n<table border=\"1\" class=\"dataframe\">\n  <thead>\n    <tr style=\"text-align: right;\">\n      <th></th>\n      <th>A</th>\n      <th>B</th>\n      <th>C</th>\n      <th>D</th>\n    </tr>\n  </thead>\n  <tbody>\n    <tr>\n      <th>k0</th>\n      <td>A0</td>\n      <td>B0</td>\n      <td>C0</td>\n      <td>D0</td>\n    </tr>\n    <tr>\n      <th>k1</th>\n      <td>A1</td>\n      <td>B1</td>\n      <td>NaN</td>\n      <td>NaN</td>\n    </tr>\n    <tr>\n      <th>k2</th>\n      <td>A2</td>\n      <td>B2</td>\n      <td>C1</td>\n      <td>D1</td>\n    </tr>\n  </tbody>\n</table>\n</div>"
     },
     "metadata": {}
    }
   ],
   "execution_count": null
  },
  {
   "cell_type": "code",
   "source": "izq.join(der, how='inner')",
   "metadata": {
    "cell_id": "4b3b30761da1487b8c29bdf68bc64e32",
    "tags": [],
    "deepnote_to_be_reexecuted": false,
    "source_hash": "21416284",
    "execution_start": 1654529636105,
    "execution_millis": 3,
    "deepnote_cell_type": "code",
    "deepnote_cell_height": 272
   },
   "outputs": [
    {
     "output_type": "execute_result",
     "execution_count": 20,
     "data": {
      "application/vnd.deepnote.dataframe.v3+json": {
       "column_count": 4,
       "row_count": 2,
       "columns": [
        {
         "name": "A",
         "dtype": "object",
         "stats": {
          "unique_count": 2,
          "nan_count": 0,
          "categories": [
           {
            "name": "A0",
            "count": 1
           },
           {
            "name": "A2",
            "count": 1
           }
          ]
         }
        },
        {
         "name": "B",
         "dtype": "object",
         "stats": {
          "unique_count": 2,
          "nan_count": 0,
          "categories": [
           {
            "name": "B0",
            "count": 1
           },
           {
            "name": "B2",
            "count": 1
           }
          ]
         }
        },
        {
         "name": "C",
         "dtype": "object",
         "stats": {
          "unique_count": 2,
          "nan_count": 0,
          "categories": [
           {
            "name": "C0",
            "count": 1
           },
           {
            "name": "C1",
            "count": 1
           }
          ]
         }
        },
        {
         "name": "D",
         "dtype": "object",
         "stats": {
          "unique_count": 2,
          "nan_count": 0,
          "categories": [
           {
            "name": "D0",
            "count": 1
           },
           {
            "name": "D1",
            "count": 1
           }
          ]
         }
        },
        {
         "name": "_deepnote_index_column",
         "dtype": "object"
        }
       ],
       "rows": [
        {
         "A": "A0",
         "B": "B0",
         "C": "C0",
         "D": "D0",
         "_deepnote_index_column": "k0"
        },
        {
         "A": "A2",
         "B": "B2",
         "C": "C1",
         "D": "D1",
         "_deepnote_index_column": "k2"
        }
       ]
      },
      "text/plain": "     A   B   C   D\nk0  A0  B0  C0  D0\nk2  A2  B2  C1  D1",
      "text/html": "<div>\n<style scoped>\n    .dataframe tbody tr th:only-of-type {\n        vertical-align: middle;\n    }\n\n    .dataframe tbody tr th {\n        vertical-align: top;\n    }\n\n    .dataframe thead th {\n        text-align: right;\n    }\n</style>\n<table border=\"1\" class=\"dataframe\">\n  <thead>\n    <tr style=\"text-align: right;\">\n      <th></th>\n      <th>A</th>\n      <th>B</th>\n      <th>C</th>\n      <th>D</th>\n    </tr>\n  </thead>\n  <tbody>\n    <tr>\n      <th>k0</th>\n      <td>A0</td>\n      <td>B0</td>\n      <td>C0</td>\n      <td>D0</td>\n    </tr>\n    <tr>\n      <th>k2</th>\n      <td>A2</td>\n      <td>B2</td>\n      <td>C1</td>\n      <td>D1</td>\n    </tr>\n  </tbody>\n</table>\n</div>"
     },
     "metadata": {}
    }
   ],
   "execution_count": null
  },
  {
   "cell_type": "code",
   "source": "izq.join(der, how='outer')",
   "metadata": {
    "cell_id": "aa7028c6b4df470393cc704f20f8feac",
    "tags": [],
    "deepnote_to_be_reexecuted": false,
    "source_hash": "22d1901d",
    "execution_start": 1654529700537,
    "execution_millis": 2,
    "deepnote_cell_type": "code",
    "deepnote_cell_height": 354
   },
   "outputs": [
    {
     "output_type": "execute_result",
     "execution_count": 21,
     "data": {
      "application/vnd.deepnote.dataframe.v3+json": {
       "column_count": 4,
       "row_count": 4,
       "columns": [
        {
         "name": "A",
         "dtype": "object",
         "stats": {
          "unique_count": 3,
          "nan_count": 1,
          "categories": [
           {
            "name": "A0",
            "count": 1
           },
           {
            "name": "2 others",
            "count": 2
           },
           {
            "name": "Missing",
            "count": 1
           }
          ]
         }
        },
        {
         "name": "B",
         "dtype": "object",
         "stats": {
          "unique_count": 3,
          "nan_count": 1,
          "categories": [
           {
            "name": "B0",
            "count": 1
           },
           {
            "name": "2 others",
            "count": 2
           },
           {
            "name": "Missing",
            "count": 1
           }
          ]
         }
        },
        {
         "name": "C",
         "dtype": "object",
         "stats": {
          "unique_count": 3,
          "nan_count": 1,
          "categories": [
           {
            "name": "C0",
            "count": 1
           },
           {
            "name": "2 others",
            "count": 2
           },
           {
            "name": "Missing",
            "count": 1
           }
          ]
         }
        },
        {
         "name": "D",
         "dtype": "object",
         "stats": {
          "unique_count": 3,
          "nan_count": 1,
          "categories": [
           {
            "name": "D0",
            "count": 1
           },
           {
            "name": "2 others",
            "count": 2
           },
           {
            "name": "Missing",
            "count": 1
           }
          ]
         }
        },
        {
         "name": "_deepnote_index_column",
         "dtype": "object"
        }
       ],
       "rows": [
        {
         "A": "A0",
         "B": "B0",
         "C": "C0",
         "D": "D0",
         "_deepnote_index_column": "k0"
        },
        {
         "A": "A1",
         "B": "B1",
         "C": "nan",
         "D": "nan",
         "_deepnote_index_column": "k1"
        },
        {
         "A": "A2",
         "B": "B2",
         "C": "C1",
         "D": "D1",
         "_deepnote_index_column": "k2"
        },
        {
         "A": "nan",
         "B": "nan",
         "C": "C2",
         "D": "D2",
         "_deepnote_index_column": "k3"
        }
       ]
      },
      "text/plain": "      A    B    C    D\nk0   A0   B0   C0   D0\nk1   A1   B1  NaN  NaN\nk2   A2   B2   C1   D1\nk3  NaN  NaN   C2   D2",
      "text/html": "<div>\n<style scoped>\n    .dataframe tbody tr th:only-of-type {\n        vertical-align: middle;\n    }\n\n    .dataframe tbody tr th {\n        vertical-align: top;\n    }\n\n    .dataframe thead th {\n        text-align: right;\n    }\n</style>\n<table border=\"1\" class=\"dataframe\">\n  <thead>\n    <tr style=\"text-align: right;\">\n      <th></th>\n      <th>A</th>\n      <th>B</th>\n      <th>C</th>\n      <th>D</th>\n    </tr>\n  </thead>\n  <tbody>\n    <tr>\n      <th>k0</th>\n      <td>A0</td>\n      <td>B0</td>\n      <td>C0</td>\n      <td>D0</td>\n    </tr>\n    <tr>\n      <th>k1</th>\n      <td>A1</td>\n      <td>B1</td>\n      <td>NaN</td>\n      <td>NaN</td>\n    </tr>\n    <tr>\n      <th>k2</th>\n      <td>A2</td>\n      <td>B2</td>\n      <td>C1</td>\n      <td>D1</td>\n    </tr>\n    <tr>\n      <th>k3</th>\n      <td>NaN</td>\n      <td>NaN</td>\n      <td>C2</td>\n      <td>D2</td>\n    </tr>\n  </tbody>\n</table>\n</div>"
     },
     "metadata": {}
    }
   ],
   "execution_count": null
  },
  {
   "cell_type": "code",
   "source": "",
   "metadata": {
    "cell_id": "12efe25ef6874c88936a7842194f72a1",
    "tags": [],
    "owner_user_id": "6b4a8dcb-83e3-48d8-857e-449aa20f64fc",
    "deepnote_cell_type": "code",
    "deepnote_cell_height": 66
   },
   "outputs": [],
   "execution_count": null
  },
  {
   "cell_type": "markdown",
   "source": "<a style='text-decoration:none;line-height:16px;display:flex;color:#5B5B62;padding:10px;justify-content:end;' href='https://deepnote.com?utm_source=created-in-deepnote-cell&projectId=837cf1af-c506-4091-b16c-c4a4c0575614' target=\"_blank\">\n<img alt='Created in deepnote.com' style='display:inline;max-height:16px;margin:0px;margin-right:7.5px;' src='data:image/svg+xml;base64,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' > </img>\nCreated in <span style='font-weight:600;margin-left:4px;'>Deepnote</span></a>",
   "metadata": {
    "tags": [],
    "created_in_deepnote_cell": true,
    "deepnote_cell_type": "markdown"
   }
  }
 ],
 "nbformat": 4,
 "nbformat_minor": 2,
 "metadata": {
  "orig_nbformat": 2,
  "deepnote": {},
  "deepnote_notebook_id": "8d3e7421-ef23-4671-a9a5-3e1f98ed1d67",
  "deepnote_execution_queue": []
 }
}