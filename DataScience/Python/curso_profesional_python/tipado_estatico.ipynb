{
 "cells": [
  {
   "cell_type": "markdown",
   "source": "# Tipado estático en `Python`\n\nAhora vamos a empezar con algunos ejemplos:",
   "metadata": {
    "tags": [],
    "cell_id": "d5fd4cca-b69a-495a-a322-982f6f991ffb",
    "deepnote_cell_type": "markdown",
    "deepnote_cell_height": 121.890625
   }
  },
  {
   "cell_type": "code",
   "metadata": {
    "cell_id": "c3a1bbd2d95e4dc7be4f7b09c196960a",
    "tags": [],
    "deepnote_to_be_reexecuted": false,
    "source_hash": "15b93559",
    "execution_start": 1657427786089,
    "execution_millis": 43,
    "deepnote_cell_type": "code",
    "deepnote_cell_height": 129.6875
   },
   "source": "a = 1\nprint(type(a))",
   "execution_count": null,
   "outputs": [
    {
     "name": "stdout",
     "text": "<class 'int'>\n",
     "output_type": "stream"
    }
   ]
  },
  {
   "cell_type": "markdown",
   "source": "Como podemos ver con la función built-in de python `type()` podemos retornar el tipo de dato de la variable.\n\nVeamos el siguiente ejemplo:",
   "metadata": {
    "cell_id": "8342aaef393c49618b1d644442644c76",
    "tags": [],
    "deepnote_cell_type": "markdown",
    "deepnote_cell_height": 88.796875
   }
  },
  {
   "cell_type": "code",
   "metadata": {
    "cell_id": "2af160cda7f744cc90e122dd29c5285a",
    "tags": [],
    "deepnote_to_be_reexecuted": false,
    "source_hash": "f25fc64",
    "execution_start": 1657427786132,
    "execution_millis": 2321,
    "deepnote_cell_type": "code",
    "deepnote_cell_height": 309.6875
   },
   "source": "FALLBACK_PHONE = '+e000000'\ndef get_phone():\n    phone = int(input('Give me your phone: '))\n    if not phone:\n        return FALLBACK_PHONE.round()\n    return int(phone)\n\ndef run():\n    my_phone = get_phone()\n    print(f'Your phone is: {my_phone}')\n\nrun()",
   "execution_count": null,
   "outputs": [
    {
     "name": "stdout",
     "text": "Your phone is: 2321\n",
     "output_type": "stream"
    }
   ]
  },
  {
   "cell_type": "code",
   "metadata": {
    "cell_id": "5e6c801aab064a28873e8c2c949cc573",
    "tags": [],
    "deepnote_to_be_reexecuted": false,
    "source_hash": "79ca472d",
    "execution_start": 1657427788457,
    "execution_millis": 7,
    "deepnote_cell_type": "code",
    "deepnote_cell_height": 165.6875
   },
   "source": "def suma(a: int, b: int) -> int:\n    return a + b\n\nprint(suma(1,2))",
   "execution_count": null,
   "outputs": [
    {
     "name": "stdout",
     "text": "3\n",
     "output_type": "stream"
    }
   ]
  },
  {
   "cell_type": "code",
   "metadata": {
    "cell_id": "649883ad771d4f898d2d8cb403eb1455",
    "tags": [],
    "deepnote_to_be_reexecuted": false,
    "source_hash": "60c1237e",
    "execution_start": 1657427788468,
    "execution_millis": 5,
    "deepnote_cell_type": "code",
    "deepnote_cell_height": 275.390625
   },
   "source": "def is_palindrome(string: str) -> bool:\n    string = string.replace(\" \", \"\").lower()\n    print(string[::-1])\n    return string == string[::-1] # Este slice nos permite retroceder un iterable\n\ndef run():\n    print(is_palindrome(\"pedro\"))\n\nrun()",
   "execution_count": null,
   "outputs": [
    {
     "name": "stdout",
     "text": "ordep\nFalse\n",
     "output_type": "stream"
    }
   ]
  },
  {
   "cell_type": "code",
   "metadata": {
    "cell_id": "e25365a8f76e4d36ba2d9bb1a8dff559",
    "tags": [],
    "deepnote_to_be_reexecuted": false,
    "source_hash": "ecfc3ad9",
    "execution_start": 1657431693983,
    "execution_millis": 0,
    "deepnote_cell_type": "code",
    "deepnote_cell_height": 478.1875,
    "deepnote_output_heights": [
     21.1875
    ]
   },
   "source": "from typing import List\n\nclass NumerosPrimos:\n    lista_primos = []\n    \n    def __init__(self, final: int):   \n        self.final = final\n\n    def es_primo(self, num: int) -> bool:\n        for n in range(2, num): \n            if num % n == 0:\n                return False\n        self.lista_primos.append(num)\n        return True\n    \n    def return_lista_primos(self) -> List[int]:\n        for i in range(2, self.final):\n            self.es_primo(i)\n        return self.lista_primos\n\nNumerosPrimos(20).return_lista_primos()",
   "execution_count": null,
   "outputs": [
    {
     "output_type": "execute_result",
     "execution_count": 71,
     "data": {
      "text/plain": "[2, 3, 5, 7, 11, 13, 17, 19]"
     },
     "metadata": {}
    }
   ]
  },
  {
   "cell_type": "code",
   "metadata": {
    "cell_id": "9572d6b65e7b4f459e24c25c83e9cc3e",
    "tags": [],
    "deepnote_to_be_reexecuted": false,
    "source_hash": "f4697b06",
    "execution_start": 1657429638642,
    "execution_millis": 3,
    "owner_user_id": "6b4a8dcb-83e3-48d8-857e-449aa20f64fc",
    "deepnote_cell_type": "code",
    "deepnote_cell_height": 437.390625
   },
   "source": "class Rectangulo:\n    \"\"\"\n    Define un rectángulo según su base y su altura.\n    \"\"\"\n    def __init__(self, b, h):\n        self.b = b\n        self.h = h\n    \n    def saludar(self):\n        return 'hola'\n\n    def area(self):\n        saludos = self.saludar()\n        print(saludos)\n        return self.b * self.h\n\nrectangulo = Rectangulo(20, 10)\nprint(\"Área del rectángulo: \", rectangulo.area())",
   "execution_count": null,
   "outputs": [
    {
     "name": "stdout",
     "text": "hola\nÁrea del rectángulo:  200\n",
     "output_type": "stream"
    }
   ]
  },
  {
   "cell_type": "code",
   "metadata": {
    "cell_id": "d1488b3760c746908dfdea90c31d31e4",
    "tags": [],
    "deepnote_to_be_reexecuted": false,
    "source_hash": "2990269d",
    "execution_start": 1657429604043,
    "execution_millis": 19,
    "deepnote_cell_type": "code",
    "deepnote_cell_height": 237.6875
   },
   "source": "class Humano:\n    def __init__(self, edad):\n        self.edad = edad\n    \n    def hablar(self, mensaje):\n        print(mensaje)\n\nprint(Humano(2))",
   "execution_count": null,
   "outputs": [
    {
     "name": "stdout",
     "text": "<__main__.Humano object at 0x7f7e4debd910>\n",
     "output_type": "stream"
    }
   ]
  },
  {
   "cell_type": "code",
   "metadata": {
    "cell_id": "73b60dc3a0b941789bac911b3ef3aca4",
    "tags": [],
    "deepnote_cell_type": "code",
    "deepnote_cell_height": 66
   },
   "source": "",
   "execution_count": null,
   "outputs": []
  },
  {
   "cell_type": "markdown",
   "source": "<a style='text-decoration:none;line-height:16px;display:flex;color:#5B5B62;padding:10px;justify-content:end;' href='https://deepnote.com?utm_source=created-in-deepnote-cell&projectId=2869a320-b9f1-4921-b902-9f4d298235ae' target=\"_blank\">\n<img alt='Created in deepnote.com' style='display:inline;max-height:16px;margin:0px;margin-right:7.5px;' src='data:image/svg+xml;base64,PD94bWwgdmVyc2lvbj0iMS4wIiBlbmNvZGluZz0iVVRGLTgiPz4KPHN2ZyB3aWR0aD0iODBweCIgaGVpZ2h0PSI4MHB4IiB2aWV3Qm94PSIwIDAgODAgODAiIHZlcnNpb249IjEuMSIgeG1sbnM9Imh0dHA6Ly93d3cudzMub3JnLzIwMDAvc3ZnIiB4bWxuczp4bGluaz0iaHR0cDovL3d3dy53My5vcmcvMTk5OS94bGluayI+CiAgICA8IS0tIEdlbmVyYXRvcjogU2tldGNoIDU0LjEgKDc2NDkwKSAtIGh0dHBzOi8vc2tldGNoYXBwLmNvbSAtLT4KICAgIDx0aXRsZT5Hcm91cCAzPC90aXRsZT4KICAgIDxkZXNjPkNyZWF0ZWQgd2l0aCBTa2V0Y2guPC9kZXNjPgogICAgPGcgaWQ9IkxhbmRpbmciIHN0cm9rZT0ibm9uZSIgc3Ryb2tlLXdpZHRoPSIxIiBmaWxsPSJub25lIiBmaWxsLXJ1bGU9ImV2ZW5vZGQiPgogICAgICAgIDxnIGlkPSJBcnRib2FyZCIgdHJhbnNmb3JtPSJ0cmFuc2xhdGUoLTEyMzUuMDAwMDAwLCAtNzkuMDAwMDAwKSI+CiAgICAgICAgICAgIDxnIGlkPSJHcm91cC0zIiB0cmFuc2Zvcm09InRyYW5zbGF0ZSgxMjM1LjAwMDAwMCwgNzkuMDAwMDAwKSI+CiAgICAgICAgICAgICAgICA8cG9seWdvbiBpZD0iUGF0aC0yMCIgZmlsbD0iIzAyNjVCNCIgcG9pbnRzPSIyLjM3NjIzNzYyIDgwIDM4LjA0NzY2NjcgODAgNTcuODIxNzgyMiA3My44MDU3NTkyIDU3LjgyMTc4MjIgMzIuNzU5MjczOSAzOS4xNDAyMjc4IDMxLjY4MzE2ODMiPjwvcG9seWdvbj4KICAgICAgICAgICAgICAgIDxwYXRoIGQ9Ik0zNS4wMDc3MTgsODAgQzQyLjkwNjIwMDcsNzYuNDU0OTM1OCA0Ny41NjQ5MTY3LDcxLjU0MjI2NzEgNDguOTgzODY2LDY1LjI2MTk5MzkgQzUxLjExMjI4OTksNTUuODQxNTg0MiA0MS42NzcxNzk1LDQ5LjIxMjIyODQgMjUuNjIzOTg0Niw0OS4yMTIyMjg0IEMyNS40ODQ5Mjg5LDQ5LjEyNjg0NDggMjkuODI2MTI5Niw0My4yODM4MjQ4IDM4LjY0NzU4NjksMzEuNjgzMTY4MyBMNzIuODcxMjg3MSwzMi41NTQ0MjUgTDY1LjI4MDk3Myw2Ny42NzYzNDIxIEw1MS4xMTIyODk5LDc3LjM3NjE0NCBMMzUuMDA3NzE4LDgwIFoiIGlkPSJQYXRoLTIyIiBmaWxsPSIjMDAyODY4Ij48L3BhdGg+CiAgICAgICAgICAgICAgICA8cGF0aCBkPSJNMCwzNy43MzA0NDA1IEwyNy4xMTQ1MzcsMC4yNTcxMTE0MzYgQzYyLjM3MTUxMjMsLTEuOTkwNzE3MDEgODAsMTAuNTAwMzkyNyA4MCwzNy43MzA0NDA1IEM4MCw2NC45NjA0ODgyIDY0Ljc3NjUwMzgsNzkuMDUwMzQxNCAzNC4zMjk1MTEzLDgwIEM0Ny4wNTUzNDg5LDc3LjU2NzA4MDggNTMuNDE4MjY3Nyw3MC4zMTM2MTAzIDUzLjQxODI2NzcsNTguMjM5NTg4NSBDNTMuNDE4MjY3Nyw0MC4xMjg1NTU3IDM2LjMwMzk1NDQsMzcuNzMwNDQwNSAyNS4yMjc0MTcsMzcuNzMwNDQwNSBDMTcuODQzMDU4NiwzNy43MzA0NDA1IDkuNDMzOTE5NjYsMzcuNzMwNDQwNSAwLDM3LjczMDQ0MDUgWiIgaWQ9IlBhdGgtMTkiIGZpbGw9IiMzNzkzRUYiPjwvcGF0aD4KICAgICAgICAgICAgPC9nPgogICAgICAgIDwvZz4KICAgIDwvZz4KPC9zdmc+' > </img>\nCreated in <span style='font-weight:600;margin-left:4px;'>Deepnote</span></a>",
   "metadata": {
    "tags": [],
    "created_in_deepnote_cell": true,
    "deepnote_cell_type": "markdown"
   }
  }
 ],
 "nbformat": 4,
 "nbformat_minor": 2,
 "metadata": {
  "orig_nbformat": 2,
  "deepnote": {},
  "deepnote_notebook_id": "4a06a85a-a4a9-40ad-826d-6c0a3f777ae2",
  "deepnote_execution_queue": []
 }
}