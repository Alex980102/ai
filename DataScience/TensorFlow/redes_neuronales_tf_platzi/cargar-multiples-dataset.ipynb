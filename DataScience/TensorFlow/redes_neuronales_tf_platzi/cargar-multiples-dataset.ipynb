{
 "cells": [
  {
   "cell_type": "markdown",
   "source": "# Como cargar formatos en base JSON",
   "metadata": {
    "cell_id": "c0f36260322240d3bf9054af54b644d7",
    "tags": [],
    "deepnote_cell_type": "markdown",
    "deepnote_cell_height": 82
   }
  },
  {
   "cell_type": "code",
   "metadata": {
    "cell_id": "1c120be3fb82497d97d68b3c98b8c79c",
    "tags": [],
    "deepnote_to_be_reexecuted": false,
    "source_hash": "d766e294",
    "execution_start": 1652857831668,
    "execution_millis": 1,
    "deepnote_cell_type": "code",
    "deepnote_cell_height": 99
   },
   "source": "import os\nimport zipfile",
   "execution_count": null,
   "outputs": []
  },
  {
   "cell_type": "code",
   "metadata": {
    "cell_id": "3c260d0acdf542f29a367b5e3d4eee46",
    "tags": [],
    "deepnote_to_be_reexecuted": false,
    "source_hash": "53b4a9fb",
    "execution_start": 1652857831669,
    "execution_millis": 1797,
    "deepnote_cell_type": "code",
    "deepnote_cell_height": 336.0625
   },
   "source": "!wget --no-check-certificate https://storage.googleapis.com/platzi-tf2/databasesLoadData.zip \\\n    -O /work/ai/DataScience/TensorFlow/redes_neuronales_tf_platzi/tmp/databasesLoadData.zip",
   "execution_count": null,
   "outputs": [
    {
     "name": "stdout",
     "text": "--2022-05-18 07:10:32--  https://storage.googleapis.com/platzi-tf2/databasesLoadData.zip\nResolving storage.googleapis.com (storage.googleapis.com)... 172.217.15.112, 142.250.81.208, 172.217.1.208, ...\nConnecting to storage.googleapis.com (storage.googleapis.com)|172.217.15.112|:443... connected.\nHTTP request sent, awaiting response... 200 OK\nLength: 71662510 (68M) [application/zip]\nSaving to: ‘/work/ai/DataScience/TensorFlow/redes_neuronales_tf_platzi/tmp/databasesLoadData.zip’\n\n/work/ai/DataScienc 100%[===================>]  68.34M  82.8MB/s    in 0.8s    \n\n2022-05-18 07:10:33 (82.8 MB/s) - ‘/work/ai/DataScience/TensorFlow/redes_neuronales_tf_platzi/tmp/databasesLoadData.zip’ saved [71662510/71662510]\n\n",
     "output_type": "stream"
    }
   ]
  },
  {
   "cell_type": "code",
   "metadata": {
    "cell_id": "eda64e81344b497498129d5b6dc05399",
    "tags": [],
    "deepnote_to_be_reexecuted": false,
    "source_hash": "ff5419fb",
    "execution_start": 1652857833489,
    "execution_millis": 5774,
    "deepnote_cell_type": "code",
    "deepnote_cell_height": 135
   },
   "source": "local_zip = \"/work/ai/DataScience/TensorFlow/redes_neuronales_tf_platzi/tmp/databasesLoadData.zip\"\nzip_ref = zipfile.ZipFile(local_zip, \"r\")\nzip_ref.extractall(\"/work/ai/DataScience/TensorFlow/redes_neuronales_tf_platzi/tmp/databasesLoadData\")\nzip_ref.close()",
   "execution_count": null,
   "outputs": []
  },
  {
   "cell_type": "code",
   "metadata": {
    "cell_id": "66d7507a6b264749a08895a79a14e3ca",
    "tags": [],
    "deepnote_to_be_reexecuted": false,
    "source_hash": "952b83f0",
    "execution_start": 1652857839269,
    "execution_millis": 3007,
    "deepnote_cell_type": "code",
    "deepnote_cell_height": 207
   },
   "source": "import json\nimport codecs\nimport requests\nimport numpy as np\nfrom PIL import Image\nfrom io import BytesIO\n%matplotlib inline\nimport matplotlib.pyplot as plt",
   "execution_count": null,
   "outputs": []
  },
  {
   "cell_type": "code",
   "metadata": {
    "cell_id": "dc4182b416db4c7c9d51abc911e1a648",
    "tags": [],
    "deepnote_to_be_reexecuted": false,
    "source_hash": "30ba5796",
    "execution_start": 1652857842288,
    "execution_millis": 5,
    "deepnote_cell_type": "code",
    "deepnote_cell_height": 81
   },
   "source": "url = \"/work/ai/DataScience/TensorFlow/redes_neuronales_tf_platzi/tmp/databasesLoadData/sign_mnist_json/data.json\"",
   "execution_count": null,
   "outputs": []
  },
  {
   "cell_type": "code",
   "metadata": {
    "cell_id": "7f6c42cd92604945811b854c9a668d27",
    "tags": [],
    "deepnote_to_be_reexecuted": false,
    "source_hash": "cea3b704",
    "execution_start": 1652857842306,
    "execution_millis": 5215431,
    "deepnote_cell_type": "code",
    "deepnote_cell_height": 184.1875
   },
   "source": "data_json = []\nwith codecs.open(url, 'rU', 'utf-8') as js:\n    for line in js:\n        data_json.append(json.loads(line))\nprint(\"{} imagenes encontradas\".format(len(data_json)))",
   "execution_count": null,
   "outputs": [
    {
     "name": "stdout",
     "text": "9 imagenes encontradas\n",
     "output_type": "stream"
    }
   ]
  },
  {
   "cell_type": "code",
   "metadata": {
    "cell_id": "a2999fe5de6e43099c6c42ad1209d325",
    "tags": [],
    "deepnote_to_be_reexecuted": false,
    "source_hash": "a64ecf2f",
    "execution_start": 1652857842330,
    "execution_millis": 714,
    "deepnote_cell_type": "code",
    "deepnote_cell_height": 153
   },
   "source": "images = []\nfor data in data_json:\n    response = requests.get(data['content'])\n    img = np.asarray(Image.open(BytesIO(response.content)))\n    images.append([img, data[\"label\"]])",
   "execution_count": null,
   "outputs": []
  },
  {
   "cell_type": "code",
   "metadata": {
    "cell_id": "9558ca6c30c64f2c82cc53ed0d93f665",
    "tags": [],
    "deepnote_to_be_reexecuted": false,
    "source_hash": "a7197bf7",
    "execution_start": 1652857843053,
    "execution_millis": 303,
    "deepnote_cell_type": "code",
    "deepnote_cell_height": 411.1875,
    "deepnote_output_heights": [
     null,
     250
    ]
   },
   "source": "plt.imshow(images[0][0].reshape(28, 28))\nprint(images[0][1])",
   "execution_count": null,
   "outputs": [
    {
     "name": "stdout",
     "text": "b\n",
     "output_type": "stream"
    },
    {
     "data": {
      "text/plain": "<Figure size 432x288 with 1 Axes>",
      "image/png": "[encoded data removed]"
     },
     "metadata": {
      "needs_background": "light",
      "image/png": {
       "width": 251,
       "height": 248
      }
     },
     "output_type": "display_data"
    }
   ]
  },
  {
   "cell_type": "markdown",
   "source": "# Como cargar formatos en base 64",
   "metadata": {
    "cell_id": "16683d5af72047b1aca9a556060ef16a",
    "tags": [],
    "deepnote_cell_type": "markdown",
    "deepnote_cell_height": 82
   }
  },
  {
   "cell_type": "code",
   "metadata": {
    "cell_id": "196321e59b324d8db0f9eb425f99c910",
    "tags": [],
    "deepnote_to_be_reexecuted": false,
    "source_hash": "664edf23",
    "execution_start": 1652857843428,
    "execution_millis": 51,
    "deepnote_cell_type": "code",
    "deepnote_cell_height": 81
   },
   "source": "import base64",
   "execution_count": null,
   "outputs": []
  },
  {
   "cell_type": "code",
   "metadata": {
    "cell_id": "0bfd425df05e4396a191ba7f402a71d6",
    "tags": [],
    "deepnote_to_be_reexecuted": false,
    "source_hash": "51f6f175",
    "execution_start": 1652857954654,
    "execution_millis": 3,
    "deepnote_cell_type": "code",
    "deepnote_cell_height": 81
   },
   "source": "url = \"/work/ai/DataScience/TensorFlow/redes_neuronales_tf_platzi/tmp/databasesLoadData/sign_mnist_base64/data.json\"",
   "execution_count": null,
   "outputs": []
  },
  {
   "cell_type": "code",
   "metadata": {
    "cell_id": "bdafb59b863244818fa871e6647a478c",
    "tags": [],
    "deepnote_to_be_reexecuted": false,
    "source_hash": "494642d3",
    "execution_start": 1652857955163,
    "execution_millis": 10,
    "deepnote_cell_type": "code",
    "deepnote_cell_height": 117
   },
   "source": "with open(url) as f:\n    data = json.load(f)\n",
   "execution_count": null,
   "outputs": []
  },
  {
   "cell_type": "code",
   "metadata": {
    "cell_id": "d6953b3e42bf495b924df39fe89f6ae5",
    "tags": [],
    "deepnote_to_be_reexecuted": false,
    "source_hash": "228f532",
    "execution_start": 1652857965550,
    "execution_millis": 15,
    "deepnote_cell_type": "code",
    "deepnote_cell_height": 116.1875
   },
   "source": "print(data)",
   "execution_count": null,
   "outputs": [
    {
     "name": "stdout",
     "text": "{'b': '/9j/4AAQSkZJRgABAQAAAQABAAD/2wBDAAgGBgcGBQgHBwcJCQgKDBQNDAsLDBkSEw8UHRofHh0aHBwgJC4nICIsIxwcKDcpLDAxNDQ0Hyc5PTgyPC4zNDL/wAALCAAcABwBAREA/8QAHwAAAQUBAQEBAQEAAAAAAAAAAAECAwQFBgcICQoL/8QAtRAAAgEDAwIEAwUFBAQAAAF9AQIDAAQRBRIhMUEGE1FhByJxFDKBkaEII0KxwRVS0fAkM2JyggkKFhcYGRolJicoKSo0NTY3ODk6Q0RFRkdISUpTVFVWV1hZWmNkZWZnaGlqc3R1dnd4eXqDhIWGh4iJipKTlJWWl5iZmqKjpKWmp6ipqrKztLW2t7i5usLDxMXGx8jJytLT1NXW19jZ2uHi4+Tl5ufo6erx8vP09fb3+Pn6/9oACAEBAAA/AOhS246VBdyJbqyDmbaGVSOuWxTUk3XckDKcGVkjI/2VBOf1qcwc9K00i4rnNbCLrcSPMkQKJ97PUNnHHtmrllEf7US3dSJIEklcEdd7DBHtjP5VrGLmrSpxWHewQnxNHNOBsAJOfYZpvh8zXup394xPkKBAg9SDk/lx+db5j5pCcICO+K47X7+cL5uRv2kZxXW6TaRWek20UIIBQOSepZhkk/iasMxDV//Z'}\n",
     "output_type": "stream"
    }
   ]
  },
  {
   "cell_type": "code",
   "metadata": {
    "cell_id": "09c5d66c4ad54bd18e08a9bc2f38ee8a",
    "tags": [],
    "owner_user_id": "6b4a8dcb-83e3-48d8-857e-449aa20f64fc",
    "deepnote_cell_type": "code",
    "deepnote_cell_height": 66
   },
   "source": "",
   "execution_count": null,
   "outputs": []
  },
  {
   "cell_type": "markdown",
   "source": "<a style='text-decoration:none;line-height:16px;display:flex;color:#5B5B62;padding:10px;justify-content:end;' href='https://deepnote.com?utm_source=created-in-deepnote-cell&projectId=837cf1af-c506-4091-b16c-c4a4c0575614' target=\"_blank\">\n<img alt='Created in deepnote.com' style='display:inline;max-height:16px;margin:0px;margin-right:7.5px;' src='data:image/svg+xml;base64,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' > </img>\nCreated in <span style='font-weight:600;margin-left:4px;'>Deepnote</span></a>",
   "metadata": {
    "tags": [],
    "created_in_deepnote_cell": true,
    "deepnote_cell_type": "markdown"
   }
  }
 ],
 "nbformat": 4,
 "nbformat_minor": 2,
 "metadata": {
  "orig_nbformat": 2,
  "deepnote": {},
  "deepnote_notebook_id": "ccf5a361-f0c3-4f9d-ace6-ea41a3ff5a19",
  "deepnote_execution_queue": []
 }
}