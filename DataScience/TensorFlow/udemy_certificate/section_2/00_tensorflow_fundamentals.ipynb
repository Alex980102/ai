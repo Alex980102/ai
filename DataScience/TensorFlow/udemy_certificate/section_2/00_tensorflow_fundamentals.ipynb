{
 "cells": [
  {
   "cell_type": "markdown",
   "source": "# Conceptos fundamentales de tensorflow\n\nLo que se cubrirá será:\n\n- Introducción a tensores\n- obtener información de los tensores\n- Manipular tensores\n- Tensores & NumPy\n- Usar @tf.function (una forma de acelerar las funciones regulares de python)\n- Usar GPUs con tensorflow (o TPUs)",
   "metadata": {
    "cell_id": "b20a64b5abee42a5ba46469a842c9425",
    "tags": [],
    "deepnote_cell_type": "markdown",
    "deepnote_cell_height": 349.78125
   }
  },
  {
   "cell_type": "markdown",
   "source": "# Introducción a tensorflow",
   "metadata": {
    "cell_id": "0f1a5bce1c2a4b61b1f34017807a8c49",
    "tags": [],
    "deepnote_cell_type": "markdown",
    "deepnote_cell_height": 82
   }
  },
  {
   "cell_type": "markdown",
   "source": "## Crear tensores con la constante `tf.constant()`",
   "metadata": {
    "cell_id": "8c023113aa724d9488983ec670054b17",
    "tags": [],
    "deepnote_cell_type": "markdown",
    "deepnote_cell_height": 70.5
   }
  },
  {
   "cell_type": "code",
   "metadata": {
    "cell_id": "16c3b7157cf54fc48cabf24368c5a8f0",
    "tags": [],
    "deepnote_to_be_reexecuted": false,
    "source_hash": "bb7a2ad4",
    "execution_start": 1654865672274,
    "execution_millis": 13463,
    "deepnote_cell_type": "code",
    "deepnote_cell_height": 183.6875
   },
   "source": "# Importar TensorFlow\nimport pandas as pd\nimport tensorflow as tf\nimport numpy as np\nprint(tf.__version__)",
   "execution_count": 1,
   "outputs": [
    {
     "name": "stdout",
     "text": "2.9.1\n",
     "output_type": "stream"
    }
   ]
  },
  {
   "cell_type": "code",
   "metadata": {
    "cell_id": "33b14fa0853d4276892d925c96e9f67b",
    "tags": [],
    "deepnote_to_be_reexecuted": false,
    "source_hash": "bfbc12e",
    "execution_start": 1654865685770,
    "execution_millis": 71,
    "deepnote_cell_type": "code",
    "deepnote_cell_height": 136.1875
   },
   "source": "scalar = tf.constant(7)\nscalar",
   "execution_count": 2,
   "outputs": [
    {
     "output_type": "execute_result",
     "execution_count": 2,
     "data": {
      "text/plain": "<tf.Tensor: shape=(), dtype=int32, numpy=7>"
     },
     "metadata": {}
    }
   ]
  },
  {
   "cell_type": "markdown",
   "source": "### Checar el número de dimensiones de un tensor (`ndim` representa el número de dimensiones)",
   "metadata": {
    "cell_id": "b0eea454d6d543a6a4acb39ff4aa1af8",
    "tags": [],
    "deepnote_cell_type": "markdown",
    "deepnote_cell_height": 94.5
   }
  },
  {
   "cell_type": "code",
   "metadata": {
    "cell_id": "d4856ff3ab5a426baf69b8f18cd8fa60",
    "tags": [],
    "deepnote_to_be_reexecuted": false,
    "source_hash": "edae4825",
    "execution_start": 1654865685856,
    "execution_millis": 32,
    "deepnote_cell_type": "code",
    "deepnote_cell_height": 118.1875
   },
   "source": "scalar.ndim",
   "execution_count": 3,
   "outputs": [
    {
     "output_type": "execute_result",
     "execution_count": 3,
     "data": {
      "text/plain": "0"
     },
     "metadata": {}
    }
   ]
  },
  {
   "cell_type": "markdown",
   "source": "### Crear un vector",
   "metadata": {
    "cell_id": "9b17d2cec15a4c0ea66c546de01dafe1",
    "tags": [],
    "deepnote_cell_type": "markdown",
    "deepnote_cell_height": 62
   }
  },
  {
   "cell_type": "code",
   "metadata": {
    "cell_id": "cb085ad2fd2847dbab93f9bbfff7573c",
    "tags": [],
    "deepnote_to_be_reexecuted": false,
    "source_hash": "dee5085c",
    "execution_start": 1654865685917,
    "execution_millis": 53249844,
    "deepnote_cell_type": "code",
    "deepnote_cell_height": 136.1875
   },
   "source": "vector = tf.constant([10, 10])\nvector",
   "execution_count": 4,
   "outputs": [
    {
     "output_type": "execute_result",
     "execution_count": 4,
     "data": {
      "text/plain": "<tf.Tensor: shape=(2,), dtype=int32, numpy=array([10, 10], dtype=int32)>"
     },
     "metadata": {}
    }
   ]
  },
  {
   "cell_type": "markdown",
   "source": "### Checar la dimensión de nuestro vector",
   "metadata": {
    "cell_id": "18e9716413804a5cbb91ca817eb76863",
    "tags": [],
    "deepnote_cell_type": "markdown",
    "deepnote_cell_height": 62
   }
  },
  {
   "cell_type": "code",
   "metadata": {
    "cell_id": "dc7fa15bbf674bbeb4aa2e9f552a953c",
    "tags": [],
    "deepnote_to_be_reexecuted": false,
    "source_hash": "ba67f77e",
    "execution_start": 1654865685990,
    "execution_millis": 53249830,
    "deepnote_cell_type": "code",
    "deepnote_cell_height": 118.1875
   },
   "source": "vector.ndim",
   "execution_count": 5,
   "outputs": [
    {
     "output_type": "execute_result",
     "execution_count": 5,
     "data": {
      "text/plain": "1"
     },
     "metadata": {}
    }
   ]
  },
  {
   "cell_type": "markdown",
   "source": "### Crear una matriz (Que tenga más de una dimensión)\n<a id='another_cell'></a>",
   "metadata": {
    "cell_id": "348fa44c29f3468cbaaaf37151a7e95a",
    "tags": [],
    "deepnote_cell_type": "markdown",
    "deepnote_cell_height": 78
   }
  },
  {
   "cell_type": "code",
   "metadata": {
    "cell_id": "7d896a4f9b0348c782cdac79318c80ae",
    "tags": [],
    "deepnote_to_be_reexecuted": false,
    "source_hash": "f8b5d95f",
    "execution_start": 1654865686035,
    "execution_millis": 53249871,
    "deepnote_cell_type": "code",
    "deepnote_cell_height": 174.578125,
    "deepnote_output_heights": [
     59.578125
    ]
   },
   "source": "matrix = tf.constant([[10, 7], [7, 10]])\nmatrix",
   "execution_count": 6,
   "outputs": [
    {
     "output_type": "execute_result",
     "execution_count": 6,
     "data": {
      "text/plain": "<tf.Tensor: shape=(2, 2), dtype=int32, numpy=\narray([[10,  7],\n       [ 7, 10]], dtype=int32)>"
     },
     "metadata": {}
    }
   ]
  },
  {
   "cell_type": "markdown",
   "source": "### Checar el número de dimensiones",
   "metadata": {
    "cell_id": "c4d747a4acd14bdfaa7f6fab21074334",
    "tags": [],
    "deepnote_cell_type": "markdown",
    "deepnote_cell_height": 62
   }
  },
  {
   "cell_type": "code",
   "metadata": {
    "cell_id": "7b86120b7e7b4de8be0e5265c163f443",
    "tags": [],
    "deepnote_to_be_reexecuted": false,
    "source_hash": "938b035e",
    "execution_start": 1654865686092,
    "execution_millis": 53249872,
    "deepnote_cell_type": "code",
    "deepnote_cell_height": 118.1875,
    "deepnote_output_heights": [
     21.1875
    ]
   },
   "source": "matrix.ndim",
   "execution_count": 7,
   "outputs": [
    {
     "output_type": "execute_result",
     "execution_count": 7,
     "data": {
      "text/plain": "2"
     },
     "metadata": {}
    }
   ]
  },
  {
   "cell_type": "markdown",
   "source": "### Crear una nueva matriz\n\nEspecificar el tipo de dato con el parámetro `dtype`",
   "metadata": {
    "cell_id": "561fd5a16efd400c9edc966715d45f01",
    "tags": [],
    "deepnote_cell_type": "markdown",
    "deepnote_cell_height": 100.390625
   }
  },
  {
   "cell_type": "code",
   "metadata": {
    "cell_id": "6801816cf39944f9856ed0160ce9c18e",
    "tags": [],
    "deepnote_to_be_reexecuted": false,
    "source_hash": "e48a6e60",
    "execution_start": 1654865686174,
    "execution_millis": 53249870,
    "deepnote_cell_type": "code",
    "deepnote_cell_height": 265.78125,
    "deepnote_output_heights": [
     78.78125
    ]
   },
   "source": "another_matrix = tf.constant(\n                            [[10., 7.],\n                            [3., 2.], \n                            [8., 9.]],\n                            dtype=tf.float16)\nanother_matrix",
   "execution_count": 8,
   "outputs": [
    {
     "output_type": "execute_result",
     "execution_count": 8,
     "data": {
      "text/plain": "<tf.Tensor: shape=(3, 2), dtype=float16, numpy=\narray([[10.,  7.],\n       [ 3.,  2.],\n       [ 8.,  9.]], dtype=float16)>"
     },
     "metadata": {}
    }
   ]
  },
  {
   "cell_type": "code",
   "metadata": {
    "cell_id": "9dc334c367bd46c1b41f7aa1a9567f2c",
    "tags": [],
    "deepnote_to_be_reexecuted": false,
    "source_hash": "9aff23cc",
    "execution_start": 1654865686218,
    "execution_millis": 53249846,
    "deepnote_cell_type": "code",
    "deepnote_cell_height": 118.1875,
    "deepnote_output_heights": [
     21.1875
    ]
   },
   "source": "another_matrix.ndim",
   "execution_count": 9,
   "outputs": [
    {
     "output_type": "execute_result",
     "execution_count": 9,
     "data": {
      "text/plain": "2"
     },
     "metadata": {}
    }
   ]
  },
  {
   "cell_type": "markdown",
   "source": "### Crear un tensor",
   "metadata": {
    "cell_id": "350b76eb8ccf4b998adc8375d0b742b5",
    "tags": [],
    "deepnote_cell_type": "markdown",
    "deepnote_cell_height": 62
   }
  },
  {
   "cell_type": "code",
   "metadata": {
    "cell_id": "3bae800fbc584e75bf4d6005e000492e",
    "tags": [],
    "deepnote_to_be_reexecuted": false,
    "source_hash": "97e55786",
    "execution_start": 1654865686235,
    "execution_millis": 53249849,
    "deepnote_cell_type": "code",
    "deepnote_cell_height": 415.75,
    "deepnote_output_heights": [
     174.75
    ]
   },
   "source": "tensor = tf.constant([[\n    np.arange(1,4),\n    np.arange(4,7)],\n    [np.arange(7,10),\n    np.arange(10, 13)],\n    [np.arange(13, 16),\n    np.arange(16, 19)]\n])\ntensor",
   "execution_count": 10,
   "outputs": [
    {
     "output_type": "execute_result",
     "execution_count": 10,
     "data": {
      "text/plain": "<tf.Tensor: shape=(3, 2, 3), dtype=int32, numpy=\narray([[[ 1,  2,  3],\n        [ 4,  5,  6]],\n\n       [[ 7,  8,  9],\n        [10, 11, 12]],\n\n       [[13, 14, 15],\n        [16, 17, 18]]], dtype=int32)>"
     },
     "metadata": {}
    }
   ]
  },
  {
   "cell_type": "code",
   "metadata": {
    "cell_id": "9f82f1c3c6ad415f8fd94fed6ec58531",
    "tags": [],
    "deepnote_to_be_reexecuted": false,
    "source_hash": "dff122d0",
    "execution_start": 1654865686303,
    "execution_millis": 53249846,
    "deepnote_cell_type": "code",
    "deepnote_cell_height": 118.1875,
    "deepnote_output_heights": [
     21.1875
    ]
   },
   "source": "tensor.ndim",
   "execution_count": 11,
   "outputs": [
    {
     "output_type": "execute_result",
     "execution_count": 11,
     "data": {
      "text/plain": "3"
     },
     "metadata": {}
    }
   ]
  },
  {
   "cell_type": "markdown",
   "source": "### Resumen de esta sesión:\n- Scalar: Un solo número\n- Vector: Un número con `dirección` (e.g. la velocidad del viento en una dirección)\n- Matriz: Un Array de numeros de 2 dimensiones\n- Tensor: un Array de numeros de n-dimensiones",
   "metadata": {
    "cell_id": "45365d18d47d408db56e2c3e408df788",
    "tags": [],
    "deepnote_cell_type": "markdown",
    "deepnote_cell_height": 190.59375
   }
  },
  {
   "cell_type": "markdown",
   "source": "<img src=\"/work/ai/assets/first.png\">",
   "metadata": {
    "cell_id": "96c47ee914044762b9a87cba46bf2b33",
    "tags": [],
    "deepnote_cell_type": "markdown",
    "deepnote_cell_height": 70
   }
  },
  {
   "cell_type": "markdown",
   "source": "## Crear tensores con `tf.variable`",
   "metadata": {
    "cell_id": "186379d31a824b7abe6c0b5545ab24d0",
    "tags": [],
    "deepnote_cell_type": "markdown",
    "deepnote_cell_height": 70.5
   }
  },
  {
   "cell_type": "markdown",
   "source": "Creamos el mismo tensor con `tf.Variable()`",
   "metadata": {
    "cell_id": "42d7fda8ec6b47b7b00033c744b16063",
    "tags": [],
    "deepnote_cell_type": "markdown",
    "deepnote_cell_height": 52.390625
   }
  },
  {
   "cell_type": "code",
   "metadata": {
    "cell_id": "2a78db34946042d994b60fe84f304d5b",
    "tags": [],
    "deepnote_to_be_reexecuted": false,
    "source_hash": "9ca043ab",
    "execution_start": 1654865686303,
    "execution_millis": 53249901,
    "deepnote_cell_type": "code",
    "deepnote_cell_height": 136.1875,
    "deepnote_output_heights": [
     21.1875
    ]
   },
   "source": "changeable_tensor = tf.Variable([10, 7])\nchangeable_tensor",
   "execution_count": 12,
   "outputs": [
    {
     "output_type": "execute_result",
     "execution_count": 12,
     "data": {
      "text/plain": "<tf.Variable 'Variable:0' shape=(2,) dtype=int32, numpy=array([10,  7], dtype=int32)>"
     },
     "metadata": {}
    }
   ]
  },
  {
   "cell_type": "code",
   "metadata": {
    "cell_id": "8df5ca1b857e4efd93f3874598f2d6b2",
    "tags": [],
    "deepnote_to_be_reexecuted": false,
    "source_hash": "2f245be5",
    "execution_start": 1654865686347,
    "execution_millis": 53249917,
    "deepnote_cell_type": "code",
    "deepnote_cell_height": 136.1875,
    "deepnote_output_heights": [
     21.1875
    ]
   },
   "source": "unchangeable_tensor = tf.constant([10, 7])\nunchangeable_tensor",
   "execution_count": 13,
   "outputs": [
    {
     "output_type": "execute_result",
     "execution_count": 13,
     "data": {
      "text/plain": "<tf.Tensor: shape=(2,), dtype=int32, numpy=array([10,  7], dtype=int32)>"
     },
     "metadata": {}
    }
   ]
  },
  {
   "cell_type": "markdown",
   "source": "Ahora intentamos cambiar uno de los elementos del tensor `changeable_tensor`",
   "metadata": {
    "cell_id": "86e57153379249669cf22609e251e38d",
    "tags": [],
    "deepnote_cell_type": "markdown",
    "deepnote_cell_height": 52.390625
   }
  },
  {
   "cell_type": "code",
   "metadata": {
    "cell_id": "f90aae73298b41849a6fb98e6a6ec1fe",
    "tags": [],
    "deepnote_to_be_reexecuted": false,
    "source_hash": "de104fc0",
    "execution_start": 1654865686390,
    "execution_millis": 53249966,
    "allow_embed": true,
    "deepnote_cell_type": "code",
    "deepnote_cell_height": 201.6875
   },
   "source": "try:\n    changeable_tensor[0] = 7\n    changeable_tensor\nexcept TypeError:\n    print('TypeError: ResourceVariable object does not support item assignment')\n    ",
   "execution_count": 14,
   "outputs": [
    {
     "name": "stdout",
     "text": "TypeError: ResourceVariable object does not support item assignment\n",
     "output_type": "stream"
    }
   ]
  },
  {
   "cell_type": "markdown",
   "source": "Ahora lo intentamos con el método `.assign()`",
   "metadata": {
    "cell_id": "78154f1b9559473c9982290af33a008b",
    "tags": [],
    "deepnote_cell_type": "markdown",
    "deepnote_cell_height": 52.390625
   }
  },
  {
   "cell_type": "code",
   "metadata": {
    "cell_id": "94e582d638f047ba87d2ee495e543ef5",
    "tags": [],
    "deepnote_to_be_reexecuted": false,
    "source_hash": "3051df05",
    "execution_start": 1654865686393,
    "execution_millis": 53249984,
    "deepnote_cell_type": "code",
    "deepnote_cell_height": 136.1875
   },
   "source": "changeable_tensor[0].assign(7)\nchangeable_tensor",
   "execution_count": 15,
   "outputs": [
    {
     "output_type": "execute_result",
     "execution_count": 15,
     "data": {
      "text/plain": "<tf.Variable 'Variable:0' shape=(2,) dtype=int32, numpy=array([7, 7], dtype=int32)>"
     },
     "metadata": {}
    }
   ]
  },
  {
   "cell_type": "markdown",
   "source": "Ahora intentamos lo mismo pero con la variable `unchangeable_tensor`",
   "metadata": {
    "cell_id": "47db6e2ba15c442fa1ea87b6b1cbdc51",
    "tags": [],
    "deepnote_cell_type": "markdown",
    "deepnote_cell_height": 52.390625
   }
  },
  {
   "cell_type": "code",
   "metadata": {
    "cell_id": "958cc2e7838c4095a6e3224cdc825327",
    "tags": [],
    "deepnote_to_be_reexecuted": false,
    "source_hash": "b1974890",
    "execution_start": 1654865686462,
    "execution_millis": 53249974,
    "deepnote_cell_type": "code",
    "deepnote_cell_height": 183.6875
   },
   "source": "try:\n    unchangeable_tensor[0].assign(7)\n    unchangeable_tensor \nexcept AttributeError:\n    print('AttributeError: tensorflow.python.framework.ops.EagerTensor object has no attribute assign')",
   "execution_count": 16,
   "outputs": [
    {
     "name": "stdout",
     "text": "AttributeError: tensorflow.python.framework.ops.EagerTensor object has no attribute assign\n",
     "output_type": "stream"
    }
   ]
  },
  {
   "cell_type": "markdown",
   "source": "🔑 **Nota:** En la práctica en muy raros casos vamos a necesitar decidir cual de los tipos de tensores usar, `tf.constant` y `tf.Variable` para crear tensores ya que tensorflow lo hace por nosotros.\nPero si en algún caso no sabes que poner usa `tf.constant` y cambialo después si es necesario.",
   "metadata": {
    "cell_id": "e6c199ccb10344bd9695391cb2430ff6",
    "tags": [],
    "deepnote_cell_type": "markdown",
    "deepnote_cell_height": 97.1875
   }
  },
  {
   "cell_type": "markdown",
   "source": "## Crear tensores `random`\n\nLos tensores random son tensores de un tamaño arbitrario que contiene numeros random",
   "metadata": {
    "cell_id": "9ab5d1b939f845679d7f1fa64a8d797c",
    "tags": [],
    "deepnote_cell_type": "markdown",
    "deepnote_cell_height": 108.890625
   }
  },
  {
   "cell_type": "code",
   "metadata": {
    "cell_id": "07cd349e8467489bbd8ef31a82cc940f",
    "tags": [],
    "deepnote_to_be_reexecuted": false,
    "source_hash": "50258e31",
    "execution_start": 1654865686502,
    "execution_millis": 39,
    "deepnote_cell_type": "code",
    "deepnote_cell_height": 455.34375,
    "deepnote_output_heights": [
     232.34375
    ]
   },
   "source": "# Crear dos tensores de forma random (pero iguales)\nrandom_1 = tf.random.Generator.from_seed(42) # establecer semilla de reproducibilidad\nrandom_1 = random_1.normal(shape=(3,2))\nrandom_2 = tf.random.Generator.from_seed(42)\nrandom_2 = random_2.normal(shape=(3, 2))\n\n# Son iguales?\nrandom_1, random_2, random_1 == random_2",
   "execution_count": 17,
   "outputs": [
    {
     "output_type": "execute_result",
     "execution_count": 17,
     "data": {
      "text/plain": "(<tf.Tensor: shape=(3, 2), dtype=float32, numpy=\n array([[-0.7565803 , -0.06854702],\n        [ 0.07595026, -1.2573844 ],\n        [-0.23193763, -1.8107855 ]], dtype=float32)>,\n <tf.Tensor: shape=(3, 2), dtype=float32, numpy=\n array([[-0.7565803 , -0.06854702],\n        [ 0.07595026, -1.2573844 ],\n        [-0.23193763, -1.8107855 ]], dtype=float32)>,\n <tf.Tensor: shape=(3, 2), dtype=bool, numpy=\n array([[ True,  True],\n        [ True,  True],\n        [ True,  True]])>)"
     },
     "metadata": {}
    }
   ]
  },
  {
   "cell_type": "markdown",
   "source": "## Barajar el orden de elementos de un tensor\nBarajar un tenso)",
   "metadata": {
    "cell_id": "ecf74c30b4b845bba9cd2d325da577e9",
    "tags": [],
    "deepnote_cell_type": "markdown",
    "deepnote_cell_height": 108.390625
   }
  },
  {
   "cell_type": "code",
   "metadata": {
    "cell_id": "e0214e816acf4c739b37e18ed155d652",
    "tags": [],
    "deepnote_to_be_reexecuted": false,
    "source_hash": "61215bb4",
    "execution_start": 1654865686569,
    "execution_millis": 22,
    "deepnote_cell_type": "code",
    "deepnote_cell_height": 226.1875,
    "deepnote_output_heights": [
     21.1875
    ]
   },
   "source": "# Shuffle a tensor o Barajear un tensor \nnot_shuffled = tf.constant([\n    [10, 7],\n    [3, 4],\n    [2, 5]\n])\nnot_shuffled.ndim",
   "execution_count": 18,
   "outputs": [
    {
     "output_type": "execute_result",
     "execution_count": 18,
     "data": {
      "text/plain": "2"
     },
     "metadata": {}
    }
   ]
  },
  {
   "cell_type": "code",
   "metadata": {
    "cell_id": "f57880a05e1a4823baac22d0afe3c0ca",
    "tags": [],
    "deepnote_to_be_reexecuted": false,
    "source_hash": "87fa1984",
    "execution_start": 1654865686606,
    "execution_millis": 19,
    "deepnote_cell_type": "code",
    "deepnote_cell_height": 175.78125,
    "deepnote_output_heights": [
     78.78125
    ]
   },
   "source": "not_shuffled",
   "execution_count": 19,
   "outputs": [
    {
     "output_type": "execute_result",
     "execution_count": 19,
     "data": {
      "text/plain": "<tf.Tensor: shape=(3, 2), dtype=int32, numpy=\narray([[10,  7],\n       [ 3,  4],\n       [ 2,  5]], dtype=int32)>"
     },
     "metadata": {}
    }
   ]
  },
  {
   "cell_type": "code",
   "metadata": {
    "cell_id": "3f95d95c0b4040e1a971541280895d2c",
    "tags": [],
    "deepnote_to_be_reexecuted": false,
    "source_hash": "9ec600aa",
    "execution_start": 1654865686678,
    "execution_millis": 2,
    "deepnote_cell_type": "code",
    "deepnote_cell_height": 193.78125,
    "deepnote_output_heights": [
     78.78125
    ]
   },
   "source": "# Shuffle our non-shuffled tensor\ntf.random.shuffle(not_shuffled)",
   "execution_count": 20,
   "outputs": [
    {
     "output_type": "execute_result",
     "execution_count": 20,
     "data": {
      "text/plain": "<tf.Tensor: shape=(3, 2), dtype=int32, numpy=\narray([[ 2,  5],\n       [10,  7],\n       [ 3,  4]], dtype=int32)>"
     },
     "metadata": {}
    }
   ]
  },
  {
   "cell_type": "code",
   "metadata": {
    "cell_id": "5db7250ac02b424bb5860a9d578131cd",
    "tags": [],
    "deepnote_to_be_reexecuted": false,
    "source_hash": "87fa1984",
    "execution_start": 1654865686722,
    "execution_millis": 2,
    "deepnote_cell_type": "code",
    "deepnote_cell_height": 175.78125,
    "deepnote_output_heights": [
     78.78125
    ]
   },
   "source": "not_shuffled",
   "execution_count": 21,
   "outputs": [
    {
     "output_type": "execute_result",
     "execution_count": 21,
     "data": {
      "text/plain": "<tf.Tensor: shape=(3, 2), dtype=int32, numpy=\narray([[10,  7],\n       [ 3,  4],\n       [ 2,  5]], dtype=int32)>"
     },
     "metadata": {}
    }
   ]
  },
  {
   "cell_type": "markdown",
   "source": "**Ejercicio**: Leer la documentación de `tensorflow` para generar [`random seed`](https://www.tensorflow.org/api_docs/python/tf/random/set_seed):\n\nPracticar escribiendo 5 tensores random\n\nParece que si queremos que nuestros tensores barajados estén en el mismo orden, tenemos que usar la semilla aleatoria de nivel global, así como la semilla aleatoria de nivel de operación:\n\n> Rule 4: \"If both the global and the operation seed are set: Both seeds are used in conjunction to determine the random sequence.\"\n",
   "metadata": {
    "cell_id": "dd77de2c2eb744d09bb84787d7e0631a",
    "tags": [],
    "deepnote_cell_type": "markdown",
    "deepnote_cell_height": 220.390625
   }
  },
  {
   "cell_type": "code",
   "metadata": {
    "cell_id": "ff0ff0c12f774d61b002294f6705acb2",
    "tags": [],
    "deepnote_to_be_reexecuted": false,
    "source_hash": "8d510dab",
    "execution_start": 1654865686756,
    "execution_millis": 11,
    "deepnote_cell_type": "code",
    "deepnote_cell_height": 193.75
   },
   "source": "tf.random.set_seed(42) # Global level random\ntf.random.shuffle(not_shuffled, seed=42) # Operation level random seed",
   "execution_count": 22,
   "outputs": [
    {
     "output_type": "execute_result",
     "execution_count": 22,
     "data": {
      "text/plain": "<tf.Tensor: shape=(3, 2), dtype=int32, numpy=\narray([[10,  7],\n       [ 3,  4],\n       [ 2,  5]], dtype=int32)>"
     },
     "metadata": {}
    }
   ]
  },
  {
   "cell_type": "markdown",
   "source": "## Otras formas de crear tensores",
   "metadata": {
    "cell_id": "ae2b574fbc7345e2ac62091ff676bf71",
    "tags": [],
    "deepnote_cell_type": "markdown",
    "deepnote_cell_height": 70
   }
  },
  {
   "cell_type": "code",
   "metadata": {
    "cell_id": "29c9de41e28b4d9e9e318b60c3dccbb0",
    "tags": [],
    "deepnote_to_be_reexecuted": false,
    "source_hash": "9a75a9e7",
    "execution_start": 1654865686834,
    "execution_millis": 46,
    "deepnote_cell_type": "code",
    "deepnote_cell_height": 328.140625,
    "deepnote_output_heights": [
     213.140625
    ]
   },
   "source": "# Creat tensores con puros unos\ntf.ones([10, 7])",
   "execution_count": 23,
   "outputs": [
    {
     "output_type": "execute_result",
     "execution_count": 23,
     "data": {
      "text/plain": "<tf.Tensor: shape=(10, 7), dtype=float32, numpy=\narray([[1., 1., 1., 1., 1., 1., 1.],\n       [1., 1., 1., 1., 1., 1., 1.],\n       [1., 1., 1., 1., 1., 1., 1.],\n       [1., 1., 1., 1., 1., 1., 1.],\n       [1., 1., 1., 1., 1., 1., 1.],\n       [1., 1., 1., 1., 1., 1., 1.],\n       [1., 1., 1., 1., 1., 1., 1.],\n       [1., 1., 1., 1., 1., 1., 1.],\n       [1., 1., 1., 1., 1., 1., 1.],\n       [1., 1., 1., 1., 1., 1., 1.]], dtype=float32)>"
     },
     "metadata": {}
    }
   ]
  },
  {
   "cell_type": "code",
   "metadata": {
    "cell_id": "6a28aedc0da74afb949cdb517732281f",
    "tags": [],
    "deepnote_to_be_reexecuted": false,
    "source_hash": "54be04be",
    "execution_start": 1654865686902,
    "execution_millis": 82,
    "deepnote_cell_type": "code",
    "deepnote_cell_height": 193.78125,
    "deepnote_output_heights": [
     78.78125
    ]
   },
   "source": "# Crear tensores con puros ceros\ntf.zeros(shape=(3,4))",
   "execution_count": 24,
   "outputs": [
    {
     "output_type": "execute_result",
     "execution_count": 24,
     "data": {
      "text/plain": "<tf.Tensor: shape=(3, 4), dtype=float32, numpy=\narray([[0., 0., 0., 0.],\n       [0., 0., 0., 0.],\n       [0., 0., 0., 0.]], dtype=float32)>"
     },
     "metadata": {}
    }
   ]
  },
  {
   "cell_type": "markdown",
   "source": "### Convertir arrays de numpy en tensores\n\nLa principal diferencia entre arrays de numpy y los tensores de tensorflow es que los tensores puden correr en una gpu mucho más rápido para la computación numérica",
   "metadata": {
    "cell_id": "f217c08d5d3a4679bd1fc5ffa470801e",
    "tags": [],
    "deepnote_cell_type": "markdown",
    "deepnote_cell_height": 122.796875
   }
  },
  {
   "cell_type": "code",
   "metadata": {
    "cell_id": "1a3ee90895c641a4b0cc3a4d3e7a2b17",
    "tags": [],
    "deepnote_to_be_reexecuted": false,
    "source_hash": "edcdc7d7",
    "execution_start": 1654865686982,
    "execution_millis": 2,
    "deepnote_cell_type": "code",
    "deepnote_cell_height": 245.375
   },
   "source": "# Tambien podemos convertir arrays de numpy a tensores\nimport numpy as np\nnumpy_A = np.arange(1, 25, dtype=np.int32) # Crear un array de numpy entre 1 y 25\nnumpy_A\n\n# X = tf.constant(some_matrix) # Se una la mayuscula para matrizes o tensores\n# y = tf.constant(vector) # non-capital se usa para vectores",
   "execution_count": 25,
   "outputs": [
    {
     "output_type": "execute_result",
     "execution_count": 25,
     "data": {
      "text/plain": "array([ 1,  2,  3,  4,  5,  6,  7,  8,  9, 10, 11, 12, 13, 14, 15, 16, 17,\n       18, 19, 20, 21, 22, 23, 24], dtype=int32)"
     },
     "metadata": {}
    }
   ]
  },
  {
   "cell_type": "code",
   "metadata": {
    "cell_id": "572ce3427b22463796b7576513bed247",
    "tags": [],
    "deepnote_to_be_reexecuted": false,
    "source_hash": "b90e1e88",
    "execution_start": 1654865687027,
    "execution_millis": 12,
    "deepnote_cell_type": "code",
    "deepnote_cell_height": 346.0625
   },
   "source": "A = tf.constant(numpy_A, shape=(2,3,4))\nB = tf.constant(numpy_A, )\nA, B",
   "execution_count": 26,
   "outputs": [
    {
     "output_type": "execute_result",
     "execution_count": 26,
     "data": {
      "text/plain": "(<tf.Tensor: shape=(2, 3, 4), dtype=int32, numpy=\n array([[[ 1,  2,  3,  4],\n         [ 5,  6,  7,  8],\n         [ 9, 10, 11, 12]],\n \n        [[13, 14, 15, 16],\n         [17, 18, 19, 20],\n         [21, 22, 23, 24]]], dtype=int32)>,\n <tf.Tensor: shape=(24,), dtype=int32, numpy=\n array([ 1,  2,  3,  4,  5,  6,  7,  8,  9, 10, 11, 12, 13, 14, 15, 16, 17,\n        18, 19, 20, 21, 22, 23, 24], dtype=int32)>)"
     },
     "metadata": {}
    }
   ]
  },
  {
   "cell_type": "code",
   "metadata": {
    "cell_id": "82978913f99b49e995c4052ecf66406a",
    "tags": [],
    "deepnote_to_be_reexecuted": false,
    "source_hash": "4bd16329",
    "execution_start": 1654865687090,
    "execution_millis": 53250361,
    "deepnote_cell_type": "code",
    "deepnote_cell_height": 269.359375,
    "deepnote_output_heights": [
     136.359375
    ]
   },
   "source": "A = tf.constant(numpy_A, shape=(3, 8))\nB = tf.constant(numpy_A, )\nA, B",
   "execution_count": 27,
   "outputs": [
    {
     "output_type": "execute_result",
     "execution_count": 27,
     "data": {
      "text/plain": "(<tf.Tensor: shape=(3, 8), dtype=int32, numpy=\n array([[ 1,  2,  3,  4,  5,  6,  7,  8],\n        [ 9, 10, 11, 12, 13, 14, 15, 16],\n        [17, 18, 19, 20, 21, 22, 23, 24]], dtype=int32)>,\n <tf.Tensor: shape=(24,), dtype=int32, numpy=\n array([ 1,  2,  3,  4,  5,  6,  7,  8,  9, 10, 11, 12, 13, 14, 15, 16, 17,\n        18, 19, 20, 21, 22, 23, 24], dtype=int32)>)"
     },
     "metadata": {}
    }
   ]
  },
  {
   "cell_type": "code",
   "metadata": {
    "cell_id": "01a45ba714ce4e37bfac003627979303",
    "tags": [],
    "deepnote_to_be_reexecuted": false,
    "source_hash": "cc79ca62",
    "execution_start": 1654865687154,
    "execution_millis": 53250372,
    "deepnote_cell_type": "code",
    "deepnote_cell_height": 118.1875,
    "deepnote_output_heights": [
     21.1875
    ]
   },
   "source": "A.ndim",
   "execution_count": 28,
   "outputs": [
    {
     "output_type": "execute_result",
     "execution_count": 28,
     "data": {
      "text/plain": "2"
     },
     "metadata": {}
    }
   ]
  },
  {
   "cell_type": "markdown",
   "source": "### Obtener información de tensores\n\nCuando se trata de tensores, probablemente desee conocer los siguientes atributos:\n\n- Shape\n- Rank\n- Axis or dimension \n- Size",
   "metadata": {
    "cell_id": "3f4cd07715b1498496ade89d1062e013",
    "tags": [],
    "deepnote_cell_type": "markdown",
    "deepnote_cell_height": 226.984375
   }
  },
  {
   "cell_type": "code",
   "metadata": {
    "cell_id": "bb5b9e2f6f704603bef06004e58cca0e",
    "tags": [],
    "deepnote_to_be_reexecuted": false,
    "source_hash": "6037b99e",
    "execution_start": 1654865687198,
    "execution_millis": 79,
    "deepnote_cell_type": "code",
    "deepnote_cell_height": 354
   },
   "source": "pd.DataFrame({'Atribute': ['Sape', 'Rank', 'Axis or dimension', 'Size'], 'Meaning': ['the length (number of elements) of each of the dimesions of a tensor','The number of tensor dimensions. A scalar has rank 0, a vector has rank 1, a matrix is rank 2, a tensor has rank n','A particular dimension of a tensor', 'The total number of items in the tensor'], 'Code': ['tensor.shape', 'tensor.ndim', 'tensor[0], tensor[:, 1]', 'tf.size(tensor']})",
   "execution_count": 29,
   "outputs": [
    {
     "output_type": "execute_result",
     "execution_count": 29,
     "data": {
      "application/vnd.deepnote.dataframe.v3+json": {
       "column_count": 3,
       "row_count": 4,
       "columns": [
        {
         "name": "Atribute",
         "dtype": "object",
         "stats": {
          "unique_count": 4,
          "nan_count": 0,
          "categories": [
           {
            "name": "Sape",
            "count": 1
           },
           {
            "name": "Rank",
            "count": 1
           },
           {
            "name": "2 others",
            "count": 2
           }
          ]
         }
        },
        {
         "name": "Meaning",
         "dtype": "object",
         "stats": {
          "unique_count": 4,
          "nan_count": 0,
          "categories": [
           {
            "name": "the length (number of elements) of each of the dimesions of a tensor",
            "count": 1
           },
           {
            "name": "The number of tensor dimensions. A scalar has rank 0, a vector has rank 1, a matrix is rank 2, a tensor has rank n",
            "count": 1
           },
           {
            "name": "2 others",
            "count": 2
           }
          ]
         }
        },
        {
         "name": "Code",
         "dtype": "object",
         "stats": {
          "unique_count": 4,
          "nan_count": 0,
          "categories": [
           {
            "name": "tensor.shape",
            "count": 1
           },
           {
            "name": "tensor.ndim",
            "count": 1
           },
           {
            "name": "2 others",
            "count": 2
           }
          ]
         }
        },
        {
         "name": "_deepnote_index_column",
         "dtype": "int64"
        }
       ],
       "rows": [
        {
         "Atribute": "Sape",
         "Meaning": "the length (number of elements) of each of the dimesions of a tensor",
         "Code": "tensor.shape",
         "_deepnote_index_column": 0
        },
        {
         "Atribute": "Rank",
         "Meaning": "The number of tensor dimensions. A scalar has rank 0, a vector has rank 1, a matrix is rank 2, a tensor has rank n",
         "Code": "tensor.ndim",
         "_deepnote_index_column": 1
        },
        {
         "Atribute": "Axis or dimension",
         "Meaning": "A particular dimension of a tensor",
         "Code": "tensor[0], tensor[:, 1]",
         "_deepnote_index_column": 2
        },
        {
         "Atribute": "Size",
         "Meaning": "The total number of items in the tensor",
         "Code": "tf.size(tensor",
         "_deepnote_index_column": 3
        }
       ]
      },
      "text/plain": "            Atribute                                            Meaning  \\\n0               Sape  the length (number of elements) of each of the...   \n1               Rank  The number of tensor dimensions. A scalar has ...   \n2  Axis or dimension                 A particular dimension of a tensor   \n3               Size            The total number of items in the tensor   \n\n                      Code  \n0             tensor.shape  \n1              tensor.ndim  \n2  tensor[0], tensor[:, 1]  \n3           tf.size(tensor  ",
      "text/html": "<div>\n<style scoped>\n    .dataframe tbody tr th:only-of-type {\n        vertical-align: middle;\n    }\n\n    .dataframe tbody tr th {\n        vertical-align: top;\n    }\n\n    .dataframe thead th {\n        text-align: right;\n    }\n</style>\n<table border=\"1\" class=\"dataframe\">\n  <thead>\n    <tr style=\"text-align: right;\">\n      <th></th>\n      <th>Atribute</th>\n      <th>Meaning</th>\n      <th>Code</th>\n    </tr>\n  </thead>\n  <tbody>\n    <tr>\n      <th>0</th>\n      <td>Sape</td>\n      <td>the length (number of elements) of each of the...</td>\n      <td>tensor.shape</td>\n    </tr>\n    <tr>\n      <th>1</th>\n      <td>Rank</td>\n      <td>The number of tensor dimensions. A scalar has ...</td>\n      <td>tensor.ndim</td>\n    </tr>\n    <tr>\n      <th>2</th>\n      <td>Axis or dimension</td>\n      <td>A particular dimension of a tensor</td>\n      <td>tensor[0], tensor[:, 1]</td>\n    </tr>\n    <tr>\n      <th>3</th>\n      <td>Size</td>\n      <td>The total number of items in the tensor</td>\n      <td>tf.size(tensor</td>\n    </tr>\n  </tbody>\n</table>\n</div>"
     },
     "metadata": {}
    }
   ]
  },
  {
   "cell_type": "code",
   "metadata": {
    "cell_id": "0a9be6a73b0e4a609dbdb1353259d165",
    "tags": [],
    "deepnote_to_be_reexecuted": false,
    "source_hash": "a6d56b11",
    "execution_start": 1654865687269,
    "execution_millis": 9,
    "deepnote_cell_type": "code",
    "deepnote_cell_height": 729.8125
   },
   "source": "# Crear un tensor con rank 4 (de 4 dimensiones)\nrank_4_tensor = tf.zeros(shape=[2,3,4,5])\nrank_4_tensor",
   "execution_count": 30,
   "outputs": [
    {
     "output_type": "execute_result",
     "execution_count": 30,
     "data": {
      "text/plain": "<tf.Tensor: shape=(2, 3, 4, 5), dtype=float32, numpy=\narray([[[[0., 0., 0., 0., 0.],\n         [0., 0., 0., 0., 0.],\n         [0., 0., 0., 0., 0.],\n         [0., 0., 0., 0., 0.]],\n\n        [[0., 0., 0., 0., 0.],\n         [0., 0., 0., 0., 0.],\n         [0., 0., 0., 0., 0.],\n         [0., 0., 0., 0., 0.]],\n\n        [[0., 0., 0., 0., 0.],\n         [0., 0., 0., 0., 0.],\n         [0., 0., 0., 0., 0.],\n         [0., 0., 0., 0., 0.]]],\n\n\n       [[[0., 0., 0., 0., 0.],\n         [0., 0., 0., 0., 0.],\n         [0., 0., 0., 0., 0.],\n         [0., 0., 0., 0., 0.]],\n\n        [[0., 0., 0., 0., 0.],\n         [0., 0., 0., 0., 0.],\n         [0., 0., 0., 0., 0.],\n         [0., 0., 0., 0., 0.]],\n\n        [[0., 0., 0., 0., 0.],\n         [0., 0., 0., 0., 0.],\n         [0., 0., 0., 0., 0.],\n         [0., 0., 0., 0., 0.]]]], dtype=float32)>"
     },
     "metadata": {}
    }
   ]
  },
  {
   "cell_type": "code",
   "metadata": {
    "cell_id": "745dfda4413f43a783718a6e0bcd709d",
    "tags": [],
    "deepnote_to_be_reexecuted": false,
    "source_hash": "b7bdb1e2",
    "execution_start": 1654865687279,
    "execution_millis": 58,
    "deepnote_cell_type": "code",
    "deepnote_cell_height": 387
   },
   "source": "rank_4_tensor[0]",
   "execution_count": 31,
   "outputs": [
    {
     "output_type": "execute_result",
     "execution_count": 31,
     "data": {
      "text/plain": "<tf.Tensor: shape=(3, 4, 5), dtype=float32, numpy=\narray([[[0., 0., 0., 0., 0.],\n        [0., 0., 0., 0., 0.],\n        [0., 0., 0., 0., 0.],\n        [0., 0., 0., 0., 0.]],\n\n       [[0., 0., 0., 0., 0.],\n        [0., 0., 0., 0., 0.],\n        [0., 0., 0., 0., 0.],\n        [0., 0., 0., 0., 0.]],\n\n       [[0., 0., 0., 0., 0.],\n        [0., 0., 0., 0., 0.],\n        [0., 0., 0., 0., 0.],\n        [0., 0., 0., 0., 0.]]], dtype=float32)>"
     },
     "metadata": {}
    }
   ]
  },
  {
   "cell_type": "code",
   "metadata": {
    "cell_id": "7affa3481a724b7d98fc28c19c890a16",
    "tags": [],
    "deepnote_to_be_reexecuted": false,
    "source_hash": "5c4decd7",
    "execution_start": 1654865687340,
    "execution_millis": 53250439,
    "deepnote_cell_type": "code",
    "deepnote_cell_height": 118.1875
   },
   "source": "rank_4_tensor.shape, rank_4_tensor.ndim, tf.size(rank_4_tensor)",
   "execution_count": 32,
   "outputs": [
    {
     "output_type": "execute_result",
     "execution_count": 32,
     "data": {
      "text/plain": "(TensorShape([2, 3, 4, 5]), 4, <tf.Tensor: shape=(), dtype=int32, numpy=120>)"
     },
     "metadata": {}
    }
   ]
  },
  {
   "cell_type": "code",
   "metadata": {
    "cell_id": "985de8bdc8d84b079072a096773e5937",
    "tags": [],
    "deepnote_to_be_reexecuted": false,
    "source_hash": "47f3d890",
    "execution_start": 1654865687406,
    "execution_millis": 53250415,
    "deepnote_cell_type": "code",
    "deepnote_cell_height": 118.1875
   },
   "source": "2*3*4*5",
   "execution_count": 33,
   "outputs": [
    {
     "output_type": "execute_result",
     "execution_count": 33,
     "data": {
      "text/plain": "120"
     },
     "metadata": {}
    }
   ]
  },
  {
   "cell_type": "code",
   "metadata": {
    "cell_id": "2785fae089714fd3b5ce89daebc1926d",
    "tags": [],
    "deepnote_to_be_reexecuted": false,
    "source_hash": "d4c4a1e9",
    "execution_start": 1654865687453,
    "execution_millis": 53250462,
    "deepnote_cell_type": "code",
    "deepnote_cell_height": 355.859375
   },
   "source": "# Obtener varios atributos de un tensor\nprint(f'Datatype of every element: {rank_4_tensor.dtype}')\nprint(f'Número de dimensiones (rank): {rank_4_tensor.ndim}')\nprint(f'Forma o shape del tensor: {rank_4_tensor.shape}')\nprint(f'Elementos del eje (axis) 0: {rank_4_tensor.shape[0]}')\nprint(f'Elementos del último eje o axis: {rank_4_tensor.shape[-1]}')\nprint('Numero total de elementos en nuestro tensor: ', tf.size(rank_4_tensor))\nprint('Numero total de elementos en nuestro tensor: ', tf.size(rank_4_tensor).numpy())",
   "execution_count": 34,
   "outputs": [
    {
     "name": "stdout",
     "text": "Datatype of every element: <dtype: 'float32'>\nNúmero de dimensiones (rank): 4\nForma o shape del tensor: (2, 3, 4, 5)\nElementos del eje (axis) 0: 2\nElementos del último eje o axis: 5\nNumero total de elementos en nuestro tensor:  tf.Tensor(120, shape=(), dtype=int32)\nNumero total de elementos en nuestro tensor:  120\n",
     "output_type": "stream"
    }
   ]
  },
  {
   "cell_type": "markdown",
   "source": "### Indexar tensores\n\nLos tensores se pueden indexar como una lista de python",
   "metadata": {
    "cell_id": "3d56dbe81cf248a88a10ea1ba8dd1822",
    "tags": [],
    "deepnote_cell_type": "markdown",
    "deepnote_cell_height": 100.390625
   }
  },
  {
   "cell_type": "code",
   "metadata": {
    "cell_id": "1bc823d7f23e4a628a31c18b4ab67d4c",
    "tags": [],
    "deepnote_to_be_reexecuted": false,
    "source_hash": "820c0ebd",
    "execution_start": 1654865687495,
    "execution_millis": 574,
    "deepnote_cell_type": "code",
    "deepnote_cell_height": 730.046875,
    "deepnote_output_heights": [
     597.046875
    ]
   },
   "source": "# Obtener los primeros 2 elementos para cada dimensión\nrank_4_tensor\n",
   "execution_count": 35,
   "outputs": [
    {
     "output_type": "execute_result",
     "execution_count": 35,
     "data": {
      "text/plain": "<tf.Tensor: shape=(2, 3, 4, 5), dtype=float32, numpy=\narray([[[[0., 0., 0., 0., 0.],\n         [0., 0., 0., 0., 0.],\n         [0., 0., 0., 0., 0.],\n         [0., 0., 0., 0., 0.]],\n\n        [[0., 0., 0., 0., 0.],\n         [0., 0., 0., 0., 0.],\n         [0., 0., 0., 0., 0.],\n         [0., 0., 0., 0., 0.]],\n\n        [[0., 0., 0., 0., 0.],\n         [0., 0., 0., 0., 0.],\n         [0., 0., 0., 0., 0.],\n         [0., 0., 0., 0., 0.]]],\n\n\n       [[[0., 0., 0., 0., 0.],\n         [0., 0., 0., 0., 0.],\n         [0., 0., 0., 0., 0.],\n         [0., 0., 0., 0., 0.]],\n\n        [[0., 0., 0., 0., 0.],\n         [0., 0., 0., 0., 0.],\n         [0., 0., 0., 0., 0.],\n         [0., 0., 0., 0., 0.]],\n\n        [[0., 0., 0., 0., 0.],\n         [0., 0., 0., 0., 0.],\n         [0., 0., 0., 0., 0.],\n         [0., 0., 0., 0., 0.]]]], dtype=float32)>"
     },
     "metadata": {}
    }
   ]
  },
  {
   "cell_type": "code",
   "metadata": {
    "cell_id": "e4e9daba2b004accb79749d7366f167f",
    "tags": [],
    "deepnote_to_be_reexecuted": false,
    "source_hash": "e61da413",
    "execution_start": 1654865687547,
    "execution_millis": 525,
    "deepnote_cell_type": "code",
    "deepnote_cell_height": 136.1875,
    "deepnote_output_heights": [
     21.1875
    ]
   },
   "source": "some_list = [1,2,3,4]\nsome_list[:2]",
   "execution_count": 36,
   "outputs": [
    {
     "output_type": "execute_result",
     "execution_count": 36,
     "data": {
      "text/plain": "[1, 2]"
     },
     "metadata": {}
    }
   ]
  },
  {
   "cell_type": "code",
   "metadata": {
    "cell_id": "e03100309f6d44a0bc8c9147724eabdd",
    "tags": [],
    "deepnote_to_be_reexecuted": false,
    "source_hash": "343826ce",
    "execution_start": 1654865687598,
    "execution_millis": 53250484,
    "deepnote_cell_type": "code",
    "deepnote_cell_height": 348.53125,
    "deepnote_output_heights": [
     251.53125
    ]
   },
   "source": "rank_4_tensor[:2, :2, :2, :2]",
   "execution_count": 37,
   "outputs": [
    {
     "output_type": "execute_result",
     "execution_count": 37,
     "data": {
      "text/plain": "<tf.Tensor: shape=(2, 2, 2, 2), dtype=float32, numpy=\narray([[[[0., 0.],\n         [0., 0.]],\n\n        [[0., 0.],\n         [0., 0.]]],\n\n\n       [[[0., 0.],\n         [0., 0.]],\n\n        [[0., 0.],\n         [0., 0.]]]], dtype=float32)>"
     },
     "metadata": {}
    }
   ]
  },
  {
   "cell_type": "code",
   "metadata": {
    "cell_id": "e7b58204f84949febf2b799c19bff844",
    "tags": [],
    "deepnote_to_be_reexecuted": false,
    "source_hash": "1e2a88b0",
    "execution_start": 1654865687634,
    "execution_millis": 441,
    "deepnote_cell_type": "code",
    "deepnote_cell_height": 136.1875,
    "deepnote_output_heights": [
     21.1875
    ]
   },
   "source": "# Obtener el primer elemento para cada dimensión por cada índice excepto para el final\nrank_4_tensor[:1, :1, :1, :]",
   "execution_count": 38,
   "outputs": [
    {
     "output_type": "execute_result",
     "execution_count": 38,
     "data": {
      "text/plain": "<tf.Tensor: shape=(1, 1, 1, 5), dtype=float32, numpy=array([[[[0., 0., 0., 0., 0.]]]], dtype=float32)>"
     },
     "metadata": {}
    }
   ]
  },
  {
   "cell_type": "code",
   "metadata": {
    "cell_id": "b6770da106a4401797b9b9ea30011b7e",
    "tags": [],
    "deepnote_to_be_reexecuted": false,
    "source_hash": "90ba0fab",
    "execution_start": 1654865687664,
    "execution_millis": 53250525,
    "deepnote_cell_type": "code",
    "deepnote_cell_height": 154.1875,
    "deepnote_output_heights": [
     21.1875
    ]
   },
   "source": "# Crear un tensor de rank 2 (2 dimensiones)\nrank_2_tensor = tf.constant([[10, 7], [3, 4], [2,6]])\nrank_2_tensor.shape, rank_2_tensor.ndim",
   "execution_count": 39,
   "outputs": [
    {
     "output_type": "execute_result",
     "execution_count": 39,
     "data": {
      "text/plain": "(TensorShape([3, 2]), 2)"
     },
     "metadata": {}
    }
   ]
  },
  {
   "cell_type": "code",
   "metadata": {
    "cell_id": "f975f1f3e62d49ebacde4029e3f0fb92",
    "tags": [],
    "deepnote_to_be_reexecuted": false,
    "source_hash": "5481a536",
    "execution_start": 1654865687722,
    "execution_millis": 366,
    "deepnote_cell_type": "code",
    "deepnote_cell_height": 175.78125,
    "deepnote_output_heights": [
     78.78125
    ]
   },
   "source": "rank_2_tensor",
   "execution_count": 40,
   "outputs": [
    {
     "output_type": "execute_result",
     "execution_count": 40,
     "data": {
      "text/plain": "<tf.Tensor: shape=(3, 2), dtype=int32, numpy=\narray([[10,  7],\n       [ 3,  4],\n       [ 2,  6]], dtype=int32)>"
     },
     "metadata": {}
    }
   ]
  },
  {
   "cell_type": "code",
   "metadata": {
    "cell_id": "bca5f499e0b8468da86ff7b30fdb95e0",
    "tags": [],
    "deepnote_to_be_reexecuted": false,
    "source_hash": "7d718836",
    "execution_start": 1654865687723,
    "execution_millis": 370,
    "deepnote_cell_type": "code",
    "deepnote_cell_height": 174.578125,
    "deepnote_output_heights": [
     59.578125
    ]
   },
   "source": "# Obtener el último artículo de cada fila de nuestro tensor\nrank_2_tensor[:-1, :1]",
   "execution_count": 41,
   "outputs": [
    {
     "output_type": "execute_result",
     "execution_count": 41,
     "data": {
      "text/plain": "<tf.Tensor: shape=(2, 1), dtype=int32, numpy=\narray([[10],\n       [ 3]], dtype=int32)>"
     },
     "metadata": {}
    }
   ]
  },
  {
   "cell_type": "code",
   "metadata": {
    "cell_id": "3effbc39d96344fb8ca7e79216e3d815",
    "tags": [],
    "deepnote_to_be_reexecuted": false,
    "source_hash": "25c5d271",
    "execution_start": 1654865687767,
    "execution_millis": 328,
    "deepnote_cell_type": "code",
    "deepnote_cell_height": 742.203125,
    "deepnote_output_heights": [
     null,
     174.75
    ]
   },
   "source": "# Añadir una dimensión extra a unestro tensor de 2 dimensiones\nrank_3_tensor = rank_2_tensor[..., tf.newaxis] # Los tres puntos lo que significa es en cada en cada entrada anterior lo aplique también se puede ver de la siguiente manera:\nprint('Agregar una entrada con los tres puntos' ,rank_3_tensor)\nrank_3_tensor = rank_2_tensor[:, :, tf.newaxis]\nprint('Agregar una entrada de forma manual' ,rank_3_tensor)\nrank_3_tensor",
   "execution_count": 42,
   "outputs": [
    {
     "name": "stdout",
     "text": "Agregar una entrada con los tres puntos tf.Tensor(\n[[[10]\n  [ 7]]\n\n [[ 3]\n  [ 4]]\n\n [[ 2]\n  [ 6]]], shape=(3, 2, 1), dtype=int32)\nAgregar una entrada de forma manual tf.Tensor(\n[[[10]\n  [ 7]]\n\n [[ 3]\n  [ 4]]\n\n [[ 2]\n  [ 6]]], shape=(3, 2, 1), dtype=int32)\n",
     "output_type": "stream"
    },
    {
     "output_type": "execute_result",
     "execution_count": 42,
     "data": {
      "text/plain": "<tf.Tensor: shape=(3, 2, 1), dtype=int32, numpy=\narray([[[10],\n        [ 7]],\n\n       [[ 3],\n        [ 4]],\n\n       [[ 2],\n        [ 6]]], dtype=int32)>"
     },
     "metadata": {}
    }
   ]
  },
  {
   "cell_type": "code",
   "metadata": {
    "cell_id": "34cda84c6a044e01a2683d81fc729ea7",
    "tags": [],
    "deepnote_to_be_reexecuted": false,
    "source_hash": "a1015810",
    "execution_start": 1654865687810,
    "execution_millis": 285,
    "deepnote_cell_type": "code",
    "deepnote_cell_height": 289.75,
    "deepnote_output_heights": [
     174.75
    ]
   },
   "source": "# Otra forma para agregar otra dimensión a nuestro tensor es tf.newaxis\ntf.expand_dims(rank_2_tensor, axis=-1) # '-1' lo que significa es que lo vamos a expandir en el último eje",
   "execution_count": 43,
   "outputs": [
    {
     "output_type": "execute_result",
     "execution_count": 43,
     "data": {
      "text/plain": "<tf.Tensor: shape=(3, 2, 1), dtype=int32, numpy=\narray([[[10],\n        [ 7]],\n\n       [[ 3],\n        [ 4]],\n\n       [[ 2],\n        [ 6]]], dtype=int32)>"
     },
     "metadata": {}
    }
   ]
  },
  {
   "cell_type": "code",
   "metadata": {
    "cell_id": "359c61c843b246838742850542b46f91",
    "tags": [],
    "deepnote_to_be_reexecuted": false,
    "source_hash": "8403a70b",
    "execution_start": 1654865687811,
    "execution_millis": 285,
    "deepnote_cell_type": "code",
    "deepnote_cell_height": 193.78125,
    "deepnote_output_heights": [
     78.78125
    ]
   },
   "source": "# Expandir el axis 0\ntf.expand_dims(rank_2_tensor, axis=0) # '0' lo que significa es que lo vamos a expandir en el primer eje",
   "execution_count": 44,
   "outputs": [
    {
     "output_type": "execute_result",
     "execution_count": 44,
     "data": {
      "text/plain": "<tf.Tensor: shape=(1, 3, 2), dtype=int32, numpy=\narray([[[10,  7],\n        [ 3,  4],\n        [ 2,  6]]], dtype=int32)>"
     },
     "metadata": {}
    }
   ]
  },
  {
   "cell_type": "code",
   "metadata": {
    "cell_id": "bac742a8a6d441eab5d619755c60a9e5",
    "tags": [],
    "deepnote_to_be_reexecuted": false,
    "source_hash": "5481a536",
    "execution_start": 1654865687836,
    "execution_millis": 260,
    "deepnote_cell_type": "code",
    "deepnote_cell_height": 175.78125,
    "deepnote_output_heights": [
     78.78125
    ]
   },
   "source": "rank_2_tensor",
   "execution_count": 45,
   "outputs": [
    {
     "output_type": "execute_result",
     "execution_count": 45,
     "data": {
      "text/plain": "<tf.Tensor: shape=(3, 2), dtype=int32, numpy=\narray([[10,  7],\n       [ 3,  4],\n       [ 2,  6]], dtype=int32)>"
     },
     "metadata": {}
    }
   ]
  },
  {
   "cell_type": "markdown",
   "source": "### Manipular Tensores(operaciones con tensores)\n**Operaciones básicas**\n\n`+`, `-`, `*`, `/`",
   "metadata": {
    "cell_id": "07dd10fcdeb24d2a9ee68e1a9918ea5f",
    "tags": [],
    "deepnote_cell_type": "markdown",
    "deepnote_cell_height": 136.796875
   }
  },
  {
   "cell_type": "code",
   "metadata": {
    "cell_id": "ae95102703494085bc9489a423d75b78",
    "tags": [],
    "deepnote_to_be_reexecuted": false,
    "source_hash": "2e2120a5",
    "execution_start": 1654865700610,
    "execution_millis": 21,
    "deepnote_cell_type": "code",
    "deepnote_cell_height": 192.578125,
    "deepnote_output_heights": [
     59.578125
    ]
   },
   "source": "# Podemos sumar valores a un tensor usando el operador de `suma`\ntensor = tf.constant([[10, 7], [3, 4]])\ntensor + 10",
   "execution_count": 48,
   "outputs": [
    {
     "output_type": "execute_result",
     "execution_count": 48,
     "data": {
      "text/plain": "<tf.Tensor: shape=(2, 2), dtype=int32, numpy=\narray([[20, 17],\n       [13, 14]], dtype=int32)>"
     },
     "metadata": {}
    }
   ]
  },
  {
   "cell_type": "code",
   "metadata": {
    "cell_id": "7b577f7a54c146839484ac2e3f06f712",
    "tags": [],
    "deepnote_to_be_reexecuted": false,
    "source_hash": "4e96c70d",
    "execution_start": 1654865701064,
    "execution_millis": 34,
    "deepnote_cell_type": "code",
    "deepnote_cell_height": 174.578125,
    "deepnote_output_heights": [
     59.578125
    ]
   },
   "source": "# De esta manera no estamos afectando al tensor original\ntensor",
   "execution_count": 49,
   "outputs": [
    {
     "output_type": "execute_result",
     "execution_count": 49,
     "data": {
      "text/plain": "<tf.Tensor: shape=(2, 2), dtype=int32, numpy=\narray([[10,  7],\n       [ 3,  4]], dtype=int32)>"
     },
     "metadata": {}
    }
   ]
  },
  {
   "cell_type": "code",
   "source": "# Tambíen podemos multiplicar de la siguiente manera\ntensor * 10",
   "metadata": {
    "cell_id": "cad135508874422bb14aa7f85f210f3c",
    "tags": [],
    "deepnote_to_be_reexecuted": false,
    "source_hash": "de13bb1b",
    "execution_start": 1654865811496,
    "execution_millis": 6,
    "deepnote_cell_type": "code",
    "deepnote_cell_height": 174.578125,
    "deepnote_output_heights": [
     59.578125
    ]
   },
   "outputs": [
    {
     "output_type": "execute_result",
     "execution_count": 51,
     "data": {
      "text/plain": "<tf.Tensor: shape=(2, 2), dtype=int32, numpy=\narray([[100,  70],\n       [ 30,  40]], dtype=int32)>"
     },
     "metadata": {}
    }
   ],
   "execution_count": 51
  },
  {
   "cell_type": "code",
   "source": "# Si queremos también se puede restar\ntensor - 10",
   "metadata": {
    "cell_id": "5c97f39ee14e453fad2e165d28fd173a",
    "tags": [],
    "deepnote_to_be_reexecuted": false,
    "source_hash": "58a5fa89",
    "execution_start": 1654865811578,
    "execution_millis": 4,
    "deepnote_cell_type": "code",
    "deepnote_cell_height": 174.578125,
    "deepnote_output_heights": [
     59.578125
    ]
   },
   "outputs": [
    {
     "output_type": "execute_result",
     "execution_count": 52,
     "data": {
      "text/plain": "<tf.Tensor: shape=(2, 2), dtype=int32, numpy=\narray([[ 0, -3],\n       [-7, -6]], dtype=int32)>"
     },
     "metadata": {}
    }
   ],
   "execution_count": 52
  },
  {
   "cell_type": "code",
   "source": "# También podemos usar las funciones que vienen dentro de tensorflow\n# Build-in Functions\n\ntf.multiply(tensor, 10)",
   "metadata": {
    "cell_id": "75698c02bc834e83a125b3dd7ba3222f",
    "tags": [],
    "deepnote_to_be_reexecuted": false,
    "source_hash": "35cd9073",
    "execution_start": 1654866417576,
    "execution_millis": 20,
    "deepnote_cell_type": "code",
    "deepnote_cell_height": 210.578125,
    "deepnote_output_heights": [
     59.578125
    ]
   },
   "outputs": [
    {
     "output_type": "execute_result",
     "execution_count": 53,
     "data": {
      "text/plain": "<tf.Tensor: shape=(2, 2), dtype=int32, numpy=\narray([[100,  70],\n       [ 30,  40]], dtype=int32)>"
     },
     "metadata": {}
    }
   ],
   "execution_count": 53
  },
  {
   "cell_type": "markdown",
   "source": "**Nota**: para que las operaciones procesadas por `GPU` sean más rápidas es recomendable usar las `build-in-functions`",
   "metadata": {
    "cell_id": "e8460c2b7e9f40d882e4bf66ceab10a8",
    "tags": [],
    "deepnote_cell_type": "markdown",
    "deepnote_cell_height": 74.796875
   }
  },
  {
   "cell_type": "code",
   "source": " tf.add(tensor, 10)",
   "metadata": {
    "cell_id": "fc570c41ca6b4a57b9de3a1367985fc2",
    "tags": [],
    "deepnote_to_be_reexecuted": false,
    "source_hash": "1da1c525",
    "execution_start": 1654866642655,
    "execution_millis": 38,
    "deepnote_cell_type": "code",
    "deepnote_cell_height": 156.578125,
    "deepnote_output_heights": [
     59.578125
    ]
   },
   "outputs": [
    {
     "output_type": "execute_result",
     "execution_count": 54,
     "data": {
      "text/plain": "<tf.Tensor: shape=(2, 2), dtype=int32, numpy=\narray([[20, 17],\n       [13, 14]], dtype=int32)>"
     },
     "metadata": {}
    }
   ],
   "execution_count": 54
  },
  {
   "cell_type": "markdown",
   "source": "**Matrix Multiplication ó Multiplicación de Matrices **\n\nEn `Machine Learning` la multiplicación de matriceses es una de las operaciones más comunes.",
   "metadata": {
    "cell_id": "44772f81922444d39221504d6b8f6a6f",
    "tags": [],
    "owner_user_id": "6b4a8dcb-83e3-48d8-857e-449aa20f64fc",
    "deepnote_cell_type": "markdown",
    "deepnote_cell_height": 176.796875
   }
  },
  {
   "cell_type": "code",
   "source": " ",
   "metadata": {
    "cell_id": "2ca8f91e511a4816af8d9497ba9b0df3",
    "tags": [],
    "deepnote_cell_type": "code",
    "deepnote_cell_height": 66
   },
   "outputs": [],
   "execution_count": null
  },
  {
   "cell_type": "markdown",
   "source": "<a style='text-decoration:none;line-height:16px;display:flex;color:#5B5B62;padding:10px;justify-content:end;' href='https://deepnote.com?utm_source=created-in-deepnote-cell&projectId=837cf1af-c506-4091-b16c-c4a4c0575614' target=\"_blank\">\n<img alt='Created in deepnote.com' style='display:inline;max-height:16px;margin:0px;margin-right:7.5px;' src='data:image/svg+xml;base64,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' > </img>\nCreated in <span style='font-weight:600;margin-left:4px;'>Deepnote</span></a>",
   "metadata": {
    "tags": [],
    "created_in_deepnote_cell": true,
    "deepnote_cell_type": "markdown"
   }
  }
 ],
 "nbformat": 4,
 "nbformat_minor": 2,
 "metadata": {
  "orig_nbformat": 2,
  "deepnote": {},
  "deepnote_notebook_id": "2e8fca43-402b-4461-ab95-cd8437e1d51c",
  "deepnote_execution_queue": []
 }
}