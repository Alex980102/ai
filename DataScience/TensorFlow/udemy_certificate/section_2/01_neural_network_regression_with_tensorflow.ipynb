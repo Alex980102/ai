{
 "cells": [
  {
   "cell_type": "markdown",
   "source": "# Introducción a la regresión con red neuronal en tensorflow\n\nSe puede definir un problema de regresión como: predecir una variable numérica basado en otras combinaciones de variables para predecir un número.\n\nLink al repositorio del curso [Repositorio de GitHub](https://github.com/mrdbourke/tensorflow-deep-learning)",
   "metadata": {
    "tags": [],
    "cell_id": "7440b23a-4b5d-4cab-be9c-f0f0d81140ab",
    "deepnote_cell_type": "markdown",
    "deepnote_cell_height": 231.171875
   }
  },
  {
   "cell_type": "code",
   "metadata": {
    "cell_id": "dcc94ed960974d2786c485ee04a7af1a",
    "tags": [],
    "deepnote_to_be_reexecuted": false,
    "source_hash": "cdba5d86",
    "execution_start": 1657118275543,
    "execution_millis": 5058,
    "deepnote_cell_type": "code",
    "deepnote_cell_height": 154.1875,
    "deepnote_output_heights": [
     21.1875
    ]
   },
   "source": "# Importar Tensorflow\nimport tensorflow as tf\ntf.__version__",
   "outputs": [
    {
     "output_type": "execute_result",
     "execution_count": 1,
     "data": {
      "text/plain": "'2.9.1'"
     },
     "metadata": {}
    }
   ],
   "execution_count": null
  },
  {
   "cell_type": "markdown",
   "source": "## crear datos para ver y ajustar ",
   "metadata": {
    "cell_id": "3d373a8d914e4b888a5b136cb8327a6b",
    "tags": [],
    "deepnote_cell_type": "markdown",
    "deepnote_cell_height": 70
   }
  },
  {
   "cell_type": "code",
   "metadata": {
    "cell_id": "e38697de32eb497e9506bdb807a8f376",
    "tags": [],
    "deepnote_to_be_reexecuted": false,
    "source_hash": "c826858b",
    "execution_start": 1657118280604,
    "execution_millis": 1742,
    "deepnote_cell_type": "code",
    "deepnote_cell_height": 531,
    "deepnote_output_heights": [
     254
    ]
   },
   "source": "import numpy as np\nimport matplotlib.pyplot as plt\n\n# Crear Propiedades\nX = np.arange(start=-7, stop=15, step=3, dtype=np.float64)\n\n# Crear etiquetas o labels\ny = np.arange(start=3, stop=25, step=3, dtype=np.float64)\n\nplt.scatter(X, y)\nplt.show()",
   "outputs": [
    {
     "data": {
      "text/plain": "<Figure size 432x288 with 1 Axes>",
      "image/png": "[encoded data removed]"
     },
     "metadata": {
      "needs_background": "light",
      "image/png": {
       "width": 374,
       "height": 252
      }
     },
     "output_type": "display_data"
    }
   ],
   "execution_count": null
  },
  {
   "cell_type": "code",
   "metadata": {
    "cell_id": "a124ba5f1ceb4d67875d026d9337ddd1",
    "tags": [],
    "deepnote_to_be_reexecuted": false,
    "source_hash": "ce04b77e",
    "execution_start": 1657118282252,
    "execution_millis": 99,
    "deepnote_cell_type": "code",
    "deepnote_cell_height": 118.1875,
    "deepnote_output_heights": [
     21.1875
    ]
   },
   "source": "y",
   "outputs": [
    {
     "output_type": "execute_result",
     "execution_count": 3,
     "data": {
      "text/plain": "array([ 3.,  6.,  9., 12., 15., 18., 21., 24.])"
     },
     "metadata": {}
    }
   ],
   "execution_count": null
  },
  {
   "cell_type": "code",
   "metadata": {
    "cell_id": "d8313f0567b4455587056336a931b326",
    "tags": [],
    "deepnote_to_be_reexecuted": false,
    "source_hash": "90332b9a",
    "execution_start": 1657118282252,
    "execution_millis": 99,
    "deepnote_cell_type": "code",
    "deepnote_cell_height": 118.1875,
    "deepnote_output_heights": [
     21.1875
    ]
   },
   "source": "X+10",
   "outputs": [
    {
     "output_type": "execute_result",
     "execution_count": 4,
     "data": {
      "text/plain": "array([ 3.,  6.,  9., 12., 15., 18., 21., 24.])"
     },
     "metadata": {}
    }
   ],
   "execution_count": null
  },
  {
   "cell_type": "markdown",
   "source": "## input and output shapes",
   "metadata": {
    "cell_id": "2be28672e93a447faa1dc85b46b8822e",
    "tags": [],
    "deepnote_to_be_reexecuted": false,
    "source_hash": "b623e53d",
    "execution_start": 1655593412139,
    "deepnote_cell_type": "markdown",
    "deepnote_cell_height": 70
   }
  },
  {
   "cell_type": "code",
   "metadata": {
    "cell_id": "fa9d0f0a53094f268afb584834337e1d",
    "tags": [],
    "deepnote_to_be_reexecuted": false,
    "source_hash": "1d73bdd5",
    "execution_start": 1657118282253,
    "execution_millis": 98,
    "deepnote_cell_type": "code",
    "deepnote_cell_height": 173.375,
    "deepnote_output_heights": [
     40.375
    ]
   },
   "source": "house_info = tf.constant([\"bedroom\", \"bathroom\", \"garage\"])\nhouse_price = tf.constant([939700])\nhouse_info, house_price",
   "outputs": [
    {
     "output_type": "execute_result",
     "execution_count": 5,
     "data": {
      "text/plain": "(<tf.Tensor: shape=(3,), dtype=string, numpy=array([b'bedroom', b'bathroom', b'garage'], dtype=object)>,\n <tf.Tensor: shape=(1,), dtype=int32, numpy=array([939700], dtype=int32)>)"
     },
     "metadata": {}
    }
   ],
   "execution_count": null
  },
  {
   "cell_type": "code",
   "metadata": {
    "cell_id": "8d24f6b1e5c34481b5511fd2214ac7ea",
    "tags": [],
    "deepnote_to_be_reexecuted": false,
    "source_hash": "34e1389b",
    "execution_start": 1657118282254,
    "execution_millis": 97,
    "deepnote_cell_type": "code",
    "deepnote_cell_height": 154.1875,
    "deepnote_output_heights": [
     21.1875
    ]
   },
   "source": "input_shape = X.shape\noutput_shape = y.shape\ninput_shape, output_shape",
   "outputs": [
    {
     "output_type": "execute_result",
     "execution_count": 6,
     "data": {
      "text/plain": "((8,), (8,))"
     },
     "metadata": {}
    }
   ],
   "execution_count": null
  },
  {
   "cell_type": "code",
   "metadata": {
    "cell_id": "2a0c3cebc04945c19e9bad2233a587d8",
    "tags": [],
    "deepnote_to_be_reexecuted": false,
    "source_hash": "d0979081",
    "execution_start": 1657118282254,
    "execution_millis": 97,
    "deepnote_cell_type": "code",
    "deepnote_cell_height": 118.1875,
    "deepnote_output_heights": [
     21.1875
    ]
   },
   "source": "X[0], y[0]",
   "outputs": [
    {
     "output_type": "execute_result",
     "execution_count": 7,
     "data": {
      "text/plain": "(-7.0, 3.0)"
     },
     "metadata": {}
    }
   ],
   "execution_count": null
  },
  {
   "cell_type": "code",
   "metadata": {
    "cell_id": "6cc52521ace14f299805fec078f47228",
    "tags": [],
    "deepnote_to_be_reexecuted": false,
    "source_hash": "cd73f483",
    "execution_start": 1657118282258,
    "execution_millis": 97,
    "deepnote_cell_type": "code",
    "deepnote_cell_height": 118.1875,
    "deepnote_output_heights": [
     21.1875
    ]
   },
   "source": "X[1], y[1]",
   "outputs": [
    {
     "output_type": "execute_result",
     "execution_count": 8,
     "data": {
      "text/plain": "(-4.0, 6.0)"
     },
     "metadata": {}
    }
   ],
   "execution_count": null
  },
  {
   "cell_type": "code",
   "metadata": {
    "cell_id": "ab35b4758bc14d07816dba1c9d982639",
    "tags": [],
    "deepnote_to_be_reexecuted": false,
    "source_hash": "644a7e4f",
    "execution_start": 1657118282266,
    "execution_millis": 98,
    "deepnote_cell_type": "code",
    "deepnote_cell_height": 154.1875,
    "deepnote_output_heights": [
     21.1875
    ]
   },
   "source": "input_shape = X[0].shape\noutput_shape = y[0].shape\ninput_shape, output_shape",
   "outputs": [
    {
     "output_type": "execute_result",
     "execution_count": 9,
     "data": {
      "text/plain": "((), ())"
     },
     "metadata": {}
    }
   ],
   "execution_count": null
  },
  {
   "cell_type": "code",
   "metadata": {
    "cell_id": "db68ca3a309e451cbc5669f29d85b69b",
    "tags": [],
    "deepnote_to_be_reexecuted": false,
    "source_hash": "7c868214",
    "execution_start": 1657118282274,
    "execution_millis": 97,
    "deepnote_cell_type": "code",
    "deepnote_cell_height": 118.1875,
    "deepnote_output_heights": [
     21.1875
    ]
   },
   "source": "X[0].ndim",
   "outputs": [
    {
     "output_type": "execute_result",
     "execution_count": 10,
     "data": {
      "text/plain": "0"
     },
     "metadata": {}
    }
   ],
   "execution_count": null
  },
  {
   "cell_type": "code",
   "metadata": {
    "cell_id": "72cd9e8504b64ff99206c480cbf0bf42",
    "tags": [],
    "deepnote_to_be_reexecuted": false,
    "source_hash": "d0979081",
    "execution_start": 1657118282278,
    "execution_millis": 94,
    "deepnote_cell_type": "code",
    "deepnote_cell_height": 118.1875,
    "deepnote_output_heights": [
     21.1875
    ]
   },
   "source": "X[0], y[0]",
   "outputs": [
    {
     "output_type": "execute_result",
     "execution_count": 11,
     "data": {
      "text/plain": "(-7.0, 3.0)"
     },
     "metadata": {}
    }
   ],
   "execution_count": null
  },
  {
   "cell_type": "code",
   "metadata": {
    "cell_id": "2e024a330a334c3585e8acacd25aacb8",
    "tags": [],
    "deepnote_to_be_reexecuted": false,
    "source_hash": "9d1904c",
    "execution_start": 1657118282279,
    "execution_millis": 93,
    "deepnote_cell_type": "code",
    "deepnote_cell_height": 191.375,
    "deepnote_output_heights": [
     40.375
    ]
   },
   "source": "# Convertir nuestro array de Numpy en un tensor\nX = tf.constant(X)\ny = tf.constant(y)\nX, y",
   "outputs": [
    {
     "output_type": "execute_result",
     "execution_count": 12,
     "data": {
      "text/plain": "(<tf.Tensor: shape=(8,), dtype=float64, numpy=array([-7., -4., -1.,  2.,  5.,  8., 11., 14.])>,\n <tf.Tensor: shape=(8,), dtype=float64, numpy=array([ 3.,  6.,  9., 12., 15., 18., 21., 24.])>)"
     },
     "metadata": {}
    }
   ],
   "execution_count": null
  },
  {
   "cell_type": "code",
   "metadata": {
    "cell_id": "064c4e1a644b4bfba43015aeb0695f0d",
    "tags": [],
    "deepnote_to_be_reexecuted": false,
    "source_hash": "3fdabc42",
    "execution_start": 1657118282303,
    "execution_millis": 70,
    "deepnote_cell_type": "code",
    "deepnote_cell_height": 172.1875,
    "deepnote_output_heights": [
     21.1875
    ]
   },
   "source": "input_shape = X[0].shape\noutput_shape = y[0].shape\ninput_shape, output_shape\n",
   "outputs": [
    {
     "output_type": "execute_result",
     "execution_count": 13,
     "data": {
      "text/plain": "(TensorShape([]), TensorShape([]))"
     },
     "metadata": {}
    }
   ],
   "execution_count": null
  },
  {
   "cell_type": "code",
   "metadata": {
    "cell_id": "b6844064d0f642bf842c4d9e63c34b38",
    "tags": [],
    "deepnote_to_be_reexecuted": false,
    "source_hash": "cc749a87",
    "execution_start": 1657118282312,
    "execution_millis": 245,
    "deepnote_cell_type": "code",
    "deepnote_cell_height": 403.1875,
    "deepnote_output_heights": [
     21.1875,
     254
    ]
   },
   "source": "plt.scatter(X, y)",
   "outputs": [
    {
     "output_type": "execute_result",
     "execution_count": 14,
     "data": {
      "text/plain": "<matplotlib.collections.PathCollection at 0x7f6a68038c10>"
     },
     "metadata": {}
    },
    {
     "data": {
      "text/plain": "<Figure size 432x288 with 1 Axes>",
      "image/png": "[encoded data removed]"
     },
     "metadata": {
      "needs_background": "light",
      "image/png": {
       "width": 374,
       "height": 252
      }
     },
     "output_type": "display_data"
    }
   ],
   "execution_count": null
  },
  {
   "cell_type": "markdown",
   "source": "## Pasos para modelar con Tensorflow\n1. **Crear un modelo**: Defina las capas `layers` de entrada `input` y salida `output`, así como las capas ocultas `hidden layers` de un modelo de aprendizaje profundo `deep learning`.\n2. **Compilar un modelo**: Definir la función de pérdida `loss function` (en otras palabras, la función que le dice a nuestro modelo cómo mejorar los patrones su aprendizaje) y las métricas de evaluación (lo que podemos usar para interpretar el rendimiento de nuestro modelo)\n3. **Ajustar el modelo o** `Fitting the model`: Dejar que el modelo encuentre patrones entre X & y (features and labels)",
   "metadata": {
    "cell_id": "2e665d48c8a44cea9f1100dba438d988",
    "tags": [],
    "deepnote_cell_type": "markdown",
    "deepnote_cell_height": 240.34375
   }
  },
  {
   "cell_type": "code",
   "metadata": {
    "cell_id": "4525bbcf8f67437aafdfa730da4da4b9",
    "tags": [],
    "deepnote_to_be_reexecuted": false,
    "source_hash": "3cc86bfc",
    "execution_start": 1657118282565,
    "execution_millis": 615,
    "deepnote_cell_type": "code",
    "deepnote_cell_height": 634.0625,
    "deepnote_output_heights": [
     null,
     21.1875
    ]
   },
   "source": "# Set random seed\ntf.random.set_seed(42)\n\n# 1. Crear el modelo usando la api Sequential\nmodel = tf.keras.Sequential([\n    tf.keras.layers.Dense(1)\n])\n\n# 2. Compilar el modelo\nmodel.compile(\n    loss=tf.keras.losses.mae, # mae significa mean absolute error\n    optimizer=tf.keras.optimizers.SGD(), # SGD significa stochastic gradient descent \n    metrics=[\"mae\"]\n    )\n\n# 3. Fit the model o ajustar el modelo \nmodel.fit(tf.expand_dims(X, axis=-1), y, epochs=5)",
   "outputs": [
    {
     "name": "stdout",
     "text": "Epoch 1/5\n1/1 [==============================] - 0s 349ms/step - loss: 11.5048 - mae: 11.5048\nEpoch 2/5\n1/1 [==============================] - 0s 4ms/step - loss: 11.3723 - mae: 11.3723\nEpoch 3/5\n1/1 [==============================] - 0s 3ms/step - loss: 11.2398 - mae: 11.2398\nEpoch 4/5\n1/1 [==============================] - 0s 4ms/step - loss: 11.1073 - mae: 11.1073\nEpoch 5/5\n1/1 [==============================] - 0s 4ms/step - loss: 10.9748 - mae: 10.9748\n",
     "output_type": "stream"
    },
    {
     "output_type": "execute_result",
     "execution_count": 15,
     "data": {
      "text/plain": "<keras.callbacks.History at 0x7f6ac2cc66d0>"
     },
     "metadata": {}
    }
   ],
   "execution_count": null
  },
  {
   "cell_type": "code",
   "metadata": {
    "cell_id": "22ebb2f5db67422f9dc49627b275cd13",
    "tags": [],
    "deepnote_to_be_reexecuted": false,
    "source_hash": "e7255055",
    "execution_start": 1657118283183,
    "execution_millis": 5,
    "deepnote_cell_type": "code",
    "deepnote_cell_height": 155.375,
    "deepnote_output_heights": [
     40.375
    ]
   },
   "source": "# Vamos a checar X & y\nX, y",
   "outputs": [
    {
     "output_type": "execute_result",
     "execution_count": 16,
     "data": {
      "text/plain": "(<tf.Tensor: shape=(8,), dtype=float64, numpy=array([-7., -4., -1.,  2.,  5.,  8., 11., 14.])>,\n <tf.Tensor: shape=(8,), dtype=float64, numpy=array([ 3.,  6.,  9., 12., 15., 18., 21., 24.])>)"
     },
     "metadata": {}
    }
   ],
   "execution_count": null
  },
  {
   "cell_type": "code",
   "metadata": {
    "cell_id": "e009ce1a4b014e8d9a18823ebc9ca46e",
    "tags": [],
    "deepnote_to_be_reexecuted": false,
    "source_hash": "d15c1d47",
    "execution_start": 1657118283190,
    "execution_millis": 121,
    "deepnote_cell_type": "code",
    "deepnote_cell_height": 200.375,
    "deepnote_output_heights": [
     null,
     21.1875
    ]
   },
   "source": "# Vamos a intentar hacer una predicción usando nuestro modelo\ny_pred = model.predict([17.0])\ny_pred",
   "outputs": [
    {
     "name": "stdout",
     "text": "1/1 [==============================] - 0s 92ms/step\n",
     "output_type": "stream"
    },
    {
     "output_type": "execute_result",
     "execution_count": 17,
     "data": {
      "text/plain": "array([[12.716021]], dtype=float32)"
     },
     "metadata": {}
    }
   ],
   "execution_count": null
  },
  {
   "cell_type": "code",
   "metadata": {
    "cell_id": "0d43deb96b464310aa97864cb4584dfa",
    "tags": [],
    "deepnote_to_be_reexecuted": false,
    "source_hash": "53081700",
    "execution_start": 1657118283355,
    "execution_millis": 6,
    "deepnote_cell_type": "code",
    "deepnote_cell_height": 118.1875,
    "deepnote_output_heights": [
     21.1875
    ]
   },
   "source": "y_pred+11",
   "outputs": [
    {
     "output_type": "execute_result",
     "execution_count": 18,
     "data": {
      "text/plain": "array([[23.71602]], dtype=float32)"
     },
     "metadata": {}
    }
   ],
   "execution_count": null
  },
  {
   "cell_type": "markdown",
   "source": "## Mejorar nuestro modelo\nPodemos mejorar nuestro modelo alterando los pasos que tomamos para crear su modelo.\n\n1. **Crear el model: ** - En este apartado podemos añadir más capas o `layers`, ",
   "metadata": {
    "cell_id": "818b2ba7850e41b9a369e6369923a7a3",
    "tags": [],
    "deepnote_cell_type": "markdown",
    "deepnote_cell_height": 158.78125
   }
  },
  {
   "cell_type": "code",
   "metadata": {
    "cell_id": "57a724d63cc64b8e848be5f3bf4f609b",
    "tags": [],
    "deepnote_to_be_reexecuted": false,
    "source_hash": "7a3870cc",
    "execution_start": 1657118283355,
    "execution_millis": 1662,
    "deepnote_cell_type": "code",
    "deepnote_cell_height": 1041.1875,
    "deepnote_output_heights": [
     null,
     21.1875
    ]
   },
   "source": "# vamos a recrear nuestro modelo\n\n# 1. Crear el modelo\nmodel = tf.keras.Sequential([\n    # tf.keras.layers.Dense(100, activation='relu'),\n    tf.keras.layers.Dense(1)\n])\n\n# 2. Compliar nuestro modelo\nmodel.compile(\n    loss=tf.keras.losses.mae,\n    optimizer=tf.keras.optimizers.SGD(),\n    metrics=[\"mae\"]\n)\n\n# 3. Fit the model\nmodel.fit(tf.expand_dims(X, axis=-1), y, epochs=100)",
   "outputs": [
    {
     "name": "stdout",
     "text": "Epoch 1/100\n1/1 [==============================] - 0s 220ms/step - loss: 11.2219 - mae: 11.2219\nEpoch 2/100\n1/1 [==============================] - 0s 3ms/step - loss: 11.0894 - mae: 11.0894\nEpoch 3/100\n1/1 [==============================] - 0s 3ms/step - loss: 10.9569 - mae: 10.9569\nEpoch 4/100\n1/1 [==============================] - 0s 3ms/step - loss: 10.8244 - mae: 10.8244\nEpoch 5/100\n1/1 [==============================] - 0s 3ms/step - loss: 10.6919 - mae: 10.6919\nEpoch 6/100\n1/1 [==============================] - 0s 3ms/step - loss: 10.5594 - mae: 10.5594\nEpoch 7/100\n1/1 [==============================] - 0s 3ms/step - loss: 10.4269 - mae: 10.4269\nEpoch 8/100\n1/1 [==============================] - 0s 3ms/step - loss: 10.2944 - mae: 10.2944\nEpoch 9/100\n1/1 [==============================] - 0s 3ms/step - loss: 10.1619 - mae: 10.1619\nEpoch 10/100\n1/1 [==============================] - 0s 3ms/step - loss: 10.0294 - mae: 10.0294\nEpoch 11/100\n1/1 [==============================] - 0s 3ms/step - loss: 9.8969 - mae: 9.8969\nEpoch 12/100\n1/1 [==============================] - 0s 3ms/step - loss: 9.7644 - mae: 9.7644\nEpoch 13/100\n1/1 [==============================] - 0s 3ms/step - loss: 9.6319 - mae: 9.6319\nEpoch 14/100\n1/1 [==============================] - 0s 3ms/step - loss: 9.4994 - mae: 9.4994\nEpoch 15/100\n1/1 [==============================] - 0s 3ms/step - loss: 9.3669 - mae: 9.3669\nEpoch 16/100\n1/1 [==============================] - 0s 4ms/step - loss: 9.2344 - mae: 9.2344\nEpoch 17/100\n1/1 [==============================] - 0s 3ms/step - loss: 9.1019 - mae: 9.1019\nEpoch 18/100\n1/1 [==============================] - 0s 3ms/step - loss: 8.9694 - mae: 8.9694\nEpoch 19/100\n1/1 [==============================] - 0s 4ms/step - loss: 8.8369 - mae: 8.8369\nEpoch 20/100\n1/1 [==============================] - 0s 43ms/step - loss: 8.7044 - mae: 8.7044\nEpoch 21/100\n1/1 [==============================] - 0s 6ms/step - loss: 8.5719 - mae: 8.5719\nEpoch 22/100\n1/1 [==============================] - 0s 3ms/step - loss: 8.4394 - mae: 8.4394\nEpoch 23/100\n1/1 [==============================] - 0s 3ms/step - loss: 8.3069 - mae: 8.3069\nEpoch 24/100\n1/1 [==============================] - 0s 4ms/step - loss: 8.1744 - mae: 8.1744\nEpoch 25/100\n1/1 [==============================] - 0s 4ms/step - loss: 8.0419 - mae: 8.0419\nEpoch 26/100\n1/1 [==============================] - 0s 4ms/step - loss: 7.9094 - mae: 7.9094\nEpoch 27/100\n1/1 [==============================] - 0s 6ms/step - loss: 7.7769 - mae: 7.7769\nEpoch 28/100\n1/1 [==============================] - 0s 52ms/step - loss: 7.6444 - mae: 7.6444\nEpoch 29/100\n1/1 [==============================] - 0s 4ms/step - loss: 7.5119 - mae: 7.5119\nEpoch 30/100\n1/1 [==============================] - 0s 3ms/step - loss: 7.3794 - mae: 7.3794\nEpoch 31/100\n1/1 [==============================] - 0s 4ms/step - loss: 7.2750 - mae: 7.2750\nEpoch 32/100\n1/1 [==============================] - 0s 4ms/step - loss: 7.2694 - mae: 7.2694\nEpoch 33/100\n1/1 [==============================] - 0s 4ms/step - loss: 7.2638 - mae: 7.2638\nEpoch 34/100\n1/1 [==============================] - 0s 4ms/step - loss: 7.2581 - mae: 7.2581\nEpoch 35/100\n1/1 [==============================] - 0s 7ms/step - loss: 7.2525 - mae: 7.2525\nEpoch 36/100\n1/1 [==============================] - 0s 3ms/step - loss: 7.2469 - mae: 7.2469\nEpoch 37/100\n1/1 [==============================] - 0s 3ms/step - loss: 7.2412 - mae: 7.2412\nEpoch 38/100\n1/1 [==============================] - 0s 48ms/step - loss: 7.2356 - mae: 7.2356\nEpoch 39/100\n1/1 [==============================] - 0s 4ms/step - loss: 7.2300 - mae: 7.2300\nEpoch 40/100\n1/1 [==============================] - 0s 4ms/step - loss: 7.2244 - mae: 7.2244\nEpoch 41/100\n1/1 [==============================] - 0s 4ms/step - loss: 7.2188 - mae: 7.2188\nEpoch 42/100\n1/1 [==============================] - 0s 3ms/step - loss: 7.2131 - mae: 7.2131\nEpoch 43/100\n1/1 [==============================] - 0s 4ms/step - loss: 7.2075 - mae: 7.2075\nEpoch 44/100\n1/1 [==============================] - 0s 3ms/step - loss: 7.2019 - mae: 7.2019\nEpoch 45/100\n1/1 [==============================] - 0s 3ms/step - loss: 7.1962 - mae: 7.1962\nEpoch 46/100\n1/1 [==============================] - 0s 4ms/step - loss: 7.1906 - mae: 7.1906\nEpoch 47/100\n1/1 [==============================] - 0s 57ms/step - loss: 7.1850 - mae: 7.1850\nEpoch 48/100\n1/1 [==============================] - 0s 6ms/step - loss: 7.1794 - mae: 7.1794\nEpoch 49/100\n1/1 [==============================] - 0s 4ms/step - loss: 7.1737 - mae: 7.1737\nEpoch 50/100\n1/1 [==============================] - 0s 7ms/step - loss: 7.1681 - mae: 7.1681\nEpoch 51/100\n1/1 [==============================] - 0s 9ms/step - loss: 7.1625 - mae: 7.1625\nEpoch 52/100\n1/1 [==============================] - 0s 4ms/step - loss: 7.1569 - mae: 7.1569\nEpoch 53/100\n1/1 [==============================] - 0s 4ms/step - loss: 7.1512 - mae: 7.1512\nEpoch 54/100\n1/1 [==============================] - 0s 4ms/step - loss: 7.1456 - mae: 7.1456\nEpoch 55/100\n1/1 [==============================] - 0s 33ms/step - loss: 7.1400 - mae: 7.1400\nEpoch 56/100\n1/1 [==============================] - 0s 3ms/step - loss: 7.1344 - mae: 7.1344\nEpoch 57/100\n1/1 [==============================] - 0s 4ms/step - loss: 7.1287 - mae: 7.1287\nEpoch 58/100\n1/1 [==============================] - 0s 3ms/step - loss: 7.1231 - mae: 7.1231\nEpoch 59/100\n1/1 [==============================] - 0s 6ms/step - loss: 7.1175 - mae: 7.1175\nEpoch 60/100\n1/1 [==============================] - 0s 4ms/step - loss: 7.1119 - mae: 7.1119\nEpoch 61/100\n1/1 [==============================] - 0s 3ms/step - loss: 7.1062 - mae: 7.1062\nEpoch 62/100\n1/1 [==============================] - 0s 5ms/step - loss: 7.1006 - mae: 7.1006\nEpoch 63/100\n1/1 [==============================] - 0s 51ms/step - loss: 7.0950 - mae: 7.0950\nEpoch 64/100\n1/1 [==============================] - 0s 3ms/step - loss: 7.0894 - mae: 7.0894\nEpoch 65/100\n1/1 [==============================] - 0s 3ms/step - loss: 7.0838 - mae: 7.0838\nEpoch 66/100\n1/1 [==============================] - 0s 7ms/step - loss: 7.0781 - mae: 7.0781\nEpoch 67/100\n1/1 [==============================] - 0s 3ms/step - loss: 7.0725 - mae: 7.0725\nEpoch 68/100\n1/1 [==============================] - 0s 7ms/step - loss: 7.0669 - mae: 7.0669\nEpoch 69/100\n1/1 [==============================] - 0s 4ms/step - loss: 7.0613 - mae: 7.0613\nEpoch 70/100\n1/1 [==============================] - 0s 6ms/step - loss: 7.0556 - mae: 7.0556\nEpoch 71/100\n1/1 [==============================] - 0s 5ms/step - loss: 7.0500 - mae: 7.0500\nEpoch 72/100\n1/1 [==============================] - 0s 4ms/step - loss: 7.0444 - mae: 7.0444\nEpoch 73/100\n1/1 [==============================] - 0s 3ms/step - loss: 7.0388 - mae: 7.0388\nEpoch 74/100\n1/1 [==============================] - 0s 3ms/step - loss: 7.0331 - mae: 7.0331\nEpoch 75/100\n1/1 [==============================] - 0s 3ms/step - loss: 7.0275 - mae: 7.0275\nEpoch 76/100\n1/1 [==============================] - 0s 3ms/step - loss: 7.0219 - mae: 7.0219\nEpoch 77/100\n1/1 [==============================] - 0s 3ms/step - loss: 7.0163 - mae: 7.0163\nEpoch 78/100\n1/1 [==============================] - 0s 4ms/step - loss: 7.0106 - mae: 7.0106\nEpoch 79/100\n1/1 [==============================] - 0s 58ms/step - loss: 7.0050 - mae: 7.0050\nEpoch 80/100\n1/1 [==============================] - 0s 4ms/step - loss: 6.9994 - mae: 6.9994\nEpoch 81/100\n1/1 [==============================] - 0s 4ms/step - loss: 6.9938 - mae: 6.9938\nEpoch 82/100\n1/1 [==============================] - 0s 3ms/step - loss: 6.9881 - mae: 6.9881\nEpoch 83/100\n1/1 [==============================] - 0s 3ms/step - loss: 6.9825 - mae: 6.9825\nEpoch 84/100\n1/1 [==============================] - 0s 3ms/step - loss: 6.9769 - mae: 6.9769\nEpoch 85/100\n1/1 [==============================] - 0s 3ms/step - loss: 6.9713 - mae: 6.9713\nEpoch 86/100\n1/1 [==============================] - 0s 3ms/step - loss: 6.9656 - mae: 6.9656\nEpoch 87/100\n1/1 [==============================] - 0s 3ms/step - loss: 6.9600 - mae: 6.9600\nEpoch 88/100\n1/1 [==============================] - 0s 51ms/step - loss: 6.9544 - mae: 6.9544\nEpoch 89/100\n1/1 [==============================] - 0s 4ms/step - loss: 6.9488 - mae: 6.9488\nEpoch 90/100\n1/1 [==============================] - 0s 4ms/step - loss: 6.9431 - mae: 6.9431\nEpoch 91/100\n1/1 [==============================] - 0s 4ms/step - loss: 6.9375 - mae: 6.9375\nEpoch 92/100\n1/1 [==============================] - 0s 3ms/step - loss: 6.9319 - mae: 6.9319\nEpoch 93/100\n1/1 [==============================] - 0s 4ms/step - loss: 6.9263 - mae: 6.9263\nEpoch 94/100\n1/1 [==============================] - 0s 3ms/step - loss: 6.9206 - mae: 6.9206\nEpoch 95/100\n1/1 [==============================] - 0s 3ms/step - loss: 6.9150 - mae: 6.9150\nEpoch 96/100\n1/1 [==============================] - 0s 4ms/step - loss: 6.9094 - mae: 6.9094\nEpoch 97/100\n1/1 [==============================] - 0s 4ms/step - loss: 6.9038 - mae: 6.9038\nEpoch 98/100\n1/1 [==============================] - 0s 4ms/step - loss: 6.8981 - mae: 6.8981\nEpoch 99/100\n1/1 [==============================] - 0s 3ms/step - loss: 6.8925 - mae: 6.8925\nEpoch 100/100\n1/1 [==============================] - 0s 3ms/step - loss: 6.8869 - mae: 6.8869\n",
     "output_type": "stream"
    },
    {
     "output_type": "execute_result",
     "execution_count": 19,
     "data": {
      "text/plain": "<keras.callbacks.History at 0x7f6a580bb700>"
     },
     "metadata": {}
    }
   ],
   "execution_count": null
  },
  {
   "cell_type": "code",
   "metadata": {
    "cell_id": "d200bc99753d4c03a6018cfa3d52ca25",
    "tags": [],
    "deepnote_to_be_reexecuted": false,
    "source_hash": "9c008bf8",
    "execution_start": 1657118284873,
    "execution_millis": 145,
    "deepnote_cell_type": "code",
    "deepnote_cell_height": 155.375,
    "deepnote_output_heights": [
     40.375
    ]
   },
   "source": "# Remaind ourselves of the data\nX, y",
   "outputs": [
    {
     "output_type": "execute_result",
     "execution_count": 20,
     "data": {
      "text/plain": "(<tf.Tensor: shape=(8,), dtype=float64, numpy=array([-7., -4., -1.,  2.,  5.,  8., 11., 14.])>,\n <tf.Tensor: shape=(8,), dtype=float64, numpy=array([ 3.,  6.,  9., 12., 15., 18., 21., 24.])>)"
     },
     "metadata": {}
    }
   ],
   "execution_count": null
  },
  {
   "cell_type": "code",
   "metadata": {
    "cell_id": "1df62c4fb2084366b7462d126c55cdeb",
    "tags": [],
    "deepnote_to_be_reexecuted": false,
    "source_hash": "3838234f",
    "execution_start": 1657118284877,
    "execution_millis": 141,
    "deepnote_cell_type": "code",
    "deepnote_cell_height": 182.375,
    "deepnote_output_heights": [
     null,
     21.1875
    ]
   },
   "source": "# Vamos aa comprobar si nuestro modelo mejoró\nmodel.predict([17.0])",
   "outputs": [
    {
     "name": "stdout",
     "text": "1/1 [==============================] - 0s 67ms/step\n",
     "output_type": "stream"
    },
    {
     "output_type": "execute_result",
     "execution_count": 21,
     "data": {
      "text/plain": "array([[29.739855]], dtype=float32)"
     },
     "metadata": {}
    }
   ],
   "execution_count": null
  },
  {
   "cell_type": "code",
   "metadata": {
    "cell_id": "ac85e67080dc4992966de65f198195b7",
    "tags": [],
    "deepnote_to_be_reexecuted": false,
    "source_hash": "3d456841",
    "execution_start": 1657118285032,
    "execution_millis": 1723,
    "deepnote_cell_type": "code",
    "deepnote_cell_height": 987.1875,
    "deepnote_output_heights": [
     null,
     21.1875
    ]
   },
   "source": "model = tf.keras.Sequential([\n    # tf.keras.layers.Dense(500, activation='relu'),\n    tf.keras.layers.Dense(50, activation=None),\n    tf.keras.layers.Dense(1)\n])\n\nmodel.compile(\n    loss=\"mae\",\n    # optimizer=tf.keras.optimizers.SGD(),\n    optimizer=tf.keras.optimizers.Adam(learning_rate=0.01),\n    metrics=[\"accuracy\"]\n)\n\nmodel.fit(tf.expand_dims(X, axis=-1), y, epochs=100)",
   "outputs": [
    {
     "name": "stdout",
     "text": "Epoch 1/100\n1/1 [==============================] - 0s 488ms/step - loss: 11.7682 - accuracy: 0.0000e+00\nEpoch 2/100\n1/1 [==============================] - 0s 3ms/step - loss: 11.0963 - accuracy: 0.0000e+00\nEpoch 3/100\n1/1 [==============================] - 0s 4ms/step - loss: 10.4150 - accuracy: 0.0000e+00\nEpoch 4/100\n1/1 [==============================] - 0s 4ms/step - loss: 9.7212 - accuracy: 0.0000e+00\nEpoch 5/100\n1/1 [==============================] - 0s 4ms/step - loss: 9.0104 - accuracy: 0.0000e+00\nEpoch 6/100\n1/1 [==============================] - 0s 4ms/step - loss: 8.2778 - accuracy: 0.0000e+00\nEpoch 7/100\n1/1 [==============================] - 0s 3ms/step - loss: 7.5198 - accuracy: 0.0000e+00\nEpoch 8/100\n1/1 [==============================] - 0s 3ms/step - loss: 6.9648 - accuracy: 0.0000e+00\nEpoch 9/100\n1/1 [==============================] - 0s 4ms/step - loss: 7.0672 - accuracy: 0.0000e+00\nEpoch 10/100\n1/1 [==============================] - 0s 3ms/step - loss: 7.3315 - accuracy: 0.0000e+00\nEpoch 11/100\n1/1 [==============================] - 0s 3ms/step - loss: 7.4673 - accuracy: 0.0000e+00\nEpoch 12/100\n1/1 [==============================] - 0s 4ms/step - loss: 7.5285 - accuracy: 0.0000e+00\nEpoch 13/100\n1/1 [==============================] - 0s 3ms/step - loss: 7.4011 - accuracy: 0.0000e+00\nEpoch 14/100\n1/1 [==============================] - 0s 3ms/step - loss: 7.1923 - accuracy: 0.0000e+00\nEpoch 15/100\n1/1 [==============================] - 0s 3ms/step - loss: 6.9575 - accuracy: 0.0000e+00\nEpoch 16/100\n1/1 [==============================] - 0s 4ms/step - loss: 6.6953 - accuracy: 0.0000e+00\nEpoch 17/100\n1/1 [==============================] - 0s 4ms/step - loss: 6.4127 - accuracy: 0.0000e+00\nEpoch 18/100\n1/1 [==============================] - 0s 3ms/step - loss: 6.3048 - accuracy: 0.0000e+00\nEpoch 19/100\n1/1 [==============================] - 0s 3ms/step - loss: 6.2575 - accuracy: 0.0000e+00\nEpoch 20/100\n1/1 [==============================] - 0s 3ms/step - loss: 6.3982 - accuracy: 0.0000e+00\nEpoch 21/100\n1/1 [==============================] - 0s 4ms/step - loss: 6.4551 - accuracy: 0.0000e+00\nEpoch 22/100\n1/1 [==============================] - 0s 3ms/step - loss: 6.4000 - accuracy: 0.0000e+00\nEpoch 23/100\n1/1 [==============================] - 0s 4ms/step - loss: 6.2482 - accuracy: 0.0000e+00\nEpoch 24/100\n1/1 [==============================] - 0s 4ms/step - loss: 6.0105 - accuracy: 0.0000e+00\nEpoch 25/100\n1/1 [==============================] - 0s 48ms/step - loss: 5.7876 - accuracy: 0.0000e+00\nEpoch 26/100\n1/1 [==============================] - 0s 3ms/step - loss: 5.6809 - accuracy: 0.0000e+00\nEpoch 27/100\n1/1 [==============================] - 0s 3ms/step - loss: 5.5715 - accuracy: 0.0000e+00\nEpoch 28/100\n1/1 [==============================] - 0s 4ms/step - loss: 5.6122 - accuracy: 0.0000e+00\nEpoch 29/100\n1/1 [==============================] - 0s 3ms/step - loss: 5.6074 - accuracy: 0.0000e+00\nEpoch 30/100\n1/1 [==============================] - 0s 4ms/step - loss: 5.5541 - accuracy: 0.0000e+00\nEpoch 31/100\n1/1 [==============================] - 0s 4ms/step - loss: 5.4568 - accuracy: 0.0000e+00\nEpoch 32/100\n1/1 [==============================] - 0s 4ms/step - loss: 5.3199 - accuracy: 0.0000e+00\nEpoch 33/100\n1/1 [==============================] - 0s 4ms/step - loss: 5.1477 - accuracy: 0.0000e+00\nEpoch 34/100\n1/1 [==============================] - 0s 4ms/step - loss: 4.9442 - accuracy: 0.0000e+00\nEpoch 35/100\n1/1 [==============================] - 0s 49ms/step - loss: 4.8239 - accuracy: 0.0000e+00\nEpoch 36/100\n1/1 [==============================] - 0s 4ms/step - loss: 4.7389 - accuracy: 0.0000e+00\nEpoch 37/100\n1/1 [==============================] - 0s 4ms/step - loss: 4.6657 - accuracy: 0.0000e+00\nEpoch 38/100\n1/1 [==============================] - 0s 3ms/step - loss: 4.5846 - accuracy: 0.0000e+00\nEpoch 39/100\n1/1 [==============================] - 0s 3ms/step - loss: 4.4027 - accuracy: 0.0000e+00\nEpoch 40/100\n1/1 [==============================] - 0s 3ms/step - loss: 4.2653 - accuracy: 0.0000e+00\nEpoch 41/100\n1/1 [==============================] - 0s 4ms/step - loss: 4.1212 - accuracy: 0.0000e+00\nEpoch 42/100\n1/1 [==============================] - 0s 3ms/step - loss: 3.9702 - accuracy: 0.0000e+00\nEpoch 43/100\n1/1 [==============================] - 0s 3ms/step - loss: 3.8272 - accuracy: 0.0000e+00\nEpoch 44/100\n1/1 [==============================] - 0s 58ms/step - loss: 3.7041 - accuracy: 0.0000e+00\nEpoch 45/100\n1/1 [==============================] - 0s 8ms/step - loss: 3.5320 - accuracy: 0.0000e+00\nEpoch 46/100\n1/1 [==============================] - 0s 4ms/step - loss: 3.3664 - accuracy: 0.0000e+00\nEpoch 47/100\n1/1 [==============================] - 0s 3ms/step - loss: 3.2116 - accuracy: 0.0000e+00\nEpoch 48/100\n1/1 [==============================] - 0s 4ms/step - loss: 3.0463 - accuracy: 0.0000e+00\nEpoch 49/100\n1/1 [==============================] - 0s 6ms/step - loss: 2.8705 - accuracy: 0.0000e+00\nEpoch 50/100\n1/1 [==============================] - 0s 3ms/step - loss: 2.6840 - accuracy: 0.0000e+00\nEpoch 51/100\n1/1 [==============================] - 0s 50ms/step - loss: 2.4868 - accuracy: 0.0000e+00\nEpoch 52/100\n1/1 [==============================] - 0s 5ms/step - loss: 2.2787 - accuracy: 0.0000e+00\nEpoch 53/100\n1/1 [==============================] - 0s 4ms/step - loss: 2.0596 - accuracy: 0.0000e+00\nEpoch 54/100\n1/1 [==============================] - 0s 4ms/step - loss: 1.8293 - accuracy: 0.0000e+00\nEpoch 55/100\n1/1 [==============================] - 0s 3ms/step - loss: 1.5876 - accuracy: 0.0000e+00\nEpoch 56/100\n1/1 [==============================] - 0s 4ms/step - loss: 1.3530 - accuracy: 0.0000e+00\nEpoch 57/100\n1/1 [==============================] - 0s 3ms/step - loss: 1.0849 - accuracy: 0.0000e+00\nEpoch 58/100\n1/1 [==============================] - 0s 4ms/step - loss: 0.8224 - accuracy: 0.0000e+00\nEpoch 59/100\n1/1 [==============================] - 0s 55ms/step - loss: 0.5467 - accuracy: 0.0000e+00\nEpoch 60/100\n1/1 [==============================] - 0s 4ms/step - loss: 0.2758 - accuracy: 0.0000e+00\nEpoch 61/100\n1/1 [==============================] - 0s 4ms/step - loss: 0.1354 - accuracy: 0.0000e+00\nEpoch 62/100\n1/1 [==============================] - 0s 4ms/step - loss: 0.4494 - accuracy: 0.0000e+00\nEpoch 63/100\n1/1 [==============================] - 0s 3ms/step - loss: 0.6498 - accuracy: 0.0000e+00\nEpoch 64/100\n1/1 [==============================] - 0s 6ms/step - loss: 0.6216 - accuracy: 0.0000e+00\nEpoch 65/100\n1/1 [==============================] - 0s 4ms/step - loss: 0.8036 - accuracy: 0.0000e+00\nEpoch 66/100\n1/1 [==============================] - 0s 4ms/step - loss: 0.7995 - accuracy: 0.0000e+00\nEpoch 67/100\n1/1 [==============================] - 0s 53ms/step - loss: 0.7409 - accuracy: 0.0000e+00\nEpoch 68/100\n1/1 [==============================] - 0s 4ms/step - loss: 0.7806 - accuracy: 0.0000e+00\nEpoch 69/100\n1/1 [==============================] - 0s 4ms/step - loss: 0.6305 - accuracy: 0.0000e+00\nEpoch 70/100\n1/1 [==============================] - 0s 4ms/step - loss: 0.5556 - accuracy: 0.0000e+00\nEpoch 71/100\n1/1 [==============================] - 0s 4ms/step - loss: 0.4306 - accuracy: 0.0000e+00\nEpoch 72/100\n1/1 [==============================] - 0s 4ms/step - loss: 0.2786 - accuracy: 0.0000e+00\nEpoch 73/100\n1/1 [==============================] - 0s 3ms/step - loss: 0.1378 - accuracy: 0.0000e+00\nEpoch 74/100\n1/1 [==============================] - 0s 4ms/step - loss: 0.1193 - accuracy: 0.0000e+00\nEpoch 75/100\n1/1 [==============================] - 0s 3ms/step - loss: 0.2777 - accuracy: 0.0000e+00\nEpoch 76/100\n1/1 [==============================] - 0s 54ms/step - loss: 0.3245 - accuracy: 0.0000e+00\nEpoch 77/100\n1/1 [==============================] - 0s 4ms/step - loss: 0.4157 - accuracy: 0.0000e+00\nEpoch 78/100\n1/1 [==============================] - 0s 4ms/step - loss: 0.4319 - accuracy: 0.0000e+00\nEpoch 79/100\n1/1 [==============================] - 0s 4ms/step - loss: 0.3391 - accuracy: 0.0000e+00\nEpoch 80/100\n1/1 [==============================] - 0s 4ms/step - loss: 0.2968 - accuracy: 0.0000e+00\nEpoch 81/100\n1/1 [==============================] - 0s 4ms/step - loss: 0.2355 - accuracy: 0.0000e+00\nEpoch 82/100\n1/1 [==============================] - 0s 3ms/step - loss: 0.1633 - accuracy: 0.0000e+00\nEpoch 83/100\n1/1 [==============================] - 0s 4ms/step - loss: 0.1339 - accuracy: 0.0000e+00\nEpoch 84/100\n1/1 [==============================] - 0s 52ms/step - loss: 0.1262 - accuracy: 0.0000e+00\nEpoch 85/100\n1/1 [==============================] - 0s 4ms/step - loss: 0.1702 - accuracy: 0.0000e+00\nEpoch 86/100\n1/1 [==============================] - 0s 4ms/step - loss: 0.2124 - accuracy: 0.0000e+00\nEpoch 87/100\n1/1 [==============================] - 0s 4ms/step - loss: 0.2288 - accuracy: 0.0000e+00\nEpoch 88/100\n1/1 [==============================] - 0s 4ms/step - loss: 0.1901 - accuracy: 0.0000e+00\nEpoch 89/100\n1/1 [==============================] - 0s 4ms/step - loss: 0.1354 - accuracy: 0.0000e+00\nEpoch 90/100\n1/1 [==============================] - 0s 4ms/step - loss: 0.1218 - accuracy: 0.0000e+00\nEpoch 91/100\n1/1 [==============================] - 0s 3ms/step - loss: 0.0382 - accuracy: 0.0000e+00\nEpoch 92/100\n1/1 [==============================] - 0s 4ms/step - loss: 0.2197 - accuracy: 0.0000e+00\nEpoch 93/100\n1/1 [==============================] - 0s 4ms/step - loss: 0.2189 - accuracy: 0.0000e+00\nEpoch 94/100\n1/1 [==============================] - 0s 4ms/step - loss: 0.1427 - accuracy: 0.0000e+00\nEpoch 95/100\n1/1 [==============================] - 0s 4ms/step - loss: 0.1168 - accuracy: 0.0000e+00\nEpoch 96/100\n1/1 [==============================] - 0s 3ms/step - loss: 0.2069 - accuracy: 0.0000e+00\nEpoch 97/100\n1/1 [==============================] - 0s 3ms/step - loss: 0.1524 - accuracy: 0.0000e+00\nEpoch 98/100\n1/1 [==============================] - 0s 3ms/step - loss: 0.2133 - accuracy: 0.0000e+00\nEpoch 99/100\n1/1 [==============================] - 0s 3ms/step - loss: 0.2329 - accuracy: 0.0000e+00\nEpoch 100/100\n1/1 [==============================] - 0s 57ms/step - loss: 0.0780 - accuracy: 0.0000e+00\n",
     "output_type": "stream"
    },
    {
     "output_type": "execute_result",
     "execution_count": 22,
     "data": {
      "text/plain": "<keras.callbacks.History at 0x7f6a441dbbe0>"
     },
     "metadata": {}
    }
   ],
   "execution_count": null
  },
  {
   "cell_type": "code",
   "metadata": {
    "cell_id": "e4812471bd0847dc9f6c672c1b05f424",
    "tags": [],
    "deepnote_to_be_reexecuted": false,
    "source_hash": "a1e691b8",
    "execution_start": 1657118286795,
    "execution_millis": 2,
    "deepnote_cell_type": "code",
    "deepnote_cell_height": 137.375,
    "deepnote_output_heights": [
     40.375
    ]
   },
   "source": "X, y",
   "outputs": [
    {
     "output_type": "execute_result",
     "execution_count": 23,
     "data": {
      "text/plain": "(<tf.Tensor: shape=(8,), dtype=float64, numpy=array([-7., -4., -1.,  2.,  5.,  8., 11., 14.])>,\n <tf.Tensor: shape=(8,), dtype=float64, numpy=array([ 3.,  6.,  9., 12., 15., 18., 21., 24.])>)"
     },
     "metadata": {}
    }
   ],
   "execution_count": null
  },
  {
   "cell_type": "code",
   "metadata": {
    "cell_id": "3ecc785f879c47de8c6b94e646838755",
    "tags": [],
    "deepnote_to_be_reexecuted": false,
    "source_hash": "54c6da22",
    "execution_start": 1657118286796,
    "execution_millis": 78,
    "deepnote_cell_type": "code",
    "deepnote_cell_height": 164.375,
    "deepnote_output_heights": [
     null,
     21.1875
    ]
   },
   "source": "model.predict([17.0])",
   "outputs": [
    {
     "name": "stdout",
     "text": "1/1 [==============================] - 0s 85ms/step\n",
     "output_type": "stream"
    },
    {
     "output_type": "execute_result",
     "execution_count": 24,
     "data": {
      "text/plain": "array([[26.583532]], dtype=float32)"
     },
     "metadata": {}
    }
   ],
   "execution_count": null
  },
  {
   "cell_type": "code",
   "metadata": {
    "cell_id": "83424fba56cf4b69935a6cb384894cef",
    "tags": [],
    "deepnote_to_be_reexecuted": false,
    "source_hash": "b623e53d",
    "execution_start": 1657118286878,
    "execution_millis": 2,
    "deepnote_cell_type": "code",
    "deepnote_cell_height": 81
   },
   "source": "",
   "outputs": [],
   "execution_count": null
  },
  {
   "cell_type": "markdown",
   "source": "Formas comunes de mejorar nuestro modelo\n- Añadirle más layers o capas\n- aumentar el número de unidades ocultas ó number of hidden units\n- cambiar la función de activación o activation function\n- Cambiar la función de optimización o optimization function\n- Cambiar la taza de aprendizaje ó learning rate\n    - El learning rate es el porcentaje de cambio con el que se actualizan los pesos en cada iteración, cada vez que se realiza una iterazión en el proceso de entrenamiento se deben de actualizar los pesos de la entrada para poder dar cada vez una mejor aproximación. \n    este trabajo de calcular error de los pesos se puede hacer con el algoritmo `SGD`, y en cada iteración calcula un nuevo valor para los pesos. Sin embargo, el hecho de poner los valores tal cual los obtiene puede ser perjudicial, podría equivocarse o pasarse demasiado en una iteración, por lo que se define un porcentaje de este nuevo valor, **learning rate**.\n    **El learning rate nos dice que tanto actualizamos los pesos en cada iteración, en un rango de 0 a1**\n\n    **Como podemos ver el learning rate es uno de los parámetros dek modelo que pueden afectar mayormente al comportamiento del modelo**\n- Añadir más información ó Fitting on more data\n- Fiting for longer increase the number of epochs",
   "metadata": {
    "cell_id": "f365048a7e8a40839c574cb6d78647f6",
    "tags": [],
    "deepnote_to_be_reexecuted": false,
    "source_hash": "cb63e136",
    "execution_start": 1656693419521,
    "execution_millis": 6,
    "deepnote_cell_type": "markdown",
    "deepnote_cell_height": 498.640625
   }
  },
  {
   "cell_type": "markdown",
   "source": "## Evaluar nuestro modelo\n En la práctica, una forma de trabajao que se lleva a cabo cuando creamos redes neuronales esÑ\n\n ```\n build a model -> fit it -> evaluate it -> tweak a model -> fit it -> evaluate it -> tweak a model -> fit it -> evaluate it...\n ```",
   "metadata": {
    "cell_id": "d4fa53d859ec4d99ab8ccde5ebdc9f9e",
    "tags": [],
    "deepnote_cell_type": "markdown",
    "deepnote_cell_height": 183.984375
   }
  },
  {
   "cell_type": "markdown",
   "source": "Cuando debemos de evaluar nuestro modelo hay 3 palabras que debemos de memorizar\n> Visualizar, Visualizar, visualizar\n\nEs una buena idea visualizar:\n- los datos - con que tipo de datos estamos trabajando? Como se ven los datos\n- Como es el modelo en si mismo - como luce nuestro modelo?\n- El entrenamiento de nuestro modelo - como se comporta un modelo mientras aprende\n- Las predicciones del modelo - Como hace las predicciones de una linea del modelo a comparación de las etiquetas originales?",
   "metadata": {
    "cell_id": "0e7b826ff91540c098878bfe6a6d9b1b",
    "tags": [],
    "deepnote_to_be_reexecuted": false,
    "source_hash": "b623e53d",
    "execution_start": 1656699657040,
    "deepnote_cell_type": "markdown",
    "deepnote_cell_height": 251.734375
   }
  },
  {
   "cell_type": "code",
   "metadata": {
    "cell_id": "7a3432920dcc41dc9f44d6add3e8867d",
    "tags": [],
    "deepnote_to_be_reexecuted": false,
    "source_hash": "5be659e4",
    "execution_start": 1657118286883,
    "execution_millis": 10,
    "deepnote_cell_type": "code",
    "deepnote_cell_height": 230.9375,
    "deepnote_output_heights": [
     97.9375
    ]
   },
   "source": "# Crear un dataset más grande\nX = np.arange(-100, 100, 4)\nX",
   "outputs": [
    {
     "output_type": "execute_result",
     "execution_count": 25,
     "data": {
      "text/plain": "array([-100,  -96,  -92,  -88,  -84,  -80,  -76,  -72,  -68,  -64,  -60,\n        -56,  -52,  -48,  -44,  -40,  -36,  -32,  -28,  -24,  -20,  -16,\n        -12,   -8,   -4,    0,    4,    8,   12,   16,   20,   24,   28,\n         32,   36,   40,   44,   48,   52,   56,   60,   64,   68,   72,\n         76,   80,   84,   88,   92,   96])"
     },
     "metadata": {}
    }
   ],
   "execution_count": null
  },
  {
   "cell_type": "code",
   "metadata": {
    "cell_id": "02c4bbfd4ce34aaba48107919c36732d",
    "tags": [],
    "deepnote_to_be_reexecuted": false,
    "source_hash": "d83c60da",
    "execution_start": 1657118286893,
    "execution_millis": 1,
    "deepnote_cell_type": "code",
    "deepnote_cell_height": 117
   },
   "source": "# Hacer las etiquetas para el conjunto de datos\ny = X +10\ny = list(y)",
   "outputs": [],
   "execution_count": null
  },
  {
   "cell_type": "code",
   "metadata": {
    "cell_id": "3263b44d82c648379b6b0794a2656cf3",
    "tags": [],
    "deepnote_to_be_reexecuted": false,
    "source_hash": "96b55ae5",
    "execution_start": 1657118286934,
    "execution_millis": 747,
    "deepnote_cell_type": "code",
    "deepnote_cell_height": 401,
    "deepnote_output_heights": [
     250
    ]
   },
   "source": "# Visualizar los datos\nimport matplotlib.pyplot as plt\nplt.scatter(X, y)\nplt.show()",
   "outputs": [
    {
     "data": {
      "text/plain": "<Figure size 432x288 with 1 Axes>",
      "image/png": "[encoded data removed]"
     },
     "metadata": {
      "needs_background": "light",
      "image/png": {
       "width": 377,
       "height": 248
      }
     },
     "output_type": "display_data"
    }
   ],
   "execution_count": null
  },
  {
   "cell_type": "markdown",
   "source": "### Los 3 conjuntos\n\n- **El conjunto de entrenamiento** - El modelo aprende de los datos, lo que es normalmente del 70-80% del total de los datos que se tienen disponibles\n- **El conjunto de validación** - El modelo se ajusta a estos datos, que suelen ser del 10 al 15 % de los datos disponibles.\n- **Conjunto de prueba** - el modelo se evalúa con estos datos para probar lo que se ha aprendido, este conjunto suele ser del 10 al 15% del total de datos disponibles",
   "metadata": {
    "cell_id": "cbc01deb0033463cbfdc6b11d2fef583",
    "tags": [],
    "deepnote_cell_type": "markdown",
    "deepnote_cell_height": 209.953125
   }
  },
  {
   "cell_type": "code",
   "metadata": {
    "cell_id": "4edf031bff4745768022a98ab56dc79a",
    "tags": [],
    "deepnote_to_be_reexecuted": false,
    "source_hash": "620775df",
    "execution_start": 1657118287242,
    "execution_millis": 457,
    "deepnote_cell_type": "code",
    "deepnote_cell_height": 136.1875,
    "deepnote_output_heights": [
     21.1875
    ]
   },
   "source": "# Obtener el numero de datos de nuestro modelo\nlen(X), X.shape",
   "outputs": [
    {
     "output_type": "execute_result",
     "execution_count": 28,
     "data": {
      "text/plain": "(50, (50,))"
     },
     "metadata": {}
    }
   ],
   "execution_count": null
  },
  {
   "cell_type": "markdown",
   "source": "Para este ejemplo usaremos la librería de `sklearn` para crear nuestras variables",
   "metadata": {
    "cell_id": "13bd10801f804bb29c6312ed492c01fe",
    "tags": [],
    "deepnote_cell_type": "markdown",
    "deepnote_cell_height": 52.390625
   }
  },
  {
   "cell_type": "code",
   "metadata": {
    "cell_id": "c0a3c12e202e4a65be7489d7a617156a",
    "tags": [],
    "deepnote_to_be_reexecuted": false,
    "source_hash": "80151128",
    "execution_start": 1657118287251,
    "execution_millis": 731,
    "deepnote_cell_type": "code",
    "deepnote_cell_height": 172.1875,
    "deepnote_output_heights": [
     21.1875
    ]
   },
   "source": "from sklearn.model_selection import train_test_split\n\nX_train, X_test, y_train, y_test = train_test_split(X, y, train_size=0.8)\nlen(X_train), len(X_test), len(y_train), len(y_test)",
   "outputs": [
    {
     "output_type": "execute_result",
     "execution_count": 29,
     "data": {
      "text/plain": "(40, 10, 40, 10)"
     },
     "metadata": {}
    }
   ],
   "execution_count": null
  },
  {
   "cell_type": "markdown",
   "source": "### Visualizar nuestros datos\n\n",
   "metadata": {
    "cell_id": "b53743552890410e858806e7a41e6d0e",
    "tags": [],
    "deepnote_to_be_reexecuted": false,
    "source_hash": "b623e53d",
    "execution_start": 1656702170669,
    "execution_millis": 9,
    "deepnote_cell_type": "markdown",
    "deepnote_cell_height": 62
   }
  },
  {
   "cell_type": "code",
   "metadata": {
    "cell_id": "3e2502ca3b9740878a873750e736e14b",
    "tags": [],
    "deepnote_to_be_reexecuted": false,
    "source_hash": "305f350f",
    "execution_start": 1657118287961,
    "execution_millis": 381,
    "deepnote_cell_type": "code",
    "deepnote_cell_height": 600,
    "deepnote_output_heights": [
     413
    ]
   },
   "source": "plt.figure(figsize=(10, 7))\n# graficar el entrenamiento en color azul\nplt.scatter(X_train, y_train, c=\"b\", label=\"Datos de entrenamiento\")\n# Graficar los datos de testeo en verde\nplt.scatter(X_test, y_test, c=\"g\", label=\"Test data\")\nplt.legend();",
   "outputs": [
    {
     "data": {
      "text/plain": "<Figure size 720x504 with 1 Axes>",
      "image/png": "[encoded data removed]"
     },
     "metadata": {
      "needs_background": "light",
      "image/png": {
       "width": 600,
       "height": 411
      }
     },
     "output_type": "display_data"
    }
   ],
   "execution_count": null
  },
  {
   "cell_type": "code",
   "metadata": {
    "cell_id": "aa9b7498ac1a4af88c372003147e2892",
    "tags": [],
    "deepnote_to_be_reexecuted": false,
    "source_hash": "82709e33",
    "execution_start": 1657118288340,
    "execution_millis": 8,
    "deepnote_cell_type": "code",
    "deepnote_cell_height": 369
   },
   "source": "# Ahora vamos a darle un vistazo a como crear nua red neuronal para nustros datos\n\n# 1. Primero debemos de crear un modelo\n\nmodel = tf.keras.Sequential([\n    tf.keras.layers.Dense(1)\n])\n\n# 2. Compilar el modelo\nmodel.compile(\n    loss=tf.keras.losses.mae,\n    optimizer=tf.keras.optimizers.SGD(),\n    metrics=[\"mae\"]\n)\n\n# fit the model\n# model.fit(X_train, y_train, epochs=100)",
   "outputs": [],
   "execution_count": null
  },
  {
   "cell_type": "code",
   "source": "tf.random.set_seed(43)\n\nmodel = tf.keras.Sequential([\n    tf.keras.layers.Dense(1, input_shape=[1]),\n])\n\nmodel.compile(\n    loss=tf.keras.losses.mae,\n    optimizer=tf.keras.optimizers.SGD(),\n    metrics=[\"mae\"]\n)",
   "metadata": {
    "cell_id": "64d77b376e0745be88237a697dff638f",
    "tags": [],
    "deepnote_to_be_reexecuted": false,
    "source_hash": "c3567e56",
    "execution_start": 1657118288395,
    "execution_millis": 1,
    "deepnote_cell_type": "code",
    "deepnote_cell_height": 261,
    "deepnote_output_heights": [
     21.1875
    ]
   },
   "outputs": [],
   "execution_count": null
  },
  {
   "cell_type": "code",
   "source": "model.summary()",
   "metadata": {
    "cell_id": "e5a4ead389f849cc82c437e5a654f118",
    "tags": [],
    "deepnote_to_be_reexecuted": false,
    "source_hash": "4e6a3b95",
    "execution_start": 1657118288396,
    "execution_millis": 39,
    "deepnote_cell_type": "code",
    "deepnote_cell_height": 314.0625
   },
   "outputs": [
    {
     "name": "stdout",
     "text": "Model: \"sequential_4\"\n_________________________________________________________________\n Layer (type)                Output Shape              Param #   \n=================================================================\n dense_5 (Dense)             (None, 1)                 2         \n                                                                 \n=================================================================\nTotal params: 2\nTrainable params: 2\nNon-trainable params: 0\n_________________________________________________________________\n",
     "output_type": "stream"
    }
   ],
   "execution_count": null
  },
  {
   "cell_type": "markdown",
   "source": "* Total-params: Numero total de parametros en el modelo\n* Trainable parameters: estos son los parámetros (patterns o patrones) que el modelo pude actualizar mientraas está entrenando\n* Non-trainable params: estos parametros no se pueden actualizar durante el entrenamiento (esto es típico cuando traes patrones o parametros pre entrenados de otro modelo durante **transfer learning**)\n\n**Recurso: ** para conocer mas sobre los tipos de parámetros en una capa o layer ver el video de mit introduction to deep learning [video](http://introtodeeplearning.com/)",
   "metadata": {
    "cell_id": "933a282b50d14fda90136357e6f9dfa3",
    "tags": [],
    "deepnote_cell_type": "markdown",
    "deepnote_cell_height": 187.34375
   },
   "outputs": [],
   "execution_count": null
  },
  {
   "cell_type": "code",
   "source": "# fit the model\nmodel.fit(X_train, np.array(y_train), epochs=100, verbose=1)",
   "metadata": {
    "cell_id": "6df4810dea06491bb83b11b0681e4715",
    "tags": [],
    "deepnote_to_be_reexecuted": false,
    "source_hash": "53c80a61",
    "execution_start": 1657118396012,
    "execution_millis": 1232,
    "deepnote_cell_type": "code",
    "deepnote_cell_height": 771.1875,
    "deepnote_output_heights": [
     null,
     21.1875
    ]
   },
   "outputs": [
    {
     "name": "stdout",
     "text": "Epoch 1/100\n2/2 [==============================] - 0s 2ms/step - loss: 83.3273 - mae: 83.3273\nEpoch 2/100\n2/2 [==============================] - 0s 2ms/step - loss: 34.9522 - mae: 34.9522\nEpoch 3/100\n2/2 [==============================] - 0s 2ms/step - loss: 12.1685 - mae: 12.1685\nEpoch 4/100\n2/2 [==============================] - 0s 2ms/step - loss: 9.9188 - mae: 9.9188\nEpoch 5/100\n2/2 [==============================] - 0s 2ms/step - loss: 14.7312 - mae: 14.7312\nEpoch 6/100\n2/2 [==============================] - 0s 2ms/step - loss: 16.7288 - mae: 16.7288\nEpoch 7/100\n2/2 [==============================] - 0s 2ms/step - loss: 9.4128 - mae: 9.4128\nEpoch 8/100\n2/2 [==============================] - 0s 2ms/step - loss: 18.1217 - mae: 18.1217\nEpoch 9/100\n2/2 [==============================] - 0s 3ms/step - loss: 9.9520 - mae: 9.9520\nEpoch 10/100\n2/2 [==============================] - 0s 2ms/step - loss: 21.3751 - mae: 21.3751\nEpoch 11/100\n2/2 [==============================] - 0s 2ms/step - loss: 11.0268 - mae: 11.0268\nEpoch 12/100\n2/2 [==============================] - 0s 2ms/step - loss: 15.9589 - mae: 15.9589\nEpoch 13/100\n2/2 [==============================] - 0s 2ms/step - loss: 9.3363 - mae: 9.3363\nEpoch 14/100\n2/2 [==============================] - 0s 2ms/step - loss: 13.2664 - mae: 13.2664\nEpoch 15/100\n2/2 [==============================] - 0s 2ms/step - loss: 8.9603 - mae: 8.9603\nEpoch 16/100\n2/2 [==============================] - 0s 2ms/step - loss: 9.0753 - mae: 9.0753\nEpoch 17/100\n2/2 [==============================] - 0s 3ms/step - loss: 19.8047 - mae: 19.8047\nEpoch 18/100\n2/2 [==============================] - 0s 2ms/step - loss: 11.4461 - mae: 11.4461\nEpoch 19/100\n2/2 [==============================] - 0s 2ms/step - loss: 9.4390 - mae: 9.4390\nEpoch 20/100\n2/2 [==============================] - 0s 2ms/step - loss: 12.1165 - mae: 12.1165\nEpoch 21/100\n2/2 [==============================] - 0s 3ms/step - loss: 9.5963 - mae: 9.5963\nEpoch 22/100\n2/2 [==============================] - 0s 2ms/step - loss: 10.6558 - mae: 10.6558\nEpoch 23/100\n2/2 [==============================] - 0s 2ms/step - loss: 9.7044 - mae: 9.7044\nEpoch 24/100\n2/2 [==============================] - 0s 2ms/step - loss: 10.9885 - mae: 10.9885\nEpoch 25/100\n2/2 [==============================] - 0s 3ms/step - loss: 9.8410 - mae: 9.8410\nEpoch 26/100\n2/2 [==============================] - 0s 3ms/step - loss: 17.7615 - mae: 17.7615\nEpoch 27/100\n2/2 [==============================] - 0s 3ms/step - loss: 12.6353 - mae: 12.6353\nEpoch 28/100\n2/2 [==============================] - 0s 3ms/step - loss: 14.8428 - mae: 14.8428\nEpoch 29/100\n2/2 [==============================] - 0s 2ms/step - loss: 13.3691 - mae: 13.3691\nEpoch 30/100\n2/2 [==============================] - 0s 2ms/step - loss: 10.2710 - mae: 10.2710\nEpoch 31/100\n2/2 [==============================] - 0s 2ms/step - loss: 10.8987 - mae: 10.8987\nEpoch 32/100\n2/2 [==============================] - 0s 2ms/step - loss: 10.2146 - mae: 10.2146\nEpoch 33/100\n2/2 [==============================] - 0s 3ms/step - loss: 17.8149 - mae: 17.8149\nEpoch 34/100\n2/2 [==============================] - 0s 2ms/step - loss: 11.3434 - mae: 11.3434\nEpoch 35/100\n2/2 [==============================] - 0s 2ms/step - loss: 9.9560 - mae: 9.9560\nEpoch 36/100\n2/2 [==============================] - 0s 2ms/step - loss: 9.0439 - mae: 9.0439\nEpoch 37/100\n2/2 [==============================] - 0s 2ms/step - loss: 13.8776 - mae: 13.8776\nEpoch 38/100\n2/2 [==============================] - 0s 2ms/step - loss: 8.7039 - mae: 8.7039\nEpoch 39/100\n2/2 [==============================] - 0s 3ms/step - loss: 8.8582 - mae: 8.8582\nEpoch 40/100\n2/2 [==============================] - 0s 2ms/step - loss: 10.3212 - mae: 10.3212\nEpoch 41/100\n2/2 [==============================] - 0s 2ms/step - loss: 11.6582 - mae: 11.6582\nEpoch 42/100\n2/2 [==============================] - 0s 2ms/step - loss: 9.0642 - mae: 9.0642\nEpoch 43/100\n2/2 [==============================] - 0s 2ms/step - loss: 10.5440 - mae: 10.5440\nEpoch 44/100\n2/2 [==============================] - 0s 2ms/step - loss: 9.4600 - mae: 9.4600\nEpoch 45/100\n2/2 [==============================] - 0s 2ms/step - loss: 12.5131 - mae: 12.5131\nEpoch 46/100\n2/2 [==============================] - 0s 2ms/step - loss: 8.6395 - mae: 8.6395\nEpoch 47/100\n2/2 [==============================] - 0s 2ms/step - loss: 14.2983 - mae: 14.2983\nEpoch 48/100\n2/2 [==============================] - 0s 2ms/step - loss: 12.2159 - mae: 12.2159\nEpoch 49/100\n2/2 [==============================] - 0s 2ms/step - loss: 9.3175 - mae: 9.3175\nEpoch 50/100\n2/2 [==============================] - 0s 2ms/step - loss: 10.9326 - mae: 10.9326\nEpoch 51/100\n2/2 [==============================] - 0s 3ms/step - loss: 10.7229 - mae: 10.7229\nEpoch 52/100\n2/2 [==============================] - 0s 2ms/step - loss: 8.5617 - mae: 8.5617\nEpoch 53/100\n2/2 [==============================] - 0s 5ms/step - loss: 8.4138 - mae: 8.4138\nEpoch 54/100\n2/2 [==============================] - 0s 2ms/step - loss: 8.6777 - mae: 8.6777\nEpoch 55/100\n2/2 [==============================] - 0s 2ms/step - loss: 11.8037 - mae: 11.8037\nEpoch 56/100\n2/2 [==============================] - 0s 2ms/step - loss: 13.2512 - mae: 13.2512\nEpoch 57/100\n2/2 [==============================] - 0s 3ms/step - loss: 10.8213 - mae: 10.8213\nEpoch 58/100\n2/2 [==============================] - 0s 2ms/step - loss: 10.3359 - mae: 10.3359\nEpoch 59/100\n2/2 [==============================] - 0s 2ms/step - loss: 8.6338 - mae: 8.6338\nEpoch 60/100\n2/2 [==============================] - 0s 2ms/step - loss: 17.5115 - mae: 17.5115\nEpoch 61/100\n2/2 [==============================] - 0s 2ms/step - loss: 13.8236 - mae: 13.8236\nEpoch 62/100\n2/2 [==============================] - 0s 2ms/step - loss: 11.7319 - mae: 11.7319\nEpoch 63/100\n2/2 [==============================] - 0s 2ms/step - loss: 11.6831 - mae: 11.6831\nEpoch 64/100\n2/2 [==============================] - 0s 2ms/step - loss: 9.5616 - mae: 9.5616\nEpoch 65/100\n2/2 [==============================] - 0s 2ms/step - loss: 8.7284 - mae: 8.7284\nEpoch 66/100\n2/2 [==============================] - 0s 2ms/step - loss: 9.4470 - mae: 9.4470\nEpoch 67/100\n2/2 [==============================] - 0s 2ms/step - loss: 9.2108 - mae: 9.2108\nEpoch 68/100\n2/2 [==============================] - 0s 3ms/step - loss: 9.7431 - mae: 9.7431\nEpoch 69/100\n2/2 [==============================] - 0s 2ms/step - loss: 8.4200 - mae: 8.4200\nEpoch 70/100\n2/2 [==============================] - 0s 2ms/step - loss: 18.8465 - mae: 18.8465\nEpoch 71/100\n2/2 [==============================] - 0s 2ms/step - loss: 9.3922 - mae: 9.3922\nEpoch 72/100\n2/2 [==============================] - 0s 2ms/step - loss: 13.0134 - mae: 13.0134\nEpoch 73/100\n2/2 [==============================] - 0s 2ms/step - loss: 10.3843 - mae: 10.3843\nEpoch 74/100\n2/2 [==============================] - 0s 2ms/step - loss: 8.7159 - mae: 8.7159\nEpoch 75/100\n2/2 [==============================] - 0s 2ms/step - loss: 13.0330 - mae: 13.0330\nEpoch 76/100\n2/2 [==============================] - 0s 2ms/step - loss: 11.6973 - mae: 11.6973\nEpoch 77/100\n2/2 [==============================] - 0s 2ms/step - loss: 10.3536 - mae: 10.3536\nEpoch 78/100\n2/2 [==============================] - 0s 2ms/step - loss: 8.3362 - mae: 8.3362\nEpoch 79/100\n2/2 [==============================] - 0s 2ms/step - loss: 13.4409 - mae: 13.4409\nEpoch 80/100\n2/2 [==============================] - 0s 2ms/step - loss: 11.9406 - mae: 11.9406\nEpoch 81/100\n2/2 [==============================] - 0s 4ms/step - loss: 9.2669 - mae: 9.2669\nEpoch 82/100\n2/2 [==============================] - 0s 3ms/step - loss: 13.1503 - mae: 13.1503\nEpoch 83/100\n2/2 [==============================] - 0s 3ms/step - loss: 10.2430 - mae: 10.2430\nEpoch 84/100\n2/2 [==============================] - 0s 3ms/step - loss: 10.4299 - mae: 10.4299\nEpoch 85/100\n2/2 [==============================] - 0s 2ms/step - loss: 14.9009 - mae: 14.9009\nEpoch 86/100\n2/2 [==============================] - 0s 3ms/step - loss: 9.5100 - mae: 9.5100\nEpoch 87/100\n2/2 [==============================] - 0s 3ms/step - loss: 8.5577 - mae: 8.5577\nEpoch 88/100\n2/2 [==============================] - 0s 2ms/step - loss: 11.5196 - mae: 11.5196\nEpoch 89/100\n2/2 [==============================] - 0s 2ms/step - loss: 9.1355 - mae: 9.1355\nEpoch 90/100\n2/2 [==============================] - 0s 2ms/step - loss: 10.5652 - mae: 10.5652\nEpoch 91/100\n2/2 [==============================] - 0s 3ms/step - loss: 8.6304 - mae: 8.6304\nEpoch 92/100\n2/2 [==============================] - 0s 2ms/step - loss: 9.2311 - mae: 9.2311\nEpoch 93/100\n2/2 [==============================] - 0s 2ms/step - loss: 8.0940 - mae: 8.0940\nEpoch 94/100\n2/2 [==============================] - 0s 2ms/step - loss: 9.2981 - mae: 9.2981\nEpoch 95/100\n2/2 [==============================] - 0s 2ms/step - loss: 9.6417 - mae: 9.6417\nEpoch 96/100\n2/2 [==============================] - 0s 2ms/step - loss: 11.1075 - mae: 11.1075\nEpoch 97/100\n2/2 [==============================] - 0s 5ms/step - loss: 7.8596 - mae: 7.8596\nEpoch 98/100\n2/2 [==============================] - 0s 2ms/step - loss: 8.2015 - mae: 8.2015\nEpoch 99/100\n2/2 [==============================] - 0s 2ms/step - loss: 16.3813 - mae: 16.3813\nEpoch 100/100\n2/2 [==============================] - 0s 2ms/step - loss: 7.8298 - mae: 7.8298\n",
     "output_type": "stream"
    },
    {
     "output_type": "execute_result",
     "execution_count": 37,
     "data": {
      "text/plain": "<keras.callbacks.History at 0x7f6a44642d00>"
     },
     "metadata": {}
    }
   ],
   "execution_count": null
  },
  {
   "cell_type": "code",
   "source": "# obtener el `Summary` de nustro modelo\nmodel.summary()",
   "metadata": {
    "cell_id": "4c9ca2eeb18f4b1e8c915bd3e2ae39e9",
    "tags": [],
    "deepnote_to_be_reexecuted": false,
    "source_hash": "91e32eda",
    "execution_start": 1657118983653,
    "execution_millis": 47,
    "deepnote_cell_type": "code",
    "deepnote_cell_height": 332.0625
   },
   "outputs": [
    {
     "name": "stdout",
     "text": "Model: \"sequential_4\"\n_________________________________________________________________\n Layer (type)                Output Shape              Param #   \n=================================================================\n dense_5 (Dense)             (None, 1)                 2         \n                                                                 \n=================================================================\nTotal params: 2\nTrainable params: 2\nNon-trainable params: 0\n_________________________________________________________________\n",
     "output_type": "stream"
    }
   ],
   "execution_count": null
  },
  {
   "cell_type": "code",
   "source": "from tensorflow.keras.utils import plot_model\n\nplot_model(model=model)",
   "metadata": {
    "cell_id": "9a48e4177d0f4b69920e1777a8d2dadd",
    "tags": [],
    "deepnote_to_be_reexecuted": false,
    "source_hash": "eaf736f6",
    "execution_start": 1657119426414,
    "execution_millis": 5,
    "owner_user_id": "6b4a8dcb-83e3-48d8-857e-449aa20f64fc",
    "deepnote_cell_type": "code",
    "deepnote_cell_height": 152.1875
   },
   "outputs": [
    {
     "name": "stdout",
     "text": "You must install pydot (`pip install pydot`) and install graphviz (see instructions at https://graphviz.gitlab.io/download/) for plot_model/model_to_dot to work.\n",
     "output_type": "stream"
    }
   ],
   "execution_count": null
  },
  {
   "cell_type": "markdown",
   "source": "<a style='text-decoration:none;line-height:16px;display:flex;color:#5B5B62;padding:10px;justify-content:end;' href='https://deepnote.com?utm_source=created-in-deepnote-cell&projectId=2869a320-b9f1-4921-b902-9f4d298235ae' target=\"_blank\">\n<img alt='Created in deepnote.com' style='display:inline;max-height:16px;margin:0px;margin-right:7.5px;' src='data:image/svg+xml;base64,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' > </img>\nCreated in <span style='font-weight:600;margin-left:4px;'>Deepnote</span></a>",
   "metadata": {
    "tags": [],
    "created_in_deepnote_cell": true,
    "deepnote_cell_type": "markdown"
   }
  }
 ],
 "nbformat": 4,
 "nbformat_minor": 2,
 "metadata": {
  "orig_nbformat": 2,
  "deepnote": {},
  "deepnote_notebook_id": "e07b42b2-b3fa-4317-b7a9-f48d8c7c7a1d",
  "deepnote_execution_queue": []
 }
}