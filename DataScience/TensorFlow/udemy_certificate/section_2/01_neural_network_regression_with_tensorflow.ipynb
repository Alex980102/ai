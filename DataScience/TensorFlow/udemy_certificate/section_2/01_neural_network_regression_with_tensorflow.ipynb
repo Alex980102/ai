{
 "cells": [
  {
   "cell_type": "markdown",
   "source": "# Introducción a la regresión con red neuronal en tensorflow\n\nSe puede definir un problema de regresión como: predecir una variable numérica basado en otras combinaciones de variables para predecir un número.\n\nLink al repositorio del curso [Repositorio de GitHub](https://github.com/mrdbourke/tensorflow-deep-learning)",
   "metadata": {
    "tags": [],
    "cell_id": "7440b23a-4b5d-4cab-be9c-f0f0d81140ab",
    "deepnote_cell_type": "markdown",
    "deepnote_cell_height": 231.171875
   }
  },
  {
   "cell_type": "code",
   "metadata": {
    "cell_id": "dcc94ed960974d2786c485ee04a7af1a",
    "tags": [],
    "deepnote_to_be_reexecuted": false,
    "source_hash": "cdba5d86",
    "execution_start": 1655643665739,
    "execution_millis": 6598,
    "deepnote_cell_type": "code",
    "deepnote_cell_height": 154.1875,
    "deepnote_output_heights": [
     21.1875
    ]
   },
   "source": "# Importar Tensorflow\nimport tensorflow as tf\ntf.__version__",
   "execution_count": 1,
   "outputs": [
    {
     "output_type": "execute_result",
     "execution_count": 1,
     "data": {
      "text/plain": "'2.9.1'"
     },
     "metadata": {}
    }
   ]
  },
  {
   "cell_type": "markdown",
   "source": "## crear datos para ver y ajustar ",
   "metadata": {
    "cell_id": "3d373a8d914e4b888a5b136cb8327a6b",
    "tags": [],
    "deepnote_cell_type": "markdown",
    "deepnote_cell_height": 70
   }
  },
  {
   "cell_type": "code",
   "metadata": {
    "cell_id": "e38697de32eb497e9506bdb807a8f376",
    "tags": [],
    "deepnote_to_be_reexecuted": false,
    "source_hash": "c826858b",
    "execution_start": 1655643672336,
    "execution_millis": 2252,
    "deepnote_cell_type": "code",
    "deepnote_cell_height": 531,
    "deepnote_output_heights": [
     254
    ]
   },
   "source": "import numpy as np\nimport matplotlib.pyplot as plt\n\n# Crear Propiedades\nX = np.arange(start=-7, stop=15, step=3, dtype=np.float64)\n\n# Crear etiquetas o labels\ny = np.arange(start=3, stop=25, step=3, dtype=np.float64)\n\nplt.scatter(X, y)\nplt.show()",
   "execution_count": 2,
   "outputs": [
    {
     "data": {
      "text/plain": "<Figure size 432x288 with 1 Axes>",
      "image/png": "[encoded data removed]"
     },
     "metadata": {
      "needs_background": "light",
      "image/png": {
       "width": 374,
       "height": 252
      }
     },
     "output_type": "display_data"
    }
   ]
  },
  {
   "cell_type": "code",
   "metadata": {
    "cell_id": "a124ba5f1ceb4d67875d026d9337ddd1",
    "tags": [],
    "deepnote_to_be_reexecuted": false,
    "source_hash": "ce04b77e",
    "execution_start": 1655643674510,
    "execution_millis": 78,
    "deepnote_cell_type": "code",
    "deepnote_cell_height": 118.1875,
    "deepnote_output_heights": [
     21.1875
    ]
   },
   "source": "y",
   "execution_count": 3,
   "outputs": [
    {
     "output_type": "execute_result",
     "execution_count": 3,
     "data": {
      "text/plain": "array([ 3.,  6.,  9., 12., 15., 18., 21., 24.])"
     },
     "metadata": {}
    }
   ]
  },
  {
   "cell_type": "code",
   "metadata": {
    "cell_id": "d8313f0567b4455587056336a931b326",
    "tags": [],
    "deepnote_to_be_reexecuted": false,
    "source_hash": "90332b9a",
    "execution_start": 1655643674520,
    "execution_millis": 69,
    "deepnote_cell_type": "code",
    "deepnote_cell_height": 118.1875,
    "deepnote_output_heights": [
     21.1875
    ]
   },
   "source": "X+10",
   "execution_count": 4,
   "outputs": [
    {
     "output_type": "execute_result",
     "execution_count": 4,
     "data": {
      "text/plain": "array([ 3.,  6.,  9., 12., 15., 18., 21., 24.])"
     },
     "metadata": {}
    }
   ]
  },
  {
   "cell_type": "markdown",
   "source": "## input and output shapes",
   "metadata": {
    "cell_id": "2be28672e93a447faa1dc85b46b8822e",
    "tags": [],
    "deepnote_to_be_reexecuted": false,
    "source_hash": "b623e53d",
    "execution_start": 1655593412139,
    "deepnote_cell_type": "markdown",
    "deepnote_cell_height": 70
   }
  },
  {
   "cell_type": "code",
   "metadata": {
    "cell_id": "fa9d0f0a53094f268afb584834337e1d",
    "tags": [],
    "deepnote_to_be_reexecuted": false,
    "source_hash": "1d73bdd5",
    "execution_start": 1655643674559,
    "execution_millis": 31,
    "deepnote_cell_type": "code",
    "deepnote_cell_height": 173.375,
    "deepnote_output_heights": [
     40.375
    ]
   },
   "source": "house_info = tf.constant([\"bedroom\", \"bathroom\", \"garage\"])\nhouse_price = tf.constant([939700])\nhouse_info, house_price",
   "execution_count": 5,
   "outputs": [
    {
     "output_type": "execute_result",
     "execution_count": 5,
     "data": {
      "text/plain": "(<tf.Tensor: shape=(3,), dtype=string, numpy=array([b'bedroom', b'bathroom', b'garage'], dtype=object)>,\n <tf.Tensor: shape=(1,), dtype=int32, numpy=array([939700], dtype=int32)>)"
     },
     "metadata": {}
    }
   ]
  },
  {
   "cell_type": "code",
   "metadata": {
    "cell_id": "8d24f6b1e5c34481b5511fd2214ac7ea",
    "tags": [],
    "deepnote_to_be_reexecuted": false,
    "source_hash": "34e1389b",
    "execution_start": 1655643674568,
    "execution_millis": 25,
    "deepnote_cell_type": "code",
    "deepnote_cell_height": 154.1875,
    "deepnote_output_heights": [
     21.1875
    ]
   },
   "source": "input_shape = X.shape\noutput_shape = y.shape\ninput_shape, output_shape",
   "execution_count": 6,
   "outputs": [
    {
     "output_type": "execute_result",
     "execution_count": 6,
     "data": {
      "text/plain": "((8,), (8,))"
     },
     "metadata": {}
    }
   ]
  },
  {
   "cell_type": "code",
   "metadata": {
    "cell_id": "2a0c3cebc04945c19e9bad2233a587d8",
    "tags": [],
    "deepnote_to_be_reexecuted": false,
    "source_hash": "d0979081",
    "execution_start": 1655643674578,
    "execution_millis": 17,
    "deepnote_cell_type": "code",
    "deepnote_cell_height": 118.1875,
    "deepnote_output_heights": [
     21.1875
    ]
   },
   "source": "X[0], y[0]",
   "execution_count": 7,
   "outputs": [
    {
     "output_type": "execute_result",
     "execution_count": 7,
     "data": {
      "text/plain": "(-7.0, 3.0)"
     },
     "metadata": {}
    }
   ]
  },
  {
   "cell_type": "code",
   "metadata": {
    "cell_id": "6cc52521ace14f299805fec078f47228",
    "tags": [],
    "deepnote_to_be_reexecuted": false,
    "source_hash": "cd73f483",
    "execution_start": 1655643674586,
    "execution_millis": 5,
    "deepnote_cell_type": "code",
    "deepnote_cell_height": 118.1875,
    "deepnote_output_heights": [
     21.1875
    ]
   },
   "source": "X[1], y[1]",
   "execution_count": 8,
   "outputs": [
    {
     "output_type": "execute_result",
     "execution_count": 8,
     "data": {
      "text/plain": "(-4.0, 6.0)"
     },
     "metadata": {}
    }
   ]
  },
  {
   "cell_type": "code",
   "metadata": {
    "cell_id": "ab35b4758bc14d07816dba1c9d982639",
    "tags": [],
    "deepnote_to_be_reexecuted": false,
    "source_hash": "644a7e4f",
    "execution_start": 1655643674596,
    "execution_millis": 6,
    "deepnote_cell_type": "code",
    "deepnote_cell_height": 154.1875,
    "deepnote_output_heights": [
     21.1875
    ]
   },
   "source": "input_shape = X[0].shape\noutput_shape = y[0].shape\ninput_shape, output_shape",
   "execution_count": 9,
   "outputs": [
    {
     "output_type": "execute_result",
     "execution_count": 9,
     "data": {
      "text/plain": "((), ())"
     },
     "metadata": {}
    }
   ]
  },
  {
   "cell_type": "code",
   "metadata": {
    "cell_id": "db68ca3a309e451cbc5669f29d85b69b",
    "tags": [],
    "deepnote_to_be_reexecuted": false,
    "source_hash": "7c868214",
    "execution_start": 1655643674603,
    "execution_millis": 3,
    "deepnote_cell_type": "code",
    "deepnote_cell_height": 118.1875,
    "deepnote_output_heights": [
     21.1875
    ]
   },
   "source": "X[0].ndim",
   "execution_count": 10,
   "outputs": [
    {
     "output_type": "execute_result",
     "execution_count": 10,
     "data": {
      "text/plain": "0"
     },
     "metadata": {}
    }
   ]
  },
  {
   "cell_type": "code",
   "metadata": {
    "cell_id": "72cd9e8504b64ff99206c480cbf0bf42",
    "tags": [],
    "deepnote_to_be_reexecuted": false,
    "source_hash": "d0979081",
    "execution_start": 1655643674651,
    "execution_millis": 1,
    "deepnote_cell_type": "code",
    "deepnote_cell_height": 118.1875,
    "deepnote_output_heights": [
     21.1875
    ]
   },
   "source": "X[0], y[0]",
   "execution_count": 11,
   "outputs": [
    {
     "output_type": "execute_result",
     "execution_count": 11,
     "data": {
      "text/plain": "(-7.0, 3.0)"
     },
     "metadata": {}
    }
   ]
  },
  {
   "cell_type": "code",
   "metadata": {
    "cell_id": "2e024a330a334c3585e8acacd25aacb8",
    "tags": [],
    "deepnote_to_be_reexecuted": false,
    "source_hash": "9d1904c",
    "execution_start": 1655643674651,
    "execution_millis": 50,
    "deepnote_cell_type": "code",
    "deepnote_cell_height": 191.375,
    "deepnote_output_heights": [
     40.375
    ]
   },
   "source": "# Convertir nuestro array de Numpy en un tensor\nX = tf.constant(X)\ny = tf.constant(y)\nX, y",
   "execution_count": 12,
   "outputs": [
    {
     "output_type": "execute_result",
     "execution_count": 12,
     "data": {
      "text/plain": "(<tf.Tensor: shape=(8,), dtype=float64, numpy=array([-7., -4., -1.,  2.,  5.,  8., 11., 14.])>,\n <tf.Tensor: shape=(8,), dtype=float64, numpy=array([ 3.,  6.,  9., 12., 15., 18., 21., 24.])>)"
     },
     "metadata": {}
    }
   ]
  },
  {
   "cell_type": "code",
   "metadata": {
    "cell_id": "064c4e1a644b4bfba43015aeb0695f0d",
    "tags": [],
    "deepnote_to_be_reexecuted": false,
    "source_hash": "3fdabc42",
    "execution_start": 1655643674700,
    "execution_millis": 2,
    "deepnote_cell_type": "code",
    "deepnote_cell_height": 172.1875,
    "deepnote_output_heights": [
     21.1875
    ]
   },
   "source": "input_shape = X[0].shape\noutput_shape = y[0].shape\ninput_shape, output_shape\n",
   "execution_count": 13,
   "outputs": [
    {
     "output_type": "execute_result",
     "execution_count": 13,
     "data": {
      "text/plain": "(TensorShape([]), TensorShape([]))"
     },
     "metadata": {}
    }
   ]
  },
  {
   "cell_type": "code",
   "metadata": {
    "cell_id": "b6844064d0f642bf842c4d9e63c34b38",
    "tags": [],
    "deepnote_to_be_reexecuted": false,
    "source_hash": "cc749a87",
    "execution_start": 1655643674701,
    "execution_millis": 226,
    "deepnote_cell_type": "code",
    "deepnote_cell_height": 403.1875,
    "deepnote_output_heights": [
     21.1875,
     254
    ]
   },
   "source": "plt.scatter(X, y)",
   "execution_count": 14,
   "outputs": [
    {
     "output_type": "execute_result",
     "execution_count": 14,
     "data": {
      "text/plain": "<matplotlib.collections.PathCollection at 0x7f9fb235f7f0>"
     },
     "metadata": {}
    },
    {
     "data": {
      "text/plain": "<Figure size 432x288 with 1 Axes>",
      "image/png": "[encoded data removed]"
     },
     "metadata": {
      "needs_background": "light",
      "image/png": {
       "width": 374,
       "height": 252
      }
     },
     "output_type": "display_data"
    }
   ]
  },
  {
   "cell_type": "markdown",
   "source": "## Pasos para modelar con Tensorflow\n1. **Crear un modelo**: Defina las capas `layers` de entrada `input` y salida `output`, así como las capas ocultas `hidden layers` de un modelo de aprendizaje profundo `deep learning`.\n2. **Compilar un modelo**: Definir la función de pérdida `loss function` (en otras palabras, la función que le dice a nuestro modelo cómo mejorar los patrones su aprendizaje) y las métricas de evaluación (lo que podemos usar para interpretar el rendimiento de nuestro modelo)\n3. **Ajustar el modelo o** `Fitting the model`: Dejar que el modelo encuentre patrones entre X & y (features and labels)",
   "metadata": {
    "cell_id": "2e665d48c8a44cea9f1100dba438d988",
    "tags": [],
    "deepnote_cell_type": "markdown",
    "deepnote_cell_height": 240.34375
   }
  },
  {
   "cell_type": "code",
   "metadata": {
    "cell_id": "4525bbcf8f67437aafdfa730da4da4b9",
    "tags": [],
    "deepnote_to_be_reexecuted": false,
    "source_hash": "3cc86bfc",
    "execution_start": 1655643674982,
    "execution_millis": 619,
    "deepnote_cell_type": "code",
    "deepnote_cell_height": 634.0625,
    "deepnote_output_heights": [
     null,
     21.1875
    ]
   },
   "source": "# Set random seed\ntf.random.set_seed(42)\n\n# 1. Crear el modelo usando la api Sequential\nmodel = tf.keras.Sequential([\n    tf.keras.layers.Dense(1)\n])\n\n# 2. Compilar el modelo\nmodel.compile(\n    loss=tf.keras.losses.mae, # mae significa mean absolute error\n    optimizer=tf.keras.optimizers.SGD(), # SGD significa stochastic gradient descent \n    metrics=[\"mae\"]\n    )\n\n# 3. Fit the model o ajustar el modelo \nmodel.fit(tf.expand_dims(X, axis=-1), y, epochs=5)",
   "execution_count": 15,
   "outputs": [
    {
     "name": "stdout",
     "text": "Epoch 1/5\n1/1 [==============================] - 0s 365ms/step - loss: 11.5048 - mae: 11.5048\nEpoch 2/5\n1/1 [==============================] - 0s 3ms/step - loss: 11.3723 - mae: 11.3723\nEpoch 3/5\n1/1 [==============================] - 0s 4ms/step - loss: 11.2398 - mae: 11.2398\nEpoch 4/5\n1/1 [==============================] - 0s 3ms/step - loss: 11.1073 - mae: 11.1073\nEpoch 5/5\n1/1 [==============================] - 0s 3ms/step - loss: 10.9748 - mae: 10.9748\n",
     "output_type": "stream"
    },
    {
     "output_type": "execute_result",
     "execution_count": 15,
     "data": {
      "text/plain": "<keras.callbacks.History at 0x7fa00acdf520>"
     },
     "metadata": {}
    }
   ]
  },
  {
   "cell_type": "code",
   "metadata": {
    "cell_id": "22ebb2f5db67422f9dc49627b275cd13",
    "tags": [],
    "deepnote_to_be_reexecuted": false,
    "source_hash": "e7255055",
    "execution_start": 1655643675604,
    "execution_millis": 4,
    "deepnote_cell_type": "code",
    "deepnote_cell_height": 155.375,
    "deepnote_output_heights": [
     40.375
    ]
   },
   "source": "# Vamos a checar X & y\nX, y",
   "execution_count": 16,
   "outputs": [
    {
     "output_type": "execute_result",
     "execution_count": 16,
     "data": {
      "text/plain": "(<tf.Tensor: shape=(8,), dtype=float64, numpy=array([-7., -4., -1.,  2.,  5.,  8., 11., 14.])>,\n <tf.Tensor: shape=(8,), dtype=float64, numpy=array([ 3.,  6.,  9., 12., 15., 18., 21., 24.])>)"
     },
     "metadata": {}
    }
   ]
  },
  {
   "cell_type": "code",
   "metadata": {
    "cell_id": "e009ce1a4b014e8d9a18823ebc9ca46e",
    "tags": [],
    "deepnote_to_be_reexecuted": false,
    "source_hash": "d15c1d47",
    "execution_start": 1655643675655,
    "execution_millis": 115,
    "deepnote_cell_type": "code",
    "deepnote_cell_height": 200.375,
    "deepnote_output_heights": [
     null,
     21.1875
    ]
   },
   "source": "# Vamos a intentar hacer una predicción usando nuestro modelo\ny_pred = model.predict([17.0])\ny_pred",
   "execution_count": 17,
   "outputs": [
    {
     "name": "stdout",
     "text": "1/1 [==============================] - 0s 82ms/step\n",
     "output_type": "stream"
    },
    {
     "output_type": "execute_result",
     "execution_count": 17,
     "data": {
      "text/plain": "array([[12.716021]], dtype=float32)"
     },
     "metadata": {}
    }
   ]
  },
  {
   "cell_type": "code",
   "metadata": {
    "cell_id": "0d43deb96b464310aa97864cb4584dfa",
    "tags": [],
    "deepnote_to_be_reexecuted": false,
    "source_hash": "53081700",
    "execution_start": 1655643675768,
    "execution_millis": 3,
    "deepnote_cell_type": "code",
    "deepnote_cell_height": 118.1875,
    "deepnote_output_heights": [
     21.1875
    ]
   },
   "source": "y_pred+11",
   "execution_count": 18,
   "outputs": [
    {
     "output_type": "execute_result",
     "execution_count": 18,
     "data": {
      "text/plain": "array([[23.71602]], dtype=float32)"
     },
     "metadata": {}
    }
   ]
  },
  {
   "cell_type": "markdown",
   "source": "## Mejorar nuestro modelo\npodemos mejorar el modelo ",
   "metadata": {
    "cell_id": "818b2ba7850e41b9a369e6369923a7a3",
    "tags": [],
    "deepnote_cell_type": "markdown",
    "deepnote_cell_height": 108.390625
   }
  },
  {
   "cell_type": "code",
   "metadata": {
    "cell_id": "57a724d63cc64b8e848be5f3bf4f609b",
    "tags": [],
    "deepnote_to_be_reexecuted": false,
    "source_hash": "b623e53d",
    "execution_start": 1655643675769,
    "execution_millis": 0,
    "deepnote_cell_type": "code",
    "deepnote_cell_height": 81
   },
   "source": "",
   "execution_count": 18,
   "outputs": []
  },
  {
   "cell_type": "markdown",
   "source": "<a style='text-decoration:none;line-height:16px;display:flex;color:#5B5B62;padding:10px;justify-content:end;' href='https://deepnote.com?utm_source=created-in-deepnote-cell&projectId=2869a320-b9f1-4921-b902-9f4d298235ae' target=\"_blank\">\n<img alt='Created in deepnote.com' style='display:inline;max-height:16px;margin:0px;margin-right:7.5px;' src='data:image/svg+xml;base64,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' > </img>\nCreated in <span style='font-weight:600;margin-left:4px;'>Deepnote</span></a>",
   "metadata": {
    "tags": [],
    "created_in_deepnote_cell": true,
    "deepnote_cell_type": "markdown"
   }
  }
 ],
 "nbformat": 4,
 "nbformat_minor": 2,
 "metadata": {
  "orig_nbformat": 2,
  "deepnote": {},
  "deepnote_notebook_id": "e07b42b2-b3fa-4317-b7a9-f48d8c7c7a1d",
  "deepnote_execution_queue": []
 }
}