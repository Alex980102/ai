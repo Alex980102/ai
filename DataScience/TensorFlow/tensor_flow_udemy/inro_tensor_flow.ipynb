{
 "cells": [
  {
   "cell_type": "markdown",
   "source": "# Constantes",
   "metadata": {
    "cell_id": "59bad1b47de34d2eab30f758dfc7bf8d",
    "tags": [],
    "deepnote_cell_type": "markdown",
    "deepnote_cell_height": 82
   }
  },
  {
   "cell_type": "code",
   "metadata": {
    "cell_id": "3e858d26fa704f3fae8199058bbb16a8",
    "tags": [],
    "deepnote_to_be_reexecuted": false,
    "source_hash": "4449ac14",
    "execution_start": 1652858760971,
    "execution_millis": 6413,
    "deepnote_cell_type": "code",
    "deepnote_cell_height": 154.1875,
    "deepnote_output_heights": [
     21.1875
    ]
   },
   "source": "import tensorflow as tf \nimport numpy as np\ntf.__version__",
   "execution_count": null,
   "outputs": [
    {
     "output_type": "execute_result",
     "execution_count": 1,
     "data": {
      "text/plain": "'2.9.0'"
     },
     "metadata": {}
    }
   ]
  },
  {
   "cell_type": "markdown",
   "source": "## Definir una constante",
   "metadata": {
    "cell_id": "27ac604b21734cc7863050729eafd591",
    "tags": [],
    "deepnote_cell_type": "markdown",
    "deepnote_cell_height": 70
   }
  },
  {
   "cell_type": "code",
   "metadata": {
    "cell_id": "d88af8aa1e3b4d67bbac8a2ce1e4cf38",
    "tags": [],
    "deepnote_to_be_reexecuted": false,
    "source_hash": "184b92cb",
    "execution_start": 1652858766960,
    "execution_millis": 25,
    "deepnote_cell_type": "code",
    "deepnote_cell_height": 192.5625,
    "deepnote_output_heights": [
     59.5625
    ]
   },
   "source": "# Definimos una constante en tensorflow\ntensor_20 = tf.constant([[23, 4], [32, 51]])\ntensor_20",
   "execution_count": null,
   "outputs": [
    {
     "output_type": "execute_result",
     "execution_count": 2,
     "data": {
      "text/plain": "<tf.Tensor: shape=(2, 2), dtype=int32, numpy=\narray([[23,  4],\n       [32, 51]], dtype=int32)>"
     },
     "metadata": {}
    }
   ]
  },
  {
   "cell_type": "code",
   "metadata": {
    "cell_id": "8f81ece37b5d4fd3b34dd06083e64c62",
    "tags": [],
    "deepnote_to_be_reexecuted": false,
    "source_hash": "82d55713",
    "execution_start": 1652858767010,
    "execution_millis": 408,
    "deepnote_cell_type": "code",
    "deepnote_cell_height": 136.1875,
    "deepnote_output_heights": [
     21.1875
    ]
   },
   "source": "# Obtenemos el tamña de un tensor\ntensor_20.shape",
   "execution_count": null,
   "outputs": [
    {
     "output_type": "execute_result",
     "execution_count": 3,
     "data": {
      "text/plain": "TensorShape([2, 2])"
     },
     "metadata": {}
    }
   ]
  },
  {
   "cell_type": "markdown",
   "source": "## Consultar los valores de una constante",
   "metadata": {
    "cell_id": "0e295df3475043beb3816efe39277da0",
    "tags": [],
    "deepnote_cell_type": "markdown",
    "deepnote_cell_height": 70
   }
  },
  {
   "cell_type": "code",
   "metadata": {
    "cell_id": "ba597ae047cd4ed9bebedddd17ece513",
    "tags": [],
    "deepnote_to_be_reexecuted": false,
    "source_hash": "679c3389",
    "execution_start": 1652858767022,
    "execution_millis": 2,
    "deepnote_cell_type": "code",
    "deepnote_cell_height": 155.375,
    "deepnote_output_heights": [
     40.375
    ]
   },
   "source": "# Obtenemos los valores de nuestra constante desde el array de numpy\ntensor_20.numpy()",
   "execution_count": null,
   "outputs": [
    {
     "output_type": "execute_result",
     "execution_count": 4,
     "data": {
      "text/plain": "array([[23,  4],\n       [32, 51]], dtype=int32)"
     },
     "metadata": {}
    }
   ]
  },
  {
   "cell_type": "code",
   "metadata": {
    "cell_id": "1e70fc9d59af472bbfb4fac4b4191e92",
    "tags": [],
    "deepnote_to_be_reexecuted": false,
    "source_hash": "d295ad9a",
    "execution_start": 1652858767069,
    "execution_millis": 351,
    "deepnote_cell_type": "code",
    "deepnote_cell_height": 210.5625,
    "deepnote_output_heights": [
     59.5625
    ]
   },
   "source": "# Podemos convertir un array de numpy directamente a un tensor flow\nnew_tensor = np.array([[23, 4], [32, 51]])\ntensor_from_numpy = tf.constant(new_tensor)\ntensor_from_numpy",
   "execution_count": null,
   "outputs": [
    {
     "output_type": "execute_result",
     "execution_count": 5,
     "data": {
      "text/plain": "<tf.Tensor: shape=(2, 2), dtype=int64, numpy=\narray([[23,  4],\n       [32, 51]])>"
     },
     "metadata": {}
    }
   ]
  },
  {
   "cell_type": "markdown",
   "source": "# Variables",
   "metadata": {
    "cell_id": "9abc828154f54d1fb8d617f26c2c2091",
    "tags": [],
    "deepnote_cell_type": "markdown",
    "deepnote_cell_height": 82
   }
  },
  {
   "cell_type": "markdown",
   "source": "## Definir una variable",
   "metadata": {
    "cell_id": "b8bfae36c0e04805a1f1bfa71bbad2f0",
    "tags": [],
    "deepnote_cell_type": "markdown",
    "deepnote_cell_height": 70
   }
  },
  {
   "cell_type": "code",
   "metadata": {
    "cell_id": "9b165aae1b434c429ad02bbd5a8e5503",
    "tags": [],
    "deepnote_to_be_reexecuted": false,
    "source_hash": "d9b3602c",
    "execution_start": 1652858767070,
    "execution_millis": 352,
    "deepnote_cell_type": "code",
    "deepnote_cell_height": 174.5625,
    "deepnote_output_heights": [
     59.5625
    ]
   },
   "source": "tf2_variable = tf.Variable([np.arange(1., 4.), np.arange(4., 7.)])\ntf2_variable",
   "execution_count": null,
   "outputs": [
    {
     "output_type": "execute_result",
     "execution_count": 6,
     "data": {
      "text/plain": "<tf.Variable 'Variable:0' shape=(2, 3) dtype=float64, numpy=\narray([[1., 2., 3.],\n       [4., 5., 6.]])>"
     },
     "metadata": {}
    }
   ]
  },
  {
   "cell_type": "markdown",
   "source": "## Consultar los valores de una variable",
   "metadata": {
    "cell_id": "32d76dc202c34e98883e1a443f4e51aa",
    "tags": [],
    "deepnote_cell_type": "markdown",
    "deepnote_cell_height": 70
   }
  },
  {
   "cell_type": "code",
   "metadata": {
    "cell_id": "5f3eb4af66be4cb48fedd35e9aaa4aee",
    "tags": [],
    "deepnote_to_be_reexecuted": false,
    "source_hash": "d6f74640",
    "execution_start": 1652858767071,
    "execution_millis": 352,
    "deepnote_cell_type": "code",
    "deepnote_cell_height": 137.375,
    "deepnote_output_heights": [
     40.375
    ]
   },
   "source": "tf2_variable.numpy()",
   "execution_count": null,
   "outputs": [
    {
     "output_type": "execute_result",
     "execution_count": 7,
     "data": {
      "text/plain": "array([[1., 2., 3.],\n       [4., 5., 6.]])"
     },
     "metadata": {}
    }
   ]
  },
  {
   "cell_type": "markdown",
   "source": "## Cambiar un valor específico de una varibale",
   "metadata": {
    "cell_id": "e9fc2363d5d7417e8a16069a1b0f276a",
    "tags": [],
    "deepnote_cell_type": "markdown",
    "deepnote_cell_height": 70
   }
  },
  {
   "cell_type": "code",
   "metadata": {
    "cell_id": "be447796ef1d42c4a055635dbfc7090f",
    "tags": [],
    "deepnote_to_be_reexecuted": false,
    "source_hash": "5e2bcefe",
    "execution_start": 1652858767073,
    "execution_millis": 351,
    "deepnote_cell_type": "code",
    "deepnote_cell_height": 156.5625,
    "deepnote_output_heights": [
     59.5625
    ]
   },
   "source": "tf2_variable[0, 2].assign(100)",
   "execution_count": null,
   "outputs": [
    {
     "output_type": "execute_result",
     "execution_count": 8,
     "data": {
      "text/plain": "<tf.Variable 'UnreadVariable' shape=(2, 3) dtype=float64, numpy=\narray([[  1.,   2., 100.],\n       [  4.,   5.,   6.]])>"
     },
     "metadata": {}
    }
   ]
  },
  {
   "cell_type": "code",
   "metadata": {
    "cell_id": "98df007898204713b30ab8b962d39066",
    "tags": [],
    "deepnote_to_be_reexecuted": false,
    "source_hash": "ae309ac7",
    "execution_start": 1652858767107,
    "execution_millis": 318,
    "deepnote_cell_type": "code",
    "deepnote_cell_height": 156.5625,
    "deepnote_output_heights": [
     59.5625
    ]
   },
   "source": "tf2_variable",
   "execution_count": null,
   "outputs": [
    {
     "output_type": "execute_result",
     "execution_count": 9,
     "data": {
      "text/plain": "<tf.Variable 'Variable:0' shape=(2, 3) dtype=float64, numpy=\narray([[  1.,   2., 100.],\n       [  4.,   5.,   6.]])>"
     },
     "metadata": {}
    }
   ]
  },
  {
   "cell_type": "markdown",
   "source": "## Opreciones con `tensores`",
   "metadata": {
    "cell_id": "0018104306184e6dac2221592d6becb6",
    "tags": [],
    "deepnote_cell_type": "markdown",
    "deepnote_cell_height": 70
   }
  },
  {
   "cell_type": "code",
   "metadata": {
    "cell_id": "890e12a2286342edb2c533568480d446",
    "tags": [],
    "deepnote_to_be_reexecuted": false,
    "source_hash": "af3f846f",
    "execution_start": 1652858767155,
    "execution_millis": 272,
    "deepnote_cell_type": "code",
    "deepnote_cell_height": 174.5625,
    "deepnote_output_heights": [
     59.5625
    ]
   },
   "source": "tensor = tf.constant([[1,2], [3,4]])\ntensor",
   "execution_count": null,
   "outputs": [
    {
     "output_type": "execute_result",
     "execution_count": 10,
     "data": {
      "text/plain": "<tf.Tensor: shape=(2, 2), dtype=int32, numpy=\narray([[1, 2],\n       [3, 4]], dtype=int32)>"
     },
     "metadata": {}
    }
   ]
  },
  {
   "cell_type": "markdown",
   "source": "## Sumar un escalar a un tensor",
   "metadata": {
    "cell_id": "445fec1e1fb444f0b67c20f3ef751cdd",
    "tags": [],
    "deepnote_cell_type": "markdown",
    "deepnote_cell_height": 70
   }
  },
  {
   "cell_type": "code",
   "metadata": {
    "cell_id": "77b0aad513c148c2b4446070b8490019",
    "tags": [],
    "deepnote_to_be_reexecuted": false,
    "source_hash": "9811db57",
    "execution_start": 1652858767156,
    "execution_millis": 271,
    "deepnote_cell_type": "code",
    "deepnote_cell_height": 156.5625,
    "deepnote_output_heights": [
     59.5625
    ]
   },
   "source": "tensor + 2",
   "execution_count": null,
   "outputs": [
    {
     "output_type": "execute_result",
     "execution_count": 11,
     "data": {
      "text/plain": "<tf.Tensor: shape=(2, 2), dtype=int32, numpy=\narray([[3, 4],\n       [5, 6]], dtype=int32)>"
     },
     "metadata": {}
    }
   ]
  },
  {
   "cell_type": "markdown",
   "source": "## Multiplicar un escalar por un tensor",
   "metadata": {
    "cell_id": "741ffd1d2e6c490987ca8323f23deac1",
    "tags": [],
    "deepnote_cell_type": "markdown",
    "deepnote_cell_height": 70
   }
  },
  {
   "cell_type": "code",
   "metadata": {
    "cell_id": "a616726349ae4981a91fd2d9bde92893",
    "tags": [],
    "deepnote_to_be_reexecuted": false,
    "source_hash": "1f1c6027",
    "execution_start": 1652858767157,
    "execution_millis": 271,
    "deepnote_cell_type": "code",
    "deepnote_cell_height": 156.5625,
    "deepnote_output_heights": [
     59.5625
    ]
   },
   "source": "tensor * 5",
   "execution_count": null,
   "outputs": [
    {
     "output_type": "execute_result",
     "execution_count": 12,
     "data": {
      "text/plain": "<tf.Tensor: shape=(2, 2), dtype=int32, numpy=\narray([[ 5, 10],\n       [15, 20]], dtype=int32)>"
     },
     "metadata": {}
    }
   ]
  },
  {
   "cell_type": "markdown",
   "source": "## Utilizar funciones de Numpy sobre tensores de TensorFlow",
   "metadata": {
    "cell_id": "bd20afcb218c4b9ea7b1f46e7bb9d499",
    "tags": [],
    "deepnote_cell_type": "markdown",
    "deepnote_cell_height": 70
   }
  },
  {
   "cell_type": "code",
   "metadata": {
    "cell_id": "8e6aee532a3040e987822043ff88204e",
    "tags": [],
    "deepnote_to_be_reexecuted": false,
    "source_hash": "2b6c4f15",
    "execution_start": 1652858767158,
    "execution_millis": 271,
    "deepnote_cell_type": "code",
    "deepnote_cell_height": 155.375,
    "deepnote_output_heights": [
     40.375
    ]
   },
   "source": "# Obtener los cuadrados de todos los números de un tensor de TensorFlow\nnp.square(tensor)",
   "execution_count": null,
   "outputs": [
    {
     "output_type": "execute_result",
     "execution_count": 13,
     "data": {
      "text/plain": "array([[ 1,  4],\n       [ 9, 16]], dtype=int32)"
     },
     "metadata": {}
    }
   ]
  },
  {
   "cell_type": "code",
   "metadata": {
    "cell_id": "db9ee3b008b7408db81670f0cdf1316e",
    "tags": [],
    "deepnote_to_be_reexecuted": false,
    "source_hash": "ac6b81aa",
    "execution_start": 1652858767203,
    "execution_millis": 245,
    "deepnote_cell_type": "code",
    "deepnote_cell_height": 155.375,
    "deepnote_output_heights": [
     40.375
    ]
   },
   "source": "# Obtener la raíz cuadrada de todos los números de un tensor de TensorFlow\nnp.sqrt(tensor)",
   "execution_count": null,
   "outputs": [
    {
     "output_type": "execute_result",
     "execution_count": 14,
     "data": {
      "text/plain": "array([[1.        , 1.41421356],\n       [1.73205081, 2.        ]])"
     },
     "metadata": {}
    }
   ]
  },
  {
   "cell_type": "markdown",
   "source": "## Producto escalar entre dos tensores",
   "metadata": {
    "cell_id": "96aea39f292d4adfa2244879a92ff875",
    "tags": [],
    "deepnote_cell_type": "markdown",
    "deepnote_cell_height": 70
   }
  },
  {
   "cell_type": "code",
   "metadata": {
    "cell_id": "fe9caaf6847f40e6bcd566e514877fb6",
    "tags": [],
    "deepnote_to_be_reexecuted": false,
    "source_hash": "ad2aa034",
    "execution_start": 1652858767204,
    "execution_millis": 244,
    "deepnote_cell_type": "code",
    "deepnote_cell_height": 137.375,
    "deepnote_output_heights": [
     40.375
    ]
   },
   "source": "np.dot(tensor, tensor_20)",
   "execution_count": null,
   "outputs": [
    {
     "output_type": "execute_result",
     "execution_count": 15,
     "data": {
      "text/plain": "array([[ 87, 106],\n       [197, 216]], dtype=int32)"
     },
     "metadata": {}
    }
   ]
  },
  {
   "cell_type": "markdown",
   "source": "## Strings en tensorflow",
   "metadata": {
    "cell_id": "05e8100c908d40f1b4626478fe221e19",
    "tags": [],
    "deepnote_cell_type": "markdown",
    "deepnote_cell_height": 70
   }
  },
  {
   "cell_type": "code",
   "metadata": {
    "cell_id": "0acd0630f0984e46bce30bdf711e49a7",
    "tags": [],
    "deepnote_to_be_reexecuted": false,
    "source_hash": "47c08ed6",
    "execution_start": 1652858767206,
    "execution_millis": 372278041,
    "deepnote_cell_type": "code",
    "deepnote_cell_height": 136.1875,
    "deepnote_output_heights": [
     21.1875
    ]
   },
   "source": "tf_string = tf.constant('TensorFlow')\ntf_string",
   "execution_count": null,
   "outputs": [
    {
     "output_type": "execute_result",
     "execution_count": 16,
     "data": {
      "text/plain": "<tf.Tensor: shape=(), dtype=string, numpy=b'TensorFlow'>"
     },
     "metadata": {}
    }
   ]
  },
  {
   "cell_type": "markdown",
   "source": "## Operaciones simples con `strings`",
   "metadata": {
    "cell_id": "0b85449b83574c7496977bcd7bf27c49",
    "tags": [],
    "deepnote_cell_type": "markdown",
    "deepnote_cell_height": 70
   }
  },
  {
   "cell_type": "code",
   "metadata": {
    "cell_id": "6002d2e1b14a4a6fbb3d2e72e7c1ffa3",
    "tags": [],
    "deepnote_to_be_reexecuted": false,
    "source_hash": "154c2264",
    "execution_start": 1652858767210,
    "execution_millis": 240,
    "deepnote_cell_type": "code",
    "deepnote_cell_height": 118.1875,
    "deepnote_output_heights": [
     21.1875
    ]
   },
   "source": "tf.strings.length(tf_string)",
   "execution_count": null,
   "outputs": [
    {
     "output_type": "execute_result",
     "execution_count": 17,
     "data": {
      "text/plain": "<tf.Tensor: shape=(), dtype=int32, numpy=10>"
     },
     "metadata": {}
    }
   ]
  },
  {
   "cell_type": "code",
   "metadata": {
    "cell_id": "e02b9b4f246e4f749136015ee7bf38ab",
    "tags": [],
    "deepnote_to_be_reexecuted": false,
    "source_hash": "abbbfbd6",
    "execution_start": 1652858799447,
    "execution_millis": 3,
    "deepnote_cell_type": "code",
    "deepnote_cell_height": 118.1875,
    "deepnote_output_heights": [
     21.1875
    ]
   },
   "source": "tf.strings.unicode_decode(tf_string, \"UTF8\")",
   "execution_count": null,
   "outputs": [
    {
     "output_type": "execute_result",
     "execution_count": 19,
     "data": {
      "text/plain": "<tf.Tensor: shape=(10,), dtype=int32, numpy=array([ 84, 101, 110, 115, 111, 114,  70, 108, 111, 119], dtype=int32)>"
     },
     "metadata": {}
    }
   ]
  },
  {
   "cell_type": "markdown",
   "source": "# Almacenar arrays de strings",
   "metadata": {
    "cell_id": "2d8aacb9e6e0452ab1ddbc94c001cc37",
    "tags": [],
    "deepnote_cell_type": "markdown",
    "deepnote_cell_height": 82
   }
  },
  {
   "cell_type": "code",
   "metadata": {
    "cell_id": "b258ac5666d94d9aa66af4c16353ae66",
    "tags": [],
    "deepnote_to_be_reexecuted": false,
    "source_hash": "6836ee10",
    "execution_start": 1652858875767,
    "execution_millis": 6,
    "deepnote_cell_type": "code",
    "deepnote_cell_height": 81
   },
   "source": "tf_strings_array = tf.constant([\"TensorFlow\", \"Deeplearning\", \"AI\"])",
   "execution_count": null,
   "outputs": []
  },
  {
   "cell_type": "code",
   "metadata": {
    "cell_id": "483b88f4c31c42229b440867bebc5283",
    "tags": [],
    "deepnote_to_be_reexecuted": false,
    "source_hash": "551477a4",
    "execution_start": 1652858908633,
    "execution_millis": 14,
    "deepnote_cell_type": "code",
    "deepnote_cell_height": 188.5625
   },
   "source": "# Iterar sobre un array de string en TF\nfor string in tf_strings_array:\n    print(string)",
   "execution_count": null,
   "outputs": [
    {
     "name": "stdout",
     "text": "tf.Tensor(b'TensorFlow', shape=(), dtype=string)\ntf.Tensor(b'Deeplearning', shape=(), dtype=string)\ntf.Tensor(b'AI', shape=(), dtype=string)\n",
     "output_type": "stream"
    }
   ]
  },
  {
   "cell_type": "code",
   "metadata": {
    "cell_id": "fa288634e5864a0b80966a0efe97a3f7",
    "tags": [],
    "owner_user_id": "6b4a8dcb-83e3-48d8-857e-449aa20f64fc",
    "deepnote_cell_type": "code",
    "deepnote_cell_height": 66
   },
   "source": "",
   "execution_count": null,
   "outputs": []
  },
  {
   "cell_type": "markdown",
   "source": "<a style='text-decoration:none;line-height:16px;display:flex;color:#5B5B62;padding:10px;justify-content:end;' href='https://deepnote.com?utm_source=created-in-deepnote-cell&projectId=837cf1af-c506-4091-b16c-c4a4c0575614' target=\"_blank\">\n<img alt='Created in deepnote.com' style='display:inline;max-height:16px;margin:0px;margin-right:7.5px;' src='data:image/svg+xml;base64,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' > </img>\nCreated in <span style='font-weight:600;margin-left:4px;'>Deepnote</span></a>",
   "metadata": {
    "tags": [],
    "created_in_deepnote_cell": true,
    "deepnote_cell_type": "markdown"
   }
  }
 ],
 "nbformat": 4,
 "nbformat_minor": 2,
 "metadata": {
  "orig_nbformat": 2,
  "deepnote": {},
  "deepnote_notebook_id": "32b5b583-d8b6-43ed-af1f-46f7e0d84e68",
  "deepnote_execution_queue": []
 }
}