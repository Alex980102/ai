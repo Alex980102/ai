{
 "cells": [
  {
   "cell_type": "code",
   "metadata": {
    "cell_id": "8e461436-3336-4f04-91c9-ef10db6ade02",
    "deepnote_to_be_reexecuted": false,
    "source_hash": "8526160d",
    "execution_start": 1652899698678,
    "execution_millis": 2606,
    "deepnote_cell_type": "code",
    "deepnote_cell_height": 135
   },
   "source": "import numpy as np\nimport pandas as pd\nimport tensorflow as tf\nfrom tensorflow.keras.datasets import fashion_mnist",
   "execution_count": null,
   "outputs": []
  },
  {
   "cell_type": "code",
   "metadata": {
    "cell_id": "00001-69a4d572-cff1-4209-bd08-9239d128ccf7",
    "deepnote_to_be_reexecuted": false,
    "source_hash": "de35829e",
    "execution_start": 1652899701299,
    "execution_millis": 6,
    "deepnote_cell_type": "code",
    "deepnote_cell_height": 118.1875,
    "deepnote_output_heights": [
     21.1875
    ]
   },
   "source": "tf.__version__",
   "execution_count": null,
   "outputs": [
    {
     "output_type": "execute_result",
     "execution_count": 2,
     "data": {
      "text/plain": "'2.9.0'"
     },
     "metadata": {}
    }
   ]
  },
  {
   "cell_type": "markdown",
   "source": "# Paso 3: Pre procesamiento de datos",
   "metadata": {
    "cell_id": "00002-013a868f-ec06-4714-9493-4a28a76afb84",
    "deepnote_cell_type": "markdown",
    "deepnote_cell_height": 82
   }
  },
  {
   "cell_type": "markdown",
   "source": "## Cargar datos",
   "metadata": {
    "cell_id": "00003-6f0803dc-3fdf-48bf-ac7b-77bac196ed0f",
    "deepnote_cell_type": "markdown",
    "deepnote_cell_height": 70
   }
  },
  {
   "cell_type": "code",
   "metadata": {
    "cell_id": "00004-046fddf9-c0f3-4fe3-952c-753318bcde95",
    "deepnote_to_be_reexecuted": false,
    "source_hash": "96ec3375",
    "execution_start": 1652899701315,
    "execution_millis": 545,
    "deepnote_cell_type": "code",
    "deepnote_cell_height": 99
   },
   "source": "# Cargar el dataset\n(X_train, y_train), (X_test, y_test) = fashion_mnist.load_data()",
   "execution_count": null,
   "outputs": []
  },
  {
   "cell_type": "markdown",
   "source": "## Normalizar las imágenes\nSe divide cada imagen en los conjuntos de entrenamiineto y de testing entre el valor máximo de cada uno de los píxeles (255).\n\nDe este modo, cada píxel se hallará en el rango [0, 1]. Al normalizar las imágenes, nos aseguramos que nuestro modelo de RNA entrenará más rápidamente.",
   "metadata": {
    "cell_id": "00005-518c54a4-63bc-45cd-9564-2707758a8cba",
    "deepnote_cell_type": "markdown",
    "deepnote_cell_height": 167.171875
   }
  },
  {
   "cell_type": "code",
   "metadata": {
    "cell_id": "00006-69742262-79dc-446c-a6ef-f9fda60866a6",
    "deepnote_to_be_reexecuted": false,
    "source_hash": "f4bae283",
    "execution_start": 1652899701871,
    "execution_millis": 108,
    "deepnote_cell_type": "code",
    "deepnote_cell_height": 81
   },
   "source": "X_train = X_train / 255.0",
   "execution_count": null,
   "outputs": []
  },
  {
   "cell_type": "code",
   "metadata": {
    "cell_id": "00007-74c6aaad-9923-458c-a1fd-047db6bb9520",
    "deepnote_to_be_reexecuted": false,
    "source_hash": "9083a005",
    "execution_start": 1652899701988,
    "execution_millis": 17,
    "deepnote_cell_type": "code",
    "deepnote_cell_height": 81
   },
   "source": "X_test = X_test / 255.0",
   "execution_count": null,
   "outputs": []
  },
  {
   "cell_type": "markdown",
   "source": "## Redimensionar el dataset\nComo vamos a utilizar una red neuronal totalmente conectada, vamos a redimensionar los subconjuntos de entrenamiento y testing",
   "metadata": {
    "cell_id": "00008-19c0b982-8564-40e5-9c5a-d48a89570415",
    "deepnote_cell_type": "markdown",
    "deepnote_cell_height": 130.78125
   }
  },
  {
   "cell_type": "code",
   "metadata": {
    "cell_id": "00009-f7cb9d6e-3640-4e86-be79-c8c10a91d814",
    "deepnote_to_be_reexecuted": false,
    "source_hash": "5afd77b3",
    "execution_start": 1652899702014,
    "execution_millis": 1,
    "deepnote_cell_type": "code",
    "deepnote_cell_height": 135
   },
   "source": "# Como cada imagen tiene 28x28 píxeles, usamos la función reshape en todo el dataset de entrenamiento para convertirlo\n# en vectores de tamaño [-1 (todos los elementos), anchura * altura]\n# Aplanamiento de las imagenes \nX_train = X_train.reshape(-1, 28*28)",
   "execution_count": null,
   "outputs": []
  },
  {
   "cell_type": "code",
   "metadata": {
    "cell_id": "00010-6c12e167-68aa-4fec-879c-68052f7e9ab7",
    "deepnote_to_be_reexecuted": false,
    "source_hash": "38f368cd",
    "execution_start": 1652899702025,
    "execution_millis": 1,
    "deepnote_cell_type": "code",
    "deepnote_cell_height": 118.1875,
    "deepnote_output_heights": [
     21.1875
    ]
   },
   "source": "X_train.shape",
   "execution_count": null,
   "outputs": [
    {
     "output_type": "execute_result",
     "execution_count": 7,
     "data": {
      "text/plain": "(60000, 784)"
     },
     "metadata": {}
    }
   ]
  },
  {
   "cell_type": "code",
   "metadata": {
    "cell_id": "00011-f872bb5d-b1c1-49e9-a265-e550ecd66899",
    "deepnote_to_be_reexecuted": false,
    "source_hash": "f909aceb",
    "execution_start": 1652899702070,
    "execution_millis": 4,
    "deepnote_cell_type": "code",
    "deepnote_cell_height": 81
   },
   "source": "# Redimensionamos el conjunto de testing del mismo nodo",
   "execution_count": null,
   "outputs": []
  },
  {
   "cell_type": "markdown",
   "source": "# Paso 4: Construir la Red Neuronal Artificial",
   "metadata": {
    "cell_id": "00012-c19577f2-8674-482d-9576-f25666988494",
    "deepnote_cell_type": "markdown",
    "deepnote_cell_height": 82
   }
  },
  {
   "cell_type": "markdown",
   "source": "## Definir el modelo\nSimplemente se define un objeto de modelo Sequential.",
   "metadata": {
    "cell_id": "00013-94cb64f1-85c8-47f7-b529-512fc89dda70",
    "deepnote_cell_type": "markdown",
    "deepnote_cell_height": 108.390625
   }
  },
  {
   "cell_type": "code",
   "metadata": {
    "cell_id": "00014-f823a4c1-8655-4a59-8803-2b72244af644",
    "deepnote_to_be_reexecuted": false,
    "source_hash": "99a1303a",
    "execution_start": 1652899702071,
    "execution_millis": 1,
    "deepnote_cell_type": "code",
    "deepnote_cell_height": 81
   },
   "source": "model = tf.keras.models.Sequential()",
   "execution_count": null,
   "outputs": []
  },
  {
   "cell_type": "markdown",
   "source": "## Añadir la primera capa totalmente conectada (Capa Densa)\n\nHyper-parametros de la capa:\n- número de unidades/neuronas: 128\n- Función de activación: ReLU\n- input_shape: (784,)",
   "metadata": {
    "cell_id": "00015-5bdf8dcd-4d14-423b-8364-0447653e9d1c",
    "deepnote_cell_type": "markdown",
    "deepnote_cell_height": 209.5625
   }
  },
  {
   "cell_type": "code",
   "metadata": {
    "cell_id": "fc61185e454643ac8c861e90e0ca0cb7",
    "tags": [],
    "deepnote_to_be_reexecuted": false,
    "source_hash": "4f3d92e8",
    "execution_start": 1652899702072,
    "execution_millis": 40,
    "deepnote_cell_type": "code",
    "deepnote_cell_height": 81
   },
   "source": "model.add(tf.keras.layers.Dense(units=128, activation='relu', input_shape=(784, )))",
   "execution_count": null,
   "outputs": []
  },
  {
   "cell_type": "markdown",
   "source": "## Añadir una capa de Dropout\nDropout en una técnica de Regularización donde aleatoriamente se asignan a ciertas neuronas de la red el valor cero. De este modo, mientras se enrena, estas neuronas no actualizarán sus valores. Al tener cierto porcentaje de neuronas sin actualizar, el proceso de entrenamiento toma más tiempo pero por contra tenemos menos posibilidad de sufrir overfiting.",
   "metadata": {
    "cell_id": "a38656ff84a94ee6940dce125495f22c",
    "tags": [],
    "deepnote_cell_type": "markdown",
    "deepnote_cell_height": 153.171875
   }
  },
  {
   "cell_type": "code",
   "metadata": {
    "cell_id": "00016-05eee790-87bf-4730-9ba2-d4da8bde9fc0",
    "deepnote_to_be_reexecuted": false,
    "source_hash": "5ea21bcd",
    "execution_start": 1652899702113,
    "execution_millis": 3,
    "deepnote_cell_type": "code",
    "deepnote_cell_height": 81
   },
   "source": "model.add(tf.keras.layers.Dropout(0.2))",
   "execution_count": null,
   "outputs": []
  },
  {
   "cell_type": "markdown",
   "source": "## Añadir la segunda capa (capa de salida)\n\n- Unidades: Número de clases(10 en el caso del Fashion MNIST)\n- Función de activación: 'Softmax' (Probabilidad de cada clase)",
   "metadata": {
    "cell_id": "00017-8f2214fd-34a9-4f60-a8c5-a3105dfdc789",
    "deepnote_cell_type": "markdown",
    "deepnote_cell_height": 147.78125
   }
  },
  {
   "cell_type": "code",
   "metadata": {
    "cell_id": "354deff0795948ae812d503a40534c55",
    "tags": [],
    "deepnote_to_be_reexecuted": false,
    "source_hash": "bc1bae70",
    "execution_start": 1652899702123,
    "execution_millis": 14,
    "deepnote_cell_type": "code",
    "deepnote_cell_height": 81
   },
   "source": "model.add(tf.keras.layers.Dense(units=10, activation='softmax'))",
   "execution_count": null,
   "outputs": []
  },
  {
   "cell_type": "markdown",
   "source": "## Compilar el modelo\n\n- Optimizar: Adam\n- Loss: Sparse softmax (categorical) crossentropy",
   "metadata": {
    "cell_id": "3bf9f7bb4f604c708db45769a5a0a750",
    "tags": [],
    "deepnote_cell_type": "markdown",
    "deepnote_cell_height": 147.78125
   }
  },
  {
   "cell_type": "markdown",
   "source": "",
   "metadata": {
    "cell_id": "80aec2c357f740cc99e303186705c806",
    "tags": [],
    "deepnote_cell_type": "markdown",
    "deepnote_cell_height": 46
   }
  },
  {
   "cell_type": "code",
   "metadata": {
    "cell_id": "e4fa9b18e42a4f35b78ef66e5e57d209",
    "tags": [],
    "deepnote_to_be_reexecuted": false,
    "source_hash": "50bb1113",
    "execution_start": 1652899702184,
    "execution_millis": 0,
    "owner_user_id": "6b4a8dcb-83e3-48d8-857e-449aa20f64fc",
    "deepnote_cell_type": "code",
    "deepnote_cell_height": 81
   },
   "source": "model.compile(optimizer='adam', loss='sparse_categorical_crossentropy', metrics=['sparse_categorical_accuracy'])",
   "execution_count": null,
   "outputs": []
  },
  {
   "cell_type": "code",
   "metadata": {
    "cell_id": "73adb8307f614fc0b54f7509bf3e3879",
    "tags": [],
    "deepnote_to_be_reexecuted": false,
    "source_hash": "4e6a3b95",
    "execution_start": 1652899702185,
    "execution_millis": 45,
    "deepnote_cell_type": "code",
    "deepnote_cell_height": 394.8125
   },
   "source": "model.summary()",
   "execution_count": null,
   "outputs": [
    {
     "name": "stdout",
     "text": "Model: \"sequential\"\n_________________________________________________________________\n Layer (type)                Output Shape              Param #   \n=================================================================\n dense (Dense)               (None, 128)               100480    \n                                                                 \n dropout (Dropout)           (None, 128)               0         \n                                                                 \n dense_1 (Dense)             (None, 10)                1290      \n                                                                 \n=================================================================\nTotal params: 101,770\nTrainable params: 101,770\nNon-trainable params: 0\n_________________________________________________________________\n",
     "output_type": "stream"
    }
   ]
  },
  {
   "cell_type": "markdown",
   "source": "## Entrenar el modelo",
   "metadata": {
    "cell_id": "40c2991f29bf4c7fac4ec3ba76504729",
    "tags": [],
    "deepnote_cell_type": "markdown",
    "deepnote_cell_height": 70
   }
  },
  {
   "cell_type": "code",
   "metadata": {
    "cell_id": "e85c7917200648a087f9f0ebda3b6195",
    "tags": [],
    "deepnote_to_be_reexecuted": false,
    "source_hash": "1da8af97",
    "execution_start": 1652899702314,
    "execution_millis": 41669,
    "deepnote_cell_type": "code",
    "deepnote_cell_height": 346.0625,
    "deepnote_output_heights": [
     null,
     21.1875
    ]
   },
   "source": "model.fit(X_train, y_train, epochs=5)",
   "execution_count": null,
   "outputs": [
    {
     "name": "stdout",
     "text": "Epoch 1/5\n1875/1875 [==============================] - 7s 3ms/step - loss: 0.5282 - sparse_categorical_accuracy: 0.8137\nEpoch 2/5\n1875/1875 [==============================] - 7s 4ms/step - loss: 0.4006 - sparse_categorical_accuracy: 0.8549\nEpoch 3/5\n1875/1875 [==============================] - 6s 3ms/step - loss: 0.3690 - sparse_categorical_accuracy: 0.8657\nEpoch 4/5\n1875/1875 [==============================] - 6s 3ms/step - loss: 0.3463 - sparse_categorical_accuracy: 0.8725\nEpoch 5/5\n1875/1875 [==============================] - 7s 4ms/step - loss: 0.3319 - sparse_categorical_accuracy: 0.8779\n",
     "output_type": "stream"
    },
    {
     "output_type": "execute_result",
     "execution_count": 15,
     "data": {
      "text/plain": "<keras.callbacks.History at 0x7fbfbbb06a10>"
     },
     "metadata": {}
    }
   ]
  },
  {
   "cell_type": "markdown",
   "source": "## Evaluación del modelo y predicción",
   "metadata": {
    "cell_id": "9826c68b651b4df1b8ffdac41919ae1c",
    "tags": [],
    "deepnote_cell_type": "markdown",
    "deepnote_cell_height": 70
   }
  },
  {
   "cell_type": "code",
   "metadata": {
    "cell_id": "b95aafb3500845508acd1880cb469157",
    "tags": [],
    "deepnote_to_be_reexecuted": false,
    "source_hash": "596b6e2f",
    "execution_start": 1652899743992,
    "execution_millis": 988,
    "deepnote_cell_type": "code",
    "deepnote_cell_height": 451.1875
   },
   "source": "test_loss, test_accuracy = model.evaluate(X_test, y_test)",
   "execution_count": null,
   "outputs": [
    {
     "output_type": "error",
     "ename": "ValueError",
     "evalue": "in user code:\n\n    File \"/root/venv/lib/python3.7/site-packages/keras/engine/training.py\", line 1557, in test_function  *\n        return step_function(self, iterator)\n    File \"/root/venv/lib/python3.7/site-packages/keras/engine/training.py\", line 1546, in step_function  **\n        outputs = model.distribute_strategy.run(run_step, args=(data,))\n    File \"/root/venv/lib/python3.7/site-packages/keras/engine/training.py\", line 1535, in run_step  **\n        outputs = model.test_step(data)\n    File \"/root/venv/lib/python3.7/site-packages/keras/engine/training.py\", line 1499, in test_step\n        y_pred = self(x, training=False)\n    File \"/root/venv/lib/python3.7/site-packages/keras/utils/traceback_utils.py\", line 67, in error_handler\n        raise e.with_traceback(filtered_tb) from None\n    File \"/root/venv/lib/python3.7/site-packages/keras/engine/input_spec.py\", line 264, in assert_input_compatibility\n        raise ValueError(f'Input {input_index} of layer \"{layer_name}\" is '\n\n    ValueError: Input 0 of layer \"sequential\" is incompatible with the layer: expected shape=(None, 784), found shape=(None, 28, 28)\n",
     "traceback": [
      "\u001b[0;31m---------------------------------------------------------------------------\u001b[0m",
      "\u001b[0;31mValueError\u001b[0m                                Traceback (most recent call last)",
      "\u001b[0;32m<ipython-input-16-b97cfdfecf7c>\u001b[0m in \u001b[0;36m<module>\u001b[0;34m\u001b[0m\n\u001b[0;32m----> 1\u001b[0;31m \u001b[0mtest_loss\u001b[0m\u001b[0;34m,\u001b[0m \u001b[0mtest_accuracy\u001b[0m \u001b[0;34m=\u001b[0m \u001b[0mmodel\u001b[0m\u001b[0;34m.\u001b[0m\u001b[0mevaluate\u001b[0m\u001b[0;34m(\u001b[0m\u001b[0mX_test\u001b[0m\u001b[0;34m,\u001b[0m \u001b[0my_test\u001b[0m\u001b[0;34m)\u001b[0m\u001b[0;34m\u001b[0m\u001b[0;34m\u001b[0m\u001b[0m\n\u001b[0m",
      "\u001b[0;32m~/venv/lib/python3.7/site-packages/keras/utils/traceback_utils.py\u001b[0m in \u001b[0;36merror_handler\u001b[0;34m(*args, **kwargs)\u001b[0m\n\u001b[1;32m     65\u001b[0m     \u001b[0;32mexcept\u001b[0m \u001b[0mException\u001b[0m \u001b[0;32mas\u001b[0m \u001b[0me\u001b[0m\u001b[0;34m:\u001b[0m  \u001b[0;31m# pylint: disable=broad-except\u001b[0m\u001b[0;34m\u001b[0m\u001b[0;34m\u001b[0m\u001b[0m\n\u001b[1;32m     66\u001b[0m       \u001b[0mfiltered_tb\u001b[0m \u001b[0;34m=\u001b[0m \u001b[0m_process_traceback_frames\u001b[0m\u001b[0;34m(\u001b[0m\u001b[0me\u001b[0m\u001b[0;34m.\u001b[0m\u001b[0m__traceback__\u001b[0m\u001b[0;34m)\u001b[0m\u001b[0;34m\u001b[0m\u001b[0;34m\u001b[0m\u001b[0m\n\u001b[0;32m---> 67\u001b[0;31m       \u001b[0;32mraise\u001b[0m \u001b[0me\u001b[0m\u001b[0;34m.\u001b[0m\u001b[0mwith_traceback\u001b[0m\u001b[0;34m(\u001b[0m\u001b[0mfiltered_tb\u001b[0m\u001b[0;34m)\u001b[0m \u001b[0;32mfrom\u001b[0m \u001b[0;32mNone\u001b[0m\u001b[0;34m\u001b[0m\u001b[0;34m\u001b[0m\u001b[0m\n\u001b[0m\u001b[1;32m     68\u001b[0m     \u001b[0;32mfinally\u001b[0m\u001b[0;34m:\u001b[0m\u001b[0;34m\u001b[0m\u001b[0;34m\u001b[0m\u001b[0m\n\u001b[1;32m     69\u001b[0m       \u001b[0;32mdel\u001b[0m \u001b[0mfiltered_tb\u001b[0m\u001b[0;34m\u001b[0m\u001b[0;34m\u001b[0m\u001b[0m\n",
      "\u001b[0;32m~/venv/lib/python3.7/site-packages/keras/engine/training.py\u001b[0m in \u001b[0;36mtf__test_function\u001b[0;34m(iterator)\u001b[0m\n\u001b[1;32m     13\u001b[0m                 \u001b[0;32mtry\u001b[0m\u001b[0;34m:\u001b[0m\u001b[0;34m\u001b[0m\u001b[0;34m\u001b[0m\u001b[0m\n\u001b[1;32m     14\u001b[0m                     \u001b[0mdo_return\u001b[0m \u001b[0;34m=\u001b[0m \u001b[0;32mTrue\u001b[0m\u001b[0;34m\u001b[0m\u001b[0;34m\u001b[0m\u001b[0m\n\u001b[0;32m---> 15\u001b[0;31m                     \u001b[0mretval_\u001b[0m \u001b[0;34m=\u001b[0m \u001b[0mag__\u001b[0m\u001b[0;34m.\u001b[0m\u001b[0mconverted_call\u001b[0m\u001b[0;34m(\u001b[0m\u001b[0mag__\u001b[0m\u001b[0;34m.\u001b[0m\u001b[0mld\u001b[0m\u001b[0;34m(\u001b[0m\u001b[0mstep_function\u001b[0m\u001b[0;34m)\u001b[0m\u001b[0;34m,\u001b[0m \u001b[0;34m(\u001b[0m\u001b[0mag__\u001b[0m\u001b[0;34m.\u001b[0m\u001b[0mld\u001b[0m\u001b[0;34m(\u001b[0m\u001b[0mself\u001b[0m\u001b[0;34m)\u001b[0m\u001b[0;34m,\u001b[0m \u001b[0mag__\u001b[0m\u001b[0;34m.\u001b[0m\u001b[0mld\u001b[0m\u001b[0;34m(\u001b[0m\u001b[0miterator\u001b[0m\u001b[0;34m)\u001b[0m\u001b[0;34m)\u001b[0m\u001b[0;34m,\u001b[0m \u001b[0;32mNone\u001b[0m\u001b[0;34m,\u001b[0m \u001b[0mfscope\u001b[0m\u001b[0;34m)\u001b[0m\u001b[0;34m\u001b[0m\u001b[0;34m\u001b[0m\u001b[0m\n\u001b[0m\u001b[1;32m     16\u001b[0m                 \u001b[0;32mexcept\u001b[0m\u001b[0;34m:\u001b[0m\u001b[0;34m\u001b[0m\u001b[0;34m\u001b[0m\u001b[0m\n\u001b[1;32m     17\u001b[0m                     \u001b[0mdo_return\u001b[0m \u001b[0;34m=\u001b[0m \u001b[0;32mFalse\u001b[0m\u001b[0;34m\u001b[0m\u001b[0;34m\u001b[0m\u001b[0m\n",
      "\u001b[0;31mValueError\u001b[0m: in user code:\n\n    File \"/root/venv/lib/python3.7/site-packages/keras/engine/training.py\", line 1557, in test_function  *\n        return step_function(self, iterator)\n    File \"/root/venv/lib/python3.7/site-packages/keras/engine/training.py\", line 1546, in step_function  **\n        outputs = model.distribute_strategy.run(run_step, args=(data,))\n    File \"/root/venv/lib/python3.7/site-packages/keras/engine/training.py\", line 1535, in run_step  **\n        outputs = model.test_step(data)\n    File \"/root/venv/lib/python3.7/site-packages/keras/engine/training.py\", line 1499, in test_step\n        y_pred = self(x, training=False)\n    File \"/root/venv/lib/python3.7/site-packages/keras/utils/traceback_utils.py\", line 67, in error_handler\n        raise e.with_traceback(filtered_tb) from None\n    File \"/root/venv/lib/python3.7/site-packages/keras/engine/input_spec.py\", line 264, in assert_input_compatibility\n        raise ValueError(f'Input {input_index} of layer \"{layer_name}\" is '\n\n    ValueError: Input 0 of layer \"sequential\" is incompatible with the layer: expected shape=(None, 784), found shape=(None, 28, 28)\n"
     ]
    }
   ]
  },
  {
   "cell_type": "code",
   "metadata": {
    "cell_id": "ae01465f373048dd905bafa3bf19b1d3",
    "tags": [],
    "deepnote_to_be_reexecuted": true,
    "source_hash": "b623e53d",
    "deepnote_cell_type": "code",
    "deepnote_cell_height": 81
   },
   "source": "",
   "execution_count": null,
   "outputs": []
  },
  {
   "cell_type": "markdown",
   "source": "<a style='text-decoration:none;line-height:16px;display:flex;color:#5B5B62;padding:10px;justify-content:end;' href='https://deepnote.com?utm_source=created-in-deepnote-cell&projectId=837cf1af-c506-4091-b16c-c4a4c0575614' target=\"_blank\">\n<img alt='Created in deepnote.com' style='display:inline;max-height:16px;margin:0px;margin-right:7.5px;' src='data:image/svg+xml;base64,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' > </img>\nCreated in <span style='font-weight:600;margin-left:4px;'>Deepnote</span></a>",
   "metadata": {
    "tags": [],
    "created_in_deepnote_cell": true,
    "deepnote_cell_type": "markdown"
   }
  }
 ],
 "nbformat": 4,
 "nbformat_minor": 2,
 "metadata": {
  "kernelspec": {
   "display_name": "Python 3.9.7 ('base')",
   "language": "python",
   "name": "python3"
  },
  "language_info": {
   "codemirror_mode": {
    "name": "ipython",
    "version": 3
   },
   "file_extension": ".py",
   "mimetype": "text/x-python",
   "name": "python",
   "nbconvert_exporter": "python",
   "pygments_lexer": "ipython3",
   "version": "3.9.7"
  },
  "orig_nbformat": 4,
  "vscode": {
   "interpreter": {
    "hash": "363b8a3dd650dafe334525b95b2c8d881cd2bf9170bb08b45b51c2361a0bd89a"
   }
  },
  "deepnote_notebook_id": "c10c2629-35e9-4dfa-979d-0f04170d8234",
  "deepnote": {},
  "deepnote_execution_queue": []
 }
}