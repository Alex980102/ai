{
 "cells": [
  {
   "cell_type": "markdown",
   "source": "\n<p align=\"center\">\n  <img src=\"https://storage.googleapis.com/kaggle-datasets-images/2243/3791/9384af51de8baa77f6320901f53bd26b/dataset-cover.png\" />\n  Imagen cortesía de: https://www.kaggle.com/\n</p>",
   "metadata": {
    "id": "sJr4nMgyb9oS",
    "cell_id": "00001-3e24c977-7713-4e07-81b1-7e54ac1a7e29",
    "deepnote_cell_type": "markdown",
    "deepnote_cell_height": 284.828125
   }
  },
  {
   "cell_type": "markdown",
   "source": "## Paso 1: Instalar las dependencias y configurar el entorno de GPU",
   "metadata": {
    "id": "vVF9I9v6Zipb",
    "cell_id": "00002-56f39b60-06f4-41b7-88b1-f313c8923a74",
    "deepnote_cell_type": "markdown",
    "deepnote_cell_height": 110
   }
  },
  {
   "cell_type": "markdown",
   "source": "## Paso 2: Importar las dependencias necesarias para el proyecto",
   "metadata": {
    "id": "DjlnjPnjWYFw",
    "cell_id": "00004-4bfaaf8d-74bd-4207-94e5-a73c5600da58",
    "owner_user_id": "6b4a8dcb-83e3-48d8-857e-449aa20f64fc",
    "deepnote_cell_type": "markdown",
    "deepnote_cell_height": 110
   }
  },
  {
   "cell_type": "code",
   "metadata": {
    "id": "yt0-hrch6rZw",
    "cell_id": "00005-055811fb-0018-4c4f-abe1-73c7d16fb63a",
    "deepnote_to_be_reexecuted": false,
    "source_hash": "241f491f",
    "execution_start": 1652899795747,
    "execution_millis": 2722,
    "deepnote_cell_type": "code",
    "deepnote_cell_height": 135
   },
   "source": "import numpy as np\nimport datetime\nimport tensorflow as tf\nfrom tensorflow.keras.datasets import fashion_mnist",
   "execution_count": null,
   "outputs": []
  },
  {
   "cell_type": "code",
   "metadata": {
    "colab": {
     "base_uri": "https://localhost:8080/",
     "height": 34
    },
    "id": "_vv9AXUnZW78",
    "outputId": "a373495f-a620-462e-f10b-815bbeb81e42",
    "cell_id": "00006-ea063169-7be9-416f-9e72-f9966fe16184",
    "deepnote_to_be_reexecuted": false,
    "source_hash": "de35829e",
    "execution_start": 1652899798487,
    "execution_millis": 3,
    "deepnote_cell_type": "code",
    "deepnote_cell_height": 118.1875,
    "deepnote_output_heights": [
     21.1875
    ]
   },
   "source": "tf.__version__",
   "execution_count": null,
   "outputs": [
    {
     "output_type": "execute_result",
     "execution_count": 2,
     "data": {
      "text/plain": "'2.9.0'"
     },
     "metadata": {}
    }
   ]
  },
  {
   "cell_type": "markdown",
   "source": "## Paso 3: Pre procesado de datos\n\n",
   "metadata": {
    "id": "K2OiUS-kWkJU",
    "cell_id": "00007-371c662d-d3fc-4ffc-8d40-268989a6a66a",
    "deepnote_cell_type": "markdown",
    "deepnote_cell_height": 70
   }
  },
  {
   "cell_type": "markdown",
   "source": "### Cargar el dataset",
   "metadata": {
    "id": "DdfoFiEEXYj1",
    "cell_id": "00008-1d53d07e-9103-426b-bd0d-d60c3a3d9698",
    "deepnote_cell_type": "markdown",
    "deepnote_cell_height": 62
   }
  },
  {
   "cell_type": "code",
   "metadata": {
    "colab": {
     "base_uri": "https://localhost:8080/",
     "height": 153
    },
    "id": "-lCgz6UC8pKT",
    "outputId": "026f965e-3f9b-4fa0-f237-0dc0f8a09735",
    "cell_id": "00009-2f1405e8-14bf-4f93-ab6a-390c6ee5624f",
    "deepnote_to_be_reexecuted": false,
    "source_hash": "d6b2d286",
    "execution_start": 1652899798500,
    "execution_millis": 522,
    "deepnote_cell_type": "code",
    "deepnote_cell_height": 99
   },
   "source": "#Cargar el dataset Fashion Mnist \n(X_train, y_train), (X_test, y_test) = fashion_mnist.load_data()",
   "execution_count": null,
   "outputs": []
  },
  {
   "cell_type": "markdown",
   "source": "### Normalizar las imágenes\n\nSe divide cada imagen en los conjunto de entrenamiento y  de testing entre el valor máximo de cada uno de los píxeles (255).\n\nDe este modo, cada píxel se hallará en el rango [0, 1]. Al normalizar las imágenes, nos aseguramos que nuestro modelo de RNA entrenará más rápidamente.",
   "metadata": {
    "id": "AYxeEHzDXdSs",
    "cell_id": "00010-ed7773e8-e943-4e35-a552-7db9431334ee",
    "deepnote_cell_type": "markdown",
    "deepnote_cell_height": 159.171875
   }
  },
  {
   "cell_type": "code",
   "metadata": {
    "id": "zvWzsB3G9IU8",
    "cell_id": "00011-e2c260fd-7e30-46ff-88d8-3a93f674a217",
    "deepnote_to_be_reexecuted": false,
    "source_hash": "f4bae283",
    "execution_start": 1652899799032,
    "execution_millis": 107,
    "deepnote_cell_type": "code",
    "deepnote_cell_height": 81
   },
   "source": "X_train = X_train / 255.0",
   "execution_count": null,
   "outputs": []
  },
  {
   "cell_type": "code",
   "metadata": {
    "id": "lo--rpqo9ZtA",
    "cell_id": "00012-d2cc92b8-1eda-4f0f-aace-5b4ee287abac",
    "deepnote_to_be_reexecuted": false,
    "source_hash": "9083a005",
    "execution_start": 1652899799149,
    "execution_millis": 16,
    "deepnote_cell_type": "code",
    "deepnote_cell_height": 81
   },
   "source": "X_test = X_test / 255.0",
   "execution_count": null,
   "outputs": []
  },
  {
   "cell_type": "markdown",
   "source": "### Redimensionar el dataset\n\nComo vamos a utilizar una red neuronal totalmente conectada, vamos a redimensionar los subconjuntos de entrenamiento y testing a formato de vector en lugar de en formato de matriz.",
   "metadata": {
    "id": "uBacLmGIX0Es",
    "cell_id": "00013-96177e66-ef39-4bee-9382-ee7b56302864",
    "deepnote_cell_type": "markdown",
    "deepnote_cell_height": 122.78125
   }
  },
  {
   "cell_type": "code",
   "metadata": {
    "id": "2Tao7pom-grn",
    "cell_id": "00014-fa12a1f2-f5bf-4014-a947-f96a7869887a",
    "deepnote_to_be_reexecuted": false,
    "source_hash": "7900c680",
    "execution_start": 1652899799181,
    "deepnote_cell_type": "code",
    "deepnote_cell_height": 117
   },
   "source": "#Como cada imagen tiene 28x28 píxeles, usamos la función reshape en todo el dataset de entrenamiento para convertirlo \n# en vectores de tamaño [-1 (todos los elementos), anchura * altura]\nX_train = X_train.reshape(-1, 28*28)",
   "execution_count": null,
   "outputs": []
  },
  {
   "cell_type": "code",
   "metadata": {
    "colab": {
     "base_uri": "https://localhost:8080/",
     "height": 34
    },
    "id": "t9MbMrg9-kr_",
    "outputId": "a64ef84d-adbb-45f6-cc7b-e27aeab9c0ea",
    "cell_id": "00015-1982ffc0-02b5-4b58-a36a-52c0e00890b9",
    "deepnote_to_be_reexecuted": false,
    "source_hash": "38f368cd",
    "execution_start": 1652899799193,
    "deepnote_cell_type": "code",
    "deepnote_cell_height": 118.1875,
    "deepnote_output_heights": [
     21.1875
    ]
   },
   "source": "X_train.shape",
   "execution_count": null,
   "outputs": [
    {
     "output_type": "execute_result",
     "execution_count": 7,
     "data": {
      "text/plain": "(60000, 784)"
     },
     "metadata": {}
    }
   ]
  },
  {
   "cell_type": "code",
   "metadata": {
    "id": "Y_duQGtbCTTL",
    "cell_id": "00016-55018006-75a9-4609-a9a3-73173dad154e",
    "deepnote_to_be_reexecuted": false,
    "source_hash": "adb46bb4",
    "execution_start": 1652899799241,
    "execution_millis": 359,
    "deepnote_cell_type": "code",
    "deepnote_cell_height": 99
   },
   "source": "#Redimensionamos el conjunto de testing del mismo modo\nX_test = X_test.reshape(-1, 28*28)",
   "execution_count": null,
   "outputs": []
  },
  {
   "cell_type": "markdown",
   "source": "## Paso 4: Construir la Red Neuronal Artificial",
   "metadata": {
    "id": "x5aDsaYSYmXD",
    "cell_id": "00017-9b6f64bd-69a3-4915-a725-70ba42f201ec",
    "deepnote_cell_type": "markdown",
    "deepnote_cell_height": 70
   }
  },
  {
   "cell_type": "markdown",
   "source": "### Definir el modelo\n\nSimplemente se define un objeto de modelo Sequential.",
   "metadata": {
    "id": "l30aZ6-GYtUP",
    "cell_id": "00018-23b2b0d7-21d7-4aaa-9b32-fcb23402e3d7",
    "deepnote_cell_type": "markdown",
    "deepnote_cell_height": 100.390625
   }
  },
  {
   "cell_type": "code",
   "metadata": {
    "id": "xmfogzmn9kqv",
    "cell_id": "00019-6f9c5a46-4670-4cd7-80d4-f53908ac42b2",
    "deepnote_to_be_reexecuted": false,
    "source_hash": "99a1303a",
    "execution_start": 1652899799242,
    "execution_millis": 0,
    "deepnote_cell_type": "code",
    "deepnote_cell_height": 81
   },
   "source": "model = tf.keras.models.Sequential()",
   "execution_count": null,
   "outputs": []
  },
  {
   "cell_type": "markdown",
   "source": "### Añadir la primera capa totalmente conectada (capa Densa)\n\nHyper-parametros de la capa:\n- número de unidades/neuronas: 128\n- función de activación: ReLU\n- input_shape: (784, )",
   "metadata": {
    "id": "TNzLOAK5Y-mR",
    "cell_id": "00020-71edac9b-4531-4633-a1a0-f7d8fcdf69f0",
    "deepnote_cell_type": "markdown",
    "deepnote_cell_height": 201.5625
   }
  },
  {
   "cell_type": "code",
   "metadata": {
    "id": "GBsfDyGE-FX5",
    "cell_id": "00021-36e8abdf-c572-495e-8da6-09f780e22e31",
    "deepnote_to_be_reexecuted": false,
    "source_hash": "4f3d92e8",
    "execution_start": 1652899799242,
    "execution_millis": 47,
    "deepnote_cell_type": "code",
    "deepnote_cell_height": 81
   },
   "source": "model.add(tf.keras.layers.Dense(units=128, activation='relu', input_shape=(784, )))",
   "execution_count": null,
   "outputs": []
  },
  {
   "cell_type": "markdown",
   "source": "### Añadir una capa de Dropout \n\nDropout es una técnica de Regularization donde aleatoriamente se asignan a ciertas neuronas de la red el valor cero. De este modo, mientras se entrena, estas neuronas no actualizarán sus valores. Al tener cierto porcentaje de neuronas sin actualizar, el proceso de entrenamiento toma más tiempo pero por contra tenemos menos posibilidades de sufrir overfitting.",
   "metadata": {
    "id": "Vwqx1wZUa1rH",
    "cell_id": "00022-fafa1e93-d05f-4e60-a0d4-4afbd2439f0f",
    "deepnote_cell_type": "markdown",
    "deepnote_cell_height": 145.171875
   }
  },
  {
   "cell_type": "code",
   "metadata": {
    "id": "tAmpLPlr-pOX",
    "cell_id": "00023-3225dbd6-ea7d-473b-a2bb-bf4abfd21e16",
    "deepnote_to_be_reexecuted": false,
    "source_hash": "5ea21bcd",
    "execution_start": 1652899799290,
    "execution_millis": 0,
    "deepnote_cell_type": "code",
    "deepnote_cell_height": 81
   },
   "source": "model.add(tf.keras.layers.Dropout(0.2))",
   "execution_count": null,
   "outputs": []
  },
  {
   "cell_type": "markdown",
   "source": "### Añadir la segunda capa (capa de salida)\n\n- unidades: número de clases (10 en el caso del Fashion MNIST)\n- función de activación: 'softmax' (probabilidades de cada clase)",
   "metadata": {
    "id": "BGqvyDvNbzwN",
    "cell_id": "00024-ed475619-c5d1-4497-a6e3-b5fcbb969649",
    "deepnote_cell_type": "markdown",
    "deepnote_cell_height": 139.78125
   }
  },
  {
   "cell_type": "code",
   "metadata": {
    "id": "OmkUuF9Y-3mG",
    "cell_id": "00025-b71cbf7a-f39c-4322-8d07-24e422262d56",
    "deepnote_to_be_reexecuted": false,
    "source_hash": "bc1bae70",
    "execution_start": 1652899799291,
    "execution_millis": 1,
    "deepnote_cell_type": "code",
    "deepnote_cell_height": 81
   },
   "source": "model.add(tf.keras.layers.Dense(units=10, activation='softmax'))",
   "execution_count": null,
   "outputs": []
  },
  {
   "cell_type": "markdown",
   "source": "### Compilar el modelo\n\n- Optimizer: Adam\n- Loss: Sparse softmax (categorical) crossentropy ",
   "metadata": {
    "id": "2rRsMjsvcOua",
    "cell_id": "00026-54b20a89-b40e-4763-90df-7dea250e3a2d",
    "deepnote_cell_type": "markdown",
    "deepnote_cell_height": 139.78125
   }
  },
  {
   "cell_type": "code",
   "metadata": {
    "id": "nbW3xeRK_CrN",
    "cell_id": "00027-4d6caeec-1657-4c27-9729-40175be94227",
    "deepnote_to_be_reexecuted": false,
    "source_hash": "50bb1113",
    "execution_start": 1652899799346,
    "execution_millis": 0,
    "deepnote_cell_type": "code",
    "deepnote_cell_height": 81
   },
   "source": "model.compile(optimizer='adam', loss='sparse_categorical_crossentropy', metrics=['sparse_categorical_accuracy'])",
   "execution_count": null,
   "outputs": []
  },
  {
   "cell_type": "code",
   "metadata": {
    "colab": {
     "base_uri": "https://localhost:8080/",
     "height": 255
    },
    "id": "8dQOL_EtChrN",
    "outputId": "a839ebcc-3021-4b90-9598-3e4746c339fe",
    "cell_id": "00028-99fbce9d-da0d-4f0f-9adb-6e011bf16f38",
    "deepnote_to_be_reexecuted": false,
    "source_hash": "4e6a3b95",
    "execution_start": 1652899799347,
    "execution_millis": 284,
    "deepnote_cell_type": "code",
    "deepnote_cell_height": 394.8125
   },
   "source": "model.summary()",
   "execution_count": null,
   "outputs": [
    {
     "name": "stdout",
     "text": "Model: \"sequential\"\n_________________________________________________________________\n Layer (type)                Output Shape              Param #   \n=================================================================\n dense (Dense)               (None, 128)               100480    \n                                                                 \n dropout (Dropout)           (None, 128)               0         \n                                                                 \n dense_1 (Dense)             (None, 10)                1290      \n                                                                 \n=================================================================\nTotal params: 101,770\nTrainable params: 101,770\nNon-trainable params: 0\n_________________________________________________________________\n",
     "output_type": "stream"
    }
   ]
  },
  {
   "cell_type": "markdown",
   "source": "### Entrenar el modelo",
   "metadata": {
    "id": "9kxIIFU1cany",
    "cell_id": "00029-a416b96d-4e2a-4333-9b45-9580c91f7d22",
    "deepnote_cell_type": "markdown",
    "deepnote_cell_height": 62
   }
  },
  {
   "cell_type": "code",
   "metadata": {
    "colab": {
     "base_uri": "https://localhost:8080/",
     "height": 204
    },
    "id": "s-_oLiE0_3A2",
    "outputId": "71872c57-618f-42c1-ab22-2bedc29abcc8",
    "cell_id": "00030-98c1b730-4bdf-4630-8529-e1f06dedf98a",
    "deepnote_to_be_reexecuted": false,
    "source_hash": "1da8af97",
    "execution_start": 1652899799504,
    "execution_millis": 33302,
    "deepnote_cell_type": "code",
    "deepnote_cell_height": 346.0625,
    "deepnote_output_heights": [
     null,
     21.1875
    ]
   },
   "source": "model.fit(X_train, y_train, epochs=5)",
   "execution_count": null,
   "outputs": [
    {
     "name": "stdout",
     "text": "Epoch 1/5\n1875/1875 [==============================] - 7s 3ms/step - loss: 0.5302 - sparse_categorical_accuracy: 0.8124\nEpoch 2/5\n1875/1875 [==============================] - 7s 4ms/step - loss: 0.4005 - sparse_categorical_accuracy: 0.8533\nEpoch 3/5\n1875/1875 [==============================] - 7s 4ms/step - loss: 0.3655 - sparse_categorical_accuracy: 0.8686\nEpoch 4/5\n1875/1875 [==============================] - 6s 3ms/step - loss: 0.3451 - sparse_categorical_accuracy: 0.8742\nEpoch 5/5\n1875/1875 [==============================] - 6s 3ms/step - loss: 0.3319 - sparse_categorical_accuracy: 0.8772\n",
     "output_type": "stream"
    },
    {
     "output_type": "execute_result",
     "execution_count": 15,
     "data": {
      "text/plain": "<keras.callbacks.History at 0x7f4e70a80410>"
     },
     "metadata": {}
    }
   ]
  },
  {
   "cell_type": "markdown",
   "source": "### Evaluación del modelo y predicción",
   "metadata": {
    "id": "mj23nxmtcrhd",
    "cell_id": "00031-51c2b506-a404-4d78-9a11-fcf64d8f7017",
    "deepnote_cell_type": "markdown",
    "deepnote_cell_height": 62
   }
  },
  {
   "cell_type": "code",
   "metadata": {
    "colab": {
     "base_uri": "https://localhost:8080/",
     "height": 34
    },
    "id": "-nQCioOmAL7i",
    "outputId": "4e4abac6-7e3b-49db-b9bf-7fcf3267fd2c",
    "cell_id": "00032-33db2500-2914-4df7-a97c-c3c251dc4d27",
    "deepnote_to_be_reexecuted": false,
    "source_hash": "596b6e2f",
    "execution_start": 1652899832806,
    "execution_millis": 1493,
    "deepnote_cell_type": "code",
    "deepnote_cell_height": 112.1875
   },
   "source": "test_loss, test_accuracy = model.evaluate(X_test, y_test)",
   "execution_count": null,
   "outputs": [
    {
     "name": "stdout",
     "text": "313/313 [==============================] - 1s 2ms/step - loss: 0.3551 - sparse_categorical_accuracy: 0.8740\n",
     "output_type": "stream"
    }
   ]
  },
  {
   "cell_type": "code",
   "metadata": {
    "colab": {
     "base_uri": "https://localhost:8080/",
     "height": 34
    },
    "id": "Ozv2YVlxcx1h",
    "outputId": "5ec94881-fd81-4779-ad24-a1b3664ba96b",
    "cell_id": "00033-00080280-5e07-494d-a510-2d49d9d9afc0",
    "deepnote_to_be_reexecuted": false,
    "source_hash": "28865990",
    "execution_start": 1652899834309,
    "execution_millis": 2,
    "deepnote_cell_type": "code",
    "deepnote_cell_height": 112.1875
   },
   "source": "print(\"Test accuracy: {}\".format(test_accuracy))",
   "execution_count": null,
   "outputs": [
    {
     "name": "stdout",
     "text": "Test accuracy: 0.8740000128746033\n",
     "output_type": "stream"
    }
   ]
  },
  {
   "cell_type": "markdown",
   "source": "## Paso 5 : Guardar el modelo",
   "metadata": {
    "id": "Noi53-uq9yhl",
    "cell_id": "00034-e8037110-0889-473a-b780-2e9c265016bb",
    "deepnote_cell_type": "markdown",
    "deepnote_cell_height": 70
   }
  },
  {
   "cell_type": "markdown",
   "source": "### Guardar la arquitectura (topoligía) de la red neuronal",
   "metadata": {
    "id": "eMFm-Z9I99R5",
    "cell_id": "00035-cf9c1f29-f07b-4809-89b0-17b3b87faff6",
    "deepnote_cell_type": "markdown",
    "deepnote_cell_height": 62
   }
  },
  {
   "cell_type": "code",
   "metadata": {
    "id": "pT7pmXWO9xxM",
    "cell_id": "00036-0d15601e-db61-4a9a-9e00-17c6161c9d2e",
    "deepnote_to_be_reexecuted": false,
    "source_hash": "d781fa55",
    "execution_start": 1652899834324,
    "execution_millis": 701,
    "deepnote_cell_type": "code",
    "deepnote_cell_height": 117
   },
   "source": "model_json = model.to_json()\nwith open(\"fashion_model.json\", \"w\") as json_file:\n    json_file.write(model_json)",
   "execution_count": null,
   "outputs": []
  },
  {
   "cell_type": "markdown",
   "source": "### Guardar los pesos de la red neuronal",
   "metadata": {
    "id": "5UDk8L4A-CQX",
    "cell_id": "00037-73e962bc-d66d-4c0a-a72b-76c5a287b65a",
    "deepnote_cell_type": "markdown",
    "deepnote_cell_height": 62
   }
  },
  {
   "cell_type": "code",
   "metadata": {
    "id": "R0ZOVcC498Mp",
    "cell_id": "00038-e5625c7a-c731-4f20-b7af-527dec6f0860",
    "deepnote_to_be_reexecuted": false,
    "source_hash": "9be58e48",
    "execution_start": 1652899834343,
    "execution_millis": 17,
    "deepnote_cell_type": "code",
    "deepnote_cell_height": 81
   },
   "source": "model.save_weights(\"fashion_model.h5\")",
   "execution_count": null,
   "outputs": []
  },
  {
   "cell_type": "markdown",
   "source": "<a style='text-decoration:none;line-height:16px;display:flex;color:#5B5B62;padding:10px;justify-content:end;' href='https://deepnote.com?utm_source=created-in-deepnote-cell&projectId=837cf1af-c506-4091-b16c-c4a4c0575614' target=\"_blank\">\n<img alt='Created in deepnote.com' style='display:inline;max-height:16px;margin:0px;margin-right:7.5px;' src='data:image/svg+xml;base64,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' > </img>\nCreated in <span style='font-weight:600;margin-left:4px;'>Deepnote</span></a>",
   "metadata": {
    "tags": [],
    "created_in_deepnote_cell": true,
    "deepnote_cell_type": "markdown"
   }
  }
 ],
 "nbformat": 4,
 "nbformat_minor": 0,
 "metadata": {
  "accelerator": "GPU",
  "colab": {
   "collapsed_sections": [],
   "name": "Colab 3 - Crear una Red Neuronal Artificial en TensorFlow 2.0.ipynb",
   "provenance": []
  },
  "kernelspec": {
   "display_name": "Python 3",
   "language": "python",
   "name": "python3"
  },
  "language_info": {
   "codemirror_mode": {
    "name": "ipython",
    "version": 3
   },
   "file_extension": ".py",
   "mimetype": "text/x-python",
   "name": "python",
   "nbconvert_exporter": "python",
   "pygments_lexer": "ipython3",
   "version": "3.8.5"
  },
  "deepnote_notebook_id": "b1e1ee06-1a8b-4272-9cfa-aaa2413dbe4f",
  "deepnote": {},
  "deepnote_execution_queue": []
 }
}